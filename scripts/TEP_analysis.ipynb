{
 "cells": [
  {
   "attachments": {},
   "cell_type": "markdown",
   "metadata": {},
   "source": [
    "# TEP data analysis\n",
    "In this notebook, we'll analyze the TEP extraction data. First, I've reformatted the data into a csv file that is easier to work with. The data consists of 3 replicates of TEP concentration measurements at 4 different stations, measured every hour for the longest possible time period depending on the weather and storm conditions. \n",
    "\n",
    "From the three replicates, the final TEP concentration is calculated as\n",
    "\n",
    "$$TEP = (\\frac{TEP_{1} + TEP_{2} + TEP_{3}}{3} - TEP_{blank}) * 56440 * 0,1$$\n",
    "\n",
    "The blank that was taken at a given station is the first observation, and marked with _blank. Station 48 has no blank, so I added 0,1 as a blank value.\n"
   ]
  },
  {
   "cell_type": "code",
   "execution_count": 24,
   "metadata": {},
   "outputs": [],
   "source": [
    "# Load necessary libraries\n",
    "import pandas as pd\n",
    "import numpy as np\n",
    "import seaborn as sns\n",
    "import matplotlib.pyplot as plt\n",
    "import scipy.stats as sp"
   ]
  },
  {
   "attachments": {},
   "cell_type": "markdown",
   "metadata": {},
   "source": [
    "## Data pre-processing"
   ]
  },
  {
   "cell_type": "code",
   "execution_count": 25,
   "metadata": {},
   "outputs": [
    {
     "data": {
      "text/html": [
       "<div><div id=719b0cbc-4275-49eb-ab9d-6e8356e7648f style=\"display:none; background-color:#9D6CFF; color:white; width:200px; height:30px; padding-left:5px; border-radius:4px; flex-direction:row; justify-content:space-around; align-items:center;\" onmouseover=\"this.style.backgroundColor='#BA9BF8'\" onmouseout=\"this.style.backgroundColor='#9D6CFF'\" onclick=\"window.commands?.execute('create-mitosheet-from-dataframe-output');\">See Full Dataframe in Mito</div> <script> if (window.commands?.hasCommand('create-mitosheet-from-dataframe-output')) document.getElementById('719b0cbc-4275-49eb-ab9d-6e8356e7648f').style.display = 'flex' </script> <table border=\"1\" class=\"dataframe\">\n",
       "  <thead>\n",
       "    <tr style=\"text-align: right;\">\n",
       "      <th></th>\n",
       "      <th>date</th>\n",
       "      <th>time</th>\n",
       "      <th>station</th>\n",
       "      <th>TEP_1</th>\n",
       "      <th>TEP_2</th>\n",
       "      <th>TEP_3</th>\n",
       "    </tr>\n",
       "  </thead>\n",
       "  <tbody>\n",
       "    <tr>\n",
       "      <th>0</th>\n",
       "      <td>17-04-2023</td>\n",
       "      <td>13:00:00</td>\n",
       "      <td>W08_blank</td>\n",
       "      <td>0.087</td>\n",
       "      <td>0.113</td>\n",
       "      <td>0.129</td>\n",
       "    </tr>\n",
       "    <tr>\n",
       "      <th>1</th>\n",
       "      <td>17-04-2023</td>\n",
       "      <td>13:00:00</td>\n",
       "      <td>W08</td>\n",
       "      <td>0.260</td>\n",
       "      <td>0.262</td>\n",
       "      <td>0.262</td>\n",
       "    </tr>\n",
       "    <tr>\n",
       "      <th>2</th>\n",
       "      <td>17-04-2023</td>\n",
       "      <td>14:00</td>\n",
       "      <td>W08</td>\n",
       "      <td>0.131</td>\n",
       "      <td>0.181</td>\n",
       "      <td>0.190</td>\n",
       "    </tr>\n",
       "    <tr>\n",
       "      <th>3</th>\n",
       "      <td>17-04-2023</td>\n",
       "      <td>15:00:00</td>\n",
       "      <td>W08</td>\n",
       "      <td>0.141</td>\n",
       "      <td>0.193</td>\n",
       "      <td>0.220</td>\n",
       "    </tr>\n",
       "    <tr>\n",
       "      <th>4</th>\n",
       "      <td>17-04-2023</td>\n",
       "      <td>16:00</td>\n",
       "      <td>W08</td>\n",
       "      <td>0.123</td>\n",
       "      <td>0.146</td>\n",
       "      <td>0.208</td>\n",
       "    </tr>\n",
       "  </tbody>\n",
       "</table></div>"
      ],
      "text/plain": [
       "         date      time    station  TEP_1  TEP_2  TEP_3\n",
       "0  17-04-2023  13:00:00  W08_blank  0.087  0.113  0.129\n",
       "1  17-04-2023  13:00:00        W08  0.260  0.262  0.262\n",
       "2  17-04-2023     14:00        W08  0.131  0.181  0.190\n",
       "3  17-04-2023  15:00:00        W08  0.141  0.193  0.220\n",
       "4  17-04-2023     16:00        W08  0.123  0.146  0.208"
      ]
     },
     "execution_count": 25,
     "metadata": {},
     "output_type": "execute_result"
    }
   ],
   "source": [
    "data = pd.read_csv('../data/raw/TEP_data.csv', sep=';', decimal=',')\n",
    "data.head()"
   ]
  },
  {
   "cell_type": "code",
   "execution_count": 26,
   "metadata": {},
   "outputs": [],
   "source": [
    "def calculate_tep_concentration(tep_values, blank_avg, scale_factor=0.1):\n",
    "    \"\"\"\n",
    "    Calculate the TEP concentration from replicate measurements of a sample and the average blank value taken at that station.\n",
    "\n",
    "    Parameters:\n",
    "        tep_values (list or tuple): Replicate measurements of TEP for the sample.\n",
    "        blank_value (float): Mean of the replicate measurements of TEP for the blank.\n",
    "        scale_factor (float, optional): The scaling factor for the final result (default is 0.1).\n",
    "\n",
    "    Returns:\n",
    "        float: The calculated TEP concentration.\n",
    "    \"\"\"\n",
    "    # Calculate the average TEP values for sample and blank ignoring NaN values\n",
    "    tep_avg = np.nanmean(tep_values)\n",
    "    \n",
    "    tep_concentration = (tep_avg - blank_avg) * 56440 * scale_factor\n",
    "    return tep_concentration"
   ]
  },
  {
   "cell_type": "code",
   "execution_count": 27,
   "metadata": {},
   "outputs": [],
   "source": [
    "# Extract the station name from 'station' column and create a new dataframe 'station_blank'\n",
    "station_blank = data[data['station'].str.contains('blank')].copy()\n",
    "\n",
    "# Calculate the mean TEP value of the blank stations\n",
    "station_blank['TEP_avg'] = station_blank[['TEP_1', 'TEP_2', 'TEP_3']].mean(axis=1)\n",
    "\n",
    "# Split _blank from the station name\n",
    "station_blank['station'] = station_blank['station'].str.split('_blank').str[0]\n",
    "\n",
    "# Remove the blanks from the original dataframe\n",
    "data = data[~data['station'].str.contains('blank')]\n",
    "\n",
    "# Reset the index of the original dataframe\n",
    "data.reset_index(drop=True, inplace=True)"
   ]
  },
  {
   "cell_type": "code",
   "execution_count": 28,
   "metadata": {},
   "outputs": [],
   "source": [
    "# Loop over the samples and add the calculated TEP to the dataframe\n",
    "TEP = []\n",
    "for i in range(len(data)):\n",
    "    replicates = data.iloc[i][['TEP_1', 'TEP_2', 'TEP_3']].values\n",
    "    blank = station_blank[station_blank['station'] == data.iloc[i]['station']]['TEP_avg'].astype(float).values[0]\n",
    "    TEP.append(calculate_tep_concentration(tep_values = replicates, blank_avg = blank))\n",
    "    \n",
    "# Add the TEP values to the dataframe\n",
    "data['TEP'] = TEP"
   ]
  },
  {
   "cell_type": "code",
   "execution_count": 29,
   "metadata": {},
   "outputs": [],
   "source": [
    "# Merge date and time columns into one datetime column\n",
    "data['datetime'] = pd.to_datetime(data['date'] + ' ' + data['time'])"
   ]
  },
  {
   "cell_type": "code",
   "execution_count": 30,
   "metadata": {},
   "outputs": [
    {
     "data": {
      "text/html": [
       "<div><div id=84e20af7-791d-451f-a48b-3311de9c9d17 style=\"display:none; background-color:#9D6CFF; color:white; width:200px; height:30px; padding-left:5px; border-radius:4px; flex-direction:row; justify-content:space-around; align-items:center;\" onmouseover=\"this.style.backgroundColor='#BA9BF8'\" onmouseout=\"this.style.backgroundColor='#9D6CFF'\" onclick=\"window.commands?.execute('create-mitosheet-from-dataframe-output');\">See Full Dataframe in Mito</div> <script> if (window.commands?.hasCommand('create-mitosheet-from-dataframe-output')) document.getElementById('84e20af7-791d-451f-a48b-3311de9c9d17').style.display = 'flex' </script> <table border=\"1\" class=\"dataframe\">\n",
       "  <thead>\n",
       "    <tr style=\"text-align: right;\">\n",
       "      <th></th>\n",
       "      <th>date</th>\n",
       "      <th>time</th>\n",
       "      <th>station</th>\n",
       "      <th>TEP_1</th>\n",
       "      <th>TEP_2</th>\n",
       "      <th>TEP_3</th>\n",
       "      <th>TEP</th>\n",
       "      <th>datetime</th>\n",
       "    </tr>\n",
       "  </thead>\n",
       "  <tbody>\n",
       "    <tr>\n",
       "      <th>53</th>\n",
       "      <td>20-04-2023</td>\n",
       "      <td>21:00</td>\n",
       "      <td>130</td>\n",
       "      <td>0.607</td>\n",
       "      <td>0.481</td>\n",
       "      <td>0.544</td>\n",
       "      <td>2250.074667</td>\n",
       "      <td>2023-04-20 21:00:00</td>\n",
       "    </tr>\n",
       "    <tr>\n",
       "      <th>48</th>\n",
       "      <td>20-04-2023</td>\n",
       "      <td>16:00</td>\n",
       "      <td>130</td>\n",
       "      <td>0.417</td>\n",
       "      <td>0.904</td>\n",
       "      <td>0.234</td>\n",
       "      <td>2105.212000</td>\n",
       "      <td>2023-04-20 16:00:00</td>\n",
       "    </tr>\n",
       "    <tr>\n",
       "      <th>46</th>\n",
       "      <td>20-04-2023</td>\n",
       "      <td>14:00</td>\n",
       "      <td>130</td>\n",
       "      <td>0.551</td>\n",
       "      <td>0.505</td>\n",
       "      <td>0.299</td>\n",
       "      <td>1728.945333</td>\n",
       "      <td>2023-04-20 14:00:00</td>\n",
       "    </tr>\n",
       "    <tr>\n",
       "      <th>60</th>\n",
       "      <td>21-04-2023</td>\n",
       "      <td>04:00</td>\n",
       "      <td>130</td>\n",
       "      <td>0.558</td>\n",
       "      <td>0.425</td>\n",
       "      <td>0.303</td>\n",
       "      <td>1599.133333</td>\n",
       "      <td>2023-04-21 04:00:00</td>\n",
       "    </tr>\n",
       "    <tr>\n",
       "      <th>50</th>\n",
       "      <td>20-04-2023</td>\n",
       "      <td>18:00</td>\n",
       "      <td>130</td>\n",
       "      <td>0.386</td>\n",
       "      <td>0.485</td>\n",
       "      <td>0.343</td>\n",
       "      <td>1463.677333</td>\n",
       "      <td>2023-04-20 18:00:00</td>\n",
       "    </tr>\n",
       "    <tr>\n",
       "      <th>...</th>\n",
       "      <td>...</td>\n",
       "      <td>...</td>\n",
       "      <td>...</td>\n",
       "      <td>...</td>\n",
       "      <td>...</td>\n",
       "      <td>...</td>\n",
       "      <td>...</td>\n",
       "      <td>...</td>\n",
       "    </tr>\n",
       "    <tr>\n",
       "      <th>13</th>\n",
       "      <td>18-04-2023</td>\n",
       "      <td>14:00</td>\n",
       "      <td>51</td>\n",
       "      <td>0.159</td>\n",
       "      <td>0.122</td>\n",
       "      <td>0.176</td>\n",
       "      <td>167.438667</td>\n",
       "      <td>2023-04-18 14:00:00</td>\n",
       "    </tr>\n",
       "    <tr>\n",
       "      <th>19</th>\n",
       "      <td>18-04-2023</td>\n",
       "      <td>20:00</td>\n",
       "      <td>51</td>\n",
       "      <td>0.111</td>\n",
       "      <td>0.171</td>\n",
       "      <td>0.172</td>\n",
       "      <td>161.794667</td>\n",
       "      <td>2023-04-18 20:00:00</td>\n",
       "    </tr>\n",
       "    <tr>\n",
       "      <th>34</th>\n",
       "      <td>19-04-2023</td>\n",
       "      <td>14:00</td>\n",
       "      <td>48</td>\n",
       "      <td>0.111</td>\n",
       "      <td>0.142</td>\n",
       "      <td>NaN</td>\n",
       "      <td>149.566000</td>\n",
       "      <td>2023-04-19 14:00:00</td>\n",
       "    </tr>\n",
       "    <tr>\n",
       "      <th>22</th>\n",
       "      <td>18-04-2023</td>\n",
       "      <td>23:00</td>\n",
       "      <td>51</td>\n",
       "      <td>0.129</td>\n",
       "      <td>0.150</td>\n",
       "      <td>0.166</td>\n",
       "      <td>144.862667</td>\n",
       "      <td>2023-04-18 23:00:00</td>\n",
       "    </tr>\n",
       "    <tr>\n",
       "      <th>12</th>\n",
       "      <td>18-04-2023</td>\n",
       "      <td>13:00</td>\n",
       "      <td>51</td>\n",
       "      <td>0.102</td>\n",
       "      <td>0.117</td>\n",
       "      <td>0.184</td>\n",
       "      <td>65.846667</td>\n",
       "      <td>2023-04-18 13:00:00</td>\n",
       "    </tr>\n",
       "  </tbody>\n",
       "</table></div>"
      ],
      "text/plain": [
       "          date   time station  TEP_1  TEP_2  TEP_3          TEP  \\\n",
       "53  20-04-2023  21:00     130  0.607  0.481  0.544  2250.074667   \n",
       "48  20-04-2023  16:00     130  0.417  0.904  0.234  2105.212000   \n",
       "46  20-04-2023  14:00     130  0.551  0.505  0.299  1728.945333   \n",
       "60  21-04-2023  04:00     130  0.558  0.425  0.303  1599.133333   \n",
       "50  20-04-2023  18:00     130  0.386  0.485  0.343  1463.677333   \n",
       "..         ...    ...     ...    ...    ...    ...          ...   \n",
       "13  18-04-2023  14:00      51  0.159  0.122  0.176   167.438667   \n",
       "19  18-04-2023  20:00      51  0.111  0.171  0.172   161.794667   \n",
       "34  19-04-2023  14:00      48  0.111  0.142    NaN   149.566000   \n",
       "22  18-04-2023  23:00      51  0.129  0.150  0.166   144.862667   \n",
       "12  18-04-2023  13:00      51  0.102  0.117  0.184    65.846667   \n",
       "\n",
       "              datetime  \n",
       "53 2023-04-20 21:00:00  \n",
       "48 2023-04-20 16:00:00  \n",
       "46 2023-04-20 14:00:00  \n",
       "60 2023-04-21 04:00:00  \n",
       "50 2023-04-20 18:00:00  \n",
       "..                 ...  \n",
       "13 2023-04-18 14:00:00  \n",
       "19 2023-04-18 20:00:00  \n",
       "34 2023-04-19 14:00:00  \n",
       "22 2023-04-18 23:00:00  \n",
       "12 2023-04-18 13:00:00  \n",
       "\n",
       "[67 rows x 8 columns]"
      ]
     },
     "execution_count": 30,
     "metadata": {},
     "output_type": "execute_result"
    }
   ],
   "source": [
    "data.sort_values(by='TEP', ascending=False)"
   ]
  },
  {
   "attachments": {},
   "cell_type": "markdown",
   "metadata": {},
   "source": [
    "## Visualization"
   ]
  },
  {
   "cell_type": "code",
   "execution_count": 31,
   "metadata": {},
   "outputs": [
    {
     "data": {
      "image/png": "[encoded data removed]",
      "text/plain": [
       "<Figure size 864x360 with 1 Axes>"
      ]
     },
     "metadata": {
      "needs_background": "light"
     },
     "output_type": "display_data"
    }
   ],
   "source": [
    "# Plot the average TEP concentration over time, coloured per station\n",
    "## Initiate the plot\n",
    "fig, ax = plt.subplots(figsize=(12, 5))\n",
    "fig = sns.lineplot(x=\"datetime\", y=\"TEP\",\n",
    "             hue=\"station\",\n",
    "             data=data)\n",
    "\n",
    "# Adjust x axis labels\n",
    "ax.tick_params(axis='x', rotation=45)"
   ]
  },
  {
   "cell_type": "markdown",
   "metadata": {},
   "source": [
    "What is up with the data at station 130? Why these peaks and shifts? The variance is huge. Why?"
   ]
  },
  {
   "cell_type": "code",
   "execution_count": 32,
   "metadata": {},
   "outputs": [
    {
     "data": {
      "text/html": [
       "<div><div id=1e5ab631-e0e2-42ba-bb70-85efc66a5687 style=\"display:none; background-color:#9D6CFF; color:white; width:200px; height:30px; padding-left:5px; border-radius:4px; flex-direction:row; justify-content:space-around; align-items:center;\" onmouseover=\"this.style.backgroundColor='#BA9BF8'\" onmouseout=\"this.style.backgroundColor='#9D6CFF'\" onclick=\"window.commands?.execute('create-mitosheet-from-dataframe-output');\">See Full Dataframe in Mito</div> <script> if (window.commands?.hasCommand('create-mitosheet-from-dataframe-output')) document.getElementById('1e5ab631-e0e2-42ba-bb70-85efc66a5687').style.display = 'flex' </script> <table border=\"1\" class=\"dataframe\">\n",
       "  <thead>\n",
       "    <tr style=\"text-align: right;\">\n",
       "      <th></th>\n",
       "      <th>station</th>\n",
       "      <th>datetime</th>\n",
       "      <th>replicate</th>\n",
       "      <th>TEP</th>\n",
       "    </tr>\n",
       "  </thead>\n",
       "  <tbody>\n",
       "    <tr>\n",
       "      <th>0</th>\n",
       "      <td>W08</td>\n",
       "      <td>2023-04-17 13:00:00</td>\n",
       "      <td>TEP_1</td>\n",
       "      <td>0.260</td>\n",
       "    </tr>\n",
       "    <tr>\n",
       "      <th>1</th>\n",
       "      <td>W08</td>\n",
       "      <td>2023-04-17 14:00:00</td>\n",
       "      <td>TEP_1</td>\n",
       "      <td>0.131</td>\n",
       "    </tr>\n",
       "    <tr>\n",
       "      <th>2</th>\n",
       "      <td>W08</td>\n",
       "      <td>2023-04-17 15:00:00</td>\n",
       "      <td>TEP_1</td>\n",
       "      <td>0.141</td>\n",
       "    </tr>\n",
       "    <tr>\n",
       "      <th>3</th>\n",
       "      <td>W08</td>\n",
       "      <td>2023-04-17 16:00:00</td>\n",
       "      <td>TEP_1</td>\n",
       "      <td>0.123</td>\n",
       "    </tr>\n",
       "    <tr>\n",
       "      <th>4</th>\n",
       "      <td>W08</td>\n",
       "      <td>2023-04-17 17:00:00</td>\n",
       "      <td>TEP_1</td>\n",
       "      <td>0.136</td>\n",
       "    </tr>\n",
       "  </tbody>\n",
       "</table></div>"
      ],
      "text/plain": [
       "  station            datetime replicate    TEP\n",
       "0     W08 2023-04-17 13:00:00     TEP_1  0.260\n",
       "1     W08 2023-04-17 14:00:00     TEP_1  0.131\n",
       "2     W08 2023-04-17 15:00:00     TEP_1  0.141\n",
       "3     W08 2023-04-17 16:00:00     TEP_1  0.123\n",
       "4     W08 2023-04-17 17:00:00     TEP_1  0.136"
      ]
     },
     "execution_count": 32,
     "metadata": {},
     "output_type": "execute_result"
    }
   ],
   "source": [
    "# Plot the replicate TEP measurements per station, in 4 different plots. \n",
    "## Restructure the data, melt from wide to long format, with the columns: station, datetime, replicate, TEP\n",
    "data_2 = data[['station', 'datetime', 'TEP_1', 'TEP_2', 'TEP_3']]\n",
    "data_2 = data_2.melt(id_vars=['station', 'datetime'], value_vars=['TEP_1', 'TEP_2', 'TEP_3'], var_name='replicate', value_name='TEP')\n",
    "data_2.head()"
   ]
  },
  {
   "cell_type": "code",
   "execution_count": 33,
   "metadata": {},
   "outputs": [],
   "source": [
    "# Divide the data into 4 dataframes, one for each station\n",
    "df_130 = data_2[data_2['station'] == '130']\n",
    "df_48 = data_2[data_2['station'] == '48']\n",
    "df_51 = data_2[data_2['station'] == '51']\n",
    "df_W08 = data_2[data_2['station'] == 'W08']"
   ]
  },
  {
   "cell_type": "code",
   "execution_count": 44,
   "metadata": {},
   "outputs": [
    {
     "data": {
      "text/plain": [
       "(0.0, 1.0)"
      ]
     },
     "execution_count": 44,
     "metadata": {},
     "output_type": "execute_result"
    },
    {
     "data": {
      "image/png": "[encoded data removed]",
      "text/plain": [
       "<Figure size 504x360 with 1 Axes>"
      ]
     },
     "metadata": {
      "needs_background": "light"
     },
     "output_type": "display_data"
    }
   ],
   "source": [
    "fig, ax = plt.subplots(figsize=(7, 5))\n",
    "\n",
    "fig = sns.scatterplot(y='TEP', x='datetime', hue='replicate',\n",
    "                      data=df_130)\n",
    "\n",
    "# Adjust x axis labels\n",
    "ax.tick_params(axis='x', rotation=45)\n",
    "\n",
    "# Set y axis limits\n",
    "ax.set_ylim(0, 1)"
   ]
  },
  {
   "cell_type": "markdown",
   "metadata": {},
   "source": [
    "Ok. It looks like there's some outliers to this data, which are exaggerated after using the formula. Before calculation, let's do an outlier test and remove those samples."
   ]
  },
  {
   "cell_type": "code",
   "execution_count": 37,
   "metadata": {},
   "outputs": [
    {
     "name": "stderr",
     "output_type": "stream",
     "text": [
      "/opt/homebrew/lib/python3.9/site-packages/seaborn/distributions.py:2619: FutureWarning: `distplot` is a deprecated function and will be removed in a future version. Please adapt your code to use either `displot` (a figure-level function with similar flexibility) or `histplot` (an axes-level function for histograms).\n",
      "  warnings.warn(msg, FutureWarning)\n"
     ]
    },
    {
     "data": {
      "image/png": "[encoded data removed]",
      "text/plain": [
       "<Figure size 504x360 with 1 Axes>"
      ]
     },
     "metadata": {
      "needs_background": "light"
     },
     "output_type": "display_data"
    }
   ],
   "source": [
    "# Plot the distribution of the TEP values\n",
    "fig, ax = plt.subplots(figsize=(7, 5))\n",
    "fig = sns.distplot(data_2['TEP'], bins=100, kde=False, ax=ax)"
   ]
  }
 ],
 "metadata": {
  "kernelspec": {
   "display_name": "Python 3",
   "language": "python",
   "name": "python3"
  },
  "language_info": {
   "codemirror_mode": {
    "name": "ipython",
    "version": 3
   },
   "file_extension": ".py",
   "mimetype": "text/x-python",
   "name": "python",
   "nbconvert_exporter": "python",
   "pygments_lexer": "ipython3",
   "version": "3.9.12"
  },
  "orig_nbformat": 4
 },
 "nbformat": 4,
 "nbformat_minor": 2
}
