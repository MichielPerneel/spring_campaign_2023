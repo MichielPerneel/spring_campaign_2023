{
 "cells": [
  {
   "cell_type": "code",
   "execution_count": 3,
   "metadata": {},
   "outputs": [],
   "source": [
    "import os\n",
    "import pandas as pd\n",
    "import plotly.express as px\n",
    "from tqdm import tqdm"
   ]
  },
  {
   "cell_type": "markdown",
   "metadata": {},
   "source": [
    "## Data Preparation"
   ]
  },
  {
   "cell_type": "code",
   "execution_count": 4,
   "metadata": {},
   "outputs": [
    {
     "name": "stdout",
     "output_type": "stream",
     "text": [
      "The merged annotation and taxonomy file for station 130 contains 768693 rows\n",
      "The merged annotation and taxonomy file for station 51 contains 239786 rows\n"
     ]
    }
   ],
   "source": [
    "# Load eukprot taxonomy with only necessary columns\n",
    "taxonomy_cols = ['EukProt_ID', 'Name_to_Use', 'Taxogroup2_UniEuk', 'Genus_UniEuk']  # Adjust columns as necessary\n",
    "eukprot_taxonomy = pd.read_table('../data/annotation/taxonomy_eukprot/EukProt_included_data_sets.v03.2021_11_22.txt', usecols=taxonomy_cols)\n",
    "eukprot_taxonomy['Name_to_Use'] = eukprot_taxonomy['Name_to_Use'].str.replace('_', ' ')\n",
    "\n",
    "# Load eukprot annotations for station 130\n",
    "eukprot_annotation_cols = ['query_id', 'target_id', 'p_ident', 'alnlen', 'mismatch',\n",
    "                           'gapopen', 'qstart', 'qend', 'tstart', 'tend', 'evalue', 'bits']\n",
    "eukprot_annotation_130 = pd.read_table('../data/annotation/taxonomy_eukprot/130/eukprot_annotation.m8',\n",
    "                                   header=None, names=eukprot_annotation_cols)\n",
    "\n",
    "# Fix transcript names efficiently\n",
    "eukprot_annotation_130['query_id'] = eukprot_annotation_130['query_id'].str.split(\".\", n=1, expand=True)[0]\n",
    "eukprot_annotation_130['target_id'] = eukprot_annotation_130['target_id'].str.split(\"_\", n=1, expand=True)[0]\n",
    "\n",
    "# Merge annotation and taxonomy\n",
    "eukprot_annotation_130 = eukprot_annotation_130.merge(eukprot_taxonomy, left_on='target_id', right_on='EukProt_ID', how='left')\n",
    "print(f'The merged annotation and taxonomy file for station 130 contains {len(eukprot_annotation_130)} rows')\n",
    "\n",
    "# Load eukprot annotations for station 51\n",
    "eukprot_annotation_51 = pd.read_table('../data/annotation/taxonomy_eukprot/51/eukprot_annotation.m8',\n",
    "                                   header=None, names=eukprot_annotation_cols)\n",
    "\n",
    "# Fix transcript names efficiently\n",
    "eukprot_annotation_51['query_id'] = eukprot_annotation_51['query_id'].str.split(\".\", n=1, expand=True)[0]\n",
    "eukprot_annotation_51['target_id'] = eukprot_annotation_51['target_id'].str.split(\"_\", n=1, expand=True)[0]\n",
    "\n",
    "# Merge annotation and taxonomy\n",
    "eukprot_annotation_51 = eukprot_annotation_51.merge(eukprot_taxonomy, left_on='target_id', right_on='EukProt_ID', how='left')\n",
    "print(f'The merged annotation and taxonomy file for station 51 contains {len(eukprot_annotation_51)} rows')"
   ]
  },
  {
   "cell_type": "code",
   "execution_count": 5,
   "metadata": {},
   "outputs": [
    {
     "data": {
      "text/html": [
       "<div>\n",
       "<style scoped>\n",
       "    .dataframe tbody tr th:only-of-type {\n",
       "        vertical-align: middle;\n",
       "    }\n",
       "\n",
       "    .dataframe tbody tr th {\n",
       "        vertical-align: top;\n",
       "    }\n",
       "\n",
       "    .dataframe thead th {\n",
       "        text-align: right;\n",
       "    }\n",
       "</style>\n",
       "<table border=\"1\" class=\"dataframe\">\n",
       "  <thead>\n",
       "    <tr style=\"text-align: right;\">\n",
       "      <th></th>\n",
       "      <th>sample_name</th>\n",
       "      <th>date</th>\n",
       "      <th>time</th>\n",
       "      <th>station</th>\n",
       "      <th>SW filtered (L)</th>\n",
       "      <th>Eluate volume (mL)</th>\n",
       "      <th>RNA extraction volume (mL)</th>\n",
       "      <th>datetime</th>\n",
       "    </tr>\n",
       "  </thead>\n",
       "  <tbody>\n",
       "    <tr>\n",
       "      <th>0</th>\n",
       "      <td>51_1</td>\n",
       "      <td>2023-04-18</td>\n",
       "      <td>13:00:00</td>\n",
       "      <td>51</td>\n",
       "      <td>50</td>\n",
       "      <td>9.0</td>\n",
       "      <td>4.0</td>\n",
       "      <td>2023-04-18 13:00:00</td>\n",
       "    </tr>\n",
       "    <tr>\n",
       "      <th>1</th>\n",
       "      <td>51_2</td>\n",
       "      <td>2023-04-18</td>\n",
       "      <td>14:00:00</td>\n",
       "      <td>51</td>\n",
       "      <td>50</td>\n",
       "      <td>8.0</td>\n",
       "      <td>4.0</td>\n",
       "      <td>2023-04-18 14:00:00</td>\n",
       "    </tr>\n",
       "    <tr>\n",
       "      <th>2</th>\n",
       "      <td>51_3</td>\n",
       "      <td>2023-04-18</td>\n",
       "      <td>15:00:00</td>\n",
       "      <td>51</td>\n",
       "      <td>50</td>\n",
       "      <td>8.0</td>\n",
       "      <td>4.0</td>\n",
       "      <td>2023-04-18 15:00:00</td>\n",
       "    </tr>\n",
       "    <tr>\n",
       "      <th>3</th>\n",
       "      <td>51_4</td>\n",
       "      <td>2023-04-18</td>\n",
       "      <td>16:00:00</td>\n",
       "      <td>51</td>\n",
       "      <td>50</td>\n",
       "      <td>7.0</td>\n",
       "      <td>3.0</td>\n",
       "      <td>2023-04-18 16:00:00</td>\n",
       "    </tr>\n",
       "    <tr>\n",
       "      <th>4</th>\n",
       "      <td>51_5</td>\n",
       "      <td>2023-04-18</td>\n",
       "      <td>17:00:00</td>\n",
       "      <td>51</td>\n",
       "      <td>50</td>\n",
       "      <td>7.0</td>\n",
       "      <td>3.0</td>\n",
       "      <td>2023-04-18 17:00:00</td>\n",
       "    </tr>\n",
       "  </tbody>\n",
       "</table>\n",
       "</div>"
      ],
      "text/plain": [
       "  sample_name        date      time  station  SW filtered (L)  \\\n",
       "0        51_1  2023-04-18  13:00:00       51               50   \n",
       "1        51_2  2023-04-18  14:00:00       51               50   \n",
       "2        51_3  2023-04-18  15:00:00       51               50   \n",
       "3        51_4  2023-04-18  16:00:00       51               50   \n",
       "4        51_5  2023-04-18  17:00:00       51               50   \n",
       "\n",
       "   Eluate volume (mL)  RNA extraction volume (mL)            datetime  \n",
       "0                 9.0                         4.0 2023-04-18 13:00:00  \n",
       "1                 8.0                         4.0 2023-04-18 14:00:00  \n",
       "2                 8.0                         4.0 2023-04-18 15:00:00  \n",
       "3                 7.0                         3.0 2023-04-18 16:00:00  \n",
       "4                 7.0                         3.0 2023-04-18 17:00:00  "
      ]
     },
     "execution_count": 5,
     "metadata": {},
     "output_type": "execute_result"
    }
   ],
   "source": [
    "# Load sample metadata\n",
    "meta = pd.read_excel('../data/samples.xlsx')\n",
    "\n",
    "# Convert date and time columns to string\n",
    "meta['date'] = meta['date'].astype(str)\n",
    "meta['time'] = meta['time'].astype(str)\n",
    "\n",
    "# Create a datetime column from the date and time columns\n",
    "meta['datetime'] = pd.to_datetime(meta['date'] + ' ' + meta['time'], format='%Y-%m-%d %H:%M:%S')\n",
    "\n",
    "meta.head()"
   ]
  },
  {
   "cell_type": "code",
   "execution_count": 6,
   "metadata": {},
   "outputs": [],
   "source": [
    "# Load tpm data\n",
    "tpm_130 = pd.read_csv('../data/quantification/130_tpm.csv')\n",
    "tpm_130.rename(columns={'target_id': 'transcript_id'}, inplace=True)\n",
    "tpm_130.set_index('transcript_id', inplace=True)\n",
    "\n",
    "# Optional: Remove rows with row sums < 1\n",
    "tpm_130 = tpm_130[tpm_130.sum(axis=1) >= 1].reset_index()\n",
    "tpm_130 = tpm_130.melt(id_vars=['transcript_id'], var_name='sample', value_name='TPM')\n",
    "tpm_130['sample'] = tpm_130['sample'].astype('category')\n",
    "tpm_130['TPM'] = tpm_130['TPM'].astype('float32')"
   ]
  },
  {
   "cell_type": "code",
   "execution_count": 7,
   "metadata": {},
   "outputs": [],
   "source": [
    "# Load tpm data\n",
    "tpm_51 = pd.read_csv('../data/quantification/51_tpm.csv')\n",
    "tpm_51.rename(columns={'target_id': 'transcript_id'}, inplace=True)\n",
    "tpm_51.set_index('transcript_id', inplace=True)\n",
    "\n",
    "# Optional: Remove rows with row sums < 1\n",
    "tpm_51 = tpm_51[tpm_51.sum(axis=1) >= 1].reset_index()\n",
    "tpm_51 = tpm_51.melt(id_vars=['transcript_id'], var_name='sample', value_name='TPM')\n",
    "tpm_51['sample'] = tpm_51['sample'].astype('category')\n",
    "tpm_51['TPM'] = tpm_51['TPM'].astype('float32')"
   ]
  },
  {
   "cell_type": "code",
   "execution_count": 8,
   "metadata": {},
   "outputs": [],
   "source": [
    "# Merge tpm into annotation\n",
    "data_130 = eukprot_annotation_130.merge(tpm_130, left_on='query_id', right_on='transcript_id', how='left').drop(columns=['query_id'])\n",
    "# Remove tpm and annotation from memory\n",
    "#del tpm, eukprot_annotation\n",
    "\n",
    "data_130 = data_130.merge(meta, left_on='sample', right_on='sample_name', how='left')\n",
    "data_130.drop(columns='sample_name', inplace=True)\n",
    "\n",
    "# Merge tpm into annotation\n",
    "data_51 = eukprot_annotation_51.merge(tpm_51, left_on='query_id', right_on='transcript_id', how='left').drop(columns=['query_id'])\n",
    "# Remove tpm and annotation from memory\n",
    "#del tpm, eukprot_annotation\n",
    "\n",
    "data_51 = data_51.merge(meta, left_on='sample', right_on='sample_name', how='left')\n",
    "data_51.drop(columns='sample_name', inplace=True)"
   ]
  },
  {
   "cell_type": "markdown",
   "metadata": {},
   "source": [
    "## Taxonomic turnover"
   ]
  },
  {
   "cell_type": "markdown",
   "metadata": {},
   "source": [
    "### Taxonomic Classes"
   ]
  },
  {
   "cell_type": "code",
   "execution_count": null,
   "metadata": {},
   "outputs": [],
   "source": [
    "# Original color mapping\n",
    "color_discrete_map = {\n",
    "    \"Rare\": \"#545454\",\n",
    "    \"core-Noctilucales\": \"#56B4E8\",\n",
    "    'Odontella': \"#C44601\",\n",
    "    'Prymnesiophyceae': \"#009E73\",\n",
    "    \"Diatomeae\": \"#E69F00\",\n",
    "    \"Dinophyceae\": \"#56B4E9\",\n",
    "    \"Spirotrichea\": \"#F0E442\",\n",
    "    \"Arthropoda\": \"#0072B2\",\n",
    "    \"Ctenophora\": \"#ADA7A7\",\n",
    "    \"Vertebrata\": \"#FF5349\",\n",
    "    \"Phaeodarea\": \"#D55E00\",\n",
    "    \"Florideophyceae\": \"#CC79A7\",\n",
    "    \"Acantharea\": \"#719A10\",\n",
    "}"
   ]
  },
  {
   "cell_type": "code",
   "execution_count": 42,
   "metadata": {},
   "outputs": [
    {
     "name": "stderr",
     "output_type": "stream",
     "text": [
      "/Users/michiel/miniconda3/envs/spring_campaign_2023/lib/python3.12/site-packages/_plotly_utils/basevalidators.py:106: FutureWarning:\n",
      "\n",
      "The behavior of DatetimeProperties.to_pydatetime is deprecated, in a future version this will return a Series containing python datetime objects instead of an ndarray. To retain the old behavior, call `np.array` on the result\n",
      "\n"
     ]
    },
    {
     "data": {
      "application/vnd.plotly.v1+json": {
       "config": {
        "plotlyServerURL": "https://plot.ly"
       },
       "data": [
        {
         "alignmentgroup": "True",
         "hovertemplate": "Taxogroup2_UniEuk=Arthropoda<br>datetime=%{x}<br>rel_expression_per_hour=%{y}<extra></extra>",
         "legendgroup": "Arthropoda",
         "marker": {
          "color": "#0072B2",
          "pattern": {
           "shape": ""
          }
         },
         "name": "Arthropoda",
         "offsetgroup": "Arthropoda",
         "orientation": "v",
         "showlegend": true,
         "textposition": "auto",
         "type": "bar",
         "x": [
          "2023-04-21T03:00:00",
          "2023-04-21T07:00:00"
         ],
         "xaxis": "x",
         "y": [
          0.07581686228513718,
          0.07014869153499603
         ],
         "yaxis": "y"
        },
        {
         "alignmentgroup": "True",
         "hovertemplate": "Taxogroup2_UniEuk=Diatomeae<br>datetime=%{x}<br>rel_expression_per_hour=%{y}<extra></extra>",
         "legendgroup": "Diatomeae",
         "marker": {
          "color": "#E69F00",
          "pattern": {
           "shape": ""
          }
         },
         "name": "Diatomeae",
         "offsetgroup": "Diatomeae",
         "orientation": "v",
         "showlegend": true,
         "textposition": "auto",
         "type": "bar",
         "x": [
          "2023-04-20T11:00:00",
          "2023-04-21T00:00:00",
          "2023-04-21T01:00:00",
          "2023-04-21T05:00:00",
          "2023-04-21T09:00:00",
          "2023-04-21T10:00:00"
         ],
         "xaxis": "x",
         "y": [
          0.05444328859448433,
          0.30003154277801514,
          0.7711571455001831,
          0.37710464000701904,
          0.5801383852958679,
          0.7722864151000977
         ],
         "yaxis": "y"
        },
        {
         "alignmentgroup": "True",
         "hovertemplate": "Taxogroup2_UniEuk=Dinophyceae<br>datetime=%{x}<br>rel_expression_per_hour=%{y}<extra></extra>",
         "legendgroup": "Dinophyceae",
         "marker": {
          "color": "#56B4E9",
          "pattern": {
           "shape": ""
          }
         },
         "name": "Dinophyceae",
         "offsetgroup": "Dinophyceae",
         "orientation": "v",
         "showlegend": true,
         "textposition": "auto",
         "type": "bar",
         "x": [
          "2023-04-20T13:00:00",
          "2023-04-20T14:00:00",
          "2023-04-20T18:00:00",
          "2023-04-20T19:00:00",
          "2023-04-20T22:00:00",
          "2023-04-20T23:00:00",
          "2023-04-21T00:00:00",
          "2023-04-21T01:00:00",
          "2023-04-21T02:00:00",
          "2023-04-21T03:00:00",
          "2023-04-21T04:00:00",
          "2023-04-21T05:00:00",
          "2023-04-21T06:00:00",
          "2023-04-21T07:00:00",
          "2023-04-21T08:00:00",
          "2023-04-21T09:00:00",
          "2023-04-21T10:00:00"
         ],
         "xaxis": "x",
         "y": [
          0.08114828914403915,
          0.054170046001672745,
          0.05322413891553879,
          0.060991913080215454,
          0.08831179141998291,
          0.2839660942554474,
          0.5810492634773254,
          0.09980851411819458,
          0.09525830298662186,
          0.09844239056110382,
          0.053592782467603683,
          0.48042210936546326,
          0.10532169044017792,
          0.15263308584690094,
          0.07320541888475418,
          0.26212531328201294,
          0.12448546290397644
         ],
         "yaxis": "y"
        },
        {
         "alignmentgroup": "True",
         "hovertemplate": "Taxogroup2_UniEuk=Prymnesiophyceae<br>datetime=%{x}<br>rel_expression_per_hour=%{y}<extra></extra>",
         "legendgroup": "Prymnesiophyceae",
         "marker": {
          "color": "#009E73",
          "pattern": {
           "shape": ""
          }
         },
         "name": "Prymnesiophyceae",
         "offsetgroup": "Prymnesiophyceae",
         "orientation": "v",
         "showlegend": true,
         "textposition": "auto",
         "type": "bar",
         "x": [
          "2023-04-20T10:00:00",
          "2023-04-20T11:00:00",
          "2023-04-20T12:00:00",
          "2023-04-20T13:00:00",
          "2023-04-20T14:00:00",
          "2023-04-20T15:00:00",
          "2023-04-20T16:00:00",
          "2023-04-20T17:00:00",
          "2023-04-20T18:00:00",
          "2023-04-20T19:00:00",
          "2023-04-20T20:00:00",
          "2023-04-20T21:00:00",
          "2023-04-20T22:00:00",
          "2023-04-20T23:00:00",
          "2023-04-21T02:00:00",
          "2023-04-21T03:00:00",
          "2023-04-21T04:00:00",
          "2023-04-21T06:00:00",
          "2023-04-21T07:00:00",
          "2023-04-21T08:00:00"
         ],
         "xaxis": "x",
         "y": [
          0.8929194808006287,
          0.7590839266777039,
          0.794942319393158,
          0.7195386290550232,
          0.8223681449890137,
          0.941031813621521,
          0.9166561365127563,
          0.9100282192230225,
          0.8387957811355591,
          0.848250687122345,
          0.8852306008338928,
          0.9385606050491333,
          0.754879891872406,
          0.5520142912864685,
          0.7261545062065125,
          0.674720823764801,
          0.8682027459144592,
          0.6811931133270264,
          0.5335155725479126,
          0.7637000679969788
         ],
         "yaxis": "y"
        },
        {
         "alignmentgroup": "True",
         "hovertemplate": "Taxogroup2_UniEuk=Rare<br>datetime=%{x}<br>rel_expression_per_hour=%{y}<extra></extra>",
         "legendgroup": "Rare",
         "marker": {
          "color": "#545454",
          "pattern": {
           "shape": ""
          }
         },
         "name": "Rare",
         "offsetgroup": "Rare",
         "orientation": "v",
         "showlegend": true,
         "textposition": "auto",
         "type": "bar",
         "x": [
          "2023-04-20T10:00:00",
          "2023-04-20T11:00:00",
          "2023-04-20T12:00:00",
          "2023-04-20T13:00:00",
          "2023-04-20T14:00:00",
          "2023-04-20T15:00:00",
          "2023-04-20T16:00:00",
          "2023-04-20T17:00:00",
          "2023-04-20T18:00:00",
          "2023-04-20T19:00:00",
          "2023-04-20T20:00:00",
          "2023-04-20T21:00:00",
          "2023-04-20T22:00:00",
          "2023-04-20T23:00:00",
          "2023-04-21T00:00:00",
          "2023-04-21T01:00:00",
          "2023-04-21T02:00:00",
          "2023-04-21T03:00:00",
          "2023-04-21T04:00:00",
          "2023-04-21T05:00:00",
          "2023-04-21T06:00:00",
          "2023-04-21T07:00:00",
          "2023-04-21T08:00:00",
          "2023-04-21T09:00:00",
          "2023-04-21T10:00:00"
         ],
         "xaxis": "x",
         "y": [
          0.10708056390285492,
          0.18647277355194092,
          0.20505774021148682,
          0.19931308925151825,
          0.12346185743808746,
          0.05896823853254318,
          0.08334384113550186,
          0.08997171372175217,
          0.10798006504774094,
          0.09075748920440674,
          0.11476942151784897,
          0.061439398676157,
          0.1568082869052887,
          0.1640196442604065,
          0.11891916394233704,
          0.12903429567813873,
          0.17858725786209106,
          0.15101991593837738,
          0.0782044529914856,
          0.1424732655286789,
          0.21348519623279572,
          0.24370265007019043,
          0.16309453547000885,
          0.15773634612560272,
          0.1032281219959259
         ],
         "yaxis": "y"
        }
       ],
       "layout": {
        "barmode": "relative",
        "height": 400,
        "legend": {
         "title": {
          "text": "Taxonomic Group"
         },
         "tracegroupgap": 0
        },
        "template": {
         "data": {
          "bar": [
           {
            "error_x": {
             "color": "#2a3f5f"
            },
            "error_y": {
             "color": "#2a3f5f"
            },
            "marker": {
             "line": {
              "color": "#E5ECF6",
              "width": 0.5
             },
             "pattern": {
              "fillmode": "overlay",
              "size": 10,
              "solidity": 0.2
             }
            },
            "type": "bar"
           }
          ],
          "barpolar": [
           {
            "marker": {
             "line": {
              "color": "#E5ECF6",
              "width": 0.5
             },
             "pattern": {
              "fillmode": "overlay",
              "size": 10,
              "solidity": 0.2
             }
            },
            "type": "barpolar"
           }
          ],
          "carpet": [
           {
            "aaxis": {
             "endlinecolor": "#2a3f5f",
             "gridcolor": "white",
             "linecolor": "white",
             "minorgridcolor": "white",
             "startlinecolor": "#2a3f5f"
            },
            "baxis": {
             "endlinecolor": "#2a3f5f",
             "gridcolor": "white",
             "linecolor": "white",
             "minorgridcolor": "white",
             "startlinecolor": "#2a3f5f"
            },
            "type": "carpet"
           }
          ],
          "choropleth": [
           {
            "colorbar": {
             "outlinewidth": 0,
             "ticks": ""
            },
            "type": "choropleth"
           }
          ],
          "contour": [
           {
            "colorbar": {
             "outlinewidth": 0,
             "ticks": ""
            },
            "colorscale": [
             [
              0,
              "#0d0887"
             ],
             [
              0.1111111111111111,
              "#46039f"
             ],
             [
              0.2222222222222222,
              "#7201a8"
             ],
             [
              0.3333333333333333,
              "#9c179e"
             ],
             [
              0.4444444444444444,
              "#bd3786"
             ],
             [
              0.5555555555555556,
              "#d8576b"
             ],
             [
              0.6666666666666666,
              "#ed7953"
             ],
             [
              0.7777777777777778,
              "#fb9f3a"
             ],
             [
              0.8888888888888888,
              "#fdca26"
             ],
             [
              1,
              "#f0f921"
             ]
            ],
            "type": "contour"
           }
          ],
          "contourcarpet": [
           {
            "colorbar": {
             "outlinewidth": 0,
             "ticks": ""
            },
            "type": "contourcarpet"
           }
          ],
          "heatmap": [
           {
            "colorbar": {
             "outlinewidth": 0,
             "ticks": ""
            },
            "colorscale": [
             [
              0,
              "#0d0887"
             ],
             [
              0.1111111111111111,
              "#46039f"
             ],
             [
              0.2222222222222222,
              "#7201a8"
             ],
             [
              0.3333333333333333,
              "#9c179e"
             ],
             [
              0.4444444444444444,
              "#bd3786"
             ],
             [
              0.5555555555555556,
              "#d8576b"
             ],
             [
              0.6666666666666666,
              "#ed7953"
             ],
             [
              0.7777777777777778,
              "#fb9f3a"
             ],
             [
              0.8888888888888888,
              "#fdca26"
             ],
             [
              1,
              "#f0f921"
             ]
            ],
            "type": "heatmap"
           }
          ],
          "heatmapgl": [
           {
            "colorbar": {
             "outlinewidth": 0,
             "ticks": ""
            },
            "colorscale": [
             [
              0,
              "#0d0887"
             ],
             [
              0.1111111111111111,
              "#46039f"
             ],
             [
              0.2222222222222222,
              "#7201a8"
             ],
             [
              0.3333333333333333,
              "#9c179e"
             ],
             [
              0.4444444444444444,
              "#bd3786"
             ],
             [
              0.5555555555555556,
              "#d8576b"
             ],
             [
              0.6666666666666666,
              "#ed7953"
             ],
             [
              0.7777777777777778,
              "#fb9f3a"
             ],
             [
              0.8888888888888888,
              "#fdca26"
             ],
             [
              1,
              "#f0f921"
             ]
            ],
            "type": "heatmapgl"
           }
          ],
          "histogram": [
           {
            "marker": {
             "pattern": {
              "fillmode": "overlay",
              "size": 10,
              "solidity": 0.2
             }
            },
            "type": "histogram"
           }
          ],
          "histogram2d": [
           {
            "colorbar": {
             "outlinewidth": 0,
             "ticks": ""
            },
            "colorscale": [
             [
              0,
              "#0d0887"
             ],
             [
              0.1111111111111111,
              "#46039f"
             ],
             [
              0.2222222222222222,
              "#7201a8"
             ],
             [
              0.3333333333333333,
              "#9c179e"
             ],
             [
              0.4444444444444444,
              "#bd3786"
             ],
             [
              0.5555555555555556,
              "#d8576b"
             ],
             [
              0.6666666666666666,
              "#ed7953"
             ],
             [
              0.7777777777777778,
              "#fb9f3a"
             ],
             [
              0.8888888888888888,
              "#fdca26"
             ],
             [
              1,
              "#f0f921"
             ]
            ],
            "type": "histogram2d"
           }
          ],
          "histogram2dcontour": [
           {
            "colorbar": {
             "outlinewidth": 0,
             "ticks": ""
            },
            "colorscale": [
             [
              0,
              "#0d0887"
             ],
             [
              0.1111111111111111,
              "#46039f"
             ],
             [
              0.2222222222222222,
              "#7201a8"
             ],
             [
              0.3333333333333333,
              "#9c179e"
             ],
             [
              0.4444444444444444,
              "#bd3786"
             ],
             [
              0.5555555555555556,
              "#d8576b"
             ],
             [
              0.6666666666666666,
              "#ed7953"
             ],
             [
              0.7777777777777778,
              "#fb9f3a"
             ],
             [
              0.8888888888888888,
              "#fdca26"
             ],
             [
              1,
              "#f0f921"
             ]
            ],
            "type": "histogram2dcontour"
           }
          ],
          "mesh3d": [
           {
            "colorbar": {
             "outlinewidth": 0,
             "ticks": ""
            },
            "type": "mesh3d"
           }
          ],
          "parcoords": [
           {
            "line": {
             "colorbar": {
              "outlinewidth": 0,
              "ticks": ""
             }
            },
            "type": "parcoords"
           }
          ],
          "pie": [
           {
            "automargin": true,
            "type": "pie"
           }
          ],
          "scatter": [
           {
            "fillpattern": {
             "fillmode": "overlay",
             "size": 10,
             "solidity": 0.2
            },
            "type": "scatter"
           }
          ],
          "scatter3d": [
           {
            "line": {
             "colorbar": {
              "outlinewidth": 0,
              "ticks": ""
             }
            },
            "marker": {
             "colorbar": {
              "outlinewidth": 0,
              "ticks": ""
             }
            },
            "type": "scatter3d"
           }
          ],
          "scattercarpet": [
           {
            "marker": {
             "colorbar": {
              "outlinewidth": 0,
              "ticks": ""
             }
            },
            "type": "scattercarpet"
           }
          ],
          "scattergeo": [
           {
            "marker": {
             "colorbar": {
              "outlinewidth": 0,
              "ticks": ""
             }
            },
            "type": "scattergeo"
           }
          ],
          "scattergl": [
           {
            "marker": {
             "colorbar": {
              "outlinewidth": 0,
              "ticks": ""
             }
            },
            "type": "scattergl"
           }
          ],
          "scattermapbox": [
           {
            "marker": {
             "colorbar": {
              "outlinewidth": 0,
              "ticks": ""
             }
            },
            "type": "scattermapbox"
           }
          ],
          "scatterpolar": [
           {
            "marker": {
             "colorbar": {
              "outlinewidth": 0,
              "ticks": ""
             }
            },
            "type": "scatterpolar"
           }
          ],
          "scatterpolargl": [
           {
            "marker": {
             "colorbar": {
              "outlinewidth": 0,
              "ticks": ""
             }
            },
            "type": "scatterpolargl"
           }
          ],
          "scatterternary": [
           {
            "marker": {
             "colorbar": {
              "outlinewidth": 0,
              "ticks": ""
             }
            },
            "type": "scatterternary"
           }
          ],
          "surface": [
           {
            "colorbar": {
             "outlinewidth": 0,
             "ticks": ""
            },
            "colorscale": [
             [
              0,
              "#0d0887"
             ],
             [
              0.1111111111111111,
              "#46039f"
             ],
             [
              0.2222222222222222,
              "#7201a8"
             ],
             [
              0.3333333333333333,
              "#9c179e"
             ],
             [
              0.4444444444444444,
              "#bd3786"
             ],
             [
              0.5555555555555556,
              "#d8576b"
             ],
             [
              0.6666666666666666,
              "#ed7953"
             ],
             [
              0.7777777777777778,
              "#fb9f3a"
             ],
             [
              0.8888888888888888,
              "#fdca26"
             ],
             [
              1,
              "#f0f921"
             ]
            ],
            "type": "surface"
           }
          ],
          "table": [
           {
            "cells": {
             "fill": {
              "color": "#EBF0F8"
             },
             "line": {
              "color": "white"
             }
            },
            "header": {
             "fill": {
              "color": "#C8D4E3"
             },
             "line": {
              "color": "white"
             }
            },
            "type": "table"
           }
          ]
         },
         "layout": {
          "annotationdefaults": {
           "arrowcolor": "#2a3f5f",
           "arrowhead": 0,
           "arrowwidth": 1
          },
          "autotypenumbers": "strict",
          "coloraxis": {
           "colorbar": {
            "outlinewidth": 0,
            "ticks": ""
           }
          },
          "colorscale": {
           "diverging": [
            [
             0,
             "#8e0152"
            ],
            [
             0.1,
             "#c51b7d"
            ],
            [
             0.2,
             "#de77ae"
            ],
            [
             0.3,
             "#f1b6da"
            ],
            [
             0.4,
             "#fde0ef"
            ],
            [
             0.5,
             "#f7f7f7"
            ],
            [
             0.6,
             "#e6f5d0"
            ],
            [
             0.7,
             "#b8e186"
            ],
            [
             0.8,
             "#7fbc41"
            ],
            [
             0.9,
             "#4d9221"
            ],
            [
             1,
             "#276419"
            ]
           ],
           "sequential": [
            [
             0,
             "#0d0887"
            ],
            [
             0.1111111111111111,
             "#46039f"
            ],
            [
             0.2222222222222222,
             "#7201a8"
            ],
            [
             0.3333333333333333,
             "#9c179e"
            ],
            [
             0.4444444444444444,
             "#bd3786"
            ],
            [
             0.5555555555555556,
             "#d8576b"
            ],
            [
             0.6666666666666666,
             "#ed7953"
            ],
            [
             0.7777777777777778,
             "#fb9f3a"
            ],
            [
             0.8888888888888888,
             "#fdca26"
            ],
            [
             1,
             "#f0f921"
            ]
           ],
           "sequentialminus": [
            [
             0,
             "#0d0887"
            ],
            [
             0.1111111111111111,
             "#46039f"
            ],
            [
             0.2222222222222222,
             "#7201a8"
            ],
            [
             0.3333333333333333,
             "#9c179e"
            ],
            [
             0.4444444444444444,
             "#bd3786"
            ],
            [
             0.5555555555555556,
             "#d8576b"
            ],
            [
             0.6666666666666666,
             "#ed7953"
            ],
            [
             0.7777777777777778,
             "#fb9f3a"
            ],
            [
             0.8888888888888888,
             "#fdca26"
            ],
            [
             1,
             "#f0f921"
            ]
           ]
          },
          "colorway": [
           "#636efa",
           "#EF553B",
           "#00cc96",
           "#ab63fa",
           "#FFA15A",
           "#19d3f3",
           "#FF6692",
           "#B6E880",
           "#FF97FF",
           "#FECB52"
          ],
          "font": {
           "color": "#2a3f5f"
          },
          "geo": {
           "bgcolor": "white",
           "lakecolor": "white",
           "landcolor": "#E5ECF6",
           "showlakes": true,
           "showland": true,
           "subunitcolor": "white"
          },
          "hoverlabel": {
           "align": "left"
          },
          "hovermode": "closest",
          "mapbox": {
           "style": "light"
          },
          "paper_bgcolor": "white",
          "plot_bgcolor": "#E5ECF6",
          "polar": {
           "angularaxis": {
            "gridcolor": "white",
            "linecolor": "white",
            "ticks": ""
           },
           "bgcolor": "#E5ECF6",
           "radialaxis": {
            "gridcolor": "white",
            "linecolor": "white",
            "ticks": ""
           }
          },
          "scene": {
           "xaxis": {
            "backgroundcolor": "#E5ECF6",
            "gridcolor": "white",
            "gridwidth": 2,
            "linecolor": "white",
            "showbackground": true,
            "ticks": "",
            "zerolinecolor": "white"
           },
           "yaxis": {
            "backgroundcolor": "#E5ECF6",
            "gridcolor": "white",
            "gridwidth": 2,
            "linecolor": "white",
            "showbackground": true,
            "ticks": "",
            "zerolinecolor": "white"
           },
           "zaxis": {
            "backgroundcolor": "#E5ECF6",
            "gridcolor": "white",
            "gridwidth": 2,
            "linecolor": "white",
            "showbackground": true,
            "ticks": "",
            "zerolinecolor": "white"
           }
          },
          "shapedefaults": {
           "line": {
            "color": "#2a3f5f"
           }
          },
          "ternary": {
           "aaxis": {
            "gridcolor": "white",
            "linecolor": "white",
            "ticks": ""
           },
           "baxis": {
            "gridcolor": "white",
            "linecolor": "white",
            "ticks": ""
           },
           "bgcolor": "#E5ECF6",
           "caxis": {
            "gridcolor": "white",
            "linecolor": "white",
            "ticks": ""
           }
          },
          "title": {
           "x": 0.05
          },
          "xaxis": {
           "automargin": true,
           "gridcolor": "white",
           "linecolor": "white",
           "ticks": "",
           "title": {
            "standoff": 15
           },
           "zerolinecolor": "white",
           "zerolinewidth": 2
          },
          "yaxis": {
           "automargin": true,
           "gridcolor": "white",
           "linecolor": "white",
           "ticks": "",
           "title": {
            "standoff": 15
           },
           "zerolinecolor": "white",
           "zerolinewidth": 2
          }
         }
        },
        "title": {
         "text": "Relative Expression Per Hour at Station 130"
        },
        "width": 800,
        "xaxis": {
         "anchor": "y",
         "domain": [
          0,
          1
         ],
         "tickangle": -45,
         "title": {
          "text": "Date and Time"
         }
        },
        "yaxis": {
         "anchor": "x",
         "domain": [
          0,
          1
         ],
         "title": {
          "text": "Relative Expression"
         }
        }
       }
      }
     },
     "metadata": {},
     "output_type": "display_data"
    }
   ],
   "source": [
    "# Filter data based on TPM and p_ident thresholds\n",
    "filtered_data = data_130[(data_130['p_ident'] >= 0.75)]\n",
    "\n",
    "# Group by taxonomic level and sample, then sum TPM\n",
    "grouped_df = filtered_data.groupby(['Taxogroup2_UniEuk', 'datetime'])['TPM'].sum().reset_index()\n",
    "\n",
    "grouped_df.head()\n",
    "# Normalize TPM sums to get relative expression per hour\n",
    "total_tpm_per_hour = grouped_df.groupby('datetime')['TPM'].transform('sum')\n",
    "grouped_df['rel_expression_per_hour'] = grouped_df['TPM'] / total_tpm_per_hour\n",
    "\n",
    "# Combine low-abundant groups into a single 'Rare' category\n",
    "threshold = 0.05\n",
    "grouped_df.loc[grouped_df['rel_expression_per_hour'] <= threshold, 'Taxogroup2_UniEuk'] = 'Rare'\n",
    "\n",
    "# Combine 'core-Noctilucales' and 'Dinophyceae'\n",
    "grouped_df['Taxogroup2_UniEuk'] = grouped_df['Taxogroup2_UniEuk'].replace({'core-Noctilucales': 'Dinophyceae'})\n",
    "\n",
    "# Remove categories with no expression\n",
    "grouped_df = grouped_df[grouped_df['rel_expression_per_hour'] > 0]\n",
    "\n",
    "# Group once more to combine Rares\n",
    "grouped_df = grouped_df.groupby(['Taxogroup2_UniEuk', 'datetime'])['rel_expression_per_hour'].sum().reset_index()\n",
    "\n",
    "\n",
    "# Plot\n",
    "fig = px.bar(grouped_df, \n",
    "            x='datetime', \n",
    "            y='rel_expression_per_hour', \n",
    "            color='Taxogroup2_UniEuk',\n",
    "            title='Relative Expression Per Hour at Station 130',\n",
    "            category_orders={\"Taxogroup2_UniEuk\": ['Arthropoda', 'Acantharea', 'Ctenophora', 'Diatomeae', 'Dinophyceae', \n",
    "                                                    'Florideophyceae','Odontella', 'Phaeodarea', 'Prymnesiophyceae',\n",
    "                                                    'Spirotrichea', 'Vertebrata', 'Rare',]},\n",
    "            color_discrete_map=color_discrete_map\n",
    "            )\n",
    "\n",
    "fig.update_layout(\n",
    "    width=800,\n",
    "    height=400,\n",
    "    xaxis_title='Date and Time',\n",
    "    yaxis_title='Relative Expression',\n",
    "    xaxis_tickangle=-45,\n",
    "    legend_title='Taxonomic Group'\n",
    ")\n",
    "\n",
    "# Save the figure\n",
    "filename_base = \"../figures/metatranscriptomics/130_relative_expression_per_hour\"\n",
    "fig.write_image(filename_base + \".png\", scale=1)\n",
    "fig.write_image(filename_base + \".svg\", scale=1)\n",
    "\n",
    "fig.show()"
   ]
  },
  {
   "cell_type": "code",
   "execution_count": 43,
   "metadata": {},
   "outputs": [
    {
     "name": "stderr",
     "output_type": "stream",
     "text": [
      "/Users/michiel/miniconda3/envs/spring_campaign_2023/lib/python3.12/site-packages/_plotly_utils/basevalidators.py:106: FutureWarning:\n",
      "\n",
      "The behavior of DatetimeProperties.to_pydatetime is deprecated, in a future version this will return a Series containing python datetime objects instead of an ndarray. To retain the old behavior, call `np.array` on the result\n",
      "\n"
     ]
    },
    {
     "data": {
      "application/vnd.plotly.v1+json": {
       "config": {
        "plotlyServerURL": "https://plot.ly"
       },
       "data": [
        {
         "alignmentgroup": "True",
         "hovertemplate": "Taxogroup2_UniEuk=Arthropoda<br>datetime=%{x}<br>TPM=%{y}<extra></extra>",
         "legendgroup": "Arthropoda",
         "marker": {
          "color": "#0072B2",
          "pattern": {
           "shape": ""
          }
         },
         "name": "Arthropoda",
         "offsetgroup": "Arthropoda",
         "orientation": "v",
         "showlegend": true,
         "textposition": "auto",
         "type": "bar",
         "x": [
          "2023-04-21T03:00:00",
          "2023-04-21T07:00:00"
         ],
         "xaxis": "x",
         "y": [
          13876.3974609375,
          8348.6318359375
         ],
         "yaxis": "y"
        },
        {
         "alignmentgroup": "True",
         "hovertemplate": "Taxogroup2_UniEuk=Diatomeae<br>datetime=%{x}<br>TPM=%{y}<extra></extra>",
         "legendgroup": "Diatomeae",
         "marker": {
          "color": "#E69F00",
          "pattern": {
           "shape": ""
          }
         },
         "name": "Diatomeae",
         "offsetgroup": "Diatomeae",
         "orientation": "v",
         "showlegend": true,
         "textposition": "auto",
         "type": "bar",
         "x": [
          "2023-04-20T11:00:00",
          "2023-04-21T00:00:00",
          "2023-04-21T01:00:00",
          "2023-04-21T05:00:00",
          "2023-04-21T09:00:00",
          "2023-04-21T10:00:00"
         ],
         "xaxis": "x",
         "y": [
          6168.45751953125,
          85994.96875,
          179388.15625,
          89312.859375,
          113215.8828125,
          159625.703125
         ],
         "yaxis": "y"
        },
        {
         "alignmentgroup": "True",
         "hovertemplate": "Taxogroup2_UniEuk=Dinophyceae<br>datetime=%{x}<br>TPM=%{y}<extra></extra>",
         "legendgroup": "Dinophyceae",
         "marker": {
          "color": "#56B4E9",
          "pattern": {
           "shape": ""
          }
         },
         "name": "Dinophyceae",
         "offsetgroup": "Dinophyceae",
         "orientation": "v",
         "showlegend": true,
         "textposition": "auto",
         "type": "bar",
         "x": [
          "2023-04-20T13:00:00",
          "2023-04-20T14:00:00",
          "2023-04-20T18:00:00",
          "2023-04-20T19:00:00",
          "2023-04-20T22:00:00",
          "2023-04-20T23:00:00",
          "2023-04-21T00:00:00",
          "2023-04-21T01:00:00",
          "2023-04-21T02:00:00",
          "2023-04-21T03:00:00",
          "2023-04-21T04:00:00",
          "2023-04-21T05:00:00",
          "2023-04-21T06:00:00",
          "2023-04-21T07:00:00",
          "2023-04-21T08:00:00",
          "2023-04-21T09:00:00",
          "2023-04-21T10:00:00"
         ],
         "xaxis": "x",
         "y": [
          11301.822265625,
          9051.58984375,
          8622.1015625,
          11798.734375,
          16504.69140625,
          40746.34375,
          166540.1875,
          23217.66015625,
          19267.8125,
          18017.439453125,
          16361.5,
          113782.40625,
          18268.8359375,
          18165.376953125,
          16760.927734375,
          51154.6015625,
          25730.193359375
         ],
         "yaxis": "y"
        },
        {
         "alignmentgroup": "True",
         "hovertemplate": "Taxogroup2_UniEuk=Prymnesiophyceae<br>datetime=%{x}<br>TPM=%{y}<extra></extra>",
         "legendgroup": "Prymnesiophyceae",
         "marker": {
          "color": "#009E73",
          "pattern": {
           "shape": ""
          }
         },
         "name": "Prymnesiophyceae",
         "offsetgroup": "Prymnesiophyceae",
         "orientation": "v",
         "showlegend": true,
         "textposition": "auto",
         "type": "bar",
         "x": [
          "2023-04-20T10:00:00",
          "2023-04-20T11:00:00",
          "2023-04-20T12:00:00",
          "2023-04-20T13:00:00",
          "2023-04-20T14:00:00",
          "2023-04-20T15:00:00",
          "2023-04-20T16:00:00",
          "2023-04-20T17:00:00",
          "2023-04-20T18:00:00",
          "2023-04-20T19:00:00",
          "2023-04-20T20:00:00",
          "2023-04-20T21:00:00",
          "2023-04-20T22:00:00",
          "2023-04-20T23:00:00",
          "2023-04-21T02:00:00",
          "2023-04-21T03:00:00",
          "2023-04-21T04:00:00",
          "2023-04-21T06:00:00",
          "2023-04-21T07:00:00",
          "2023-04-21T08:00:00"
         ],
         "xaxis": "x",
         "y": [
          165885.28125,
          86004.6640625,
          125295.1171875,
          100212.8125,
          137414.296875,
          242568.734375,
          204268.34375,
          181501.203125,
          135881.625,
          164091.984375,
          166062.9375,
          273449.3125,
          141080.359375,
          79208.625,
          146878.625,
          123490.921875,
          265056.1875,
          118158.0390625,
          63495.484375,
          174854.828125
         ],
         "yaxis": "y"
        },
        {
         "alignmentgroup": "True",
         "hovertemplate": "Taxogroup2_UniEuk=Rare<br>datetime=%{x}<br>TPM=%{y}<extra></extra>",
         "legendgroup": "Rare",
         "marker": {
          "color": "#545454",
          "pattern": {
           "shape": ""
          }
         },
         "name": "Rare",
         "offsetgroup": "Rare",
         "orientation": "v",
         "showlegend": true,
         "textposition": "auto",
         "type": "bar",
         "x": [
          "2023-04-20T10:00:00",
          "2023-04-20T11:00:00",
          "2023-04-20T12:00:00",
          "2023-04-20T13:00:00",
          "2023-04-20T14:00:00",
          "2023-04-20T15:00:00",
          "2023-04-20T16:00:00",
          "2023-04-20T17:00:00",
          "2023-04-20T18:00:00",
          "2023-04-20T19:00:00",
          "2023-04-20T20:00:00",
          "2023-04-20T21:00:00",
          "2023-04-20T22:00:00",
          "2023-04-20T23:00:00",
          "2023-04-21T00:00:00",
          "2023-04-21T01:00:00",
          "2023-04-21T02:00:00",
          "2023-04-21T03:00:00",
          "2023-04-21T04:00:00",
          "2023-04-21T05:00:00",
          "2023-04-21T06:00:00",
          "2023-04-21T07:00:00",
          "2023-04-21T08:00:00",
          "2023-04-21T09:00:00",
          "2023-04-21T10:00:00"
         ],
         "xaxis": "x",
         "y": [
          19893.271484375,
          21127.478515625,
          32320.25,
          27759.072265625,
          20629.962890625,
          15200.177734375,
          18572.404296875,
          17944.46875,
          17492.34765625,
          17556.810546875,
          21529.923828125,
          17900.34765625,
          29306.080078125,
          23535.208984375,
          34084.58203125,
          30016.22265625,
          36122.68359375,
          27640.453125,
          23875.26953125,
          33743.140625,
          37030.60546875,
          29003.873046875,
          37341.7109375,
          30782.7578125,
          21336.46484375
         ],
         "yaxis": "y"
        }
       ],
       "layout": {
        "barmode": "relative",
        "height": 400,
        "legend": {
         "title": {
          "text": "Taxonomic Group"
         },
         "tracegroupgap": 0
        },
        "template": {
         "data": {
          "bar": [
           {
            "error_x": {
             "color": "#2a3f5f"
            },
            "error_y": {
             "color": "#2a3f5f"
            },
            "marker": {
             "line": {
              "color": "#E5ECF6",
              "width": 0.5
             },
             "pattern": {
              "fillmode": "overlay",
              "size": 10,
              "solidity": 0.2
             }
            },
            "type": "bar"
           }
          ],
          "barpolar": [
           {
            "marker": {
             "line": {
              "color": "#E5ECF6",
              "width": 0.5
             },
             "pattern": {
              "fillmode": "overlay",
              "size": 10,
              "solidity": 0.2
             }
            },
            "type": "barpolar"
           }
          ],
          "carpet": [
           {
            "aaxis": {
             "endlinecolor": "#2a3f5f",
             "gridcolor": "white",
             "linecolor": "white",
             "minorgridcolor": "white",
             "startlinecolor": "#2a3f5f"
            },
            "baxis": {
             "endlinecolor": "#2a3f5f",
             "gridcolor": "white",
             "linecolor": "white",
             "minorgridcolor": "white",
             "startlinecolor": "#2a3f5f"
            },
            "type": "carpet"
           }
          ],
          "choropleth": [
           {
            "colorbar": {
             "outlinewidth": 0,
             "ticks": ""
            },
            "type": "choropleth"
           }
          ],
          "contour": [
           {
            "colorbar": {
             "outlinewidth": 0,
             "ticks": ""
            },
            "colorscale": [
             [
              0,
              "#0d0887"
             ],
             [
              0.1111111111111111,
              "#46039f"
             ],
             [
              0.2222222222222222,
              "#7201a8"
             ],
             [
              0.3333333333333333,
              "#9c179e"
             ],
             [
              0.4444444444444444,
              "#bd3786"
             ],
             [
              0.5555555555555556,
              "#d8576b"
             ],
             [
              0.6666666666666666,
              "#ed7953"
             ],
             [
              0.7777777777777778,
              "#fb9f3a"
             ],
             [
              0.8888888888888888,
              "#fdca26"
             ],
             [
              1,
              "#f0f921"
             ]
            ],
            "type": "contour"
           }
          ],
          "contourcarpet": [
           {
            "colorbar": {
             "outlinewidth": 0,
             "ticks": ""
            },
            "type": "contourcarpet"
           }
          ],
          "heatmap": [
           {
            "colorbar": {
             "outlinewidth": 0,
             "ticks": ""
            },
            "colorscale": [
             [
              0,
              "#0d0887"
             ],
             [
              0.1111111111111111,
              "#46039f"
             ],
             [
              0.2222222222222222,
              "#7201a8"
             ],
             [
              0.3333333333333333,
              "#9c179e"
             ],
             [
              0.4444444444444444,
              "#bd3786"
             ],
             [
              0.5555555555555556,
              "#d8576b"
             ],
             [
              0.6666666666666666,
              "#ed7953"
             ],
             [
              0.7777777777777778,
              "#fb9f3a"
             ],
             [
              0.8888888888888888,
              "#fdca26"
             ],
             [
              1,
              "#f0f921"
             ]
            ],
            "type": "heatmap"
           }
          ],
          "heatmapgl": [
           {
            "colorbar": {
             "outlinewidth": 0,
             "ticks": ""
            },
            "colorscale": [
             [
              0,
              "#0d0887"
             ],
             [
              0.1111111111111111,
              "#46039f"
             ],
             [
              0.2222222222222222,
              "#7201a8"
             ],
             [
              0.3333333333333333,
              "#9c179e"
             ],
             [
              0.4444444444444444,
              "#bd3786"
             ],
             [
              0.5555555555555556,
              "#d8576b"
             ],
             [
              0.6666666666666666,
              "#ed7953"
             ],
             [
              0.7777777777777778,
              "#fb9f3a"
             ],
             [
              0.8888888888888888,
              "#fdca26"
             ],
             [
              1,
              "#f0f921"
             ]
            ],
            "type": "heatmapgl"
           }
          ],
          "histogram": [
           {
            "marker": {
             "pattern": {
              "fillmode": "overlay",
              "size": 10,
              "solidity": 0.2
             }
            },
            "type": "histogram"
           }
          ],
          "histogram2d": [
           {
            "colorbar": {
             "outlinewidth": 0,
             "ticks": ""
            },
            "colorscale": [
             [
              0,
              "#0d0887"
             ],
             [
              0.1111111111111111,
              "#46039f"
             ],
             [
              0.2222222222222222,
              "#7201a8"
             ],
             [
              0.3333333333333333,
              "#9c179e"
             ],
             [
              0.4444444444444444,
              "#bd3786"
             ],
             [
              0.5555555555555556,
              "#d8576b"
             ],
             [
              0.6666666666666666,
              "#ed7953"
             ],
             [
              0.7777777777777778,
              "#fb9f3a"
             ],
             [
              0.8888888888888888,
              "#fdca26"
             ],
             [
              1,
              "#f0f921"
             ]
            ],
            "type": "histogram2d"
           }
          ],
          "histogram2dcontour": [
           {
            "colorbar": {
             "outlinewidth": 0,
             "ticks": ""
            },
            "colorscale": [
             [
              0,
              "#0d0887"
             ],
             [
              0.1111111111111111,
              "#46039f"
             ],
             [
              0.2222222222222222,
              "#7201a8"
             ],
             [
              0.3333333333333333,
              "#9c179e"
             ],
             [
              0.4444444444444444,
              "#bd3786"
             ],
             [
              0.5555555555555556,
              "#d8576b"
             ],
             [
              0.6666666666666666,
              "#ed7953"
             ],
             [
              0.7777777777777778,
              "#fb9f3a"
             ],
             [
              0.8888888888888888,
              "#fdca26"
             ],
             [
              1,
              "#f0f921"
             ]
            ],
            "type": "histogram2dcontour"
           }
          ],
          "mesh3d": [
           {
            "colorbar": {
             "outlinewidth": 0,
             "ticks": ""
            },
            "type": "mesh3d"
           }
          ],
          "parcoords": [
           {
            "line": {
             "colorbar": {
              "outlinewidth": 0,
              "ticks": ""
             }
            },
            "type": "parcoords"
           }
          ],
          "pie": [
           {
            "automargin": true,
            "type": "pie"
           }
          ],
          "scatter": [
           {
            "fillpattern": {
             "fillmode": "overlay",
             "size": 10,
             "solidity": 0.2
            },
            "type": "scatter"
           }
          ],
          "scatter3d": [
           {
            "line": {
             "colorbar": {
              "outlinewidth": 0,
              "ticks": ""
             }
            },
            "marker": {
             "colorbar": {
              "outlinewidth": 0,
              "ticks": ""
             }
            },
            "type": "scatter3d"
           }
          ],
          "scattercarpet": [
           {
            "marker": {
             "colorbar": {
              "outlinewidth": 0,
              "ticks": ""
             }
            },
            "type": "scattercarpet"
           }
          ],
          "scattergeo": [
           {
            "marker": {
             "colorbar": {
              "outlinewidth": 0,
              "ticks": ""
             }
            },
            "type": "scattergeo"
           }
          ],
          "scattergl": [
           {
            "marker": {
             "colorbar": {
              "outlinewidth": 0,
              "ticks": ""
             }
            },
            "type": "scattergl"
           }
          ],
          "scattermapbox": [
           {
            "marker": {
             "colorbar": {
              "outlinewidth": 0,
              "ticks": ""
             }
            },
            "type": "scattermapbox"
           }
          ],
          "scatterpolar": [
           {
            "marker": {
             "colorbar": {
              "outlinewidth": 0,
              "ticks": ""
             }
            },
            "type": "scatterpolar"
           }
          ],
          "scatterpolargl": [
           {
            "marker": {
             "colorbar": {
              "outlinewidth": 0,
              "ticks": ""
             }
            },
            "type": "scatterpolargl"
           }
          ],
          "scatterternary": [
           {
            "marker": {
             "colorbar": {
              "outlinewidth": 0,
              "ticks": ""
             }
            },
            "type": "scatterternary"
           }
          ],
          "surface": [
           {
            "colorbar": {
             "outlinewidth": 0,
             "ticks": ""
            },
            "colorscale": [
             [
              0,
              "#0d0887"
             ],
             [
              0.1111111111111111,
              "#46039f"
             ],
             [
              0.2222222222222222,
              "#7201a8"
             ],
             [
              0.3333333333333333,
              "#9c179e"
             ],
             [
              0.4444444444444444,
              "#bd3786"
             ],
             [
              0.5555555555555556,
              "#d8576b"
             ],
             [
              0.6666666666666666,
              "#ed7953"
             ],
             [
              0.7777777777777778,
              "#fb9f3a"
             ],
             [
              0.8888888888888888,
              "#fdca26"
             ],
             [
              1,
              "#f0f921"
             ]
            ],
            "type": "surface"
           }
          ],
          "table": [
           {
            "cells": {
             "fill": {
              "color": "#EBF0F8"
             },
             "line": {
              "color": "white"
             }
            },
            "header": {
             "fill": {
              "color": "#C8D4E3"
             },
             "line": {
              "color": "white"
             }
            },
            "type": "table"
           }
          ]
         },
         "layout": {
          "annotationdefaults": {
           "arrowcolor": "#2a3f5f",
           "arrowhead": 0,
           "arrowwidth": 1
          },
          "autotypenumbers": "strict",
          "coloraxis": {
           "colorbar": {
            "outlinewidth": 0,
            "ticks": ""
           }
          },
          "colorscale": {
           "diverging": [
            [
             0,
             "#8e0152"
            ],
            [
             0.1,
             "#c51b7d"
            ],
            [
             0.2,
             "#de77ae"
            ],
            [
             0.3,
             "#f1b6da"
            ],
            [
             0.4,
             "#fde0ef"
            ],
            [
             0.5,
             "#f7f7f7"
            ],
            [
             0.6,
             "#e6f5d0"
            ],
            [
             0.7,
             "#b8e186"
            ],
            [
             0.8,
             "#7fbc41"
            ],
            [
             0.9,
             "#4d9221"
            ],
            [
             1,
             "#276419"
            ]
           ],
           "sequential": [
            [
             0,
             "#0d0887"
            ],
            [
             0.1111111111111111,
             "#46039f"
            ],
            [
             0.2222222222222222,
             "#7201a8"
            ],
            [
             0.3333333333333333,
             "#9c179e"
            ],
            [
             0.4444444444444444,
             "#bd3786"
            ],
            [
             0.5555555555555556,
             "#d8576b"
            ],
            [
             0.6666666666666666,
             "#ed7953"
            ],
            [
             0.7777777777777778,
             "#fb9f3a"
            ],
            [
             0.8888888888888888,
             "#fdca26"
            ],
            [
             1,
             "#f0f921"
            ]
           ],
           "sequentialminus": [
            [
             0,
             "#0d0887"
            ],
            [
             0.1111111111111111,
             "#46039f"
            ],
            [
             0.2222222222222222,
             "#7201a8"
            ],
            [
             0.3333333333333333,
             "#9c179e"
            ],
            [
             0.4444444444444444,
             "#bd3786"
            ],
            [
             0.5555555555555556,
             "#d8576b"
            ],
            [
             0.6666666666666666,
             "#ed7953"
            ],
            [
             0.7777777777777778,
             "#fb9f3a"
            ],
            [
             0.8888888888888888,
             "#fdca26"
            ],
            [
             1,
             "#f0f921"
            ]
           ]
          },
          "colorway": [
           "#636efa",
           "#EF553B",
           "#00cc96",
           "#ab63fa",
           "#FFA15A",
           "#19d3f3",
           "#FF6692",
           "#B6E880",
           "#FF97FF",
           "#FECB52"
          ],
          "font": {
           "color": "#2a3f5f"
          },
          "geo": {
           "bgcolor": "white",
           "lakecolor": "white",
           "landcolor": "#E5ECF6",
           "showlakes": true,
           "showland": true,
           "subunitcolor": "white"
          },
          "hoverlabel": {
           "align": "left"
          },
          "hovermode": "closest",
          "mapbox": {
           "style": "light"
          },
          "paper_bgcolor": "white",
          "plot_bgcolor": "#E5ECF6",
          "polar": {
           "angularaxis": {
            "gridcolor": "white",
            "linecolor": "white",
            "ticks": ""
           },
           "bgcolor": "#E5ECF6",
           "radialaxis": {
            "gridcolor": "white",
            "linecolor": "white",
            "ticks": ""
           }
          },
          "scene": {
           "xaxis": {
            "backgroundcolor": "#E5ECF6",
            "gridcolor": "white",
            "gridwidth": 2,
            "linecolor": "white",
            "showbackground": true,
            "ticks": "",
            "zerolinecolor": "white"
           },
           "yaxis": {
            "backgroundcolor": "#E5ECF6",
            "gridcolor": "white",
            "gridwidth": 2,
            "linecolor": "white",
            "showbackground": true,
            "ticks": "",
            "zerolinecolor": "white"
           },
           "zaxis": {
            "backgroundcolor": "#E5ECF6",
            "gridcolor": "white",
            "gridwidth": 2,
            "linecolor": "white",
            "showbackground": true,
            "ticks": "",
            "zerolinecolor": "white"
           }
          },
          "shapedefaults": {
           "line": {
            "color": "#2a3f5f"
           }
          },
          "ternary": {
           "aaxis": {
            "gridcolor": "white",
            "linecolor": "white",
            "ticks": ""
           },
           "baxis": {
            "gridcolor": "white",
            "linecolor": "white",
            "ticks": ""
           },
           "bgcolor": "#E5ECF6",
           "caxis": {
            "gridcolor": "white",
            "linecolor": "white",
            "ticks": ""
           }
          },
          "title": {
           "x": 0.05
          },
          "xaxis": {
           "automargin": true,
           "gridcolor": "white",
           "linecolor": "white",
           "ticks": "",
           "title": {
            "standoff": 15
           },
           "zerolinecolor": "white",
           "zerolinewidth": 2
          },
          "yaxis": {
           "automargin": true,
           "gridcolor": "white",
           "linecolor": "white",
           "ticks": "",
           "title": {
            "standoff": 15
           },
           "zerolinecolor": "white",
           "zerolinewidth": 2
          }
         }
        },
        "title": {
         "text": "TPM Expression Per hour at Station 130"
        },
        "width": 800,
        "xaxis": {
         "anchor": "y",
         "domain": [
          0,
          1
         ],
         "tickangle": -45,
         "title": {
          "text": "Date and Time"
         }
        },
        "yaxis": {
         "anchor": "x",
         "domain": [
          0,
          1
         ],
         "title": {
          "text": "Relative Expression"
         }
        }
       }
      }
     },
     "metadata": {},
     "output_type": "display_data"
    }
   ],
   "source": [
    "# Group by taxonomic level and sample, then sum TPM\n",
    "grouped_df = filtered_data.groupby(['Taxogroup2_UniEuk', 'datetime'])['TPM'].sum().reset_index()\n",
    "\n",
    "grouped_df.head()\n",
    "# Normalize TPM sums to get relative expression per hour\n",
    "total_tpm_per_hour = grouped_df.groupby('datetime')['TPM'].transform('sum')\n",
    "grouped_df['rel_expression_per_hour'] = grouped_df['TPM'] / total_tpm_per_hour\n",
    "\n",
    "# Combine low-abundant groups into a single 'Rare' category\n",
    "threshold = 0.05\n",
    "grouped_df.loc[grouped_df['rel_expression_per_hour'] <= threshold, 'Taxogroup2_UniEuk'] = 'Rare'\n",
    "\n",
    "# Combine 'core-Noctilucales' and 'Dinophyceae'\n",
    "grouped_df['Taxogroup2_UniEuk'] = grouped_df['Taxogroup2_UniEuk'].replace({'core-Noctilucales': 'Dinophyceae'})\n",
    "\n",
    "# Remove categories with no expression\n",
    "grouped_df = grouped_df[grouped_df['rel_expression_per_hour'] > 0]\n",
    "\n",
    "# Group once more to combine Rares\n",
    "grouped_df = grouped_df.groupby(['Taxogroup2_UniEuk', 'datetime'])['TPM'].sum().reset_index()\n",
    "\n",
    "# Plot\n",
    "fig = px.bar(grouped_df, \n",
    "            x='datetime', \n",
    "            y='TPM', \n",
    "            color='Taxogroup2_UniEuk',\n",
    "            title='TPM Expression Per hour at Station 130',\n",
    "            category_orders={\"Taxogroup2_UniEuk\": ['Arthropoda', 'Acantharea', 'Ctenophora', 'Diatomeae', 'Dinophyceae', \n",
    "                                                    'Florideophyceae','Odontella', 'Phaeodarea', 'Prymnesiophyceae',\n",
    "                                                    'Spirotrichea', 'Vertebrata', 'Rare',]},\n",
    "            color_discrete_map=color_discrete_map\n",
    "            )\n",
    "\n",
    "fig.update_layout(\n",
    "    width=800,\n",
    "    height=400,\n",
    "    xaxis_title='Date and Time',\n",
    "    yaxis_title='Relative Expression',\n",
    "    xaxis_tickangle=-45,\n",
    "    legend_title='Taxonomic Group'\n",
    ")\n",
    "\n",
    "# Save the figure\n",
    "filename_base = \"../figures/metatranscriptomics/130_expression_per_hour\"\n",
    "fig.write_image(filename_base + \".png\", scale=1)\n",
    "fig.write_image(filename_base + \".svg\", scale=1)\n",
    "\n",
    "fig.show()"
   ]
  },
  {
   "cell_type": "code",
   "execution_count": 24,
   "metadata": {},
   "outputs": [
    {
     "name": "stderr",
     "output_type": "stream",
     "text": [
      "/Users/michiel/miniconda3/envs/spring_campaign_2023/lib/python3.12/site-packages/_plotly_utils/basevalidators.py:106: FutureWarning:\n",
      "\n",
      "The behavior of DatetimeProperties.to_pydatetime is deprecated, in a future version this will return a Series containing python datetime objects instead of an ndarray. To retain the old behavior, call `np.array` on the result\n",
      "\n"
     ]
    },
    {
     "data": {
      "application/vnd.plotly.v1+json": {
       "config": {
        "plotlyServerURL": "https://plot.ly"
       },
       "data": [
        {
         "alignmentgroup": "True",
         "hovertemplate": "Taxogroup2_UniEuk=Arthropoda<br>datetime=%{x}<br>rel_expression_per_hour=%{y}<extra></extra>",
         "legendgroup": "Arthropoda",
         "marker": {
          "color": "#0072B2",
          "pattern": {
           "shape": ""
          }
         },
         "name": "Arthropoda",
         "offsetgroup": "Arthropoda",
         "orientation": "v",
         "showlegend": true,
         "textposition": "auto",
         "type": "bar",
         "x": [
          "2023-04-18T13:00:00",
          "2023-04-18T14:00:00",
          "2023-04-18T15:00:00",
          "2023-04-18T16:00:00",
          "2023-04-18T17:00:00",
          "2023-04-18T18:00:00",
          "2023-04-18T19:00:00",
          "2023-04-18T20:00:00",
          "2023-04-18T21:00:00",
          "2023-04-18T22:00:00",
          "2023-04-18T23:00:00",
          "2023-04-19T00:00:00",
          "2023-04-19T01:00:00",
          "2023-04-19T02:00:00",
          "2023-04-19T03:00:00",
          "2023-04-19T04:00:00",
          "2023-04-19T05:00:00",
          "2023-04-19T06:00:00",
          "2023-04-19T07:00:00",
          "2023-04-19T08:00:00",
          "2023-04-19T09:00:00"
         ],
         "xaxis": "x",
         "y": [
          0.08804232627153397,
          0.3849553167819977,
          0.24374651908874512,
          0.467664510011673,
          0.40087881684303284,
          0.3458104133605957,
          0.36310628056526184,
          0.3688565492630005,
          0.21479260921478271,
          0.47404980659484863,
          0.5323188900947571,
          0.41109907627105713,
          0.4643682539463043,
          0.46437913179397583,
          0.22435647249221802,
          0.40787917375564575,
          0.6199843883514404,
          0.4968126118183136,
          0.7033939361572266,
          0.4422435462474823,
          0.7412060499191284
         ],
         "yaxis": "y"
        },
        {
         "alignmentgroup": "True",
         "hovertemplate": "Taxogroup2_UniEuk=Ctenophora<br>datetime=%{x}<br>rel_expression_per_hour=%{y}<extra></extra>",
         "legendgroup": "Ctenophora",
         "marker": {
          "color": "#ADA7A7",
          "pattern": {
           "shape": ""
          }
         },
         "name": "Ctenophora",
         "offsetgroup": "Ctenophora",
         "orientation": "v",
         "showlegend": true,
         "textposition": "auto",
         "type": "bar",
         "x": [
          "2023-04-18T15:00:00",
          "2023-04-18T18:00:00",
          "2023-04-18T19:00:00",
          "2023-04-18T20:00:00",
          "2023-04-18T22:00:00",
          "2023-04-18T23:00:00",
          "2023-04-19T00:00:00",
          "2023-04-19T01:00:00",
          "2023-04-19T03:00:00",
          "2023-04-19T04:00:00",
          "2023-04-19T09:00:00"
         ],
         "xaxis": "x",
         "y": [
          0.0605815090239048,
          0.05373317748308182,
          0.09896330535411835,
          0.17173689603805542,
          0.09023505449295044,
          0.07154741883277893,
          0.06532838940620422,
          0.059345897287130356,
          0.071818046271801,
          0.05955744907259941,
          0.05628471076488495
         ],
         "yaxis": "y"
        },
        {
         "alignmentgroup": "True",
         "hovertemplate": "Taxogroup2_UniEuk=Diatomeae<br>datetime=%{x}<br>rel_expression_per_hour=%{y}<extra></extra>",
         "legendgroup": "Diatomeae",
         "marker": {
          "color": "#E69F00",
          "pattern": {
           "shape": ""
          }
         },
         "name": "Diatomeae",
         "offsetgroup": "Diatomeae",
         "orientation": "v",
         "showlegend": true,
         "textposition": "auto",
         "type": "bar",
         "x": [
          "2023-04-18T13:00:00",
          "2023-04-18T14:00:00",
          "2023-04-18T15:00:00",
          "2023-04-18T16:00:00",
          "2023-04-18T19:00:00",
          "2023-04-19T00:00:00",
          "2023-04-19T02:00:00"
         ],
         "xaxis": "x",
         "y": [
          0.053612444549798965,
          0.05881788954138756,
          0.05815010890364647,
          0.06195847690105438,
          0.053159475326538086,
          0.11646709591150284,
          0.054576076567173004
         ],
         "yaxis": "y"
        },
        {
         "alignmentgroup": "True",
         "hovertemplate": "Taxogroup2_UniEuk=Dinophyceae<br>datetime=%{x}<br>rel_expression_per_hour=%{y}<extra></extra>",
         "legendgroup": "Dinophyceae",
         "marker": {
          "color": "#56B4E9",
          "pattern": {
           "shape": ""
          }
         },
         "name": "Dinophyceae",
         "offsetgroup": "Dinophyceae",
         "orientation": "v",
         "showlegend": true,
         "textposition": "auto",
         "type": "bar",
         "x": [
          "2023-04-18T14:00:00",
          "2023-04-18T15:00:00",
          "2023-04-18T16:00:00",
          "2023-04-18T17:00:00",
          "2023-04-18T18:00:00",
          "2023-04-18T19:00:00",
          "2023-04-18T20:00:00",
          "2023-04-18T21:00:00",
          "2023-04-18T22:00:00",
          "2023-04-18T23:00:00",
          "2023-04-19T04:00:00",
          "2023-04-19T05:00:00",
          "2023-04-19T06:00:00",
          "2023-04-19T07:00:00",
          "2023-04-19T08:00:00"
         ],
         "xaxis": "x",
         "y": [
          0.0550549142062664,
          0.3358774781227112,
          0.2364286482334137,
          0.40478402376174927,
          0.43715381622314453,
          0.28726518154144287,
          0.10506989806890488,
          0.38067448139190674,
          0.13540153205394745,
          0.17766191065311432,
          0.2782091498374939,
          0.23808766901493073,
          0.3784935474395752,
          0.11553745716810226,
          0.3201269507408142
         ],
         "yaxis": "y"
        },
        {
         "alignmentgroup": "True",
         "hovertemplate": "Taxogroup2_UniEuk=Prymnesiophyceae<br>datetime=%{x}<br>rel_expression_per_hour=%{y}<extra></extra>",
         "legendgroup": "Prymnesiophyceae",
         "marker": {
          "color": "#009E73",
          "pattern": {
           "shape": ""
          }
         },
         "name": "Prymnesiophyceae",
         "offsetgroup": "Prymnesiophyceae",
         "orientation": "v",
         "showlegend": true,
         "textposition": "auto",
         "type": "bar",
         "x": [
          "2023-04-18T13:00:00",
          "2023-04-18T14:00:00",
          "2023-04-18T15:00:00",
          "2023-04-18T16:00:00",
          "2023-04-18T20:00:00",
          "2023-04-18T22:00:00",
          "2023-04-18T23:00:00",
          "2023-04-19T00:00:00",
          "2023-04-19T01:00:00",
          "2023-04-19T02:00:00",
          "2023-04-19T03:00:00",
          "2023-04-19T07:00:00"
         ],
         "xaxis": "x",
         "y": [
          0.19191983342170715,
          0.26544901728630066,
          0.12511184811592102,
          0.09529545903205872,
          0.16633109748363495,
          0.06890589743852615,
          0.05836373195052147,
          0.17004859447479248,
          0.05064179375767708,
          0.22720302641391754,
          0.23788200318813324,
          0.05130775272846222
         ],
         "yaxis": "y"
        },
        {
         "alignmentgroup": "True",
         "hovertemplate": "Taxogroup2_UniEuk=Vertebrata<br>datetime=%{x}<br>rel_expression_per_hour=%{y}<extra></extra>",
         "legendgroup": "Vertebrata",
         "marker": {
          "color": "#FF5349",
          "pattern": {
           "shape": ""
          }
         },
         "name": "Vertebrata",
         "offsetgroup": "Vertebrata",
         "orientation": "v",
         "showlegend": true,
         "textposition": "auto",
         "type": "bar",
         "x": [
          "2023-04-18T13:00:00",
          "2023-04-18T21:00:00",
          "2023-04-19T01:00:00",
          "2023-04-19T03:00:00"
         ],
         "xaxis": "x",
         "y": [
          0.475578248500824,
          0.276908814907074,
          0.3159366250038147,
          0.31799033284187317
         ],
         "yaxis": "y"
        },
        {
         "alignmentgroup": "True",
         "hovertemplate": "Taxogroup2_UniEuk=Rare<br>datetime=%{x}<br>rel_expression_per_hour=%{y}<extra></extra>",
         "legendgroup": "Rare",
         "marker": {
          "color": "#545454",
          "pattern": {
           "shape": ""
          }
         },
         "name": "Rare",
         "offsetgroup": "Rare",
         "orientation": "v",
         "showlegend": true,
         "textposition": "auto",
         "type": "bar",
         "x": [
          "2023-04-18T13:00:00",
          "2023-04-18T14:00:00",
          "2023-04-18T15:00:00",
          "2023-04-18T16:00:00",
          "2023-04-18T17:00:00",
          "2023-04-18T18:00:00",
          "2023-04-18T19:00:00",
          "2023-04-18T20:00:00",
          "2023-04-18T21:00:00",
          "2023-04-18T22:00:00",
          "2023-04-18T23:00:00",
          "2023-04-19T00:00:00",
          "2023-04-19T01:00:00",
          "2023-04-19T02:00:00",
          "2023-04-19T03:00:00",
          "2023-04-19T04:00:00",
          "2023-04-19T05:00:00",
          "2023-04-19T06:00:00",
          "2023-04-19T07:00:00",
          "2023-04-19T08:00:00",
          "2023-04-19T09:00:00"
         ],
         "xaxis": "x",
         "y": [
          0.19084715843200684,
          0.2357228845357895,
          0.1765325367450714,
          0.13865290582180023,
          0.1943371593952179,
          0.16330261528491974,
          0.19750574231147766,
          0.18800556659698486,
          0.12762407958507538,
          0.23140770196914673,
          0.1601080298423767,
          0.23705682158470154,
          0.10970738530158997,
          0.25384172797203064,
          0.1479531228542328,
          0.25435420870780945,
          0.14192792773246765,
          0.1246938556432724,
          0.12976083159446716,
          0.2376295030117035,
          0.20250925421714783
         ],
         "yaxis": "y"
        }
       ],
       "layout": {
        "barmode": "relative",
        "height": 400,
        "legend": {
         "title": {
          "text": "Taxonomic Group"
         },
         "tracegroupgap": 0
        },
        "template": {
         "data": {
          "bar": [
           {
            "error_x": {
             "color": "#2a3f5f"
            },
            "error_y": {
             "color": "#2a3f5f"
            },
            "marker": {
             "line": {
              "color": "#E5ECF6",
              "width": 0.5
             },
             "pattern": {
              "fillmode": "overlay",
              "size": 10,
              "solidity": 0.2
             }
            },
            "type": "bar"
           }
          ],
          "barpolar": [
           {
            "marker": {
             "line": {
              "color": "#E5ECF6",
              "width": 0.5
             },
             "pattern": {
              "fillmode": "overlay",
              "size": 10,
              "solidity": 0.2
             }
            },
            "type": "barpolar"
           }
          ],
          "carpet": [
           {
            "aaxis": {
             "endlinecolor": "#2a3f5f",
             "gridcolor": "white",
             "linecolor": "white",
             "minorgridcolor": "white",
             "startlinecolor": "#2a3f5f"
            },
            "baxis": {
             "endlinecolor": "#2a3f5f",
             "gridcolor": "white",
             "linecolor": "white",
             "minorgridcolor": "white",
             "startlinecolor": "#2a3f5f"
            },
            "type": "carpet"
           }
          ],
          "choropleth": [
           {
            "colorbar": {
             "outlinewidth": 0,
             "ticks": ""
            },
            "type": "choropleth"
           }
          ],
          "contour": [
           {
            "colorbar": {
             "outlinewidth": 0,
             "ticks": ""
            },
            "colorscale": [
             [
              0,
              "#0d0887"
             ],
             [
              0.1111111111111111,
              "#46039f"
             ],
             [
              0.2222222222222222,
              "#7201a8"
             ],
             [
              0.3333333333333333,
              "#9c179e"
             ],
             [
              0.4444444444444444,
              "#bd3786"
             ],
             [
              0.5555555555555556,
              "#d8576b"
             ],
             [
              0.6666666666666666,
              "#ed7953"
             ],
             [
              0.7777777777777778,
              "#fb9f3a"
             ],
             [
              0.8888888888888888,
              "#fdca26"
             ],
             [
              1,
              "#f0f921"
             ]
            ],
            "type": "contour"
           }
          ],
          "contourcarpet": [
           {
            "colorbar": {
             "outlinewidth": 0,
             "ticks": ""
            },
            "type": "contourcarpet"
           }
          ],
          "heatmap": [
           {
            "colorbar": {
             "outlinewidth": 0,
             "ticks": ""
            },
            "colorscale": [
             [
              0,
              "#0d0887"
             ],
             [
              0.1111111111111111,
              "#46039f"
             ],
             [
              0.2222222222222222,
              "#7201a8"
             ],
             [
              0.3333333333333333,
              "#9c179e"
             ],
             [
              0.4444444444444444,
              "#bd3786"
             ],
             [
              0.5555555555555556,
              "#d8576b"
             ],
             [
              0.6666666666666666,
              "#ed7953"
             ],
             [
              0.7777777777777778,
              "#fb9f3a"
             ],
             [
              0.8888888888888888,
              "#fdca26"
             ],
             [
              1,
              "#f0f921"
             ]
            ],
            "type": "heatmap"
           }
          ],
          "heatmapgl": [
           {
            "colorbar": {
             "outlinewidth": 0,
             "ticks": ""
            },
            "colorscale": [
             [
              0,
              "#0d0887"
             ],
             [
              0.1111111111111111,
              "#46039f"
             ],
             [
              0.2222222222222222,
              "#7201a8"
             ],
             [
              0.3333333333333333,
              "#9c179e"
             ],
             [
              0.4444444444444444,
              "#bd3786"
             ],
             [
              0.5555555555555556,
              "#d8576b"
             ],
             [
              0.6666666666666666,
              "#ed7953"
             ],
             [
              0.7777777777777778,
              "#fb9f3a"
             ],
             [
              0.8888888888888888,
              "#fdca26"
             ],
             [
              1,
              "#f0f921"
             ]
            ],
            "type": "heatmapgl"
           }
          ],
          "histogram": [
           {
            "marker": {
             "pattern": {
              "fillmode": "overlay",
              "size": 10,
              "solidity": 0.2
             }
            },
            "type": "histogram"
           }
          ],
          "histogram2d": [
           {
            "colorbar": {
             "outlinewidth": 0,
             "ticks": ""
            },
            "colorscale": [
             [
              0,
              "#0d0887"
             ],
             [
              0.1111111111111111,
              "#46039f"
             ],
             [
              0.2222222222222222,
              "#7201a8"
             ],
             [
              0.3333333333333333,
              "#9c179e"
             ],
             [
              0.4444444444444444,
              "#bd3786"
             ],
             [
              0.5555555555555556,
              "#d8576b"
             ],
             [
              0.6666666666666666,
              "#ed7953"
             ],
             [
              0.7777777777777778,
              "#fb9f3a"
             ],
             [
              0.8888888888888888,
              "#fdca26"
             ],
             [
              1,
              "#f0f921"
             ]
            ],
            "type": "histogram2d"
           }
          ],
          "histogram2dcontour": [
           {
            "colorbar": {
             "outlinewidth": 0,
             "ticks": ""
            },
            "colorscale": [
             [
              0,
              "#0d0887"
             ],
             [
              0.1111111111111111,
              "#46039f"
             ],
             [
              0.2222222222222222,
              "#7201a8"
             ],
             [
              0.3333333333333333,
              "#9c179e"
             ],
             [
              0.4444444444444444,
              "#bd3786"
             ],
             [
              0.5555555555555556,
              "#d8576b"
             ],
             [
              0.6666666666666666,
              "#ed7953"
             ],
             [
              0.7777777777777778,
              "#fb9f3a"
             ],
             [
              0.8888888888888888,
              "#fdca26"
             ],
             [
              1,
              "#f0f921"
             ]
            ],
            "type": "histogram2dcontour"
           }
          ],
          "mesh3d": [
           {
            "colorbar": {
             "outlinewidth": 0,
             "ticks": ""
            },
            "type": "mesh3d"
           }
          ],
          "parcoords": [
           {
            "line": {
             "colorbar": {
              "outlinewidth": 0,
              "ticks": ""
             }
            },
            "type": "parcoords"
           }
          ],
          "pie": [
           {
            "automargin": true,
            "type": "pie"
           }
          ],
          "scatter": [
           {
            "fillpattern": {
             "fillmode": "overlay",
             "size": 10,
             "solidity": 0.2
            },
            "type": "scatter"
           }
          ],
          "scatter3d": [
           {
            "line": {
             "colorbar": {
              "outlinewidth": 0,
              "ticks": ""
             }
            },
            "marker": {
             "colorbar": {
              "outlinewidth": 0,
              "ticks": ""
             }
            },
            "type": "scatter3d"
           }
          ],
          "scattercarpet": [
           {
            "marker": {
             "colorbar": {
              "outlinewidth": 0,
              "ticks": ""
             }
            },
            "type": "scattercarpet"
           }
          ],
          "scattergeo": [
           {
            "marker": {
             "colorbar": {
              "outlinewidth": 0,
              "ticks": ""
             }
            },
            "type": "scattergeo"
           }
          ],
          "scattergl": [
           {
            "marker": {
             "colorbar": {
              "outlinewidth": 0,
              "ticks": ""
             }
            },
            "type": "scattergl"
           }
          ],
          "scattermapbox": [
           {
            "marker": {
             "colorbar": {
              "outlinewidth": 0,
              "ticks": ""
             }
            },
            "type": "scattermapbox"
           }
          ],
          "scatterpolar": [
           {
            "marker": {
             "colorbar": {
              "outlinewidth": 0,
              "ticks": ""
             }
            },
            "type": "scatterpolar"
           }
          ],
          "scatterpolargl": [
           {
            "marker": {
             "colorbar": {
              "outlinewidth": 0,
              "ticks": ""
             }
            },
            "type": "scatterpolargl"
           }
          ],
          "scatterternary": [
           {
            "marker": {
             "colorbar": {
              "outlinewidth": 0,
              "ticks": ""
             }
            },
            "type": "scatterternary"
           }
          ],
          "surface": [
           {
            "colorbar": {
             "outlinewidth": 0,
             "ticks": ""
            },
            "colorscale": [
             [
              0,
              "#0d0887"
             ],
             [
              0.1111111111111111,
              "#46039f"
             ],
             [
              0.2222222222222222,
              "#7201a8"
             ],
             [
              0.3333333333333333,
              "#9c179e"
             ],
             [
              0.4444444444444444,
              "#bd3786"
             ],
             [
              0.5555555555555556,
              "#d8576b"
             ],
             [
              0.6666666666666666,
              "#ed7953"
             ],
             [
              0.7777777777777778,
              "#fb9f3a"
             ],
             [
              0.8888888888888888,
              "#fdca26"
             ],
             [
              1,
              "#f0f921"
             ]
            ],
            "type": "surface"
           }
          ],
          "table": [
           {
            "cells": {
             "fill": {
              "color": "#EBF0F8"
             },
             "line": {
              "color": "white"
             }
            },
            "header": {
             "fill": {
              "color": "#C8D4E3"
             },
             "line": {
              "color": "white"
             }
            },
            "type": "table"
           }
          ]
         },
         "layout": {
          "annotationdefaults": {
           "arrowcolor": "#2a3f5f",
           "arrowhead": 0,
           "arrowwidth": 1
          },
          "autotypenumbers": "strict",
          "coloraxis": {
           "colorbar": {
            "outlinewidth": 0,
            "ticks": ""
           }
          },
          "colorscale": {
           "diverging": [
            [
             0,
             "#8e0152"
            ],
            [
             0.1,
             "#c51b7d"
            ],
            [
             0.2,
             "#de77ae"
            ],
            [
             0.3,
             "#f1b6da"
            ],
            [
             0.4,
             "#fde0ef"
            ],
            [
             0.5,
             "#f7f7f7"
            ],
            [
             0.6,
             "#e6f5d0"
            ],
            [
             0.7,
             "#b8e186"
            ],
            [
             0.8,
             "#7fbc41"
            ],
            [
             0.9,
             "#4d9221"
            ],
            [
             1,
             "#276419"
            ]
           ],
           "sequential": [
            [
             0,
             "#0d0887"
            ],
            [
             0.1111111111111111,
             "#46039f"
            ],
            [
             0.2222222222222222,
             "#7201a8"
            ],
            [
             0.3333333333333333,
             "#9c179e"
            ],
            [
             0.4444444444444444,
             "#bd3786"
            ],
            [
             0.5555555555555556,
             "#d8576b"
            ],
            [
             0.6666666666666666,
             "#ed7953"
            ],
            [
             0.7777777777777778,
             "#fb9f3a"
            ],
            [
             0.8888888888888888,
             "#fdca26"
            ],
            [
             1,
             "#f0f921"
            ]
           ],
           "sequentialminus": [
            [
             0,
             "#0d0887"
            ],
            [
             0.1111111111111111,
             "#46039f"
            ],
            [
             0.2222222222222222,
             "#7201a8"
            ],
            [
             0.3333333333333333,
             "#9c179e"
            ],
            [
             0.4444444444444444,
             "#bd3786"
            ],
            [
             0.5555555555555556,
             "#d8576b"
            ],
            [
             0.6666666666666666,
             "#ed7953"
            ],
            [
             0.7777777777777778,
             "#fb9f3a"
            ],
            [
             0.8888888888888888,
             "#fdca26"
            ],
            [
             1,
             "#f0f921"
            ]
           ]
          },
          "colorway": [
           "#636efa",
           "#EF553B",
           "#00cc96",
           "#ab63fa",
           "#FFA15A",
           "#19d3f3",
           "#FF6692",
           "#B6E880",
           "#FF97FF",
           "#FECB52"
          ],
          "font": {
           "color": "#2a3f5f"
          },
          "geo": {
           "bgcolor": "white",
           "lakecolor": "white",
           "landcolor": "#E5ECF6",
           "showlakes": true,
           "showland": true,
           "subunitcolor": "white"
          },
          "hoverlabel": {
           "align": "left"
          },
          "hovermode": "closest",
          "mapbox": {
           "style": "light"
          },
          "paper_bgcolor": "white",
          "plot_bgcolor": "#E5ECF6",
          "polar": {
           "angularaxis": {
            "gridcolor": "white",
            "linecolor": "white",
            "ticks": ""
           },
           "bgcolor": "#E5ECF6",
           "radialaxis": {
            "gridcolor": "white",
            "linecolor": "white",
            "ticks": ""
           }
          },
          "scene": {
           "xaxis": {
            "backgroundcolor": "#E5ECF6",
            "gridcolor": "white",
            "gridwidth": 2,
            "linecolor": "white",
            "showbackground": true,
            "ticks": "",
            "zerolinecolor": "white"
           },
           "yaxis": {
            "backgroundcolor": "#E5ECF6",
            "gridcolor": "white",
            "gridwidth": 2,
            "linecolor": "white",
            "showbackground": true,
            "ticks": "",
            "zerolinecolor": "white"
           },
           "zaxis": {
            "backgroundcolor": "#E5ECF6",
            "gridcolor": "white",
            "gridwidth": 2,
            "linecolor": "white",
            "showbackground": true,
            "ticks": "",
            "zerolinecolor": "white"
           }
          },
          "shapedefaults": {
           "line": {
            "color": "#2a3f5f"
           }
          },
          "ternary": {
           "aaxis": {
            "gridcolor": "white",
            "linecolor": "white",
            "ticks": ""
           },
           "baxis": {
            "gridcolor": "white",
            "linecolor": "white",
            "ticks": ""
           },
           "bgcolor": "#E5ECF6",
           "caxis": {
            "gridcolor": "white",
            "linecolor": "white",
            "ticks": ""
           }
          },
          "title": {
           "x": 0.05
          },
          "xaxis": {
           "automargin": true,
           "gridcolor": "white",
           "linecolor": "white",
           "ticks": "",
           "title": {
            "standoff": 15
           },
           "zerolinecolor": "white",
           "zerolinewidth": 2
          },
          "yaxis": {
           "automargin": true,
           "gridcolor": "white",
           "linecolor": "white",
           "ticks": "",
           "title": {
            "standoff": 15
           },
           "zerolinecolor": "white",
           "zerolinewidth": 2
          }
         }
        },
        "title": {
         "text": "Relative Expression Per Hour at Station 51"
        },
        "width": 800,
        "xaxis": {
         "anchor": "y",
         "domain": [
          0,
          1
         ],
         "tickangle": -45,
         "title": {
          "text": "Date and Time"
         }
        },
        "yaxis": {
         "anchor": "x",
         "domain": [
          0,
          1
         ],
         "title": {
          "text": "Relative Expression"
         }
        }
       }
      }
     },
     "metadata": {},
     "output_type": "display_data"
    }
   ],
   "source": [
    "# Filter data based on TPM and p_ident thresholds\n",
    "filtered_data = data_51[(data_51['p_ident'] >= 0.75)]\n",
    "\n",
    "# Group by taxonomic level and sample, then sum TPM\n",
    "grouped_df = filtered_data.groupby(['Taxogroup2_UniEuk', 'datetime'])['TPM'].sum().reset_index()\n",
    "\n",
    "grouped_df.head()\n",
    "# Normalize TPM sums to get relative expression per hour\n",
    "total_tpm_per_hour = grouped_df.groupby('datetime')['TPM'].transform('sum')\n",
    "grouped_df['rel_expression_per_hour'] = grouped_df['TPM'] / total_tpm_per_hour\n",
    "\n",
    "# Combine low-abundant groups into a single 'Rare' category\n",
    "threshold = 0.05\n",
    "grouped_df.loc[grouped_df['rel_expression_per_hour'] <= threshold, 'Taxogroup2_UniEuk'] = 'Rare'\n",
    "\n",
    "# Combine 'core-Noctilucales' and 'Dinophyceae'\n",
    "grouped_df['Taxogroup2_UniEuk'] = grouped_df['Taxogroup2_UniEuk'].replace({'core-Noctilucales': 'Dinophyceae'})\n",
    "\n",
    "# Remove categories with no expression\n",
    "grouped_df = grouped_df[grouped_df['rel_expression_per_hour'] > 0]\n",
    "\n",
    "# Group once more to combine Rares\n",
    "grouped_df = grouped_df.groupby(['Taxogroup2_UniEuk', 'datetime'])['rel_expression_per_hour'].sum().reset_index()\n",
    "\n",
    "# Plot\n",
    "fig = px.bar(grouped_df, \n",
    "            x='datetime', \n",
    "            y='rel_expression_per_hour', \n",
    "            color='Taxogroup2_UniEuk',\n",
    "            title='Relative Expression Per Hour at Station 51',\n",
    "            category_orders={\"Taxogroup2_UniEuk\": ['Arthropoda', 'Acantharea', 'Ctenophora', 'Diatomeae', 'Dinophyceae', \n",
    "                                                    'Florideophyceae','Odontella', 'Phaeodarea', 'Prymnesiophyceae',\n",
    "                                                    'Spirotrichea', 'Vertebrata', 'Rare',]},\n",
    "            color_discrete_map=color_discrete_map\n",
    "            )\n",
    "\n",
    "fig.update_layout(\n",
    "    width=800,\n",
    "    height=400,\n",
    "    xaxis_title='Date and Time',\n",
    "    yaxis_title='Relative Expression',\n",
    "    xaxis_tickangle=-45,\n",
    "    legend_title='Taxonomic Group'\n",
    ")\n",
    "\n",
    "# Save the figure\n",
    "filename_base = \"../figures/metatranscriptomics/51_relative_expression_per_hour\"\n",
    "fig.write_image(filename_base + \".png\", scale=1)\n",
    "fig.write_image(filename_base + \".svg\", scale=1)\n",
    "\n",
    "fig.show()"
   ]
  },
  {
   "cell_type": "code",
   "execution_count": 25,
   "metadata": {},
   "outputs": [
    {
     "name": "stderr",
     "output_type": "stream",
     "text": [
      "/Users/michiel/miniconda3/envs/spring_campaign_2023/lib/python3.12/site-packages/_plotly_utils/basevalidators.py:106: FutureWarning:\n",
      "\n",
      "The behavior of DatetimeProperties.to_pydatetime is deprecated, in a future version this will return a Series containing python datetime objects instead of an ndarray. To retain the old behavior, call `np.array` on the result\n",
      "\n"
     ]
    },
    {
     "data": {
      "application/vnd.plotly.v1+json": {
       "config": {
        "plotlyServerURL": "https://plot.ly"
       },
       "data": [
        {
         "alignmentgroup": "True",
         "hovertemplate": "Taxogroup2_UniEuk=Arthropoda<br>datetime=%{x}<br>TPM=%{y}<extra></extra>",
         "legendgroup": "Arthropoda",
         "marker": {
          "color": "#0072B2",
          "pattern": {
           "shape": ""
          }
         },
         "name": "Arthropoda",
         "offsetgroup": "Arthropoda",
         "orientation": "v",
         "showlegend": true,
         "textposition": "auto",
         "type": "bar",
         "x": [
          "2023-04-18T13:00:00",
          "2023-04-18T14:00:00",
          "2023-04-18T15:00:00",
          "2023-04-18T16:00:00",
          "2023-04-18T17:00:00",
          "2023-04-18T18:00:00",
          "2023-04-18T19:00:00",
          "2023-04-18T20:00:00",
          "2023-04-18T21:00:00",
          "2023-04-18T22:00:00",
          "2023-04-18T23:00:00",
          "2023-04-19T00:00:00",
          "2023-04-19T01:00:00",
          "2023-04-19T02:00:00",
          "2023-04-19T03:00:00",
          "2023-04-19T04:00:00",
          "2023-04-19T05:00:00",
          "2023-04-19T06:00:00",
          "2023-04-19T07:00:00",
          "2023-04-19T08:00:00",
          "2023-04-19T09:00:00"
         ],
         "xaxis": "x",
         "y": [
          10496.2021484375,
          22565.8828125,
          18270.671875,
          24897.96484375,
          33683.91796875,
          25505.767578125,
          23140.400390625,
          20762.75,
          19247.099609375,
          25632.33984375,
          27978.609375,
          20128.34375,
          27214.310546875,
          26022.19921875,
          13911.9521484375,
          22378.259765625,
          38356.3984375,
          31695.23828125,
          40193.7890625,
          26185.501953125,
          36720.15234375
         ],
         "yaxis": "y"
        },
        {
         "alignmentgroup": "True",
         "hovertemplate": "Taxogroup2_UniEuk=Ctenophora<br>datetime=%{x}<br>TPM=%{y}<extra></extra>",
         "legendgroup": "Ctenophora",
         "marker": {
          "color": "#ADA7A7",
          "pattern": {
           "shape": ""
          }
         },
         "name": "Ctenophora",
         "offsetgroup": "Ctenophora",
         "orientation": "v",
         "showlegend": true,
         "textposition": "auto",
         "type": "bar",
         "x": [
          "2023-04-18T15:00:00",
          "2023-04-18T18:00:00",
          "2023-04-18T19:00:00",
          "2023-04-18T20:00:00",
          "2023-04-18T22:00:00",
          "2023-04-18T23:00:00",
          "2023-04-19T00:00:00",
          "2023-04-19T01:00:00",
          "2023-04-19T03:00:00",
          "2023-04-19T04:00:00",
          "2023-04-19T09:00:00"
         ],
         "xaxis": "x",
         "y": [
          4541.048828125,
          3963.171630859375,
          6306.83251953125,
          9666.9833984375,
          4879.09814453125,
          3760.52294921875,
          3198.626220703125,
          3477.967529296875,
          4453.3115234375,
          3267.61474609375,
          2788.40576171875
         ],
         "yaxis": "y"
        },
        {
         "alignmentgroup": "True",
         "hovertemplate": "Taxogroup2_UniEuk=Diatomeae<br>datetime=%{x}<br>TPM=%{y}<extra></extra>",
         "legendgroup": "Diatomeae",
         "marker": {
          "color": "#E69F00",
          "pattern": {
           "shape": ""
          }
         },
         "name": "Diatomeae",
         "offsetgroup": "Diatomeae",
         "orientation": "v",
         "showlegend": true,
         "textposition": "auto",
         "type": "bar",
         "x": [
          "2023-04-18T13:00:00",
          "2023-04-18T14:00:00",
          "2023-04-18T15:00:00",
          "2023-04-18T16:00:00",
          "2023-04-18T19:00:00",
          "2023-04-19T00:00:00",
          "2023-04-19T02:00:00"
         ],
         "xaxis": "x",
         "y": [
          6391.5517578125,
          3447.874267578125,
          4358.796875,
          3298.60400390625,
          3387.80029296875,
          5702.4931640625,
          3058.25439453125
         ],
         "yaxis": "y"
        },
        {
         "alignmentgroup": "True",
         "hovertemplate": "Taxogroup2_UniEuk=Dinophyceae<br>datetime=%{x}<br>TPM=%{y}<extra></extra>",
         "legendgroup": "Dinophyceae",
         "marker": {
          "color": "#56B4E9",
          "pattern": {
           "shape": ""
          }
         },
         "name": "Dinophyceae",
         "offsetgroup": "Dinophyceae",
         "orientation": "v",
         "showlegend": true,
         "textposition": "auto",
         "type": "bar",
         "x": [
          "2023-04-18T14:00:00",
          "2023-04-18T15:00:00",
          "2023-04-18T16:00:00",
          "2023-04-18T17:00:00",
          "2023-04-18T18:00:00",
          "2023-04-18T19:00:00",
          "2023-04-18T20:00:00",
          "2023-04-18T21:00:00",
          "2023-04-18T22:00:00",
          "2023-04-18T23:00:00",
          "2023-04-19T04:00:00",
          "2023-04-19T05:00:00",
          "2023-04-19T06:00:00",
          "2023-04-19T07:00:00",
          "2023-04-19T08:00:00"
         ],
         "xaxis": "x",
         "y": [
          3227.290771484375,
          25176.59375,
          12587.2119140625,
          34012.0546875,
          32242.939453125,
          18307.123046875,
          5914.33154296875,
          34111.4140625,
          7321.2939453125,
          9337.88671875,
          15263.9228515625,
          14729.703125,
          24146.81640625,
          6602.11572265625,
          18954.90625
         ],
         "yaxis": "y"
        },
        {
         "alignmentgroup": "True",
         "hovertemplate": "Taxogroup2_UniEuk=Prymnesiophyceae<br>datetime=%{x}<br>TPM=%{y}<extra></extra>",
         "legendgroup": "Prymnesiophyceae",
         "marker": {
          "color": "#009E73",
          "pattern": {
           "shape": ""
          }
         },
         "name": "Prymnesiophyceae",
         "offsetgroup": "Prymnesiophyceae",
         "orientation": "v",
         "showlegend": true,
         "textposition": "auto",
         "type": "bar",
         "x": [
          "2023-04-18T13:00:00",
          "2023-04-18T14:00:00",
          "2023-04-18T15:00:00",
          "2023-04-18T16:00:00",
          "2023-04-18T20:00:00",
          "2023-04-18T22:00:00",
          "2023-04-18T23:00:00",
          "2023-04-19T00:00:00",
          "2023-04-19T01:00:00",
          "2023-04-19T02:00:00",
          "2023-04-19T03:00:00",
          "2023-04-19T07:00:00"
         ],
         "xaxis": "x",
         "y": [
          22880.23828125,
          15560.4853515625,
          9378.0927734375,
          5073.4296875,
          9362.693359375,
          3725.809814453125,
          3067.590087890625,
          8325.96484375,
          2967.86328125,
          12731.6708984375,
          14750.646484375,
          2931.860595703125
         ],
         "yaxis": "y"
        },
        {
         "alignmentgroup": "True",
         "hovertemplate": "Taxogroup2_UniEuk=Vertebrata<br>datetime=%{x}<br>TPM=%{y}<extra></extra>",
         "legendgroup": "Vertebrata",
         "marker": {
          "color": "#FF5349",
          "pattern": {
           "shape": ""
          }
         },
         "name": "Vertebrata",
         "offsetgroup": "Vertebrata",
         "orientation": "v",
         "showlegend": true,
         "textposition": "auto",
         "type": "bar",
         "x": [
          "2023-04-18T13:00:00",
          "2023-04-18T21:00:00",
          "2023-04-19T01:00:00",
          "2023-04-19T03:00:00"
         ],
         "xaxis": "x",
         "y": [
          56697.33984375,
          24813.197265625,
          18515.47265625,
          19718.0234375
         ],
         "yaxis": "y"
        },
        {
         "alignmentgroup": "True",
         "hovertemplate": "Taxogroup2_UniEuk=Rare<br>datetime=%{x}<br>TPM=%{y}<extra></extra>",
         "legendgroup": "Rare",
         "marker": {
          "color": "#545454",
          "pattern": {
           "shape": ""
          }
         },
         "name": "Rare",
         "offsetgroup": "Rare",
         "orientation": "v",
         "showlegend": true,
         "textposition": "auto",
         "type": "bar",
         "x": [
          "2023-04-18T13:00:00",
          "2023-04-18T14:00:00",
          "2023-04-18T15:00:00",
          "2023-04-18T16:00:00",
          "2023-04-18T17:00:00",
          "2023-04-18T18:00:00",
          "2023-04-18T19:00:00",
          "2023-04-18T20:00:00",
          "2023-04-18T21:00:00",
          "2023-04-18T22:00:00",
          "2023-04-18T23:00:00",
          "2023-04-19T00:00:00",
          "2023-04-19T01:00:00",
          "2023-04-19T02:00:00",
          "2023-04-19T03:00:00",
          "2023-04-19T04:00:00",
          "2023-04-19T05:00:00",
          "2023-04-19T06:00:00",
          "2023-04-19T07:00:00",
          "2023-04-19T08:00:00",
          "2023-04-19T09:00:00"
         ],
         "xaxis": "x",
         "y": [
          22752.357421875,
          13817.953125,
          13232.4677734375,
          7381.734375,
          16329.2158203125,
          12044.630859375,
          12586.8427734375,
          10582.73828125,
          11436.1171875,
          12512.4423828125,
          8415.2568359375,
          11606.83984375,
          6429.4033203125,
          14224.412109375,
          9174.314453125,
          13955.1240234375,
          8780.615234375,
          7955.11474609375,
          7414.876953125,
          14070.1826171875,
          10032.5283203125
         ],
         "yaxis": "y"
        }
       ],
       "layout": {
        "barmode": "relative",
        "height": 400,
        "legend": {
         "title": {
          "text": "Taxonomic Group"
         },
         "tracegroupgap": 0
        },
        "template": {
         "data": {
          "bar": [
           {
            "error_x": {
             "color": "#2a3f5f"
            },
            "error_y": {
             "color": "#2a3f5f"
            },
            "marker": {
             "line": {
              "color": "#E5ECF6",
              "width": 0.5
             },
             "pattern": {
              "fillmode": "overlay",
              "size": 10,
              "solidity": 0.2
             }
            },
            "type": "bar"
           }
          ],
          "barpolar": [
           {
            "marker": {
             "line": {
              "color": "#E5ECF6",
              "width": 0.5
             },
             "pattern": {
              "fillmode": "overlay",
              "size": 10,
              "solidity": 0.2
             }
            },
            "type": "barpolar"
           }
          ],
          "carpet": [
           {
            "aaxis": {
             "endlinecolor": "#2a3f5f",
             "gridcolor": "white",
             "linecolor": "white",
             "minorgridcolor": "white",
             "startlinecolor": "#2a3f5f"
            },
            "baxis": {
             "endlinecolor": "#2a3f5f",
             "gridcolor": "white",
             "linecolor": "white",
             "minorgridcolor": "white",
             "startlinecolor": "#2a3f5f"
            },
            "type": "carpet"
           }
          ],
          "choropleth": [
           {
            "colorbar": {
             "outlinewidth": 0,
             "ticks": ""
            },
            "type": "choropleth"
           }
          ],
          "contour": [
           {
            "colorbar": {
             "outlinewidth": 0,
             "ticks": ""
            },
            "colorscale": [
             [
              0,
              "#0d0887"
             ],
             [
              0.1111111111111111,
              "#46039f"
             ],
             [
              0.2222222222222222,
              "#7201a8"
             ],
             [
              0.3333333333333333,
              "#9c179e"
             ],
             [
              0.4444444444444444,
              "#bd3786"
             ],
             [
              0.5555555555555556,
              "#d8576b"
             ],
             [
              0.6666666666666666,
              "#ed7953"
             ],
             [
              0.7777777777777778,
              "#fb9f3a"
             ],
             [
              0.8888888888888888,
              "#fdca26"
             ],
             [
              1,
              "#f0f921"
             ]
            ],
            "type": "contour"
           }
          ],
          "contourcarpet": [
           {
            "colorbar": {
             "outlinewidth": 0,
             "ticks": ""
            },
            "type": "contourcarpet"
           }
          ],
          "heatmap": [
           {
            "colorbar": {
             "outlinewidth": 0,
             "ticks": ""
            },
            "colorscale": [
             [
              0,
              "#0d0887"
             ],
             [
              0.1111111111111111,
              "#46039f"
             ],
             [
              0.2222222222222222,
              "#7201a8"
             ],
             [
              0.3333333333333333,
              "#9c179e"
             ],
             [
              0.4444444444444444,
              "#bd3786"
             ],
             [
              0.5555555555555556,
              "#d8576b"
             ],
             [
              0.6666666666666666,
              "#ed7953"
             ],
             [
              0.7777777777777778,
              "#fb9f3a"
             ],
             [
              0.8888888888888888,
              "#fdca26"
             ],
             [
              1,
              "#f0f921"
             ]
            ],
            "type": "heatmap"
           }
          ],
          "heatmapgl": [
           {
            "colorbar": {
             "outlinewidth": 0,
             "ticks": ""
            },
            "colorscale": [
             [
              0,
              "#0d0887"
             ],
             [
              0.1111111111111111,
              "#46039f"
             ],
             [
              0.2222222222222222,
              "#7201a8"
             ],
             [
              0.3333333333333333,
              "#9c179e"
             ],
             [
              0.4444444444444444,
              "#bd3786"
             ],
             [
              0.5555555555555556,
              "#d8576b"
             ],
             [
              0.6666666666666666,
              "#ed7953"
             ],
             [
              0.7777777777777778,
              "#fb9f3a"
             ],
             [
              0.8888888888888888,
              "#fdca26"
             ],
             [
              1,
              "#f0f921"
             ]
            ],
            "type": "heatmapgl"
           }
          ],
          "histogram": [
           {
            "marker": {
             "pattern": {
              "fillmode": "overlay",
              "size": 10,
              "solidity": 0.2
             }
            },
            "type": "histogram"
           }
          ],
          "histogram2d": [
           {
            "colorbar": {
             "outlinewidth": 0,
             "ticks": ""
            },
            "colorscale": [
             [
              0,
              "#0d0887"
             ],
             [
              0.1111111111111111,
              "#46039f"
             ],
             [
              0.2222222222222222,
              "#7201a8"
             ],
             [
              0.3333333333333333,
              "#9c179e"
             ],
             [
              0.4444444444444444,
              "#bd3786"
             ],
             [
              0.5555555555555556,
              "#d8576b"
             ],
             [
              0.6666666666666666,
              "#ed7953"
             ],
             [
              0.7777777777777778,
              "#fb9f3a"
             ],
             [
              0.8888888888888888,
              "#fdca26"
             ],
             [
              1,
              "#f0f921"
             ]
            ],
            "type": "histogram2d"
           }
          ],
          "histogram2dcontour": [
           {
            "colorbar": {
             "outlinewidth": 0,
             "ticks": ""
            },
            "colorscale": [
             [
              0,
              "#0d0887"
             ],
             [
              0.1111111111111111,
              "#46039f"
             ],
             [
              0.2222222222222222,
              "#7201a8"
             ],
             [
              0.3333333333333333,
              "#9c179e"
             ],
             [
              0.4444444444444444,
              "#bd3786"
             ],
             [
              0.5555555555555556,
              "#d8576b"
             ],
             [
              0.6666666666666666,
              "#ed7953"
             ],
             [
              0.7777777777777778,
              "#fb9f3a"
             ],
             [
              0.8888888888888888,
              "#fdca26"
             ],
             [
              1,
              "#f0f921"
             ]
            ],
            "type": "histogram2dcontour"
           }
          ],
          "mesh3d": [
           {
            "colorbar": {
             "outlinewidth": 0,
             "ticks": ""
            },
            "type": "mesh3d"
           }
          ],
          "parcoords": [
           {
            "line": {
             "colorbar": {
              "outlinewidth": 0,
              "ticks": ""
             }
            },
            "type": "parcoords"
           }
          ],
          "pie": [
           {
            "automargin": true,
            "type": "pie"
           }
          ],
          "scatter": [
           {
            "fillpattern": {
             "fillmode": "overlay",
             "size": 10,
             "solidity": 0.2
            },
            "type": "scatter"
           }
          ],
          "scatter3d": [
           {
            "line": {
             "colorbar": {
              "outlinewidth": 0,
              "ticks": ""
             }
            },
            "marker": {
             "colorbar": {
              "outlinewidth": 0,
              "ticks": ""
             }
            },
            "type": "scatter3d"
           }
          ],
          "scattercarpet": [
           {
            "marker": {
             "colorbar": {
              "outlinewidth": 0,
              "ticks": ""
             }
            },
            "type": "scattercarpet"
           }
          ],
          "scattergeo": [
           {
            "marker": {
             "colorbar": {
              "outlinewidth": 0,
              "ticks": ""
             }
            },
            "type": "scattergeo"
           }
          ],
          "scattergl": [
           {
            "marker": {
             "colorbar": {
              "outlinewidth": 0,
              "ticks": ""
             }
            },
            "type": "scattergl"
           }
          ],
          "scattermapbox": [
           {
            "marker": {
             "colorbar": {
              "outlinewidth": 0,
              "ticks": ""
             }
            },
            "type": "scattermapbox"
           }
          ],
          "scatterpolar": [
           {
            "marker": {
             "colorbar": {
              "outlinewidth": 0,
              "ticks": ""
             }
            },
            "type": "scatterpolar"
           }
          ],
          "scatterpolargl": [
           {
            "marker": {
             "colorbar": {
              "outlinewidth": 0,
              "ticks": ""
             }
            },
            "type": "scatterpolargl"
           }
          ],
          "scatterternary": [
           {
            "marker": {
             "colorbar": {
              "outlinewidth": 0,
              "ticks": ""
             }
            },
            "type": "scatterternary"
           }
          ],
          "surface": [
           {
            "colorbar": {
             "outlinewidth": 0,
             "ticks": ""
            },
            "colorscale": [
             [
              0,
              "#0d0887"
             ],
             [
              0.1111111111111111,
              "#46039f"
             ],
             [
              0.2222222222222222,
              "#7201a8"
             ],
             [
              0.3333333333333333,
              "#9c179e"
             ],
             [
              0.4444444444444444,
              "#bd3786"
             ],
             [
              0.5555555555555556,
              "#d8576b"
             ],
             [
              0.6666666666666666,
              "#ed7953"
             ],
             [
              0.7777777777777778,
              "#fb9f3a"
             ],
             [
              0.8888888888888888,
              "#fdca26"
             ],
             [
              1,
              "#f0f921"
             ]
            ],
            "type": "surface"
           }
          ],
          "table": [
           {
            "cells": {
             "fill": {
              "color": "#EBF0F8"
             },
             "line": {
              "color": "white"
             }
            },
            "header": {
             "fill": {
              "color": "#C8D4E3"
             },
             "line": {
              "color": "white"
             }
            },
            "type": "table"
           }
          ]
         },
         "layout": {
          "annotationdefaults": {
           "arrowcolor": "#2a3f5f",
           "arrowhead": 0,
           "arrowwidth": 1
          },
          "autotypenumbers": "strict",
          "coloraxis": {
           "colorbar": {
            "outlinewidth": 0,
            "ticks": ""
           }
          },
          "colorscale": {
           "diverging": [
            [
             0,
             "#8e0152"
            ],
            [
             0.1,
             "#c51b7d"
            ],
            [
             0.2,
             "#de77ae"
            ],
            [
             0.3,
             "#f1b6da"
            ],
            [
             0.4,
             "#fde0ef"
            ],
            [
             0.5,
             "#f7f7f7"
            ],
            [
             0.6,
             "#e6f5d0"
            ],
            [
             0.7,
             "#b8e186"
            ],
            [
             0.8,
             "#7fbc41"
            ],
            [
             0.9,
             "#4d9221"
            ],
            [
             1,
             "#276419"
            ]
           ],
           "sequential": [
            [
             0,
             "#0d0887"
            ],
            [
             0.1111111111111111,
             "#46039f"
            ],
            [
             0.2222222222222222,
             "#7201a8"
            ],
            [
             0.3333333333333333,
             "#9c179e"
            ],
            [
             0.4444444444444444,
             "#bd3786"
            ],
            [
             0.5555555555555556,
             "#d8576b"
            ],
            [
             0.6666666666666666,
             "#ed7953"
            ],
            [
             0.7777777777777778,
             "#fb9f3a"
            ],
            [
             0.8888888888888888,
             "#fdca26"
            ],
            [
             1,
             "#f0f921"
            ]
           ],
           "sequentialminus": [
            [
             0,
             "#0d0887"
            ],
            [
             0.1111111111111111,
             "#46039f"
            ],
            [
             0.2222222222222222,
             "#7201a8"
            ],
            [
             0.3333333333333333,
             "#9c179e"
            ],
            [
             0.4444444444444444,
             "#bd3786"
            ],
            [
             0.5555555555555556,
             "#d8576b"
            ],
            [
             0.6666666666666666,
             "#ed7953"
            ],
            [
             0.7777777777777778,
             "#fb9f3a"
            ],
            [
             0.8888888888888888,
             "#fdca26"
            ],
            [
             1,
             "#f0f921"
            ]
           ]
          },
          "colorway": [
           "#636efa",
           "#EF553B",
           "#00cc96",
           "#ab63fa",
           "#FFA15A",
           "#19d3f3",
           "#FF6692",
           "#B6E880",
           "#FF97FF",
           "#FECB52"
          ],
          "font": {
           "color": "#2a3f5f"
          },
          "geo": {
           "bgcolor": "white",
           "lakecolor": "white",
           "landcolor": "#E5ECF6",
           "showlakes": true,
           "showland": true,
           "subunitcolor": "white"
          },
          "hoverlabel": {
           "align": "left"
          },
          "hovermode": "closest",
          "mapbox": {
           "style": "light"
          },
          "paper_bgcolor": "white",
          "plot_bgcolor": "#E5ECF6",
          "polar": {
           "angularaxis": {
            "gridcolor": "white",
            "linecolor": "white",
            "ticks": ""
           },
           "bgcolor": "#E5ECF6",
           "radialaxis": {
            "gridcolor": "white",
            "linecolor": "white",
            "ticks": ""
           }
          },
          "scene": {
           "xaxis": {
            "backgroundcolor": "#E5ECF6",
            "gridcolor": "white",
            "gridwidth": 2,
            "linecolor": "white",
            "showbackground": true,
            "ticks": "",
            "zerolinecolor": "white"
           },
           "yaxis": {
            "backgroundcolor": "#E5ECF6",
            "gridcolor": "white",
            "gridwidth": 2,
            "linecolor": "white",
            "showbackground": true,
            "ticks": "",
            "zerolinecolor": "white"
           },
           "zaxis": {
            "backgroundcolor": "#E5ECF6",
            "gridcolor": "white",
            "gridwidth": 2,
            "linecolor": "white",
            "showbackground": true,
            "ticks": "",
            "zerolinecolor": "white"
           }
          },
          "shapedefaults": {
           "line": {
            "color": "#2a3f5f"
           }
          },
          "ternary": {
           "aaxis": {
            "gridcolor": "white",
            "linecolor": "white",
            "ticks": ""
           },
           "baxis": {
            "gridcolor": "white",
            "linecolor": "white",
            "ticks": ""
           },
           "bgcolor": "#E5ECF6",
           "caxis": {
            "gridcolor": "white",
            "linecolor": "white",
            "ticks": ""
           }
          },
          "title": {
           "x": 0.05
          },
          "xaxis": {
           "automargin": true,
           "gridcolor": "white",
           "linecolor": "white",
           "ticks": "",
           "title": {
            "standoff": 15
           },
           "zerolinecolor": "white",
           "zerolinewidth": 2
          },
          "yaxis": {
           "automargin": true,
           "gridcolor": "white",
           "linecolor": "white",
           "ticks": "",
           "title": {
            "standoff": 15
           },
           "zerolinecolor": "white",
           "zerolinewidth": 2
          }
         }
        },
        "title": {
         "text": "TPM Expression Per hour at Station 51"
        },
        "width": 800,
        "xaxis": {
         "anchor": "y",
         "domain": [
          0,
          1
         ],
         "tickangle": -45,
         "title": {
          "text": "Date and Time"
         }
        },
        "yaxis": {
         "anchor": "x",
         "domain": [
          0,
          1
         ],
         "title": {
          "text": "Relative Expression"
         }
        }
       }
      }
     },
     "metadata": {},
     "output_type": "display_data"
    }
   ],
   "source": [
    "# Group by taxonomic level and sample, then sum TPM\n",
    "grouped_df = filtered_data.groupby(['Taxogroup2_UniEuk', 'datetime'])['TPM'].sum().reset_index()\n",
    "\n",
    "grouped_df.head()\n",
    "# Normalize TPM sums to get relative expression per hour\n",
    "total_tpm_per_hour = grouped_df.groupby('datetime')['TPM'].transform('sum')\n",
    "grouped_df['rel_expression_per_hour'] = grouped_df['TPM'] / total_tpm_per_hour\n",
    "\n",
    "# Combine low-abundant groups into a single 'Rare' category\n",
    "threshold = 0.05\n",
    "grouped_df.loc[grouped_df['rel_expression_per_hour'] <= threshold, 'Taxogroup2_UniEuk'] = 'Rare'\n",
    "\n",
    "# Combine 'core-Noctilucales' and 'Dinophyceae'\n",
    "grouped_df['Taxogroup2_UniEuk'] = grouped_df['Taxogroup2_UniEuk'].replace({'core-Noctilucales': 'Dinophyceae'})\n",
    "\n",
    "# Remove categories with no expression\n",
    "grouped_df = grouped_df[grouped_df['rel_expression_per_hour'] > 0]\n",
    "\n",
    "# Group once more to combine Rares\n",
    "grouped_df = grouped_df.groupby(['Taxogroup2_UniEuk', 'datetime'])['TPM'].sum().reset_index()\n",
    "\n",
    "# Plot\n",
    "fig = px.bar(grouped_df, \n",
    "            x='datetime', \n",
    "            y='TPM', \n",
    "            color='Taxogroup2_UniEuk',\n",
    "            title='TPM Expression Per hour at Station 51',\n",
    "            category_orders={\"Taxogroup2_UniEuk\": ['Arthropoda', 'Acantharea', 'Ctenophora', 'Diatomeae', 'Dinophyceae', \n",
    "                                                    'Florideophyceae','Odontella', 'Phaeodarea', 'Prymnesiophyceae',\n",
    "                                                    'Spirotrichea', 'Vertebrata', 'Rare',]},\n",
    "            color_discrete_map=color_discrete_map\n",
    "            )\n",
    "\n",
    "fig.update_layout(\n",
    "    width=800,\n",
    "    height=400,\n",
    "    xaxis_title='Date and Time',\n",
    "    yaxis_title='Relative Expression',\n",
    "    xaxis_tickangle=-45,\n",
    "    legend_title='Taxonomic Group'\n",
    ")\n",
    "\n",
    "# Save the figure\n",
    "filename_base = \"../figures/metatranscriptomics/51_expression_per_hour\"\n",
    "fig.write_image(filename_base + \".png\", scale=1)\n",
    "fig.write_image(filename_base + \".svg\", scale=1)\n",
    "\n",
    "fig.show()"
   ]
  },
  {
   "cell_type": "markdown",
   "metadata": {},
   "source": [
    "### Genera"
   ]
  },
  {
   "cell_type": "code",
   "execution_count": 26,
   "metadata": {},
   "outputs": [],
   "source": [
    "# Original color mapping\n",
    "color_discrete_map = {\n",
    "    \"Rare\": \"#545454\",\n",
    "    \"Noctiluca\": \"#56B4E8\",\n",
    "    'Odontella': \"#C44601\",\n",
    "    'Phaeocystis': \"#009E73\",\n",
    "    \"Diatomeae\": \"#E69F00\",\n",
    "    \"Dinophyceae\": \"#56B4E9\",\n",
    "    \"Spirotrichea\": \"#F0E442\",\n",
    "    \"Arthropoda\": \"#0072B2\",\n",
    "    \"Ctenophora\": \"#ADA7A7\",\n",
    "    \"Vertebrata\": \"#FF5349\",\n",
    "    \"Phaeodarea\": \"#D55E00\",\n",
    "    \"Florideophyceae\": \"#CC79A7\",\n",
    "    \"Acantharea\": \"#719A10\",\n",
    "}"
   ]
  },
  {
   "cell_type": "code",
   "execution_count": 27,
   "metadata": {},
   "outputs": [
    {
     "name": "stderr",
     "output_type": "stream",
     "text": [
      "/Users/michiel/miniconda3/envs/spring_campaign_2023/lib/python3.12/site-packages/_plotly_utils/basevalidators.py:106: FutureWarning:\n",
      "\n",
      "The behavior of DatetimeProperties.to_pydatetime is deprecated, in a future version this will return a Series containing python datetime objects instead of an ndarray. To retain the old behavior, call `np.array` on the result\n",
      "\n"
     ]
    },
    {
     "data": {
      "application/vnd.plotly.v1+json": {
       "config": {
        "plotlyServerURL": "https://plot.ly"
       },
       "data": [
        {
         "alignmentgroup": "True",
         "hovertemplate": "Genus_UniEuk=Rare<br>datetime=%{x}<br>rel_expression_per_hour=%{y}<extra></extra>",
         "legendgroup": "Rare",
         "marker": {
          "color": "#545454",
          "pattern": {
           "shape": ""
          }
         },
         "name": "Rare",
         "offsetgroup": "Rare",
         "orientation": "v",
         "showlegend": true,
         "textposition": "auto",
         "type": "bar",
         "x": [
          "2023-04-20T10:00:00",
          "2023-04-20T11:00:00",
          "2023-04-20T12:00:00",
          "2023-04-20T13:00:00",
          "2023-04-20T14:00:00",
          "2023-04-20T15:00:00",
          "2023-04-20T16:00:00",
          "2023-04-20T17:00:00",
          "2023-04-20T18:00:00",
          "2023-04-20T19:00:00",
          "2023-04-20T20:00:00",
          "2023-04-20T21:00:00",
          "2023-04-20T22:00:00",
          "2023-04-20T23:00:00",
          "2023-04-21T00:00:00",
          "2023-04-21T01:00:00",
          "2023-04-21T02:00:00",
          "2023-04-21T03:00:00",
          "2023-04-21T04:00:00",
          "2023-04-21T05:00:00",
          "2023-04-21T06:00:00",
          "2023-04-21T07:00:00",
          "2023-04-21T08:00:00",
          "2023-04-21T09:00:00",
          "2023-04-21T10:00:00"
         ],
         "xaxis": "x",
         "y": [
          0.08612926304340363,
          0.2098270058631897,
          0.15283110737800598,
          0.12926003336906433,
          0.09816379845142365,
          0.07477227598428726,
          0.09000532329082489,
          0.09094031900167465,
          0.12100229412317276,
          0.1084626093506813,
          0.07559743523597717,
          0.07845065742731094,
          0.11649143695831299,
          0.10457903891801834,
          0.20304718613624573,
          0.4157848656177521,
          0.13548864424228668,
          0.15876004099845886,
          0.06590602546930313,
          0.28245383501052856,
          0.12429406493902206,
          0.17889608442783356,
          0.1147392988204956,
          0.3175486922264099,
          0.3750855326652527
         ],
         "yaxis": "y"
        },
        {
         "alignmentgroup": "True",
         "hovertemplate": "Genus_UniEuk=Asterionellopsis<br>datetime=%{x}<br>rel_expression_per_hour=%{y}<extra></extra>",
         "legendgroup": "Asterionellopsis",
         "marker": {
          "color": "#FFA15A",
          "pattern": {
           "shape": ""
          }
         },
         "name": "Asterionellopsis",
         "offsetgroup": "Asterionellopsis",
         "orientation": "v",
         "showlegend": true,
         "textposition": "auto",
         "type": "bar",
         "x": [
          "2023-04-21T00:00:00",
          "2023-04-21T01:00:00",
          "2023-04-21T09:00:00",
          "2023-04-21T10:00:00"
         ],
         "xaxis": "x",
         "y": [
          0.07112295925617218,
          0.177898570895195,
          0.0715242326259613,
          0.1004742756485939
         ],
         "yaxis": "y"
        },
        {
         "alignmentgroup": "True",
         "hovertemplate": "Genus_UniEuk=Corethron<br>datetime=%{x}<br>rel_expression_per_hour=%{y}<extra></extra>",
         "legendgroup": "Corethron",
         "marker": {
          "color": "#19d3f3",
          "pattern": {
           "shape": ""
          }
         },
         "name": "Corethron",
         "offsetgroup": "Corethron",
         "orientation": "v",
         "showlegend": true,
         "textposition": "auto",
         "type": "bar",
         "x": [
          "2023-04-21T10:00:00"
         ],
         "xaxis": "x",
         "y": [
          0.06268533319234848
         ],
         "yaxis": "y"
        },
        {
         "alignmentgroup": "True",
         "hovertemplate": "Genus_UniEuk=Noctiluca<br>datetime=%{x}<br>rel_expression_per_hour=%{y}<extra></extra>",
         "legendgroup": "Noctiluca",
         "marker": {
          "color": "#56B4E8",
          "pattern": {
           "shape": ""
          }
         },
         "name": "Noctiluca",
         "offsetgroup": "Noctiluca",
         "orientation": "v",
         "showlegend": true,
         "textposition": "auto",
         "type": "bar",
         "x": [
          "2023-04-20T10:00:00",
          "2023-04-20T13:00:00",
          "2023-04-20T14:00:00",
          "2023-04-20T18:00:00",
          "2023-04-20T19:00:00",
          "2023-04-20T20:00:00",
          "2023-04-20T22:00:00",
          "2023-04-20T23:00:00",
          "2023-04-21T00:00:00",
          "2023-04-21T01:00:00",
          "2023-04-21T02:00:00",
          "2023-04-21T03:00:00",
          "2023-04-21T04:00:00",
          "2023-04-21T05:00:00",
          "2023-04-21T06:00:00",
          "2023-04-21T07:00:00",
          "2023-04-21T08:00:00",
          "2023-04-21T09:00:00",
          "2023-04-21T10:00:00"
         ],
         "xaxis": "x",
         "y": [
          0.055489931255578995,
          0.1218208372592926,
          0.07631731033325195,
          0.08207574486732483,
          0.09318926185369492,
          0.07500188797712326,
          0.15058700740337372,
          0.4003888964653015,
          0.7258298993110657,
          0.2771225869655609,
          0.15682044625282288,
          0.16763602197170258,
          0.09382721036672592,
          0.7175461649894714,
          0.18001091480255127,
          0.2648622691631317,
          0.1246427372097969,
          0.5569489002227783,
          0.376240074634552
         ],
         "yaxis": "y"
        },
        {
         "alignmentgroup": "True",
         "hovertemplate": "Genus_UniEuk=Phaeocystis<br>datetime=%{x}<br>rel_expression_per_hour=%{y}<extra></extra>",
         "legendgroup": "Phaeocystis",
         "marker": {
          "color": "#009E73",
          "pattern": {
           "shape": ""
          }
         },
         "name": "Phaeocystis",
         "offsetgroup": "Phaeocystis",
         "orientation": "v",
         "showlegend": true,
         "textposition": "auto",
         "type": "bar",
         "x": [
          "2023-04-20T10:00:00",
          "2023-04-20T11:00:00",
          "2023-04-20T12:00:00",
          "2023-04-20T13:00:00",
          "2023-04-20T14:00:00",
          "2023-04-20T15:00:00",
          "2023-04-20T16:00:00",
          "2023-04-20T17:00:00",
          "2023-04-20T18:00:00",
          "2023-04-20T19:00:00",
          "2023-04-20T20:00:00",
          "2023-04-20T21:00:00",
          "2023-04-20T22:00:00",
          "2023-04-20T23:00:00",
          "2023-04-21T02:00:00",
          "2023-04-21T03:00:00",
          "2023-04-21T04:00:00",
          "2023-04-21T06:00:00",
          "2023-04-21T07:00:00",
          "2023-04-21T08:00:00"
         ],
         "xaxis": "x",
         "y": [
          0.8583807349205017,
          0.7901730537414551,
          0.8471688628196716,
          0.7489191293716431,
          0.8255189061164856,
          0.925227701663971,
          0.9099946618080139,
          0.9090596437454224,
          0.796921968460083,
          0.7983481287956238,
          0.8494006991386414,
          0.921549379825592,
          0.7329214811325073,
          0.49503207206726074,
          0.7076908946037292,
          0.673603892326355,
          0.840266764163971,
          0.6956950426101685,
          0.5562415719032288,
          0.7606179118156433
         ],
         "yaxis": "y"
        },
        {
         "alignmentgroup": "True",
         "hovertemplate": "Genus_UniEuk=Rhizosolenia<br>datetime=%{x}<br>rel_expression_per_hour=%{y}<extra></extra>",
         "legendgroup": "Rhizosolenia",
         "marker": {
          "color": "#FF6692",
          "pattern": {
           "shape": ""
          }
         },
         "name": "Rhizosolenia",
         "offsetgroup": "Rhizosolenia",
         "orientation": "v",
         "showlegend": true,
         "textposition": "auto",
         "type": "bar",
         "x": [
          "2023-04-21T01:00:00",
          "2023-04-21T09:00:00",
          "2023-04-21T10:00:00"
         ],
         "xaxis": "x",
         "y": [
          0.1291939914226532,
          0.05397820472717285,
          0.08551472425460815
         ],
         "yaxis": "y"
        }
       ],
       "layout": {
        "barmode": "relative",
        "height": 400,
        "legend": {
         "title": {
          "text": "Taxonomic Group"
         },
         "tracegroupgap": 0
        },
        "template": {
         "data": {
          "bar": [
           {
            "error_x": {
             "color": "#2a3f5f"
            },
            "error_y": {
             "color": "#2a3f5f"
            },
            "marker": {
             "line": {
              "color": "#E5ECF6",
              "width": 0.5
             },
             "pattern": {
              "fillmode": "overlay",
              "size": 10,
              "solidity": 0.2
             }
            },
            "type": "bar"
           }
          ],
          "barpolar": [
           {
            "marker": {
             "line": {
              "color": "#E5ECF6",
              "width": 0.5
             },
             "pattern": {
              "fillmode": "overlay",
              "size": 10,
              "solidity": 0.2
             }
            },
            "type": "barpolar"
           }
          ],
          "carpet": [
           {
            "aaxis": {
             "endlinecolor": "#2a3f5f",
             "gridcolor": "white",
             "linecolor": "white",
             "minorgridcolor": "white",
             "startlinecolor": "#2a3f5f"
            },
            "baxis": {
             "endlinecolor": "#2a3f5f",
             "gridcolor": "white",
             "linecolor": "white",
             "minorgridcolor": "white",
             "startlinecolor": "#2a3f5f"
            },
            "type": "carpet"
           }
          ],
          "choropleth": [
           {
            "colorbar": {
             "outlinewidth": 0,
             "ticks": ""
            },
            "type": "choropleth"
           }
          ],
          "contour": [
           {
            "colorbar": {
             "outlinewidth": 0,
             "ticks": ""
            },
            "colorscale": [
             [
              0,
              "#0d0887"
             ],
             [
              0.1111111111111111,
              "#46039f"
             ],
             [
              0.2222222222222222,
              "#7201a8"
             ],
             [
              0.3333333333333333,
              "#9c179e"
             ],
             [
              0.4444444444444444,
              "#bd3786"
             ],
             [
              0.5555555555555556,
              "#d8576b"
             ],
             [
              0.6666666666666666,
              "#ed7953"
             ],
             [
              0.7777777777777778,
              "#fb9f3a"
             ],
             [
              0.8888888888888888,
              "#fdca26"
             ],
             [
              1,
              "#f0f921"
             ]
            ],
            "type": "contour"
           }
          ],
          "contourcarpet": [
           {
            "colorbar": {
             "outlinewidth": 0,
             "ticks": ""
            },
            "type": "contourcarpet"
           }
          ],
          "heatmap": [
           {
            "colorbar": {
             "outlinewidth": 0,
             "ticks": ""
            },
            "colorscale": [
             [
              0,
              "#0d0887"
             ],
             [
              0.1111111111111111,
              "#46039f"
             ],
             [
              0.2222222222222222,
              "#7201a8"
             ],
             [
              0.3333333333333333,
              "#9c179e"
             ],
             [
              0.4444444444444444,
              "#bd3786"
             ],
             [
              0.5555555555555556,
              "#d8576b"
             ],
             [
              0.6666666666666666,
              "#ed7953"
             ],
             [
              0.7777777777777778,
              "#fb9f3a"
             ],
             [
              0.8888888888888888,
              "#fdca26"
             ],
             [
              1,
              "#f0f921"
             ]
            ],
            "type": "heatmap"
           }
          ],
          "heatmapgl": [
           {
            "colorbar": {
             "outlinewidth": 0,
             "ticks": ""
            },
            "colorscale": [
             [
              0,
              "#0d0887"
             ],
             [
              0.1111111111111111,
              "#46039f"
             ],
             [
              0.2222222222222222,
              "#7201a8"
             ],
             [
              0.3333333333333333,
              "#9c179e"
             ],
             [
              0.4444444444444444,
              "#bd3786"
             ],
             [
              0.5555555555555556,
              "#d8576b"
             ],
             [
              0.6666666666666666,
              "#ed7953"
             ],
             [
              0.7777777777777778,
              "#fb9f3a"
             ],
             [
              0.8888888888888888,
              "#fdca26"
             ],
             [
              1,
              "#f0f921"
             ]
            ],
            "type": "heatmapgl"
           }
          ],
          "histogram": [
           {
            "marker": {
             "pattern": {
              "fillmode": "overlay",
              "size": 10,
              "solidity": 0.2
             }
            },
            "type": "histogram"
           }
          ],
          "histogram2d": [
           {
            "colorbar": {
             "outlinewidth": 0,
             "ticks": ""
            },
            "colorscale": [
             [
              0,
              "#0d0887"
             ],
             [
              0.1111111111111111,
              "#46039f"
             ],
             [
              0.2222222222222222,
              "#7201a8"
             ],
             [
              0.3333333333333333,
              "#9c179e"
             ],
             [
              0.4444444444444444,
              "#bd3786"
             ],
             [
              0.5555555555555556,
              "#d8576b"
             ],
             [
              0.6666666666666666,
              "#ed7953"
             ],
             [
              0.7777777777777778,
              "#fb9f3a"
             ],
             [
              0.8888888888888888,
              "#fdca26"
             ],
             [
              1,
              "#f0f921"
             ]
            ],
            "type": "histogram2d"
           }
          ],
          "histogram2dcontour": [
           {
            "colorbar": {
             "outlinewidth": 0,
             "ticks": ""
            },
            "colorscale": [
             [
              0,
              "#0d0887"
             ],
             [
              0.1111111111111111,
              "#46039f"
             ],
             [
              0.2222222222222222,
              "#7201a8"
             ],
             [
              0.3333333333333333,
              "#9c179e"
             ],
             [
              0.4444444444444444,
              "#bd3786"
             ],
             [
              0.5555555555555556,
              "#d8576b"
             ],
             [
              0.6666666666666666,
              "#ed7953"
             ],
             [
              0.7777777777777778,
              "#fb9f3a"
             ],
             [
              0.8888888888888888,
              "#fdca26"
             ],
             [
              1,
              "#f0f921"
             ]
            ],
            "type": "histogram2dcontour"
           }
          ],
          "mesh3d": [
           {
            "colorbar": {
             "outlinewidth": 0,
             "ticks": ""
            },
            "type": "mesh3d"
           }
          ],
          "parcoords": [
           {
            "line": {
             "colorbar": {
              "outlinewidth": 0,
              "ticks": ""
             }
            },
            "type": "parcoords"
           }
          ],
          "pie": [
           {
            "automargin": true,
            "type": "pie"
           }
          ],
          "scatter": [
           {
            "fillpattern": {
             "fillmode": "overlay",
             "size": 10,
             "solidity": 0.2
            },
            "type": "scatter"
           }
          ],
          "scatter3d": [
           {
            "line": {
             "colorbar": {
              "outlinewidth": 0,
              "ticks": ""
             }
            },
            "marker": {
             "colorbar": {
              "outlinewidth": 0,
              "ticks": ""
             }
            },
            "type": "scatter3d"
           }
          ],
          "scattercarpet": [
           {
            "marker": {
             "colorbar": {
              "outlinewidth": 0,
              "ticks": ""
             }
            },
            "type": "scattercarpet"
           }
          ],
          "scattergeo": [
           {
            "marker": {
             "colorbar": {
              "outlinewidth": 0,
              "ticks": ""
             }
            },
            "type": "scattergeo"
           }
          ],
          "scattergl": [
           {
            "marker": {
             "colorbar": {
              "outlinewidth": 0,
              "ticks": ""
             }
            },
            "type": "scattergl"
           }
          ],
          "scattermapbox": [
           {
            "marker": {
             "colorbar": {
              "outlinewidth": 0,
              "ticks": ""
             }
            },
            "type": "scattermapbox"
           }
          ],
          "scatterpolar": [
           {
            "marker": {
             "colorbar": {
              "outlinewidth": 0,
              "ticks": ""
             }
            },
            "type": "scatterpolar"
           }
          ],
          "scatterpolargl": [
           {
            "marker": {
             "colorbar": {
              "outlinewidth": 0,
              "ticks": ""
             }
            },
            "type": "scatterpolargl"
           }
          ],
          "scatterternary": [
           {
            "marker": {
             "colorbar": {
              "outlinewidth": 0,
              "ticks": ""
             }
            },
            "type": "scatterternary"
           }
          ],
          "surface": [
           {
            "colorbar": {
             "outlinewidth": 0,
             "ticks": ""
            },
            "colorscale": [
             [
              0,
              "#0d0887"
             ],
             [
              0.1111111111111111,
              "#46039f"
             ],
             [
              0.2222222222222222,
              "#7201a8"
             ],
             [
              0.3333333333333333,
              "#9c179e"
             ],
             [
              0.4444444444444444,
              "#bd3786"
             ],
             [
              0.5555555555555556,
              "#d8576b"
             ],
             [
              0.6666666666666666,
              "#ed7953"
             ],
             [
              0.7777777777777778,
              "#fb9f3a"
             ],
             [
              0.8888888888888888,
              "#fdca26"
             ],
             [
              1,
              "#f0f921"
             ]
            ],
            "type": "surface"
           }
          ],
          "table": [
           {
            "cells": {
             "fill": {
              "color": "#EBF0F8"
             },
             "line": {
              "color": "white"
             }
            },
            "header": {
             "fill": {
              "color": "#C8D4E3"
             },
             "line": {
              "color": "white"
             }
            },
            "type": "table"
           }
          ]
         },
         "layout": {
          "annotationdefaults": {
           "arrowcolor": "#2a3f5f",
           "arrowhead": 0,
           "arrowwidth": 1
          },
          "autotypenumbers": "strict",
          "coloraxis": {
           "colorbar": {
            "outlinewidth": 0,
            "ticks": ""
           }
          },
          "colorscale": {
           "diverging": [
            [
             0,
             "#8e0152"
            ],
            [
             0.1,
             "#c51b7d"
            ],
            [
             0.2,
             "#de77ae"
            ],
            [
             0.3,
             "#f1b6da"
            ],
            [
             0.4,
             "#fde0ef"
            ],
            [
             0.5,
             "#f7f7f7"
            ],
            [
             0.6,
             "#e6f5d0"
            ],
            [
             0.7,
             "#b8e186"
            ],
            [
             0.8,
             "#7fbc41"
            ],
            [
             0.9,
             "#4d9221"
            ],
            [
             1,
             "#276419"
            ]
           ],
           "sequential": [
            [
             0,
             "#0d0887"
            ],
            [
             0.1111111111111111,
             "#46039f"
            ],
            [
             0.2222222222222222,
             "#7201a8"
            ],
            [
             0.3333333333333333,
             "#9c179e"
            ],
            [
             0.4444444444444444,
             "#bd3786"
            ],
            [
             0.5555555555555556,
             "#d8576b"
            ],
            [
             0.6666666666666666,
             "#ed7953"
            ],
            [
             0.7777777777777778,
             "#fb9f3a"
            ],
            [
             0.8888888888888888,
             "#fdca26"
            ],
            [
             1,
             "#f0f921"
            ]
           ],
           "sequentialminus": [
            [
             0,
             "#0d0887"
            ],
            [
             0.1111111111111111,
             "#46039f"
            ],
            [
             0.2222222222222222,
             "#7201a8"
            ],
            [
             0.3333333333333333,
             "#9c179e"
            ],
            [
             0.4444444444444444,
             "#bd3786"
            ],
            [
             0.5555555555555556,
             "#d8576b"
            ],
            [
             0.6666666666666666,
             "#ed7953"
            ],
            [
             0.7777777777777778,
             "#fb9f3a"
            ],
            [
             0.8888888888888888,
             "#fdca26"
            ],
            [
             1,
             "#f0f921"
            ]
           ]
          },
          "colorway": [
           "#636efa",
           "#EF553B",
           "#00cc96",
           "#ab63fa",
           "#FFA15A",
           "#19d3f3",
           "#FF6692",
           "#B6E880",
           "#FF97FF",
           "#FECB52"
          ],
          "font": {
           "color": "#2a3f5f"
          },
          "geo": {
           "bgcolor": "white",
           "lakecolor": "white",
           "landcolor": "#E5ECF6",
           "showlakes": true,
           "showland": true,
           "subunitcolor": "white"
          },
          "hoverlabel": {
           "align": "left"
          },
          "hovermode": "closest",
          "mapbox": {
           "style": "light"
          },
          "paper_bgcolor": "white",
          "plot_bgcolor": "#E5ECF6",
          "polar": {
           "angularaxis": {
            "gridcolor": "white",
            "linecolor": "white",
            "ticks": ""
           },
           "bgcolor": "#E5ECF6",
           "radialaxis": {
            "gridcolor": "white",
            "linecolor": "white",
            "ticks": ""
           }
          },
          "scene": {
           "xaxis": {
            "backgroundcolor": "#E5ECF6",
            "gridcolor": "white",
            "gridwidth": 2,
            "linecolor": "white",
            "showbackground": true,
            "ticks": "",
            "zerolinecolor": "white"
           },
           "yaxis": {
            "backgroundcolor": "#E5ECF6",
            "gridcolor": "white",
            "gridwidth": 2,
            "linecolor": "white",
            "showbackground": true,
            "ticks": "",
            "zerolinecolor": "white"
           },
           "zaxis": {
            "backgroundcolor": "#E5ECF6",
            "gridcolor": "white",
            "gridwidth": 2,
            "linecolor": "white",
            "showbackground": true,
            "ticks": "",
            "zerolinecolor": "white"
           }
          },
          "shapedefaults": {
           "line": {
            "color": "#2a3f5f"
           }
          },
          "ternary": {
           "aaxis": {
            "gridcolor": "white",
            "linecolor": "white",
            "ticks": ""
           },
           "baxis": {
            "gridcolor": "white",
            "linecolor": "white",
            "ticks": ""
           },
           "bgcolor": "#E5ECF6",
           "caxis": {
            "gridcolor": "white",
            "linecolor": "white",
            "ticks": ""
           }
          },
          "title": {
           "x": 0.05
          },
          "xaxis": {
           "automargin": true,
           "gridcolor": "white",
           "linecolor": "white",
           "ticks": "",
           "title": {
            "standoff": 15
           },
           "zerolinecolor": "white",
           "zerolinewidth": 2
          },
          "yaxis": {
           "automargin": true,
           "gridcolor": "white",
           "linecolor": "white",
           "ticks": "",
           "title": {
            "standoff": 15
           },
           "zerolinecolor": "white",
           "zerolinewidth": 2
          }
         }
        },
        "title": {
         "text": "Relative Expression Per Hour at Station 130"
        },
        "width": 800,
        "xaxis": {
         "anchor": "y",
         "domain": [
          0,
          1
         ],
         "tickangle": -45,
         "title": {
          "text": "Date and Time"
         }
        },
        "yaxis": {
         "anchor": "x",
         "domain": [
          0,
          1
         ],
         "title": {
          "text": "Relative Expression"
         }
        }
       }
      }
     },
     "metadata": {},
     "output_type": "display_data"
    }
   ],
   "source": [
    "# Filter data based on TPM and p_ident thresholds\n",
    "filtered_data = data_130[(data_130['p_ident'] >= 0.95)]\n",
    "\n",
    "# Group by taxonomic level and 'year_hour', then sum TPM\n",
    "grouped_df = filtered_data.groupby(['Genus_UniEuk', 'datetime'])['TPM'].sum().reset_index()\n",
    "\n",
    "grouped_df.head()\n",
    "# Normalize TPM sums to get relative expression per hour\n",
    "total_tpm_per_hour = grouped_df.groupby('datetime')['TPM'].transform('sum')\n",
    "grouped_df['rel_expression_per_hour'] = grouped_df['TPM'] / total_tpm_per_hour\n",
    "\n",
    "# Combine low-abundant groups into a single 'Rare' category\n",
    "threshold = 0.05\n",
    "grouped_df.loc[grouped_df['rel_expression_per_hour'] <= threshold, 'Genus_UniEuk'] = 'Rare'\n",
    "\n",
    "\n",
    "# Remove categories with no expression\n",
    "grouped_df = grouped_df[grouped_df['rel_expression_per_hour'] > 0]\n",
    "\n",
    "# Group once more to combine Rares\n",
    "grouped_df = grouped_df.groupby(['Genus_UniEuk', 'datetime'])['rel_expression_per_hour'].sum().reset_index()\n",
    "\n",
    "# Plot\n",
    "fig = px.bar(grouped_df, \n",
    "            x='datetime', \n",
    "            y='rel_expression_per_hour', \n",
    "            color='Genus_UniEuk',\n",
    "            title='Relative Expression Per Hour at Station 130',\n",
    "            category_orders={\"Genus_UniEuk\": ['Arthropoda', 'Acantharea', 'Ctenophora', 'Diatomeae', 'Dinophyceae', \n",
    "                                                    'Florideophyceae','Odontella', 'Phaeodarea', 'Prymnesiophyceae',\n",
    "                                                    'Spirotrichea', 'Vertebrata', 'Rare',]},\n",
    "            color_discrete_map=color_discrete_map\n",
    "            )\n",
    "\n",
    "fig.update_layout(\n",
    "    width=800,\n",
    "    height=400,\n",
    "    xaxis_title='Date and Time',\n",
    "    yaxis_title='Relative Expression',\n",
    "    xaxis_tickangle=-45,\n",
    "    legend_title='Taxonomic Group'\n",
    ")\n",
    "\n",
    "# Save the figure\n",
    "filename_base = \"../figures/metatranscriptomics/130_relative_expression_per_hour_genus\"\n",
    "fig.write_image(filename_base + \".png\", scale=1)\n",
    "fig.write_image(filename_base + \".svg\", scale=1)\n",
    "\n",
    "fig.show()"
   ]
  },
  {
   "cell_type": "code",
   "execution_count": 28,
   "metadata": {},
   "outputs": [
    {
     "name": "stderr",
     "output_type": "stream",
     "text": [
      "/Users/michiel/miniconda3/envs/spring_campaign_2023/lib/python3.12/site-packages/_plotly_utils/basevalidators.py:106: FutureWarning:\n",
      "\n",
      "The behavior of DatetimeProperties.to_pydatetime is deprecated, in a future version this will return a Series containing python datetime objects instead of an ndarray. To retain the old behavior, call `np.array` on the result\n",
      "\n"
     ]
    },
    {
     "data": {
      "application/vnd.plotly.v1+json": {
       "config": {
        "plotlyServerURL": "https://plot.ly"
       },
       "data": [
        {
         "alignmentgroup": "True",
         "hovertemplate": "Genus_UniEuk=Rare<br>datetime=%{x}<br>rel_expression_per_hour=%{y}<extra></extra>",
         "legendgroup": "Rare",
         "marker": {
          "color": "#545454",
          "pattern": {
           "shape": ""
          }
         },
         "name": "Rare",
         "offsetgroup": "Rare",
         "orientation": "v",
         "showlegend": true,
         "textposition": "auto",
         "type": "bar",
         "x": [
          "2023-04-18T13:00:00",
          "2023-04-18T14:00:00",
          "2023-04-18T15:00:00",
          "2023-04-18T16:00:00",
          "2023-04-18T17:00:00",
          "2023-04-18T18:00:00",
          "2023-04-18T19:00:00",
          "2023-04-18T20:00:00",
          "2023-04-18T21:00:00",
          "2023-04-18T22:00:00",
          "2023-04-18T23:00:00",
          "2023-04-19T00:00:00",
          "2023-04-19T01:00:00",
          "2023-04-19T02:00:00",
          "2023-04-19T03:00:00",
          "2023-04-19T04:00:00",
          "2023-04-19T05:00:00",
          "2023-04-19T06:00:00",
          "2023-04-19T07:00:00",
          "2023-04-19T08:00:00",
          "2023-04-19T09:00:00"
         ],
         "xaxis": "x",
         "y": [
          0.2806047797203064,
          0.2124168872833252,
          0.3138027489185333,
          0.2038925439119339,
          0.21497897803783417,
          0.20903964340686798,
          0.19563812017440796,
          0.25704002380371094,
          0.29190361499786377,
          0.23729075491428375,
          0.18854866921901703,
          0.24702732264995575,
          0.2899363040924072,
          0.29230719804763794,
          0.28716740012168884,
          0.21908889710903168,
          0.1919683814048767,
          0.16549405455589294,
          0.20752452313899994,
          0.2613222002983093,
          0.2791591286659241
         ],
         "yaxis": "y"
        },
        {
         "alignmentgroup": "True",
         "hovertemplate": "Genus_UniEuk=Acartia<br>datetime=%{x}<br>rel_expression_per_hour=%{y}<extra></extra>",
         "legendgroup": "Acartia",
         "marker": {
          "color": "#FFA15A",
          "pattern": {
           "shape": ""
          }
         },
         "name": "Acartia",
         "offsetgroup": "Acartia",
         "orientation": "v",
         "showlegend": true,
         "textposition": "auto",
         "type": "bar",
         "x": [
          "2023-04-18T14:00:00",
          "2023-04-18T16:00:00",
          "2023-04-18T18:00:00",
          "2023-04-18T19:00:00",
          "2023-04-18T20:00:00",
          "2023-04-18T22:00:00",
          "2023-04-18T23:00:00",
          "2023-04-19T00:00:00",
          "2023-04-19T01:00:00",
          "2023-04-19T02:00:00",
          "2023-04-19T03:00:00",
          "2023-04-19T04:00:00",
          "2023-04-19T05:00:00",
          "2023-04-19T06:00:00",
          "2023-04-19T07:00:00",
          "2023-04-19T08:00:00",
          "2023-04-19T09:00:00"
         ],
         "xaxis": "x",
         "y": [
          0.07811374217271805,
          0.08142419159412384,
          0.060940902680158615,
          0.07239004224538803,
          0.09098682552576065,
          0.11283133924007416,
          0.1353779137134552,
          0.10765203833580017,
          0.1332862675189972,
          0.12944090366363525,
          0.050037745386362076,
          0.09284000098705292,
          0.11915091425180435,
          0.08509260416030884,
          0.15842272341251373,
          0.07639443874359131,
          0.22210191190242767
         ],
         "yaxis": "y"
        },
        {
         "alignmentgroup": "True",
         "hovertemplate": "Genus_UniEuk=Calanus<br>datetime=%{x}<br>rel_expression_per_hour=%{y}<extra></extra>",
         "legendgroup": "Calanus",
         "marker": {
          "color": "#19d3f3",
          "pattern": {
           "shape": ""
          }
         },
         "name": "Calanus",
         "offsetgroup": "Calanus",
         "orientation": "v",
         "showlegend": true,
         "textposition": "auto",
         "type": "bar",
         "x": [
          "2023-04-18T14:00:00",
          "2023-04-18T17:00:00",
          "2023-04-18T22:00:00",
          "2023-04-18T23:00:00",
          "2023-04-19T00:00:00",
          "2023-04-19T01:00:00",
          "2023-04-19T02:00:00",
          "2023-04-19T04:00:00",
          "2023-04-19T05:00:00",
          "2023-04-19T06:00:00",
          "2023-04-19T07:00:00",
          "2023-04-19T09:00:00"
         ],
         "xaxis": "x",
         "y": [
          0.1316138654947281,
          0.27466464042663574,
          0.08423697203397751,
          0.09093260020017624,
          0.07371151447296143,
          0.08999453485012054,
          0.0812513530254364,
          0.05218763276934624,
          0.060575444251298904,
          0.057225655764341354,
          0.05094299465417862,
          0.06112441420555115
         ],
         "yaxis": "y"
        },
        {
         "alignmentgroup": "True",
         "hovertemplate": "Genus_UniEuk=Danio<br>datetime=%{x}<br>rel_expression_per_hour=%{y}<extra></extra>",
         "legendgroup": "Danio",
         "marker": {
          "color": "#FF6692",
          "pattern": {
           "shape": ""
          }
         },
         "name": "Danio",
         "offsetgroup": "Danio",
         "orientation": "v",
         "showlegend": true,
         "textposition": "auto",
         "type": "bar",
         "x": [
          "2023-04-19T01:00:00",
          "2023-04-19T03:00:00"
         ],
         "xaxis": "x",
         "y": [
          0.1099732369184494,
          0.08312597125768661
         ],
         "yaxis": "y"
        },
        {
         "alignmentgroup": "True",
         "hovertemplate": "Genus_UniEuk=Eurytemora<br>datetime=%{x}<br>rel_expression_per_hour=%{y}<extra></extra>",
         "legendgroup": "Eurytemora",
         "marker": {
          "color": "#B6E880",
          "pattern": {
           "shape": ""
          }
         },
         "name": "Eurytemora",
         "offsetgroup": "Eurytemora",
         "orientation": "v",
         "showlegend": true,
         "textposition": "auto",
         "type": "bar",
         "x": [
          "2023-04-18T14:00:00",
          "2023-04-18T16:00:00",
          "2023-04-18T18:00:00",
          "2023-04-18T19:00:00",
          "2023-04-18T20:00:00",
          "2023-04-18T22:00:00",
          "2023-04-18T23:00:00",
          "2023-04-19T00:00:00",
          "2023-04-19T01:00:00",
          "2023-04-19T02:00:00",
          "2023-04-19T03:00:00",
          "2023-04-19T04:00:00",
          "2023-04-19T05:00:00",
          "2023-04-19T06:00:00",
          "2023-04-19T07:00:00",
          "2023-04-19T08:00:00",
          "2023-04-19T09:00:00"
         ],
         "xaxis": "x",
         "y": [
          0.08817928284406662,
          0.12581567466259003,
          0.08213402330875397,
          0.11001311242580414,
          0.10493249446153641,
          0.11707574129104614,
          0.12367425113916397,
          0.11559539288282394,
          0.1297663450241089,
          0.10069604963064194,
          0.06000236049294472,
          0.09332087635993958,
          0.19600559771060944,
          0.11499522626399994,
          0.24782493710517883,
          0.11073488742113113,
          0.3798201382160187
         ],
         "yaxis": "y"
        },
        {
         "alignmentgroup": "True",
         "hovertemplate": "Genus_UniEuk=Homo<br>datetime=%{x}<br>rel_expression_per_hour=%{y}<extra></extra>",
         "legendgroup": "Homo",
         "marker": {
          "color": "#FF97FF",
          "pattern": {
           "shape": ""
          }
         },
         "name": "Homo",
         "offsetgroup": "Homo",
         "orientation": "v",
         "showlegend": true,
         "textposition": "auto",
         "type": "bar",
         "x": [
          "2023-04-18T13:00:00",
          "2023-04-18T21:00:00"
         ],
         "xaxis": "x",
         "y": [
          0.5824303030967712,
          0.34253787994384766
         ],
         "yaxis": "y"
        },
        {
         "alignmentgroup": "True",
         "hovertemplate": "Genus_UniEuk=Mnemiopsis<br>datetime=%{x}<br>rel_expression_per_hour=%{y}<extra></extra>",
         "legendgroup": "Mnemiopsis",
         "marker": {
          "color": "#FECB52",
          "pattern": {
           "shape": ""
          }
         },
         "name": "Mnemiopsis",
         "offsetgroup": "Mnemiopsis",
         "orientation": "v",
         "showlegend": true,
         "textposition": "auto",
         "type": "bar",
         "x": [
          "2023-04-18T19:00:00",
          "2023-04-18T20:00:00",
          "2023-04-18T22:00:00",
          "2023-04-19T00:00:00"
         ],
         "xaxis": "x",
         "y": [
          0.055479492992162704,
          0.09913402050733566,
          0.05696762353181839,
          0.061293825507164
         ],
         "yaxis": "y"
        },
        {
         "alignmentgroup": "True",
         "hovertemplate": "Genus_UniEuk=Neocalanus<br>datetime=%{x}<br>rel_expression_per_hour=%{y}<extra></extra>",
         "legendgroup": "Neocalanus",
         "marker": {
          "color": "#636efa",
          "pattern": {
           "shape": ""
          }
         },
         "name": "Neocalanus",
         "offsetgroup": "Neocalanus",
         "orientation": "v",
         "showlegend": true,
         "textposition": "auto",
         "type": "bar",
         "x": [
          "2023-04-18T23:00:00"
         ],
         "xaxis": "x",
         "y": [
          0.053423721343278885
         ],
         "yaxis": "y"
        },
        {
         "alignmentgroup": "True",
         "hovertemplate": "Genus_UniEuk=Noctiluca<br>datetime=%{x}<br>rel_expression_per_hour=%{y}<extra></extra>",
         "legendgroup": "Noctiluca",
         "marker": {
          "color": "#56B4E8",
          "pattern": {
           "shape": ""
          }
         },
         "name": "Noctiluca",
         "offsetgroup": "Noctiluca",
         "orientation": "v",
         "showlegend": true,
         "textposition": "auto",
         "type": "bar",
         "x": [
          "2023-04-18T14:00:00",
          "2023-04-18T15:00:00",
          "2023-04-18T16:00:00",
          "2023-04-18T17:00:00",
          "2023-04-18T18:00:00",
          "2023-04-18T19:00:00",
          "2023-04-18T20:00:00",
          "2023-04-18T21:00:00",
          "2023-04-18T22:00:00",
          "2023-04-18T23:00:00",
          "2023-04-19T00:00:00",
          "2023-04-19T03:00:00",
          "2023-04-19T04:00:00",
          "2023-04-19T05:00:00",
          "2023-04-19T06:00:00",
          "2023-04-19T07:00:00",
          "2023-04-19T08:00:00",
          "2023-04-19T09:00:00"
         ],
         "xaxis": "x",
         "y": [
          0.08794157207012177,
          0.5170225501060486,
          0.4279109239578247,
          0.5103563666343689,
          0.6478853821754456,
          0.5061826705932617,
          0.18263813853263855,
          0.3655585050582886,
          0.26970425248146057,
          0.31519633531570435,
          0.07861144840717316,
          0.08072410523891449,
          0.48123830556869507,
          0.4322996735572815,
          0.5771924257278442,
          0.22598956525325775,
          0.551548421382904,
          0.057794392108917236
         ],
         "yaxis": "y"
        },
        {
         "alignmentgroup": "True",
         "hovertemplate": "Genus_UniEuk=Phaeocystis<br>datetime=%{x}<br>rel_expression_per_hour=%{y}<extra></extra>",
         "legendgroup": "Phaeocystis",
         "marker": {
          "color": "#009E73",
          "pattern": {
           "shape": ""
          }
         },
         "name": "Phaeocystis",
         "offsetgroup": "Phaeocystis",
         "orientation": "v",
         "showlegend": true,
         "textposition": "auto",
         "type": "bar",
         "x": [
          "2023-04-18T13:00:00",
          "2023-04-18T14:00:00",
          "2023-04-18T15:00:00",
          "2023-04-18T16:00:00",
          "2023-04-18T19:00:00",
          "2023-04-18T20:00:00",
          "2023-04-18T22:00:00",
          "2023-04-18T23:00:00",
          "2023-04-19T00:00:00",
          "2023-04-19T01:00:00",
          "2023-04-19T02:00:00",
          "2023-04-19T03:00:00",
          "2023-04-19T04:00:00",
          "2023-04-19T07:00:00"
         ],
         "xaxis": "x",
         "y": [
          0.13696493208408356,
          0.40173467993736267,
          0.1691746562719345,
          0.16095660626888275,
          0.060296494513750076,
          0.265268474817276,
          0.12189335376024246,
          0.09284646809101105,
          0.31610846519470215,
          0.10972538590431213,
          0.39630448818206787,
          0.36614590883255005,
          0.06132429093122482,
          0.10929522663354874
         ],
         "yaxis": "y"
        },
        {
         "alignmentgroup": "True",
         "hovertemplate": "Genus_UniEuk=Salmo<br>datetime=%{x}<br>rel_expression_per_hour=%{y}<extra></extra>",
         "legendgroup": "Salmo",
         "marker": {
          "color": "#EF553B",
          "pattern": {
           "shape": ""
          }
         },
         "name": "Salmo",
         "offsetgroup": "Salmo",
         "orientation": "v",
         "showlegend": true,
         "textposition": "auto",
         "type": "bar",
         "x": [
          "2023-04-19T01:00:00",
          "2023-04-19T03:00:00"
         ],
         "xaxis": "x",
         "y": [
          0.08496783673763275,
          0.07279648631811142
         ],
         "yaxis": "y"
        },
        {
         "alignmentgroup": "True",
         "hovertemplate": "Genus_UniEuk=Thunnus<br>datetime=%{x}<br>rel_expression_per_hour=%{y}<extra></extra>",
         "legendgroup": "Thunnus",
         "marker": {
          "color": "#00cc96",
          "pattern": {
           "shape": ""
          }
         },
         "name": "Thunnus",
         "offsetgroup": "Thunnus",
         "orientation": "v",
         "showlegend": true,
         "textposition": "auto",
         "type": "bar",
         "x": [
          "2023-04-19T01:00:00"
         ],
         "xaxis": "x",
         "y": [
          0.05235009640455246
         ],
         "yaxis": "y"
        }
       ],
       "layout": {
        "barmode": "relative",
        "height": 400,
        "legend": {
         "title": {
          "text": "Taxonomic Group"
         },
         "tracegroupgap": 0
        },
        "template": {
         "data": {
          "bar": [
           {
            "error_x": {
             "color": "#2a3f5f"
            },
            "error_y": {
             "color": "#2a3f5f"
            },
            "marker": {
             "line": {
              "color": "#E5ECF6",
              "width": 0.5
             },
             "pattern": {
              "fillmode": "overlay",
              "size": 10,
              "solidity": 0.2
             }
            },
            "type": "bar"
           }
          ],
          "barpolar": [
           {
            "marker": {
             "line": {
              "color": "#E5ECF6",
              "width": 0.5
             },
             "pattern": {
              "fillmode": "overlay",
              "size": 10,
              "solidity": 0.2
             }
            },
            "type": "barpolar"
           }
          ],
          "carpet": [
           {
            "aaxis": {
             "endlinecolor": "#2a3f5f",
             "gridcolor": "white",
             "linecolor": "white",
             "minorgridcolor": "white",
             "startlinecolor": "#2a3f5f"
            },
            "baxis": {
             "endlinecolor": "#2a3f5f",
             "gridcolor": "white",
             "linecolor": "white",
             "minorgridcolor": "white",
             "startlinecolor": "#2a3f5f"
            },
            "type": "carpet"
           }
          ],
          "choropleth": [
           {
            "colorbar": {
             "outlinewidth": 0,
             "ticks": ""
            },
            "type": "choropleth"
           }
          ],
          "contour": [
           {
            "colorbar": {
             "outlinewidth": 0,
             "ticks": ""
            },
            "colorscale": [
             [
              0,
              "#0d0887"
             ],
             [
              0.1111111111111111,
              "#46039f"
             ],
             [
              0.2222222222222222,
              "#7201a8"
             ],
             [
              0.3333333333333333,
              "#9c179e"
             ],
             [
              0.4444444444444444,
              "#bd3786"
             ],
             [
              0.5555555555555556,
              "#d8576b"
             ],
             [
              0.6666666666666666,
              "#ed7953"
             ],
             [
              0.7777777777777778,
              "#fb9f3a"
             ],
             [
              0.8888888888888888,
              "#fdca26"
             ],
             [
              1,
              "#f0f921"
             ]
            ],
            "type": "contour"
           }
          ],
          "contourcarpet": [
           {
            "colorbar": {
             "outlinewidth": 0,
             "ticks": ""
            },
            "type": "contourcarpet"
           }
          ],
          "heatmap": [
           {
            "colorbar": {
             "outlinewidth": 0,
             "ticks": ""
            },
            "colorscale": [
             [
              0,
              "#0d0887"
             ],
             [
              0.1111111111111111,
              "#46039f"
             ],
             [
              0.2222222222222222,
              "#7201a8"
             ],
             [
              0.3333333333333333,
              "#9c179e"
             ],
             [
              0.4444444444444444,
              "#bd3786"
             ],
             [
              0.5555555555555556,
              "#d8576b"
             ],
             [
              0.6666666666666666,
              "#ed7953"
             ],
             [
              0.7777777777777778,
              "#fb9f3a"
             ],
             [
              0.8888888888888888,
              "#fdca26"
             ],
             [
              1,
              "#f0f921"
             ]
            ],
            "type": "heatmap"
           }
          ],
          "heatmapgl": [
           {
            "colorbar": {
             "outlinewidth": 0,
             "ticks": ""
            },
            "colorscale": [
             [
              0,
              "#0d0887"
             ],
             [
              0.1111111111111111,
              "#46039f"
             ],
             [
              0.2222222222222222,
              "#7201a8"
             ],
             [
              0.3333333333333333,
              "#9c179e"
             ],
             [
              0.4444444444444444,
              "#bd3786"
             ],
             [
              0.5555555555555556,
              "#d8576b"
             ],
             [
              0.6666666666666666,
              "#ed7953"
             ],
             [
              0.7777777777777778,
              "#fb9f3a"
             ],
             [
              0.8888888888888888,
              "#fdca26"
             ],
             [
              1,
              "#f0f921"
             ]
            ],
            "type": "heatmapgl"
           }
          ],
          "histogram": [
           {
            "marker": {
             "pattern": {
              "fillmode": "overlay",
              "size": 10,
              "solidity": 0.2
             }
            },
            "type": "histogram"
           }
          ],
          "histogram2d": [
           {
            "colorbar": {
             "outlinewidth": 0,
             "ticks": ""
            },
            "colorscale": [
             [
              0,
              "#0d0887"
             ],
             [
              0.1111111111111111,
              "#46039f"
             ],
             [
              0.2222222222222222,
              "#7201a8"
             ],
             [
              0.3333333333333333,
              "#9c179e"
             ],
             [
              0.4444444444444444,
              "#bd3786"
             ],
             [
              0.5555555555555556,
              "#d8576b"
             ],
             [
              0.6666666666666666,
              "#ed7953"
             ],
             [
              0.7777777777777778,
              "#fb9f3a"
             ],
             [
              0.8888888888888888,
              "#fdca26"
             ],
             [
              1,
              "#f0f921"
             ]
            ],
            "type": "histogram2d"
           }
          ],
          "histogram2dcontour": [
           {
            "colorbar": {
             "outlinewidth": 0,
             "ticks": ""
            },
            "colorscale": [
             [
              0,
              "#0d0887"
             ],
             [
              0.1111111111111111,
              "#46039f"
             ],
             [
              0.2222222222222222,
              "#7201a8"
             ],
             [
              0.3333333333333333,
              "#9c179e"
             ],
             [
              0.4444444444444444,
              "#bd3786"
             ],
             [
              0.5555555555555556,
              "#d8576b"
             ],
             [
              0.6666666666666666,
              "#ed7953"
             ],
             [
              0.7777777777777778,
              "#fb9f3a"
             ],
             [
              0.8888888888888888,
              "#fdca26"
             ],
             [
              1,
              "#f0f921"
             ]
            ],
            "type": "histogram2dcontour"
           }
          ],
          "mesh3d": [
           {
            "colorbar": {
             "outlinewidth": 0,
             "ticks": ""
            },
            "type": "mesh3d"
           }
          ],
          "parcoords": [
           {
            "line": {
             "colorbar": {
              "outlinewidth": 0,
              "ticks": ""
             }
            },
            "type": "parcoords"
           }
          ],
          "pie": [
           {
            "automargin": true,
            "type": "pie"
           }
          ],
          "scatter": [
           {
            "fillpattern": {
             "fillmode": "overlay",
             "size": 10,
             "solidity": 0.2
            },
            "type": "scatter"
           }
          ],
          "scatter3d": [
           {
            "line": {
             "colorbar": {
              "outlinewidth": 0,
              "ticks": ""
             }
            },
            "marker": {
             "colorbar": {
              "outlinewidth": 0,
              "ticks": ""
             }
            },
            "type": "scatter3d"
           }
          ],
          "scattercarpet": [
           {
            "marker": {
             "colorbar": {
              "outlinewidth": 0,
              "ticks": ""
             }
            },
            "type": "scattercarpet"
           }
          ],
          "scattergeo": [
           {
            "marker": {
             "colorbar": {
              "outlinewidth": 0,
              "ticks": ""
             }
            },
            "type": "scattergeo"
           }
          ],
          "scattergl": [
           {
            "marker": {
             "colorbar": {
              "outlinewidth": 0,
              "ticks": ""
             }
            },
            "type": "scattergl"
           }
          ],
          "scattermapbox": [
           {
            "marker": {
             "colorbar": {
              "outlinewidth": 0,
              "ticks": ""
             }
            },
            "type": "scattermapbox"
           }
          ],
          "scatterpolar": [
           {
            "marker": {
             "colorbar": {
              "outlinewidth": 0,
              "ticks": ""
             }
            },
            "type": "scatterpolar"
           }
          ],
          "scatterpolargl": [
           {
            "marker": {
             "colorbar": {
              "outlinewidth": 0,
              "ticks": ""
             }
            },
            "type": "scatterpolargl"
           }
          ],
          "scatterternary": [
           {
            "marker": {
             "colorbar": {
              "outlinewidth": 0,
              "ticks": ""
             }
            },
            "type": "scatterternary"
           }
          ],
          "surface": [
           {
            "colorbar": {
             "outlinewidth": 0,
             "ticks": ""
            },
            "colorscale": [
             [
              0,
              "#0d0887"
             ],
             [
              0.1111111111111111,
              "#46039f"
             ],
             [
              0.2222222222222222,
              "#7201a8"
             ],
             [
              0.3333333333333333,
              "#9c179e"
             ],
             [
              0.4444444444444444,
              "#bd3786"
             ],
             [
              0.5555555555555556,
              "#d8576b"
             ],
             [
              0.6666666666666666,
              "#ed7953"
             ],
             [
              0.7777777777777778,
              "#fb9f3a"
             ],
             [
              0.8888888888888888,
              "#fdca26"
             ],
             [
              1,
              "#f0f921"
             ]
            ],
            "type": "surface"
           }
          ],
          "table": [
           {
            "cells": {
             "fill": {
              "color": "#EBF0F8"
             },
             "line": {
              "color": "white"
             }
            },
            "header": {
             "fill": {
              "color": "#C8D4E3"
             },
             "line": {
              "color": "white"
             }
            },
            "type": "table"
           }
          ]
         },
         "layout": {
          "annotationdefaults": {
           "arrowcolor": "#2a3f5f",
           "arrowhead": 0,
           "arrowwidth": 1
          },
          "autotypenumbers": "strict",
          "coloraxis": {
           "colorbar": {
            "outlinewidth": 0,
            "ticks": ""
           }
          },
          "colorscale": {
           "diverging": [
            [
             0,
             "#8e0152"
            ],
            [
             0.1,
             "#c51b7d"
            ],
            [
             0.2,
             "#de77ae"
            ],
            [
             0.3,
             "#f1b6da"
            ],
            [
             0.4,
             "#fde0ef"
            ],
            [
             0.5,
             "#f7f7f7"
            ],
            [
             0.6,
             "#e6f5d0"
            ],
            [
             0.7,
             "#b8e186"
            ],
            [
             0.8,
             "#7fbc41"
            ],
            [
             0.9,
             "#4d9221"
            ],
            [
             1,
             "#276419"
            ]
           ],
           "sequential": [
            [
             0,
             "#0d0887"
            ],
            [
             0.1111111111111111,
             "#46039f"
            ],
            [
             0.2222222222222222,
             "#7201a8"
            ],
            [
             0.3333333333333333,
             "#9c179e"
            ],
            [
             0.4444444444444444,
             "#bd3786"
            ],
            [
             0.5555555555555556,
             "#d8576b"
            ],
            [
             0.6666666666666666,
             "#ed7953"
            ],
            [
             0.7777777777777778,
             "#fb9f3a"
            ],
            [
             0.8888888888888888,
             "#fdca26"
            ],
            [
             1,
             "#f0f921"
            ]
           ],
           "sequentialminus": [
            [
             0,
             "#0d0887"
            ],
            [
             0.1111111111111111,
             "#46039f"
            ],
            [
             0.2222222222222222,
             "#7201a8"
            ],
            [
             0.3333333333333333,
             "#9c179e"
            ],
            [
             0.4444444444444444,
             "#bd3786"
            ],
            [
             0.5555555555555556,
             "#d8576b"
            ],
            [
             0.6666666666666666,
             "#ed7953"
            ],
            [
             0.7777777777777778,
             "#fb9f3a"
            ],
            [
             0.8888888888888888,
             "#fdca26"
            ],
            [
             1,
             "#f0f921"
            ]
           ]
          },
          "colorway": [
           "#636efa",
           "#EF553B",
           "#00cc96",
           "#ab63fa",
           "#FFA15A",
           "#19d3f3",
           "#FF6692",
           "#B6E880",
           "#FF97FF",
           "#FECB52"
          ],
          "font": {
           "color": "#2a3f5f"
          },
          "geo": {
           "bgcolor": "white",
           "lakecolor": "white",
           "landcolor": "#E5ECF6",
           "showlakes": true,
           "showland": true,
           "subunitcolor": "white"
          },
          "hoverlabel": {
           "align": "left"
          },
          "hovermode": "closest",
          "mapbox": {
           "style": "light"
          },
          "paper_bgcolor": "white",
          "plot_bgcolor": "#E5ECF6",
          "polar": {
           "angularaxis": {
            "gridcolor": "white",
            "linecolor": "white",
            "ticks": ""
           },
           "bgcolor": "#E5ECF6",
           "radialaxis": {
            "gridcolor": "white",
            "linecolor": "white",
            "ticks": ""
           }
          },
          "scene": {
           "xaxis": {
            "backgroundcolor": "#E5ECF6",
            "gridcolor": "white",
            "gridwidth": 2,
            "linecolor": "white",
            "showbackground": true,
            "ticks": "",
            "zerolinecolor": "white"
           },
           "yaxis": {
            "backgroundcolor": "#E5ECF6",
            "gridcolor": "white",
            "gridwidth": 2,
            "linecolor": "white",
            "showbackground": true,
            "ticks": "",
            "zerolinecolor": "white"
           },
           "zaxis": {
            "backgroundcolor": "#E5ECF6",
            "gridcolor": "white",
            "gridwidth": 2,
            "linecolor": "white",
            "showbackground": true,
            "ticks": "",
            "zerolinecolor": "white"
           }
          },
          "shapedefaults": {
           "line": {
            "color": "#2a3f5f"
           }
          },
          "ternary": {
           "aaxis": {
            "gridcolor": "white",
            "linecolor": "white",
            "ticks": ""
           },
           "baxis": {
            "gridcolor": "white",
            "linecolor": "white",
            "ticks": ""
           },
           "bgcolor": "#E5ECF6",
           "caxis": {
            "gridcolor": "white",
            "linecolor": "white",
            "ticks": ""
           }
          },
          "title": {
           "x": 0.05
          },
          "xaxis": {
           "automargin": true,
           "gridcolor": "white",
           "linecolor": "white",
           "ticks": "",
           "title": {
            "standoff": 15
           },
           "zerolinecolor": "white",
           "zerolinewidth": 2
          },
          "yaxis": {
           "automargin": true,
           "gridcolor": "white",
           "linecolor": "white",
           "ticks": "",
           "title": {
            "standoff": 15
           },
           "zerolinecolor": "white",
           "zerolinewidth": 2
          }
         }
        },
        "title": {
         "text": "Relative Expression Per Hour at Station 51"
        },
        "width": 800,
        "xaxis": {
         "anchor": "y",
         "domain": [
          0,
          1
         ],
         "tickangle": -45,
         "title": {
          "text": "Date and Time"
         }
        },
        "yaxis": {
         "anchor": "x",
         "domain": [
          0,
          1
         ],
         "title": {
          "text": "Relative Expression"
         }
        }
       }
      }
     },
     "metadata": {},
     "output_type": "display_data"
    }
   ],
   "source": [
    "# Filter data based on TPM and p_ident thresholds\n",
    "filtered_data = data_51[(data_51['p_ident'] >= 0.95)]\n",
    "\n",
    "# Group by taxonomic level and 'year_hour', then sum TPM\n",
    "grouped_df = filtered_data.groupby(['Genus_UniEuk', 'datetime'])['TPM'].sum().reset_index()\n",
    "\n",
    "grouped_df.head()\n",
    "# Normalize TPM sums to get relative expression per hour\n",
    "total_tpm_per_hour = grouped_df.groupby('datetime')['TPM'].transform('sum')\n",
    "grouped_df['rel_expression_per_hour'] = grouped_df['TPM'] / total_tpm_per_hour\n",
    "\n",
    "# Combine low-abundant groups into a single 'Rare' category\n",
    "threshold = 0.05\n",
    "grouped_df.loc[grouped_df['rel_expression_per_hour'] <= threshold, 'Genus_UniEuk'] = 'Rare'\n",
    "\n",
    "\n",
    "# Remove categories with no expression\n",
    "grouped_df = grouped_df[grouped_df['rel_expression_per_hour'] > 0]\n",
    "\n",
    "# Group once more to combine Rares\n",
    "grouped_df = grouped_df.groupby(['Genus_UniEuk', 'datetime'])['rel_expression_per_hour'].sum().reset_index()\n",
    "\n",
    "# Plot\n",
    "fig = px.bar(grouped_df, \n",
    "            x='datetime', \n",
    "            y='rel_expression_per_hour', \n",
    "            color='Genus_UniEuk',\n",
    "            title='Relative Expression Per Hour at Station 51',\n",
    "            category_orders={\"Genus_UniEuk\": ['Arthropoda', 'Acantharea', 'Ctenophora', 'Diatomeae', 'Dinophyceae', \n",
    "                                                    'Florideophyceae','Odontella', 'Phaeodarea', 'Prymnesiophyceae',\n",
    "                                                    'Spirotrichea', 'Vertebrata', 'Rare',]},\n",
    "            color_discrete_map=color_discrete_map\n",
    "            )\n",
    "\n",
    "fig.update_layout(\n",
    "    width=800,\n",
    "    height=400,\n",
    "    xaxis_title='Date and Time',\n",
    "    yaxis_title='Relative Expression',\n",
    "    xaxis_tickangle=-45,\n",
    "    legend_title='Taxonomic Group'\n",
    ")\n",
    "\n",
    "# Save the figure\n",
    "filename_base = \"../figures/metatranscriptomics/51_relative_expression_per_hour_genus\"\n",
    "fig.write_image(filename_base + \".png\", scale=1)\n",
    "fig.write_image(filename_base + \".svg\", scale=1)\n",
    "\n",
    "fig.show()"
   ]
  },
  {
   "cell_type": "markdown",
   "metadata": {},
   "source": [
    "### Transcripts per L\n",
    "Here, we will calculate the number of transcripts per L for each sample. and plot the distribution of the number of transcripts per L for each sample."
   ]
  },
  {
   "cell_type": "code",
   "execution_count": 24,
   "metadata": {},
   "outputs": [],
   "source": [
    "# Use TPM sums to calculate Transcripts per Liter\n",
    "ERCC_normalisation = pd.read_csv('../data/ERCC92/ERCC_normalisation.csv')\n",
    "\n",
    "# Merge ERCC normalisation data into dataframe\n",
    "data_130 = data_130.merge(ERCC_normalisation, left_on='sample', right_on='sample_name', how='left')\n",
    "data_51 = data_51.merge(ERCC_normalisation, left_on='sample', right_on='sample_name', how='left')\n",
    "\n",
    "# Calculate TPL\n",
    "data_130['TPL'] = data_130['TPM'] * data_130['ERCC_norm_factor']\n",
    "data_51['TPL'] = data_51['TPM'] * data_51['ERCC_norm_factor']"
   ]
  },
  {
   "cell_type": "code",
   "execution_count": 31,
   "metadata": {},
   "outputs": [
    {
     "name": "stderr",
     "output_type": "stream",
     "text": [
      "/Users/michiel/miniconda3/envs/spring_campaign_2023/lib/python3.12/site-packages/_plotly_utils/basevalidators.py:106: FutureWarning:\n",
      "\n",
      "The behavior of DatetimeProperties.to_pydatetime is deprecated, in a future version this will return a Series containing python datetime objects instead of an ndarray. To retain the old behavior, call `np.array` on the result\n",
      "\n"
     ]
    },
    {
     "data": {
      "application/vnd.plotly.v1+json": {
       "config": {
        "plotlyServerURL": "https://plot.ly"
       },
       "data": [
        {
         "alignmentgroup": "True",
         "hovertemplate": "Genus_UniEuk=Rare<br>datetime=%{x}<br>TPL=%{y}<extra></extra>",
         "legendgroup": "Rare",
         "marker": {
          "color": "#545454",
          "pattern": {
           "shape": ""
          }
         },
         "name": "Rare",
         "offsetgroup": "Rare",
         "orientation": "v",
         "showlegend": true,
         "textposition": "auto",
         "type": "bar",
         "x": [
          "2023-04-20T10:00:00",
          "2023-04-20T11:00:00",
          "2023-04-20T12:00:00",
          "2023-04-20T13:00:00",
          "2023-04-20T14:00:00",
          "2023-04-20T15:00:00",
          "2023-04-20T16:00:00",
          "2023-04-20T17:00:00",
          "2023-04-20T18:00:00",
          "2023-04-20T19:00:00",
          "2023-04-20T20:00:00",
          "2023-04-20T21:00:00",
          "2023-04-20T22:00:00",
          "2023-04-20T23:00:00",
          "2023-04-21T00:00:00",
          "2023-04-21T01:00:00",
          "2023-04-21T02:00:00",
          "2023-04-21T03:00:00",
          "2023-04-21T04:00:00",
          "2023-04-21T05:00:00",
          "2023-04-21T06:00:00",
          "2023-04-21T07:00:00",
          "2023-04-21T08:00:00",
          "2023-04-21T09:00:00",
          "2023-04-21T10:00:00"
         ],
         "xaxis": "x",
         "y": [
          480730.31267895736,
          1948862.9158359242,
          1117127.2734408497,
          983838.3470359548,
          2221690.3354838095,
          1270417.72820276,
          1777914.9608044545,
          1363547.9426947795,
          850600.1810414413,
          958218.3256368388,
          551738.3212637457,
          1178699.3534288593,
          1457966.9500993222,
          352558.67315600644,
          6291039.465578745,
          4498024.52592694,
          1107082.1548985548,
          1007331.9708823196,
          880492.4757434475,
          7144622.447366507,
          1584170.935942839,
          862640.043812908,
          1127246.5393773278,
          4973097.779612553,
          3979408.9516103202
         ],
         "yaxis": "y"
        },
        {
         "alignmentgroup": "True",
         "hovertemplate": "Genus_UniEuk=Asterionellopsis<br>datetime=%{x}<br>TPL=%{y}<extra></extra>",
         "legendgroup": "Asterionellopsis",
         "marker": {
          "color": "#FFA15A",
          "pattern": {
           "shape": ""
          }
         },
         "name": "Asterionellopsis",
         "offsetgroup": "Asterionellopsis",
         "orientation": "v",
         "showlegend": true,
         "textposition": "auto",
         "type": "bar",
         "x": [
          "2023-04-21T00:00:00",
          "2023-04-21T01:00:00",
          "2023-04-21T09:00:00",
          "2023-04-21T10:00:00"
         ],
         "xaxis": "x",
         "y": [
          2203612.6033996125,
          1924534.0414644459,
          1120133.7027636825,
          1065965.4897468432
         ],
         "yaxis": "y"
        },
        {
         "alignmentgroup": "True",
         "hovertemplate": "Genus_UniEuk=Corethron<br>datetime=%{x}<br>TPL=%{y}<extra></extra>",
         "legendgroup": "Corethron",
         "marker": {
          "color": "#19d3f3",
          "pattern": {
           "shape": ""
          }
         },
         "name": "Corethron",
         "offsetgroup": "Corethron",
         "orientation": "v",
         "showlegend": true,
         "textposition": "auto",
         "type": "bar",
         "x": [
          "2023-04-21T10:00:00"
         ],
         "xaxis": "x",
         "y": [
          665049.8395612073
         ],
         "yaxis": "y"
        },
        {
         "alignmentgroup": "True",
         "hovertemplate": "Genus_UniEuk=Noctiluca<br>datetime=%{x}<br>TPL=%{y}<extra></extra>",
         "legendgroup": "Noctiluca",
         "marker": {
          "color": "#56B4E8",
          "pattern": {
           "shape": ""
          }
         },
         "name": "Noctiluca",
         "offsetgroup": "Noctiluca",
         "orientation": "v",
         "showlegend": true,
         "textposition": "auto",
         "type": "bar",
         "x": [
          "2023-04-20T10:00:00",
          "2023-04-20T13:00:00",
          "2023-04-20T14:00:00",
          "2023-04-20T18:00:00",
          "2023-04-20T19:00:00",
          "2023-04-20T20:00:00",
          "2023-04-20T22:00:00",
          "2023-04-20T23:00:00",
          "2023-04-21T00:00:00",
          "2023-04-21T01:00:00",
          "2023-04-21T02:00:00",
          "2023-04-21T03:00:00",
          "2023-04-21T04:00:00",
          "2023-04-21T05:00:00",
          "2023-04-21T06:00:00",
          "2023-04-21T07:00:00",
          "2023-04-21T08:00:00",
          "2023-04-21T09:00:00",
          "2023-04-21T10:00:00"
         ],
         "xaxis": "x",
         "y": [
          309716.96041026467,
          927216.2623456457,
          1727250.016368443,
          576961.3425817337,
          823285.1933183395,
          547391.7662375154,
          1884695.51148994,
          1349798.0382997675,
          22488489.441610646,
          2997954.7267943285,
          1281384.987189368,
          1063650.0117046658,
          1253514.3667679639,
          18150209.025127225,
          2294301.374279628,
          1277170.532164573,
          1224542.0579335704,
          8722319.746285306,
          3991657.9293012144
         ],
         "yaxis": "y"
        },
        {
         "alignmentgroup": "True",
         "hovertemplate": "Genus_UniEuk=Phaeocystis<br>datetime=%{x}<br>TPL=%{y}<extra></extra>",
         "legendgroup": "Phaeocystis",
         "marker": {
          "color": "#009E73",
          "pattern": {
           "shape": ""
          }
         },
         "name": "Phaeocystis",
         "offsetgroup": "Phaeocystis",
         "orientation": "v",
         "showlegend": true,
         "textposition": "auto",
         "type": "bar",
         "x": [
          "2023-04-20T10:00:00",
          "2023-04-20T11:00:00",
          "2023-04-20T12:00:00",
          "2023-04-20T13:00:00",
          "2023-04-20T14:00:00",
          "2023-04-20T15:00:00",
          "2023-04-20T16:00:00",
          "2023-04-20T17:00:00",
          "2023-04-20T18:00:00",
          "2023-04-20T19:00:00",
          "2023-04-20T20:00:00",
          "2023-04-20T21:00:00",
          "2023-04-20T22:00:00",
          "2023-04-20T23:00:00",
          "2023-04-21T02:00:00",
          "2023-04-21T03:00:00",
          "2023-04-21T04:00:00",
          "2023-04-21T06:00:00",
          "2023-04-21T07:00:00",
          "2023-04-21T08:00:00"
         ],
         "xaxis": "x",
         "y": [
          4791050.708534581,
          7339088.271583305,
          6192426.733449826,
          5700256.091013032,
          18683541.903413728,
          15720074.108295953,
          17975527.656439472,
          13630329.229121173,
          5602058.819773725,
          7053045.772241735,
          6199243.19475587,
          13846023.109963661,
          9172994.635431658,
          1668860.7747069327,
          5782565.532344212,
          4274014.687116739,
          11225810.575799732,
          8866874.05638982,
          2682206.597440361,
          7472626.436986164
         ],
         "yaxis": "y"
        },
        {
         "alignmentgroup": "True",
         "hovertemplate": "Genus_UniEuk=Rhizosolenia<br>datetime=%{x}<br>TPL=%{y}<extra></extra>",
         "legendgroup": "Rhizosolenia",
         "marker": {
          "color": "#FF6692",
          "pattern": {
           "shape": ""
          }
         },
         "name": "Rhizosolenia",
         "offsetgroup": "Rhizosolenia",
         "orientation": "v",
         "showlegend": true,
         "textposition": "auto",
         "type": "bar",
         "x": [
          "2023-04-21T01:00:00",
          "2023-04-21T09:00:00",
          "2023-04-21T10:00:00"
         ],
         "xaxis": "x",
         "y": [
          1397640.445028405,
          845347.1968126093,
          907254.5038962391
         ],
         "yaxis": "y"
        }
       ],
       "layout": {
        "barmode": "relative",
        "height": 400,
        "legend": {
         "title": {
          "text": "Taxonomic Group"
         },
         "tracegroupgap": 0
        },
        "template": {
         "data": {
          "bar": [
           {
            "error_x": {
             "color": "#2a3f5f"
            },
            "error_y": {
             "color": "#2a3f5f"
            },
            "marker": {
             "line": {
              "color": "#E5ECF6",
              "width": 0.5
             },
             "pattern": {
              "fillmode": "overlay",
              "size": 10,
              "solidity": 0.2
             }
            },
            "type": "bar"
           }
          ],
          "barpolar": [
           {
            "marker": {
             "line": {
              "color": "#E5ECF6",
              "width": 0.5
             },
             "pattern": {
              "fillmode": "overlay",
              "size": 10,
              "solidity": 0.2
             }
            },
            "type": "barpolar"
           }
          ],
          "carpet": [
           {
            "aaxis": {
             "endlinecolor": "#2a3f5f",
             "gridcolor": "white",
             "linecolor": "white",
             "minorgridcolor": "white",
             "startlinecolor": "#2a3f5f"
            },
            "baxis": {
             "endlinecolor": "#2a3f5f",
             "gridcolor": "white",
             "linecolor": "white",
             "minorgridcolor": "white",
             "startlinecolor": "#2a3f5f"
            },
            "type": "carpet"
           }
          ],
          "choropleth": [
           {
            "colorbar": {
             "outlinewidth": 0,
             "ticks": ""
            },
            "type": "choropleth"
           }
          ],
          "contour": [
           {
            "colorbar": {
             "outlinewidth": 0,
             "ticks": ""
            },
            "colorscale": [
             [
              0,
              "#0d0887"
             ],
             [
              0.1111111111111111,
              "#46039f"
             ],
             [
              0.2222222222222222,
              "#7201a8"
             ],
             [
              0.3333333333333333,
              "#9c179e"
             ],
             [
              0.4444444444444444,
              "#bd3786"
             ],
             [
              0.5555555555555556,
              "#d8576b"
             ],
             [
              0.6666666666666666,
              "#ed7953"
             ],
             [
              0.7777777777777778,
              "#fb9f3a"
             ],
             [
              0.8888888888888888,
              "#fdca26"
             ],
             [
              1,
              "#f0f921"
             ]
            ],
            "type": "contour"
           }
          ],
          "contourcarpet": [
           {
            "colorbar": {
             "outlinewidth": 0,
             "ticks": ""
            },
            "type": "contourcarpet"
           }
          ],
          "heatmap": [
           {
            "colorbar": {
             "outlinewidth": 0,
             "ticks": ""
            },
            "colorscale": [
             [
              0,
              "#0d0887"
             ],
             [
              0.1111111111111111,
              "#46039f"
             ],
             [
              0.2222222222222222,
              "#7201a8"
             ],
             [
              0.3333333333333333,
              "#9c179e"
             ],
             [
              0.4444444444444444,
              "#bd3786"
             ],
             [
              0.5555555555555556,
              "#d8576b"
             ],
             [
              0.6666666666666666,
              "#ed7953"
             ],
             [
              0.7777777777777778,
              "#fb9f3a"
             ],
             [
              0.8888888888888888,
              "#fdca26"
             ],
             [
              1,
              "#f0f921"
             ]
            ],
            "type": "heatmap"
           }
          ],
          "heatmapgl": [
           {
            "colorbar": {
             "outlinewidth": 0,
             "ticks": ""
            },
            "colorscale": [
             [
              0,
              "#0d0887"
             ],
             [
              0.1111111111111111,
              "#46039f"
             ],
             [
              0.2222222222222222,
              "#7201a8"
             ],
             [
              0.3333333333333333,
              "#9c179e"
             ],
             [
              0.4444444444444444,
              "#bd3786"
             ],
             [
              0.5555555555555556,
              "#d8576b"
             ],
             [
              0.6666666666666666,
              "#ed7953"
             ],
             [
              0.7777777777777778,
              "#fb9f3a"
             ],
             [
              0.8888888888888888,
              "#fdca26"
             ],
             [
              1,
              "#f0f921"
             ]
            ],
            "type": "heatmapgl"
           }
          ],
          "histogram": [
           {
            "marker": {
             "pattern": {
              "fillmode": "overlay",
              "size": 10,
              "solidity": 0.2
             }
            },
            "type": "histogram"
           }
          ],
          "histogram2d": [
           {
            "colorbar": {
             "outlinewidth": 0,
             "ticks": ""
            },
            "colorscale": [
             [
              0,
              "#0d0887"
             ],
             [
              0.1111111111111111,
              "#46039f"
             ],
             [
              0.2222222222222222,
              "#7201a8"
             ],
             [
              0.3333333333333333,
              "#9c179e"
             ],
             [
              0.4444444444444444,
              "#bd3786"
             ],
             [
              0.5555555555555556,
              "#d8576b"
             ],
             [
              0.6666666666666666,
              "#ed7953"
             ],
             [
              0.7777777777777778,
              "#fb9f3a"
             ],
             [
              0.8888888888888888,
              "#fdca26"
             ],
             [
              1,
              "#f0f921"
             ]
            ],
            "type": "histogram2d"
           }
          ],
          "histogram2dcontour": [
           {
            "colorbar": {
             "outlinewidth": 0,
             "ticks": ""
            },
            "colorscale": [
             [
              0,
              "#0d0887"
             ],
             [
              0.1111111111111111,
              "#46039f"
             ],
             [
              0.2222222222222222,
              "#7201a8"
             ],
             [
              0.3333333333333333,
              "#9c179e"
             ],
             [
              0.4444444444444444,
              "#bd3786"
             ],
             [
              0.5555555555555556,
              "#d8576b"
             ],
             [
              0.6666666666666666,
              "#ed7953"
             ],
             [
              0.7777777777777778,
              "#fb9f3a"
             ],
             [
              0.8888888888888888,
              "#fdca26"
             ],
             [
              1,
              "#f0f921"
             ]
            ],
            "type": "histogram2dcontour"
           }
          ],
          "mesh3d": [
           {
            "colorbar": {
             "outlinewidth": 0,
             "ticks": ""
            },
            "type": "mesh3d"
           }
          ],
          "parcoords": [
           {
            "line": {
             "colorbar": {
              "outlinewidth": 0,
              "ticks": ""
             }
            },
            "type": "parcoords"
           }
          ],
          "pie": [
           {
            "automargin": true,
            "type": "pie"
           }
          ],
          "scatter": [
           {
            "fillpattern": {
             "fillmode": "overlay",
             "size": 10,
             "solidity": 0.2
            },
            "type": "scatter"
           }
          ],
          "scatter3d": [
           {
            "line": {
             "colorbar": {
              "outlinewidth": 0,
              "ticks": ""
             }
            },
            "marker": {
             "colorbar": {
              "outlinewidth": 0,
              "ticks": ""
             }
            },
            "type": "scatter3d"
           }
          ],
          "scattercarpet": [
           {
            "marker": {
             "colorbar": {
              "outlinewidth": 0,
              "ticks": ""
             }
            },
            "type": "scattercarpet"
           }
          ],
          "scattergeo": [
           {
            "marker": {
             "colorbar": {
              "outlinewidth": 0,
              "ticks": ""
             }
            },
            "type": "scattergeo"
           }
          ],
          "scattergl": [
           {
            "marker": {
             "colorbar": {
              "outlinewidth": 0,
              "ticks": ""
             }
            },
            "type": "scattergl"
           }
          ],
          "scattermapbox": [
           {
            "marker": {
             "colorbar": {
              "outlinewidth": 0,
              "ticks": ""
             }
            },
            "type": "scattermapbox"
           }
          ],
          "scatterpolar": [
           {
            "marker": {
             "colorbar": {
              "outlinewidth": 0,
              "ticks": ""
             }
            },
            "type": "scatterpolar"
           }
          ],
          "scatterpolargl": [
           {
            "marker": {
             "colorbar": {
              "outlinewidth": 0,
              "ticks": ""
             }
            },
            "type": "scatterpolargl"
           }
          ],
          "scatterternary": [
           {
            "marker": {
             "colorbar": {
              "outlinewidth": 0,
              "ticks": ""
             }
            },
            "type": "scatterternary"
           }
          ],
          "surface": [
           {
            "colorbar": {
             "outlinewidth": 0,
             "ticks": ""
            },
            "colorscale": [
             [
              0,
              "#0d0887"
             ],
             [
              0.1111111111111111,
              "#46039f"
             ],
             [
              0.2222222222222222,
              "#7201a8"
             ],
             [
              0.3333333333333333,
              "#9c179e"
             ],
             [
              0.4444444444444444,
              "#bd3786"
             ],
             [
              0.5555555555555556,
              "#d8576b"
             ],
             [
              0.6666666666666666,
              "#ed7953"
             ],
             [
              0.7777777777777778,
              "#fb9f3a"
             ],
             [
              0.8888888888888888,
              "#fdca26"
             ],
             [
              1,
              "#f0f921"
             ]
            ],
            "type": "surface"
           }
          ],
          "table": [
           {
            "cells": {
             "fill": {
              "color": "#EBF0F8"
             },
             "line": {
              "color": "white"
             }
            },
            "header": {
             "fill": {
              "color": "#C8D4E3"
             },
             "line": {
              "color": "white"
             }
            },
            "type": "table"
           }
          ]
         },
         "layout": {
          "annotationdefaults": {
           "arrowcolor": "#2a3f5f",
           "arrowhead": 0,
           "arrowwidth": 1
          },
          "autotypenumbers": "strict",
          "coloraxis": {
           "colorbar": {
            "outlinewidth": 0,
            "ticks": ""
           }
          },
          "colorscale": {
           "diverging": [
            [
             0,
             "#8e0152"
            ],
            [
             0.1,
             "#c51b7d"
            ],
            [
             0.2,
             "#de77ae"
            ],
            [
             0.3,
             "#f1b6da"
            ],
            [
             0.4,
             "#fde0ef"
            ],
            [
             0.5,
             "#f7f7f7"
            ],
            [
             0.6,
             "#e6f5d0"
            ],
            [
             0.7,
             "#b8e186"
            ],
            [
             0.8,
             "#7fbc41"
            ],
            [
             0.9,
             "#4d9221"
            ],
            [
             1,
             "#276419"
            ]
           ],
           "sequential": [
            [
             0,
             "#0d0887"
            ],
            [
             0.1111111111111111,
             "#46039f"
            ],
            [
             0.2222222222222222,
             "#7201a8"
            ],
            [
             0.3333333333333333,
             "#9c179e"
            ],
            [
             0.4444444444444444,
             "#bd3786"
            ],
            [
             0.5555555555555556,
             "#d8576b"
            ],
            [
             0.6666666666666666,
             "#ed7953"
            ],
            [
             0.7777777777777778,
             "#fb9f3a"
            ],
            [
             0.8888888888888888,
             "#fdca26"
            ],
            [
             1,
             "#f0f921"
            ]
           ],
           "sequentialminus": [
            [
             0,
             "#0d0887"
            ],
            [
             0.1111111111111111,
             "#46039f"
            ],
            [
             0.2222222222222222,
             "#7201a8"
            ],
            [
             0.3333333333333333,
             "#9c179e"
            ],
            [
             0.4444444444444444,
             "#bd3786"
            ],
            [
             0.5555555555555556,
             "#d8576b"
            ],
            [
             0.6666666666666666,
             "#ed7953"
            ],
            [
             0.7777777777777778,
             "#fb9f3a"
            ],
            [
             0.8888888888888888,
             "#fdca26"
            ],
            [
             1,
             "#f0f921"
            ]
           ]
          },
          "colorway": [
           "#636efa",
           "#EF553B",
           "#00cc96",
           "#ab63fa",
           "#FFA15A",
           "#19d3f3",
           "#FF6692",
           "#B6E880",
           "#FF97FF",
           "#FECB52"
          ],
          "font": {
           "color": "#2a3f5f"
          },
          "geo": {
           "bgcolor": "white",
           "lakecolor": "white",
           "landcolor": "#E5ECF6",
           "showlakes": true,
           "showland": true,
           "subunitcolor": "white"
          },
          "hoverlabel": {
           "align": "left"
          },
          "hovermode": "closest",
          "mapbox": {
           "style": "light"
          },
          "paper_bgcolor": "white",
          "plot_bgcolor": "#E5ECF6",
          "polar": {
           "angularaxis": {
            "gridcolor": "white",
            "linecolor": "white",
            "ticks": ""
           },
           "bgcolor": "#E5ECF6",
           "radialaxis": {
            "gridcolor": "white",
            "linecolor": "white",
            "ticks": ""
           }
          },
          "scene": {
           "xaxis": {
            "backgroundcolor": "#E5ECF6",
            "gridcolor": "white",
            "gridwidth": 2,
            "linecolor": "white",
            "showbackground": true,
            "ticks": "",
            "zerolinecolor": "white"
           },
           "yaxis": {
            "backgroundcolor": "#E5ECF6",
            "gridcolor": "white",
            "gridwidth": 2,
            "linecolor": "white",
            "showbackground": true,
            "ticks": "",
            "zerolinecolor": "white"
           },
           "zaxis": {
            "backgroundcolor": "#E5ECF6",
            "gridcolor": "white",
            "gridwidth": 2,
            "linecolor": "white",
            "showbackground": true,
            "ticks": "",
            "zerolinecolor": "white"
           }
          },
          "shapedefaults": {
           "line": {
            "color": "#2a3f5f"
           }
          },
          "ternary": {
           "aaxis": {
            "gridcolor": "white",
            "linecolor": "white",
            "ticks": ""
           },
           "baxis": {
            "gridcolor": "white",
            "linecolor": "white",
            "ticks": ""
           },
           "bgcolor": "#E5ECF6",
           "caxis": {
            "gridcolor": "white",
            "linecolor": "white",
            "ticks": ""
           }
          },
          "title": {
           "x": 0.05
          },
          "xaxis": {
           "automargin": true,
           "gridcolor": "white",
           "linecolor": "white",
           "ticks": "",
           "title": {
            "standoff": 15
           },
           "zerolinecolor": "white",
           "zerolinewidth": 2
          },
          "yaxis": {
           "automargin": true,
           "gridcolor": "white",
           "linecolor": "white",
           "ticks": "",
           "title": {
            "standoff": 15
           },
           "zerolinecolor": "white",
           "zerolinewidth": 2
          }
         }
        },
        "title": {
         "text": "TPL sum at Station 130"
        },
        "width": 800,
        "xaxis": {
         "anchor": "y",
         "domain": [
          0,
          1
         ],
         "tickangle": -45,
         "title": {
          "text": "Date and Time"
         }
        },
        "yaxis": {
         "anchor": "x",
         "domain": [
          0,
          1
         ],
         "title": {
          "text": "TPL"
         }
        }
       }
      }
     },
     "metadata": {},
     "output_type": "display_data"
    }
   ],
   "source": [
    "# Filter data based on TPL and p_ident thresholds\n",
    "filtered_data = data_130[(data_130['p_ident'] >= 0.95)]\n",
    "\n",
    "# Group by taxonomic level and sample, then sum TPL\n",
    "grouped_df = filtered_data.groupby(['Genus_UniEuk', 'datetime'])['TPL'].sum().reset_index()\n",
    "\n",
    "grouped_df.head()\n",
    "# Normalize TPL sums to get relative expression per hour\n",
    "total_TPL_per_hour = grouped_df.groupby('datetime')['TPL'].transform('sum')\n",
    "grouped_df['rel_expression_per_hour'] = grouped_df['TPL'] / total_TPL_per_hour\n",
    "\n",
    "# Combine low-abundant groups into a single 'Rare' category\n",
    "threshold = 0.05\n",
    "grouped_df.loc[grouped_df['rel_expression_per_hour'] <= threshold, 'Genus_UniEuk'] = 'Rare'\n",
    "\n",
    "\n",
    "# Remove categories with no expression\n",
    "grouped_df = grouped_df[grouped_df['rel_expression_per_hour'] > 0]\n",
    "\n",
    "# Group once more to combine Rares\n",
    "grouped_df = grouped_df.groupby(['Genus_UniEuk', 'datetime'])['TPL'].sum().reset_index()\n",
    "\n",
    "# Plot\n",
    "fig = px.bar(grouped_df, \n",
    "            x='datetime', \n",
    "            y='TPL', \n",
    "            color='Genus_UniEuk',\n",
    "            title='TPL sum at Station 130',\n",
    "            category_orders={\"Genus_UniEuk\": ['Arthropoda', 'Acantharea', 'Ctenophora', 'Diatomeae', 'Dinophyceae', \n",
    "                                                    'Florideophyceae','Odontella', 'Phaeodarea', 'Prymnesiophyceae',\n",
    "                                                    'Spirotrichea', 'Vertebrata', 'Rare',]},\n",
    "            color_discrete_map=color_discrete_map\n",
    "            )\n",
    "\n",
    "fig.update_layout(\n",
    "    width=800,\n",
    "    height=400,\n",
    "    xaxis_title='Date and Time',\n",
    "    yaxis_title='TPL',\n",
    "    xaxis_tickangle=-45,\n",
    "    legend_title='Taxonomic Group'\n",
    ")\n",
    "\n",
    "# Save the figure\n",
    "filename_base = \"../figures/metatranscriptomics/130_TPL_per_hour_genus\"\n",
    "fig.write_image(filename_base + \".png\", scale=1)\n",
    "fig.write_image(filename_base + \".svg\", scale=1)\n",
    "\n",
    "fig.show()"
   ]
  },
  {
   "cell_type": "code",
   "execution_count": 30,
   "metadata": {},
   "outputs": [
    {
     "name": "stderr",
     "output_type": "stream",
     "text": [
      "/Users/michiel/miniconda3/envs/spring_campaign_2023/lib/python3.12/site-packages/_plotly_utils/basevalidators.py:106: FutureWarning:\n",
      "\n",
      "The behavior of DatetimeProperties.to_pydatetime is deprecated, in a future version this will return a Series containing python datetime objects instead of an ndarray. To retain the old behavior, call `np.array` on the result\n",
      "\n"
     ]
    },
    {
     "data": {
      "application/vnd.plotly.v1+json": {
       "config": {
        "plotlyServerURL": "https://plot.ly"
       },
       "data": [
        {
         "alignmentgroup": "True",
         "hovertemplate": "Genus_UniEuk=Rare<br>datetime=%{x}<br>TPL=%{y}<extra></extra>",
         "legendgroup": "Rare",
         "marker": {
          "color": "#545454",
          "pattern": {
           "shape": ""
          }
         },
         "name": "Rare",
         "offsetgroup": "Rare",
         "orientation": "v",
         "showlegend": true,
         "textposition": "auto",
         "type": "bar",
         "x": [
          "2023-04-18T13:00:00",
          "2023-04-18T14:00:00",
          "2023-04-18T15:00:00",
          "2023-04-18T16:00:00",
          "2023-04-18T17:00:00",
          "2023-04-18T18:00:00",
          "2023-04-18T19:00:00",
          "2023-04-18T20:00:00",
          "2023-04-18T21:00:00",
          "2023-04-18T22:00:00",
          "2023-04-18T23:00:00",
          "2023-04-19T00:00:00",
          "2023-04-19T01:00:00",
          "2023-04-19T02:00:00",
          "2023-04-19T03:00:00",
          "2023-04-19T04:00:00",
          "2023-04-19T05:00:00",
          "2023-04-19T06:00:00",
          "2023-04-19T07:00:00",
          "2023-04-19T08:00:00",
          "2023-04-19T09:00:00"
         ],
         "xaxis": "x",
         "y": [
          2642156.4768586336,
          634538.5468002144,
          1212858.5272944416,
          423885.120437738,
          744322.4555840173,
          3346744.385904763,
          442825.34167577216,
          1308805.8268738934,
          1109605.6565452048,
          1924343.1874009406,
          379251.1419902347,
          460567.2647767225,
          722067.8650102378,
          1890179.5127473194,
          10361076.639192486,
          7992727.159685248,
          1054659.297426337,
          609649.115379018,
          877801.7894051077,
          616836.6105709363,
          870732.4434245218
         ],
         "yaxis": "y"
        },
        {
         "alignmentgroup": "True",
         "hovertemplate": "Genus_UniEuk=Acartia<br>datetime=%{x}<br>TPL=%{y}<extra></extra>",
         "legendgroup": "Acartia",
         "marker": {
          "color": "#FFA15A",
          "pattern": {
           "shape": ""
          }
         },
         "name": "Acartia",
         "offsetgroup": "Acartia",
         "orientation": "v",
         "showlegend": true,
         "textposition": "auto",
         "type": "bar",
         "x": [
          "2023-04-18T14:00:00",
          "2023-04-18T16:00:00",
          "2023-04-18T18:00:00",
          "2023-04-18T19:00:00",
          "2023-04-18T20:00:00",
          "2023-04-18T22:00:00",
          "2023-04-18T23:00:00",
          "2023-04-19T00:00:00",
          "2023-04-19T01:00:00",
          "2023-04-19T02:00:00",
          "2023-04-19T03:00:00",
          "2023-04-19T04:00:00",
          "2023-04-19T05:00:00",
          "2023-04-19T06:00:00",
          "2023-04-19T07:00:00",
          "2023-04-19T08:00:00",
          "2023-04-19T09:00:00"
         ],
         "xaxis": "x",
         "y": [
          233343.88308534192,
          169277.90695952065,
          975669.530812072,
          163854.2983051139,
          463290.042937335,
          915021.8340860618,
          272302.26675511803,
          200710.61587418956,
          331940.9255448736,
          837018.5252552909,
          1805375.2069730284,
          3386957.858315026,
          654605.8229984703,
          313465.2385013052,
          670107.4950219623,
          180324.8506255937,
          692763.8227528112
         ],
         "yaxis": "y"
        },
        {
         "alignmentgroup": "True",
         "hovertemplate": "Genus_UniEuk=Calanus<br>datetime=%{x}<br>TPL=%{y}<extra></extra>",
         "legendgroup": "Calanus",
         "marker": {
          "color": "#19d3f3",
          "pattern": {
           "shape": ""
          }
         },
         "name": "Calanus",
         "offsetgroup": "Calanus",
         "orientation": "v",
         "showlegend": true,
         "textposition": "auto",
         "type": "bar",
         "x": [
          "2023-04-18T14:00:00",
          "2023-04-18T17:00:00",
          "2023-04-18T22:00:00",
          "2023-04-18T23:00:00",
          "2023-04-19T00:00:00",
          "2023-04-19T01:00:00",
          "2023-04-19T02:00:00",
          "2023-04-19T04:00:00",
          "2023-04-19T05:00:00",
          "2023-04-19T06:00:00",
          "2023-04-19T07:00:00",
          "2023-04-19T09:00:00"
         ],
         "xaxis": "x",
         "y": [
          393161.1848424177,
          950972.3158202653,
          683131.7344457919,
          182903.92746600264,
          137430.5880354118,
          224125.63567461562,
          525404.9578010571,
          1903891.5216119858,
          332796.7632683015,
          210808.59769702586,
          215482.2471602939,
          190654.74316135736
         ],
         "yaxis": "y"
        },
        {
         "alignmentgroup": "True",
         "hovertemplate": "Genus_UniEuk=Danio<br>datetime=%{x}<br>TPL=%{y}<extra></extra>",
         "legendgroup": "Danio",
         "marker": {
          "color": "#FF6692",
          "pattern": {
           "shape": ""
          }
         },
         "name": "Danio",
         "offsetgroup": "Danio",
         "orientation": "v",
         "showlegend": true,
         "textposition": "auto",
         "type": "bar",
         "x": [
          "2023-04-19T01:00:00",
          "2023-04-19T03:00:00"
         ],
         "xaxis": "x",
         "y": [
          273881.32265595114,
          2999207.2347265156
         ],
         "yaxis": "y"
        },
        {
         "alignmentgroup": "True",
         "hovertemplate": "Genus_UniEuk=Eurytemora<br>datetime=%{x}<br>TPL=%{y}<extra></extra>",
         "legendgroup": "Eurytemora",
         "marker": {
          "color": "#B6E880",
          "pattern": {
           "shape": ""
          }
         },
         "name": "Eurytemora",
         "offsetgroup": "Eurytemora",
         "orientation": "v",
         "showlegend": true,
         "textposition": "auto",
         "type": "bar",
         "x": [
          "2023-04-18T14:00:00",
          "2023-04-18T16:00:00",
          "2023-04-18T18:00:00",
          "2023-04-18T19:00:00",
          "2023-04-18T20:00:00",
          "2023-04-18T22:00:00",
          "2023-04-18T23:00:00",
          "2023-04-19T00:00:00",
          "2023-04-19T01:00:00",
          "2023-04-19T02:00:00",
          "2023-04-19T03:00:00",
          "2023-04-19T04:00:00",
          "2023-04-19T05:00:00",
          "2023-04-19T06:00:00",
          "2023-04-19T07:00:00",
          "2023-04-19T08:00:00",
          "2023-04-19T09:00:00"
         ],
         "xaxis": "x",
         "y": [
          263412.0031561338,
          261566.15929714325,
          1314973.4996294717,
          249013.81226694552,
          534299.0855868162,
          949442.4222130782,
          248761.23271591563,
          215520.50308555673,
          323174.8081045636,
          651142.4132058228,
          2164901.177030722,
          3404500.7006343883,
          1076839.5017100717,
          423620.8751035183,
          1048267.3341183736,
          261383.57795840918,
          1184706.9153099945
         ],
         "yaxis": "y"
        },
        {
         "alignmentgroup": "True",
         "hovertemplate": "Genus_UniEuk=Homo<br>datetime=%{x}<br>TPL=%{y}<extra></extra>",
         "legendgroup": "Homo",
         "marker": {
          "color": "#FF97FF",
          "pattern": {
           "shape": ""
          }
         },
         "name": "Homo",
         "offsetgroup": "Homo",
         "orientation": "v",
         "showlegend": true,
         "textposition": "auto",
         "type": "bar",
         "x": [
          "2023-04-18T13:00:00",
          "2023-04-18T21:00:00"
         ],
         "xaxis": "x",
         "y": [
          5484126.474691177,
          1302080.5206659462
         ],
         "yaxis": "y"
        },
        {
         "alignmentgroup": "True",
         "hovertemplate": "Genus_UniEuk=Mnemiopsis<br>datetime=%{x}<br>TPL=%{y}<extra></extra>",
         "legendgroup": "Mnemiopsis",
         "marker": {
          "color": "#FECB52",
          "pattern": {
           "shape": ""
          }
         },
         "name": "Mnemiopsis",
         "offsetgroup": "Mnemiopsis",
         "orientation": "v",
         "showlegend": true,
         "textposition": "auto",
         "type": "bar",
         "x": [
          "2023-04-18T19:00:00",
          "2023-04-18T20:00:00",
          "2023-04-18T22:00:00",
          "2023-04-19T00:00:00"
         ],
         "xaxis": "x",
         "y": [
          125577.39645023165,
          504774.23977172544,
          461987.0711984282,
          114278.57690101124
         ],
         "yaxis": "y"
        },
        {
         "alignmentgroup": "True",
         "hovertemplate": "Genus_UniEuk=Neocalanus<br>datetime=%{x}<br>TPL=%{y}<extra></extra>",
         "legendgroup": "Neocalanus",
         "marker": {
          "color": "#636efa",
          "pattern": {
           "shape": ""
          }
         },
         "name": "Neocalanus",
         "offsetgroup": "Neocalanus",
         "orientation": "v",
         "showlegend": true,
         "textposition": "auto",
         "type": "bar",
         "x": [
          "2023-04-18T23:00:00"
         ],
         "xaxis": "x",
         "y": [
          107457.69866399704
         ],
         "yaxis": "y"
        },
        {
         "alignmentgroup": "True",
         "hovertemplate": "Genus_UniEuk=Noctiluca<br>datetime=%{x}<br>TPL=%{y}<extra></extra>",
         "legendgroup": "Noctiluca",
         "marker": {
          "color": "#56B4E8",
          "pattern": {
           "shape": ""
          }
         },
         "name": "Noctiluca",
         "offsetgroup": "Noctiluca",
         "orientation": "v",
         "showlegend": true,
         "textposition": "auto",
         "type": "bar",
         "x": [
          "2023-04-18T14:00:00",
          "2023-04-18T15:00:00",
          "2023-04-18T16:00:00",
          "2023-04-18T17:00:00",
          "2023-04-18T18:00:00",
          "2023-04-18T19:00:00",
          "2023-04-18T20:00:00",
          "2023-04-18T21:00:00",
          "2023-04-18T22:00:00",
          "2023-04-18T23:00:00",
          "2023-04-19T00:00:00",
          "2023-04-19T03:00:00",
          "2023-04-19T04:00:00",
          "2023-04-19T05:00:00",
          "2023-04-19T06:00:00",
          "2023-04-19T07:00:00",
          "2023-04-19T08:00:00",
          "2023-04-19T09:00:00"
         ],
         "xaxis": "x",
         "y": [
          262701.893538481,
          1998310.1684661834,
          889611.0656014407,
          1767008.6447020676,
          10372706.266208114,
          1145740.496157118,
          929963.4754202865,
          1389588.1843201125,
          2187205.2128846594,
          633993.1767007271,
          146566.22099957502,
          2912547.0530774933,
          17556374.689356044,
          2375020.730101029,
          2126268.8651050483,
          955906.404425764,
          1301899.6011685643,
          180267.9835889713
         ],
         "yaxis": "y"
        },
        {
         "alignmentgroup": "True",
         "hovertemplate": "Genus_UniEuk=Phaeocystis<br>datetime=%{x}<br>TPL=%{y}<extra></extra>",
         "legendgroup": "Phaeocystis",
         "marker": {
          "color": "#009E73",
          "pattern": {
           "shape": ""
          }
         },
         "name": "Phaeocystis",
         "offsetgroup": "Phaeocystis",
         "orientation": "v",
         "showlegend": true,
         "textposition": "auto",
         "type": "bar",
         "x": [
          "2023-04-18T13:00:00",
          "2023-04-18T14:00:00",
          "2023-04-18T15:00:00",
          "2023-04-18T16:00:00",
          "2023-04-18T19:00:00",
          "2023-04-18T20:00:00",
          "2023-04-18T22:00:00",
          "2023-04-18T23:00:00",
          "2023-04-19T00:00:00",
          "2023-04-19T01:00:00",
          "2023-04-19T02:00:00",
          "2023-04-19T03:00:00",
          "2023-04-19T04:00:00",
          "2023-04-19T07:00:00"
         ],
         "xaxis": "x",
         "y": [
          1289653.0017015184,
          1200074.7371995195,
          653865.8988708816,
          334622.8742510774,
          136480.63952776245,
          1350703.663487786,
          988511.5035715702,
          186753.5148968857,
          589364.8325882177,
          273264.0521904951,
          2562669.117174226,
          13210642.126738887,
          2237212.1948681646,
          462304.6151662289
         ],
         "yaxis": "y"
        },
        {
         "alignmentgroup": "True",
         "hovertemplate": "Genus_UniEuk=Salmo<br>datetime=%{x}<br>TPL=%{y}<extra></extra>",
         "legendgroup": "Salmo",
         "marker": {
          "color": "#EF553B",
          "pattern": {
           "shape": ""
          }
         },
         "name": "Salmo",
         "offsetgroup": "Salmo",
         "orientation": "v",
         "showlegend": true,
         "textposition": "auto",
         "type": "bar",
         "x": [
          "2023-04-19T01:00:00",
          "2023-04-19T03:00:00"
         ],
         "xaxis": "x",
         "y": [
          211606.9579535826,
          2626516.483166855
         ],
         "yaxis": "y"
        },
        {
         "alignmentgroup": "True",
         "hovertemplate": "Genus_UniEuk=Thunnus<br>datetime=%{x}<br>TPL=%{y}<extra></extra>",
         "legendgroup": "Thunnus",
         "marker": {
          "color": "#00cc96",
          "pattern": {
           "shape": ""
          }
         },
         "name": "Thunnus",
         "offsetgroup": "Thunnus",
         "orientation": "v",
         "showlegend": true,
         "textposition": "auto",
         "type": "bar",
         "x": [
          "2023-04-19T01:00:00"
         ],
         "xaxis": "x",
         "y": [
          130374.57898595912
         ],
         "yaxis": "y"
        }
       ],
       "layout": {
        "barmode": "relative",
        "height": 400,
        "legend": {
         "title": {
          "text": "Taxonomic Group"
         },
         "tracegroupgap": 0
        },
        "template": {
         "data": {
          "bar": [
           {
            "error_x": {
             "color": "#2a3f5f"
            },
            "error_y": {
             "color": "#2a3f5f"
            },
            "marker": {
             "line": {
              "color": "#E5ECF6",
              "width": 0.5
             },
             "pattern": {
              "fillmode": "overlay",
              "size": 10,
              "solidity": 0.2
             }
            },
            "type": "bar"
           }
          ],
          "barpolar": [
           {
            "marker": {
             "line": {
              "color": "#E5ECF6",
              "width": 0.5
             },
             "pattern": {
              "fillmode": "overlay",
              "size": 10,
              "solidity": 0.2
             }
            },
            "type": "barpolar"
           }
          ],
          "carpet": [
           {
            "aaxis": {
             "endlinecolor": "#2a3f5f",
             "gridcolor": "white",
             "linecolor": "white",
             "minorgridcolor": "white",
             "startlinecolor": "#2a3f5f"
            },
            "baxis": {
             "endlinecolor": "#2a3f5f",
             "gridcolor": "white",
             "linecolor": "white",
             "minorgridcolor": "white",
             "startlinecolor": "#2a3f5f"
            },
            "type": "carpet"
           }
          ],
          "choropleth": [
           {
            "colorbar": {
             "outlinewidth": 0,
             "ticks": ""
            },
            "type": "choropleth"
           }
          ],
          "contour": [
           {
            "colorbar": {
             "outlinewidth": 0,
             "ticks": ""
            },
            "colorscale": [
             [
              0,
              "#0d0887"
             ],
             [
              0.1111111111111111,
              "#46039f"
             ],
             [
              0.2222222222222222,
              "#7201a8"
             ],
             [
              0.3333333333333333,
              "#9c179e"
             ],
             [
              0.4444444444444444,
              "#bd3786"
             ],
             [
              0.5555555555555556,
              "#d8576b"
             ],
             [
              0.6666666666666666,
              "#ed7953"
             ],
             [
              0.7777777777777778,
              "#fb9f3a"
             ],
             [
              0.8888888888888888,
              "#fdca26"
             ],
             [
              1,
              "#f0f921"
             ]
            ],
            "type": "contour"
           }
          ],
          "contourcarpet": [
           {
            "colorbar": {
             "outlinewidth": 0,
             "ticks": ""
            },
            "type": "contourcarpet"
           }
          ],
          "heatmap": [
           {
            "colorbar": {
             "outlinewidth": 0,
             "ticks": ""
            },
            "colorscale": [
             [
              0,
              "#0d0887"
             ],
             [
              0.1111111111111111,
              "#46039f"
             ],
             [
              0.2222222222222222,
              "#7201a8"
             ],
             [
              0.3333333333333333,
              "#9c179e"
             ],
             [
              0.4444444444444444,
              "#bd3786"
             ],
             [
              0.5555555555555556,
              "#d8576b"
             ],
             [
              0.6666666666666666,
              "#ed7953"
             ],
             [
              0.7777777777777778,
              "#fb9f3a"
             ],
             [
              0.8888888888888888,
              "#fdca26"
             ],
             [
              1,
              "#f0f921"
             ]
            ],
            "type": "heatmap"
           }
          ],
          "heatmapgl": [
           {
            "colorbar": {
             "outlinewidth": 0,
             "ticks": ""
            },
            "colorscale": [
             [
              0,
              "#0d0887"
             ],
             [
              0.1111111111111111,
              "#46039f"
             ],
             [
              0.2222222222222222,
              "#7201a8"
             ],
             [
              0.3333333333333333,
              "#9c179e"
             ],
             [
              0.4444444444444444,
              "#bd3786"
             ],
             [
              0.5555555555555556,
              "#d8576b"
             ],
             [
              0.6666666666666666,
              "#ed7953"
             ],
             [
              0.7777777777777778,
              "#fb9f3a"
             ],
             [
              0.8888888888888888,
              "#fdca26"
             ],
             [
              1,
              "#f0f921"
             ]
            ],
            "type": "heatmapgl"
           }
          ],
          "histogram": [
           {
            "marker": {
             "pattern": {
              "fillmode": "overlay",
              "size": 10,
              "solidity": 0.2
             }
            },
            "type": "histogram"
           }
          ],
          "histogram2d": [
           {
            "colorbar": {
             "outlinewidth": 0,
             "ticks": ""
            },
            "colorscale": [
             [
              0,
              "#0d0887"
             ],
             [
              0.1111111111111111,
              "#46039f"
             ],
             [
              0.2222222222222222,
              "#7201a8"
             ],
             [
              0.3333333333333333,
              "#9c179e"
             ],
             [
              0.4444444444444444,
              "#bd3786"
             ],
             [
              0.5555555555555556,
              "#d8576b"
             ],
             [
              0.6666666666666666,
              "#ed7953"
             ],
             [
              0.7777777777777778,
              "#fb9f3a"
             ],
             [
              0.8888888888888888,
              "#fdca26"
             ],
             [
              1,
              "#f0f921"
             ]
            ],
            "type": "histogram2d"
           }
          ],
          "histogram2dcontour": [
           {
            "colorbar": {
             "outlinewidth": 0,
             "ticks": ""
            },
            "colorscale": [
             [
              0,
              "#0d0887"
             ],
             [
              0.1111111111111111,
              "#46039f"
             ],
             [
              0.2222222222222222,
              "#7201a8"
             ],
             [
              0.3333333333333333,
              "#9c179e"
             ],
             [
              0.4444444444444444,
              "#bd3786"
             ],
             [
              0.5555555555555556,
              "#d8576b"
             ],
             [
              0.6666666666666666,
              "#ed7953"
             ],
             [
              0.7777777777777778,
              "#fb9f3a"
             ],
             [
              0.8888888888888888,
              "#fdca26"
             ],
             [
              1,
              "#f0f921"
             ]
            ],
            "type": "histogram2dcontour"
           }
          ],
          "mesh3d": [
           {
            "colorbar": {
             "outlinewidth": 0,
             "ticks": ""
            },
            "type": "mesh3d"
           }
          ],
          "parcoords": [
           {
            "line": {
             "colorbar": {
              "outlinewidth": 0,
              "ticks": ""
             }
            },
            "type": "parcoords"
           }
          ],
          "pie": [
           {
            "automargin": true,
            "type": "pie"
           }
          ],
          "scatter": [
           {
            "fillpattern": {
             "fillmode": "overlay",
             "size": 10,
             "solidity": 0.2
            },
            "type": "scatter"
           }
          ],
          "scatter3d": [
           {
            "line": {
             "colorbar": {
              "outlinewidth": 0,
              "ticks": ""
             }
            },
            "marker": {
             "colorbar": {
              "outlinewidth": 0,
              "ticks": ""
             }
            },
            "type": "scatter3d"
           }
          ],
          "scattercarpet": [
           {
            "marker": {
             "colorbar": {
              "outlinewidth": 0,
              "ticks": ""
             }
            },
            "type": "scattercarpet"
           }
          ],
          "scattergeo": [
           {
            "marker": {
             "colorbar": {
              "outlinewidth": 0,
              "ticks": ""
             }
            },
            "type": "scattergeo"
           }
          ],
          "scattergl": [
           {
            "marker": {
             "colorbar": {
              "outlinewidth": 0,
              "ticks": ""
             }
            },
            "type": "scattergl"
           }
          ],
          "scattermapbox": [
           {
            "marker": {
             "colorbar": {
              "outlinewidth": 0,
              "ticks": ""
             }
            },
            "type": "scattermapbox"
           }
          ],
          "scatterpolar": [
           {
            "marker": {
             "colorbar": {
              "outlinewidth": 0,
              "ticks": ""
             }
            },
            "type": "scatterpolar"
           }
          ],
          "scatterpolargl": [
           {
            "marker": {
             "colorbar": {
              "outlinewidth": 0,
              "ticks": ""
             }
            },
            "type": "scatterpolargl"
           }
          ],
          "scatterternary": [
           {
            "marker": {
             "colorbar": {
              "outlinewidth": 0,
              "ticks": ""
             }
            },
            "type": "scatterternary"
           }
          ],
          "surface": [
           {
            "colorbar": {
             "outlinewidth": 0,
             "ticks": ""
            },
            "colorscale": [
             [
              0,
              "#0d0887"
             ],
             [
              0.1111111111111111,
              "#46039f"
             ],
             [
              0.2222222222222222,
              "#7201a8"
             ],
             [
              0.3333333333333333,
              "#9c179e"
             ],
             [
              0.4444444444444444,
              "#bd3786"
             ],
             [
              0.5555555555555556,
              "#d8576b"
             ],
             [
              0.6666666666666666,
              "#ed7953"
             ],
             [
              0.7777777777777778,
              "#fb9f3a"
             ],
             [
              0.8888888888888888,
              "#fdca26"
             ],
             [
              1,
              "#f0f921"
             ]
            ],
            "type": "surface"
           }
          ],
          "table": [
           {
            "cells": {
             "fill": {
              "color": "#EBF0F8"
             },
             "line": {
              "color": "white"
             }
            },
            "header": {
             "fill": {
              "color": "#C8D4E3"
             },
             "line": {
              "color": "white"
             }
            },
            "type": "table"
           }
          ]
         },
         "layout": {
          "annotationdefaults": {
           "arrowcolor": "#2a3f5f",
           "arrowhead": 0,
           "arrowwidth": 1
          },
          "autotypenumbers": "strict",
          "coloraxis": {
           "colorbar": {
            "outlinewidth": 0,
            "ticks": ""
           }
          },
          "colorscale": {
           "diverging": [
            [
             0,
             "#8e0152"
            ],
            [
             0.1,
             "#c51b7d"
            ],
            [
             0.2,
             "#de77ae"
            ],
            [
             0.3,
             "#f1b6da"
            ],
            [
             0.4,
             "#fde0ef"
            ],
            [
             0.5,
             "#f7f7f7"
            ],
            [
             0.6,
             "#e6f5d0"
            ],
            [
             0.7,
             "#b8e186"
            ],
            [
             0.8,
             "#7fbc41"
            ],
            [
             0.9,
             "#4d9221"
            ],
            [
             1,
             "#276419"
            ]
           ],
           "sequential": [
            [
             0,
             "#0d0887"
            ],
            [
             0.1111111111111111,
             "#46039f"
            ],
            [
             0.2222222222222222,
             "#7201a8"
            ],
            [
             0.3333333333333333,
             "#9c179e"
            ],
            [
             0.4444444444444444,
             "#bd3786"
            ],
            [
             0.5555555555555556,
             "#d8576b"
            ],
            [
             0.6666666666666666,
             "#ed7953"
            ],
            [
             0.7777777777777778,
             "#fb9f3a"
            ],
            [
             0.8888888888888888,
             "#fdca26"
            ],
            [
             1,
             "#f0f921"
            ]
           ],
           "sequentialminus": [
            [
             0,
             "#0d0887"
            ],
            [
             0.1111111111111111,
             "#46039f"
            ],
            [
             0.2222222222222222,
             "#7201a8"
            ],
            [
             0.3333333333333333,
             "#9c179e"
            ],
            [
             0.4444444444444444,
             "#bd3786"
            ],
            [
             0.5555555555555556,
             "#d8576b"
            ],
            [
             0.6666666666666666,
             "#ed7953"
            ],
            [
             0.7777777777777778,
             "#fb9f3a"
            ],
            [
             0.8888888888888888,
             "#fdca26"
            ],
            [
             1,
             "#f0f921"
            ]
           ]
          },
          "colorway": [
           "#636efa",
           "#EF553B",
           "#00cc96",
           "#ab63fa",
           "#FFA15A",
           "#19d3f3",
           "#FF6692",
           "#B6E880",
           "#FF97FF",
           "#FECB52"
          ],
          "font": {
           "color": "#2a3f5f"
          },
          "geo": {
           "bgcolor": "white",
           "lakecolor": "white",
           "landcolor": "#E5ECF6",
           "showlakes": true,
           "showland": true,
           "subunitcolor": "white"
          },
          "hoverlabel": {
           "align": "left"
          },
          "hovermode": "closest",
          "mapbox": {
           "style": "light"
          },
          "paper_bgcolor": "white",
          "plot_bgcolor": "#E5ECF6",
          "polar": {
           "angularaxis": {
            "gridcolor": "white",
            "linecolor": "white",
            "ticks": ""
           },
           "bgcolor": "#E5ECF6",
           "radialaxis": {
            "gridcolor": "white",
            "linecolor": "white",
            "ticks": ""
           }
          },
          "scene": {
           "xaxis": {
            "backgroundcolor": "#E5ECF6",
            "gridcolor": "white",
            "gridwidth": 2,
            "linecolor": "white",
            "showbackground": true,
            "ticks": "",
            "zerolinecolor": "white"
           },
           "yaxis": {
            "backgroundcolor": "#E5ECF6",
            "gridcolor": "white",
            "gridwidth": 2,
            "linecolor": "white",
            "showbackground": true,
            "ticks": "",
            "zerolinecolor": "white"
           },
           "zaxis": {
            "backgroundcolor": "#E5ECF6",
            "gridcolor": "white",
            "gridwidth": 2,
            "linecolor": "white",
            "showbackground": true,
            "ticks": "",
            "zerolinecolor": "white"
           }
          },
          "shapedefaults": {
           "line": {
            "color": "#2a3f5f"
           }
          },
          "ternary": {
           "aaxis": {
            "gridcolor": "white",
            "linecolor": "white",
            "ticks": ""
           },
           "baxis": {
            "gridcolor": "white",
            "linecolor": "white",
            "ticks": ""
           },
           "bgcolor": "#E5ECF6",
           "caxis": {
            "gridcolor": "white",
            "linecolor": "white",
            "ticks": ""
           }
          },
          "title": {
           "x": 0.05
          },
          "xaxis": {
           "automargin": true,
           "gridcolor": "white",
           "linecolor": "white",
           "ticks": "",
           "title": {
            "standoff": 15
           },
           "zerolinecolor": "white",
           "zerolinewidth": 2
          },
          "yaxis": {
           "automargin": true,
           "gridcolor": "white",
           "linecolor": "white",
           "ticks": "",
           "title": {
            "standoff": 15
           },
           "zerolinecolor": "white",
           "zerolinewidth": 2
          }
         }
        },
        "title": {
         "text": "TPL sum at Station 51"
        },
        "width": 800,
        "xaxis": {
         "anchor": "y",
         "domain": [
          0,
          1
         ],
         "tickangle": -45,
         "title": {
          "text": "Date and Time"
         }
        },
        "yaxis": {
         "anchor": "x",
         "domain": [
          0,
          1
         ],
         "title": {
          "text": "TPL"
         }
        }
       }
      }
     },
     "metadata": {},
     "output_type": "display_data"
    }
   ],
   "source": [
    "# Filter data based on TPL and p_ident thresholds\n",
    "filtered_data = data_51[(data_51['p_ident'] >= 0.95)]\n",
    "\n",
    "# Group by taxonomic level and sample, then sum TPL\n",
    "grouped_df = filtered_data.groupby(['Genus_UniEuk', 'datetime'])['TPL'].sum().reset_index()\n",
    "\n",
    "grouped_df.head()\n",
    "# Normalize TPL sums to get relative expression per hour\n",
    "total_TPL_per_hour = grouped_df.groupby('datetime')['TPL'].transform('sum')\n",
    "grouped_df['rel_expression_per_hour'] = grouped_df['TPL'] / total_TPL_per_hour\n",
    "\n",
    "# Combine low-abundant groups into a single 'Rare' category\n",
    "threshold = 0.05\n",
    "grouped_df.loc[grouped_df['rel_expression_per_hour'] <= threshold, 'Genus_UniEuk'] = 'Rare'\n",
    "\n",
    "\n",
    "# Remove categories with no expression\n",
    "grouped_df = grouped_df[grouped_df['rel_expression_per_hour'] > 0]\n",
    "\n",
    "# Group once more to combine Rares\n",
    "grouped_df = grouped_df.groupby(['Genus_UniEuk', 'datetime'])['TPL'].sum().reset_index()\n",
    "\n",
    "# Plot\n",
    "fig = px.bar(grouped_df, \n",
    "            x='datetime', \n",
    "            y='TPL', \n",
    "            color='Genus_UniEuk',\n",
    "            title='TPL sum at Station 51',\n",
    "            category_orders={\"Genus_UniEuk\": ['Arthropoda', 'Acantharea', 'Ctenophora', 'Diatomeae', 'Dinophyceae', \n",
    "                                                    'Florideophyceae','Odontella', 'Phaeodarea', 'Prymnesiophyceae',\n",
    "                                                    'Spirotrichea', 'Vertebrata', 'Rare',]},\n",
    "            color_discrete_map=color_discrete_map\n",
    "            )\n",
    "\n",
    "fig.update_layout(\n",
    "    width=800,\n",
    "    height=400,\n",
    "    xaxis_title='Date and Time',\n",
    "    yaxis_title='TPL',\n",
    "    xaxis_tickangle=-45,\n",
    "    legend_title='Taxonomic Group'\n",
    ")\n",
    "\n",
    "# Save the figure\n",
    "filename_base = \"../figures/metatranscriptomics/51_TPL_per_hour_genus\"\n",
    "fig.write_image(filename_base + \".png\", scale=1)\n",
    "fig.write_image(filename_base + \".svg\", scale=1)\n",
    "\n",
    "fig.show()"
   ]
  },
  {
   "cell_type": "markdown",
   "metadata": {},
   "source": [
    "## Species Binning\n",
    "Here, I want to extract the transcriptome of Phaeocystis to be used in subsequent analyses."
   ]
  },
  {
   "cell_type": "code",
   "execution_count": 9,
   "metadata": {},
   "outputs": [
    {
     "name": "stdout",
     "output_type": "stream",
     "text": [
      "Genus_UniEuk\n",
      "Noctiluca      41201\n",
      "Phaeocystis    22095\n",
      "Hemistasia      1660\n",
      "Acartia         1149\n",
      "Eurytemora       819\n",
      "Name: count, dtype: int64\n",
      "Noctiluca: 41201 transcripts - Saved\n",
      "Phaeocystis: 22095 transcripts - Saved\n",
      "Hemistasia: 1660 transcripts - Saved\n",
      "Acartia: 1149 transcripts - Saved\n",
      "Eurytemora: 819 transcripts - Saved\n",
      "Files have been saved for the top 5 genus with the most transcripts.\n"
     ]
    }
   ],
   "source": [
    "# Aggregate the number of transcripts per species\n",
    "transcript_count = eukprot_annotation_130[eukprot_annotation_130['p_ident'] >= 0.95]['Genus_UniEuk'].value_counts()\n",
    "# Print the first 5 entries\n",
    "print(transcript_count.head())\n",
    "\n",
    "# Get the top 5 genera with the most transcripts\n",
    "top_genera = transcript_count.head(5)\n",
    "\n",
    "# Filter the eukprot_annotation_130 set of annotated transcripts for each of the top genera and save to separate files\n",
    "for genus in top_genera.index:\n",
    "    genus_eukprot_annotation_130 = eukprot_annotation_130[eukprot_annotation_130['Genus_UniEuk'] == genus]\n",
    "    filename = f\"{genus}_transcriptome_bin.csv\"\n",
    "    genus_eukprot_annotation_130.to_csv(os.path.join('../data/annotation/taxonomy_eukprot/130/genus_bins/', filename), index=False)\n",
    "    print(f\"{genus}: {top_genera[genus]} transcripts - Saved\")\n",
    "\n",
    "print(f\"Files have been saved for the top {len(top_genera)} genus with the most transcripts.\")"
   ]
  },
  {
   "cell_type": "code",
   "execution_count": 12,
   "metadata": {},
   "outputs": [
    {
     "name": "stdout",
     "output_type": "stream",
     "text": [
      "Genus_UniEuk\n",
      "Noctiluca      11549\n",
      "Phaeocystis     3314\n",
      "Homo            3057\n",
      "Calanus         2284\n",
      "Acartia         2082\n",
      "Name: count, dtype: int64\n",
      "Noctiluca: 11549 transcripts - Saved\n",
      "Phaeocystis: 3314 transcripts - Saved\n",
      "Homo: 3057 transcripts - Saved\n",
      "Calanus: 2284 transcripts - Saved\n",
      "Acartia: 2082 transcripts - Saved\n",
      "Files have been saved for the top 5 genus with the most transcripts.\n"
     ]
    }
   ],
   "source": [
    "# Aggregate the number of transcripts per species\n",
    "transcript_count = eukprot_annotation_51[eukprot_annotation_51['p_ident'] >= 0.95]['Genus_UniEuk'].value_counts()\n",
    "# Print the first 5 entries\n",
    "print(transcript_count.head())\n",
    "\n",
    "# Get the top 5 genera with the most transcripts\n",
    "top_genera = transcript_count.head(5)\n",
    "\n",
    "# Filter the eukprot_annotation_51 set of annotated transcripts for each of the top genera and save to separate files\n",
    "for genus in top_genera.index:\n",
    "    genus_eukprot_annotation_51 = eukprot_annotation_51[eukprot_annotation_51['Genus_UniEuk'] == genus]\n",
    "    filename = f\"{genus}_transcriptome_bin.csv\"\n",
    "    genus_eukprot_annotation_51.to_csv(os.path.join('../data/annotation/taxonomy_eukprot/51/genus_bins/', filename), index=False)\n",
    "    print(f\"{genus}: {top_genera[genus]} transcripts - Saved\")\n",
    "\n",
    "print(f\"Files have been saved for the top {len(top_genera)} genus with the most transcripts.\")"
   ]
  },
  {
   "cell_type": "markdown",
   "metadata": {},
   "source": [
    "## Phaeocystis\n",
    "For station 130, we'll extract the transcriptome bin of Phaeocystis. Once the sum of TPM values, once the TPL values."
   ]
  },
  {
   "cell_type": "code",
   "execution_count": 13,
   "metadata": {},
   "outputs": [],
   "source": [
    "# Define genera of interest\n",
    "genera = [\n",
    "    'Phaeocystis'\n",
    "]"
   ]
  },
  {
   "cell_type": "code",
   "execution_count": 14,
   "metadata": {},
   "outputs": [
    {
     "name": "stderr",
     "output_type": "stream",
     "text": [
      "Binning Genera:   0%|          | 0/1 [00:00<?, ?it/s]"
     ]
    },
    {
     "name": "stdout",
     "output_type": "stream",
     "text": [
      "Processing Phaeocystis\n",
      "Phaeocystis has 111973 transcripts\n"
     ]
    },
    {
     "name": "stderr",
     "output_type": "stream",
     "text": [
      "Binning Genera: 100%|██████████| 1/1 [00:14<00:00, 14.41s/it]\n"
     ]
    }
   ],
   "source": [
    "for genus in tqdm(genera, desc='Binning Genera'):\n",
    "    print(f'Processing {genus}')\n",
    "    genus_transcripts = pd.read_csv(f'../data/annotation/taxonomy_eukprot/130/genus_bins/{genus}_transcriptome_bin.csv', usecols=['query_id', 'p_ident'])\n",
    "    # Only retain transcripts with a p_ident of 0.8 or higher\n",
    "    genus_transcripts = genus_transcripts[genus_transcripts['p_ident'] >= 0.8]\n",
    "    \n",
    "    # Extract transcript counts that also belong to the genus of interest\n",
    "    genus_data = tpm_130[tpm_130['transcript_id'].isin(genus_transcripts['query_id'])]\n",
    "    \n",
    "    # Print the amount of transcripts\n",
    "    print(f'{genus} has {len(genus_data['transcript_id'].unique())} transcripts')\n",
    "    # Create the matrix\n",
    "    genus_data = genus_data.reset_index().pivot(index='transcript_id', columns='sample')['TPM']\n",
    "\n",
    "    # Save the data\n",
    "    genus_data.to_csv(f'../data/annotation/taxonomy_eukprot/130/genus_bins/{genus}_transcript_expression_sum.csv')"
   ]
  },
  {
   "cell_type": "code",
   "execution_count": 18,
   "metadata": {},
   "outputs": [],
   "source": [
    "phaeocystis_bin = data_130[data_130['Name_to_Use'] == 'Phaeocystis globosa']\n",
    "# Remove NaN values\n",
    "phaeocystis_bin = phaeocystis_bin.dropna()\n",
    "phaeocystis_bin = phaeocystis_bin[['sample', 'TPM']].groupby('sample').sum().reset_index()\n",
    "\n",
    "# Export the data\n",
    "phaeocystis_bin.to_csv('../data/analysis/phaeocystis_bin_tpm.csv', index=False)\n",
    "\n",
    "# Use TPM sums to calculate Transcripts per Liter\n",
    "ERCC_normalisation = pd.read_csv('../data/ERCC92/ERCC_normalisation.csv')\n",
    "\n",
    "# Merge ERCC normalisation data with the TPM sums\n",
    "phaeocystis_bin = phaeocystis_bin.merge(ERCC_normalisation, left_on='sample', right_on='sample_name', how='left')\n",
    "\n",
    "# Add a column for Transcripts per Liter\n",
    "phaeocystis_bin['TPL'] = phaeocystis_bin['TPM'] * phaeocystis_bin['ERCC_norm_factor']\n",
    "\n",
    "# Remove the ERCC normalisation factor\n",
    "phaeocystis_bin.drop(columns='ERCC_norm_factor', inplace=True)\n",
    "\n",
    "# Export the data\n",
    "phaeocystis_bin[['sample', 'TPL']].to_csv('../data/analysis/phaeocystis_bin_tpl.csv', index=False)"
   ]
  },
  {
   "cell_type": "markdown",
   "metadata": {},
   "source": [
    "For the RCM analysis, we need a dataframe which is KEGG KO IDs x samples containing summed count values.\n",
    "Let's create this dataframe."
   ]
  },
  {
   "cell_type": "code",
   "execution_count": 19,
   "metadata": {},
   "outputs": [
    {
     "data": {
      "text/html": [
       "<div>\n",
       "<style scoped>\n",
       "    .dataframe tbody tr th:only-of-type {\n",
       "        vertical-align: middle;\n",
       "    }\n",
       "\n",
       "    .dataframe tbody tr th {\n",
       "        vertical-align: top;\n",
       "    }\n",
       "\n",
       "    .dataframe thead th {\n",
       "        text-align: right;\n",
       "    }\n",
       "</style>\n",
       "<table border=\"1\" class=\"dataframe\">\n",
       "  <thead>\n",
       "    <tr style=\"text-align: right;\">\n",
       "      <th></th>\n",
       "      <th>query_id</th>\n",
       "      <th>p_ident</th>\n",
       "    </tr>\n",
       "  </thead>\n",
       "  <tbody>\n",
       "    <tr>\n",
       "      <th>0</th>\n",
       "      <td>c_000000852232</td>\n",
       "      <td>0.992</td>\n",
       "    </tr>\n",
       "    <tr>\n",
       "      <th>1</th>\n",
       "      <td>c_000000852269</td>\n",
       "      <td>0.985</td>\n",
       "    </tr>\n",
       "    <tr>\n",
       "      <th>4</th>\n",
       "      <td>c_000001418346</td>\n",
       "      <td>0.821</td>\n",
       "    </tr>\n",
       "    <tr>\n",
       "      <th>6</th>\n",
       "      <td>c_000002247011</td>\n",
       "      <td>0.916</td>\n",
       "    </tr>\n",
       "    <tr>\n",
       "      <th>8</th>\n",
       "      <td>c_000002692290</td>\n",
       "      <td>1.000</td>\n",
       "    </tr>\n",
       "  </tbody>\n",
       "</table>\n",
       "</div>"
      ],
      "text/plain": [
       "         query_id  p_ident\n",
       "0  c_000000852232    0.992\n",
       "1  c_000000852269    0.985\n",
       "4  c_000001418346    0.821\n",
       "6  c_000002247011    0.916\n",
       "8  c_000002692290    1.000"
      ]
     },
     "execution_count": 19,
     "metadata": {},
     "output_type": "execute_result"
    }
   ],
   "source": [
    "genus_transcripts.head()"
   ]
  },
  {
   "cell_type": "code",
   "execution_count": 20,
   "metadata": {},
   "outputs": [
    {
     "data": {
      "text/html": [
       "<div>\n",
       "<style scoped>\n",
       "    .dataframe tbody tr th:only-of-type {\n",
       "        vertical-align: middle;\n",
       "    }\n",
       "\n",
       "    .dataframe tbody tr th {\n",
       "        vertical-align: top;\n",
       "    }\n",
       "\n",
       "    .dataframe thead th {\n",
       "        text-align: right;\n",
       "    }\n",
       "</style>\n",
       "<table border=\"1\" class=\"dataframe\">\n",
       "  <thead>\n",
       "    <tr style=\"text-align: right;\">\n",
       "      <th></th>\n",
       "      <th>sample</th>\n",
       "      <th>TPM</th>\n",
       "      <th>sample_name</th>\n",
       "      <th>TPL</th>\n",
       "    </tr>\n",
       "  </thead>\n",
       "  <tbody>\n",
       "    <tr>\n",
       "      <th>0</th>\n",
       "      <td>130_1</td>\n",
       "      <td>113736.367188</td>\n",
       "      <td>130_1</td>\n",
       "      <td>1.602785e+07</td>\n",
       "    </tr>\n",
       "    <tr>\n",
       "      <th>1</th>\n",
       "      <td>130_10</td>\n",
       "      <td>120183.765625</td>\n",
       "      <td>130_10</td>\n",
       "      <td>2.730476e+07</td>\n",
       "    </tr>\n",
       "    <tr>\n",
       "      <th>2</th>\n",
       "      <td>130_11</td>\n",
       "      <td>119309.898438</td>\n",
       "      <td>130_11</td>\n",
       "      <td>2.420054e+07</td>\n",
       "    </tr>\n",
       "    <tr>\n",
       "      <th>3</th>\n",
       "      <td>130_12</td>\n",
       "      <td>195464.265625</td>\n",
       "      <td>130_12</td>\n",
       "      <td>5.668171e+07</td>\n",
       "    </tr>\n",
       "    <tr>\n",
       "      <th>4</th>\n",
       "      <td>130_13</td>\n",
       "      <td>100914.476562</td>\n",
       "      <td>130_13</td>\n",
       "      <td>3.662322e+07</td>\n",
       "    </tr>\n",
       "  </tbody>\n",
       "</table>\n",
       "</div>"
      ],
      "text/plain": [
       "   sample            TPM sample_name           TPL\n",
       "0   130_1  113736.367188       130_1  1.602785e+07\n",
       "1  130_10  120183.765625      130_10  2.730476e+07\n",
       "2  130_11  119309.898438      130_11  2.420054e+07\n",
       "3  130_12  195464.265625      130_12  5.668171e+07\n",
       "4  130_13  100914.476562      130_13  3.662322e+07"
      ]
     },
     "execution_count": 20,
     "metadata": {},
     "output_type": "execute_result"
    }
   ],
   "source": [
    "phaeocystis_bin.head()"
   ]
  },
  {
   "cell_type": "code",
   "execution_count": 22,
   "metadata": {},
   "outputs": [
    {
     "data": {
      "text/html": [
       "<div>\n",
       "<style scoped>\n",
       "    .dataframe tbody tr th:only-of-type {\n",
       "        vertical-align: middle;\n",
       "    }\n",
       "\n",
       "    .dataframe tbody tr th {\n",
       "        vertical-align: top;\n",
       "    }\n",
       "\n",
       "    .dataframe thead th {\n",
       "        text-align: right;\n",
       "    }\n",
       "</style>\n",
       "<table border=\"1\" class=\"dataframe\">\n",
       "  <thead>\n",
       "    <tr style=\"text-align: right;\">\n",
       "      <th></th>\n",
       "      <th>#query</th>\n",
       "      <th>seed_ortholog</th>\n",
       "      <th>evalue</th>\n",
       "      <th>score</th>\n",
       "      <th>eggNOG_OGs</th>\n",
       "      <th>max_annot_lvl</th>\n",
       "      <th>COG_category</th>\n",
       "      <th>Description</th>\n",
       "      <th>Preferred_name</th>\n",
       "      <th>GOs</th>\n",
       "      <th>...</th>\n",
       "      <th>KEGG_ko</th>\n",
       "      <th>KEGG_Pathway</th>\n",
       "      <th>KEGG_Module</th>\n",
       "      <th>KEGG_Reaction</th>\n",
       "      <th>KEGG_rclass</th>\n",
       "      <th>BRITE</th>\n",
       "      <th>KEGG_TC</th>\n",
       "      <th>CAZy</th>\n",
       "      <th>BiGG_Reaction</th>\n",
       "      <th>PFAMs</th>\n",
       "    </tr>\n",
       "  </thead>\n",
       "  <tbody>\n",
       "    <tr>\n",
       "      <th>0</th>\n",
       "      <td>NODE_43315_length_315_cov_15.627660_g42640_i0.p2</td>\n",
       "      <td>3218.PP1S18_265V6.1</td>\n",
       "      <td>5.151000e-43</td>\n",
       "      <td>158.0</td>\n",
       "      <td>COG1643@1|root,KOG0925@2759|Eukaryota,37KVD@33...</td>\n",
       "      <td>35493|Streptophyta</td>\n",
       "      <td>A</td>\n",
       "      <td>Pre-mRNA-splicing factor ATP-dependent RNA hel...</td>\n",
       "      <td>-</td>\n",
       "      <td>GO:0003674,GO:0003676,GO:0003723,GO:0003724,GO...</td>\n",
       "      <td>...</td>\n",
       "      <td>ko:K12820</td>\n",
       "      <td>ko03040,map03040</td>\n",
       "      <td>-</td>\n",
       "      <td>-</td>\n",
       "      <td>-</td>\n",
       "      <td>ko00000,ko00001,ko01000,ko03009,ko03041</td>\n",
       "      <td>-</td>\n",
       "      <td>-</td>\n",
       "      <td>-</td>\n",
       "      <td>AAA_22,DEAD,HA2,Helicase_C,OB_NTP_bind</td>\n",
       "    </tr>\n",
       "    <tr>\n",
       "      <th>1</th>\n",
       "      <td>NODE_43321_length_312_cov_4.410811_g42892_i0.p1</td>\n",
       "      <td>7213.XP_004521134.1</td>\n",
       "      <td>7.741000e-08</td>\n",
       "      <td>57.0</td>\n",
       "      <td>COG0526@1|root,KOG0191@2759|Eukaryota,39X8I@33...</td>\n",
       "      <td>33208|Metazoa</td>\n",
       "      <td>O</td>\n",
       "      <td>It is involved in the biological process descr...</td>\n",
       "      <td>-</td>\n",
       "      <td>-</td>\n",
       "      <td>...</td>\n",
       "      <td>-</td>\n",
       "      <td>-</td>\n",
       "      <td>-</td>\n",
       "      <td>-</td>\n",
       "      <td>-</td>\n",
       "      <td>-</td>\n",
       "      <td>-</td>\n",
       "      <td>-</td>\n",
       "      <td>-</td>\n",
       "      <td>Thioredoxin,Thioredoxin_6</td>\n",
       "    </tr>\n",
       "    <tr>\n",
       "      <th>2</th>\n",
       "      <td>NODE_43329_length_505_cov_1.023810_g42339_i0.p1</td>\n",
       "      <td>2903.EOD39159</td>\n",
       "      <td>2.059000e-46</td>\n",
       "      <td>172.0</td>\n",
       "      <td>2CNC4@1|root,2QV4U@2759|Eukaryota</td>\n",
       "      <td>2759|Eukaryota</td>\n",
       "      <td>S</td>\n",
       "      <td>Phytanoyl-CoA dioxygenase (PhyH)</td>\n",
       "      <td>-</td>\n",
       "      <td>-</td>\n",
       "      <td>...</td>\n",
       "      <td>-</td>\n",
       "      <td>-</td>\n",
       "      <td>-</td>\n",
       "      <td>-</td>\n",
       "      <td>-</td>\n",
       "      <td>-</td>\n",
       "      <td>-</td>\n",
       "      <td>-</td>\n",
       "      <td>-</td>\n",
       "      <td>PhyH</td>\n",
       "    </tr>\n",
       "    <tr>\n",
       "      <th>3</th>\n",
       "      <td>NODE_43331_length_505_cov_1.015873_g42341_i0.p1</td>\n",
       "      <td>157072.XP_008880268.1</td>\n",
       "      <td>9.688000e-49</td>\n",
       "      <td>179.0</td>\n",
       "      <td>COG0325@1|root,KOG3157@2759|Eukaryota</td>\n",
       "      <td>2759|Eukaryota</td>\n",
       "      <td>F</td>\n",
       "      <td>pyridoxal phosphate binding</td>\n",
       "      <td>-</td>\n",
       "      <td>-</td>\n",
       "      <td>...</td>\n",
       "      <td>ko:K06997</td>\n",
       "      <td>-</td>\n",
       "      <td>-</td>\n",
       "      <td>-</td>\n",
       "      <td>-</td>\n",
       "      <td>ko00000</td>\n",
       "      <td>-</td>\n",
       "      <td>-</td>\n",
       "      <td>-</td>\n",
       "      <td>Ala_racemase_N</td>\n",
       "    </tr>\n",
       "    <tr>\n",
       "      <th>4</th>\n",
       "      <td>NODE_43338_length_415_cov_5.663194_g42112_i0.p1</td>\n",
       "      <td>7897.ENSLACP00000017934</td>\n",
       "      <td>2.876000e-04</td>\n",
       "      <td>48.0</td>\n",
       "      <td>KOG3714@1|root,KOG3714@2759|Eukaryota,38H9H@33...</td>\n",
       "      <td>33208|Metazoa</td>\n",
       "      <td>O</td>\n",
       "      <td>metalloendopeptidase activity</td>\n",
       "      <td>BMP1</td>\n",
       "      <td>GO:0000003,GO:0000578,GO:0000902,GO:0000904,GO...</td>\n",
       "      <td>...</td>\n",
       "      <td>ko:K05502,ko:K08076,ko:K09608,ko:K13045,ko:K13...</td>\n",
       "      <td>-</td>\n",
       "      <td>-</td>\n",
       "      <td>-</td>\n",
       "      <td>-</td>\n",
       "      <td>ko00000,ko01000,ko01002,ko04052</td>\n",
       "      <td>-</td>\n",
       "      <td>-</td>\n",
       "      <td>-</td>\n",
       "      <td>Astacin,CUB,EGF_CA,FXa_inhibition</td>\n",
       "    </tr>\n",
       "  </tbody>\n",
       "</table>\n",
       "<p>5 rows × 21 columns</p>\n",
       "</div>"
      ],
      "text/plain": [
       "                                             #query            seed_ortholog  \\\n",
       "0  NODE_43315_length_315_cov_15.627660_g42640_i0.p2      3218.PP1S18_265V6.1   \n",
       "1   NODE_43321_length_312_cov_4.410811_g42892_i0.p1      7213.XP_004521134.1   \n",
       "2   NODE_43329_length_505_cov_1.023810_g42339_i0.p1            2903.EOD39159   \n",
       "3   NODE_43331_length_505_cov_1.015873_g42341_i0.p1    157072.XP_008880268.1   \n",
       "4   NODE_43338_length_415_cov_5.663194_g42112_i0.p1  7897.ENSLACP00000017934   \n",
       "\n",
       "         evalue  score                                         eggNOG_OGs  \\\n",
       "0  5.151000e-43  158.0  COG1643@1|root,KOG0925@2759|Eukaryota,37KVD@33...   \n",
       "1  7.741000e-08   57.0  COG0526@1|root,KOG0191@2759|Eukaryota,39X8I@33...   \n",
       "2  2.059000e-46  172.0                  2CNC4@1|root,2QV4U@2759|Eukaryota   \n",
       "3  9.688000e-49  179.0              COG0325@1|root,KOG3157@2759|Eukaryota   \n",
       "4  2.876000e-04   48.0  KOG3714@1|root,KOG3714@2759|Eukaryota,38H9H@33...   \n",
       "\n",
       "        max_annot_lvl COG_category  \\\n",
       "0  35493|Streptophyta            A   \n",
       "1       33208|Metazoa            O   \n",
       "2      2759|Eukaryota            S   \n",
       "3      2759|Eukaryota            F   \n",
       "4       33208|Metazoa            O   \n",
       "\n",
       "                                         Description Preferred_name  \\\n",
       "0  Pre-mRNA-splicing factor ATP-dependent RNA hel...              -   \n",
       "1  It is involved in the biological process descr...              -   \n",
       "2                   Phytanoyl-CoA dioxygenase (PhyH)              -   \n",
       "3                        pyridoxal phosphate binding              -   \n",
       "4                      metalloendopeptidase activity           BMP1   \n",
       "\n",
       "                                                 GOs  ...  \\\n",
       "0  GO:0003674,GO:0003676,GO:0003723,GO:0003724,GO...  ...   \n",
       "1                                                  -  ...   \n",
       "2                                                  -  ...   \n",
       "3                                                  -  ...   \n",
       "4  GO:0000003,GO:0000578,GO:0000902,GO:0000904,GO...  ...   \n",
       "\n",
       "                                             KEGG_ko      KEGG_Pathway  \\\n",
       "0                                          ko:K12820  ko03040,map03040   \n",
       "1                                                  -                 -   \n",
       "2                                                  -                 -   \n",
       "3                                          ko:K06997                 -   \n",
       "4  ko:K05502,ko:K08076,ko:K09608,ko:K13045,ko:K13...                 -   \n",
       "\n",
       "  KEGG_Module KEGG_Reaction KEGG_rclass  \\\n",
       "0           -             -           -   \n",
       "1           -             -           -   \n",
       "2           -             -           -   \n",
       "3           -             -           -   \n",
       "4           -             -           -   \n",
       "\n",
       "                                     BRITE KEGG_TC CAZy BiGG_Reaction  \\\n",
       "0  ko00000,ko00001,ko01000,ko03009,ko03041       -    -             -   \n",
       "1                                        -       -    -             -   \n",
       "2                                        -       -    -             -   \n",
       "3                                  ko00000       -    -             -   \n",
       "4          ko00000,ko01000,ko01002,ko04052       -    -             -   \n",
       "\n",
       "                                    PFAMs  \n",
       "0  AAA_22,DEAD,HA2,Helicase_C,OB_NTP_bind  \n",
       "1               Thioredoxin,Thioredoxin_6  \n",
       "2                                    PhyH  \n",
       "3                          Ala_racemase_N  \n",
       "4       Astacin,CUB,EGF_CA,FXa_inhibition  \n",
       "\n",
       "[5 rows x 21 columns]"
      ]
     },
     "execution_count": 22,
     "metadata": {},
     "output_type": "execute_result"
    }
   ],
   "source": [
    "# Read in the functional annotation data\n",
    "functional_annotation = pd.read_table('../data/annotation/functional/130/functional_annotation.emapper.annotations')\n",
    "\n",
    "functional_annotation.head()"
   ]
  },
  {
   "cell_type": "code",
   "execution_count": null,
   "metadata": {},
   "outputs": [],
   "source": []
  }
 ],
 "metadata": {
  "kernelspec": {
   "display_name": "Python 3",
   "language": "python",
   "name": "python3"
  },
  "language_info": {
   "codemirror_mode": {
    "name": "ipython",
    "version": 3
   },
   "file_extension": ".py",
   "mimetype": "text/x-python",
   "name": "python",
   "nbconvert_exporter": "python",
   "pygments_lexer": "ipython3",
   "version": "3.12.3"
  }
 },
 "nbformat": 4,
 "nbformat_minor": 2
}
