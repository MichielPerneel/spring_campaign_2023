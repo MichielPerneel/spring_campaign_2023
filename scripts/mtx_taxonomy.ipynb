{
 "cells": [
  {
   "cell_type": "code",
   "execution_count": 1,
   "metadata": {},
   "outputs": [
    {
     "name": "stdout",
     "output_type": "stream",
     "text": [
      "Intel MKL WARNING: Support of Intel(R) Streaming SIMD Extensions 4.2 (Intel(R) SSE4.2) enabled only processors has been deprecated. Intel oneAPI Math Kernel Library 2025.0 will require Intel(R) Advanced Vector Extensions (Intel(R) AVX) instructions.\n",
      "Intel MKL WARNING: Support of Intel(R) Streaming SIMD Extensions 4.2 (Intel(R) SSE4.2) enabled only processors has been deprecated. Intel oneAPI Math Kernel Library 2025.0 will require Intel(R) Advanced Vector Extensions (Intel(R) AVX) instructions.\n"
     ]
    }
   ],
   "source": [
    "import pandas as pd"
   ]
  },
  {
   "cell_type": "markdown",
   "metadata": {},
   "source": [
    "## Data Preparation"
   ]
  },
  {
   "cell_type": "code",
   "execution_count": 5,
   "metadata": {},
   "outputs": [
    {
     "name": "stdout",
     "output_type": "stream",
     "text": [
      "The eukprot annotation file contains 768760 rows\n",
      "The merged annotation and taxonomy file contains 768760 rows\n",
      "The eukprot annotation file contains 239749 rows\n",
      "The merged annotation and taxonomy file contains 239749 rows\n"
     ]
    }
   ],
   "source": [
    "# Load eukprot taxonomy with only necessary columns\n",
    "taxonomy_cols = ['EukProt_ID', 'Name_to_Use', 'Taxogroup2_UniEuk', 'Genus_UniEuk']  # Adjust columns as necessary\n",
    "eukprot_taxonomy = pd.read_table('../data/annotation/taxonomy_eukprot/EukProt_included_data_sets.v03.2021_11_22.txt', usecols=taxonomy_cols)\n",
    "eukprot_taxonomy['Name_to_Use'] = eukprot_taxonomy['Name_to_Use'].str.replace('_', ' ')\n",
    "\n",
    "# Load eukprot annotations for station 130\n",
    "eukprot_annotation_cols = ['query_id', 'target_id', 'p_ident', 'alnlen', 'mismatch',\n",
    "                           'gapopen', 'qstart', 'qend', 'tstart', 'tend', 'evalue', 'bits']\n",
    "eukprot_annotation_130 = pd.read_table('../data/annotation/taxonomy_eukprot/130/eukprot_annotation.m8',\n",
    "                                   header=None, names=eukprot_annotation_cols)\n",
    "\n",
    "# Fix transcript names efficiently\n",
    "eukprot_annotation_130['query_id'] = eukprot_annotation_130['query_id'].str.split(\".\", n=1, expand=True)[0]\n",
    "eukprot_annotation_130['target_id'] = eukprot_annotation_130['target_id'].str.split(\"_\", n=1, expand=True)[0]\n",
    "print(f'The eukprot annotation file contains {len(eukprot_annotation_130)} rows')\n",
    "\n",
    "# Merge annotation and taxonomy\n",
    "eukprot_annotation_130 = eukprot_annotation_130.merge(eukprot_taxonomy, left_on='target_id', right_on='EukProt_ID', how='left')\n",
    "print(f'The merged annotation and taxonomy file contains {len(eukprot_annotation_130)} rows')\n",
    "\n",
    "# Load eukprot annotations for station 51\n",
    "eukprot_annotation_51 = pd.read_table('../data/annotation/taxonomy_eukprot/51/eukprot_annotation.m8',\n",
    "                                   header=None, names=eukprot_annotation_cols)\n",
    "\n",
    "# Fix transcript names efficiently\n",
    "eukprot_annotation_51['query_id'] = eukprot_annotation_51['query_id'].str.split(\".\", n=1, expand=True)[0]\n",
    "eukprot_annotation_51['target_id'] = eukprot_annotation_51['target_id'].str.split(\"_\", n=1, expand=True)[0]\n",
    "print(f'The eukprot annotation file contains {len(eukprot_annotation_51)} rows')\n",
    "\n",
    "# Merge annotation and taxonomy\n",
    "eukprot_annotation_51 = eukprot_annotation_51.merge(eukprot_taxonomy, left_on='target_id', right_on='EukProt_ID', how='left')\n",
    "print(f'The merged annotation and taxonomy file contains {len(eukprot_annotation_51)} rows')"
   ]
  },
  {
   "cell_type": "code",
   "execution_count": null,
   "metadata": {},
   "outputs": [],
   "source": [
    "# Load tpm data\n",
    "tpm = pd.read_csv('../../data/quantification/tpm.csv', engine='pyarrow')\n",
    "tpm.rename(columns={'target_id': 'transcript_id'}, inplace=True)\n",
    "tpm.set_index('transcript_id', inplace=True)\n",
    "\n",
    "# Optional: Remove rows with row sums < 20\n",
    "tpm = tpm[tpm.sum(axis=1) >= 20].reset_index()\n",
    "tpm = tpm.melt(id_vars=['transcript_id'], var_name='sample', value_name='TPM')\n",
    "tpm['sample'] = tpm['sample'].astype('category')\n",
    "tpm['TPM'] = tpm['TPM'].astype('float32')"
   ]
  }
 ],
 "metadata": {
  "kernelspec": {
   "display_name": "Python 3",
   "language": "python",
   "name": "python3"
  },
  "language_info": {
   "codemirror_mode": {
    "name": "ipython",
    "version": 3
   },
   "file_extension": ".py",
   "mimetype": "text/x-python",
   "name": "python",
   "nbconvert_exporter": "python",
   "pygments_lexer": "ipython3",
   "version": "3.12.1"
  }
 },
 "nbformat": 4,
 "nbformat_minor": 2
}
