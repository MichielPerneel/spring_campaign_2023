{
 "cells": [
  {
   "cell_type": "code",
   "execution_count": 1,
   "metadata": {},
   "outputs": [],
   "source": [
    "import os\n",
    "import pandas as pd\n",
    "import plotly.express as px\n",
    "from tqdm import tqdm"
   ]
  },
  {
   "cell_type": "markdown",
   "metadata": {},
   "source": [
    "## Data Preparation"
   ]
  },
  {
   "cell_type": "code",
   "execution_count": 2,
   "metadata": {},
   "outputs": [
    {
     "name": "stdout",
     "output_type": "stream",
     "text": [
      "The merged annotation and taxonomy file for station 130 contains 1066978 rows\n",
      "The merged annotation and taxonomy file for station 51 contains 385769 rows\n"
     ]
    }
   ],
   "source": [
    "# Load eukprot taxonomy with only necessary columns\n",
    "taxonomy_cols = ['EukProt_ID', 'Name_to_Use', 'Taxogroup2_UniEuk', 'Genus_UniEuk']  # Adjust columns as necessary\n",
    "eukprot_taxonomy = pd.read_table('../data/annotation/taxonomy_eukprot/EukProt_included_data_sets.v03.2021_11_22.txt', usecols=taxonomy_cols)\n",
    "eukprot_taxonomy['Name_to_Use'] = eukprot_taxonomy['Name_to_Use'].str.replace('_', ' ')\n",
    "\n",
    "# Load eukprot annotations for station 130\n",
    "eukprot_annotation_cols = ['query_id', 'target_id', 'p_ident', 'alnlen', 'mismatch',\n",
    "                           'gapopen', 'qstart', 'qend', 'tstart', 'tend', 'evalue', 'bits']\n",
    "eukprot_annotation_130 = pd.read_table('../data/annotation/taxonomy_eukprot/130/eukprot_annotation.m8',\n",
    "                                   header=None, names=eukprot_annotation_cols)\n",
    "\n",
    "# Fix transcript names efficiently\n",
    "eukprot_annotation_130['query_id'] = eukprot_annotation_130['query_id'].str.split(\".\", n=1, expand=True)[0]\n",
    "eukprot_annotation_130['target_id'] = eukprot_annotation_130['target_id'].str.split(\"_\", n=1, expand=True)[0]\n",
    "\n",
    "# Merge annotation and taxonomy\n",
    "eukprot_annotation_130 = eukprot_annotation_130.merge(eukprot_taxonomy, left_on='target_id', right_on='EukProt_ID', how='left')\n",
    "# Drop rows with missing taxonomy\n",
    "eukprot_annotation_130 = eukprot_annotation_130.dropna()\n",
    "# Remove transcripts annotated as vertebrates (most are'Homo'), this occurs in different samples for the different sequencing sets and is most likely contamination\n",
    "eukprot_annotation_130 = eukprot_annotation_130[~eukprot_annotation_130['Taxogroup2_UniEuk'].isin(['Vertebrata'])]\n",
    "print(f'The merged annotation and taxonomy file for station 130 contains {len(eukprot_annotation_130)} rows')\n",
    "\n",
    "# Load eukprot annotations for station 51\n",
    "eukprot_annotation_51 = pd.read_table('../data/annotation/taxonomy_eukprot/51/eukprot_annotation.m8',\n",
    "                                   header=None, names=eukprot_annotation_cols)\n",
    "\n",
    "# Fix transcript names efficiently\n",
    "eukprot_annotation_51['query_id'] = eukprot_annotation_51['query_id'].str.split(\".\", n=1, expand=True)[0]\n",
    "eukprot_annotation_51['target_id'] = eukprot_annotation_51['target_id'].str.split(\"_\", n=1, expand=True)[0]\n",
    "\n",
    "# Merge annotation and taxonomy\n",
    "eukprot_annotation_51 = eukprot_annotation_51.merge(eukprot_taxonomy, left_on='target_id', right_on='EukProt_ID', how='left')\n",
    "# Drop rows with missing taxonomy\n",
    "eukprot_annotation_51 = eukprot_annotation_51.dropna()\n",
    "# Remove transcripts annotated as vertebrates (most are'Homo'), this occurs in different samples for the different sequencing sets and is most likely contamination\n",
    "eukprot_annotation_51 = eukprot_annotation_51[~eukprot_annotation_51['Taxogroup2_UniEuk'].isin(['Vertebrata'])]\n",
    "print(f'The merged annotation and taxonomy file for station 51 contains {len(eukprot_annotation_51)} rows')"
   ]
  },
  {
   "cell_type": "code",
   "execution_count": 3,
   "metadata": {},
   "outputs": [
    {
     "data": {
      "text/html": [
       "<div>\n",
       "<style scoped>\n",
       "    .dataframe tbody tr th:only-of-type {\n",
       "        vertical-align: middle;\n",
       "    }\n",
       "\n",
       "    .dataframe tbody tr th {\n",
       "        vertical-align: top;\n",
       "    }\n",
       "\n",
       "    .dataframe thead th {\n",
       "        text-align: right;\n",
       "    }\n",
       "</style>\n",
       "<table border=\"1\" class=\"dataframe\">\n",
       "  <thead>\n",
       "    <tr style=\"text-align: right;\">\n",
       "      <th></th>\n",
       "      <th>Station</th>\n",
       "      <th>StationPrefix</th>\n",
       "      <th>StationSuffix</th>\n",
       "      <th>Latitude</th>\n",
       "      <th>Longitude</th>\n",
       "      <th>Date</th>\n",
       "      <th>day_moment</th>\n",
       "      <th>day_length</th>\n",
       "      <th>Temperature</th>\n",
       "      <th>Salinity</th>\n",
       "      <th>...</th>\n",
       "      <th>Fluorescence</th>\n",
       "      <th>NH4</th>\n",
       "      <th>NO2</th>\n",
       "      <th>NO3</th>\n",
       "      <th>NOX</th>\n",
       "      <th>PO4</th>\n",
       "      <th>Si</th>\n",
       "      <th>TEP</th>\n",
       "      <th>sea_surface_height_above_sea_level</th>\n",
       "      <th>surface_baroclinic_sea_water_velocity</th>\n",
       "    </tr>\n",
       "  </thead>\n",
       "  <tbody>\n",
       "    <tr>\n",
       "      <th>0</th>\n",
       "      <td>51_1</td>\n",
       "      <td>51</td>\n",
       "      <td>1</td>\n",
       "      <td>51.531661</td>\n",
       "      <td>3.182804</td>\n",
       "      <td>2023-04-18 11:11:00</td>\n",
       "      <td>Day</td>\n",
       "      <td>14.033333</td>\n",
       "      <td>9.9259</td>\n",
       "      <td>32.513</td>\n",
       "      <td>...</td>\n",
       "      <td>2.001848</td>\n",
       "      <td>3.08</td>\n",
       "      <td>0.16</td>\n",
       "      <td>6.96</td>\n",
       "      <td>7.12</td>\n",
       "      <td>0.10</td>\n",
       "      <td>7.24</td>\n",
       "      <td>65.846667</td>\n",
       "      <td>1.817039</td>\n",
       "      <td>0.737313</td>\n",
       "    </tr>\n",
       "    <tr>\n",
       "      <th>1</th>\n",
       "      <td>51_2</td>\n",
       "      <td>51</td>\n",
       "      <td>2</td>\n",
       "      <td>51.533392</td>\n",
       "      <td>3.184085</td>\n",
       "      <td>2023-04-18 12:05:00</td>\n",
       "      <td>Day</td>\n",
       "      <td>14.033333</td>\n",
       "      <td>9.9105</td>\n",
       "      <td>32.683</td>\n",
       "      <td>...</td>\n",
       "      <td>NaN</td>\n",
       "      <td>3.45</td>\n",
       "      <td>0.15</td>\n",
       "      <td>6.19</td>\n",
       "      <td>6.34</td>\n",
       "      <td>0.14</td>\n",
       "      <td>7.06</td>\n",
       "      <td>167.438667</td>\n",
       "      <td>2.129479</td>\n",
       "      <td>0.933577</td>\n",
       "    </tr>\n",
       "    <tr>\n",
       "      <th>2</th>\n",
       "      <td>51_3</td>\n",
       "      <td>51</td>\n",
       "      <td>3</td>\n",
       "      <td>51.532763</td>\n",
       "      <td>3.185113</td>\n",
       "      <td>2023-04-18 13:08:00</td>\n",
       "      <td>Day</td>\n",
       "      <td>14.033333</td>\n",
       "      <td>9.9231</td>\n",
       "      <td>32.661</td>\n",
       "      <td>...</td>\n",
       "      <td>1.472718</td>\n",
       "      <td>3.53</td>\n",
       "      <td>0.15</td>\n",
       "      <td>6.13</td>\n",
       "      <td>6.28</td>\n",
       "      <td>0.12</td>\n",
       "      <td>7.13</td>\n",
       "      <td>210.709333</td>\n",
       "      <td>1.852063</td>\n",
       "      <td>0.844862</td>\n",
       "    </tr>\n",
       "    <tr>\n",
       "      <th>3</th>\n",
       "      <td>51_4</td>\n",
       "      <td>51</td>\n",
       "      <td>4</td>\n",
       "      <td>51.533244</td>\n",
       "      <td>3.184346</td>\n",
       "      <td>2023-04-18 14:05:00</td>\n",
       "      <td>Day</td>\n",
       "      <td>14.033333</td>\n",
       "      <td>9.9013</td>\n",
       "      <td>32.703</td>\n",
       "      <td>...</td>\n",
       "      <td>1.423711</td>\n",
       "      <td>NaN</td>\n",
       "      <td>NaN</td>\n",
       "      <td>NaN</td>\n",
       "      <td>NaN</td>\n",
       "      <td>NaN</td>\n",
       "      <td>NaN</td>\n",
       "      <td>255.861333</td>\n",
       "      <td>1.210772</td>\n",
       "      <td>0.645538</td>\n",
       "    </tr>\n",
       "    <tr>\n",
       "      <th>4</th>\n",
       "      <td>51_5</td>\n",
       "      <td>51</td>\n",
       "      <td>5</td>\n",
       "      <td>51.533104</td>\n",
       "      <td>3.183575</td>\n",
       "      <td>2023-04-18 15:07:00</td>\n",
       "      <td>Day</td>\n",
       "      <td>14.033333</td>\n",
       "      <td>9.9336</td>\n",
       "      <td>32.590</td>\n",
       "      <td>...</td>\n",
       "      <td>1.315579</td>\n",
       "      <td>4.18</td>\n",
       "      <td>0.15</td>\n",
       "      <td>6.54</td>\n",
       "      <td>6.69</td>\n",
       "      <td>0.15</td>\n",
       "      <td>7.53</td>\n",
       "      <td>223.878667</td>\n",
       "      <td>0.336479</td>\n",
       "      <td>0.489504</td>\n",
       "    </tr>\n",
       "  </tbody>\n",
       "</table>\n",
       "<p>5 rows × 23 columns</p>\n",
       "</div>"
      ],
      "text/plain": [
       "  Station  StationPrefix  StationSuffix   Latitude  Longitude  \\\n",
       "0    51_1             51              1  51.531661   3.182804   \n",
       "1    51_2             51              2  51.533392   3.184085   \n",
       "2    51_3             51              3  51.532763   3.185113   \n",
       "3    51_4             51              4  51.533244   3.184346   \n",
       "4    51_5             51              5  51.533104   3.183575   \n",
       "\n",
       "                 Date day_moment  day_length  Temperature  Salinity  ...  \\\n",
       "0 2023-04-18 11:11:00        Day   14.033333       9.9259    32.513  ...   \n",
       "1 2023-04-18 12:05:00        Day   14.033333       9.9105    32.683  ...   \n",
       "2 2023-04-18 13:08:00        Day   14.033333       9.9231    32.661  ...   \n",
       "3 2023-04-18 14:05:00        Day   14.033333       9.9013    32.703  ...   \n",
       "4 2023-04-18 15:07:00        Day   14.033333       9.9336    32.590  ...   \n",
       "\n",
       "   Fluorescence   NH4   NO2   NO3   NOX   PO4    Si         TEP  \\\n",
       "0      2.001848  3.08  0.16  6.96  7.12  0.10  7.24   65.846667   \n",
       "1           NaN  3.45  0.15  6.19  6.34  0.14  7.06  167.438667   \n",
       "2      1.472718  3.53  0.15  6.13  6.28  0.12  7.13  210.709333   \n",
       "3      1.423711   NaN   NaN   NaN   NaN   NaN   NaN  255.861333   \n",
       "4      1.315579  4.18  0.15  6.54  6.69  0.15  7.53  223.878667   \n",
       "\n",
       "   sea_surface_height_above_sea_level  surface_baroclinic_sea_water_velocity  \n",
       "0                            1.817039                               0.737313  \n",
       "1                            2.129479                               0.933577  \n",
       "2                            1.852063                               0.844862  \n",
       "3                            1.210772                               0.645538  \n",
       "4                            0.336479                               0.489504  \n",
       "\n",
       "[5 rows x 23 columns]"
      ]
     },
     "execution_count": 3,
     "metadata": {},
     "output_type": "execute_result"
    }
   ],
   "source": [
    "# Load sample metadata\n",
    "meta = pd.read_csv('../data/samples_env.csv')\n",
    "\n",
    "# Create a datetime column from the date and time columns\n",
    "meta['Date'] = pd.to_datetime(meta['Date'], format='%Y-%m-%d %H:%M:%S')\n",
    "\n",
    "meta.head()"
   ]
  },
  {
   "cell_type": "code",
   "execution_count": 4,
   "metadata": {},
   "outputs": [],
   "source": [
    "# Load tpm data\n",
    "tpm_130 = pd.read_csv('../data/quantification/130/130_tpm.csv')\n",
    "tpm_130.rename(columns={'target_id': 'transcript_id'}, inplace=True)\n",
    "tpm_130.set_index('transcript_id', inplace=True)\n",
    "\n",
    "# Optional: Remove rows with row sums < 1\n",
    "tpm_130 = tpm_130[tpm_130.sum(axis=1) >= 1].reset_index()\n",
    "tpm_130 = tpm_130.melt(id_vars=['transcript_id'], var_name='sample', value_name='TPM')\n",
    "tpm_130['sample'] = tpm_130['sample'].astype('category')\n",
    "tpm_130['TPM'] = tpm_130['TPM'].astype('float32')"
   ]
  },
  {
   "cell_type": "code",
   "execution_count": 5,
   "metadata": {},
   "outputs": [],
   "source": [
    "# Load tpm data\n",
    "tpm_51 = pd.read_csv('../data/quantification/51/51_tpm.csv')\n",
    "tpm_51.rename(columns={'target_id': 'transcript_id'}, inplace=True)\n",
    "tpm_51.set_index('transcript_id', inplace=True)\n",
    "\n",
    "# Optional: Remove rows with row sums < 1\n",
    "tpm_51 = tpm_51[tpm_51.sum(axis=1) >= 1].reset_index()\n",
    "tpm_51 = tpm_51.melt(id_vars=['transcript_id'], var_name='sample', value_name='TPM')\n",
    "tpm_51['sample'] = tpm_51['sample'].astype('category')\n",
    "tpm_51['TPM'] = tpm_51['TPM'].astype('float32')"
   ]
  },
  {
   "cell_type": "code",
   "execution_count": 6,
   "metadata": {},
   "outputs": [],
   "source": [
    "# Merge tpm into annotation\n",
    "data_130 = eukprot_annotation_130.merge(tpm_130, left_on='query_id', right_on='transcript_id', how='left').drop(columns=['query_id'])\n",
    "# Remove tpm and annotation from memory\n",
    "#del tpm, eukprot_annotation\n",
    "\n",
    "data_130 = data_130.merge(meta, left_on='sample', right_on='Station', how='left')\n",
    "data_130.drop(columns='Station', inplace=True)\n",
    "\n",
    "# Merge tpm into annotation\n",
    "data_51 = eukprot_annotation_51.merge(tpm_51, left_on='query_id', right_on='transcript_id', how='left').drop(columns=['query_id'])\n",
    "# Remove tpm and annotation from memory\n",
    "#del tpm, eukprot_annotation\n",
    "\n",
    "data_51 = data_51.merge(meta, left_on='sample', right_on='Station', how='left')\n",
    "data_51.drop(columns='Station', inplace=True)"
   ]
  },
  {
   "cell_type": "markdown",
   "metadata": {},
   "source": [
    "## Taxonomic turnover"
   ]
  },
  {
   "cell_type": "markdown",
   "metadata": {},
   "source": [
    "### Taxonomic Classes"
   ]
  },
  {
   "cell_type": "code",
   "execution_count": 7,
   "metadata": {},
   "outputs": [],
   "source": [
    "# Original color mapping\n",
    "color_discrete_map = {\n",
    "    \"Rare\": \"#545454\",\n",
    "    \"core-Noctilucales\": \"#56B4E8\",\n",
    "    'Odontella': \"#C44601\",\n",
    "    'Prymnesiophyceae': \"#009E73\",\n",
    "    \"Diatomeae\": \"#E69F00\",\n",
    "    \"Dinophyceae\": \"#56B4E9\",\n",
    "    \"Spirotrichea\": \"#F0E442\",\n",
    "    \"Arthropoda\": \"#0072B2\",\n",
    "    \"Ctenophora\": \"#ADA7A7\",\n",
    "    \"Vertebrata\": \"#FF5349\",\n",
    "    \"Phaeodarea\": \"#D55E00\",\n",
    "    \"Florideophyceae\": \"#CC79A7\",\n",
    "    \"Acantharea\": \"#719A10\",\n",
    "}"
   ]
  },
  {
   "cell_type": "code",
   "execution_count": 8,
   "metadata": {},
   "outputs": [
    {
     "name": "stderr",
     "output_type": "stream",
     "text": [
      "/opt/homebrew/lib/python3.9/site-packages/_plotly_utils/basevalidators.py:107: FutureWarning: The behavior of DatetimeProperties.to_pydatetime is deprecated, in a future version this will return a Series containing python datetime objects instead of an ndarray. To retain the old behavior, call `np.array` on the result\n",
      "  v = v.dt.to_pydatetime()\n"
     ]
    },
    {
     "data": {
      "application/vnd.plotly.v1+json": {
       "config": {
        "plotlyServerURL": "https://plot.ly"
       },
       "data": [
        {
         "alignmentgroup": "True",
         "hovertemplate": "Taxogroup2_UniEuk=Arthropoda<br>Date=%{x}<br>rel_expression_per_hour=%{y}<extra></extra>",
         "legendgroup": "Arthropoda",
         "marker": {
          "color": "#0072B2",
          "pattern": {
           "shape": ""
          }
         },
         "name": "Arthropoda",
         "offsetgroup": "Arthropoda",
         "orientation": "v",
         "showlegend": true,
         "textposition": "auto",
         "type": "bar",
         "x": [
          "2023-04-20T22:58:00",
          "2023-04-21T01:01:00",
          "2023-04-21T05:00:00"
         ],
         "xaxis": "x",
         "y": [
          0.09701491892337799,
          0.07190700620412827,
          0.06890547275543213
         ],
         "yaxis": "y"
        },
        {
         "alignmentgroup": "True",
         "hovertemplate": "Taxogroup2_UniEuk=Diatomeae<br>Date=%{x}<br>rel_expression_per_hour=%{y}<extra></extra>",
         "legendgroup": "Diatomeae",
         "marker": {
          "color": "#E69F00",
          "pattern": {
           "shape": ""
          }
         },
         "name": "Diatomeae",
         "offsetgroup": "Diatomeae",
         "orientation": "v",
         "showlegend": true,
         "textposition": "auto",
         "type": "bar",
         "x": [
          "2023-04-20T09:02:00"
         ],
         "xaxis": "x",
         "y": [
          0.05808049440383911
         ],
         "yaxis": "y"
        },
        {
         "alignmentgroup": "True",
         "hovertemplate": "Taxogroup2_UniEuk=Dinophyceae<br>Date=%{x}<br>rel_expression_per_hour=%{y}<extra></extra>",
         "legendgroup": "Dinophyceae",
         "marker": {
          "color": "#56B4E9",
          "pattern": {
           "shape": ""
          }
         },
         "name": "Dinophyceae",
         "offsetgroup": "Dinophyceae",
         "orientation": "v",
         "showlegend": true,
         "textposition": "auto",
         "type": "bar",
         "x": [
          "2023-04-20T08:01:00",
          "2023-04-20T11:07:00",
          "2023-04-20T12:00:00",
          "2023-04-20T15:58:00",
          "2023-04-20T17:07:00",
          "2023-04-20T20:02:00",
          "2023-04-20T21:02:00",
          "2023-04-20T22:02:00",
          "2023-04-20T22:58:00",
          "2023-04-20T23:57:00",
          "2023-04-21T01:01:00",
          "2023-04-21T02:00:00",
          "2023-04-21T04:00:00",
          "2023-04-21T05:00:00",
          "2023-04-21T06:00:00",
          "2023-04-21T07:00:00",
          "2023-04-21T08:00:00"
         ],
         "xaxis": "x",
         "y": [
          0.07908061146736145,
          0.08295929431915283,
          0.058912672102451324,
          0.053615257143974304,
          0.06131428852677345,
          0.08719635009765625,
          0.31377318501472473,
          0.48599526286125183,
          0.6091970801353455,
          0.09543655067682266,
          0.0982491672039032,
          0.050507862120866776,
          0.10392071306705475,
          0.17095309495925903,
          0.07235317677259445,
          0.22065827250480652,
          0.13981814682483673
         ],
         "yaxis": "y"
        },
        {
         "alignmentgroup": "True",
         "hovertemplate": "Taxogroup2_UniEuk=Prymnesiophyceae<br>Date=%{x}<br>rel_expression_per_hour=%{y}<extra></extra>",
         "legendgroup": "Prymnesiophyceae",
         "marker": {
          "color": "#009E73",
          "pattern": {
           "shape": ""
          }
         },
         "name": "Prymnesiophyceae",
         "offsetgroup": "Prymnesiophyceae",
         "orientation": "v",
         "showlegend": true,
         "textposition": "auto",
         "type": "bar",
         "x": [
          "2023-04-20T08:01:00",
          "2023-04-20T09:02:00",
          "2023-04-20T10:06:00",
          "2023-04-20T11:07:00",
          "2023-04-20T12:00:00",
          "2023-04-20T13:01:00",
          "2023-04-20T13:58:00",
          "2023-04-20T14:57:00",
          "2023-04-20T15:58:00",
          "2023-04-20T17:07:00",
          "2023-04-20T18:04:00",
          "2023-04-20T18:59:00",
          "2023-04-20T20:02:00",
          "2023-04-20T21:02:00",
          "2023-04-20T22:02:00",
          "2023-04-20T22:58:00",
          "2023-04-20T23:57:00",
          "2023-04-21T01:01:00",
          "2023-04-21T02:00:00",
          "2023-04-21T03:00:00",
          "2023-04-21T04:00:00",
          "2023-04-21T05:00:00",
          "2023-04-21T06:00:00",
          "2023-04-21T07:00:00",
          "2023-04-21T08:00:00"
         ],
         "xaxis": "x",
         "y": [
          0.7696585059165955,
          0.7565239667892456,
          0.8168901205062866,
          0.7352741360664368,
          0.8155535459518433,
          0.9444177746772766,
          0.9291953444480896,
          0.9062473177909851,
          0.8504987359046936,
          0.854918897151947,
          0.8917481899261475,
          0.7589936256408691,
          0.7745035290718079,
          0.5297669172286987,
          0.3456074893474579,
          0.16757534444332123,
          0.7642215490341187,
          0.6994017362594604,
          0.8822267651557922,
          0.8808040618896484,
          0.7261103987693787,
          0.5476055145263672,
          0.7989038825035095,
          0.6518036723136902,
          0.7180426716804504
         ],
         "yaxis": "y"
        },
        {
         "alignmentgroup": "True",
         "hovertemplate": "Taxogroup2_UniEuk=Rare<br>Date=%{x}<br>rel_expression_per_hour=%{y}<extra></extra>",
         "legendgroup": "Rare",
         "marker": {
          "color": "#545454",
          "pattern": {
           "shape": ""
          }
         },
         "name": "Rare",
         "offsetgroup": "Rare",
         "orientation": "v",
         "showlegend": true,
         "textposition": "auto",
         "type": "bar",
         "x": [
          "2023-04-20T08:01:00",
          "2023-04-20T09:02:00",
          "2023-04-20T10:06:00",
          "2023-04-20T11:07:00",
          "2023-04-20T12:00:00",
          "2023-04-20T13:01:00",
          "2023-04-20T13:58:00",
          "2023-04-20T14:57:00",
          "2023-04-20T15:58:00",
          "2023-04-20T17:07:00",
          "2023-04-20T18:04:00",
          "2023-04-20T18:59:00",
          "2023-04-20T20:02:00",
          "2023-04-20T21:02:00",
          "2023-04-20T22:02:00",
          "2023-04-20T22:58:00",
          "2023-04-20T23:57:00",
          "2023-04-21T01:01:00",
          "2023-04-21T02:00:00",
          "2023-04-21T03:00:00",
          "2023-04-21T04:00:00",
          "2023-04-21T05:00:00",
          "2023-04-21T06:00:00",
          "2023-04-21T07:00:00",
          "2023-04-21T08:00:00"
         ],
         "xaxis": "x",
         "y": [
          0.15126082301139832,
          0.1853955239057541,
          0.18310986459255219,
          0.18176664412021637,
          0.1255338191986084,
          0.05558227002620697,
          0.07080463320016861,
          0.09375263750553131,
          0.09588608890771866,
          0.08376690745353699,
          0.10825183242559433,
          0.2410062849521637,
          0.1383001059293747,
          0.15645986795425415,
          0.16839724779129028,
          0.12621261179447174,
          0.14034193754196167,
          0.13044209778308868,
          0.06726536899805069,
          0.11919590830802917,
          0.16996879875659943,
          0.21253591775894165,
          0.12874293327331543,
          0.12753808498382568,
          0.14213909208774567
         ],
         "yaxis": "y"
        }
       ],
       "layout": {
        "barmode": "relative",
        "height": 400,
        "legend": {
         "title": {
          "text": "Taxonomic Group"
         },
         "tracegroupgap": 0
        },
        "template": {
         "data": {
          "bar": [
           {
            "error_x": {
             "color": "#2a3f5f"
            },
            "error_y": {
             "color": "#2a3f5f"
            },
            "marker": {
             "line": {
              "color": "#E5ECF6",
              "width": 0.5
             },
             "pattern": {
              "fillmode": "overlay",
              "size": 10,
              "solidity": 0.2
             }
            },
            "type": "bar"
           }
          ],
          "barpolar": [
           {
            "marker": {
             "line": {
              "color": "#E5ECF6",
              "width": 0.5
             },
             "pattern": {
              "fillmode": "overlay",
              "size": 10,
              "solidity": 0.2
             }
            },
            "type": "barpolar"
           }
          ],
          "carpet": [
           {
            "aaxis": {
             "endlinecolor": "#2a3f5f",
             "gridcolor": "white",
             "linecolor": "white",
             "minorgridcolor": "white",
             "startlinecolor": "#2a3f5f"
            },
            "baxis": {
             "endlinecolor": "#2a3f5f",
             "gridcolor": "white",
             "linecolor": "white",
             "minorgridcolor": "white",
             "startlinecolor": "#2a3f5f"
            },
            "type": "carpet"
           }
          ],
          "choropleth": [
           {
            "colorbar": {
             "outlinewidth": 0,
             "ticks": ""
            },
            "type": "choropleth"
           }
          ],
          "contour": [
           {
            "colorbar": {
             "outlinewidth": 0,
             "ticks": ""
            },
            "colorscale": [
             [
              0,
              "#0d0887"
             ],
             [
              0.1111111111111111,
              "#46039f"
             ],
             [
              0.2222222222222222,
              "#7201a8"
             ],
             [
              0.3333333333333333,
              "#9c179e"
             ],
             [
              0.4444444444444444,
              "#bd3786"
             ],
             [
              0.5555555555555556,
              "#d8576b"
             ],
             [
              0.6666666666666666,
              "#ed7953"
             ],
             [
              0.7777777777777778,
              "#fb9f3a"
             ],
             [
              0.8888888888888888,
              "#fdca26"
             ],
             [
              1,
              "#f0f921"
             ]
            ],
            "type": "contour"
           }
          ],
          "contourcarpet": [
           {
            "colorbar": {
             "outlinewidth": 0,
             "ticks": ""
            },
            "type": "contourcarpet"
           }
          ],
          "heatmap": [
           {
            "colorbar": {
             "outlinewidth": 0,
             "ticks": ""
            },
            "colorscale": [
             [
              0,
              "#0d0887"
             ],
             [
              0.1111111111111111,
              "#46039f"
             ],
             [
              0.2222222222222222,
              "#7201a8"
             ],
             [
              0.3333333333333333,
              "#9c179e"
             ],
             [
              0.4444444444444444,
              "#bd3786"
             ],
             [
              0.5555555555555556,
              "#d8576b"
             ],
             [
              0.6666666666666666,
              "#ed7953"
             ],
             [
              0.7777777777777778,
              "#fb9f3a"
             ],
             [
              0.8888888888888888,
              "#fdca26"
             ],
             [
              1,
              "#f0f921"
             ]
            ],
            "type": "heatmap"
           }
          ],
          "heatmapgl": [
           {
            "colorbar": {
             "outlinewidth": 0,
             "ticks": ""
            },
            "colorscale": [
             [
              0,
              "#0d0887"
             ],
             [
              0.1111111111111111,
              "#46039f"
             ],
             [
              0.2222222222222222,
              "#7201a8"
             ],
             [
              0.3333333333333333,
              "#9c179e"
             ],
             [
              0.4444444444444444,
              "#bd3786"
             ],
             [
              0.5555555555555556,
              "#d8576b"
             ],
             [
              0.6666666666666666,
              "#ed7953"
             ],
             [
              0.7777777777777778,
              "#fb9f3a"
             ],
             [
              0.8888888888888888,
              "#fdca26"
             ],
             [
              1,
              "#f0f921"
             ]
            ],
            "type": "heatmapgl"
           }
          ],
          "histogram": [
           {
            "marker": {
             "pattern": {
              "fillmode": "overlay",
              "size": 10,
              "solidity": 0.2
             }
            },
            "type": "histogram"
           }
          ],
          "histogram2d": [
           {
            "colorbar": {
             "outlinewidth": 0,
             "ticks": ""
            },
            "colorscale": [
             [
              0,
              "#0d0887"
             ],
             [
              0.1111111111111111,
              "#46039f"
             ],
             [
              0.2222222222222222,
              "#7201a8"
             ],
             [
              0.3333333333333333,
              "#9c179e"
             ],
             [
              0.4444444444444444,
              "#bd3786"
             ],
             [
              0.5555555555555556,
              "#d8576b"
             ],
             [
              0.6666666666666666,
              "#ed7953"
             ],
             [
              0.7777777777777778,
              "#fb9f3a"
             ],
             [
              0.8888888888888888,
              "#fdca26"
             ],
             [
              1,
              "#f0f921"
             ]
            ],
            "type": "histogram2d"
           }
          ],
          "histogram2dcontour": [
           {
            "colorbar": {
             "outlinewidth": 0,
             "ticks": ""
            },
            "colorscale": [
             [
              0,
              "#0d0887"
             ],
             [
              0.1111111111111111,
              "#46039f"
             ],
             [
              0.2222222222222222,
              "#7201a8"
             ],
             [
              0.3333333333333333,
              "#9c179e"
             ],
             [
              0.4444444444444444,
              "#bd3786"
             ],
             [
              0.5555555555555556,
              "#d8576b"
             ],
             [
              0.6666666666666666,
              "#ed7953"
             ],
             [
              0.7777777777777778,
              "#fb9f3a"
             ],
             [
              0.8888888888888888,
              "#fdca26"
             ],
             [
              1,
              "#f0f921"
             ]
            ],
            "type": "histogram2dcontour"
           }
          ],
          "mesh3d": [
           {
            "colorbar": {
             "outlinewidth": 0,
             "ticks": ""
            },
            "type": "mesh3d"
           }
          ],
          "parcoords": [
           {
            "line": {
             "colorbar": {
              "outlinewidth": 0,
              "ticks": ""
             }
            },
            "type": "parcoords"
           }
          ],
          "pie": [
           {
            "automargin": true,
            "type": "pie"
           }
          ],
          "scatter": [
           {
            "marker": {
             "colorbar": {
              "outlinewidth": 0,
              "ticks": ""
             }
            },
            "type": "scatter"
           }
          ],
          "scatter3d": [
           {
            "line": {
             "colorbar": {
              "outlinewidth": 0,
              "ticks": ""
             }
            },
            "marker": {
             "colorbar": {
              "outlinewidth": 0,
              "ticks": ""
             }
            },
            "type": "scatter3d"
           }
          ],
          "scattercarpet": [
           {
            "marker": {
             "colorbar": {
              "outlinewidth": 0,
              "ticks": ""
             }
            },
            "type": "scattercarpet"
           }
          ],
          "scattergeo": [
           {
            "marker": {
             "colorbar": {
              "outlinewidth": 0,
              "ticks": ""
             }
            },
            "type": "scattergeo"
           }
          ],
          "scattergl": [
           {
            "marker": {
             "colorbar": {
              "outlinewidth": 0,
              "ticks": ""
             }
            },
            "type": "scattergl"
           }
          ],
          "scattermapbox": [
           {
            "marker": {
             "colorbar": {
              "outlinewidth": 0,
              "ticks": ""
             }
            },
            "type": "scattermapbox"
           }
          ],
          "scatterpolar": [
           {
            "marker": {
             "colorbar": {
              "outlinewidth": 0,
              "ticks": ""
             }
            },
            "type": "scatterpolar"
           }
          ],
          "scatterpolargl": [
           {
            "marker": {
             "colorbar": {
              "outlinewidth": 0,
              "ticks": ""
             }
            },
            "type": "scatterpolargl"
           }
          ],
          "scatterternary": [
           {
            "marker": {
             "colorbar": {
              "outlinewidth": 0,
              "ticks": ""
             }
            },
            "type": "scatterternary"
           }
          ],
          "surface": [
           {
            "colorbar": {
             "outlinewidth": 0,
             "ticks": ""
            },
            "colorscale": [
             [
              0,
              "#0d0887"
             ],
             [
              0.1111111111111111,
              "#46039f"
             ],
             [
              0.2222222222222222,
              "#7201a8"
             ],
             [
              0.3333333333333333,
              "#9c179e"
             ],
             [
              0.4444444444444444,
              "#bd3786"
             ],
             [
              0.5555555555555556,
              "#d8576b"
             ],
             [
              0.6666666666666666,
              "#ed7953"
             ],
             [
              0.7777777777777778,
              "#fb9f3a"
             ],
             [
              0.8888888888888888,
              "#fdca26"
             ],
             [
              1,
              "#f0f921"
             ]
            ],
            "type": "surface"
           }
          ],
          "table": [
           {
            "cells": {
             "fill": {
              "color": "#EBF0F8"
             },
             "line": {
              "color": "white"
             }
            },
            "header": {
             "fill": {
              "color": "#C8D4E3"
             },
             "line": {
              "color": "white"
             }
            },
            "type": "table"
           }
          ]
         },
         "layout": {
          "annotationdefaults": {
           "arrowcolor": "#2a3f5f",
           "arrowhead": 0,
           "arrowwidth": 1
          },
          "autotypenumbers": "strict",
          "coloraxis": {
           "colorbar": {
            "outlinewidth": 0,
            "ticks": ""
           }
          },
          "colorscale": {
           "diverging": [
            [
             0,
             "#8e0152"
            ],
            [
             0.1,
             "#c51b7d"
            ],
            [
             0.2,
             "#de77ae"
            ],
            [
             0.3,
             "#f1b6da"
            ],
            [
             0.4,
             "#fde0ef"
            ],
            [
             0.5,
             "#f7f7f7"
            ],
            [
             0.6,
             "#e6f5d0"
            ],
            [
             0.7,
             "#b8e186"
            ],
            [
             0.8,
             "#7fbc41"
            ],
            [
             0.9,
             "#4d9221"
            ],
            [
             1,
             "#276419"
            ]
           ],
           "sequential": [
            [
             0,
             "#0d0887"
            ],
            [
             0.1111111111111111,
             "#46039f"
            ],
            [
             0.2222222222222222,
             "#7201a8"
            ],
            [
             0.3333333333333333,
             "#9c179e"
            ],
            [
             0.4444444444444444,
             "#bd3786"
            ],
            [
             0.5555555555555556,
             "#d8576b"
            ],
            [
             0.6666666666666666,
             "#ed7953"
            ],
            [
             0.7777777777777778,
             "#fb9f3a"
            ],
            [
             0.8888888888888888,
             "#fdca26"
            ],
            [
             1,
             "#f0f921"
            ]
           ],
           "sequentialminus": [
            [
             0,
             "#0d0887"
            ],
            [
             0.1111111111111111,
             "#46039f"
            ],
            [
             0.2222222222222222,
             "#7201a8"
            ],
            [
             0.3333333333333333,
             "#9c179e"
            ],
            [
             0.4444444444444444,
             "#bd3786"
            ],
            [
             0.5555555555555556,
             "#d8576b"
            ],
            [
             0.6666666666666666,
             "#ed7953"
            ],
            [
             0.7777777777777778,
             "#fb9f3a"
            ],
            [
             0.8888888888888888,
             "#fdca26"
            ],
            [
             1,
             "#f0f921"
            ]
           ]
          },
          "colorway": [
           "#636efa",
           "#EF553B",
           "#00cc96",
           "#ab63fa",
           "#FFA15A",
           "#19d3f3",
           "#FF6692",
           "#B6E880",
           "#FF97FF",
           "#FECB52"
          ],
          "font": {
           "color": "#2a3f5f"
          },
          "geo": {
           "bgcolor": "white",
           "lakecolor": "white",
           "landcolor": "#E5ECF6",
           "showlakes": true,
           "showland": true,
           "subunitcolor": "white"
          },
          "hoverlabel": {
           "align": "left"
          },
          "hovermode": "closest",
          "mapbox": {
           "style": "light"
          },
          "paper_bgcolor": "white",
          "plot_bgcolor": "#E5ECF6",
          "polar": {
           "angularaxis": {
            "gridcolor": "white",
            "linecolor": "white",
            "ticks": ""
           },
           "bgcolor": "#E5ECF6",
           "radialaxis": {
            "gridcolor": "white",
            "linecolor": "white",
            "ticks": ""
           }
          },
          "scene": {
           "xaxis": {
            "backgroundcolor": "#E5ECF6",
            "gridcolor": "white",
            "gridwidth": 2,
            "linecolor": "white",
            "showbackground": true,
            "ticks": "",
            "zerolinecolor": "white"
           },
           "yaxis": {
            "backgroundcolor": "#E5ECF6",
            "gridcolor": "white",
            "gridwidth": 2,
            "linecolor": "white",
            "showbackground": true,
            "ticks": "",
            "zerolinecolor": "white"
           },
           "zaxis": {
            "backgroundcolor": "#E5ECF6",
            "gridcolor": "white",
            "gridwidth": 2,
            "linecolor": "white",
            "showbackground": true,
            "ticks": "",
            "zerolinecolor": "white"
           }
          },
          "shapedefaults": {
           "line": {
            "color": "#2a3f5f"
           }
          },
          "ternary": {
           "aaxis": {
            "gridcolor": "white",
            "linecolor": "white",
            "ticks": ""
           },
           "baxis": {
            "gridcolor": "white",
            "linecolor": "white",
            "ticks": ""
           },
           "bgcolor": "#E5ECF6",
           "caxis": {
            "gridcolor": "white",
            "linecolor": "white",
            "ticks": ""
           }
          },
          "title": {
           "x": 0.05
          },
          "xaxis": {
           "automargin": true,
           "gridcolor": "white",
           "linecolor": "white",
           "ticks": "",
           "title": {
            "standoff": 15
           },
           "zerolinecolor": "white",
           "zerolinewidth": 2
          },
          "yaxis": {
           "automargin": true,
           "gridcolor": "white",
           "linecolor": "white",
           "ticks": "",
           "title": {
            "standoff": 15
           },
           "zerolinecolor": "white",
           "zerolinewidth": 2
          }
         }
        },
        "title": {
         "text": "Relative Expression Per Hour at Station 130"
        },
        "width": 800,
        "xaxis": {
         "anchor": "y",
         "domain": [
          0,
          1
         ],
         "tickangle": -45,
         "title": {
          "text": "Date and Time"
         }
        },
        "yaxis": {
         "anchor": "x",
         "domain": [
          0,
          1
         ],
         "title": {
          "text": "Relative Expression"
         }
        }
       }
      }
     },
     "metadata": {},
     "output_type": "display_data"
    }
   ],
   "source": [
    "# Filter data based on TPM and p_ident thresholds\n",
    "filtered_data = data_130[(data_130['p_ident'] >= 0.75)]\n",
    "\n",
    "# Group by taxonomic level and sample, then sum TPM\n",
    "grouped_df = filtered_data.groupby(['Taxogroup2_UniEuk', 'Date'])['TPM'].sum().reset_index()\n",
    "\n",
    "grouped_df.head()\n",
    "# Normalize TPM sums to get relative expression per hour\n",
    "total_tpm_per_hour = grouped_df.groupby('Date')['TPM'].transform('sum')\n",
    "grouped_df['rel_expression_per_hour'] = grouped_df['TPM'] / total_tpm_per_hour\n",
    "\n",
    "# Combine low-abundant groups into a single 'Rare' category\n",
    "threshold = 0.05\n",
    "grouped_df.loc[grouped_df['rel_expression_per_hour'] <= threshold, 'Taxogroup2_UniEuk'] = 'Rare'\n",
    "\n",
    "# Combine 'core-Noctilucales' and 'Dinophyceae'\n",
    "grouped_df['Taxogroup2_UniEuk'] = grouped_df['Taxogroup2_UniEuk'].replace({'core-Noctilucales': 'Dinophyceae'})\n",
    "\n",
    "# Remove categories with no expression\n",
    "grouped_df = grouped_df[grouped_df['rel_expression_per_hour'] > 0]\n",
    "\n",
    "# Group once more to combine Rares\n",
    "grouped_df = grouped_df.groupby(['Taxogroup2_UniEuk', 'Date'])['rel_expression_per_hour'].sum().reset_index()\n",
    "\n",
    "\n",
    "# Plot\n",
    "fig = px.bar(grouped_df, \n",
    "            x='Date', \n",
    "            y='rel_expression_per_hour', \n",
    "            color='Taxogroup2_UniEuk',\n",
    "            title='Relative Expression Per Hour at Station 130',\n",
    "            category_orders={\"Taxogroup2_UniEuk\": ['Arthropoda', 'Acantharea', 'Ctenophora', 'Diatomeae', 'Dinophyceae', \n",
    "                                                    'Florideophyceae','Odontella', 'Phaeodarea', 'Prymnesiophyceae',\n",
    "                                                    'Spirotrichea', 'Vertebrata', 'Rare',]},\n",
    "            color_discrete_map=color_discrete_map\n",
    "            )\n",
    "\n",
    "fig.update_layout(\n",
    "    width=800,\n",
    "    height=400,\n",
    "    xaxis_title='Date and Time',\n",
    "    yaxis_title='Relative Expression',\n",
    "    xaxis_tickangle=-45,\n",
    "    legend_title='Taxonomic Group'\n",
    ")\n",
    "\n",
    "# Save the figure\n",
    "filename_base = \"../figures/metatranscriptomics/130_relative_expression_per_hour\"\n",
    "fig.write_image(filename_base + \".png\", scale=1)\n",
    "fig.write_image(filename_base + \".svg\", scale=1)\n",
    "\n",
    "fig.show()"
   ]
  },
  {
   "cell_type": "code",
   "execution_count": 9,
   "metadata": {},
   "outputs": [
    {
     "name": "stderr",
     "output_type": "stream",
     "text": [
      "/opt/homebrew/lib/python3.9/site-packages/_plotly_utils/basevalidators.py:107: FutureWarning:\n",
      "\n",
      "The behavior of DatetimeProperties.to_pydatetime is deprecated, in a future version this will return a Series containing python datetime objects instead of an ndarray. To retain the old behavior, call `np.array` on the result\n",
      "\n"
     ]
    },
    {
     "data": {
      "application/vnd.plotly.v1+json": {
       "config": {
        "plotlyServerURL": "https://plot.ly"
       },
       "data": [
        {
         "alignmentgroup": "True",
         "hovertemplate": "Taxogroup2_UniEuk=Arthropoda<br>Date=%{x}<br>TPM=%{y}<extra></extra>",
         "legendgroup": "Arthropoda",
         "marker": {
          "color": "#0072B2",
          "pattern": {
           "shape": ""
          }
         },
         "name": "Arthropoda",
         "offsetgroup": "Arthropoda",
         "orientation": "v",
         "showlegend": true,
         "textposition": "auto",
         "type": "bar",
         "x": [
          "2023-04-20T22:58:00",
          "2023-04-21T01:01:00",
          "2023-04-21T05:00:00"
         ],
         "xaxis": "x",
         "y": [
          10852.2939453125,
          9736.5908203125,
          6674.2294921875
         ],
         "yaxis": "y"
        },
        {
         "alignmentgroup": "True",
         "hovertemplate": "Taxogroup2_UniEuk=Diatomeae<br>Date=%{x}<br>TPM=%{y}<extra></extra>",
         "legendgroup": "Diatomeae",
         "marker": {
          "color": "#E69F00",
          "pattern": {
           "shape": ""
          }
         },
         "name": "Diatomeae",
         "offsetgroup": "Diatomeae",
         "orientation": "v",
         "showlegend": true,
         "textposition": "auto",
         "type": "bar",
         "x": [
          "2023-04-20T09:02:00"
         ],
         "xaxis": "x",
         "y": [
          5763.55859375
         ],
         "yaxis": "y"
        },
        {
         "alignmentgroup": "True",
         "hovertemplate": "Taxogroup2_UniEuk=Dinophyceae<br>Date=%{x}<br>TPM=%{y}<extra></extra>",
         "legendgroup": "Dinophyceae",
         "marker": {
          "color": "#56B4E9",
          "pattern": {
           "shape": ""
          }
         },
         "name": "Dinophyceae",
         "offsetgroup": "Dinophyceae",
         "orientation": "v",
         "showlegend": true,
         "textposition": "auto",
         "type": "bar",
         "x": [
          "2023-04-20T08:01:00",
          "2023-04-20T11:07:00",
          "2023-04-20T12:00:00",
          "2023-04-20T15:58:00",
          "2023-04-20T17:07:00",
          "2023-04-20T20:02:00",
          "2023-04-20T21:02:00",
          "2023-04-20T22:02:00",
          "2023-04-20T22:58:00",
          "2023-04-20T23:57:00",
          "2023-04-21T01:01:00",
          "2023-04-21T02:00:00",
          "2023-04-21T04:00:00",
          "2023-04-21T05:00:00",
          "2023-04-21T06:00:00",
          "2023-04-21T07:00:00",
          "2023-04-21T08:00:00"
         ],
         "xaxis": "x",
         "y": [
          9229.98046875,
          11144.45703125,
          8122.89306640625,
          8818.861328125,
          10294.1689453125,
          13432.8466796875,
          40346.578125,
          63236.484375,
          68146.078125,
          12836.359375,
          13303.458984375,
          10222.6220703125,
          14032.4775390625,
          16558.630859375,
          12579.6845703125,
          33001.97265625,
          19379.44140625
         ],
         "yaxis": "y"
        },
        {
         "alignmentgroup": "True",
         "hovertemplate": "Taxogroup2_UniEuk=Prymnesiophyceae<br>Date=%{x}<br>TPM=%{y}<extra></extra>",
         "legendgroup": "Prymnesiophyceae",
         "marker": {
          "color": "#009E73",
          "pattern": {
           "shape": ""
          }
         },
         "name": "Prymnesiophyceae",
         "offsetgroup": "Prymnesiophyceae",
         "orientation": "v",
         "showlegend": true,
         "textposition": "auto",
         "type": "bar",
         "x": [
          "2023-04-20T08:01:00",
          "2023-04-20T09:02:00",
          "2023-04-20T10:06:00",
          "2023-04-20T11:07:00",
          "2023-04-20T12:00:00",
          "2023-04-20T13:01:00",
          "2023-04-20T13:58:00",
          "2023-04-20T14:57:00",
          "2023-04-20T15:58:00",
          "2023-04-20T17:07:00",
          "2023-04-20T18:04:00",
          "2023-04-20T18:59:00",
          "2023-04-20T20:02:00",
          "2023-04-20T21:02:00",
          "2023-04-20T22:02:00",
          "2023-04-20T22:58:00",
          "2023-04-20T23:57:00",
          "2023-04-21T01:01:00",
          "2023-04-21T02:00:00",
          "2023-04-21T03:00:00",
          "2023-04-21T04:00:00",
          "2023-04-21T05:00:00",
          "2023-04-21T06:00:00",
          "2023-04-21T07:00:00",
          "2023-04-21T08:00:00"
         ],
         "xaxis": "x",
         "y": [
          89831.5390625,
          75072.8828125,
          119234.328125,
          98774.1171875,
          112448.7109375,
          206251.21875,
          178076.546875,
          139591.59375,
          139893.578125,
          143533.90625,
          156597.140625,
          33967.171875,
          119314.484375,
          68120.171875,
          44969.578125,
          18745.33203125,
          102788.9453125,
          94702.7109375,
          178559.75,
          157665.234375,
          98047.1328125,
          53041.43359375,
          138901.421875,
          97484.703125,
          99524.0390625
         ],
         "yaxis": "y"
        },
        {
         "alignmentgroup": "True",
         "hovertemplate": "Taxogroup2_UniEuk=Rare<br>Date=%{x}<br>TPM=%{y}<extra></extra>",
         "legendgroup": "Rare",
         "marker": {
          "color": "#545454",
          "pattern": {
           "shape": ""
          }
         },
         "name": "Rare",
         "offsetgroup": "Rare",
         "orientation": "v",
         "showlegend": true,
         "textposition": "auto",
         "type": "bar",
         "x": [
          "2023-04-20T08:01:00",
          "2023-04-20T09:02:00",
          "2023-04-20T10:06:00",
          "2023-04-20T11:07:00",
          "2023-04-20T12:00:00",
          "2023-04-20T13:01:00",
          "2023-04-20T13:58:00",
          "2023-04-20T14:57:00",
          "2023-04-20T15:58:00",
          "2023-04-20T17:07:00",
          "2023-04-20T18:04:00",
          "2023-04-20T18:59:00",
          "2023-04-20T20:02:00",
          "2023-04-20T21:02:00",
          "2023-04-20T22:02:00",
          "2023-04-20T22:58:00",
          "2023-04-20T23:57:00",
          "2023-04-21T01:01:00",
          "2023-04-21T02:00:00",
          "2023-04-21T03:00:00",
          "2023-04-21T04:00:00",
          "2023-04-21T05:00:00",
          "2023-04-21T06:00:00",
          "2023-04-21T07:00:00",
          "2023-04-21T08:00:00"
         ],
         "xaxis": "x",
         "y": [
          17654.57421875,
          18397.53515625,
          26726.951171875,
          24417.884765625,
          17308.6328125,
          12138.6015625,
          13569.421875,
          14440.958984375,
          15771.744140625,
          14063.779296875,
          19009.76953125,
          10785.7314453125,
          21305.525390625,
          20118.41796875,
          21911.4296875,
          14118.41015625,
          18876.19921875,
          17662.552734375,
          13614.28515625,
          21336.244140625,
          22950.990234375,
          20586.37109375,
          22383.888671875,
          19074.78125,
          19701.13671875
         ],
         "yaxis": "y"
        }
       ],
       "layout": {
        "barmode": "relative",
        "height": 400,
        "legend": {
         "title": {
          "text": "Taxonomic Group"
         },
         "tracegroupgap": 0
        },
        "template": {
         "data": {
          "bar": [
           {
            "error_x": {
             "color": "#2a3f5f"
            },
            "error_y": {
             "color": "#2a3f5f"
            },
            "marker": {
             "line": {
              "color": "#E5ECF6",
              "width": 0.5
             },
             "pattern": {
              "fillmode": "overlay",
              "size": 10,
              "solidity": 0.2
             }
            },
            "type": "bar"
           }
          ],
          "barpolar": [
           {
            "marker": {
             "line": {
              "color": "#E5ECF6",
              "width": 0.5
             },
             "pattern": {
              "fillmode": "overlay",
              "size": 10,
              "solidity": 0.2
             }
            },
            "type": "barpolar"
           }
          ],
          "carpet": [
           {
            "aaxis": {
             "endlinecolor": "#2a3f5f",
             "gridcolor": "white",
             "linecolor": "white",
             "minorgridcolor": "white",
             "startlinecolor": "#2a3f5f"
            },
            "baxis": {
             "endlinecolor": "#2a3f5f",
             "gridcolor": "white",
             "linecolor": "white",
             "minorgridcolor": "white",
             "startlinecolor": "#2a3f5f"
            },
            "type": "carpet"
           }
          ],
          "choropleth": [
           {
            "colorbar": {
             "outlinewidth": 0,
             "ticks": ""
            },
            "type": "choropleth"
           }
          ],
          "contour": [
           {
            "colorbar": {
             "outlinewidth": 0,
             "ticks": ""
            },
            "colorscale": [
             [
              0,
              "#0d0887"
             ],
             [
              0.1111111111111111,
              "#46039f"
             ],
             [
              0.2222222222222222,
              "#7201a8"
             ],
             [
              0.3333333333333333,
              "#9c179e"
             ],
             [
              0.4444444444444444,
              "#bd3786"
             ],
             [
              0.5555555555555556,
              "#d8576b"
             ],
             [
              0.6666666666666666,
              "#ed7953"
             ],
             [
              0.7777777777777778,
              "#fb9f3a"
             ],
             [
              0.8888888888888888,
              "#fdca26"
             ],
             [
              1,
              "#f0f921"
             ]
            ],
            "type": "contour"
           }
          ],
          "contourcarpet": [
           {
            "colorbar": {
             "outlinewidth": 0,
             "ticks": ""
            },
            "type": "contourcarpet"
           }
          ],
          "heatmap": [
           {
            "colorbar": {
             "outlinewidth": 0,
             "ticks": ""
            },
            "colorscale": [
             [
              0,
              "#0d0887"
             ],
             [
              0.1111111111111111,
              "#46039f"
             ],
             [
              0.2222222222222222,
              "#7201a8"
             ],
             [
              0.3333333333333333,
              "#9c179e"
             ],
             [
              0.4444444444444444,
              "#bd3786"
             ],
             [
              0.5555555555555556,
              "#d8576b"
             ],
             [
              0.6666666666666666,
              "#ed7953"
             ],
             [
              0.7777777777777778,
              "#fb9f3a"
             ],
             [
              0.8888888888888888,
              "#fdca26"
             ],
             [
              1,
              "#f0f921"
             ]
            ],
            "type": "heatmap"
           }
          ],
          "heatmapgl": [
           {
            "colorbar": {
             "outlinewidth": 0,
             "ticks": ""
            },
            "colorscale": [
             [
              0,
              "#0d0887"
             ],
             [
              0.1111111111111111,
              "#46039f"
             ],
             [
              0.2222222222222222,
              "#7201a8"
             ],
             [
              0.3333333333333333,
              "#9c179e"
             ],
             [
              0.4444444444444444,
              "#bd3786"
             ],
             [
              0.5555555555555556,
              "#d8576b"
             ],
             [
              0.6666666666666666,
              "#ed7953"
             ],
             [
              0.7777777777777778,
              "#fb9f3a"
             ],
             [
              0.8888888888888888,
              "#fdca26"
             ],
             [
              1,
              "#f0f921"
             ]
            ],
            "type": "heatmapgl"
           }
          ],
          "histogram": [
           {
            "marker": {
             "pattern": {
              "fillmode": "overlay",
              "size": 10,
              "solidity": 0.2
             }
            },
            "type": "histogram"
           }
          ],
          "histogram2d": [
           {
            "colorbar": {
             "outlinewidth": 0,
             "ticks": ""
            },
            "colorscale": [
             [
              0,
              "#0d0887"
             ],
             [
              0.1111111111111111,
              "#46039f"
             ],
             [
              0.2222222222222222,
              "#7201a8"
             ],
             [
              0.3333333333333333,
              "#9c179e"
             ],
             [
              0.4444444444444444,
              "#bd3786"
             ],
             [
              0.5555555555555556,
              "#d8576b"
             ],
             [
              0.6666666666666666,
              "#ed7953"
             ],
             [
              0.7777777777777778,
              "#fb9f3a"
             ],
             [
              0.8888888888888888,
              "#fdca26"
             ],
             [
              1,
              "#f0f921"
             ]
            ],
            "type": "histogram2d"
           }
          ],
          "histogram2dcontour": [
           {
            "colorbar": {
             "outlinewidth": 0,
             "ticks": ""
            },
            "colorscale": [
             [
              0,
              "#0d0887"
             ],
             [
              0.1111111111111111,
              "#46039f"
             ],
             [
              0.2222222222222222,
              "#7201a8"
             ],
             [
              0.3333333333333333,
              "#9c179e"
             ],
             [
              0.4444444444444444,
              "#bd3786"
             ],
             [
              0.5555555555555556,
              "#d8576b"
             ],
             [
              0.6666666666666666,
              "#ed7953"
             ],
             [
              0.7777777777777778,
              "#fb9f3a"
             ],
             [
              0.8888888888888888,
              "#fdca26"
             ],
             [
              1,
              "#f0f921"
             ]
            ],
            "type": "histogram2dcontour"
           }
          ],
          "mesh3d": [
           {
            "colorbar": {
             "outlinewidth": 0,
             "ticks": ""
            },
            "type": "mesh3d"
           }
          ],
          "parcoords": [
           {
            "line": {
             "colorbar": {
              "outlinewidth": 0,
              "ticks": ""
             }
            },
            "type": "parcoords"
           }
          ],
          "pie": [
           {
            "automargin": true,
            "type": "pie"
           }
          ],
          "scatter": [
           {
            "marker": {
             "colorbar": {
              "outlinewidth": 0,
              "ticks": ""
             }
            },
            "type": "scatter"
           }
          ],
          "scatter3d": [
           {
            "line": {
             "colorbar": {
              "outlinewidth": 0,
              "ticks": ""
             }
            },
            "marker": {
             "colorbar": {
              "outlinewidth": 0,
              "ticks": ""
             }
            },
            "type": "scatter3d"
           }
          ],
          "scattercarpet": [
           {
            "marker": {
             "colorbar": {
              "outlinewidth": 0,
              "ticks": ""
             }
            },
            "type": "scattercarpet"
           }
          ],
          "scattergeo": [
           {
            "marker": {
             "colorbar": {
              "outlinewidth": 0,
              "ticks": ""
             }
            },
            "type": "scattergeo"
           }
          ],
          "scattergl": [
           {
            "marker": {
             "colorbar": {
              "outlinewidth": 0,
              "ticks": ""
             }
            },
            "type": "scattergl"
           }
          ],
          "scattermapbox": [
           {
            "marker": {
             "colorbar": {
              "outlinewidth": 0,
              "ticks": ""
             }
            },
            "type": "scattermapbox"
           }
          ],
          "scatterpolar": [
           {
            "marker": {
             "colorbar": {
              "outlinewidth": 0,
              "ticks": ""
             }
            },
            "type": "scatterpolar"
           }
          ],
          "scatterpolargl": [
           {
            "marker": {
             "colorbar": {
              "outlinewidth": 0,
              "ticks": ""
             }
            },
            "type": "scatterpolargl"
           }
          ],
          "scatterternary": [
           {
            "marker": {
             "colorbar": {
              "outlinewidth": 0,
              "ticks": ""
             }
            },
            "type": "scatterternary"
           }
          ],
          "surface": [
           {
            "colorbar": {
             "outlinewidth": 0,
             "ticks": ""
            },
            "colorscale": [
             [
              0,
              "#0d0887"
             ],
             [
              0.1111111111111111,
              "#46039f"
             ],
             [
              0.2222222222222222,
              "#7201a8"
             ],
             [
              0.3333333333333333,
              "#9c179e"
             ],
             [
              0.4444444444444444,
              "#bd3786"
             ],
             [
              0.5555555555555556,
              "#d8576b"
             ],
             [
              0.6666666666666666,
              "#ed7953"
             ],
             [
              0.7777777777777778,
              "#fb9f3a"
             ],
             [
              0.8888888888888888,
              "#fdca26"
             ],
             [
              1,
              "#f0f921"
             ]
            ],
            "type": "surface"
           }
          ],
          "table": [
           {
            "cells": {
             "fill": {
              "color": "#EBF0F8"
             },
             "line": {
              "color": "white"
             }
            },
            "header": {
             "fill": {
              "color": "#C8D4E3"
             },
             "line": {
              "color": "white"
             }
            },
            "type": "table"
           }
          ]
         },
         "layout": {
          "annotationdefaults": {
           "arrowcolor": "#2a3f5f",
           "arrowhead": 0,
           "arrowwidth": 1
          },
          "autotypenumbers": "strict",
          "coloraxis": {
           "colorbar": {
            "outlinewidth": 0,
            "ticks": ""
           }
          },
          "colorscale": {
           "diverging": [
            [
             0,
             "#8e0152"
            ],
            [
             0.1,
             "#c51b7d"
            ],
            [
             0.2,
             "#de77ae"
            ],
            [
             0.3,
             "#f1b6da"
            ],
            [
             0.4,
             "#fde0ef"
            ],
            [
             0.5,
             "#f7f7f7"
            ],
            [
             0.6,
             "#e6f5d0"
            ],
            [
             0.7,
             "#b8e186"
            ],
            [
             0.8,
             "#7fbc41"
            ],
            [
             0.9,
             "#4d9221"
            ],
            [
             1,
             "#276419"
            ]
           ],
           "sequential": [
            [
             0,
             "#0d0887"
            ],
            [
             0.1111111111111111,
             "#46039f"
            ],
            [
             0.2222222222222222,
             "#7201a8"
            ],
            [
             0.3333333333333333,
             "#9c179e"
            ],
            [
             0.4444444444444444,
             "#bd3786"
            ],
            [
             0.5555555555555556,
             "#d8576b"
            ],
            [
             0.6666666666666666,
             "#ed7953"
            ],
            [
             0.7777777777777778,
             "#fb9f3a"
            ],
            [
             0.8888888888888888,
             "#fdca26"
            ],
            [
             1,
             "#f0f921"
            ]
           ],
           "sequentialminus": [
            [
             0,
             "#0d0887"
            ],
            [
             0.1111111111111111,
             "#46039f"
            ],
            [
             0.2222222222222222,
             "#7201a8"
            ],
            [
             0.3333333333333333,
             "#9c179e"
            ],
            [
             0.4444444444444444,
             "#bd3786"
            ],
            [
             0.5555555555555556,
             "#d8576b"
            ],
            [
             0.6666666666666666,
             "#ed7953"
            ],
            [
             0.7777777777777778,
             "#fb9f3a"
            ],
            [
             0.8888888888888888,
             "#fdca26"
            ],
            [
             1,
             "#f0f921"
            ]
           ]
          },
          "colorway": [
           "#636efa",
           "#EF553B",
           "#00cc96",
           "#ab63fa",
           "#FFA15A",
           "#19d3f3",
           "#FF6692",
           "#B6E880",
           "#FF97FF",
           "#FECB52"
          ],
          "font": {
           "color": "#2a3f5f"
          },
          "geo": {
           "bgcolor": "white",
           "lakecolor": "white",
           "landcolor": "#E5ECF6",
           "showlakes": true,
           "showland": true,
           "subunitcolor": "white"
          },
          "hoverlabel": {
           "align": "left"
          },
          "hovermode": "closest",
          "mapbox": {
           "style": "light"
          },
          "paper_bgcolor": "white",
          "plot_bgcolor": "#E5ECF6",
          "polar": {
           "angularaxis": {
            "gridcolor": "white",
            "linecolor": "white",
            "ticks": ""
           },
           "bgcolor": "#E5ECF6",
           "radialaxis": {
            "gridcolor": "white",
            "linecolor": "white",
            "ticks": ""
           }
          },
          "scene": {
           "xaxis": {
            "backgroundcolor": "#E5ECF6",
            "gridcolor": "white",
            "gridwidth": 2,
            "linecolor": "white",
            "showbackground": true,
            "ticks": "",
            "zerolinecolor": "white"
           },
           "yaxis": {
            "backgroundcolor": "#E5ECF6",
            "gridcolor": "white",
            "gridwidth": 2,
            "linecolor": "white",
            "showbackground": true,
            "ticks": "",
            "zerolinecolor": "white"
           },
           "zaxis": {
            "backgroundcolor": "#E5ECF6",
            "gridcolor": "white",
            "gridwidth": 2,
            "linecolor": "white",
            "showbackground": true,
            "ticks": "",
            "zerolinecolor": "white"
           }
          },
          "shapedefaults": {
           "line": {
            "color": "#2a3f5f"
           }
          },
          "ternary": {
           "aaxis": {
            "gridcolor": "white",
            "linecolor": "white",
            "ticks": ""
           },
           "baxis": {
            "gridcolor": "white",
            "linecolor": "white",
            "ticks": ""
           },
           "bgcolor": "#E5ECF6",
           "caxis": {
            "gridcolor": "white",
            "linecolor": "white",
            "ticks": ""
           }
          },
          "title": {
           "x": 0.05
          },
          "xaxis": {
           "automargin": true,
           "gridcolor": "white",
           "linecolor": "white",
           "ticks": "",
           "title": {
            "standoff": 15
           },
           "zerolinecolor": "white",
           "zerolinewidth": 2
          },
          "yaxis": {
           "automargin": true,
           "gridcolor": "white",
           "linecolor": "white",
           "ticks": "",
           "title": {
            "standoff": 15
           },
           "zerolinecolor": "white",
           "zerolinewidth": 2
          }
         }
        },
        "title": {
         "text": "TPM Expression Per hour at Station 130"
        },
        "width": 800,
        "xaxis": {
         "anchor": "y",
         "domain": [
          0,
          1
         ],
         "tickangle": -45,
         "title": {
          "text": "Date and Time"
         }
        },
        "yaxis": {
         "anchor": "x",
         "domain": [
          0,
          1
         ],
         "title": {
          "text": "Relative Expression"
         }
        }
       }
      }
     },
     "metadata": {},
     "output_type": "display_data"
    }
   ],
   "source": [
    "# Group by taxonomic level and sample, then sum TPM\n",
    "grouped_df = filtered_data.groupby(['Taxogroup2_UniEuk', 'Date'])['TPM'].sum().reset_index()\n",
    "\n",
    "grouped_df.head()\n",
    "# Normalize TPM sums to get relative expression per hour\n",
    "total_tpm_per_hour = grouped_df.groupby('Date')['TPM'].transform('sum')\n",
    "grouped_df['rel_expression_per_hour'] = grouped_df['TPM'] / total_tpm_per_hour\n",
    "\n",
    "# Combine low-abundant groups into a single 'Rare' category\n",
    "threshold = 0.05\n",
    "grouped_df.loc[grouped_df['rel_expression_per_hour'] <= threshold, 'Taxogroup2_UniEuk'] = 'Rare'\n",
    "\n",
    "# Combine 'core-Noctilucales' and 'Dinophyceae'\n",
    "grouped_df['Taxogroup2_UniEuk'] = grouped_df['Taxogroup2_UniEuk'].replace({'core-Noctilucales': 'Dinophyceae'})\n",
    "\n",
    "# Remove categories with no expression\n",
    "grouped_df = grouped_df[grouped_df['rel_expression_per_hour'] > 0]\n",
    "\n",
    "# Group once more to combine Rares\n",
    "grouped_df = grouped_df.groupby(['Taxogroup2_UniEuk', 'Date'])['TPM'].sum().reset_index()\n",
    "\n",
    "# Plot\n",
    "fig = px.bar(grouped_df, \n",
    "            x='Date', \n",
    "            y='TPM', \n",
    "            color='Taxogroup2_UniEuk',\n",
    "            title='TPM Expression Per hour at Station 130',\n",
    "            category_orders={\"Taxogroup2_UniEuk\": ['Arthropoda', 'Acantharea', 'Ctenophora', 'Diatomeae', 'Dinophyceae', \n",
    "                                                    'Florideophyceae','Odontella', 'Phaeodarea', 'Prymnesiophyceae',\n",
    "                                                    'Spirotrichea', 'Vertebrata', 'Rare',]},\n",
    "            color_discrete_map=color_discrete_map\n",
    "            )\n",
    "\n",
    "fig.update_layout(\n",
    "    width=800,\n",
    "    height=400,\n",
    "    xaxis_title='Date and Time',\n",
    "    yaxis_title='Relative Expression',\n",
    "    xaxis_tickangle=-45,\n",
    "    legend_title='Taxonomic Group'\n",
    ")\n",
    "\n",
    "# Save the figure\n",
    "filename_base = \"../figures/metatranscriptomics/130_expression_per_hour\"\n",
    "fig.write_image(filename_base + \".png\", scale=1)\n",
    "fig.write_image(filename_base + \".svg\", scale=1)\n",
    "\n",
    "fig.show()"
   ]
  },
  {
   "cell_type": "code",
   "execution_count": 10,
   "metadata": {},
   "outputs": [
    {
     "name": "stderr",
     "output_type": "stream",
     "text": [
      "/opt/homebrew/lib/python3.9/site-packages/_plotly_utils/basevalidators.py:107: FutureWarning:\n",
      "\n",
      "The behavior of DatetimeProperties.to_pydatetime is deprecated, in a future version this will return a Series containing python datetime objects instead of an ndarray. To retain the old behavior, call `np.array` on the result\n",
      "\n"
     ]
    },
    {
     "data": {
      "application/vnd.plotly.v1+json": {
       "config": {
        "plotlyServerURL": "https://plot.ly"
       },
       "data": [
        {
         "alignmentgroup": "True",
         "hovertemplate": "Taxogroup2_UniEuk=Arthropoda<br>Date=%{x}<br>rel_expression_per_hour=%{y}<extra></extra>",
         "legendgroup": "Arthropoda",
         "marker": {
          "color": "#0072B2",
          "pattern": {
           "shape": ""
          }
         },
         "name": "Arthropoda",
         "offsetgroup": "Arthropoda",
         "orientation": "v",
         "showlegend": true,
         "textposition": "auto",
         "type": "bar",
         "x": [
          "2023-04-18T11:11:00",
          "2023-04-18T12:05:00",
          "2023-04-18T13:08:00",
          "2023-04-18T14:05:00",
          "2023-04-18T15:07:00",
          "2023-04-18T16:00:00",
          "2023-04-18T17:03:00",
          "2023-04-18T18:04:00",
          "2023-04-18T19:11:00",
          "2023-04-18T20:05:00",
          "2023-04-18T21:07:00",
          "2023-04-18T22:02:00",
          "2023-04-18T23:11:00",
          "2023-04-19T00:07:00",
          "2023-04-19T01:03:00",
          "2023-04-19T01:59:00",
          "2023-04-19T04:00:00",
          "2023-04-19T05:02:00",
          "2023-04-19T06:02:00",
          "2023-04-19T07:03:00"
         ],
         "xaxis": "x",
         "y": [
          0.08785872906446457,
          0.3780413269996643,
          0.21182939410209656,
          0.35231491923332214,
          0.3715949058532715,
          0.2869957983493805,
          0.33219197392463684,
          0.33213356137275696,
          0.2460571974515915,
          0.3525918126106262,
          0.5042775273323059,
          0.3791179656982422,
          0.649570643901825,
          0.4647766947746277,
          0.29818931221961975,
          0.3695460557937622,
          0.44548603892326355,
          0.5634142160415649,
          0.5619356036186218,
          0.7106765508651733
         ],
         "yaxis": "y"
        },
        {
         "alignmentgroup": "True",
         "hovertemplate": "Taxogroup2_UniEuk=Ctenophora<br>Date=%{x}<br>rel_expression_per_hour=%{y}<extra></extra>",
         "legendgroup": "Ctenophora",
         "marker": {
          "color": "#ADA7A7",
          "pattern": {
           "shape": ""
          }
         },
         "name": "Ctenophora",
         "offsetgroup": "Ctenophora",
         "orientation": "v",
         "showlegend": true,
         "textposition": "auto",
         "type": "bar",
         "x": [
          "2023-04-18T13:08:00",
          "2023-04-18T16:00:00",
          "2023-04-18T17:03:00",
          "2023-04-18T18:04:00",
          "2023-04-18T20:05:00",
          "2023-04-18T21:07:00",
          "2023-04-18T22:02:00",
          "2023-04-18T23:11:00",
          "2023-04-19T01:03:00",
          "2023-04-19T01:59:00",
          "2023-04-19T04:00:00"
         ],
         "xaxis": "x",
         "y": [
          0.11080778390169144,
          0.05010595545172691,
          0.09331875294446945,
          0.20477423071861267,
          0.16078920662403107,
          0.07159402966499329,
          0.06006253883242607,
          0.08809873461723328,
          0.09960760921239853,
          0.06383585184812546,
          0.054925110191106796
         ],
         "yaxis": "y"
        },
        {
         "alignmentgroup": "True",
         "hovertemplate": "Taxogroup2_UniEuk=Diatomeae<br>Date=%{x}<br>rel_expression_per_hour=%{y}<extra></extra>",
         "legendgroup": "Diatomeae",
         "marker": {
          "color": "#E69F00",
          "pattern": {
           "shape": ""
          }
         },
         "name": "Diatomeae",
         "offsetgroup": "Diatomeae",
         "orientation": "v",
         "showlegend": true,
         "textposition": "auto",
         "type": "bar",
         "x": [
          "2023-04-18T11:11:00",
          "2023-04-18T12:05:00",
          "2023-04-18T13:08:00",
          "2023-04-18T14:05:00",
          "2023-04-18T15:07:00",
          "2023-04-18T17:03:00",
          "2023-04-18T18:04:00",
          "2023-04-18T20:05:00",
          "2023-04-18T22:02:00",
          "2023-04-19T00:07:00"
         ],
         "xaxis": "x",
         "y": [
          0.0829220712184906,
          0.06581003963947296,
          0.057634707540273666,
          0.05801825597882271,
          0.0559474416077137,
          0.05189139395952225,
          0.056992899626493454,
          0.052485428750514984,
          0.10843173414468765,
          0.0688912495970726
         ],
         "yaxis": "y"
        },
        {
         "alignmentgroup": "True",
         "hovertemplate": "Taxogroup2_UniEuk=Dinophyceae<br>Date=%{x}<br>rel_expression_per_hour=%{y}<extra></extra>",
         "legendgroup": "Dinophyceae",
         "marker": {
          "color": "#56B4E9",
          "pattern": {
           "shape": ""
          }
         },
         "name": "Dinophyceae",
         "offsetgroup": "Dinophyceae",
         "orientation": "v",
         "showlegend": true,
         "textposition": "auto",
         "type": "bar",
         "x": [
          "2023-04-18T11:11:00",
          "2023-04-18T12:05:00",
          "2023-04-18T13:08:00",
          "2023-04-18T14:05:00",
          "2023-04-18T15:07:00",
          "2023-04-18T16:00:00",
          "2023-04-18T17:03:00",
          "2023-04-18T18:04:00",
          "2023-04-18T19:11:00",
          "2023-04-18T20:05:00",
          "2023-04-18T21:07:00",
          "2023-04-19T01:03:00",
          "2023-04-19T01:59:00",
          "2023-04-19T02:59:00",
          "2023-04-19T04:00:00",
          "2023-04-19T05:02:00",
          "2023-04-19T06:02:00"
         ],
         "xaxis": "x",
         "y": [
          0.25380435585975647,
          0.07609386742115021,
          0.297462522983551,
          0.38905709981918335,
          0.44713687896728516,
          0.5130394697189331,
          0.35590824484825134,
          0.08967361599206924,
          0.5819911360740662,
          0.162212073802948,
          0.22356650233268738,
          0.09442109614610672,
          0.33945801854133606,
          0.07768695056438446,
          0.39311379194259644,
          0.23850011825561523,
          0.2035241425037384
         ],
         "yaxis": "y"
        },
        {
         "alignmentgroup": "True",
         "hovertemplate": "Taxogroup2_UniEuk=Florideophyceae<br>Date=%{x}<br>rel_expression_per_hour=%{y}<extra></extra>",
         "legendgroup": "Florideophyceae",
         "marker": {
          "color": "#CC79A7",
          "pattern": {
           "shape": ""
          }
         },
         "name": "Florideophyceae",
         "offsetgroup": "Florideophyceae",
         "orientation": "v",
         "showlegend": true,
         "textposition": "auto",
         "type": "bar",
         "x": [
          "2023-04-19T02:59:00"
         ],
         "xaxis": "x",
         "y": [
          0.06843694299459457
         ],
         "yaxis": "y"
        },
        {
         "alignmentgroup": "True",
         "hovertemplate": "Taxogroup2_UniEuk=Prymnesiophyceae<br>Date=%{x}<br>rel_expression_per_hour=%{y}<extra></extra>",
         "legendgroup": "Prymnesiophyceae",
         "marker": {
          "color": "#009E73",
          "pattern": {
           "shape": ""
          }
         },
         "name": "Prymnesiophyceae",
         "offsetgroup": "Prymnesiophyceae",
         "orientation": "v",
         "showlegend": true,
         "textposition": "auto",
         "type": "bar",
         "x": [
          "2023-04-18T11:11:00",
          "2023-04-18T12:05:00",
          "2023-04-18T13:08:00",
          "2023-04-18T14:05:00",
          "2023-04-18T18:04:00",
          "2023-04-18T20:05:00",
          "2023-04-18T21:07:00",
          "2023-04-18T22:02:00",
          "2023-04-18T23:11:00",
          "2023-04-19T00:07:00",
          "2023-04-19T01:03:00",
          "2023-04-19T05:02:00"
         ],
         "xaxis": "x",
         "y": [
          0.40415894985198975,
          0.27226731181144714,
          0.1490502953529358,
          0.0596507266163826,
          0.1390082687139511,
          0.12496510148048401,
          0.056647926568984985,
          0.22795075178146362,
          0.09197050333023071,
          0.25951874256134033,
          0.3533865213394165,
          0.06263893842697144
         ],
         "yaxis": "y"
        },
        {
         "alignmentgroup": "True",
         "hovertemplate": "Taxogroup2_UniEuk=Rare<br>Date=%{x}<br>rel_expression_per_hour=%{y}<extra></extra>",
         "legendgroup": "Rare",
         "marker": {
          "color": "#545454",
          "pattern": {
           "shape": ""
          }
         },
         "name": "Rare",
         "offsetgroup": "Rare",
         "orientation": "v",
         "showlegend": true,
         "textposition": "auto",
         "type": "bar",
         "x": [
          "2023-04-18T11:11:00",
          "2023-04-18T12:05:00",
          "2023-04-18T13:08:00",
          "2023-04-18T14:05:00",
          "2023-04-18T15:07:00",
          "2023-04-18T16:00:00",
          "2023-04-18T17:03:00",
          "2023-04-18T18:04:00",
          "2023-04-18T19:11:00",
          "2023-04-18T20:05:00",
          "2023-04-18T21:07:00",
          "2023-04-18T22:02:00",
          "2023-04-18T23:11:00",
          "2023-04-19T00:07:00",
          "2023-04-19T01:03:00",
          "2023-04-19T01:59:00",
          "2023-04-19T02:59:00",
          "2023-04-19T04:00:00",
          "2023-04-19T05:02:00",
          "2023-04-19T06:02:00",
          "2023-04-19T07:03:00"
         ],
         "xaxis": "x",
         "y": [
          0.1712559312582016,
          0.2077874392271042,
          0.1732153296470642,
          0.1409589797258377,
          0.125320702791214,
          0.14985878765583038,
          0.1666896641254425,
          0.17741748690605164,
          0.17195166647434235,
          0.1469564139842987,
          0.14391396939754486,
          0.22443705797195435,
          0.17036011815071106,
          0.20681335031986237,
          0.1543954461812973,
          0.22716008126735687,
          0.37378498911857605,
          0.10647508502006531,
          0.13544677197933197,
          0.2345402091741562,
          0.28932347893714905
         ],
         "yaxis": "y"
        },
        {
         "alignmentgroup": "True",
         "hovertemplate": "Taxogroup2_UniEuk=Cariacotrichea<br>Date=%{x}<br>rel_expression_per_hour=%{y}<extra></extra>",
         "legendgroup": "Cariacotrichea",
         "marker": {
          "color": "#ab63fa",
          "pattern": {
           "shape": ""
          }
         },
         "name": "Cariacotrichea",
         "offsetgroup": "Cariacotrichea",
         "orientation": "v",
         "showlegend": true,
         "textposition": "auto",
         "type": "bar",
         "x": [
          "2023-04-19T02:59:00"
         ],
         "xaxis": "x",
         "y": [
          0.35444194078445435
         ],
         "yaxis": "y"
        },
        {
         "alignmentgroup": "True",
         "hovertemplate": "Taxogroup2_UniEuk=Foraminifera<br>Date=%{x}<br>rel_expression_per_hour=%{y}<extra></extra>",
         "legendgroup": "Foraminifera",
         "marker": {
          "color": "#FFA15A",
          "pattern": {
           "shape": ""
          }
         },
         "name": "Foraminifera",
         "offsetgroup": "Foraminifera",
         "orientation": "v",
         "showlegend": true,
         "textposition": "auto",
         "type": "bar",
         "x": [
          "2023-04-19T02:59:00"
         ],
         "xaxis": "x",
         "y": [
          0.056509554386138916
         ],
         "yaxis": "y"
        },
        {
         "alignmentgroup": "True",
         "hovertemplate": "Taxogroup2_UniEuk=Hemistasiidae<br>Date=%{x}<br>rel_expression_per_hour=%{y}<extra></extra>",
         "legendgroup": "Hemistasiidae",
         "marker": {
          "color": "#19d3f3",
          "pattern": {
           "shape": ""
          }
         },
         "name": "Hemistasiidae",
         "offsetgroup": "Hemistasiidae",
         "orientation": "v",
         "showlegend": true,
         "textposition": "auto",
         "type": "bar",
         "x": [
          "2023-04-19T02:59:00"
         ],
         "xaxis": "x",
         "y": [
          0.06913960725069046
         ],
         "yaxis": "y"
        }
       ],
       "layout": {
        "barmode": "relative",
        "height": 400,
        "legend": {
         "title": {
          "text": "Taxonomic Group"
         },
         "tracegroupgap": 0
        },
        "template": {
         "data": {
          "bar": [
           {
            "error_x": {
             "color": "#2a3f5f"
            },
            "error_y": {
             "color": "#2a3f5f"
            },
            "marker": {
             "line": {
              "color": "#E5ECF6",
              "width": 0.5
             },
             "pattern": {
              "fillmode": "overlay",
              "size": 10,
              "solidity": 0.2
             }
            },
            "type": "bar"
           }
          ],
          "barpolar": [
           {
            "marker": {
             "line": {
              "color": "#E5ECF6",
              "width": 0.5
             },
             "pattern": {
              "fillmode": "overlay",
              "size": 10,
              "solidity": 0.2
             }
            },
            "type": "barpolar"
           }
          ],
          "carpet": [
           {
            "aaxis": {
             "endlinecolor": "#2a3f5f",
             "gridcolor": "white",
             "linecolor": "white",
             "minorgridcolor": "white",
             "startlinecolor": "#2a3f5f"
            },
            "baxis": {
             "endlinecolor": "#2a3f5f",
             "gridcolor": "white",
             "linecolor": "white",
             "minorgridcolor": "white",
             "startlinecolor": "#2a3f5f"
            },
            "type": "carpet"
           }
          ],
          "choropleth": [
           {
            "colorbar": {
             "outlinewidth": 0,
             "ticks": ""
            },
            "type": "choropleth"
           }
          ],
          "contour": [
           {
            "colorbar": {
             "outlinewidth": 0,
             "ticks": ""
            },
            "colorscale": [
             [
              0,
              "#0d0887"
             ],
             [
              0.1111111111111111,
              "#46039f"
             ],
             [
              0.2222222222222222,
              "#7201a8"
             ],
             [
              0.3333333333333333,
              "#9c179e"
             ],
             [
              0.4444444444444444,
              "#bd3786"
             ],
             [
              0.5555555555555556,
              "#d8576b"
             ],
             [
              0.6666666666666666,
              "#ed7953"
             ],
             [
              0.7777777777777778,
              "#fb9f3a"
             ],
             [
              0.8888888888888888,
              "#fdca26"
             ],
             [
              1,
              "#f0f921"
             ]
            ],
            "type": "contour"
           }
          ],
          "contourcarpet": [
           {
            "colorbar": {
             "outlinewidth": 0,
             "ticks": ""
            },
            "type": "contourcarpet"
           }
          ],
          "heatmap": [
           {
            "colorbar": {
             "outlinewidth": 0,
             "ticks": ""
            },
            "colorscale": [
             [
              0,
              "#0d0887"
             ],
             [
              0.1111111111111111,
              "#46039f"
             ],
             [
              0.2222222222222222,
              "#7201a8"
             ],
             [
              0.3333333333333333,
              "#9c179e"
             ],
             [
              0.4444444444444444,
              "#bd3786"
             ],
             [
              0.5555555555555556,
              "#d8576b"
             ],
             [
              0.6666666666666666,
              "#ed7953"
             ],
             [
              0.7777777777777778,
              "#fb9f3a"
             ],
             [
              0.8888888888888888,
              "#fdca26"
             ],
             [
              1,
              "#f0f921"
             ]
            ],
            "type": "heatmap"
           }
          ],
          "heatmapgl": [
           {
            "colorbar": {
             "outlinewidth": 0,
             "ticks": ""
            },
            "colorscale": [
             [
              0,
              "#0d0887"
             ],
             [
              0.1111111111111111,
              "#46039f"
             ],
             [
              0.2222222222222222,
              "#7201a8"
             ],
             [
              0.3333333333333333,
              "#9c179e"
             ],
             [
              0.4444444444444444,
              "#bd3786"
             ],
             [
              0.5555555555555556,
              "#d8576b"
             ],
             [
              0.6666666666666666,
              "#ed7953"
             ],
             [
              0.7777777777777778,
              "#fb9f3a"
             ],
             [
              0.8888888888888888,
              "#fdca26"
             ],
             [
              1,
              "#f0f921"
             ]
            ],
            "type": "heatmapgl"
           }
          ],
          "histogram": [
           {
            "marker": {
             "pattern": {
              "fillmode": "overlay",
              "size": 10,
              "solidity": 0.2
             }
            },
            "type": "histogram"
           }
          ],
          "histogram2d": [
           {
            "colorbar": {
             "outlinewidth": 0,
             "ticks": ""
            },
            "colorscale": [
             [
              0,
              "#0d0887"
             ],
             [
              0.1111111111111111,
              "#46039f"
             ],
             [
              0.2222222222222222,
              "#7201a8"
             ],
             [
              0.3333333333333333,
              "#9c179e"
             ],
             [
              0.4444444444444444,
              "#bd3786"
             ],
             [
              0.5555555555555556,
              "#d8576b"
             ],
             [
              0.6666666666666666,
              "#ed7953"
             ],
             [
              0.7777777777777778,
              "#fb9f3a"
             ],
             [
              0.8888888888888888,
              "#fdca26"
             ],
             [
              1,
              "#f0f921"
             ]
            ],
            "type": "histogram2d"
           }
          ],
          "histogram2dcontour": [
           {
            "colorbar": {
             "outlinewidth": 0,
             "ticks": ""
            },
            "colorscale": [
             [
              0,
              "#0d0887"
             ],
             [
              0.1111111111111111,
              "#46039f"
             ],
             [
              0.2222222222222222,
              "#7201a8"
             ],
             [
              0.3333333333333333,
              "#9c179e"
             ],
             [
              0.4444444444444444,
              "#bd3786"
             ],
             [
              0.5555555555555556,
              "#d8576b"
             ],
             [
              0.6666666666666666,
              "#ed7953"
             ],
             [
              0.7777777777777778,
              "#fb9f3a"
             ],
             [
              0.8888888888888888,
              "#fdca26"
             ],
             [
              1,
              "#f0f921"
             ]
            ],
            "type": "histogram2dcontour"
           }
          ],
          "mesh3d": [
           {
            "colorbar": {
             "outlinewidth": 0,
             "ticks": ""
            },
            "type": "mesh3d"
           }
          ],
          "parcoords": [
           {
            "line": {
             "colorbar": {
              "outlinewidth": 0,
              "ticks": ""
             }
            },
            "type": "parcoords"
           }
          ],
          "pie": [
           {
            "automargin": true,
            "type": "pie"
           }
          ],
          "scatter": [
           {
            "marker": {
             "colorbar": {
              "outlinewidth": 0,
              "ticks": ""
             }
            },
            "type": "scatter"
           }
          ],
          "scatter3d": [
           {
            "line": {
             "colorbar": {
              "outlinewidth": 0,
              "ticks": ""
             }
            },
            "marker": {
             "colorbar": {
              "outlinewidth": 0,
              "ticks": ""
             }
            },
            "type": "scatter3d"
           }
          ],
          "scattercarpet": [
           {
            "marker": {
             "colorbar": {
              "outlinewidth": 0,
              "ticks": ""
             }
            },
            "type": "scattercarpet"
           }
          ],
          "scattergeo": [
           {
            "marker": {
             "colorbar": {
              "outlinewidth": 0,
              "ticks": ""
             }
            },
            "type": "scattergeo"
           }
          ],
          "scattergl": [
           {
            "marker": {
             "colorbar": {
              "outlinewidth": 0,
              "ticks": ""
             }
            },
            "type": "scattergl"
           }
          ],
          "scattermapbox": [
           {
            "marker": {
             "colorbar": {
              "outlinewidth": 0,
              "ticks": ""
             }
            },
            "type": "scattermapbox"
           }
          ],
          "scatterpolar": [
           {
            "marker": {
             "colorbar": {
              "outlinewidth": 0,
              "ticks": ""
             }
            },
            "type": "scatterpolar"
           }
          ],
          "scatterpolargl": [
           {
            "marker": {
             "colorbar": {
              "outlinewidth": 0,
              "ticks": ""
             }
            },
            "type": "scatterpolargl"
           }
          ],
          "scatterternary": [
           {
            "marker": {
             "colorbar": {
              "outlinewidth": 0,
              "ticks": ""
             }
            },
            "type": "scatterternary"
           }
          ],
          "surface": [
           {
            "colorbar": {
             "outlinewidth": 0,
             "ticks": ""
            },
            "colorscale": [
             [
              0,
              "#0d0887"
             ],
             [
              0.1111111111111111,
              "#46039f"
             ],
             [
              0.2222222222222222,
              "#7201a8"
             ],
             [
              0.3333333333333333,
              "#9c179e"
             ],
             [
              0.4444444444444444,
              "#bd3786"
             ],
             [
              0.5555555555555556,
              "#d8576b"
             ],
             [
              0.6666666666666666,
              "#ed7953"
             ],
             [
              0.7777777777777778,
              "#fb9f3a"
             ],
             [
              0.8888888888888888,
              "#fdca26"
             ],
             [
              1,
              "#f0f921"
             ]
            ],
            "type": "surface"
           }
          ],
          "table": [
           {
            "cells": {
             "fill": {
              "color": "#EBF0F8"
             },
             "line": {
              "color": "white"
             }
            },
            "header": {
             "fill": {
              "color": "#C8D4E3"
             },
             "line": {
              "color": "white"
             }
            },
            "type": "table"
           }
          ]
         },
         "layout": {
          "annotationdefaults": {
           "arrowcolor": "#2a3f5f",
           "arrowhead": 0,
           "arrowwidth": 1
          },
          "autotypenumbers": "strict",
          "coloraxis": {
           "colorbar": {
            "outlinewidth": 0,
            "ticks": ""
           }
          },
          "colorscale": {
           "diverging": [
            [
             0,
             "#8e0152"
            ],
            [
             0.1,
             "#c51b7d"
            ],
            [
             0.2,
             "#de77ae"
            ],
            [
             0.3,
             "#f1b6da"
            ],
            [
             0.4,
             "#fde0ef"
            ],
            [
             0.5,
             "#f7f7f7"
            ],
            [
             0.6,
             "#e6f5d0"
            ],
            [
             0.7,
             "#b8e186"
            ],
            [
             0.8,
             "#7fbc41"
            ],
            [
             0.9,
             "#4d9221"
            ],
            [
             1,
             "#276419"
            ]
           ],
           "sequential": [
            [
             0,
             "#0d0887"
            ],
            [
             0.1111111111111111,
             "#46039f"
            ],
            [
             0.2222222222222222,
             "#7201a8"
            ],
            [
             0.3333333333333333,
             "#9c179e"
            ],
            [
             0.4444444444444444,
             "#bd3786"
            ],
            [
             0.5555555555555556,
             "#d8576b"
            ],
            [
             0.6666666666666666,
             "#ed7953"
            ],
            [
             0.7777777777777778,
             "#fb9f3a"
            ],
            [
             0.8888888888888888,
             "#fdca26"
            ],
            [
             1,
             "#f0f921"
            ]
           ],
           "sequentialminus": [
            [
             0,
             "#0d0887"
            ],
            [
             0.1111111111111111,
             "#46039f"
            ],
            [
             0.2222222222222222,
             "#7201a8"
            ],
            [
             0.3333333333333333,
             "#9c179e"
            ],
            [
             0.4444444444444444,
             "#bd3786"
            ],
            [
             0.5555555555555556,
             "#d8576b"
            ],
            [
             0.6666666666666666,
             "#ed7953"
            ],
            [
             0.7777777777777778,
             "#fb9f3a"
            ],
            [
             0.8888888888888888,
             "#fdca26"
            ],
            [
             1,
             "#f0f921"
            ]
           ]
          },
          "colorway": [
           "#636efa",
           "#EF553B",
           "#00cc96",
           "#ab63fa",
           "#FFA15A",
           "#19d3f3",
           "#FF6692",
           "#B6E880",
           "#FF97FF",
           "#FECB52"
          ],
          "font": {
           "color": "#2a3f5f"
          },
          "geo": {
           "bgcolor": "white",
           "lakecolor": "white",
           "landcolor": "#E5ECF6",
           "showlakes": true,
           "showland": true,
           "subunitcolor": "white"
          },
          "hoverlabel": {
           "align": "left"
          },
          "hovermode": "closest",
          "mapbox": {
           "style": "light"
          },
          "paper_bgcolor": "white",
          "plot_bgcolor": "#E5ECF6",
          "polar": {
           "angularaxis": {
            "gridcolor": "white",
            "linecolor": "white",
            "ticks": ""
           },
           "bgcolor": "#E5ECF6",
           "radialaxis": {
            "gridcolor": "white",
            "linecolor": "white",
            "ticks": ""
           }
          },
          "scene": {
           "xaxis": {
            "backgroundcolor": "#E5ECF6",
            "gridcolor": "white",
            "gridwidth": 2,
            "linecolor": "white",
            "showbackground": true,
            "ticks": "",
            "zerolinecolor": "white"
           },
           "yaxis": {
            "backgroundcolor": "#E5ECF6",
            "gridcolor": "white",
            "gridwidth": 2,
            "linecolor": "white",
            "showbackground": true,
            "ticks": "",
            "zerolinecolor": "white"
           },
           "zaxis": {
            "backgroundcolor": "#E5ECF6",
            "gridcolor": "white",
            "gridwidth": 2,
            "linecolor": "white",
            "showbackground": true,
            "ticks": "",
            "zerolinecolor": "white"
           }
          },
          "shapedefaults": {
           "line": {
            "color": "#2a3f5f"
           }
          },
          "ternary": {
           "aaxis": {
            "gridcolor": "white",
            "linecolor": "white",
            "ticks": ""
           },
           "baxis": {
            "gridcolor": "white",
            "linecolor": "white",
            "ticks": ""
           },
           "bgcolor": "#E5ECF6",
           "caxis": {
            "gridcolor": "white",
            "linecolor": "white",
            "ticks": ""
           }
          },
          "title": {
           "x": 0.05
          },
          "xaxis": {
           "automargin": true,
           "gridcolor": "white",
           "linecolor": "white",
           "ticks": "",
           "title": {
            "standoff": 15
           },
           "zerolinecolor": "white",
           "zerolinewidth": 2
          },
          "yaxis": {
           "automargin": true,
           "gridcolor": "white",
           "linecolor": "white",
           "ticks": "",
           "title": {
            "standoff": 15
           },
           "zerolinecolor": "white",
           "zerolinewidth": 2
          }
         }
        },
        "title": {
         "text": "Relative Expression Per Hour at Station 51"
        },
        "width": 800,
        "xaxis": {
         "anchor": "y",
         "domain": [
          0,
          1
         ],
         "tickangle": -45,
         "title": {
          "text": "Date and Time"
         }
        },
        "yaxis": {
         "anchor": "x",
         "domain": [
          0,
          1
         ],
         "title": {
          "text": "Relative Expression"
         }
        }
       }
      }
     },
     "metadata": {},
     "output_type": "display_data"
    }
   ],
   "source": [
    "# Filter data based on TPM and p_ident thresholds\n",
    "filtered_data = data_51[(data_51['p_ident'] >= 0.75)]\n",
    "\n",
    "# Group by taxonomic level and sample, then sum TPM\n",
    "grouped_df = filtered_data.groupby(['Taxogroup2_UniEuk', 'Date'])['TPM'].sum().reset_index()\n",
    "\n",
    "grouped_df.head()\n",
    "# Normalize TPM sums to get relative expression per hour\n",
    "total_tpm_per_hour = grouped_df.groupby('Date')['TPM'].transform('sum')\n",
    "grouped_df['rel_expression_per_hour'] = grouped_df['TPM'] / total_tpm_per_hour\n",
    "\n",
    "# Combine low-abundant groups into a single 'Rare' category\n",
    "threshold = 0.05\n",
    "grouped_df.loc[grouped_df['rel_expression_per_hour'] <= threshold, 'Taxogroup2_UniEuk'] = 'Rare'\n",
    "\n",
    "# Combine 'core-Noctilucales' and 'Dinophyceae'\n",
    "grouped_df['Taxogroup2_UniEuk'] = grouped_df['Taxogroup2_UniEuk'].replace({'core-Noctilucales': 'Dinophyceae'})\n",
    "\n",
    "# Remove categories with no expression\n",
    "grouped_df = grouped_df[grouped_df['rel_expression_per_hour'] > 0]\n",
    "\n",
    "# Group once more to combine Rares\n",
    "grouped_df = grouped_df.groupby(['Taxogroup2_UniEuk', 'Date'])['rel_expression_per_hour'].sum().reset_index()\n",
    "\n",
    "# Plot\n",
    "fig = px.bar(grouped_df, \n",
    "            x='Date', \n",
    "            y='rel_expression_per_hour', \n",
    "            color='Taxogroup2_UniEuk',\n",
    "            title='Relative Expression Per Hour at Station 51',\n",
    "            category_orders={\"Taxogroup2_UniEuk\": ['Arthropoda', 'Acantharea', 'Ctenophora', 'Diatomeae', 'Dinophyceae', \n",
    "                                                    'Florideophyceae','Odontella', 'Phaeodarea', 'Prymnesiophyceae',\n",
    "                                                    'Spirotrichea', 'Vertebrata', 'Rare',]},\n",
    "            color_discrete_map=color_discrete_map\n",
    "            )\n",
    "\n",
    "fig.update_layout(\n",
    "    width=800,\n",
    "    height=400,\n",
    "    xaxis_title='Date and Time',\n",
    "    yaxis_title='Relative Expression',\n",
    "    xaxis_tickangle=-45,\n",
    "    legend_title='Taxonomic Group'\n",
    ")\n",
    "\n",
    "# Save the figure\n",
    "filename_base = \"../figures/metatranscriptomics/51_relative_expression_per_hour\"\n",
    "fig.write_image(filename_base + \".png\", scale=1)\n",
    "fig.write_image(filename_base + \".svg\", scale=1)\n",
    "\n",
    "fig.show()"
   ]
  },
  {
   "cell_type": "code",
   "execution_count": 11,
   "metadata": {},
   "outputs": [
    {
     "name": "stderr",
     "output_type": "stream",
     "text": [
      "/opt/homebrew/lib/python3.9/site-packages/_plotly_utils/basevalidators.py:107: FutureWarning:\n",
      "\n",
      "The behavior of DatetimeProperties.to_pydatetime is deprecated, in a future version this will return a Series containing python datetime objects instead of an ndarray. To retain the old behavior, call `np.array` on the result\n",
      "\n"
     ]
    },
    {
     "data": {
      "application/vnd.plotly.v1+json": {
       "config": {
        "plotlyServerURL": "https://plot.ly"
       },
       "data": [
        {
         "alignmentgroup": "True",
         "hovertemplate": "Taxogroup2_UniEuk=Arthropoda<br>Date=%{x}<br>TPM=%{y}<extra></extra>",
         "legendgroup": "Arthropoda",
         "marker": {
          "color": "#0072B2",
          "pattern": {
           "shape": ""
          }
         },
         "name": "Arthropoda",
         "offsetgroup": "Arthropoda",
         "orientation": "v",
         "showlegend": true,
         "textposition": "auto",
         "type": "bar",
         "x": [
          "2023-04-18T11:11:00",
          "2023-04-18T12:05:00",
          "2023-04-18T13:08:00",
          "2023-04-18T14:05:00",
          "2023-04-18T15:07:00",
          "2023-04-18T16:00:00",
          "2023-04-18T17:03:00",
          "2023-04-18T18:04:00",
          "2023-04-18T19:11:00",
          "2023-04-18T20:05:00",
          "2023-04-18T21:07:00",
          "2023-04-18T22:02:00",
          "2023-04-18T23:11:00",
          "2023-04-19T00:07:00",
          "2023-04-19T01:03:00",
          "2023-04-19T01:59:00",
          "2023-04-19T04:00:00",
          "2023-04-19T05:02:00",
          "2023-04-19T06:02:00",
          "2023-04-19T07:03:00"
         ],
         "xaxis": "x",
         "y": [
          6455.9287109375,
          23762.73046875,
          14619.865234375,
          20150.09375,
          24378.185546875,
          23721.771484375,
          22568.798828125,
          18520.8984375,
          15673.97265625,
          20026.28515625,
          23203.00390625,
          15646.1875,
          29946.85546875,
          21258.67578125,
          12942.8916015625,
          21995.37109375,
          31490.599609375,
          30840.837890625,
          37167.265625,
          36707.875
         ],
         "yaxis": "y"
        },
        {
         "alignmentgroup": "True",
         "hovertemplate": "Taxogroup2_UniEuk=Ctenophora<br>Date=%{x}<br>TPM=%{y}<extra></extra>",
         "legendgroup": "Ctenophora",
         "marker": {
          "color": "#ADA7A7",
          "pattern": {
           "shape": ""
          }
         },
         "name": "Ctenophora",
         "offsetgroup": "Ctenophora",
         "orientation": "v",
         "showlegend": true,
         "textposition": "auto",
         "type": "bar",
         "x": [
          "2023-04-18T13:08:00",
          "2023-04-18T16:00:00",
          "2023-04-18T17:03:00",
          "2023-04-18T18:04:00",
          "2023-04-18T20:05:00",
          "2023-04-18T21:07:00",
          "2023-04-18T22:02:00",
          "2023-04-18T23:11:00",
          "2023-04-19T01:03:00",
          "2023-04-19T01:59:00",
          "2023-04-19T04:00:00"
         ],
         "xaxis": "x",
         "y": [
          7647.6396484375,
          4141.53125,
          6339.98486328125,
          11418.908203125,
          9132.4033203125,
          3294.210693359375,
          2478.779296875,
          4061.575439453125,
          4323.46337890625,
          3799.50830078125,
          3882.556396484375
         ],
         "yaxis": "y"
        },
        {
         "alignmentgroup": "True",
         "hovertemplate": "Taxogroup2_UniEuk=Diatomeae<br>Date=%{x}<br>TPM=%{y}<extra></extra>",
         "legendgroup": "Diatomeae",
         "marker": {
          "color": "#E69F00",
          "pattern": {
           "shape": ""
          }
         },
         "name": "Diatomeae",
         "offsetgroup": "Diatomeae",
         "orientation": "v",
         "showlegend": true,
         "textposition": "auto",
         "type": "bar",
         "x": [
          "2023-04-18T11:11:00",
          "2023-04-18T12:05:00",
          "2023-04-18T13:08:00",
          "2023-04-18T14:05:00",
          "2023-04-18T15:07:00",
          "2023-04-18T17:03:00",
          "2023-04-18T18:04:00",
          "2023-04-18T20:05:00",
          "2023-04-18T22:02:00",
          "2023-04-19T00:07:00"
         ],
         "xaxis": "x",
         "y": [
          6093.17919921875,
          4136.654296875,
          3977.784423828125,
          3318.26220703125,
          3670.386962890625,
          3525.45068359375,
          3178.1181640625,
          2981.033935546875,
          4474.974609375,
          3151.0546875
         ],
         "yaxis": "y"
        },
        {
         "alignmentgroup": "True",
         "hovertemplate": "Taxogroup2_UniEuk=Dinophyceae<br>Date=%{x}<br>TPM=%{y}<extra></extra>",
         "legendgroup": "Dinophyceae",
         "marker": {
          "color": "#56B4E9",
          "pattern": {
           "shape": ""
          }
         },
         "name": "Dinophyceae",
         "offsetgroup": "Dinophyceae",
         "orientation": "v",
         "showlegend": true,
         "textposition": "auto",
         "type": "bar",
         "x": [
          "2023-04-18T11:11:00",
          "2023-04-18T12:05:00",
          "2023-04-18T13:08:00",
          "2023-04-18T14:05:00",
          "2023-04-18T15:07:00",
          "2023-04-18T16:00:00",
          "2023-04-18T17:03:00",
          "2023-04-18T18:04:00",
          "2023-04-18T19:11:00",
          "2023-04-18T20:05:00",
          "2023-04-18T21:07:00",
          "2023-04-19T01:03:00",
          "2023-04-19T01:59:00",
          "2023-04-19T02:59:00",
          "2023-04-19T04:00:00",
          "2023-04-19T05:02:00",
          "2023-04-19T06:02:00"
         ],
         "xaxis": "x",
         "y": [
          18649.744140625,
          4783.06982421875,
          20530.021484375,
          22251.50390625,
          29334.0546875,
          42405.515625,
          24180.05859375,
          5000.50634765625,
          37073.140625,
          9213.2177734375,
          10286.82421875,
          4098.3427734375,
          20204.53125,
          103.0066146850586,
          27788.501953125,
          13055.3037109375,
          13461.3916015625
         ],
         "yaxis": "y"
        },
        {
         "alignmentgroup": "True",
         "hovertemplate": "Taxogroup2_UniEuk=Florideophyceae<br>Date=%{x}<br>TPM=%{y}<extra></extra>",
         "legendgroup": "Florideophyceae",
         "marker": {
          "color": "#CC79A7",
          "pattern": {
           "shape": ""
          }
         },
         "name": "Florideophyceae",
         "offsetgroup": "Florideophyceae",
         "orientation": "v",
         "showlegend": true,
         "textposition": "auto",
         "type": "bar",
         "x": [
          "2023-04-19T02:59:00"
         ],
         "xaxis": "x",
         "y": [
          90.74185180664062
         ],
         "yaxis": "y"
        },
        {
         "alignmentgroup": "True",
         "hovertemplate": "Taxogroup2_UniEuk=Prymnesiophyceae<br>Date=%{x}<br>TPM=%{y}<extra></extra>",
         "legendgroup": "Prymnesiophyceae",
         "marker": {
          "color": "#009E73",
          "pattern": {
           "shape": ""
          }
         },
         "name": "Prymnesiophyceae",
         "offsetgroup": "Prymnesiophyceae",
         "orientation": "v",
         "showlegend": true,
         "textposition": "auto",
         "type": "bar",
         "x": [
          "2023-04-18T11:11:00",
          "2023-04-18T12:05:00",
          "2023-04-18T13:08:00",
          "2023-04-18T14:05:00",
          "2023-04-18T18:04:00",
          "2023-04-18T20:05:00",
          "2023-04-18T21:07:00",
          "2023-04-18T22:02:00",
          "2023-04-18T23:11:00",
          "2023-04-19T00:07:00",
          "2023-04-19T01:03:00",
          "2023-04-19T05:02:00"
         ],
         "xaxis": "x",
         "y": [
          29697.91796875,
          17114.041015625,
          10287.0302734375,
          3411.628662109375,
          7751.57421875,
          7097.6884765625,
          2606.505126953125,
          9407.521484375,
          4240.07373046875,
          11870.26953125,
          15338.7236328125,
          3428.804931640625
         ],
         "yaxis": "y"
        },
        {
         "alignmentgroup": "True",
         "hovertemplate": "Taxogroup2_UniEuk=Rare<br>Date=%{x}<br>TPM=%{y}<extra></extra>",
         "legendgroup": "Rare",
         "marker": {
          "color": "#545454",
          "pattern": {
           "shape": ""
          }
         },
         "name": "Rare",
         "offsetgroup": "Rare",
         "orientation": "v",
         "showlegend": true,
         "textposition": "auto",
         "type": "bar",
         "x": [
          "2023-04-18T11:11:00",
          "2023-04-18T12:05:00",
          "2023-04-18T13:08:00",
          "2023-04-18T14:05:00",
          "2023-04-18T15:07:00",
          "2023-04-18T16:00:00",
          "2023-04-18T17:03:00",
          "2023-04-18T18:04:00",
          "2023-04-18T19:11:00",
          "2023-04-18T20:05:00",
          "2023-04-18T21:07:00",
          "2023-04-18T22:02:00",
          "2023-04-18T23:11:00",
          "2023-04-19T00:07:00",
          "2023-04-19T01:03:00",
          "2023-04-19T01:59:00",
          "2023-04-19T02:59:00",
          "2023-04-19T04:00:00",
          "2023-04-19T05:02:00",
          "2023-04-19T06:02:00",
          "2023-04-19T07:03:00"
         ],
         "xaxis": "x",
         "y": [
          12584.021484375,
          13060.998046875,
          11954.83203125,
          8061.92529296875,
          8221.564453125,
          12386.6484375,
          11324.732421875,
          9893.4033203125,
          10953.4111328125,
          8346.736328125,
          6621.822265625,
          9262.5107421875,
          7854.0341796875,
          9459.548828125,
          6701.52685546875,
          13520.5615234375,
          495.60870361328125,
          7526.53076171875,
          7414.24658203125,
          15512.841796875,
          14944.1396484375
         ],
         "yaxis": "y"
        },
        {
         "alignmentgroup": "True",
         "hovertemplate": "Taxogroup2_UniEuk=Cariacotrichea<br>Date=%{x}<br>TPM=%{y}<extra></extra>",
         "legendgroup": "Cariacotrichea",
         "marker": {
          "color": "#ab63fa",
          "pattern": {
           "shape": ""
          }
         },
         "name": "Cariacotrichea",
         "offsetgroup": "Cariacotrichea",
         "orientation": "v",
         "showlegend": true,
         "textposition": "auto",
         "type": "bar",
         "x": [
          "2023-04-19T02:59:00"
         ],
         "xaxis": "x",
         "y": [
          469.96136474609375
         ],
         "yaxis": "y"
        },
        {
         "alignmentgroup": "True",
         "hovertemplate": "Taxogroup2_UniEuk=Foraminifera<br>Date=%{x}<br>TPM=%{y}<extra></extra>",
         "legendgroup": "Foraminifera",
         "marker": {
          "color": "#FFA15A",
          "pattern": {
           "shape": ""
          }
         },
         "name": "Foraminifera",
         "offsetgroup": "Foraminifera",
         "orientation": "v",
         "showlegend": true,
         "textposition": "auto",
         "type": "bar",
         "x": [
          "2023-04-19T02:59:00"
         ],
         "xaxis": "x",
         "y": [
          74.9271011352539
         ],
         "yaxis": "y"
        },
        {
         "alignmentgroup": "True",
         "hovertemplate": "Taxogroup2_UniEuk=Hemistasiidae<br>Date=%{x}<br>TPM=%{y}<extra></extra>",
         "legendgroup": "Hemistasiidae",
         "marker": {
          "color": "#19d3f3",
          "pattern": {
           "shape": ""
          }
         },
         "name": "Hemistasiidae",
         "offsetgroup": "Hemistasiidae",
         "orientation": "v",
         "showlegend": true,
         "textposition": "auto",
         "type": "bar",
         "x": [
          "2023-04-19T02:59:00"
         ],
         "xaxis": "x",
         "y": [
          91.67353057861328
         ],
         "yaxis": "y"
        }
       ],
       "layout": {
        "barmode": "relative",
        "height": 400,
        "legend": {
         "title": {
          "text": "Taxonomic Group"
         },
         "tracegroupgap": 0
        },
        "template": {
         "data": {
          "bar": [
           {
            "error_x": {
             "color": "#2a3f5f"
            },
            "error_y": {
             "color": "#2a3f5f"
            },
            "marker": {
             "line": {
              "color": "#E5ECF6",
              "width": 0.5
             },
             "pattern": {
              "fillmode": "overlay",
              "size": 10,
              "solidity": 0.2
             }
            },
            "type": "bar"
           }
          ],
          "barpolar": [
           {
            "marker": {
             "line": {
              "color": "#E5ECF6",
              "width": 0.5
             },
             "pattern": {
              "fillmode": "overlay",
              "size": 10,
              "solidity": 0.2
             }
            },
            "type": "barpolar"
           }
          ],
          "carpet": [
           {
            "aaxis": {
             "endlinecolor": "#2a3f5f",
             "gridcolor": "white",
             "linecolor": "white",
             "minorgridcolor": "white",
             "startlinecolor": "#2a3f5f"
            },
            "baxis": {
             "endlinecolor": "#2a3f5f",
             "gridcolor": "white",
             "linecolor": "white",
             "minorgridcolor": "white",
             "startlinecolor": "#2a3f5f"
            },
            "type": "carpet"
           }
          ],
          "choropleth": [
           {
            "colorbar": {
             "outlinewidth": 0,
             "ticks": ""
            },
            "type": "choropleth"
           }
          ],
          "contour": [
           {
            "colorbar": {
             "outlinewidth": 0,
             "ticks": ""
            },
            "colorscale": [
             [
              0,
              "#0d0887"
             ],
             [
              0.1111111111111111,
              "#46039f"
             ],
             [
              0.2222222222222222,
              "#7201a8"
             ],
             [
              0.3333333333333333,
              "#9c179e"
             ],
             [
              0.4444444444444444,
              "#bd3786"
             ],
             [
              0.5555555555555556,
              "#d8576b"
             ],
             [
              0.6666666666666666,
              "#ed7953"
             ],
             [
              0.7777777777777778,
              "#fb9f3a"
             ],
             [
              0.8888888888888888,
              "#fdca26"
             ],
             [
              1,
              "#f0f921"
             ]
            ],
            "type": "contour"
           }
          ],
          "contourcarpet": [
           {
            "colorbar": {
             "outlinewidth": 0,
             "ticks": ""
            },
            "type": "contourcarpet"
           }
          ],
          "heatmap": [
           {
            "colorbar": {
             "outlinewidth": 0,
             "ticks": ""
            },
            "colorscale": [
             [
              0,
              "#0d0887"
             ],
             [
              0.1111111111111111,
              "#46039f"
             ],
             [
              0.2222222222222222,
              "#7201a8"
             ],
             [
              0.3333333333333333,
              "#9c179e"
             ],
             [
              0.4444444444444444,
              "#bd3786"
             ],
             [
              0.5555555555555556,
              "#d8576b"
             ],
             [
              0.6666666666666666,
              "#ed7953"
             ],
             [
              0.7777777777777778,
              "#fb9f3a"
             ],
             [
              0.8888888888888888,
              "#fdca26"
             ],
             [
              1,
              "#f0f921"
             ]
            ],
            "type": "heatmap"
           }
          ],
          "heatmapgl": [
           {
            "colorbar": {
             "outlinewidth": 0,
             "ticks": ""
            },
            "colorscale": [
             [
              0,
              "#0d0887"
             ],
             [
              0.1111111111111111,
              "#46039f"
             ],
             [
              0.2222222222222222,
              "#7201a8"
             ],
             [
              0.3333333333333333,
              "#9c179e"
             ],
             [
              0.4444444444444444,
              "#bd3786"
             ],
             [
              0.5555555555555556,
              "#d8576b"
             ],
             [
              0.6666666666666666,
              "#ed7953"
             ],
             [
              0.7777777777777778,
              "#fb9f3a"
             ],
             [
              0.8888888888888888,
              "#fdca26"
             ],
             [
              1,
              "#f0f921"
             ]
            ],
            "type": "heatmapgl"
           }
          ],
          "histogram": [
           {
            "marker": {
             "pattern": {
              "fillmode": "overlay",
              "size": 10,
              "solidity": 0.2
             }
            },
            "type": "histogram"
           }
          ],
          "histogram2d": [
           {
            "colorbar": {
             "outlinewidth": 0,
             "ticks": ""
            },
            "colorscale": [
             [
              0,
              "#0d0887"
             ],
             [
              0.1111111111111111,
              "#46039f"
             ],
             [
              0.2222222222222222,
              "#7201a8"
             ],
             [
              0.3333333333333333,
              "#9c179e"
             ],
             [
              0.4444444444444444,
              "#bd3786"
             ],
             [
              0.5555555555555556,
              "#d8576b"
             ],
             [
              0.6666666666666666,
              "#ed7953"
             ],
             [
              0.7777777777777778,
              "#fb9f3a"
             ],
             [
              0.8888888888888888,
              "#fdca26"
             ],
             [
              1,
              "#f0f921"
             ]
            ],
            "type": "histogram2d"
           }
          ],
          "histogram2dcontour": [
           {
            "colorbar": {
             "outlinewidth": 0,
             "ticks": ""
            },
            "colorscale": [
             [
              0,
              "#0d0887"
             ],
             [
              0.1111111111111111,
              "#46039f"
             ],
             [
              0.2222222222222222,
              "#7201a8"
             ],
             [
              0.3333333333333333,
              "#9c179e"
             ],
             [
              0.4444444444444444,
              "#bd3786"
             ],
             [
              0.5555555555555556,
              "#d8576b"
             ],
             [
              0.6666666666666666,
              "#ed7953"
             ],
             [
              0.7777777777777778,
              "#fb9f3a"
             ],
             [
              0.8888888888888888,
              "#fdca26"
             ],
             [
              1,
              "#f0f921"
             ]
            ],
            "type": "histogram2dcontour"
           }
          ],
          "mesh3d": [
           {
            "colorbar": {
             "outlinewidth": 0,
             "ticks": ""
            },
            "type": "mesh3d"
           }
          ],
          "parcoords": [
           {
            "line": {
             "colorbar": {
              "outlinewidth": 0,
              "ticks": ""
             }
            },
            "type": "parcoords"
           }
          ],
          "pie": [
           {
            "automargin": true,
            "type": "pie"
           }
          ],
          "scatter": [
           {
            "marker": {
             "colorbar": {
              "outlinewidth": 0,
              "ticks": ""
             }
            },
            "type": "scatter"
           }
          ],
          "scatter3d": [
           {
            "line": {
             "colorbar": {
              "outlinewidth": 0,
              "ticks": ""
             }
            },
            "marker": {
             "colorbar": {
              "outlinewidth": 0,
              "ticks": ""
             }
            },
            "type": "scatter3d"
           }
          ],
          "scattercarpet": [
           {
            "marker": {
             "colorbar": {
              "outlinewidth": 0,
              "ticks": ""
             }
            },
            "type": "scattercarpet"
           }
          ],
          "scattergeo": [
           {
            "marker": {
             "colorbar": {
              "outlinewidth": 0,
              "ticks": ""
             }
            },
            "type": "scattergeo"
           }
          ],
          "scattergl": [
           {
            "marker": {
             "colorbar": {
              "outlinewidth": 0,
              "ticks": ""
             }
            },
            "type": "scattergl"
           }
          ],
          "scattermapbox": [
           {
            "marker": {
             "colorbar": {
              "outlinewidth": 0,
              "ticks": ""
             }
            },
            "type": "scattermapbox"
           }
          ],
          "scatterpolar": [
           {
            "marker": {
             "colorbar": {
              "outlinewidth": 0,
              "ticks": ""
             }
            },
            "type": "scatterpolar"
           }
          ],
          "scatterpolargl": [
           {
            "marker": {
             "colorbar": {
              "outlinewidth": 0,
              "ticks": ""
             }
            },
            "type": "scatterpolargl"
           }
          ],
          "scatterternary": [
           {
            "marker": {
             "colorbar": {
              "outlinewidth": 0,
              "ticks": ""
             }
            },
            "type": "scatterternary"
           }
          ],
          "surface": [
           {
            "colorbar": {
             "outlinewidth": 0,
             "ticks": ""
            },
            "colorscale": [
             [
              0,
              "#0d0887"
             ],
             [
              0.1111111111111111,
              "#46039f"
             ],
             [
              0.2222222222222222,
              "#7201a8"
             ],
             [
              0.3333333333333333,
              "#9c179e"
             ],
             [
              0.4444444444444444,
              "#bd3786"
             ],
             [
              0.5555555555555556,
              "#d8576b"
             ],
             [
              0.6666666666666666,
              "#ed7953"
             ],
             [
              0.7777777777777778,
              "#fb9f3a"
             ],
             [
              0.8888888888888888,
              "#fdca26"
             ],
             [
              1,
              "#f0f921"
             ]
            ],
            "type": "surface"
           }
          ],
          "table": [
           {
            "cells": {
             "fill": {
              "color": "#EBF0F8"
             },
             "line": {
              "color": "white"
             }
            },
            "header": {
             "fill": {
              "color": "#C8D4E3"
             },
             "line": {
              "color": "white"
             }
            },
            "type": "table"
           }
          ]
         },
         "layout": {
          "annotationdefaults": {
           "arrowcolor": "#2a3f5f",
           "arrowhead": 0,
           "arrowwidth": 1
          },
          "autotypenumbers": "strict",
          "coloraxis": {
           "colorbar": {
            "outlinewidth": 0,
            "ticks": ""
           }
          },
          "colorscale": {
           "diverging": [
            [
             0,
             "#8e0152"
            ],
            [
             0.1,
             "#c51b7d"
            ],
            [
             0.2,
             "#de77ae"
            ],
            [
             0.3,
             "#f1b6da"
            ],
            [
             0.4,
             "#fde0ef"
            ],
            [
             0.5,
             "#f7f7f7"
            ],
            [
             0.6,
             "#e6f5d0"
            ],
            [
             0.7,
             "#b8e186"
            ],
            [
             0.8,
             "#7fbc41"
            ],
            [
             0.9,
             "#4d9221"
            ],
            [
             1,
             "#276419"
            ]
           ],
           "sequential": [
            [
             0,
             "#0d0887"
            ],
            [
             0.1111111111111111,
             "#46039f"
            ],
            [
             0.2222222222222222,
             "#7201a8"
            ],
            [
             0.3333333333333333,
             "#9c179e"
            ],
            [
             0.4444444444444444,
             "#bd3786"
            ],
            [
             0.5555555555555556,
             "#d8576b"
            ],
            [
             0.6666666666666666,
             "#ed7953"
            ],
            [
             0.7777777777777778,
             "#fb9f3a"
            ],
            [
             0.8888888888888888,
             "#fdca26"
            ],
            [
             1,
             "#f0f921"
            ]
           ],
           "sequentialminus": [
            [
             0,
             "#0d0887"
            ],
            [
             0.1111111111111111,
             "#46039f"
            ],
            [
             0.2222222222222222,
             "#7201a8"
            ],
            [
             0.3333333333333333,
             "#9c179e"
            ],
            [
             0.4444444444444444,
             "#bd3786"
            ],
            [
             0.5555555555555556,
             "#d8576b"
            ],
            [
             0.6666666666666666,
             "#ed7953"
            ],
            [
             0.7777777777777778,
             "#fb9f3a"
            ],
            [
             0.8888888888888888,
             "#fdca26"
            ],
            [
             1,
             "#f0f921"
            ]
           ]
          },
          "colorway": [
           "#636efa",
           "#EF553B",
           "#00cc96",
           "#ab63fa",
           "#FFA15A",
           "#19d3f3",
           "#FF6692",
           "#B6E880",
           "#FF97FF",
           "#FECB52"
          ],
          "font": {
           "color": "#2a3f5f"
          },
          "geo": {
           "bgcolor": "white",
           "lakecolor": "white",
           "landcolor": "#E5ECF6",
           "showlakes": true,
           "showland": true,
           "subunitcolor": "white"
          },
          "hoverlabel": {
           "align": "left"
          },
          "hovermode": "closest",
          "mapbox": {
           "style": "light"
          },
          "paper_bgcolor": "white",
          "plot_bgcolor": "#E5ECF6",
          "polar": {
           "angularaxis": {
            "gridcolor": "white",
            "linecolor": "white",
            "ticks": ""
           },
           "bgcolor": "#E5ECF6",
           "radialaxis": {
            "gridcolor": "white",
            "linecolor": "white",
            "ticks": ""
           }
          },
          "scene": {
           "xaxis": {
            "backgroundcolor": "#E5ECF6",
            "gridcolor": "white",
            "gridwidth": 2,
            "linecolor": "white",
            "showbackground": true,
            "ticks": "",
            "zerolinecolor": "white"
           },
           "yaxis": {
            "backgroundcolor": "#E5ECF6",
            "gridcolor": "white",
            "gridwidth": 2,
            "linecolor": "white",
            "showbackground": true,
            "ticks": "",
            "zerolinecolor": "white"
           },
           "zaxis": {
            "backgroundcolor": "#E5ECF6",
            "gridcolor": "white",
            "gridwidth": 2,
            "linecolor": "white",
            "showbackground": true,
            "ticks": "",
            "zerolinecolor": "white"
           }
          },
          "shapedefaults": {
           "line": {
            "color": "#2a3f5f"
           }
          },
          "ternary": {
           "aaxis": {
            "gridcolor": "white",
            "linecolor": "white",
            "ticks": ""
           },
           "baxis": {
            "gridcolor": "white",
            "linecolor": "white",
            "ticks": ""
           },
           "bgcolor": "#E5ECF6",
           "caxis": {
            "gridcolor": "white",
            "linecolor": "white",
            "ticks": ""
           }
          },
          "title": {
           "x": 0.05
          },
          "xaxis": {
           "automargin": true,
           "gridcolor": "white",
           "linecolor": "white",
           "ticks": "",
           "title": {
            "standoff": 15
           },
           "zerolinecolor": "white",
           "zerolinewidth": 2
          },
          "yaxis": {
           "automargin": true,
           "gridcolor": "white",
           "linecolor": "white",
           "ticks": "",
           "title": {
            "standoff": 15
           },
           "zerolinecolor": "white",
           "zerolinewidth": 2
          }
         }
        },
        "title": {
         "text": "TPM Expression Per hour at Station 51"
        },
        "width": 800,
        "xaxis": {
         "anchor": "y",
         "domain": [
          0,
          1
         ],
         "tickangle": -45,
         "title": {
          "text": "Date and Time"
         }
        },
        "yaxis": {
         "anchor": "x",
         "domain": [
          0,
          1
         ],
         "title": {
          "text": "Relative Expression"
         }
        }
       }
      }
     },
     "metadata": {},
     "output_type": "display_data"
    }
   ],
   "source": [
    "# Group by taxonomic level and sample, then sum TPM\n",
    "grouped_df = filtered_data.groupby(['Taxogroup2_UniEuk', 'Date'])['TPM'].sum().reset_index()\n",
    "\n",
    "grouped_df.head()\n",
    "# Normalize TPM sums to get relative expression per hour\n",
    "total_tpm_per_hour = grouped_df.groupby('Date')['TPM'].transform('sum')\n",
    "grouped_df['rel_expression_per_hour'] = grouped_df['TPM'] / total_tpm_per_hour\n",
    "\n",
    "# Combine low-abundant groups into a single 'Rare' category\n",
    "threshold = 0.05\n",
    "grouped_df.loc[grouped_df['rel_expression_per_hour'] <= threshold, 'Taxogroup2_UniEuk'] = 'Rare'\n",
    "\n",
    "# Combine 'core-Noctilucales' and 'Dinophyceae'\n",
    "grouped_df['Taxogroup2_UniEuk'] = grouped_df['Taxogroup2_UniEuk'].replace({'core-Noctilucales': 'Dinophyceae'})\n",
    "\n",
    "# Remove categories with no expression\n",
    "grouped_df = grouped_df[grouped_df['rel_expression_per_hour'] > 0]\n",
    "\n",
    "# Group once more to combine Rares\n",
    "grouped_df = grouped_df.groupby(['Taxogroup2_UniEuk', 'Date'])['TPM'].sum().reset_index()\n",
    "\n",
    "# Plot\n",
    "fig = px.bar(grouped_df, \n",
    "            x='Date', \n",
    "            y='TPM', \n",
    "            color='Taxogroup2_UniEuk',\n",
    "            title='TPM Expression Per hour at Station 51',\n",
    "            category_orders={\"Taxogroup2_UniEuk\": ['Arthropoda', 'Acantharea', 'Ctenophora', 'Diatomeae', 'Dinophyceae', \n",
    "                                                    'Florideophyceae','Odontella', 'Phaeodarea', 'Prymnesiophyceae',\n",
    "                                                    'Spirotrichea', 'Vertebrata', 'Rare',]},\n",
    "            color_discrete_map=color_discrete_map\n",
    "            )\n",
    "\n",
    "fig.update_layout(\n",
    "    width=800,\n",
    "    height=400,\n",
    "    xaxis_title='Date and Time',\n",
    "    yaxis_title='Relative Expression',\n",
    "    xaxis_tickangle=-45,\n",
    "    legend_title='Taxonomic Group'\n",
    ")\n",
    "\n",
    "# Save the figure\n",
    "filename_base = \"../figures/metatranscriptomics/51_expression_per_hour\"\n",
    "fig.write_image(filename_base + \".png\", scale=1)\n",
    "fig.write_image(filename_base + \".svg\", scale=1)\n",
    "\n",
    "fig.show()"
   ]
  },
  {
   "cell_type": "markdown",
   "metadata": {},
   "source": [
    "### Genera"
   ]
  },
  {
   "cell_type": "code",
   "execution_count": 12,
   "metadata": {},
   "outputs": [],
   "source": [
    "# Original color mapping\n",
    "color_discrete_map = {\n",
    "    \"Rare\": \"#545454\",\n",
    "    \"Noctiluca\": \"#56B4E8\",\n",
    "    'Odontella': \"#C44601\",\n",
    "    'Phaeocystis': \"#009E73\",\n",
    "    \"Diatomeae\": \"#E69F00\",\n",
    "    \"Dinophyceae\": \"#56B4E9\",\n",
    "    \"Spirotrichea\": \"#F0E442\",\n",
    "    \"Arthropoda\": \"#0072B2\",\n",
    "    \"Ctenophora\": \"#ADA7A7\",\n",
    "    \"Vertebrata\": \"#FF5349\",\n",
    "    \"Phaeodarea\": \"#D55E00\",\n",
    "    \"Florideophyceae\": \"#CC79A7\",\n",
    "    \"Acantharea\": \"#719A10\",\n",
    "}"
   ]
  },
  {
   "cell_type": "code",
   "execution_count": 13,
   "metadata": {},
   "outputs": [
    {
     "name": "stderr",
     "output_type": "stream",
     "text": [
      "/opt/homebrew/lib/python3.9/site-packages/_plotly_utils/basevalidators.py:107: FutureWarning:\n",
      "\n",
      "The behavior of DatetimeProperties.to_pydatetime is deprecated, in a future version this will return a Series containing python datetime objects instead of an ndarray. To retain the old behavior, call `np.array` on the result\n",
      "\n"
     ]
    },
    {
     "data": {
      "application/vnd.plotly.v1+json": {
       "config": {
        "plotlyServerURL": "https://plot.ly"
       },
       "data": [
        {
         "alignmentgroup": "True",
         "hovertemplate": "Genus_UniEuk=Rare<br>Date=%{x}<br>rel_expression_per_hour=%{y}<extra></extra>",
         "legendgroup": "Rare",
         "marker": {
          "color": "#545454",
          "pattern": {
           "shape": ""
          }
         },
         "name": "Rare",
         "offsetgroup": "Rare",
         "orientation": "v",
         "showlegend": true,
         "textposition": "auto",
         "type": "bar",
         "x": [
          "2023-04-20T08:01:00",
          "2023-04-20T09:02:00",
          "2023-04-20T10:06:00",
          "2023-04-20T11:07:00",
          "2023-04-20T12:00:00",
          "2023-04-20T13:01:00",
          "2023-04-20T13:58:00",
          "2023-04-20T14:57:00",
          "2023-04-20T15:58:00",
          "2023-04-20T17:07:00",
          "2023-04-20T18:04:00",
          "2023-04-20T18:59:00",
          "2023-04-20T20:02:00",
          "2023-04-20T21:02:00",
          "2023-04-20T22:02:00",
          "2023-04-20T22:58:00",
          "2023-04-20T23:57:00",
          "2023-04-21T01:01:00",
          "2023-04-21T02:00:00",
          "2023-04-21T03:00:00",
          "2023-04-21T04:00:00",
          "2023-04-21T05:00:00",
          "2023-04-21T06:00:00",
          "2023-04-21T07:00:00",
          "2023-04-21T08:00:00"
         ],
         "xaxis": "x",
         "y": [
          0.18197087943553925,
          0.23428580164909363,
          0.15201789140701294,
          0.13088005781173706,
          0.10397757589817047,
          0.07802246510982513,
          0.08284559100866318,
          0.11233013868331909,
          0.11623544991016388,
          0.09988290071487427,
          0.08064091205596924,
          0.18796536326408386,
          0.1117645800113678,
          0.10164088010787964,
          0.1140701025724411,
          0.12825582921504974,
          0.12104549258947372,
          0.15373943746089935,
          0.06421128660440445,
          0.11607251316308975,
          0.11174172163009644,
          0.172356516122818,
          0.10193248838186264,
          0.09721660614013672,
          0.12298443168401718
         ],
         "yaxis": "y"
        },
        {
         "alignmentgroup": "True",
         "hovertemplate": "Genus_UniEuk=Gracilaria<br>Date=%{x}<br>rel_expression_per_hour=%{y}<extra></extra>",
         "legendgroup": "Gracilaria",
         "marker": {
          "color": "#FFA15A",
          "pattern": {
           "shape": ""
          }
         },
         "name": "Gracilaria",
         "offsetgroup": "Gracilaria",
         "orientation": "v",
         "showlegend": true,
         "textposition": "auto",
         "type": "bar",
         "x": [
          "2023-04-20T18:59:00"
         ],
         "xaxis": "x",
         "y": [
          0.05897214263677597
         ],
         "yaxis": "y"
        },
        {
         "alignmentgroup": "True",
         "hovertemplate": "Genus_UniEuk=Hemistasia<br>Date=%{x}<br>rel_expression_per_hour=%{y}<extra></extra>",
         "legendgroup": "Hemistasia",
         "marker": {
          "color": "#19d3f3",
          "pattern": {
           "shape": ""
          }
         },
         "name": "Hemistasia",
         "offsetgroup": "Hemistasia",
         "orientation": "v",
         "showlegend": true,
         "textposition": "auto",
         "type": "bar",
         "x": [
          "2023-04-20T18:59:00"
         ],
         "xaxis": "x",
         "y": [
          0.05793766304850578
         ],
         "yaxis": "y"
        },
        {
         "alignmentgroup": "True",
         "hovertemplate": "Genus_UniEuk=Noctiluca<br>Date=%{x}<br>rel_expression_per_hour=%{y}<extra></extra>",
         "legendgroup": "Noctiluca",
         "marker": {
          "color": "#56B4E8",
          "pattern": {
           "shape": ""
          }
         },
         "name": "Noctiluca",
         "offsetgroup": "Noctiluca",
         "orientation": "v",
         "showlegend": true,
         "textposition": "auto",
         "type": "bar",
         "x": [
          "2023-04-20T08:01:00",
          "2023-04-20T11:07:00",
          "2023-04-20T12:00:00",
          "2023-04-20T15:58:00",
          "2023-04-20T17:07:00",
          "2023-04-20T18:04:00",
          "2023-04-20T18:59:00",
          "2023-04-20T20:02:00",
          "2023-04-20T21:02:00",
          "2023-04-20T22:02:00",
          "2023-04-20T22:58:00",
          "2023-04-20T23:57:00",
          "2023-04-21T01:01:00",
          "2023-04-21T02:00:00",
          "2023-04-21T04:00:00",
          "2023-04-21T05:00:00",
          "2023-04-21T06:00:00",
          "2023-04-21T07:00:00",
          "2023-04-21T08:00:00"
         ],
         "xaxis": "x",
         "y": [
          0.12206718325614929,
          0.13458390533924103,
          0.09459888935089111,
          0.0905478447675705,
          0.10149305313825607,
          0.08427436649799347,
          0.0528830848634243,
          0.15453167259693146,
          0.45264825224876404,
          0.6206791996955872,
          0.7404303550720215,
          0.16485176980495453,
          0.1711377203464508,
          0.09314261376857758,
          0.1814073771238327,
          0.2885217070579529,
          0.126890167593956,
          0.3302910029888153,
          0.22237931191921234
         ],
         "yaxis": "y"
        },
        {
         "alignmentgroup": "True",
         "hovertemplate": "Genus_UniEuk=Phaeocystis<br>Date=%{x}<br>rel_expression_per_hour=%{y}<extra></extra>",
         "legendgroup": "Phaeocystis",
         "marker": {
          "color": "#009E73",
          "pattern": {
           "shape": ""
          }
         },
         "name": "Phaeocystis",
         "offsetgroup": "Phaeocystis",
         "orientation": "v",
         "showlegend": true,
         "textposition": "auto",
         "type": "bar",
         "x": [
          "2023-04-20T08:01:00",
          "2023-04-20T09:02:00",
          "2023-04-20T10:06:00",
          "2023-04-20T11:07:00",
          "2023-04-20T12:00:00",
          "2023-04-20T13:01:00",
          "2023-04-20T13:58:00",
          "2023-04-20T14:57:00",
          "2023-04-20T15:58:00",
          "2023-04-20T17:07:00",
          "2023-04-20T18:04:00",
          "2023-04-20T18:59:00",
          "2023-04-20T20:02:00",
          "2023-04-20T21:02:00",
          "2023-04-20T22:02:00",
          "2023-04-20T22:58:00",
          "2023-04-20T23:57:00",
          "2023-04-21T01:01:00",
          "2023-04-21T02:00:00",
          "2023-04-21T03:00:00",
          "2023-04-21T04:00:00",
          "2023-04-21T05:00:00",
          "2023-04-21T06:00:00",
          "2023-04-21T07:00:00",
          "2023-04-21T08:00:00"
         ],
         "xaxis": "x",
         "y": [
          0.6959619522094727,
          0.765714168548584,
          0.8479821085929871,
          0.7345360517501831,
          0.8014234900474548,
          0.9219775199890137,
          0.9171543121337891,
          0.8876698017120361,
          0.7932167053222656,
          0.7986240386962891,
          0.8350847363471985,
          0.6422417163848877,
          0.7337037324905396,
          0.4457108974456787,
          0.26525071263313293,
          0.13131380081176758,
          0.7141026854515076,
          0.675122857093811,
          0.8426461219787598,
          0.8839274644851685,
          0.7068509459495544,
          0.539121687412262,
          0.7711772918701172,
          0.5724923610687256,
          0.6546362638473511
         ],
         "yaxis": "y"
        }
       ],
       "layout": {
        "barmode": "relative",
        "height": 400,
        "legend": {
         "title": {
          "text": "Taxonomic Group"
         },
         "tracegroupgap": 0
        },
        "template": {
         "data": {
          "bar": [
           {
            "error_x": {
             "color": "#2a3f5f"
            },
            "error_y": {
             "color": "#2a3f5f"
            },
            "marker": {
             "line": {
              "color": "#E5ECF6",
              "width": 0.5
             },
             "pattern": {
              "fillmode": "overlay",
              "size": 10,
              "solidity": 0.2
             }
            },
            "type": "bar"
           }
          ],
          "barpolar": [
           {
            "marker": {
             "line": {
              "color": "#E5ECF6",
              "width": 0.5
             },
             "pattern": {
              "fillmode": "overlay",
              "size": 10,
              "solidity": 0.2
             }
            },
            "type": "barpolar"
           }
          ],
          "carpet": [
           {
            "aaxis": {
             "endlinecolor": "#2a3f5f",
             "gridcolor": "white",
             "linecolor": "white",
             "minorgridcolor": "white",
             "startlinecolor": "#2a3f5f"
            },
            "baxis": {
             "endlinecolor": "#2a3f5f",
             "gridcolor": "white",
             "linecolor": "white",
             "minorgridcolor": "white",
             "startlinecolor": "#2a3f5f"
            },
            "type": "carpet"
           }
          ],
          "choropleth": [
           {
            "colorbar": {
             "outlinewidth": 0,
             "ticks": ""
            },
            "type": "choropleth"
           }
          ],
          "contour": [
           {
            "colorbar": {
             "outlinewidth": 0,
             "ticks": ""
            },
            "colorscale": [
             [
              0,
              "#0d0887"
             ],
             [
              0.1111111111111111,
              "#46039f"
             ],
             [
              0.2222222222222222,
              "#7201a8"
             ],
             [
              0.3333333333333333,
              "#9c179e"
             ],
             [
              0.4444444444444444,
              "#bd3786"
             ],
             [
              0.5555555555555556,
              "#d8576b"
             ],
             [
              0.6666666666666666,
              "#ed7953"
             ],
             [
              0.7777777777777778,
              "#fb9f3a"
             ],
             [
              0.8888888888888888,
              "#fdca26"
             ],
             [
              1,
              "#f0f921"
             ]
            ],
            "type": "contour"
           }
          ],
          "contourcarpet": [
           {
            "colorbar": {
             "outlinewidth": 0,
             "ticks": ""
            },
            "type": "contourcarpet"
           }
          ],
          "heatmap": [
           {
            "colorbar": {
             "outlinewidth": 0,
             "ticks": ""
            },
            "colorscale": [
             [
              0,
              "#0d0887"
             ],
             [
              0.1111111111111111,
              "#46039f"
             ],
             [
              0.2222222222222222,
              "#7201a8"
             ],
             [
              0.3333333333333333,
              "#9c179e"
             ],
             [
              0.4444444444444444,
              "#bd3786"
             ],
             [
              0.5555555555555556,
              "#d8576b"
             ],
             [
              0.6666666666666666,
              "#ed7953"
             ],
             [
              0.7777777777777778,
              "#fb9f3a"
             ],
             [
              0.8888888888888888,
              "#fdca26"
             ],
             [
              1,
              "#f0f921"
             ]
            ],
            "type": "heatmap"
           }
          ],
          "heatmapgl": [
           {
            "colorbar": {
             "outlinewidth": 0,
             "ticks": ""
            },
            "colorscale": [
             [
              0,
              "#0d0887"
             ],
             [
              0.1111111111111111,
              "#46039f"
             ],
             [
              0.2222222222222222,
              "#7201a8"
             ],
             [
              0.3333333333333333,
              "#9c179e"
             ],
             [
              0.4444444444444444,
              "#bd3786"
             ],
             [
              0.5555555555555556,
              "#d8576b"
             ],
             [
              0.6666666666666666,
              "#ed7953"
             ],
             [
              0.7777777777777778,
              "#fb9f3a"
             ],
             [
              0.8888888888888888,
              "#fdca26"
             ],
             [
              1,
              "#f0f921"
             ]
            ],
            "type": "heatmapgl"
           }
          ],
          "histogram": [
           {
            "marker": {
             "pattern": {
              "fillmode": "overlay",
              "size": 10,
              "solidity": 0.2
             }
            },
            "type": "histogram"
           }
          ],
          "histogram2d": [
           {
            "colorbar": {
             "outlinewidth": 0,
             "ticks": ""
            },
            "colorscale": [
             [
              0,
              "#0d0887"
             ],
             [
              0.1111111111111111,
              "#46039f"
             ],
             [
              0.2222222222222222,
              "#7201a8"
             ],
             [
              0.3333333333333333,
              "#9c179e"
             ],
             [
              0.4444444444444444,
              "#bd3786"
             ],
             [
              0.5555555555555556,
              "#d8576b"
             ],
             [
              0.6666666666666666,
              "#ed7953"
             ],
             [
              0.7777777777777778,
              "#fb9f3a"
             ],
             [
              0.8888888888888888,
              "#fdca26"
             ],
             [
              1,
              "#f0f921"
             ]
            ],
            "type": "histogram2d"
           }
          ],
          "histogram2dcontour": [
           {
            "colorbar": {
             "outlinewidth": 0,
             "ticks": ""
            },
            "colorscale": [
             [
              0,
              "#0d0887"
             ],
             [
              0.1111111111111111,
              "#46039f"
             ],
             [
              0.2222222222222222,
              "#7201a8"
             ],
             [
              0.3333333333333333,
              "#9c179e"
             ],
             [
              0.4444444444444444,
              "#bd3786"
             ],
             [
              0.5555555555555556,
              "#d8576b"
             ],
             [
              0.6666666666666666,
              "#ed7953"
             ],
             [
              0.7777777777777778,
              "#fb9f3a"
             ],
             [
              0.8888888888888888,
              "#fdca26"
             ],
             [
              1,
              "#f0f921"
             ]
            ],
            "type": "histogram2dcontour"
           }
          ],
          "mesh3d": [
           {
            "colorbar": {
             "outlinewidth": 0,
             "ticks": ""
            },
            "type": "mesh3d"
           }
          ],
          "parcoords": [
           {
            "line": {
             "colorbar": {
              "outlinewidth": 0,
              "ticks": ""
             }
            },
            "type": "parcoords"
           }
          ],
          "pie": [
           {
            "automargin": true,
            "type": "pie"
           }
          ],
          "scatter": [
           {
            "marker": {
             "colorbar": {
              "outlinewidth": 0,
              "ticks": ""
             }
            },
            "type": "scatter"
           }
          ],
          "scatter3d": [
           {
            "line": {
             "colorbar": {
              "outlinewidth": 0,
              "ticks": ""
             }
            },
            "marker": {
             "colorbar": {
              "outlinewidth": 0,
              "ticks": ""
             }
            },
            "type": "scatter3d"
           }
          ],
          "scattercarpet": [
           {
            "marker": {
             "colorbar": {
              "outlinewidth": 0,
              "ticks": ""
             }
            },
            "type": "scattercarpet"
           }
          ],
          "scattergeo": [
           {
            "marker": {
             "colorbar": {
              "outlinewidth": 0,
              "ticks": ""
             }
            },
            "type": "scattergeo"
           }
          ],
          "scattergl": [
           {
            "marker": {
             "colorbar": {
              "outlinewidth": 0,
              "ticks": ""
             }
            },
            "type": "scattergl"
           }
          ],
          "scattermapbox": [
           {
            "marker": {
             "colorbar": {
              "outlinewidth": 0,
              "ticks": ""
             }
            },
            "type": "scattermapbox"
           }
          ],
          "scatterpolar": [
           {
            "marker": {
             "colorbar": {
              "outlinewidth": 0,
              "ticks": ""
             }
            },
            "type": "scatterpolar"
           }
          ],
          "scatterpolargl": [
           {
            "marker": {
             "colorbar": {
              "outlinewidth": 0,
              "ticks": ""
             }
            },
            "type": "scatterpolargl"
           }
          ],
          "scatterternary": [
           {
            "marker": {
             "colorbar": {
              "outlinewidth": 0,
              "ticks": ""
             }
            },
            "type": "scatterternary"
           }
          ],
          "surface": [
           {
            "colorbar": {
             "outlinewidth": 0,
             "ticks": ""
            },
            "colorscale": [
             [
              0,
              "#0d0887"
             ],
             [
              0.1111111111111111,
              "#46039f"
             ],
             [
              0.2222222222222222,
              "#7201a8"
             ],
             [
              0.3333333333333333,
              "#9c179e"
             ],
             [
              0.4444444444444444,
              "#bd3786"
             ],
             [
              0.5555555555555556,
              "#d8576b"
             ],
             [
              0.6666666666666666,
              "#ed7953"
             ],
             [
              0.7777777777777778,
              "#fb9f3a"
             ],
             [
              0.8888888888888888,
              "#fdca26"
             ],
             [
              1,
              "#f0f921"
             ]
            ],
            "type": "surface"
           }
          ],
          "table": [
           {
            "cells": {
             "fill": {
              "color": "#EBF0F8"
             },
             "line": {
              "color": "white"
             }
            },
            "header": {
             "fill": {
              "color": "#C8D4E3"
             },
             "line": {
              "color": "white"
             }
            },
            "type": "table"
           }
          ]
         },
         "layout": {
          "annotationdefaults": {
           "arrowcolor": "#2a3f5f",
           "arrowhead": 0,
           "arrowwidth": 1
          },
          "autotypenumbers": "strict",
          "coloraxis": {
           "colorbar": {
            "outlinewidth": 0,
            "ticks": ""
           }
          },
          "colorscale": {
           "diverging": [
            [
             0,
             "#8e0152"
            ],
            [
             0.1,
             "#c51b7d"
            ],
            [
             0.2,
             "#de77ae"
            ],
            [
             0.3,
             "#f1b6da"
            ],
            [
             0.4,
             "#fde0ef"
            ],
            [
             0.5,
             "#f7f7f7"
            ],
            [
             0.6,
             "#e6f5d0"
            ],
            [
             0.7,
             "#b8e186"
            ],
            [
             0.8,
             "#7fbc41"
            ],
            [
             0.9,
             "#4d9221"
            ],
            [
             1,
             "#276419"
            ]
           ],
           "sequential": [
            [
             0,
             "#0d0887"
            ],
            [
             0.1111111111111111,
             "#46039f"
            ],
            [
             0.2222222222222222,
             "#7201a8"
            ],
            [
             0.3333333333333333,
             "#9c179e"
            ],
            [
             0.4444444444444444,
             "#bd3786"
            ],
            [
             0.5555555555555556,
             "#d8576b"
            ],
            [
             0.6666666666666666,
             "#ed7953"
            ],
            [
             0.7777777777777778,
             "#fb9f3a"
            ],
            [
             0.8888888888888888,
             "#fdca26"
            ],
            [
             1,
             "#f0f921"
            ]
           ],
           "sequentialminus": [
            [
             0,
             "#0d0887"
            ],
            [
             0.1111111111111111,
             "#46039f"
            ],
            [
             0.2222222222222222,
             "#7201a8"
            ],
            [
             0.3333333333333333,
             "#9c179e"
            ],
            [
             0.4444444444444444,
             "#bd3786"
            ],
            [
             0.5555555555555556,
             "#d8576b"
            ],
            [
             0.6666666666666666,
             "#ed7953"
            ],
            [
             0.7777777777777778,
             "#fb9f3a"
            ],
            [
             0.8888888888888888,
             "#fdca26"
            ],
            [
             1,
             "#f0f921"
            ]
           ]
          },
          "colorway": [
           "#636efa",
           "#EF553B",
           "#00cc96",
           "#ab63fa",
           "#FFA15A",
           "#19d3f3",
           "#FF6692",
           "#B6E880",
           "#FF97FF",
           "#FECB52"
          ],
          "font": {
           "color": "#2a3f5f"
          },
          "geo": {
           "bgcolor": "white",
           "lakecolor": "white",
           "landcolor": "#E5ECF6",
           "showlakes": true,
           "showland": true,
           "subunitcolor": "white"
          },
          "hoverlabel": {
           "align": "left"
          },
          "hovermode": "closest",
          "mapbox": {
           "style": "light"
          },
          "paper_bgcolor": "white",
          "plot_bgcolor": "#E5ECF6",
          "polar": {
           "angularaxis": {
            "gridcolor": "white",
            "linecolor": "white",
            "ticks": ""
           },
           "bgcolor": "#E5ECF6",
           "radialaxis": {
            "gridcolor": "white",
            "linecolor": "white",
            "ticks": ""
           }
          },
          "scene": {
           "xaxis": {
            "backgroundcolor": "#E5ECF6",
            "gridcolor": "white",
            "gridwidth": 2,
            "linecolor": "white",
            "showbackground": true,
            "ticks": "",
            "zerolinecolor": "white"
           },
           "yaxis": {
            "backgroundcolor": "#E5ECF6",
            "gridcolor": "white",
            "gridwidth": 2,
            "linecolor": "white",
            "showbackground": true,
            "ticks": "",
            "zerolinecolor": "white"
           },
           "zaxis": {
            "backgroundcolor": "#E5ECF6",
            "gridcolor": "white",
            "gridwidth": 2,
            "linecolor": "white",
            "showbackground": true,
            "ticks": "",
            "zerolinecolor": "white"
           }
          },
          "shapedefaults": {
           "line": {
            "color": "#2a3f5f"
           }
          },
          "ternary": {
           "aaxis": {
            "gridcolor": "white",
            "linecolor": "white",
            "ticks": ""
           },
           "baxis": {
            "gridcolor": "white",
            "linecolor": "white",
            "ticks": ""
           },
           "bgcolor": "#E5ECF6",
           "caxis": {
            "gridcolor": "white",
            "linecolor": "white",
            "ticks": ""
           }
          },
          "title": {
           "x": 0.05
          },
          "xaxis": {
           "automargin": true,
           "gridcolor": "white",
           "linecolor": "white",
           "ticks": "",
           "title": {
            "standoff": 15
           },
           "zerolinecolor": "white",
           "zerolinewidth": 2
          },
          "yaxis": {
           "automargin": true,
           "gridcolor": "white",
           "linecolor": "white",
           "ticks": "",
           "title": {
            "standoff": 15
           },
           "zerolinecolor": "white",
           "zerolinewidth": 2
          }
         }
        },
        "title": {
         "text": "Relative Expression Per Hour at Station 130"
        },
        "width": 800,
        "xaxis": {
         "anchor": "y",
         "domain": [
          0,
          1
         ],
         "tickangle": -45,
         "title": {
          "text": "Date and Time"
         }
        },
        "yaxis": {
         "anchor": "x",
         "domain": [
          0,
          1
         ],
         "title": {
          "text": "Relative Expression"
         }
        }
       }
      }
     },
     "metadata": {},
     "output_type": "display_data"
    }
   ],
   "source": [
    "# Filter data based on TPM and p_ident thresholds\n",
    "filtered_data = data_130[(data_130['p_ident'] >= 0.95)]\n",
    "\n",
    "# Group by taxonomic level and 'year_hour', then sum TPM\n",
    "grouped_df = filtered_data.groupby(['Genus_UniEuk', 'Date'])['TPM'].sum().reset_index()\n",
    "\n",
    "grouped_df.head()\n",
    "# Normalize TPM sums to get relative expression per hour\n",
    "total_tpm_per_hour = grouped_df.groupby('Date')['TPM'].transform('sum')\n",
    "grouped_df['rel_expression_per_hour'] = grouped_df['TPM'] / total_tpm_per_hour\n",
    "\n",
    "# Combine low-abundant groups into a single 'Rare' category\n",
    "threshold = 0.05\n",
    "grouped_df.loc[grouped_df['rel_expression_per_hour'] <= threshold, 'Genus_UniEuk'] = 'Rare'\n",
    "\n",
    "\n",
    "# Remove categories with no expression\n",
    "grouped_df = grouped_df[grouped_df['rel_expression_per_hour'] > 0]\n",
    "\n",
    "# Group once more to combine Rares\n",
    "grouped_df = grouped_df.groupby(['Genus_UniEuk', 'Date'])['rel_expression_per_hour'].sum().reset_index()\n",
    "\n",
    "# Plot\n",
    "fig = px.bar(grouped_df, \n",
    "            x='Date', \n",
    "            y='rel_expression_per_hour', \n",
    "            color='Genus_UniEuk',\n",
    "            title='Relative Expression Per Hour at Station 130',\n",
    "            category_orders={\"Genus_UniEuk\": ['Arthropoda', 'Acantharea', 'Ctenophora', 'Diatomeae', 'Dinophyceae', \n",
    "                                                    'Florideophyceae','Odontella', 'Phaeodarea', 'Prymnesiophyceae',\n",
    "                                                    'Spirotrichea', 'Vertebrata', 'Rare',]},\n",
    "            color_discrete_map=color_discrete_map\n",
    "            )\n",
    "\n",
    "fig.update_layout(\n",
    "    width=800,\n",
    "    height=400,\n",
    "    xaxis_title='Date and Time',\n",
    "    yaxis_title='Relative Expression',\n",
    "    xaxis_tickangle=-45,\n",
    "    legend_title='Taxonomic Group'\n",
    ")\n",
    "\n",
    "# Save the figure\n",
    "filename_base = \"../figures/metatranscriptomics/130_relative_expression_per_hour_genus\"\n",
    "fig.write_image(filename_base + \".png\", scale=1)\n",
    "fig.write_image(filename_base + \".svg\", scale=1)\n",
    "\n",
    "fig.show()"
   ]
  },
  {
   "cell_type": "code",
   "execution_count": 14,
   "metadata": {},
   "outputs": [
    {
     "name": "stderr",
     "output_type": "stream",
     "text": [
      "/opt/homebrew/lib/python3.9/site-packages/_plotly_utils/basevalidators.py:107: FutureWarning:\n",
      "\n",
      "The behavior of DatetimeProperties.to_pydatetime is deprecated, in a future version this will return a Series containing python datetime objects instead of an ndarray. To retain the old behavior, call `np.array` on the result\n",
      "\n"
     ]
    },
    {
     "data": {
      "application/vnd.plotly.v1+json": {
       "config": {
        "plotlyServerURL": "https://plot.ly"
       },
       "data": [
        {
         "alignmentgroup": "True",
         "hovertemplate": "Genus_UniEuk=Rare<br>Date=%{x}<br>rel_expression_per_hour=%{y}<extra></extra>",
         "legendgroup": "Rare",
         "marker": {
          "color": "#545454",
          "pattern": {
           "shape": ""
          }
         },
         "name": "Rare",
         "offsetgroup": "Rare",
         "orientation": "v",
         "showlegend": true,
         "textposition": "auto",
         "type": "bar",
         "x": [
          "2023-04-18T11:11:00",
          "2023-04-18T12:05:00",
          "2023-04-18T13:08:00",
          "2023-04-18T14:05:00",
          "2023-04-18T15:07:00",
          "2023-04-18T16:00:00",
          "2023-04-18T17:03:00",
          "2023-04-18T18:04:00",
          "2023-04-18T19:11:00",
          "2023-04-18T20:05:00",
          "2023-04-18T21:07:00",
          "2023-04-18T22:02:00",
          "2023-04-18T23:11:00",
          "2023-04-19T00:07:00",
          "2023-04-19T01:03:00",
          "2023-04-19T01:59:00",
          "2023-04-19T02:59:00",
          "2023-04-19T04:00:00",
          "2023-04-19T05:02:00",
          "2023-04-19T06:02:00",
          "2023-04-19T07:03:00"
         ],
         "xaxis": "x",
         "y": [
          0.21934932470321655,
          0.19617018103599548,
          0.29877471923828125,
          0.18838949501514435,
          0.21673394739627838,
          0.22201591730117798,
          0.21922102570533752,
          0.2611881196498871,
          0.29247793555259705,
          0.18868622183799744,
          0.21295149624347687,
          0.29839661717414856,
          0.22309821844100952,
          0.25634488463401794,
          0.22664187848567963,
          0.2431163489818573,
          0.1558958888053894,
          0.1692637950181961,
          0.17218445241451263,
          0.33850473165512085,
          0.32628488540649414
         ],
         "yaxis": "y"
        },
        {
         "alignmentgroup": "True",
         "hovertemplate": "Genus_UniEuk=Acartia<br>Date=%{x}<br>rel_expression_per_hour=%{y}<extra></extra>",
         "legendgroup": "Acartia",
         "marker": {
          "color": "#FFA15A",
          "pattern": {
           "shape": ""
          }
         },
         "name": "Acartia",
         "offsetgroup": "Acartia",
         "orientation": "v",
         "showlegend": true,
         "textposition": "auto",
         "type": "bar",
         "x": [
          "2023-04-18T12:05:00",
          "2023-04-18T14:05:00",
          "2023-04-18T15:07:00",
          "2023-04-18T17:03:00",
          "2023-04-18T18:04:00",
          "2023-04-18T20:05:00",
          "2023-04-18T21:07:00",
          "2023-04-18T22:02:00",
          "2023-04-18T23:11:00",
          "2023-04-19T00:07:00",
          "2023-04-19T01:03:00",
          "2023-04-19T01:59:00",
          "2023-04-19T04:00:00",
          "2023-04-19T05:02:00",
          "2023-04-19T06:02:00",
          "2023-04-19T07:03:00"
         ],
         "xaxis": "x",
         "y": [
          0.07142609357833862,
          0.06297645717859268,
          0.07029657065868378,
          0.06203076243400574,
          0.08767673373222351,
          0.09307771176099777,
          0.11037059128284454,
          0.09495154768228531,
          0.18537455797195435,
          0.14011172950267792,
          0.06847160309553146,
          0.07139048725366592,
          0.0642605796456337,
          0.13128261268138885,
          0.1284296214580536,
          0.20364607870578766
         ],
         "yaxis": "y"
        },
        {
         "alignmentgroup": "True",
         "hovertemplate": "Genus_UniEuk=Amphidinium<br>Date=%{x}<br>rel_expression_per_hour=%{y}<extra></extra>",
         "legendgroup": "Amphidinium",
         "marker": {
          "color": "#19d3f3",
          "pattern": {
           "shape": ""
          }
         },
         "name": "Amphidinium",
         "offsetgroup": "Amphidinium",
         "orientation": "v",
         "showlegend": true,
         "textposition": "auto",
         "type": "bar",
         "x": [
          "2023-04-19T02:59:00"
         ],
         "xaxis": "x",
         "y": [
          0.1015143021941185
         ],
         "yaxis": "y"
        },
        {
         "alignmentgroup": "True",
         "hovertemplate": "Genus_UniEuk=Calanus<br>Date=%{x}<br>rel_expression_per_hour=%{y}<extra></extra>",
         "legendgroup": "Calanus",
         "marker": {
          "color": "#FF6692",
          "pattern": {
           "shape": ""
          }
         },
         "name": "Calanus",
         "offsetgroup": "Calanus",
         "orientation": "v",
         "showlegend": true,
         "textposition": "auto",
         "type": "bar",
         "x": [
          "2023-04-18T12:05:00",
          "2023-04-18T20:05:00",
          "2023-04-18T21:07:00",
          "2023-04-18T22:02:00",
          "2023-04-18T23:11:00",
          "2023-04-19T00:07:00",
          "2023-04-19T04:00:00",
          "2023-04-19T07:03:00"
         ],
         "xaxis": "x",
         "y": [
          0.15137606859207153,
          0.06680206209421158,
          0.0854034274816513,
          0.06993179768323898,
          0.11355890333652496,
          0.07226487994194031,
          0.0882357507944107,
          0.07271946221590042
         ],
         "yaxis": "y"
        },
        {
         "alignmentgroup": "True",
         "hovertemplate": "Genus_UniEuk=Copromyxa<br>Date=%{x}<br>rel_expression_per_hour=%{y}<extra></extra>",
         "legendgroup": "Copromyxa",
         "marker": {
          "color": "#B6E880",
          "pattern": {
           "shape": ""
          }
         },
         "name": "Copromyxa",
         "offsetgroup": "Copromyxa",
         "orientation": "v",
         "showlegend": true,
         "textposition": "auto",
         "type": "bar",
         "x": [
          "2023-04-19T02:59:00"
         ],
         "xaxis": "x",
         "y": [
          0.13411164283752441
         ],
         "yaxis": "y"
        },
        {
         "alignmentgroup": "True",
         "hovertemplate": "Genus_UniEuk=Eurytemora<br>Date=%{x}<br>rel_expression_per_hour=%{y}<extra></extra>",
         "legendgroup": "Eurytemora",
         "marker": {
          "color": "#FF97FF",
          "pattern": {
           "shape": ""
          }
         },
         "name": "Eurytemora",
         "offsetgroup": "Eurytemora",
         "orientation": "v",
         "showlegend": true,
         "textposition": "auto",
         "type": "bar",
         "x": [
          "2023-04-18T12:05:00",
          "2023-04-18T14:05:00",
          "2023-04-18T15:07:00",
          "2023-04-18T16:00:00",
          "2023-04-18T17:03:00",
          "2023-04-18T18:04:00",
          "2023-04-18T20:05:00",
          "2023-04-18T21:07:00",
          "2023-04-18T22:02:00",
          "2023-04-18T23:11:00",
          "2023-04-19T00:07:00",
          "2023-04-19T01:03:00",
          "2023-04-19T01:59:00",
          "2023-04-19T04:00:00",
          "2023-04-19T05:02:00",
          "2023-04-19T06:02:00",
          "2023-04-19T07:03:00"
         ],
         "xaxis": "x",
         "y": [
          0.07612733542919159,
          0.0846598744392395,
          0.07457412779331207,
          0.07098972797393799,
          0.09777047485113144,
          0.12746194005012512,
          0.08211308717727661,
          0.13333278894424438,
          0.09516825526952744,
          0.18575312197208405,
          0.0961979478597641,
          0.07967045903205872,
          0.08445286005735397,
          0.10100466012954712,
          0.187544584274292,
          0.1414499133825302,
          0.31936970353126526
         ],
         "yaxis": "y"
        },
        {
         "alignmentgroup": "True",
         "hovertemplate": "Genus_UniEuk=Gracilaria<br>Date=%{x}<br>rel_expression_per_hour=%{y}<extra></extra>",
         "legendgroup": "Gracilaria",
         "marker": {
          "color": "#FECB52",
          "pattern": {
           "shape": ""
          }
         },
         "name": "Gracilaria",
         "offsetgroup": "Gracilaria",
         "orientation": "v",
         "showlegend": true,
         "textposition": "auto",
         "type": "bar",
         "x": [
          "2023-04-19T02:59:00"
         ],
         "xaxis": "x",
         "y": [
          0.12291570752859116
         ],
         "yaxis": "y"
        },
        {
         "alignmentgroup": "True",
         "hovertemplate": "Genus_UniEuk=Leptophrys<br>Date=%{x}<br>rel_expression_per_hour=%{y}<extra></extra>",
         "legendgroup": "Leptophrys",
         "marker": {
          "color": "#636efa",
          "pattern": {
           "shape": ""
          }
         },
         "name": "Leptophrys",
         "offsetgroup": "Leptophrys",
         "orientation": "v",
         "showlegend": true,
         "textposition": "auto",
         "type": "bar",
         "x": [
          "2023-04-19T02:59:00"
         ],
         "xaxis": "x",
         "y": [
          0.05103181302547455
         ],
         "yaxis": "y"
        },
        {
         "alignmentgroup": "True",
         "hovertemplate": "Genus_UniEuk=Mnemiopsis<br>Date=%{x}<br>rel_expression_per_hour=%{y}<extra></extra>",
         "legendgroup": "Mnemiopsis",
         "marker": {
          "color": "#EF553B",
          "pattern": {
           "shape": ""
          }
         },
         "name": "Mnemiopsis",
         "offsetgroup": "Mnemiopsis",
         "orientation": "v",
         "showlegend": true,
         "textposition": "auto",
         "type": "bar",
         "x": [
          "2023-04-18T13:08:00",
          "2023-04-18T18:04:00",
          "2023-04-18T20:05:00"
         ],
         "xaxis": "x",
         "y": [
          0.065816730260849,
          0.11795582622289658,
          0.10241816192865372
         ],
         "yaxis": "y"
        },
        {
         "alignmentgroup": "True",
         "hovertemplate": "Genus_UniEuk=Neocalanus<br>Date=%{x}<br>rel_expression_per_hour=%{y}<extra></extra>",
         "legendgroup": "Neocalanus",
         "marker": {
          "color": "#00cc96",
          "pattern": {
           "shape": ""
          }
         },
         "name": "Neocalanus",
         "offsetgroup": "Neocalanus",
         "orientation": "v",
         "showlegend": true,
         "textposition": "auto",
         "type": "bar",
         "x": [
          "2023-04-18T23:11:00"
         ],
         "xaxis": "x",
         "y": [
          0.07490985840559006
         ],
         "yaxis": "y"
        },
        {
         "alignmentgroup": "True",
         "hovertemplate": "Genus_UniEuk=Noctiluca<br>Date=%{x}<br>rel_expression_per_hour=%{y}<extra></extra>",
         "legendgroup": "Noctiluca",
         "marker": {
          "color": "#56B4E8",
          "pattern": {
           "shape": ""
          }
         },
         "name": "Noctiluca",
         "offsetgroup": "Noctiluca",
         "orientation": "v",
         "showlegend": true,
         "textposition": "auto",
         "type": "bar",
         "x": [
          "2023-04-18T11:11:00",
          "2023-04-18T12:05:00",
          "2023-04-18T13:08:00",
          "2023-04-18T14:05:00",
          "2023-04-18T15:07:00",
          "2023-04-18T16:00:00",
          "2023-04-18T17:03:00",
          "2023-04-18T18:04:00",
          "2023-04-18T19:11:00",
          "2023-04-18T20:05:00",
          "2023-04-18T21:07:00",
          "2023-04-18T22:02:00",
          "2023-04-18T23:11:00",
          "2023-04-19T01:03:00",
          "2023-04-19T01:59:00",
          "2023-04-19T04:00:00",
          "2023-04-19T05:02:00",
          "2023-04-19T06:02:00",
          "2023-04-19T07:03:00"
         ],
         "xaxis": "x",
         "y": [
          0.2922251522541046,
          0.129245325922966,
          0.4429236948490143,
          0.582537829875946,
          0.6383954286575317,
          0.7069942951202393,
          0.5631421208381653,
          0.17235040664672852,
          0.7075220942497253,
          0.29081717133522034,
          0.37412622570991516,
          0.08438368886709213,
          0.05785170570015907,
          0.1476120501756668,
          0.5398684740066528,
          0.577235221862793,
          0.4049500823020935,
          0.39161571860313416,
          0.07797984033823013
         ],
         "yaxis": "y"
        },
        {
         "alignmentgroup": "True",
         "hovertemplate": "Genus_UniEuk=Parablepharisma<br>Date=%{x}<br>rel_expression_per_hour=%{y}<extra></extra>",
         "legendgroup": "Parablepharisma",
         "marker": {
          "color": "#ab63fa",
          "pattern": {
           "shape": ""
          }
         },
         "name": "Parablepharisma",
         "offsetgroup": "Parablepharisma",
         "orientation": "v",
         "showlegend": true,
         "textposition": "auto",
         "type": "bar",
         "x": [
          "2023-04-19T02:59:00"
         ],
         "xaxis": "x",
         "y": [
          0.24247735738754272
         ],
         "yaxis": "y"
        },
        {
         "alignmentgroup": "True",
         "hovertemplate": "Genus_UniEuk=Phaeocystis<br>Date=%{x}<br>rel_expression_per_hour=%{y}<extra></extra>",
         "legendgroup": "Phaeocystis",
         "marker": {
          "color": "#009E73",
          "pattern": {
           "shape": ""
          }
         },
         "name": "Phaeocystis",
         "offsetgroup": "Phaeocystis",
         "orientation": "v",
         "showlegend": true,
         "textposition": "auto",
         "type": "bar",
         "x": [
          "2023-04-18T11:11:00",
          "2023-04-18T12:05:00",
          "2023-04-18T13:08:00",
          "2023-04-18T14:05:00",
          "2023-04-18T17:03:00",
          "2023-04-18T18:04:00",
          "2023-04-18T20:05:00",
          "2023-04-18T21:07:00",
          "2023-04-18T22:02:00",
          "2023-04-18T23:11:00",
          "2023-04-19T00:07:00",
          "2023-04-19T01:03:00",
          "2023-04-19T01:59:00",
          "2023-04-19T05:02:00"
         ],
         "xaxis": "x",
         "y": [
          0.48842552304267883,
          0.37565499544143677,
          0.19248487055301666,
          0.08143636584281921,
          0.0578356496989727,
          0.23336699604988098,
          0.17608559131622314,
          0.08381547033786774,
          0.3571681082248688,
          0.15945366024971008,
          0.43508052825927734,
          0.4776040315628052,
          0.06117183342576027,
          0.1040382981300354
         ],
         "yaxis": "y"
        },
        {
         "alignmentgroup": "True",
         "hovertemplate": "Genus_UniEuk=Prorocentrum<br>Date=%{x}<br>rel_expression_per_hour=%{y}<extra></extra>",
         "legendgroup": "Prorocentrum",
         "marker": {
          "color": "#FFA15A",
          "pattern": {
           "shape": ""
          }
         },
         "name": "Prorocentrum",
         "offsetgroup": "Prorocentrum",
         "orientation": "v",
         "showlegend": true,
         "textposition": "auto",
         "type": "bar",
         "x": [
          "2023-04-19T02:59:00"
         ],
         "xaxis": "x",
         "y": [
          0.11258332431316376
         ],
         "yaxis": "y"
        },
        {
         "alignmentgroup": "True",
         "hovertemplate": "Genus_UniEuk=Sycon<br>Date=%{x}<br>rel_expression_per_hour=%{y}<extra></extra>",
         "legendgroup": "Sycon",
         "marker": {
          "color": "#19d3f3",
          "pattern": {
           "shape": ""
          }
         },
         "name": "Sycon",
         "offsetgroup": "Sycon",
         "orientation": "v",
         "showlegend": true,
         "textposition": "auto",
         "type": "bar",
         "x": [
          "2023-04-19T02:59:00"
         ],
         "xaxis": "x",
         "y": [
          0.07946999371051788
         ],
         "yaxis": "y"
        }
       ],
       "layout": {
        "barmode": "relative",
        "height": 400,
        "legend": {
         "title": {
          "text": "Taxonomic Group"
         },
         "tracegroupgap": 0
        },
        "template": {
         "data": {
          "bar": [
           {
            "error_x": {
             "color": "#2a3f5f"
            },
            "error_y": {
             "color": "#2a3f5f"
            },
            "marker": {
             "line": {
              "color": "#E5ECF6",
              "width": 0.5
             },
             "pattern": {
              "fillmode": "overlay",
              "size": 10,
              "solidity": 0.2
             }
            },
            "type": "bar"
           }
          ],
          "barpolar": [
           {
            "marker": {
             "line": {
              "color": "#E5ECF6",
              "width": 0.5
             },
             "pattern": {
              "fillmode": "overlay",
              "size": 10,
              "solidity": 0.2
             }
            },
            "type": "barpolar"
           }
          ],
          "carpet": [
           {
            "aaxis": {
             "endlinecolor": "#2a3f5f",
             "gridcolor": "white",
             "linecolor": "white",
             "minorgridcolor": "white",
             "startlinecolor": "#2a3f5f"
            },
            "baxis": {
             "endlinecolor": "#2a3f5f",
             "gridcolor": "white",
             "linecolor": "white",
             "minorgridcolor": "white",
             "startlinecolor": "#2a3f5f"
            },
            "type": "carpet"
           }
          ],
          "choropleth": [
           {
            "colorbar": {
             "outlinewidth": 0,
             "ticks": ""
            },
            "type": "choropleth"
           }
          ],
          "contour": [
           {
            "colorbar": {
             "outlinewidth": 0,
             "ticks": ""
            },
            "colorscale": [
             [
              0,
              "#0d0887"
             ],
             [
              0.1111111111111111,
              "#46039f"
             ],
             [
              0.2222222222222222,
              "#7201a8"
             ],
             [
              0.3333333333333333,
              "#9c179e"
             ],
             [
              0.4444444444444444,
              "#bd3786"
             ],
             [
              0.5555555555555556,
              "#d8576b"
             ],
             [
              0.6666666666666666,
              "#ed7953"
             ],
             [
              0.7777777777777778,
              "#fb9f3a"
             ],
             [
              0.8888888888888888,
              "#fdca26"
             ],
             [
              1,
              "#f0f921"
             ]
            ],
            "type": "contour"
           }
          ],
          "contourcarpet": [
           {
            "colorbar": {
             "outlinewidth": 0,
             "ticks": ""
            },
            "type": "contourcarpet"
           }
          ],
          "heatmap": [
           {
            "colorbar": {
             "outlinewidth": 0,
             "ticks": ""
            },
            "colorscale": [
             [
              0,
              "#0d0887"
             ],
             [
              0.1111111111111111,
              "#46039f"
             ],
             [
              0.2222222222222222,
              "#7201a8"
             ],
             [
              0.3333333333333333,
              "#9c179e"
             ],
             [
              0.4444444444444444,
              "#bd3786"
             ],
             [
              0.5555555555555556,
              "#d8576b"
             ],
             [
              0.6666666666666666,
              "#ed7953"
             ],
             [
              0.7777777777777778,
              "#fb9f3a"
             ],
             [
              0.8888888888888888,
              "#fdca26"
             ],
             [
              1,
              "#f0f921"
             ]
            ],
            "type": "heatmap"
           }
          ],
          "heatmapgl": [
           {
            "colorbar": {
             "outlinewidth": 0,
             "ticks": ""
            },
            "colorscale": [
             [
              0,
              "#0d0887"
             ],
             [
              0.1111111111111111,
              "#46039f"
             ],
             [
              0.2222222222222222,
              "#7201a8"
             ],
             [
              0.3333333333333333,
              "#9c179e"
             ],
             [
              0.4444444444444444,
              "#bd3786"
             ],
             [
              0.5555555555555556,
              "#d8576b"
             ],
             [
              0.6666666666666666,
              "#ed7953"
             ],
             [
              0.7777777777777778,
              "#fb9f3a"
             ],
             [
              0.8888888888888888,
              "#fdca26"
             ],
             [
              1,
              "#f0f921"
             ]
            ],
            "type": "heatmapgl"
           }
          ],
          "histogram": [
           {
            "marker": {
             "pattern": {
              "fillmode": "overlay",
              "size": 10,
              "solidity": 0.2
             }
            },
            "type": "histogram"
           }
          ],
          "histogram2d": [
           {
            "colorbar": {
             "outlinewidth": 0,
             "ticks": ""
            },
            "colorscale": [
             [
              0,
              "#0d0887"
             ],
             [
              0.1111111111111111,
              "#46039f"
             ],
             [
              0.2222222222222222,
              "#7201a8"
             ],
             [
              0.3333333333333333,
              "#9c179e"
             ],
             [
              0.4444444444444444,
              "#bd3786"
             ],
             [
              0.5555555555555556,
              "#d8576b"
             ],
             [
              0.6666666666666666,
              "#ed7953"
             ],
             [
              0.7777777777777778,
              "#fb9f3a"
             ],
             [
              0.8888888888888888,
              "#fdca26"
             ],
             [
              1,
              "#f0f921"
             ]
            ],
            "type": "histogram2d"
           }
          ],
          "histogram2dcontour": [
           {
            "colorbar": {
             "outlinewidth": 0,
             "ticks": ""
            },
            "colorscale": [
             [
              0,
              "#0d0887"
             ],
             [
              0.1111111111111111,
              "#46039f"
             ],
             [
              0.2222222222222222,
              "#7201a8"
             ],
             [
              0.3333333333333333,
              "#9c179e"
             ],
             [
              0.4444444444444444,
              "#bd3786"
             ],
             [
              0.5555555555555556,
              "#d8576b"
             ],
             [
              0.6666666666666666,
              "#ed7953"
             ],
             [
              0.7777777777777778,
              "#fb9f3a"
             ],
             [
              0.8888888888888888,
              "#fdca26"
             ],
             [
              1,
              "#f0f921"
             ]
            ],
            "type": "histogram2dcontour"
           }
          ],
          "mesh3d": [
           {
            "colorbar": {
             "outlinewidth": 0,
             "ticks": ""
            },
            "type": "mesh3d"
           }
          ],
          "parcoords": [
           {
            "line": {
             "colorbar": {
              "outlinewidth": 0,
              "ticks": ""
             }
            },
            "type": "parcoords"
           }
          ],
          "pie": [
           {
            "automargin": true,
            "type": "pie"
           }
          ],
          "scatter": [
           {
            "marker": {
             "colorbar": {
              "outlinewidth": 0,
              "ticks": ""
             }
            },
            "type": "scatter"
           }
          ],
          "scatter3d": [
           {
            "line": {
             "colorbar": {
              "outlinewidth": 0,
              "ticks": ""
             }
            },
            "marker": {
             "colorbar": {
              "outlinewidth": 0,
              "ticks": ""
             }
            },
            "type": "scatter3d"
           }
          ],
          "scattercarpet": [
           {
            "marker": {
             "colorbar": {
              "outlinewidth": 0,
              "ticks": ""
             }
            },
            "type": "scattercarpet"
           }
          ],
          "scattergeo": [
           {
            "marker": {
             "colorbar": {
              "outlinewidth": 0,
              "ticks": ""
             }
            },
            "type": "scattergeo"
           }
          ],
          "scattergl": [
           {
            "marker": {
             "colorbar": {
              "outlinewidth": 0,
              "ticks": ""
             }
            },
            "type": "scattergl"
           }
          ],
          "scattermapbox": [
           {
            "marker": {
             "colorbar": {
              "outlinewidth": 0,
              "ticks": ""
             }
            },
            "type": "scattermapbox"
           }
          ],
          "scatterpolar": [
           {
            "marker": {
             "colorbar": {
              "outlinewidth": 0,
              "ticks": ""
             }
            },
            "type": "scatterpolar"
           }
          ],
          "scatterpolargl": [
           {
            "marker": {
             "colorbar": {
              "outlinewidth": 0,
              "ticks": ""
             }
            },
            "type": "scatterpolargl"
           }
          ],
          "scatterternary": [
           {
            "marker": {
             "colorbar": {
              "outlinewidth": 0,
              "ticks": ""
             }
            },
            "type": "scatterternary"
           }
          ],
          "surface": [
           {
            "colorbar": {
             "outlinewidth": 0,
             "ticks": ""
            },
            "colorscale": [
             [
              0,
              "#0d0887"
             ],
             [
              0.1111111111111111,
              "#46039f"
             ],
             [
              0.2222222222222222,
              "#7201a8"
             ],
             [
              0.3333333333333333,
              "#9c179e"
             ],
             [
              0.4444444444444444,
              "#bd3786"
             ],
             [
              0.5555555555555556,
              "#d8576b"
             ],
             [
              0.6666666666666666,
              "#ed7953"
             ],
             [
              0.7777777777777778,
              "#fb9f3a"
             ],
             [
              0.8888888888888888,
              "#fdca26"
             ],
             [
              1,
              "#f0f921"
             ]
            ],
            "type": "surface"
           }
          ],
          "table": [
           {
            "cells": {
             "fill": {
              "color": "#EBF0F8"
             },
             "line": {
              "color": "white"
             }
            },
            "header": {
             "fill": {
              "color": "#C8D4E3"
             },
             "line": {
              "color": "white"
             }
            },
            "type": "table"
           }
          ]
         },
         "layout": {
          "annotationdefaults": {
           "arrowcolor": "#2a3f5f",
           "arrowhead": 0,
           "arrowwidth": 1
          },
          "autotypenumbers": "strict",
          "coloraxis": {
           "colorbar": {
            "outlinewidth": 0,
            "ticks": ""
           }
          },
          "colorscale": {
           "diverging": [
            [
             0,
             "#8e0152"
            ],
            [
             0.1,
             "#c51b7d"
            ],
            [
             0.2,
             "#de77ae"
            ],
            [
             0.3,
             "#f1b6da"
            ],
            [
             0.4,
             "#fde0ef"
            ],
            [
             0.5,
             "#f7f7f7"
            ],
            [
             0.6,
             "#e6f5d0"
            ],
            [
             0.7,
             "#b8e186"
            ],
            [
             0.8,
             "#7fbc41"
            ],
            [
             0.9,
             "#4d9221"
            ],
            [
             1,
             "#276419"
            ]
           ],
           "sequential": [
            [
             0,
             "#0d0887"
            ],
            [
             0.1111111111111111,
             "#46039f"
            ],
            [
             0.2222222222222222,
             "#7201a8"
            ],
            [
             0.3333333333333333,
             "#9c179e"
            ],
            [
             0.4444444444444444,
             "#bd3786"
            ],
            [
             0.5555555555555556,
             "#d8576b"
            ],
            [
             0.6666666666666666,
             "#ed7953"
            ],
            [
             0.7777777777777778,
             "#fb9f3a"
            ],
            [
             0.8888888888888888,
             "#fdca26"
            ],
            [
             1,
             "#f0f921"
            ]
           ],
           "sequentialminus": [
            [
             0,
             "#0d0887"
            ],
            [
             0.1111111111111111,
             "#46039f"
            ],
            [
             0.2222222222222222,
             "#7201a8"
            ],
            [
             0.3333333333333333,
             "#9c179e"
            ],
            [
             0.4444444444444444,
             "#bd3786"
            ],
            [
             0.5555555555555556,
             "#d8576b"
            ],
            [
             0.6666666666666666,
             "#ed7953"
            ],
            [
             0.7777777777777778,
             "#fb9f3a"
            ],
            [
             0.8888888888888888,
             "#fdca26"
            ],
            [
             1,
             "#f0f921"
            ]
           ]
          },
          "colorway": [
           "#636efa",
           "#EF553B",
           "#00cc96",
           "#ab63fa",
           "#FFA15A",
           "#19d3f3",
           "#FF6692",
           "#B6E880",
           "#FF97FF",
           "#FECB52"
          ],
          "font": {
           "color": "#2a3f5f"
          },
          "geo": {
           "bgcolor": "white",
           "lakecolor": "white",
           "landcolor": "#E5ECF6",
           "showlakes": true,
           "showland": true,
           "subunitcolor": "white"
          },
          "hoverlabel": {
           "align": "left"
          },
          "hovermode": "closest",
          "mapbox": {
           "style": "light"
          },
          "paper_bgcolor": "white",
          "plot_bgcolor": "#E5ECF6",
          "polar": {
           "angularaxis": {
            "gridcolor": "white",
            "linecolor": "white",
            "ticks": ""
           },
           "bgcolor": "#E5ECF6",
           "radialaxis": {
            "gridcolor": "white",
            "linecolor": "white",
            "ticks": ""
           }
          },
          "scene": {
           "xaxis": {
            "backgroundcolor": "#E5ECF6",
            "gridcolor": "white",
            "gridwidth": 2,
            "linecolor": "white",
            "showbackground": true,
            "ticks": "",
            "zerolinecolor": "white"
           },
           "yaxis": {
            "backgroundcolor": "#E5ECF6",
            "gridcolor": "white",
            "gridwidth": 2,
            "linecolor": "white",
            "showbackground": true,
            "ticks": "",
            "zerolinecolor": "white"
           },
           "zaxis": {
            "backgroundcolor": "#E5ECF6",
            "gridcolor": "white",
            "gridwidth": 2,
            "linecolor": "white",
            "showbackground": true,
            "ticks": "",
            "zerolinecolor": "white"
           }
          },
          "shapedefaults": {
           "line": {
            "color": "#2a3f5f"
           }
          },
          "ternary": {
           "aaxis": {
            "gridcolor": "white",
            "linecolor": "white",
            "ticks": ""
           },
           "baxis": {
            "gridcolor": "white",
            "linecolor": "white",
            "ticks": ""
           },
           "bgcolor": "#E5ECF6",
           "caxis": {
            "gridcolor": "white",
            "linecolor": "white",
            "ticks": ""
           }
          },
          "title": {
           "x": 0.05
          },
          "xaxis": {
           "automargin": true,
           "gridcolor": "white",
           "linecolor": "white",
           "ticks": "",
           "title": {
            "standoff": 15
           },
           "zerolinecolor": "white",
           "zerolinewidth": 2
          },
          "yaxis": {
           "automargin": true,
           "gridcolor": "white",
           "linecolor": "white",
           "ticks": "",
           "title": {
            "standoff": 15
           },
           "zerolinecolor": "white",
           "zerolinewidth": 2
          }
         }
        },
        "title": {
         "text": "Relative Expression Per Hour at Station 51"
        },
        "width": 800,
        "xaxis": {
         "anchor": "y",
         "domain": [
          0,
          1
         ],
         "tickangle": -45,
         "title": {
          "text": "Date and Time"
         }
        },
        "yaxis": {
         "anchor": "x",
         "domain": [
          0,
          1
         ],
         "title": {
          "text": "Relative Expression"
         }
        }
       }
      }
     },
     "metadata": {},
     "output_type": "display_data"
    }
   ],
   "source": [
    "# Filter data based on TPM and p_ident thresholds\n",
    "filtered_data = data_51[(data_51['p_ident'] >= 0.95)]\n",
    "\n",
    "# Group by taxonomic level and 'year_hour', then sum TPM\n",
    "grouped_df = filtered_data.groupby(['Genus_UniEuk', 'Date'])['TPM'].sum().reset_index()\n",
    "\n",
    "grouped_df.head()\n",
    "# Normalize TPM sums to get relative expression per hour\n",
    "total_tpm_per_hour = grouped_df.groupby('Date')['TPM'].transform('sum')\n",
    "grouped_df['rel_expression_per_hour'] = grouped_df['TPM'] / total_tpm_per_hour\n",
    "\n",
    "# Combine low-abundant groups into a single 'Rare' category\n",
    "threshold = 0.05\n",
    "grouped_df.loc[grouped_df['rel_expression_per_hour'] <= threshold, 'Genus_UniEuk'] = 'Rare'\n",
    "\n",
    "\n",
    "# Remove categories with no expression\n",
    "grouped_df = grouped_df[grouped_df['rel_expression_per_hour'] > 0]\n",
    "\n",
    "# Group once more to combine Rares\n",
    "grouped_df = grouped_df.groupby(['Genus_UniEuk', 'Date'])['rel_expression_per_hour'].sum().reset_index()\n",
    "\n",
    "# Plot\n",
    "fig = px.bar(grouped_df, \n",
    "            x='Date', \n",
    "            y='rel_expression_per_hour', \n",
    "            color='Genus_UniEuk',\n",
    "            title='Relative Expression Per Hour at Station 51',\n",
    "            category_orders={\"Genus_UniEuk\": ['Arthropoda', 'Acantharea', 'Ctenophora', 'Diatomeae', 'Dinophyceae', \n",
    "                                                    'Florideophyceae','Odontella', 'Phaeodarea', 'Prymnesiophyceae',\n",
    "                                                    'Spirotrichea', 'Vertebrata', 'Rare',]},\n",
    "            color_discrete_map=color_discrete_map\n",
    "            )\n",
    "\n",
    "fig.update_layout(\n",
    "    width=800,\n",
    "    height=400,\n",
    "    xaxis_title='Date and Time',\n",
    "    yaxis_title='Relative Expression',\n",
    "    xaxis_tickangle=-45,\n",
    "    legend_title='Taxonomic Group'\n",
    ")\n",
    "\n",
    "# Save the figure\n",
    "filename_base = \"../figures/metatranscriptomics/51_relative_expression_per_hour_genus\"\n",
    "fig.write_image(filename_base + \".png\", scale=1)\n",
    "fig.write_image(filename_base + \".svg\", scale=1)\n",
    "\n",
    "fig.show()"
   ]
  },
  {
   "cell_type": "markdown",
   "metadata": {},
   "source": [
    "### Transcripts per L\n",
    "Here, we will calculate the number of transcripts per L for each sample. and plot the distribution of the number of transcripts per L for each sample."
   ]
  },
  {
   "cell_type": "code",
   "execution_count": 15,
   "metadata": {},
   "outputs": [],
   "source": [
    "# Use TPM sums to calculate Transcripts per Liter\n",
    "ERCC_normalisation = pd.read_csv('../data/ERCC92/ERCC_normalisation.csv')\n",
    "\n",
    "# Merge ERCC normalisation data into dataframe\n",
    "data_130 = data_130.merge(ERCC_normalisation, left_on='sample', right_on='sample_name', how='left')\n",
    "data_51 = data_51.merge(ERCC_normalisation, left_on='sample', right_on='sample_name', how='left')\n",
    "\n",
    "# Calculate TPL\n",
    "data_130['TPL'] = data_130['TPM'] * data_130['ERCC_norm_factor']\n",
    "data_51['TPL'] = data_51['TPM'] * data_51['ERCC_norm_factor']"
   ]
  },
  {
   "cell_type": "code",
   "execution_count": 16,
   "metadata": {},
   "outputs": [
    {
     "name": "stderr",
     "output_type": "stream",
     "text": [
      "/opt/homebrew/lib/python3.9/site-packages/_plotly_utils/basevalidators.py:107: FutureWarning:\n",
      "\n",
      "The behavior of DatetimeProperties.to_pydatetime is deprecated, in a future version this will return a Series containing python datetime objects instead of an ndarray. To retain the old behavior, call `np.array` on the result\n",
      "\n"
     ]
    },
    {
     "data": {
      "application/vnd.plotly.v1+json": {
       "config": {
        "plotlyServerURL": "https://plot.ly"
       },
       "data": [
        {
         "alignmentgroup": "True",
         "hovertemplate": "Genus_UniEuk=Rare<br>Date=%{x}<br>TPL=%{y}<extra></extra>",
         "legendgroup": "Rare",
         "marker": {
          "color": "#545454",
          "pattern": {
           "shape": ""
          }
         },
         "name": "Rare",
         "offsetgroup": "Rare",
         "orientation": "v",
         "showlegend": true,
         "textposition": "auto",
         "type": "bar",
         "x": [
          "2023-04-20T08:01:00",
          "2023-04-20T09:02:00",
          "2023-04-20T10:06:00",
          "2023-04-20T11:07:00",
          "2023-04-20T12:00:00",
          "2023-04-20T13:01:00",
          "2023-04-20T13:58:00",
          "2023-04-20T14:57:00",
          "2023-04-20T15:58:00",
          "2023-04-20T17:07:00",
          "2023-04-20T18:04:00",
          "2023-04-20T18:59:00",
          "2023-04-20T20:02:00",
          "2023-04-20T21:02:00",
          "2023-04-20T22:02:00",
          "2023-04-20T22:58:00",
          "2023-04-20T23:57:00",
          "2023-04-21T01:01:00",
          "2023-04-21T02:00:00",
          "2023-04-21T03:00:00",
          "2023-04-21T04:00:00",
          "2023-04-21T05:00:00",
          "2023-04-21T06:00:00",
          "2023-04-21T07:00:00",
          "2023-04-21T08:00:00"
         ],
         "xaxis": "x",
         "y": [
          621294.3667101174,
          1771926.5218012223,
          951816.352769361,
          915837.6431564762,
          1791925.5682228655,
          1071830.3446593117,
          1340157.6153539964,
          1200100.1572338445,
          769013.4507889969,
          739334.8152660044,
          520191.10842369543,
          508489.38222609815,
          1130812.9098628596,
          303270.1713675851,
          1772121.0650617278,
          1672631.7770731181,
          657012.0941863338,
          726082.1690285866,
          575627.1990135916,
          2138355.326360214,
          1162919.247157367,
          705440.1296517039,
          772046.3606597126,
          1784608.6202281986,
          1834624.619255191
         ],
         "yaxis": "y"
        },
        {
         "alignmentgroup": "True",
         "hovertemplate": "Genus_UniEuk=Gracilaria<br>Date=%{x}<br>TPL=%{y}<extra></extra>",
         "legendgroup": "Gracilaria",
         "marker": {
          "color": "#FFA15A",
          "pattern": {
           "shape": ""
          }
         },
         "name": "Gracilaria",
         "offsetgroup": "Gracilaria",
         "orientation": "v",
         "showlegend": true,
         "textposition": "auto",
         "type": "bar",
         "x": [
          "2023-04-20T18:59:00"
         ],
         "xaxis": "x",
         "y": [
          159533.16747370403
         ],
         "yaxis": "y"
        },
        {
         "alignmentgroup": "True",
         "hovertemplate": "Genus_UniEuk=Hemistasia<br>Date=%{x}<br>TPL=%{y}<extra></extra>",
         "legendgroup": "Hemistasia",
         "marker": {
          "color": "#19d3f3",
          "pattern": {
           "shape": ""
          }
         },
         "name": "Hemistasia",
         "offsetgroup": "Hemistasia",
         "orientation": "v",
         "showlegend": true,
         "textposition": "auto",
         "type": "bar",
         "x": [
          "2023-04-20T18:59:00"
         ],
         "xaxis": "x",
         "y": [
          156734.66273784454
         ],
         "yaxis": "y"
        },
        {
         "alignmentgroup": "True",
         "hovertemplate": "Genus_UniEuk=Noctiluca<br>Date=%{x}<br>TPL=%{y}<extra></extra>",
         "legendgroup": "Noctiluca",
         "marker": {
          "color": "#56B4E8",
          "pattern": {
           "shape": ""
          }
         },
         "name": "Noctiluca",
         "offsetgroup": "Noctiluca",
         "orientation": "v",
         "showlegend": true,
         "textposition": "auto",
         "type": "bar",
         "x": [
          "2023-04-20T08:01:00",
          "2023-04-20T11:07:00",
          "2023-04-20T12:00:00",
          "2023-04-20T15:58:00",
          "2023-04-20T17:07:00",
          "2023-04-20T18:04:00",
          "2023-04-20T18:59:00",
          "2023-04-20T20:02:00",
          "2023-04-20T21:02:00",
          "2023-04-20T22:02:00",
          "2023-04-20T22:58:00",
          "2023-04-20T23:57:00",
          "2023-04-21T01:01:00",
          "2023-04-21T02:00:00",
          "2023-04-21T04:00:00",
          "2023-04-21T05:00:00",
          "2023-04-21T06:00:00",
          "2023-04-21T07:00:00",
          "2023-04-21T08:00:00"
         ],
         "xaxis": "x",
         "y": [
          416768.0853365047,
          941755.3952345133,
          1630295.3724008445,
          599064.349835444,
          751253.1692202955,
          543629.4629931661,
          143060.8627415378,
          1563522.2600184141,
          1350585.7009975452,
          9642479.263141759,
          9656226.597921746,
          894784.2669684737,
          808250.9909673701,
          834984.3617499492,
          1887944.0230214149,
          1180894.0100847788,
          961078.2009910987,
          6063163.546467351,
          3317351.234368328
         ],
         "yaxis": "y"
        },
        {
         "alignmentgroup": "True",
         "hovertemplate": "Genus_UniEuk=Phaeocystis<br>Date=%{x}<br>TPL=%{y}<extra></extra>",
         "legendgroup": "Phaeocystis",
         "marker": {
          "color": "#009E73",
          "pattern": {
           "shape": ""
          }
         },
         "name": "Phaeocystis",
         "offsetgroup": "Phaeocystis",
         "orientation": "v",
         "showlegend": true,
         "textposition": "auto",
         "type": "bar",
         "x": [
          "2023-04-20T08:01:00",
          "2023-04-20T09:02:00",
          "2023-04-20T10:06:00",
          "2023-04-20T11:07:00",
          "2023-04-20T12:00:00",
          "2023-04-20T13:01:00",
          "2023-04-20T13:58:00",
          "2023-04-20T14:57:00",
          "2023-04-20T15:58:00",
          "2023-04-20T17:07:00",
          "2023-04-20T18:04:00",
          "2023-04-20T18:59:00",
          "2023-04-20T20:02:00",
          "2023-04-20T21:02:00",
          "2023-04-20T22:02:00",
          "2023-04-20T22:58:00",
          "2023-04-20T23:57:00",
          "2023-04-21T01:01:00",
          "2023-04-21T02:00:00",
          "2023-04-21T03:00:00",
          "2023-04-21T04:00:00",
          "2023-04-21T05:00:00",
          "2023-04-21T06:00:00",
          "2023-04-21T07:00:00",
          "2023-04-21T08:00:00"
         ],
         "xaxis": "x",
         "y": [
          2376189.2889467627,
          5791171.681311401,
          5309396.777511955,
          5139940.703019878,
          13811547.800967313,
          12665626.578463301,
          14836411.463416923,
          9483587.068385826,
          5247920.079633325,
          5911427.839139921,
          5386889.622311169,
          1737410.938164888,
          7423475.571114833,
          1329886.3294309452,
          4120767.8843323584,
          1712511.9188615147,
          3876014.734515287,
          3188477.4053530707,
          7553968.598573214,
          16284225.904646717,
          7356344.325516877,
          2206577.961359179,
          5840969.800261623,
          10509262.38227197,
          9765559.371828627
         ],
         "yaxis": "y"
        }
       ],
       "layout": {
        "barmode": "relative",
        "height": 400,
        "legend": {
         "title": {
          "text": "Taxonomic Group"
         },
         "tracegroupgap": 0
        },
        "template": {
         "data": {
          "bar": [
           {
            "error_x": {
             "color": "#2a3f5f"
            },
            "error_y": {
             "color": "#2a3f5f"
            },
            "marker": {
             "line": {
              "color": "#E5ECF6",
              "width": 0.5
             },
             "pattern": {
              "fillmode": "overlay",
              "size": 10,
              "solidity": 0.2
             }
            },
            "type": "bar"
           }
          ],
          "barpolar": [
           {
            "marker": {
             "line": {
              "color": "#E5ECF6",
              "width": 0.5
             },
             "pattern": {
              "fillmode": "overlay",
              "size": 10,
              "solidity": 0.2
             }
            },
            "type": "barpolar"
           }
          ],
          "carpet": [
           {
            "aaxis": {
             "endlinecolor": "#2a3f5f",
             "gridcolor": "white",
             "linecolor": "white",
             "minorgridcolor": "white",
             "startlinecolor": "#2a3f5f"
            },
            "baxis": {
             "endlinecolor": "#2a3f5f",
             "gridcolor": "white",
             "linecolor": "white",
             "minorgridcolor": "white",
             "startlinecolor": "#2a3f5f"
            },
            "type": "carpet"
           }
          ],
          "choropleth": [
           {
            "colorbar": {
             "outlinewidth": 0,
             "ticks": ""
            },
            "type": "choropleth"
           }
          ],
          "contour": [
           {
            "colorbar": {
             "outlinewidth": 0,
             "ticks": ""
            },
            "colorscale": [
             [
              0,
              "#0d0887"
             ],
             [
              0.1111111111111111,
              "#46039f"
             ],
             [
              0.2222222222222222,
              "#7201a8"
             ],
             [
              0.3333333333333333,
              "#9c179e"
             ],
             [
              0.4444444444444444,
              "#bd3786"
             ],
             [
              0.5555555555555556,
              "#d8576b"
             ],
             [
              0.6666666666666666,
              "#ed7953"
             ],
             [
              0.7777777777777778,
              "#fb9f3a"
             ],
             [
              0.8888888888888888,
              "#fdca26"
             ],
             [
              1,
              "#f0f921"
             ]
            ],
            "type": "contour"
           }
          ],
          "contourcarpet": [
           {
            "colorbar": {
             "outlinewidth": 0,
             "ticks": ""
            },
            "type": "contourcarpet"
           }
          ],
          "heatmap": [
           {
            "colorbar": {
             "outlinewidth": 0,
             "ticks": ""
            },
            "colorscale": [
             [
              0,
              "#0d0887"
             ],
             [
              0.1111111111111111,
              "#46039f"
             ],
             [
              0.2222222222222222,
              "#7201a8"
             ],
             [
              0.3333333333333333,
              "#9c179e"
             ],
             [
              0.4444444444444444,
              "#bd3786"
             ],
             [
              0.5555555555555556,
              "#d8576b"
             ],
             [
              0.6666666666666666,
              "#ed7953"
             ],
             [
              0.7777777777777778,
              "#fb9f3a"
             ],
             [
              0.8888888888888888,
              "#fdca26"
             ],
             [
              1,
              "#f0f921"
             ]
            ],
            "type": "heatmap"
           }
          ],
          "heatmapgl": [
           {
            "colorbar": {
             "outlinewidth": 0,
             "ticks": ""
            },
            "colorscale": [
             [
              0,
              "#0d0887"
             ],
             [
              0.1111111111111111,
              "#46039f"
             ],
             [
              0.2222222222222222,
              "#7201a8"
             ],
             [
              0.3333333333333333,
              "#9c179e"
             ],
             [
              0.4444444444444444,
              "#bd3786"
             ],
             [
              0.5555555555555556,
              "#d8576b"
             ],
             [
              0.6666666666666666,
              "#ed7953"
             ],
             [
              0.7777777777777778,
              "#fb9f3a"
             ],
             [
              0.8888888888888888,
              "#fdca26"
             ],
             [
              1,
              "#f0f921"
             ]
            ],
            "type": "heatmapgl"
           }
          ],
          "histogram": [
           {
            "marker": {
             "pattern": {
              "fillmode": "overlay",
              "size": 10,
              "solidity": 0.2
             }
            },
            "type": "histogram"
           }
          ],
          "histogram2d": [
           {
            "colorbar": {
             "outlinewidth": 0,
             "ticks": ""
            },
            "colorscale": [
             [
              0,
              "#0d0887"
             ],
             [
              0.1111111111111111,
              "#46039f"
             ],
             [
              0.2222222222222222,
              "#7201a8"
             ],
             [
              0.3333333333333333,
              "#9c179e"
             ],
             [
              0.4444444444444444,
              "#bd3786"
             ],
             [
              0.5555555555555556,
              "#d8576b"
             ],
             [
              0.6666666666666666,
              "#ed7953"
             ],
             [
              0.7777777777777778,
              "#fb9f3a"
             ],
             [
              0.8888888888888888,
              "#fdca26"
             ],
             [
              1,
              "#f0f921"
             ]
            ],
            "type": "histogram2d"
           }
          ],
          "histogram2dcontour": [
           {
            "colorbar": {
             "outlinewidth": 0,
             "ticks": ""
            },
            "colorscale": [
             [
              0,
              "#0d0887"
             ],
             [
              0.1111111111111111,
              "#46039f"
             ],
             [
              0.2222222222222222,
              "#7201a8"
             ],
             [
              0.3333333333333333,
              "#9c179e"
             ],
             [
              0.4444444444444444,
              "#bd3786"
             ],
             [
              0.5555555555555556,
              "#d8576b"
             ],
             [
              0.6666666666666666,
              "#ed7953"
             ],
             [
              0.7777777777777778,
              "#fb9f3a"
             ],
             [
              0.8888888888888888,
              "#fdca26"
             ],
             [
              1,
              "#f0f921"
             ]
            ],
            "type": "histogram2dcontour"
           }
          ],
          "mesh3d": [
           {
            "colorbar": {
             "outlinewidth": 0,
             "ticks": ""
            },
            "type": "mesh3d"
           }
          ],
          "parcoords": [
           {
            "line": {
             "colorbar": {
              "outlinewidth": 0,
              "ticks": ""
             }
            },
            "type": "parcoords"
           }
          ],
          "pie": [
           {
            "automargin": true,
            "type": "pie"
           }
          ],
          "scatter": [
           {
            "marker": {
             "colorbar": {
              "outlinewidth": 0,
              "ticks": ""
             }
            },
            "type": "scatter"
           }
          ],
          "scatter3d": [
           {
            "line": {
             "colorbar": {
              "outlinewidth": 0,
              "ticks": ""
             }
            },
            "marker": {
             "colorbar": {
              "outlinewidth": 0,
              "ticks": ""
             }
            },
            "type": "scatter3d"
           }
          ],
          "scattercarpet": [
           {
            "marker": {
             "colorbar": {
              "outlinewidth": 0,
              "ticks": ""
             }
            },
            "type": "scattercarpet"
           }
          ],
          "scattergeo": [
           {
            "marker": {
             "colorbar": {
              "outlinewidth": 0,
              "ticks": ""
             }
            },
            "type": "scattergeo"
           }
          ],
          "scattergl": [
           {
            "marker": {
             "colorbar": {
              "outlinewidth": 0,
              "ticks": ""
             }
            },
            "type": "scattergl"
           }
          ],
          "scattermapbox": [
           {
            "marker": {
             "colorbar": {
              "outlinewidth": 0,
              "ticks": ""
             }
            },
            "type": "scattermapbox"
           }
          ],
          "scatterpolar": [
           {
            "marker": {
             "colorbar": {
              "outlinewidth": 0,
              "ticks": ""
             }
            },
            "type": "scatterpolar"
           }
          ],
          "scatterpolargl": [
           {
            "marker": {
             "colorbar": {
              "outlinewidth": 0,
              "ticks": ""
             }
            },
            "type": "scatterpolargl"
           }
          ],
          "scatterternary": [
           {
            "marker": {
             "colorbar": {
              "outlinewidth": 0,
              "ticks": ""
             }
            },
            "type": "scatterternary"
           }
          ],
          "surface": [
           {
            "colorbar": {
             "outlinewidth": 0,
             "ticks": ""
            },
            "colorscale": [
             [
              0,
              "#0d0887"
             ],
             [
              0.1111111111111111,
              "#46039f"
             ],
             [
              0.2222222222222222,
              "#7201a8"
             ],
             [
              0.3333333333333333,
              "#9c179e"
             ],
             [
              0.4444444444444444,
              "#bd3786"
             ],
             [
              0.5555555555555556,
              "#d8576b"
             ],
             [
              0.6666666666666666,
              "#ed7953"
             ],
             [
              0.7777777777777778,
              "#fb9f3a"
             ],
             [
              0.8888888888888888,
              "#fdca26"
             ],
             [
              1,
              "#f0f921"
             ]
            ],
            "type": "surface"
           }
          ],
          "table": [
           {
            "cells": {
             "fill": {
              "color": "#EBF0F8"
             },
             "line": {
              "color": "white"
             }
            },
            "header": {
             "fill": {
              "color": "#C8D4E3"
             },
             "line": {
              "color": "white"
             }
            },
            "type": "table"
           }
          ]
         },
         "layout": {
          "annotationdefaults": {
           "arrowcolor": "#2a3f5f",
           "arrowhead": 0,
           "arrowwidth": 1
          },
          "autotypenumbers": "strict",
          "coloraxis": {
           "colorbar": {
            "outlinewidth": 0,
            "ticks": ""
           }
          },
          "colorscale": {
           "diverging": [
            [
             0,
             "#8e0152"
            ],
            [
             0.1,
             "#c51b7d"
            ],
            [
             0.2,
             "#de77ae"
            ],
            [
             0.3,
             "#f1b6da"
            ],
            [
             0.4,
             "#fde0ef"
            ],
            [
             0.5,
             "#f7f7f7"
            ],
            [
             0.6,
             "#e6f5d0"
            ],
            [
             0.7,
             "#b8e186"
            ],
            [
             0.8,
             "#7fbc41"
            ],
            [
             0.9,
             "#4d9221"
            ],
            [
             1,
             "#276419"
            ]
           ],
           "sequential": [
            [
             0,
             "#0d0887"
            ],
            [
             0.1111111111111111,
             "#46039f"
            ],
            [
             0.2222222222222222,
             "#7201a8"
            ],
            [
             0.3333333333333333,
             "#9c179e"
            ],
            [
             0.4444444444444444,
             "#bd3786"
            ],
            [
             0.5555555555555556,
             "#d8576b"
            ],
            [
             0.6666666666666666,
             "#ed7953"
            ],
            [
             0.7777777777777778,
             "#fb9f3a"
            ],
            [
             0.8888888888888888,
             "#fdca26"
            ],
            [
             1,
             "#f0f921"
            ]
           ],
           "sequentialminus": [
            [
             0,
             "#0d0887"
            ],
            [
             0.1111111111111111,
             "#46039f"
            ],
            [
             0.2222222222222222,
             "#7201a8"
            ],
            [
             0.3333333333333333,
             "#9c179e"
            ],
            [
             0.4444444444444444,
             "#bd3786"
            ],
            [
             0.5555555555555556,
             "#d8576b"
            ],
            [
             0.6666666666666666,
             "#ed7953"
            ],
            [
             0.7777777777777778,
             "#fb9f3a"
            ],
            [
             0.8888888888888888,
             "#fdca26"
            ],
            [
             1,
             "#f0f921"
            ]
           ]
          },
          "colorway": [
           "#636efa",
           "#EF553B",
           "#00cc96",
           "#ab63fa",
           "#FFA15A",
           "#19d3f3",
           "#FF6692",
           "#B6E880",
           "#FF97FF",
           "#FECB52"
          ],
          "font": {
           "color": "#2a3f5f"
          },
          "geo": {
           "bgcolor": "white",
           "lakecolor": "white",
           "landcolor": "#E5ECF6",
           "showlakes": true,
           "showland": true,
           "subunitcolor": "white"
          },
          "hoverlabel": {
           "align": "left"
          },
          "hovermode": "closest",
          "mapbox": {
           "style": "light"
          },
          "paper_bgcolor": "white",
          "plot_bgcolor": "#E5ECF6",
          "polar": {
           "angularaxis": {
            "gridcolor": "white",
            "linecolor": "white",
            "ticks": ""
           },
           "bgcolor": "#E5ECF6",
           "radialaxis": {
            "gridcolor": "white",
            "linecolor": "white",
            "ticks": ""
           }
          },
          "scene": {
           "xaxis": {
            "backgroundcolor": "#E5ECF6",
            "gridcolor": "white",
            "gridwidth": 2,
            "linecolor": "white",
            "showbackground": true,
            "ticks": "",
            "zerolinecolor": "white"
           },
           "yaxis": {
            "backgroundcolor": "#E5ECF6",
            "gridcolor": "white",
            "gridwidth": 2,
            "linecolor": "white",
            "showbackground": true,
            "ticks": "",
            "zerolinecolor": "white"
           },
           "zaxis": {
            "backgroundcolor": "#E5ECF6",
            "gridcolor": "white",
            "gridwidth": 2,
            "linecolor": "white",
            "showbackground": true,
            "ticks": "",
            "zerolinecolor": "white"
           }
          },
          "shapedefaults": {
           "line": {
            "color": "#2a3f5f"
           }
          },
          "ternary": {
           "aaxis": {
            "gridcolor": "white",
            "linecolor": "white",
            "ticks": ""
           },
           "baxis": {
            "gridcolor": "white",
            "linecolor": "white",
            "ticks": ""
           },
           "bgcolor": "#E5ECF6",
           "caxis": {
            "gridcolor": "white",
            "linecolor": "white",
            "ticks": ""
           }
          },
          "title": {
           "x": 0.05
          },
          "xaxis": {
           "automargin": true,
           "gridcolor": "white",
           "linecolor": "white",
           "ticks": "",
           "title": {
            "standoff": 15
           },
           "zerolinecolor": "white",
           "zerolinewidth": 2
          },
          "yaxis": {
           "automargin": true,
           "gridcolor": "white",
           "linecolor": "white",
           "ticks": "",
           "title": {
            "standoff": 15
           },
           "zerolinecolor": "white",
           "zerolinewidth": 2
          }
         }
        },
        "title": {
         "text": "TPL sum at Station 130"
        },
        "width": 800,
        "xaxis": {
         "anchor": "y",
         "domain": [
          0,
          1
         ],
         "tickangle": -45,
         "title": {
          "text": "Date and Time"
         }
        },
        "yaxis": {
         "anchor": "x",
         "domain": [
          0,
          1
         ],
         "title": {
          "text": "TPL"
         }
        }
       }
      }
     },
     "metadata": {},
     "output_type": "display_data"
    }
   ],
   "source": [
    "# Filter data based on TPL and p_ident thresholds\n",
    "filtered_data = data_130[(data_130['p_ident'] >= 0.95)]\n",
    "\n",
    "# Group by taxonomic level and sample, then sum TPL\n",
    "grouped_df = filtered_data.groupby(['Genus_UniEuk', 'Date'])['TPL'].sum().reset_index()\n",
    "\n",
    "grouped_df.head()\n",
    "# Normalize TPL sums to get relative expression per hour\n",
    "total_TPL_per_hour = grouped_df.groupby('Date')['TPL'].transform('sum')\n",
    "grouped_df['rel_expression_per_hour'] = grouped_df['TPL'] / total_TPL_per_hour\n",
    "\n",
    "# Combine low-abundant groups into a single 'Rare' category\n",
    "threshold = 0.05\n",
    "grouped_df.loc[grouped_df['rel_expression_per_hour'] <= threshold, 'Genus_UniEuk'] = 'Rare'\n",
    "\n",
    "\n",
    "# Remove categories with no expression\n",
    "grouped_df = grouped_df[grouped_df['rel_expression_per_hour'] > 0]\n",
    "\n",
    "# Group once more to combine Rares\n",
    "grouped_df = grouped_df.groupby(['Genus_UniEuk', 'Date'])['TPL'].sum().reset_index()\n",
    "\n",
    "# Plot\n",
    "fig = px.bar(grouped_df, \n",
    "            x='Date', \n",
    "            y='TPL', \n",
    "            color='Genus_UniEuk',\n",
    "            title='TPL sum at Station 130',\n",
    "            category_orders={\"Genus_UniEuk\": ['Arthropoda', 'Acantharea', 'Ctenophora', 'Diatomeae', 'Dinophyceae', \n",
    "                                                    'Florideophyceae','Odontella', 'Phaeodarea', 'Prymnesiophyceae',\n",
    "                                                    'Spirotrichea', 'Vertebrata', 'Rare',]},\n",
    "            color_discrete_map=color_discrete_map\n",
    "            )\n",
    "\n",
    "fig.update_layout(\n",
    "    width=800,\n",
    "    height=400,\n",
    "    xaxis_title='Date and Time',\n",
    "    yaxis_title='TPL',\n",
    "    xaxis_tickangle=-45,\n",
    "    legend_title='Taxonomic Group'\n",
    ")\n",
    "\n",
    "# Save the figure\n",
    "filename_base = \"../figures/metatranscriptomics/130_TPL_per_hour_genus\"\n",
    "fig.write_image(filename_base + \".png\", scale=1)\n",
    "fig.write_image(filename_base + \".svg\", scale=1)\n",
    "\n",
    "fig.show()"
   ]
  },
  {
   "cell_type": "code",
   "execution_count": 17,
   "metadata": {},
   "outputs": [
    {
     "name": "stderr",
     "output_type": "stream",
     "text": [
      "/opt/homebrew/lib/python3.9/site-packages/_plotly_utils/basevalidators.py:107: FutureWarning:\n",
      "\n",
      "The behavior of DatetimeProperties.to_pydatetime is deprecated, in a future version this will return a Series containing python datetime objects instead of an ndarray. To retain the old behavior, call `np.array` on the result\n",
      "\n"
     ]
    },
    {
     "data": {
      "application/vnd.plotly.v1+json": {
       "config": {
        "plotlyServerURL": "https://plot.ly"
       },
       "data": [
        {
         "alignmentgroup": "True",
         "hovertemplate": "Genus_UniEuk=Rare<br>Date=%{x}<br>TPL=%{y}<extra></extra>",
         "legendgroup": "Rare",
         "marker": {
          "color": "#545454",
          "pattern": {
           "shape": ""
          }
         },
         "name": "Rare",
         "offsetgroup": "Rare",
         "orientation": "v",
         "showlegend": true,
         "textposition": "auto",
         "type": "bar",
         "x": [
          "2023-04-20T08:01:00",
          "2023-04-20T09:02:00",
          "2023-04-20T10:06:00",
          "2023-04-20T11:07:00",
          "2023-04-20T12:00:00",
          "2023-04-20T13:01:00",
          "2023-04-20T13:58:00",
          "2023-04-20T14:57:00",
          "2023-04-20T15:58:00",
          "2023-04-20T17:07:00",
          "2023-04-20T18:04:00",
          "2023-04-20T18:59:00",
          "2023-04-20T20:02:00",
          "2023-04-20T21:02:00",
          "2023-04-20T22:02:00",
          "2023-04-20T22:58:00",
          "2023-04-20T23:57:00",
          "2023-04-21T01:01:00",
          "2023-04-21T02:00:00",
          "2023-04-21T03:00:00",
          "2023-04-21T04:00:00",
          "2023-04-21T05:00:00",
          "2023-04-21T06:00:00",
          "2023-04-21T07:00:00",
          "2023-04-21T08:00:00"
         ],
         "xaxis": "x",
         "y": [
          621294.3667101174,
          1771926.5218012223,
          951816.352769361,
          915837.6431564762,
          1791925.5682228655,
          1071830.3446593117,
          1340157.6153539964,
          1200100.1572338445,
          769013.4507889969,
          739334.8152660044,
          520191.10842369543,
          508489.38222609815,
          1130812.9098628596,
          303270.1713675851,
          1772121.0650617278,
          1672631.7770731181,
          657012.0941863338,
          726082.1690285866,
          575627.1990135916,
          2138355.326360214,
          1162919.247157367,
          705440.1296517039,
          772046.3606597126,
          1784608.6202281986,
          1834624.619255191
         ],
         "yaxis": "y"
        },
        {
         "alignmentgroup": "True",
         "hovertemplate": "Genus_UniEuk=Gracilaria<br>Date=%{x}<br>TPL=%{y}<extra></extra>",
         "legendgroup": "Gracilaria",
         "marker": {
          "color": "#FFA15A",
          "pattern": {
           "shape": ""
          }
         },
         "name": "Gracilaria",
         "offsetgroup": "Gracilaria",
         "orientation": "v",
         "showlegend": true,
         "textposition": "auto",
         "type": "bar",
         "x": [
          "2023-04-20T18:59:00"
         ],
         "xaxis": "x",
         "y": [
          159533.16747370403
         ],
         "yaxis": "y"
        },
        {
         "alignmentgroup": "True",
         "hovertemplate": "Genus_UniEuk=Hemistasia<br>Date=%{x}<br>TPL=%{y}<extra></extra>",
         "legendgroup": "Hemistasia",
         "marker": {
          "color": "#19d3f3",
          "pattern": {
           "shape": ""
          }
         },
         "name": "Hemistasia",
         "offsetgroup": "Hemistasia",
         "orientation": "v",
         "showlegend": true,
         "textposition": "auto",
         "type": "bar",
         "x": [
          "2023-04-20T18:59:00"
         ],
         "xaxis": "x",
         "y": [
          156734.66273784454
         ],
         "yaxis": "y"
        },
        {
         "alignmentgroup": "True",
         "hovertemplate": "Genus_UniEuk=Noctiluca<br>Date=%{x}<br>TPL=%{y}<extra></extra>",
         "legendgroup": "Noctiluca",
         "marker": {
          "color": "#56B4E8",
          "pattern": {
           "shape": ""
          }
         },
         "name": "Noctiluca",
         "offsetgroup": "Noctiluca",
         "orientation": "v",
         "showlegend": true,
         "textposition": "auto",
         "type": "bar",
         "x": [
          "2023-04-20T08:01:00",
          "2023-04-20T11:07:00",
          "2023-04-20T12:00:00",
          "2023-04-20T15:58:00",
          "2023-04-20T17:07:00",
          "2023-04-20T18:04:00",
          "2023-04-20T18:59:00",
          "2023-04-20T20:02:00",
          "2023-04-20T21:02:00",
          "2023-04-20T22:02:00",
          "2023-04-20T22:58:00",
          "2023-04-20T23:57:00",
          "2023-04-21T01:01:00",
          "2023-04-21T02:00:00",
          "2023-04-21T04:00:00",
          "2023-04-21T05:00:00",
          "2023-04-21T06:00:00",
          "2023-04-21T07:00:00",
          "2023-04-21T08:00:00"
         ],
         "xaxis": "x",
         "y": [
          416768.0853365047,
          941755.3952345133,
          1630295.3724008445,
          599064.349835444,
          751253.1692202955,
          543629.4629931661,
          143060.8627415378,
          1563522.2600184141,
          1350585.7009975452,
          9642479.263141759,
          9656226.597921746,
          894784.2669684737,
          808250.9909673701,
          834984.3617499492,
          1887944.0230214149,
          1180894.0100847788,
          961078.2009910987,
          6063163.546467351,
          3317351.234368328
         ],
         "yaxis": "y"
        },
        {
         "alignmentgroup": "True",
         "hovertemplate": "Genus_UniEuk=Phaeocystis<br>Date=%{x}<br>TPL=%{y}<extra></extra>",
         "legendgroup": "Phaeocystis",
         "marker": {
          "color": "#009E73",
          "pattern": {
           "shape": ""
          }
         },
         "name": "Phaeocystis",
         "offsetgroup": "Phaeocystis",
         "orientation": "v",
         "showlegend": true,
         "textposition": "auto",
         "type": "bar",
         "x": [
          "2023-04-20T08:01:00",
          "2023-04-20T09:02:00",
          "2023-04-20T10:06:00",
          "2023-04-20T11:07:00",
          "2023-04-20T12:00:00",
          "2023-04-20T13:01:00",
          "2023-04-20T13:58:00",
          "2023-04-20T14:57:00",
          "2023-04-20T15:58:00",
          "2023-04-20T17:07:00",
          "2023-04-20T18:04:00",
          "2023-04-20T18:59:00",
          "2023-04-20T20:02:00",
          "2023-04-20T21:02:00",
          "2023-04-20T22:02:00",
          "2023-04-20T22:58:00",
          "2023-04-20T23:57:00",
          "2023-04-21T01:01:00",
          "2023-04-21T02:00:00",
          "2023-04-21T03:00:00",
          "2023-04-21T04:00:00",
          "2023-04-21T05:00:00",
          "2023-04-21T06:00:00",
          "2023-04-21T07:00:00",
          "2023-04-21T08:00:00"
         ],
         "xaxis": "x",
         "y": [
          2376189.2889467627,
          5791171.681311401,
          5309396.777511955,
          5139940.703019878,
          13811547.800967313,
          12665626.578463301,
          14836411.463416923,
          9483587.068385826,
          5247920.079633325,
          5911427.839139921,
          5386889.622311169,
          1737410.938164888,
          7423475.571114833,
          1329886.3294309452,
          4120767.8843323584,
          1712511.9188615147,
          3876014.734515287,
          3188477.4053530707,
          7553968.598573214,
          16284225.904646717,
          7356344.325516877,
          2206577.961359179,
          5840969.800261623,
          10509262.38227197,
          9765559.371828627
         ],
         "yaxis": "y"
        }
       ],
       "layout": {
        "barmode": "relative",
        "height": 400,
        "legend": {
         "title": {
          "text": "Taxonomic Group"
         },
         "tracegroupgap": 0
        },
        "template": {
         "data": {
          "bar": [
           {
            "error_x": {
             "color": "#2a3f5f"
            },
            "error_y": {
             "color": "#2a3f5f"
            },
            "marker": {
             "line": {
              "color": "#E5ECF6",
              "width": 0.5
             },
             "pattern": {
              "fillmode": "overlay",
              "size": 10,
              "solidity": 0.2
             }
            },
            "type": "bar"
           }
          ],
          "barpolar": [
           {
            "marker": {
             "line": {
              "color": "#E5ECF6",
              "width": 0.5
             },
             "pattern": {
              "fillmode": "overlay",
              "size": 10,
              "solidity": 0.2
             }
            },
            "type": "barpolar"
           }
          ],
          "carpet": [
           {
            "aaxis": {
             "endlinecolor": "#2a3f5f",
             "gridcolor": "white",
             "linecolor": "white",
             "minorgridcolor": "white",
             "startlinecolor": "#2a3f5f"
            },
            "baxis": {
             "endlinecolor": "#2a3f5f",
             "gridcolor": "white",
             "linecolor": "white",
             "minorgridcolor": "white",
             "startlinecolor": "#2a3f5f"
            },
            "type": "carpet"
           }
          ],
          "choropleth": [
           {
            "colorbar": {
             "outlinewidth": 0,
             "ticks": ""
            },
            "type": "choropleth"
           }
          ],
          "contour": [
           {
            "colorbar": {
             "outlinewidth": 0,
             "ticks": ""
            },
            "colorscale": [
             [
              0,
              "#0d0887"
             ],
             [
              0.1111111111111111,
              "#46039f"
             ],
             [
              0.2222222222222222,
              "#7201a8"
             ],
             [
              0.3333333333333333,
              "#9c179e"
             ],
             [
              0.4444444444444444,
              "#bd3786"
             ],
             [
              0.5555555555555556,
              "#d8576b"
             ],
             [
              0.6666666666666666,
              "#ed7953"
             ],
             [
              0.7777777777777778,
              "#fb9f3a"
             ],
             [
              0.8888888888888888,
              "#fdca26"
             ],
             [
              1,
              "#f0f921"
             ]
            ],
            "type": "contour"
           }
          ],
          "contourcarpet": [
           {
            "colorbar": {
             "outlinewidth": 0,
             "ticks": ""
            },
            "type": "contourcarpet"
           }
          ],
          "heatmap": [
           {
            "colorbar": {
             "outlinewidth": 0,
             "ticks": ""
            },
            "colorscale": [
             [
              0,
              "#0d0887"
             ],
             [
              0.1111111111111111,
              "#46039f"
             ],
             [
              0.2222222222222222,
              "#7201a8"
             ],
             [
              0.3333333333333333,
              "#9c179e"
             ],
             [
              0.4444444444444444,
              "#bd3786"
             ],
             [
              0.5555555555555556,
              "#d8576b"
             ],
             [
              0.6666666666666666,
              "#ed7953"
             ],
             [
              0.7777777777777778,
              "#fb9f3a"
             ],
             [
              0.8888888888888888,
              "#fdca26"
             ],
             [
              1,
              "#f0f921"
             ]
            ],
            "type": "heatmap"
           }
          ],
          "heatmapgl": [
           {
            "colorbar": {
             "outlinewidth": 0,
             "ticks": ""
            },
            "colorscale": [
             [
              0,
              "#0d0887"
             ],
             [
              0.1111111111111111,
              "#46039f"
             ],
             [
              0.2222222222222222,
              "#7201a8"
             ],
             [
              0.3333333333333333,
              "#9c179e"
             ],
             [
              0.4444444444444444,
              "#bd3786"
             ],
             [
              0.5555555555555556,
              "#d8576b"
             ],
             [
              0.6666666666666666,
              "#ed7953"
             ],
             [
              0.7777777777777778,
              "#fb9f3a"
             ],
             [
              0.8888888888888888,
              "#fdca26"
             ],
             [
              1,
              "#f0f921"
             ]
            ],
            "type": "heatmapgl"
           }
          ],
          "histogram": [
           {
            "marker": {
             "pattern": {
              "fillmode": "overlay",
              "size": 10,
              "solidity": 0.2
             }
            },
            "type": "histogram"
           }
          ],
          "histogram2d": [
           {
            "colorbar": {
             "outlinewidth": 0,
             "ticks": ""
            },
            "colorscale": [
             [
              0,
              "#0d0887"
             ],
             [
              0.1111111111111111,
              "#46039f"
             ],
             [
              0.2222222222222222,
              "#7201a8"
             ],
             [
              0.3333333333333333,
              "#9c179e"
             ],
             [
              0.4444444444444444,
              "#bd3786"
             ],
             [
              0.5555555555555556,
              "#d8576b"
             ],
             [
              0.6666666666666666,
              "#ed7953"
             ],
             [
              0.7777777777777778,
              "#fb9f3a"
             ],
             [
              0.8888888888888888,
              "#fdca26"
             ],
             [
              1,
              "#f0f921"
             ]
            ],
            "type": "histogram2d"
           }
          ],
          "histogram2dcontour": [
           {
            "colorbar": {
             "outlinewidth": 0,
             "ticks": ""
            },
            "colorscale": [
             [
              0,
              "#0d0887"
             ],
             [
              0.1111111111111111,
              "#46039f"
             ],
             [
              0.2222222222222222,
              "#7201a8"
             ],
             [
              0.3333333333333333,
              "#9c179e"
             ],
             [
              0.4444444444444444,
              "#bd3786"
             ],
             [
              0.5555555555555556,
              "#d8576b"
             ],
             [
              0.6666666666666666,
              "#ed7953"
             ],
             [
              0.7777777777777778,
              "#fb9f3a"
             ],
             [
              0.8888888888888888,
              "#fdca26"
             ],
             [
              1,
              "#f0f921"
             ]
            ],
            "type": "histogram2dcontour"
           }
          ],
          "mesh3d": [
           {
            "colorbar": {
             "outlinewidth": 0,
             "ticks": ""
            },
            "type": "mesh3d"
           }
          ],
          "parcoords": [
           {
            "line": {
             "colorbar": {
              "outlinewidth": 0,
              "ticks": ""
             }
            },
            "type": "parcoords"
           }
          ],
          "pie": [
           {
            "automargin": true,
            "type": "pie"
           }
          ],
          "scatter": [
           {
            "marker": {
             "colorbar": {
              "outlinewidth": 0,
              "ticks": ""
             }
            },
            "type": "scatter"
           }
          ],
          "scatter3d": [
           {
            "line": {
             "colorbar": {
              "outlinewidth": 0,
              "ticks": ""
             }
            },
            "marker": {
             "colorbar": {
              "outlinewidth": 0,
              "ticks": ""
             }
            },
            "type": "scatter3d"
           }
          ],
          "scattercarpet": [
           {
            "marker": {
             "colorbar": {
              "outlinewidth": 0,
              "ticks": ""
             }
            },
            "type": "scattercarpet"
           }
          ],
          "scattergeo": [
           {
            "marker": {
             "colorbar": {
              "outlinewidth": 0,
              "ticks": ""
             }
            },
            "type": "scattergeo"
           }
          ],
          "scattergl": [
           {
            "marker": {
             "colorbar": {
              "outlinewidth": 0,
              "ticks": ""
             }
            },
            "type": "scattergl"
           }
          ],
          "scattermapbox": [
           {
            "marker": {
             "colorbar": {
              "outlinewidth": 0,
              "ticks": ""
             }
            },
            "type": "scattermapbox"
           }
          ],
          "scatterpolar": [
           {
            "marker": {
             "colorbar": {
              "outlinewidth": 0,
              "ticks": ""
             }
            },
            "type": "scatterpolar"
           }
          ],
          "scatterpolargl": [
           {
            "marker": {
             "colorbar": {
              "outlinewidth": 0,
              "ticks": ""
             }
            },
            "type": "scatterpolargl"
           }
          ],
          "scatterternary": [
           {
            "marker": {
             "colorbar": {
              "outlinewidth": 0,
              "ticks": ""
             }
            },
            "type": "scatterternary"
           }
          ],
          "surface": [
           {
            "colorbar": {
             "outlinewidth": 0,
             "ticks": ""
            },
            "colorscale": [
             [
              0,
              "#0d0887"
             ],
             [
              0.1111111111111111,
              "#46039f"
             ],
             [
              0.2222222222222222,
              "#7201a8"
             ],
             [
              0.3333333333333333,
              "#9c179e"
             ],
             [
              0.4444444444444444,
              "#bd3786"
             ],
             [
              0.5555555555555556,
              "#d8576b"
             ],
             [
              0.6666666666666666,
              "#ed7953"
             ],
             [
              0.7777777777777778,
              "#fb9f3a"
             ],
             [
              0.8888888888888888,
              "#fdca26"
             ],
             [
              1,
              "#f0f921"
             ]
            ],
            "type": "surface"
           }
          ],
          "table": [
           {
            "cells": {
             "fill": {
              "color": "#EBF0F8"
             },
             "line": {
              "color": "white"
             }
            },
            "header": {
             "fill": {
              "color": "#C8D4E3"
             },
             "line": {
              "color": "white"
             }
            },
            "type": "table"
           }
          ]
         },
         "layout": {
          "annotationdefaults": {
           "arrowcolor": "#2a3f5f",
           "arrowhead": 0,
           "arrowwidth": 1
          },
          "autotypenumbers": "strict",
          "coloraxis": {
           "colorbar": {
            "outlinewidth": 0,
            "ticks": ""
           }
          },
          "colorscale": {
           "diverging": [
            [
             0,
             "#8e0152"
            ],
            [
             0.1,
             "#c51b7d"
            ],
            [
             0.2,
             "#de77ae"
            ],
            [
             0.3,
             "#f1b6da"
            ],
            [
             0.4,
             "#fde0ef"
            ],
            [
             0.5,
             "#f7f7f7"
            ],
            [
             0.6,
             "#e6f5d0"
            ],
            [
             0.7,
             "#b8e186"
            ],
            [
             0.8,
             "#7fbc41"
            ],
            [
             0.9,
             "#4d9221"
            ],
            [
             1,
             "#276419"
            ]
           ],
           "sequential": [
            [
             0,
             "#0d0887"
            ],
            [
             0.1111111111111111,
             "#46039f"
            ],
            [
             0.2222222222222222,
             "#7201a8"
            ],
            [
             0.3333333333333333,
             "#9c179e"
            ],
            [
             0.4444444444444444,
             "#bd3786"
            ],
            [
             0.5555555555555556,
             "#d8576b"
            ],
            [
             0.6666666666666666,
             "#ed7953"
            ],
            [
             0.7777777777777778,
             "#fb9f3a"
            ],
            [
             0.8888888888888888,
             "#fdca26"
            ],
            [
             1,
             "#f0f921"
            ]
           ],
           "sequentialminus": [
            [
             0,
             "#0d0887"
            ],
            [
             0.1111111111111111,
             "#46039f"
            ],
            [
             0.2222222222222222,
             "#7201a8"
            ],
            [
             0.3333333333333333,
             "#9c179e"
            ],
            [
             0.4444444444444444,
             "#bd3786"
            ],
            [
             0.5555555555555556,
             "#d8576b"
            ],
            [
             0.6666666666666666,
             "#ed7953"
            ],
            [
             0.7777777777777778,
             "#fb9f3a"
            ],
            [
             0.8888888888888888,
             "#fdca26"
            ],
            [
             1,
             "#f0f921"
            ]
           ]
          },
          "colorway": [
           "#636efa",
           "#EF553B",
           "#00cc96",
           "#ab63fa",
           "#FFA15A",
           "#19d3f3",
           "#FF6692",
           "#B6E880",
           "#FF97FF",
           "#FECB52"
          ],
          "font": {
           "color": "#2a3f5f"
          },
          "geo": {
           "bgcolor": "white",
           "lakecolor": "white",
           "landcolor": "#E5ECF6",
           "showlakes": true,
           "showland": true,
           "subunitcolor": "white"
          },
          "hoverlabel": {
           "align": "left"
          },
          "hovermode": "closest",
          "mapbox": {
           "style": "light"
          },
          "paper_bgcolor": "white",
          "plot_bgcolor": "#E5ECF6",
          "polar": {
           "angularaxis": {
            "gridcolor": "white",
            "linecolor": "white",
            "ticks": ""
           },
           "bgcolor": "#E5ECF6",
           "radialaxis": {
            "gridcolor": "white",
            "linecolor": "white",
            "ticks": ""
           }
          },
          "scene": {
           "xaxis": {
            "backgroundcolor": "#E5ECF6",
            "gridcolor": "white",
            "gridwidth": 2,
            "linecolor": "white",
            "showbackground": true,
            "ticks": "",
            "zerolinecolor": "white"
           },
           "yaxis": {
            "backgroundcolor": "#E5ECF6",
            "gridcolor": "white",
            "gridwidth": 2,
            "linecolor": "white",
            "showbackground": true,
            "ticks": "",
            "zerolinecolor": "white"
           },
           "zaxis": {
            "backgroundcolor": "#E5ECF6",
            "gridcolor": "white",
            "gridwidth": 2,
            "linecolor": "white",
            "showbackground": true,
            "ticks": "",
            "zerolinecolor": "white"
           }
          },
          "shapedefaults": {
           "line": {
            "color": "#2a3f5f"
           }
          },
          "ternary": {
           "aaxis": {
            "gridcolor": "white",
            "linecolor": "white",
            "ticks": ""
           },
           "baxis": {
            "gridcolor": "white",
            "linecolor": "white",
            "ticks": ""
           },
           "bgcolor": "#E5ECF6",
           "caxis": {
            "gridcolor": "white",
            "linecolor": "white",
            "ticks": ""
           }
          },
          "title": {
           "x": 0.05
          },
          "xaxis": {
           "automargin": true,
           "gridcolor": "white",
           "linecolor": "white",
           "ticks": "",
           "title": {
            "standoff": 15
           },
           "zerolinecolor": "white",
           "zerolinewidth": 2
          },
          "yaxis": {
           "automargin": true,
           "gridcolor": "white",
           "linecolor": "white",
           "ticks": "",
           "title": {
            "standoff": 15
           },
           "zerolinecolor": "white",
           "zerolinewidth": 2
          }
         }
        },
        "title": {
         "text": "TPL sum at Station 130"
        },
        "width": 800,
        "xaxis": {
         "anchor": "y",
         "domain": [
          0,
          1
         ],
         "tickangle": -45,
         "title": {
          "text": "Date and Time"
         }
        },
        "yaxis": {
         "anchor": "x",
         "domain": [
          0,
          1
         ],
         "title": {
          "text": "TPL"
         }
        }
       }
      }
     },
     "metadata": {},
     "output_type": "display_data"
    }
   ],
   "source": [
    "# Filter data based on TPL and p_ident thresholds\n",
    "filtered_data = data_130[(data_130['p_ident'] >= 0.95)]\n",
    "\n",
    "# Group by taxonomic level and sample, then sum TPL\n",
    "grouped_df = filtered_data.groupby(['Genus_UniEuk', 'Date'])['TPL'].sum().reset_index()\n",
    "\n",
    "grouped_df.head()\n",
    "# Normalize TPL sums to get relative expression per hour\n",
    "total_TPL_per_hour = grouped_df.groupby('Date')['TPL'].transform('sum')\n",
    "grouped_df['rel_expression_per_hour'] = grouped_df['TPL'] / total_TPL_per_hour\n",
    "\n",
    "# Combine low-abundant groups into a single 'Rare' category\n",
    "threshold = 0.05\n",
    "grouped_df.loc[grouped_df['rel_expression_per_hour'] <= threshold, 'Genus_UniEuk'] = 'Rare'\n",
    "\n",
    "\n",
    "# Remove categories with no expression\n",
    "grouped_df = grouped_df[grouped_df['rel_expression_per_hour'] > 0]\n",
    "\n",
    "# Group once more to combine Rares\n",
    "grouped_df = grouped_df.groupby(['Genus_UniEuk', 'Date'])['TPL'].sum().reset_index()\n",
    "\n",
    "# Plot\n",
    "fig = px.bar(grouped_df, \n",
    "            x='Date', \n",
    "            y='TPL', \n",
    "            color='Genus_UniEuk',\n",
    "            title='TPL sum at Station 130',\n",
    "            category_orders={\"Genus_UniEuk\": ['Arthropoda', 'Acantharea', 'Ctenophora', 'Diatomeae', 'Dinophyceae', \n",
    "                                                    'Florideophyceae','Odontella', 'Phaeodarea', 'Prymnesiophyceae',\n",
    "                                                    'Spirotrichea', 'Vertebrata', 'Rare',]},\n",
    "            color_discrete_map=color_discrete_map\n",
    "            )\n",
    "\n",
    "fig.update_layout(\n",
    "    width=800,\n",
    "    height=400,\n",
    "    xaxis_title='Date and Time',\n",
    "    yaxis_title='TPL',\n",
    "    xaxis_tickangle=-45,\n",
    "    legend_title='Taxonomic Group'\n",
    ")\n",
    "\n",
    "# Save the figure\n",
    "filename_base = \"../figures/metatranscriptomics/130_TPL_per_hour_genus\"\n",
    "fig.write_image(filename_base + \".png\", scale=1)\n",
    "fig.write_image(filename_base + \".svg\", scale=1)\n",
    "\n",
    "fig.show()"
   ]
  },
  {
   "cell_type": "code",
   "execution_count": 18,
   "metadata": {},
   "outputs": [
    {
     "name": "stderr",
     "output_type": "stream",
     "text": [
      "/opt/homebrew/lib/python3.9/site-packages/_plotly_utils/basevalidators.py:107: FutureWarning:\n",
      "\n",
      "The behavior of DatetimeProperties.to_pydatetime is deprecated, in a future version this will return a Series containing python datetime objects instead of an ndarray. To retain the old behavior, call `np.array` on the result\n",
      "\n"
     ]
    },
    {
     "data": {
      "application/vnd.plotly.v1+json": {
       "config": {
        "plotlyServerURL": "https://plot.ly"
       },
       "data": [
        {
         "alignmentgroup": "True",
         "hovertemplate": "Genus_UniEuk=Rare<br>Date=%{x}<br>TPL=%{y}<extra></extra>",
         "legendgroup": "Rare",
         "marker": {
          "color": "#545454",
          "pattern": {
           "shape": ""
          }
         },
         "name": "Rare",
         "offsetgroup": "Rare",
         "orientation": "v",
         "showlegend": true,
         "textposition": "auto",
         "type": "bar",
         "x": [
          "2023-04-18T11:11:00",
          "2023-04-18T12:05:00",
          "2023-04-18T13:08:00",
          "2023-04-18T14:05:00",
          "2023-04-18T15:07:00",
          "2023-04-18T16:00:00",
          "2023-04-18T17:03:00",
          "2023-04-18T18:04:00",
          "2023-04-18T19:11:00",
          "2023-04-18T20:05:00",
          "2023-04-18T21:07:00",
          "2023-04-18T22:02:00",
          "2023-04-18T23:11:00",
          "2023-04-19T00:07:00",
          "2023-04-19T01:03:00",
          "2023-04-19T01:59:00",
          "2023-04-19T02:59:00",
          "2023-04-19T04:00:00",
          "2023-04-19T05:02:00",
          "2023-04-19T06:02:00",
          "2023-04-19T07:03:00"
         ],
         "xaxis": "x",
         "y": [
          711897.879354732,
          614543.9328970345,
          1077145.7511957448,
          507841.50726289256,
          529750.8426100583,
          4338814.236261412,
          586051.828219435,
          1232398.9572602464,
          642646.6529663078,
          1804535.787592275,
          420472.4141035944,
          525484.3668460676,
          470585.27142305154,
          1329556.6103904704,
          6357355.958371018,
          10608115.180034604,
          27069.173473019328,
          710381.976534492,
          854209.9433150004,
          796172.4986615949,
          1169017.8045489544
         ],
         "yaxis": "y"
        },
        {
         "alignmentgroup": "True",
         "hovertemplate": "Genus_UniEuk=Acartia<br>Date=%{x}<br>TPL=%{y}<extra></extra>",
         "legendgroup": "Acartia",
         "marker": {
          "color": "#FFA15A",
          "pattern": {
           "shape": ""
          }
         },
         "name": "Acartia",
         "offsetgroup": "Acartia",
         "orientation": "v",
         "showlegend": true,
         "textposition": "auto",
         "type": "bar",
         "x": [
          "2023-04-18T12:05:00",
          "2023-04-18T14:05:00",
          "2023-04-18T15:07:00",
          "2023-04-18T17:03:00",
          "2023-04-18T18:04:00",
          "2023-04-18T20:05:00",
          "2023-04-18T21:07:00",
          "2023-04-18T22:02:00",
          "2023-04-18T23:11:00",
          "2023-04-19T00:07:00",
          "2023-04-19T01:03:00",
          "2023-04-19T01:59:00",
          "2023-04-19T04:00:00",
          "2023-04-19T05:02:00",
          "2023-04-19T06:02:00",
          "2023-04-19T07:03:00"
         ],
         "xaxis": "x",
         "y": [
          223757.09624232026,
          169765.61650439736,
          171822.03424739023,
          165829.18523611495,
          413696.9331317473,
          890165.9771299559,
          217926.57394430946,
          167212.21303528151,
          391014.04115192615,
          726702.5402911629,
          1920643.9998402519,
          3115045.412841011,
          269694.773334936,
          651295.2699496425,
          302070.01656885946,
          729625.8185689503
         ],
         "yaxis": "y"
        },
        {
         "alignmentgroup": "True",
         "hovertemplate": "Genus_UniEuk=Amphidinium<br>Date=%{x}<br>TPL=%{y}<extra></extra>",
         "legendgroup": "Amphidinium",
         "marker": {
          "color": "#19d3f3",
          "pattern": {
           "shape": ""
          }
         },
         "name": "Amphidinium",
         "offsetgroup": "Amphidinium",
         "orientation": "v",
         "showlegend": true,
         "textposition": "auto",
         "type": "bar",
         "x": [
          "2023-04-19T02:59:00"
         ],
         "xaxis": "x",
         "y": [
          17626.55953504549
         ],
         "yaxis": "y"
        },
        {
         "alignmentgroup": "True",
         "hovertemplate": "Genus_UniEuk=Calanus<br>Date=%{x}<br>TPL=%{y}<extra></extra>",
         "legendgroup": "Calanus",
         "marker": {
          "color": "#FF6692",
          "pattern": {
           "shape": ""
          }
         },
         "name": "Calanus",
         "offsetgroup": "Calanus",
         "orientation": "v",
         "showlegend": true,
         "textposition": "auto",
         "type": "bar",
         "x": [
          "2023-04-18T12:05:00",
          "2023-04-18T20:05:00",
          "2023-04-18T21:07:00",
          "2023-04-18T22:02:00",
          "2023-04-18T23:11:00",
          "2023-04-19T00:07:00",
          "2023-04-19T04:00:00",
          "2023-04-19T07:03:00"
         ],
         "xaxis": "x",
         "y": [
          474217.0474676995,
          638873.963290954,
          168628.95462059366,
          123151.75720596226,
          239531.9321896667,
          374808.5170116892,
          370315.9819717882,
          260540.24478324768
         ],
         "yaxis": "y"
        },
        {
         "alignmentgroup": "True",
         "hovertemplate": "Genus_UniEuk=Copromyxa<br>Date=%{x}<br>TPL=%{y}<extra></extra>",
         "legendgroup": "Copromyxa",
         "marker": {
          "color": "#B6E880",
          "pattern": {
           "shape": ""
          }
         },
         "name": "Copromyxa",
         "offsetgroup": "Copromyxa",
         "orientation": "v",
         "showlegend": true,
         "textposition": "auto",
         "type": "bar",
         "x": [
          "2023-04-19T02:59:00"
         ],
         "xaxis": "x",
         "y": [
          23286.638918332294
         ],
         "yaxis": "y"
        },
        {
         "alignmentgroup": "True",
         "hovertemplate": "Genus_UniEuk=Eurytemora<br>Date=%{x}<br>TPL=%{y}<extra></extra>",
         "legendgroup": "Eurytemora",
         "marker": {
          "color": "#FF97FF",
          "pattern": {
           "shape": ""
          }
         },
         "name": "Eurytemora",
         "offsetgroup": "Eurytemora",
         "orientation": "v",
         "showlegend": true,
         "textposition": "auto",
         "type": "bar",
         "x": [
          "2023-04-18T12:05:00",
          "2023-04-18T14:05:00",
          "2023-04-18T15:07:00",
          "2023-04-18T16:00:00",
          "2023-04-18T17:03:00",
          "2023-04-18T18:04:00",
          "2023-04-18T20:05:00",
          "2023-04-18T21:07:00",
          "2023-04-18T22:02:00",
          "2023-04-18T23:11:00",
          "2023-04-19T00:07:00",
          "2023-04-19T01:03:00",
          "2023-04-19T01:59:00",
          "2023-04-19T04:00:00",
          "2023-04-19T05:02:00",
          "2023-04-19T06:02:00",
          "2023-04-19T07:03:00"
         ],
         "xaxis": "x",
         "y": [
          238484.72097797802,
          228217.5852440106,
          182277.429919214,
          1387338.5450278234,
          261373.50332564846,
          601420.8294751317,
          785303.7677572464,
          263265.42194735655,
          167593.83685135687,
          391812.5478322468,
          498939.58997501945,
          2234774.346016354,
          3685007.8192593525,
          423905.6998831694,
          930411.806134619,
          332694.1304623673,
          1144241.9865619214
         ],
         "yaxis": "y"
        },
        {
         "alignmentgroup": "True",
         "hovertemplate": "Genus_UniEuk=Gracilaria<br>Date=%{x}<br>TPL=%{y}<extra></extra>",
         "legendgroup": "Gracilaria",
         "marker": {
          "color": "#FECB52",
          "pattern": {
           "shape": ""
          }
         },
         "name": "Gracilaria",
         "offsetgroup": "Gracilaria",
         "orientation": "v",
         "showlegend": true,
         "textposition": "auto",
         "type": "bar",
         "x": [
          "2023-04-19T02:59:00"
         ],
         "xaxis": "x",
         "y": [
          21342.61947142784
         ],
         "yaxis": "y"
        },
        {
         "alignmentgroup": "True",
         "hovertemplate": "Genus_UniEuk=Leptophrys<br>Date=%{x}<br>TPL=%{y}<extra></extra>",
         "legendgroup": "Leptophrys",
         "marker": {
          "color": "#636efa",
          "pattern": {
           "shape": ""
          }
         },
         "name": "Leptophrys",
         "offsetgroup": "Leptophrys",
         "orientation": "v",
         "showlegend": true,
         "textposition": "auto",
         "type": "bar",
         "x": [
          "2023-04-19T02:59:00"
         ],
         "xaxis": "x",
         "y": [
          8860.97183897846
         ],
         "yaxis": "y"
        },
        {
         "alignmentgroup": "True",
         "hovertemplate": "Genus_UniEuk=Mnemiopsis<br>Date=%{x}<br>TPL=%{y}<extra></extra>",
         "legendgroup": "Mnemiopsis",
         "marker": {
          "color": "#EF553B",
          "pattern": {
           "shape": ""
          }
         },
         "name": "Mnemiopsis",
         "offsetgroup": "Mnemiopsis",
         "orientation": "v",
         "showlegend": true,
         "textposition": "auto",
         "type": "bar",
         "x": [
          "2023-04-18T13:08:00",
          "2023-04-18T18:04:00",
          "2023-04-18T20:05:00"
         ],
         "xaxis": "x",
         "y": [
          237283.16241329603,
          556566.823651382,
          979495.1485460632
         ],
         "yaxis": "y"
        },
        {
         "alignmentgroup": "True",
         "hovertemplate": "Genus_UniEuk=Neocalanus<br>Date=%{x}<br>TPL=%{y}<extra></extra>",
         "legendgroup": "Neocalanus",
         "marker": {
          "color": "#00cc96",
          "pattern": {
           "shape": ""
          }
         },
         "name": "Neocalanus",
         "offsetgroup": "Neocalanus",
         "orientation": "v",
         "showlegend": true,
         "textposition": "auto",
         "type": "bar",
         "x": [
          "2023-04-18T23:11:00"
         ],
         "xaxis": "x",
         "y": [
          158008.77522659535
         ],
         "yaxis": "y"
        },
        {
         "alignmentgroup": "True",
         "hovertemplate": "Genus_UniEuk=Noctiluca<br>Date=%{x}<br>TPL=%{y}<extra></extra>",
         "legendgroup": "Noctiluca",
         "marker": {
          "color": "#56B4E8",
          "pattern": {
           "shape": ""
          }
         },
         "name": "Noctiluca",
         "offsetgroup": "Noctiluca",
         "orientation": "v",
         "showlegend": true,
         "textposition": "auto",
         "type": "bar",
         "x": [
          "2023-04-18T11:11:00",
          "2023-04-18T12:05:00",
          "2023-04-18T13:08:00",
          "2023-04-18T14:05:00",
          "2023-04-18T15:07:00",
          "2023-04-18T16:00:00",
          "2023-04-18T17:03:00",
          "2023-04-18T18:04:00",
          "2023-04-18T19:11:00",
          "2023-04-18T20:05:00",
          "2023-04-18T21:07:00",
          "2023-04-18T22:02:00",
          "2023-04-18T23:11:00",
          "2023-04-19T01:03:00",
          "2023-04-19T01:59:00",
          "2023-04-19T04:00:00",
          "2023-04-19T05:02:00",
          "2023-04-19T06:02:00",
          "2023-04-19T07:03:00"
         ],
         "xaxis": "x",
         "y": [
          948416.3102150505,
          404887.88690291217,
          1596833.0572680046,
          1570347.0403063654,
          1560394.78469351,
          13816652.959947389,
          1505469.049122216,
          813224.0680916784,
          1554601.6677643424,
          2781284.14789883,
          738711.6899202829,
          148601.92327785926,
          122027.69669895266,
          4140550.9208710664,
          23556567.74087588,
          2422594.365665832,
          2008964.109702751,
          921090.9551887502,
          279387.18076592614
         ],
         "yaxis": "y"
        },
        {
         "alignmentgroup": "True",
         "hovertemplate": "Genus_UniEuk=Parablepharisma<br>Date=%{x}<br>TPL=%{y}<extra></extra>",
         "legendgroup": "Parablepharisma",
         "marker": {
          "color": "#ab63fa",
          "pattern": {
           "shape": ""
          }
         },
         "name": "Parablepharisma",
         "offsetgroup": "Parablepharisma",
         "orientation": "v",
         "showlegend": true,
         "textposition": "auto",
         "type": "bar",
         "x": [
          "2023-04-19T02:59:00"
         ],
         "xaxis": "x",
         "y": [
          42102.85035094944
         ],
         "yaxis": "y"
        },
        {
         "alignmentgroup": "True",
         "hovertemplate": "Genus_UniEuk=Phaeocystis<br>Date=%{x}<br>TPL=%{y}<extra></extra>",
         "legendgroup": "Phaeocystis",
         "marker": {
          "color": "#009E73",
          "pattern": {
           "shape": ""
          }
         },
         "name": "Phaeocystis",
         "offsetgroup": "Phaeocystis",
         "orientation": "v",
         "showlegend": true,
         "textposition": "auto",
         "type": "bar",
         "x": [
          "2023-04-18T11:11:00",
          "2023-04-18T12:05:00",
          "2023-04-18T13:08:00",
          "2023-04-18T14:05:00",
          "2023-04-18T17:03:00",
          "2023-04-18T18:04:00",
          "2023-04-18T20:05:00",
          "2023-04-18T21:07:00",
          "2023-04-18T22:02:00",
          "2023-04-18T23:11:00",
          "2023-04-19T00:07:00",
          "2023-04-19T01:03:00",
          "2023-04-19T01:59:00",
          "2023-04-19T05:02:00"
         ],
         "xaxis": "x",
         "y": [
          1585184.3029210556,
          1176817.4407349825,
          693948.4790420973,
          219527.99844366705,
          154614.22478154732,
          1101126.8434885947,
          1684027.2551333888,
          165493.53199384,
          628982.5415035845,
          336338.6189513931,
          2256585.534620174,
          13396899.383154774,
          2669165.8893156713,
          516135.7333673822
         ],
         "yaxis": "y"
        },
        {
         "alignmentgroup": "True",
         "hovertemplate": "Genus_UniEuk=Prorocentrum<br>Date=%{x}<br>TPL=%{y}<extra></extra>",
         "legendgroup": "Prorocentrum",
         "marker": {
          "color": "#FFA15A",
          "pattern": {
           "shape": ""
          }
         },
         "name": "Prorocentrum",
         "offsetgroup": "Prorocentrum",
         "orientation": "v",
         "showlegend": true,
         "textposition": "auto",
         "type": "bar",
         "x": [
          "2023-04-19T02:59:00"
         ],
         "xaxis": "x",
         "y": [
          19548.543033981317
         ],
         "yaxis": "y"
        },
        {
         "alignmentgroup": "True",
         "hovertemplate": "Genus_UniEuk=Sycon<br>Date=%{x}<br>TPL=%{y}<extra></extra>",
         "legendgroup": "Sycon",
         "marker": {
          "color": "#19d3f3",
          "pattern": {
           "shape": ""
          }
         },
         "name": "Sycon",
         "offsetgroup": "Sycon",
         "orientation": "v",
         "showlegend": true,
         "textposition": "auto",
         "type": "bar",
         "x": [
          "2023-04-19T02:59:00"
         ],
         "xaxis": "x",
         "y": [
          13798.869137210631
         ],
         "yaxis": "y"
        }
       ],
       "layout": {
        "barmode": "relative",
        "height": 400,
        "legend": {
         "title": {
          "text": "Taxonomic Group"
         },
         "tracegroupgap": 0
        },
        "template": {
         "data": {
          "bar": [
           {
            "error_x": {
             "color": "#2a3f5f"
            },
            "error_y": {
             "color": "#2a3f5f"
            },
            "marker": {
             "line": {
              "color": "#E5ECF6",
              "width": 0.5
             },
             "pattern": {
              "fillmode": "overlay",
              "size": 10,
              "solidity": 0.2
             }
            },
            "type": "bar"
           }
          ],
          "barpolar": [
           {
            "marker": {
             "line": {
              "color": "#E5ECF6",
              "width": 0.5
             },
             "pattern": {
              "fillmode": "overlay",
              "size": 10,
              "solidity": 0.2
             }
            },
            "type": "barpolar"
           }
          ],
          "carpet": [
           {
            "aaxis": {
             "endlinecolor": "#2a3f5f",
             "gridcolor": "white",
             "linecolor": "white",
             "minorgridcolor": "white",
             "startlinecolor": "#2a3f5f"
            },
            "baxis": {
             "endlinecolor": "#2a3f5f",
             "gridcolor": "white",
             "linecolor": "white",
             "minorgridcolor": "white",
             "startlinecolor": "#2a3f5f"
            },
            "type": "carpet"
           }
          ],
          "choropleth": [
           {
            "colorbar": {
             "outlinewidth": 0,
             "ticks": ""
            },
            "type": "choropleth"
           }
          ],
          "contour": [
           {
            "colorbar": {
             "outlinewidth": 0,
             "ticks": ""
            },
            "colorscale": [
             [
              0,
              "#0d0887"
             ],
             [
              0.1111111111111111,
              "#46039f"
             ],
             [
              0.2222222222222222,
              "#7201a8"
             ],
             [
              0.3333333333333333,
              "#9c179e"
             ],
             [
              0.4444444444444444,
              "#bd3786"
             ],
             [
              0.5555555555555556,
              "#d8576b"
             ],
             [
              0.6666666666666666,
              "#ed7953"
             ],
             [
              0.7777777777777778,
              "#fb9f3a"
             ],
             [
              0.8888888888888888,
              "#fdca26"
             ],
             [
              1,
              "#f0f921"
             ]
            ],
            "type": "contour"
           }
          ],
          "contourcarpet": [
           {
            "colorbar": {
             "outlinewidth": 0,
             "ticks": ""
            },
            "type": "contourcarpet"
           }
          ],
          "heatmap": [
           {
            "colorbar": {
             "outlinewidth": 0,
             "ticks": ""
            },
            "colorscale": [
             [
              0,
              "#0d0887"
             ],
             [
              0.1111111111111111,
              "#46039f"
             ],
             [
              0.2222222222222222,
              "#7201a8"
             ],
             [
              0.3333333333333333,
              "#9c179e"
             ],
             [
              0.4444444444444444,
              "#bd3786"
             ],
             [
              0.5555555555555556,
              "#d8576b"
             ],
             [
              0.6666666666666666,
              "#ed7953"
             ],
             [
              0.7777777777777778,
              "#fb9f3a"
             ],
             [
              0.8888888888888888,
              "#fdca26"
             ],
             [
              1,
              "#f0f921"
             ]
            ],
            "type": "heatmap"
           }
          ],
          "heatmapgl": [
           {
            "colorbar": {
             "outlinewidth": 0,
             "ticks": ""
            },
            "colorscale": [
             [
              0,
              "#0d0887"
             ],
             [
              0.1111111111111111,
              "#46039f"
             ],
             [
              0.2222222222222222,
              "#7201a8"
             ],
             [
              0.3333333333333333,
              "#9c179e"
             ],
             [
              0.4444444444444444,
              "#bd3786"
             ],
             [
              0.5555555555555556,
              "#d8576b"
             ],
             [
              0.6666666666666666,
              "#ed7953"
             ],
             [
              0.7777777777777778,
              "#fb9f3a"
             ],
             [
              0.8888888888888888,
              "#fdca26"
             ],
             [
              1,
              "#f0f921"
             ]
            ],
            "type": "heatmapgl"
           }
          ],
          "histogram": [
           {
            "marker": {
             "pattern": {
              "fillmode": "overlay",
              "size": 10,
              "solidity": 0.2
             }
            },
            "type": "histogram"
           }
          ],
          "histogram2d": [
           {
            "colorbar": {
             "outlinewidth": 0,
             "ticks": ""
            },
            "colorscale": [
             [
              0,
              "#0d0887"
             ],
             [
              0.1111111111111111,
              "#46039f"
             ],
             [
              0.2222222222222222,
              "#7201a8"
             ],
             [
              0.3333333333333333,
              "#9c179e"
             ],
             [
              0.4444444444444444,
              "#bd3786"
             ],
             [
              0.5555555555555556,
              "#d8576b"
             ],
             [
              0.6666666666666666,
              "#ed7953"
             ],
             [
              0.7777777777777778,
              "#fb9f3a"
             ],
             [
              0.8888888888888888,
              "#fdca26"
             ],
             [
              1,
              "#f0f921"
             ]
            ],
            "type": "histogram2d"
           }
          ],
          "histogram2dcontour": [
           {
            "colorbar": {
             "outlinewidth": 0,
             "ticks": ""
            },
            "colorscale": [
             [
              0,
              "#0d0887"
             ],
             [
              0.1111111111111111,
              "#46039f"
             ],
             [
              0.2222222222222222,
              "#7201a8"
             ],
             [
              0.3333333333333333,
              "#9c179e"
             ],
             [
              0.4444444444444444,
              "#bd3786"
             ],
             [
              0.5555555555555556,
              "#d8576b"
             ],
             [
              0.6666666666666666,
              "#ed7953"
             ],
             [
              0.7777777777777778,
              "#fb9f3a"
             ],
             [
              0.8888888888888888,
              "#fdca26"
             ],
             [
              1,
              "#f0f921"
             ]
            ],
            "type": "histogram2dcontour"
           }
          ],
          "mesh3d": [
           {
            "colorbar": {
             "outlinewidth": 0,
             "ticks": ""
            },
            "type": "mesh3d"
           }
          ],
          "parcoords": [
           {
            "line": {
             "colorbar": {
              "outlinewidth": 0,
              "ticks": ""
             }
            },
            "type": "parcoords"
           }
          ],
          "pie": [
           {
            "automargin": true,
            "type": "pie"
           }
          ],
          "scatter": [
           {
            "marker": {
             "colorbar": {
              "outlinewidth": 0,
              "ticks": ""
             }
            },
            "type": "scatter"
           }
          ],
          "scatter3d": [
           {
            "line": {
             "colorbar": {
              "outlinewidth": 0,
              "ticks": ""
             }
            },
            "marker": {
             "colorbar": {
              "outlinewidth": 0,
              "ticks": ""
             }
            },
            "type": "scatter3d"
           }
          ],
          "scattercarpet": [
           {
            "marker": {
             "colorbar": {
              "outlinewidth": 0,
              "ticks": ""
             }
            },
            "type": "scattercarpet"
           }
          ],
          "scattergeo": [
           {
            "marker": {
             "colorbar": {
              "outlinewidth": 0,
              "ticks": ""
             }
            },
            "type": "scattergeo"
           }
          ],
          "scattergl": [
           {
            "marker": {
             "colorbar": {
              "outlinewidth": 0,
              "ticks": ""
             }
            },
            "type": "scattergl"
           }
          ],
          "scattermapbox": [
           {
            "marker": {
             "colorbar": {
              "outlinewidth": 0,
              "ticks": ""
             }
            },
            "type": "scattermapbox"
           }
          ],
          "scatterpolar": [
           {
            "marker": {
             "colorbar": {
              "outlinewidth": 0,
              "ticks": ""
             }
            },
            "type": "scatterpolar"
           }
          ],
          "scatterpolargl": [
           {
            "marker": {
             "colorbar": {
              "outlinewidth": 0,
              "ticks": ""
             }
            },
            "type": "scatterpolargl"
           }
          ],
          "scatterternary": [
           {
            "marker": {
             "colorbar": {
              "outlinewidth": 0,
              "ticks": ""
             }
            },
            "type": "scatterternary"
           }
          ],
          "surface": [
           {
            "colorbar": {
             "outlinewidth": 0,
             "ticks": ""
            },
            "colorscale": [
             [
              0,
              "#0d0887"
             ],
             [
              0.1111111111111111,
              "#46039f"
             ],
             [
              0.2222222222222222,
              "#7201a8"
             ],
             [
              0.3333333333333333,
              "#9c179e"
             ],
             [
              0.4444444444444444,
              "#bd3786"
             ],
             [
              0.5555555555555556,
              "#d8576b"
             ],
             [
              0.6666666666666666,
              "#ed7953"
             ],
             [
              0.7777777777777778,
              "#fb9f3a"
             ],
             [
              0.8888888888888888,
              "#fdca26"
             ],
             [
              1,
              "#f0f921"
             ]
            ],
            "type": "surface"
           }
          ],
          "table": [
           {
            "cells": {
             "fill": {
              "color": "#EBF0F8"
             },
             "line": {
              "color": "white"
             }
            },
            "header": {
             "fill": {
              "color": "#C8D4E3"
             },
             "line": {
              "color": "white"
             }
            },
            "type": "table"
           }
          ]
         },
         "layout": {
          "annotationdefaults": {
           "arrowcolor": "#2a3f5f",
           "arrowhead": 0,
           "arrowwidth": 1
          },
          "autotypenumbers": "strict",
          "coloraxis": {
           "colorbar": {
            "outlinewidth": 0,
            "ticks": ""
           }
          },
          "colorscale": {
           "diverging": [
            [
             0,
             "#8e0152"
            ],
            [
             0.1,
             "#c51b7d"
            ],
            [
             0.2,
             "#de77ae"
            ],
            [
             0.3,
             "#f1b6da"
            ],
            [
             0.4,
             "#fde0ef"
            ],
            [
             0.5,
             "#f7f7f7"
            ],
            [
             0.6,
             "#e6f5d0"
            ],
            [
             0.7,
             "#b8e186"
            ],
            [
             0.8,
             "#7fbc41"
            ],
            [
             0.9,
             "#4d9221"
            ],
            [
             1,
             "#276419"
            ]
           ],
           "sequential": [
            [
             0,
             "#0d0887"
            ],
            [
             0.1111111111111111,
             "#46039f"
            ],
            [
             0.2222222222222222,
             "#7201a8"
            ],
            [
             0.3333333333333333,
             "#9c179e"
            ],
            [
             0.4444444444444444,
             "#bd3786"
            ],
            [
             0.5555555555555556,
             "#d8576b"
            ],
            [
             0.6666666666666666,
             "#ed7953"
            ],
            [
             0.7777777777777778,
             "#fb9f3a"
            ],
            [
             0.8888888888888888,
             "#fdca26"
            ],
            [
             1,
             "#f0f921"
            ]
           ],
           "sequentialminus": [
            [
             0,
             "#0d0887"
            ],
            [
             0.1111111111111111,
             "#46039f"
            ],
            [
             0.2222222222222222,
             "#7201a8"
            ],
            [
             0.3333333333333333,
             "#9c179e"
            ],
            [
             0.4444444444444444,
             "#bd3786"
            ],
            [
             0.5555555555555556,
             "#d8576b"
            ],
            [
             0.6666666666666666,
             "#ed7953"
            ],
            [
             0.7777777777777778,
             "#fb9f3a"
            ],
            [
             0.8888888888888888,
             "#fdca26"
            ],
            [
             1,
             "#f0f921"
            ]
           ]
          },
          "colorway": [
           "#636efa",
           "#EF553B",
           "#00cc96",
           "#ab63fa",
           "#FFA15A",
           "#19d3f3",
           "#FF6692",
           "#B6E880",
           "#FF97FF",
           "#FECB52"
          ],
          "font": {
           "color": "#2a3f5f"
          },
          "geo": {
           "bgcolor": "white",
           "lakecolor": "white",
           "landcolor": "#E5ECF6",
           "showlakes": true,
           "showland": true,
           "subunitcolor": "white"
          },
          "hoverlabel": {
           "align": "left"
          },
          "hovermode": "closest",
          "mapbox": {
           "style": "light"
          },
          "paper_bgcolor": "white",
          "plot_bgcolor": "#E5ECF6",
          "polar": {
           "angularaxis": {
            "gridcolor": "white",
            "linecolor": "white",
            "ticks": ""
           },
           "bgcolor": "#E5ECF6",
           "radialaxis": {
            "gridcolor": "white",
            "linecolor": "white",
            "ticks": ""
           }
          },
          "scene": {
           "xaxis": {
            "backgroundcolor": "#E5ECF6",
            "gridcolor": "white",
            "gridwidth": 2,
            "linecolor": "white",
            "showbackground": true,
            "ticks": "",
            "zerolinecolor": "white"
           },
           "yaxis": {
            "backgroundcolor": "#E5ECF6",
            "gridcolor": "white",
            "gridwidth": 2,
            "linecolor": "white",
            "showbackground": true,
            "ticks": "",
            "zerolinecolor": "white"
           },
           "zaxis": {
            "backgroundcolor": "#E5ECF6",
            "gridcolor": "white",
            "gridwidth": 2,
            "linecolor": "white",
            "showbackground": true,
            "ticks": "",
            "zerolinecolor": "white"
           }
          },
          "shapedefaults": {
           "line": {
            "color": "#2a3f5f"
           }
          },
          "ternary": {
           "aaxis": {
            "gridcolor": "white",
            "linecolor": "white",
            "ticks": ""
           },
           "baxis": {
            "gridcolor": "white",
            "linecolor": "white",
            "ticks": ""
           },
           "bgcolor": "#E5ECF6",
           "caxis": {
            "gridcolor": "white",
            "linecolor": "white",
            "ticks": ""
           }
          },
          "title": {
           "x": 0.05
          },
          "xaxis": {
           "automargin": true,
           "gridcolor": "white",
           "linecolor": "white",
           "ticks": "",
           "title": {
            "standoff": 15
           },
           "zerolinecolor": "white",
           "zerolinewidth": 2
          },
          "yaxis": {
           "automargin": true,
           "gridcolor": "white",
           "linecolor": "white",
           "ticks": "",
           "title": {
            "standoff": 15
           },
           "zerolinecolor": "white",
           "zerolinewidth": 2
          }
         }
        },
        "title": {
         "text": "TPL sum at Station 51"
        },
        "width": 800,
        "xaxis": {
         "anchor": "y",
         "domain": [
          0,
          1
         ],
         "tickangle": -45,
         "title": {
          "text": "Date and Time"
         }
        },
        "yaxis": {
         "anchor": "x",
         "domain": [
          0,
          1
         ],
         "title": {
          "text": "TPL"
         }
        }
       }
      }
     },
     "metadata": {},
     "output_type": "display_data"
    }
   ],
   "source": [
    "# Filter data based on TPL and p_ident thresholds\n",
    "filtered_data = data_51[(data_51['p_ident'] >= 0.95)]\n",
    "\n",
    "# Group by taxonomic level and sample, then sum TPL\n",
    "grouped_df = filtered_data.groupby(['Genus_UniEuk', 'Date'])['TPL'].sum().reset_index()\n",
    "\n",
    "grouped_df.head()\n",
    "# Normalize TPL sums to get relative expression per hour\n",
    "total_TPL_per_hour = grouped_df.groupby('Date')['TPL'].transform('sum')\n",
    "grouped_df['rel_expression_per_hour'] = grouped_df['TPL'] / total_TPL_per_hour\n",
    "\n",
    "# Combine low-abundant groups into a single 'Rare' category\n",
    "threshold = 0.05\n",
    "grouped_df.loc[grouped_df['rel_expression_per_hour'] <= threshold, 'Genus_UniEuk'] = 'Rare'\n",
    "\n",
    "\n",
    "# Remove categories with no expression\n",
    "grouped_df = grouped_df[grouped_df['rel_expression_per_hour'] > 0]\n",
    "\n",
    "# Group once more to combine Rares\n",
    "grouped_df = grouped_df.groupby(['Genus_UniEuk', 'Date'])['TPL'].sum().reset_index()\n",
    "\n",
    "# Plot\n",
    "fig = px.bar(grouped_df, \n",
    "            x='Date', \n",
    "            y='TPL', \n",
    "            color='Genus_UniEuk',\n",
    "            title='TPL sum at Station 51',\n",
    "            category_orders={\"Genus_UniEuk\": ['Arthropoda', 'Acantharea', 'Ctenophora', 'Diatomeae', 'Dinophyceae', \n",
    "                                                    'Florideophyceae','Odontella', 'Phaeodarea', 'Prymnesiophyceae',\n",
    "                                                    'Spirotrichea', 'Vertebrata', 'Rare',]},\n",
    "            color_discrete_map=color_discrete_map\n",
    "            )\n",
    "\n",
    "fig.update_layout(\n",
    "    width=800,\n",
    "    height=400,\n",
    "    xaxis_title='Date and Time',\n",
    "    yaxis_title='TPL',\n",
    "    xaxis_tickangle=-45,\n",
    "    legend_title='Taxonomic Group'\n",
    ")\n",
    "\n",
    "# Save the figure\n",
    "filename_base = \"../figures/metatranscriptomics/51_TPL_per_hour_genus\"\n",
    "fig.write_image(filename_base + \".png\", scale=1)\n",
    "fig.write_image(filename_base + \".svg\", scale=1)\n",
    "\n",
    "fig.show()"
   ]
  },
  {
   "cell_type": "code",
   "execution_count": 19,
   "metadata": {},
   "outputs": [],
   "source": [
    "# Export a species x sample TPL/TPM expression matrix for station 130\n",
    "export = data_130[data_130['p_ident'] >= 0.9].pivot_table(index='Name_to_Use', columns='sample', values='TPL', aggfunc='sum')\n",
    "export.to_csv('../data/analysis/130_TPL_tax_matrix.csv')\n",
    "\n",
    "export = data_130[data_130['p_ident'] >= 0.9].pivot_table(index='Name_to_Use', columns='sample', values='TPM', aggfunc='sum')\n",
    "export.to_csv('../data/analysis/130_TPM_tax_matrix.csv')"
   ]
  },
  {
   "cell_type": "markdown",
   "metadata": {},
   "source": [
    "## Species Binning\n",
    "Here, I want to extract the transcriptome of Phaeocystis to be used in subsequent analyses."
   ]
  },
  {
   "cell_type": "code",
   "execution_count": 20,
   "metadata": {},
   "outputs": [
    {
     "name": "stdout",
     "output_type": "stream",
     "text": [
      "Genus_UniEuk\n",
      "Noctiluca        55551\n",
      "Phaeocystis      27786\n",
      "Hemistasia        3462\n",
      "Acartia           1770\n",
      "Pleurobrachia     1473\n",
      "Name: count, dtype: int64\n",
      "Noctiluca: 227576 transcripts - Saved\n",
      "Phaeocystis: 357651 transcripts - Saved\n",
      "Hemistasia: 13605 transcripts - Saved\n",
      "Acartia: 20507 transcripts - Saved\n",
      "Pleurobrachia: 7413 transcripts - Saved\n",
      "Files have been saved for the top 5 genera with the most transcripts.\n"
     ]
    }
   ],
   "source": [
    "# Aggregate the number of transcripts per species\n",
    "transcript_count = eukprot_annotation_130[eukprot_annotation_130['p_ident'] >= 0.95]['Genus_UniEuk'].value_counts()\n",
    "# Print the first 5 entries\n",
    "print(transcript_count.head())\n",
    "\n",
    "# Get the top 5 genera with the most transcripts\n",
    "top_genera = transcript_count.head(5)\n",
    "\n",
    "# Filter the eukprot_annotation_130 set of annotated transcripts for each of the top genera and save to separate files\n",
    "for genus in top_genera.index:\n",
    "    genus_eukprot_annotation_130 = eukprot_annotation_130[eukprot_annotation_130['Genus_UniEuk'] == genus]\n",
    "    filename = f\"{genus}_transcriptome_bin.csv\"\n",
    "    genus_eukprot_annotation_130.to_csv(os.path.join('../data/annotation/taxonomy_eukprot/130/genus_bins/', filename), index=False)\n",
    "    print(f\"{genus}: {len(genus_eukprot_annotation_130)} transcripts - Saved\")\n",
    "\n",
    "print(f\"Files have been saved for the top {len(top_genera)} genera with the most transcripts.\")"
   ]
  },
  {
   "cell_type": "code",
   "execution_count": 21,
   "metadata": {},
   "outputs": [
    {
     "name": "stdout",
     "output_type": "stream",
     "text": [
      "Genus_UniEuk\n",
      "Noctiluca      21074\n",
      "Phaeocystis     5147\n",
      "Calanus         3312\n",
      "Acartia         3122\n",
      "Eurytemora      2839\n",
      "Name: count, dtype: int64\n",
      "Noctiluca: 84056 transcripts - Saved\n",
      "Phaeocystis: 33826 transcripts - Saved\n",
      "Calanus: 29881 transcripts - Saved\n",
      "Acartia: 38889 transcripts - Saved\n",
      "Eurytemora: 46448 transcripts - Saved\n",
      "Files have been saved for the top 5 genus with the most transcripts.\n"
     ]
    }
   ],
   "source": [
    "# Aggregate the number of transcripts per species\n",
    "transcript_count = eukprot_annotation_51[eukprot_annotation_51['p_ident'] >= 0.95]['Genus_UniEuk'].value_counts()\n",
    "# Print the first 5 entries\n",
    "print(transcript_count.head())\n",
    "\n",
    "# Get the top 5 genera with the most transcripts\n",
    "top_genera = transcript_count.head(5)\n",
    "\n",
    "# Filter the eukprot_annotation_51 set of annotated transcripts for each of the top genera and save to separate files\n",
    "for genus in top_genera.index:\n",
    "    genus_eukprot_annotation_51 = eukprot_annotation_51[eukprot_annotation_51['Genus_UniEuk'] == genus]\n",
    "    filename = f\"{genus}_transcriptome_bin.csv\"\n",
    "    genus_eukprot_annotation_51.to_csv(os.path.join('../data/annotation/taxonomy_eukprot/51/genus_bins/', filename), index=False)\n",
    "    print(f\"{genus}: {len(genus_eukprot_annotation_51)} transcripts - Saved\")\n",
    "\n",
    "print(f\"Files have been saved for the top {len(top_genera)} genus with the most transcripts.\")"
   ]
  },
  {
   "cell_type": "markdown",
   "metadata": {},
   "source": [
    "Genus_UniEuk\n",
    "Noctiluca      11549\n",
    "Phaeocystis     3314\n",
    "Homo            3057\n",
    "Calanus         2284\n",
    "Acartia         2082\n",
    "Name: count, dtype: int64\n",
    "Noctiluca: 11549 transcripts - Saved\n",
    "Phaeocystis: 3314 transcripts - Saved\n",
    "Homo: 3057 transcripts - Saved\n",
    "Calanus: 2284 transcripts - Saved\n",
    "Acartia: 2082 transcripts - Saved\n",
    "Files have been saved for the top 5 genus with the most transcripts."
   ]
  },
  {
   "cell_type": "markdown",
   "metadata": {},
   "source": [
    "## Phaeocystis\n",
    "For station 130, we'll extract the transcriptome bin of Phaeocystis. Once the sum of TPM values, once the TPL values."
   ]
  },
  {
   "cell_type": "code",
   "execution_count": 22,
   "metadata": {},
   "outputs": [],
   "source": [
    "# Define genera of interest\n",
    "genera = [\n",
    "    'Phaeocystis'\n",
    "]"
   ]
  },
  {
   "cell_type": "code",
   "execution_count": 23,
   "metadata": {},
   "outputs": [
    {
     "name": "stderr",
     "output_type": "stream",
     "text": [
      "Binning Genera:   0%|          | 0/1 [00:00<?, ?it/s]"
     ]
    },
    {
     "name": "stdout",
     "output_type": "stream",
     "text": [
      "Processing Phaeocystis\n",
      "Phaeocystis has 118362 transcripts\n"
     ]
    },
    {
     "name": "stderr",
     "output_type": "stream",
     "text": [
      "Binning Genera: 100%|██████████| 1/1 [00:16<00:00, 16.54s/it]\n"
     ]
    }
   ],
   "source": [
    "for genus in tqdm(genera, desc='Binning Genera'):\n",
    "    print(f'Processing {genus}')\n",
    "    genus_transcripts = pd.read_csv(f'../data/annotation/taxonomy_eukprot/130/genus_bins/{genus}_transcriptome_bin.csv', usecols=['query_id', 'p_ident'])\n",
    "    # Only retain transcripts with a p_ident of 0.8 or higher\n",
    "    genus_transcripts = genus_transcripts[genus_transcripts['p_ident'] >= 0.8]\n",
    "    \n",
    "    # Extract transcript counts that also belong to the genus of interest\n",
    "    genus_data = tpm_130[tpm_130['transcript_id'].isin(genus_transcripts['query_id'])]\n",
    "    \n",
    "    # Print the amount of transcripts\n",
    "    n_transcripts = len(genus_data['transcript_id'].unique())\n",
    "    print(f'{genus} has {n_transcripts} transcripts')\n",
    "    # Create the matrix\n",
    "    genus_data = genus_data.reset_index().pivot(index='transcript_id', columns='sample')['TPM']\n",
    "\n",
    "    # Save the data\n",
    "    genus_data.to_csv(f'../data/annotation/taxonomy_eukprot/130/genus_bins/{genus}_transcript_expression_sum.csv')"
   ]
  },
  {
   "cell_type": "code",
   "execution_count": 24,
   "metadata": {},
   "outputs": [],
   "source": [
    "phaeocystis_bin = data_130[data_130['Name_to_Use'] == 'Phaeocystis globosa']\n",
    "phaeocystis_bin = phaeocystis_bin[['sample', 'TPM']].groupby('sample').sum().reset_index()\n",
    "\n",
    "# Export the data\n",
    "phaeocystis_bin.to_csv('../data/analysis/phaeocystis_bin_tpm_130.csv', index=False)\n",
    "\n",
    "# Use TPM sums to calculate Transcripts per Liter\n",
    "ERCC_normalisation = pd.read_csv('../data/ERCC92/ERCC_normalisation.csv')\n",
    "\n",
    "# Merge ERCC normalisation data with the TPM sums\n",
    "phaeocystis_bin = phaeocystis_bin.merge(ERCC_normalisation, left_on='sample', right_on='sample_name', how='left')\n",
    "\n",
    "# Add a column for Transcripts per Liter\n",
    "phaeocystis_bin['TPL'] = phaeocystis_bin['TPM'] * phaeocystis_bin['ERCC_norm_factor']\n",
    "\n",
    "# Remove the ERCC normalisation factor\n",
    "phaeocystis_bin.drop(columns='ERCC_norm_factor', inplace=True)\n",
    "\n",
    "# Export the data\n",
    "phaeocystis_bin[['sample', 'TPL']].to_csv('../data/analysis/phaeocystis_bin_tpl_130.csv', index=False)"
   ]
  },
  {
   "cell_type": "code",
   "execution_count": 25,
   "metadata": {},
   "outputs": [],
   "source": [
    "# Repeat the process for station 51\n",
    "phaeocystis_bin = data_51[data_51['Name_to_Use'] == 'Phaeocystis globosa']\n",
    "phaeocystis_bin = phaeocystis_bin[['sample', 'TPM']].groupby('sample').sum().reset_index()\n",
    "\n",
    "# Export the data\n",
    "phaeocystis_bin.to_csv('../data/analysis/phaeocystis_bin_tpm_51.csv', index=False)\n",
    "\n",
    "# Merge ERCC normalisation data with the TPM sums\n",
    "phaeocystis_bin = phaeocystis_bin.merge(ERCC_normalisation, left_on='sample', right_on='sample_name', how='left')\n",
    "\n",
    "# Add a column for Transcripts per Liter\n",
    "phaeocystis_bin['TPL'] = phaeocystis_bin['TPM'] * phaeocystis_bin['ERCC_norm_factor']\n",
    "\n",
    "# Remove the ERCC normalisation factor\n",
    "phaeocystis_bin.drop(columns='ERCC_norm_factor', inplace=True)\n",
    "\n",
    "# Export the data\n",
    "phaeocystis_bin[['sample', 'TPL']].to_csv('../data/analysis/phaeocystis_bin_tpl_51.csv', index=False)"
   ]
  },
  {
   "cell_type": "markdown",
   "metadata": {},
   "source": [
    "For the RCM analysis, we need a dataframe which is KEGG KO IDs x samples containing summed count values.\n",
    "Let's create this dataframe."
   ]
  },
  {
   "cell_type": "code",
   "execution_count": 26,
   "metadata": {},
   "outputs": [
    {
     "data": {
      "text/html": [
       "<div>\n",
       "<style scoped>\n",
       "    .dataframe tbody tr th:only-of-type {\n",
       "        vertical-align: middle;\n",
       "    }\n",
       "\n",
       "    .dataframe tbody tr th {\n",
       "        vertical-align: top;\n",
       "    }\n",
       "\n",
       "    .dataframe thead th {\n",
       "        text-align: right;\n",
       "    }\n",
       "</style>\n",
       "<table border=\"1\" class=\"dataframe\">\n",
       "  <thead>\n",
       "    <tr style=\"text-align: right;\">\n",
       "      <th>Description</th>\n",
       "      <th>sample</th>\n",
       "      <th>'FY-rich' domain, C-terminal region</th>\n",
       "      <th>'de novo' UMP biosynthetic process</th>\n",
       "      <th>( 3 oxidation state) methyltransferase</th>\n",
       "      <th>(1-&gt;6)-beta-D-glucan biosynthetic process</th>\n",
       "      <th>(ABC) transporter</th>\n",
       "      <th>(Acyl-carrier-protein) S-malonyltransferase</th>\n",
       "      <th>(R)-3-amino-2-methylpropionate-pyruvate transaminase activity</th>\n",
       "      <th>1,2-diacylglycerol 3-beta-galactosyltransferase activity</th>\n",
       "      <th>1,3-beta-D-glucan synthase activity</th>\n",
       "      <th>...</th>\n",
       "      <th>xaa-Pro aminopeptidase</th>\n",
       "      <th>xylan 1,4-beta-xylosidase activity</th>\n",
       "      <th>xyloglucan 6-xylosyltransferase activity</th>\n",
       "      <th>zinc finger</th>\n",
       "      <th>zinc finger CCCH domain-containing protein</th>\n",
       "      <th>zinc finger family protein</th>\n",
       "      <th>zinc ion binding</th>\n",
       "      <th>zinc ion transmembrane transporter activity</th>\n",
       "      <th>zinc-finger of a C2HC-type</th>\n",
       "      <th>zonula adherens maintenance</th>\n",
       "    </tr>\n",
       "  </thead>\n",
       "  <tbody>\n",
       "    <tr>\n",
       "      <th>0</th>\n",
       "      <td>130_1</td>\n",
       "      <td>0.000000</td>\n",
       "      <td>0.0000</td>\n",
       "      <td>533.11000</td>\n",
       "      <td>406.02746</td>\n",
       "      <td>3.000</td>\n",
       "      <td>0.0000</td>\n",
       "      <td>0.0</td>\n",
       "      <td>12.0000</td>\n",
       "      <td>223.26800</td>\n",
       "      <td>...</td>\n",
       "      <td>0.0000</td>\n",
       "      <td>0.00000</td>\n",
       "      <td>356.94490</td>\n",
       "      <td>0.0</td>\n",
       "      <td>0.0</td>\n",
       "      <td>0.0</td>\n",
       "      <td>600.184750</td>\n",
       "      <td>455.00000</td>\n",
       "      <td>0.0000</td>\n",
       "      <td>0.000000e+00</td>\n",
       "    </tr>\n",
       "    <tr>\n",
       "      <th>1</th>\n",
       "      <td>130_10</td>\n",
       "      <td>0.000000</td>\n",
       "      <td>375.4200</td>\n",
       "      <td>155.82600</td>\n",
       "      <td>380.06240</td>\n",
       "      <td>108.479</td>\n",
       "      <td>33.1902</td>\n",
       "      <td>0.0</td>\n",
       "      <td>0.0000</td>\n",
       "      <td>37.00000</td>\n",
       "      <td>...</td>\n",
       "      <td>50.1938</td>\n",
       "      <td>315.30349</td>\n",
       "      <td>0.00000</td>\n",
       "      <td>53.0</td>\n",
       "      <td>0.0</td>\n",
       "      <td>0.0</td>\n",
       "      <td>1435.538877</td>\n",
       "      <td>101.00055</td>\n",
       "      <td>61.7623</td>\n",
       "      <td>1.389660e+00</td>\n",
       "    </tr>\n",
       "    <tr>\n",
       "      <th>2</th>\n",
       "      <td>130_11</td>\n",
       "      <td>69.795900</td>\n",
       "      <td>917.2410</td>\n",
       "      <td>247.00000</td>\n",
       "      <td>525.00274</td>\n",
       "      <td>0.000</td>\n",
       "      <td>0.0000</td>\n",
       "      <td>0.0</td>\n",
       "      <td>42.9113</td>\n",
       "      <td>77.55930</td>\n",
       "      <td>...</td>\n",
       "      <td>150.0040</td>\n",
       "      <td>315.47737</td>\n",
       "      <td>133.00000</td>\n",
       "      <td>6.0</td>\n",
       "      <td>0.0</td>\n",
       "      <td>0.0</td>\n",
       "      <td>1237.791230</td>\n",
       "      <td>357.67270</td>\n",
       "      <td>4.0693</td>\n",
       "      <td>0.000000e+00</td>\n",
       "    </tr>\n",
       "    <tr>\n",
       "      <th>3</th>\n",
       "      <td>130_12</td>\n",
       "      <td>0.000000</td>\n",
       "      <td>95.0304</td>\n",
       "      <td>1.65674</td>\n",
       "      <td>7.94615</td>\n",
       "      <td>0.000</td>\n",
       "      <td>0.0000</td>\n",
       "      <td>0.0</td>\n",
       "      <td>60.8076</td>\n",
       "      <td>66.06243</td>\n",
       "      <td>...</td>\n",
       "      <td>19.7302</td>\n",
       "      <td>26.00000</td>\n",
       "      <td>27.27720</td>\n",
       "      <td>0.0</td>\n",
       "      <td>0.0</td>\n",
       "      <td>0.0</td>\n",
       "      <td>590.736800</td>\n",
       "      <td>35.21790</td>\n",
       "      <td>0.0000</td>\n",
       "      <td>3.943230e-07</td>\n",
       "    </tr>\n",
       "    <tr>\n",
       "      <th>4</th>\n",
       "      <td>130_13</td>\n",
       "      <td>174.766401</td>\n",
       "      <td>550.2718</td>\n",
       "      <td>47.82710</td>\n",
       "      <td>839.31720</td>\n",
       "      <td>27.501</td>\n",
       "      <td>0.0000</td>\n",
       "      <td>0.0</td>\n",
       "      <td>238.3110</td>\n",
       "      <td>205.84212</td>\n",
       "      <td>...</td>\n",
       "      <td>0.0000</td>\n",
       "      <td>309.13800</td>\n",
       "      <td>192.96938</td>\n",
       "      <td>0.0</td>\n",
       "      <td>0.0</td>\n",
       "      <td>0.0</td>\n",
       "      <td>1683.374212</td>\n",
       "      <td>207.47510</td>\n",
       "      <td>137.1279</td>\n",
       "      <td>1.941690e+01</td>\n",
       "    </tr>\n",
       "  </tbody>\n",
       "</table>\n",
       "<p>5 rows × 4758 columns</p>\n",
       "</div>"
      ],
      "text/plain": [
       "Description  sample  'FY-rich' domain, C-terminal region  \\\n",
       "0             130_1                             0.000000   \n",
       "1            130_10                             0.000000   \n",
       "2            130_11                            69.795900   \n",
       "3            130_12                             0.000000   \n",
       "4            130_13                           174.766401   \n",
       "\n",
       "Description  'de novo' UMP biosynthetic process  \\\n",
       "0                                        0.0000   \n",
       "1                                      375.4200   \n",
       "2                                      917.2410   \n",
       "3                                       95.0304   \n",
       "4                                      550.2718   \n",
       "\n",
       "Description  ( 3 oxidation state) methyltransferase  \\\n",
       "0                                         533.11000   \n",
       "1                                         155.82600   \n",
       "2                                         247.00000   \n",
       "3                                           1.65674   \n",
       "4                                          47.82710   \n",
       "\n",
       "Description  (1->6)-beta-D-glucan biosynthetic process  (ABC) transporter  \\\n",
       "0                                            406.02746              3.000   \n",
       "1                                            380.06240            108.479   \n",
       "2                                            525.00274              0.000   \n",
       "3                                              7.94615              0.000   \n",
       "4                                            839.31720             27.501   \n",
       "\n",
       "Description  (Acyl-carrier-protein) S-malonyltransferase  \\\n",
       "0                                                 0.0000   \n",
       "1                                                33.1902   \n",
       "2                                                 0.0000   \n",
       "3                                                 0.0000   \n",
       "4                                                 0.0000   \n",
       "\n",
       "Description  (R)-3-amino-2-methylpropionate-pyruvate transaminase activity  \\\n",
       "0                                                          0.0               \n",
       "1                                                          0.0               \n",
       "2                                                          0.0               \n",
       "3                                                          0.0               \n",
       "4                                                          0.0               \n",
       "\n",
       "Description  1,2-diacylglycerol 3-beta-galactosyltransferase activity  \\\n",
       "0                                                      12.0000          \n",
       "1                                                       0.0000          \n",
       "2                                                      42.9113          \n",
       "3                                                      60.8076          \n",
       "4                                                     238.3110          \n",
       "\n",
       "Description  1,3-beta-D-glucan synthase activity  ...  xaa-Pro aminopeptidase  \\\n",
       "0                                      223.26800  ...                  0.0000   \n",
       "1                                       37.00000  ...                 50.1938   \n",
       "2                                       77.55930  ...                150.0040   \n",
       "3                                       66.06243  ...                 19.7302   \n",
       "4                                      205.84212  ...                  0.0000   \n",
       "\n",
       "Description  xylan 1,4-beta-xylosidase activity  \\\n",
       "0                                       0.00000   \n",
       "1                                     315.30349   \n",
       "2                                     315.47737   \n",
       "3                                      26.00000   \n",
       "4                                     309.13800   \n",
       "\n",
       "Description  xyloglucan 6-xylosyltransferase activity  zinc finger  \\\n",
       "0                                           356.94490          0.0   \n",
       "1                                             0.00000         53.0   \n",
       "2                                           133.00000          6.0   \n",
       "3                                            27.27720          0.0   \n",
       "4                                           192.96938          0.0   \n",
       "\n",
       "Description  zinc finger CCCH domain-containing protein  \\\n",
       "0                                                   0.0   \n",
       "1                                                   0.0   \n",
       "2                                                   0.0   \n",
       "3                                                   0.0   \n",
       "4                                                   0.0   \n",
       "\n",
       "Description  zinc finger family protein  zinc ion binding  \\\n",
       "0                                   0.0        600.184750   \n",
       "1                                   0.0       1435.538877   \n",
       "2                                   0.0       1237.791230   \n",
       "3                                   0.0        590.736800   \n",
       "4                                   0.0       1683.374212   \n",
       "\n",
       "Description  zinc ion transmembrane transporter activity  \\\n",
       "0                                              455.00000   \n",
       "1                                              101.00055   \n",
       "2                                              357.67270   \n",
       "3                                               35.21790   \n",
       "4                                              207.47510   \n",
       "\n",
       "Description  zinc-finger of a C2HC-type  zonula adherens maintenance  \n",
       "0                                0.0000                 0.000000e+00  \n",
       "1                               61.7623                 1.389660e+00  \n",
       "2                                4.0693                 0.000000e+00  \n",
       "3                                0.0000                 3.943230e-07  \n",
       "4                              137.1279                 1.941690e+01  \n",
       "\n",
       "[5 rows x 4758 columns]"
      ]
     },
     "execution_count": 26,
     "metadata": {},
     "output_type": "execute_result"
    }
   ],
   "source": [
    "# Extract Phaeocystis globosa transcripts\n",
    "phaeocystis_bin = data_130[(data_130['Name_to_Use'] == 'Phaeocystis globosa') & (data_130['p_ident'] >= 0.85)]\n",
    "\n",
    "# Add count data\n",
    "phaeocystis_counts = pd.read_csv('../data/quantification/130/130_count.csv')\n",
    "## Change into long format\n",
    "phaeocystis_counts = phaeocystis_counts.melt(id_vars='target_id', var_name='sample', value_name='count')\n",
    "# Rename the target_id column\n",
    "phaeocystis_counts.rename(columns={'target_id': 'transcript_id'}, inplace=True)\n",
    "phaeocystis_bin = phaeocystis_bin.merge(phaeocystis_counts, on=['transcript_id', 'sample'], how='left')\n",
    "\n",
    "# Read in the functional annotation data\n",
    "functional_annotation = pd.read_table('../data/annotation/functional_eggnog/130/functional_annotation.emapper.annotations')\n",
    "# Cut off weird characters from the transcript names\n",
    "functional_annotation['#query'] = functional_annotation['#query'].str.split(\".\", n=1, expand=True)[0]\n",
    "# Rename the query_id column\n",
    "functional_annotation.rename(columns={'#query': 'transcript_id'}, inplace=True)\n",
    "# Define the annotation column of interest:\n",
    "functional_category = 'Description'\n",
    "# Remove rows with missing functional annotation\n",
    "functional_annotation = functional_annotation[functional_annotation[functional_category] != '-']\n",
    "\n",
    "# Add functional information to the new set\n",
    "export = phaeocystis_bin.merge(functional_annotation[['transcript_id', functional_category]], left_on = \"transcript_id\", right_on=\"transcript_id\", how='left')\n",
    "\n",
    "# Keep only the columns of interest\n",
    "export = export[['sample', 'count', functional_category]]\n",
    "# Group by sample and functional category\n",
    "export = export.groupby(['sample', functional_category])['count'].sum().reset_index()\n",
    "\n",
    "# Export the data as sample x functional category matrix\n",
    "export = export.pivot(index='sample', columns=functional_category, values='count').reset_index()\n",
    "export.head()"
   ]
  },
  {
   "cell_type": "code",
   "execution_count": 27,
   "metadata": {},
   "outputs": [],
   "source": [
    "# Save the data\n",
    "export.to_csv('../data/analysis/phaeocystis_metabolic_functions_counts.csv', index=False)"
   ]
  }
 ],
 "metadata": {
  "kernelspec": {
   "display_name": "Python 3",
   "language": "python",
   "name": "python3"
  },
  "language_info": {
   "codemirror_mode": {
    "name": "ipython",
    "version": 3
   },
   "file_extension": ".py",
   "mimetype": "text/x-python",
   "name": "python",
   "nbconvert_exporter": "python",
   "pygments_lexer": "ipython3",
   "version": "3.9.22"
  }
 },
 "nbformat": 4,
 "nbformat_minor": 2
}
