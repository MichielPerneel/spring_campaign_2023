{
 "cells": [
  {
   "cell_type": "markdown",
   "metadata": {},
   "source": [
    "# Analysis of Phytoplankton data from FlowCam\n",
    "The Flowcam is an automated system for image analysis. In the LifeWatch framework, the Flowcam is used to measure the biomass of phytoplankton in the water column. At a sampling station, 50L of sea surface water was collected using a stainless-steel bucket and filtered through a 55µm mesh size Apstein net (1.2 m long, 0.5 m diameter). The filtered sample is transferred to a plastic falcon and fixed with acid Lugol’s iodine solution (1-5%). Samples are stored in the dark at 4°C until laboratory processing. In the lab, samples are processed using the FlowCAM VS-4 bench model (Fluid Imaging Technologies, Yarmouth, Maine, U.S.A.) equipped with a Sony XCD SC90 digital grey-scale camera and VisualSpreadsheet® software (version 4.2.52). For more details on Flowcam methodology, see paper. The FlowCAM output consists of cropped image collages, image parameters, and processing metadata. This output is then linked to sampling metadata from the ships information system (MIDAS) and is uploaded to a central database. Convolutional neural networks (CNN) are trained on human validated images. The current model version can recognize over 90 FlowCAM image classes with an accuracy of around 87%. Cell densities are calculated using the filtered volume of sea surface water, the volume of the sample measured in the lab, the fluid volume imaged, the particle count measured by the FlowCAM device, and a dilution factor calculated from the dilution of samples based on the PPUI accounted for during the sample run:\n",
    "\n",
    "$$density\\:\\frac{cells}{L} = \\frac{particle\\:count * sample\\:volume\\:(mL)}{fluid\\:volume\\:imaged\\:(mL) * dilution\\:factor * volume\\:filtered\\:(L)}$$\n",
    "\n",
    "Once predictions have been manually verified, the resulting cell densities are aggregated per predicted taxonomic level and made available through the Belgian LifeWatch RShiny application available at https://rshiny.lifewatch.be/flowcam-data/. Since the upload did not happen yet, the recent data is downloaded directly from MongoDB using the [export R script](FlowCam_export.R). Let's first load and check this data."
   ]
  },
  {
   "cell_type": "code",
   "execution_count": 1,
   "metadata": {},
   "outputs": [],
   "source": [
    "# Load libraries\n",
    "import pandas as pd\n",
    "import numpy as np\n",
    "import seaborn as sns\n",
    "import plotly.express as px\n",
    "import matplotlib.pyplot as plt"
   ]
  },
  {
   "cell_type": "code",
   "execution_count": 2,
   "metadata": {},
   "outputs": [
    {
     "data": {
      "text/html": [
       "<div>\n",
       "<style scoped>\n",
       "    .dataframe tbody tr th:only-of-type {\n",
       "        vertical-align: middle;\n",
       "    }\n",
       "\n",
       "    .dataframe tbody tr th {\n",
       "        vertical-align: top;\n",
       "    }\n",
       "\n",
       "    .dataframe thead th {\n",
       "        text-align: right;\n",
       "    }\n",
       "</style>\n",
       "<table border=\"1\" class=\"dataframe\">\n",
       "  <thead>\n",
       "    <tr style=\"text-align: right;\">\n",
       "      <th></th>\n",
       "      <th>Taxon</th>\n",
       "      <th>Station</th>\n",
       "      <th>Comments</th>\n",
       "      <th>Dil</th>\n",
       "      <th>Tripactionid</th>\n",
       "      <th>FVI</th>\n",
       "      <th>Sample_DateTime</th>\n",
       "      <th>Sample_volume</th>\n",
       "      <th>Taxon_count_sample</th>\n",
       "      <th>density_cell_L_sample</th>\n",
       "      <th>Total_count_sample</th>\n",
       "      <th>Rel_ab_sample</th>\n",
       "      <th>Total_density_sample</th>\n",
       "      <th>Rel_dens_sample</th>\n",
       "    </tr>\n",
       "  </thead>\n",
       "  <tbody>\n",
       "    <tr>\n",
       "      <th>0</th>\n",
       "      <td>Actinoptychus</td>\n",
       "      <td>130</td>\n",
       "      <td>130_1</td>\n",
       "      <td>0.1</td>\n",
       "      <td>118687</td>\n",
       "      <td>6.244567</td>\n",
       "      <td>2023-04-20 08:00:17</td>\n",
       "      <td>258</td>\n",
       "      <td>3</td>\n",
       "      <td>24.789550</td>\n",
       "      <td>1381</td>\n",
       "      <td>0.217234</td>\n",
       "      <td>11410.626034</td>\n",
       "      <td>0.217250</td>\n",
       "    </tr>\n",
       "    <tr>\n",
       "      <th>1</th>\n",
       "      <td>Bacillariophyceae</td>\n",
       "      <td>130</td>\n",
       "      <td>130_1</td>\n",
       "      <td>0.1</td>\n",
       "      <td>118687</td>\n",
       "      <td>6.244854</td>\n",
       "      <td>2023-04-20 08:00:17</td>\n",
       "      <td>258</td>\n",
       "      <td>13</td>\n",
       "      <td>107.416445</td>\n",
       "      <td>1381</td>\n",
       "      <td>0.941347</td>\n",
       "      <td>11410.626034</td>\n",
       "      <td>0.941372</td>\n",
       "    </tr>\n",
       "    <tr>\n",
       "      <th>2</th>\n",
       "      <td>Bellerochea horologicalis</td>\n",
       "      <td>130</td>\n",
       "      <td>130_1</td>\n",
       "      <td>0.1</td>\n",
       "      <td>118687</td>\n",
       "      <td>6.244990</td>\n",
       "      <td>2023-04-20 08:00:17</td>\n",
       "      <td>258</td>\n",
       "      <td>10</td>\n",
       "      <td>82.626233</td>\n",
       "      <td>1381</td>\n",
       "      <td>0.724113</td>\n",
       "      <td>11410.626034</td>\n",
       "      <td>0.724117</td>\n",
       "    </tr>\n",
       "    <tr>\n",
       "      <th>3</th>\n",
       "      <td>Biddulphianae</td>\n",
       "      <td>130</td>\n",
       "      <td>130_1</td>\n",
       "      <td>0.1</td>\n",
       "      <td>118687</td>\n",
       "      <td>6.245033</td>\n",
       "      <td>2023-04-20 08:00:17</td>\n",
       "      <td>258</td>\n",
       "      <td>12</td>\n",
       "      <td>99.150792</td>\n",
       "      <td>1381</td>\n",
       "      <td>0.868936</td>\n",
       "      <td>11410.626034</td>\n",
       "      <td>0.868934</td>\n",
       "    </tr>\n",
       "    <tr>\n",
       "      <th>4</th>\n",
       "      <td>Bubbles</td>\n",
       "      <td>130</td>\n",
       "      <td>130_1</td>\n",
       "      <td>0.1</td>\n",
       "      <td>118687</td>\n",
       "      <td>6.245075</td>\n",
       "      <td>2023-04-20 08:00:17</td>\n",
       "      <td>258</td>\n",
       "      <td>4</td>\n",
       "      <td>33.050043</td>\n",
       "      <td>1381</td>\n",
       "      <td>0.289645</td>\n",
       "      <td>11410.626034</td>\n",
       "      <td>0.289643</td>\n",
       "    </tr>\n",
       "  </tbody>\n",
       "</table>\n",
       "</div>"
      ],
      "text/plain": [
       "                       Taxon  Station Comments  Dil  Tripactionid       FVI  \\\n",
       "0              Actinoptychus      130    130_1  0.1        118687  6.244567   \n",
       "1          Bacillariophyceae      130    130_1  0.1        118687  6.244854   \n",
       "2  Bellerochea horologicalis      130    130_1  0.1        118687  6.244990   \n",
       "3              Biddulphianae      130    130_1  0.1        118687  6.245033   \n",
       "4                    Bubbles      130    130_1  0.1        118687  6.245075   \n",
       "\n",
       "       Sample_DateTime  Sample_volume  Taxon_count_sample  \\\n",
       "0  2023-04-20 08:00:17            258                   3   \n",
       "1  2023-04-20 08:00:17            258                  13   \n",
       "2  2023-04-20 08:00:17            258                  10   \n",
       "3  2023-04-20 08:00:17            258                  12   \n",
       "4  2023-04-20 08:00:17            258                   4   \n",
       "\n",
       "   density_cell_L_sample  Total_count_sample  Rel_ab_sample  \\\n",
       "0              24.789550                1381       0.217234   \n",
       "1             107.416445                1381       0.941347   \n",
       "2              82.626233                1381       0.724113   \n",
       "3              99.150792                1381       0.868936   \n",
       "4              33.050043                1381       0.289645   \n",
       "\n",
       "   Total_density_sample  Rel_dens_sample  \n",
       "0          11410.626034         0.217250  \n",
       "1          11410.626034         0.941372  \n",
       "2          11410.626034         0.724117  \n",
       "3          11410.626034         0.868934  \n",
       "4          11410.626034         0.289643  "
      ]
     },
     "execution_count": 2,
     "metadata": {},
     "output_type": "execute_result"
    }
   ],
   "source": [
    "# load data\n",
    "flowcam = pd.read_csv('../data/raw/flowcam_validated.csv')\n",
    "\n",
    "# Remove JN identifiers from comments\n",
    "flowcam['Comments'] = flowcam['Comments'].str.replace('JN22_', '')\n",
    "\n",
    "# Inspect data\n",
    "flowcam.head()"
   ]
  },
  {
   "cell_type": "markdown",
   "metadata": {},
   "source": [
    "1. **Comments**: This column represents the sampling station and sampling event. \n",
    "2. **Sample_volume**: This column represents the volume of the sample that was processed, as extracted from the database (`metadata.sample_data.sample_volume_ml`). It indicates the amount of water (in milliliters) from which the organisms or particles were collected for analysis.\n",
    "\n",
    "3. **Taxon_count_sample**: This is calculated by aggregating the `Taxon` column based on a combination of `Taxon`, `Station`, and `Comments` columns (`to_aggregate_by`). The aggregation function used is `length`, which counts the number of occurrences for each unique combination of taxon, station, and comments. It represents the count of different taxa (types of organisms) found in each sample.\n",
    "\n",
    "4. **density_cell_L_sample**: This is a calculated field that represents the density of cells (organisms) per liter in the sample. It's calculated using the formula: \n",
    "   - ${density\\_cell\\_L\\_sample} = \\frac{\\text{Taxon\\_count\\_sample} \\times \\text{Sample\\_volume}}{\\text{FVI} \\times \\text{Dil} \\times 50}$\n",
    "   - **FVI** (Fluid Volume Imaged_ml) is the volume of the sample that was imaged.\n",
    "   - **Dil** is the dilution factor of the sample.\n",
    "   - The number 50 is the volume of seawater filtered in liters.\n",
    "\n",
    "5. **Total_count_sample**: This is the total count of organisms across all taxa in a particular sample. It is calculated by grouping the data by `Comments` and `Station` and summing up the `Taxon_count_sample` within these groups.\n",
    "\n",
    "6. **Rel_ab_sample** (Relative Abundance Sample): This column represents the relative abundance of each taxon in a sample as a percentage. It is calculated by dividing the `Taxon_count_sample` by the `Total_count_sample` for each group and multiplying by 100. \n",
    "\n",
    "7. **Total_density_sample**: This represents the total density of all cells across different taxa within a sample. It's calculated by summing up the `density_cell_L_sample` for each group, grouped by `Comments`.\n",
    "\n",
    "8. **Rel_dens_sample** (Relative Density Sample): Similar to relative abundance, this is the relative density of each taxon within a sample, calculated as a percentage. It's the density of each taxon (`density_cell_L_sample`) as a proportion of the total density (`Total_density_sample`) of the sample."
   ]
  },
  {
   "cell_type": "code",
   "execution_count": 3,
   "metadata": {},
   "outputs": [],
   "source": [
    "flowcam = flowcam[['Taxon', 'Comments', 'density_cell_L_sample']]\n",
    "\n",
    "# Split comments into station and station suffix\n",
    "flowcam['Station'] = flowcam.Comments.str.split('_').str[0]\n",
    "flowcam['Station_suffix'] = flowcam.Comments.str.split('_').str[1]"
   ]
  },
  {
   "cell_type": "code",
   "execution_count": 4,
   "metadata": {},
   "outputs": [],
   "source": [
    "# Remove uninteresting stuff\n",
    "taxa_to_delete = ['Artefact',\n",
    "                  'Bubbles',\n",
    "                  #'Detritus', \n",
    "                  'Fibers',\n",
    "                  'Pollen',\n",
    "                  'Remnant',\n",
    "                  'Replicate',\n",
    "                  'Unknown',\n",
    "                  'Zooplankton',\n",
    "                  'Aggregate',\n",
    "                  'Unknown_5',\n",
    "                  'Unknown_3',\n",
    "                  'Holothuroidea ossicles',\n",
    "                  'Ditylum brightwellii:process',\n",
    "                  'Biddulphianae:process',\n",
    "                  'Rhizosolenia:process',\n",
    "                  'Faecal pellet',\n",
    "                  'Egg/Cyst',\n",
    "                  'Crustaceae:part']\n",
    "\n",
    "# Create a dataframe without the taxa to delete\n",
    "flowcam = flowcam.query('Taxon not in @taxa_to_delete')"
   ]
  },
  {
   "cell_type": "code",
   "execution_count": 5,
   "metadata": {},
   "outputs": [
    {
     "data": {
      "text/html": [
       "<div>\n",
       "<style scoped>\n",
       "    .dataframe tbody tr th:only-of-type {\n",
       "        vertical-align: middle;\n",
       "    }\n",
       "\n",
       "    .dataframe tbody tr th {\n",
       "        vertical-align: top;\n",
       "    }\n",
       "\n",
       "    .dataframe thead th {\n",
       "        text-align: right;\n",
       "    }\n",
       "</style>\n",
       "<table border=\"1\" class=\"dataframe\">\n",
       "  <thead>\n",
       "    <tr style=\"text-align: right;\">\n",
       "      <th></th>\n",
       "      <th>Taxon</th>\n",
       "      <th>Comments</th>\n",
       "      <th>density_cell_L_sample</th>\n",
       "      <th>Station</th>\n",
       "      <th>Station_suffix</th>\n",
       "      <th>Taxon_grouped</th>\n",
       "    </tr>\n",
       "  </thead>\n",
       "  <tbody>\n",
       "    <tr>\n",
       "      <th>0</th>\n",
       "      <td>Actinoptychus</td>\n",
       "      <td>130_1</td>\n",
       "      <td>24.789550</td>\n",
       "      <td>130</td>\n",
       "      <td>1</td>\n",
       "      <td>Bacillariophyta</td>\n",
       "    </tr>\n",
       "    <tr>\n",
       "      <th>1</th>\n",
       "      <td>Bacillariophyceae</td>\n",
       "      <td>130_1</td>\n",
       "      <td>107.416445</td>\n",
       "      <td>130</td>\n",
       "      <td>1</td>\n",
       "      <td>Bacillariophyta</td>\n",
       "    </tr>\n",
       "    <tr>\n",
       "      <th>2</th>\n",
       "      <td>Bellerochea horologicalis</td>\n",
       "      <td>130_1</td>\n",
       "      <td>82.626233</td>\n",
       "      <td>130</td>\n",
       "      <td>1</td>\n",
       "      <td>Bacillariophyta</td>\n",
       "    </tr>\n",
       "    <tr>\n",
       "      <th>3</th>\n",
       "      <td>Biddulphianae</td>\n",
       "      <td>130_1</td>\n",
       "      <td>99.150792</td>\n",
       "      <td>130</td>\n",
       "      <td>1</td>\n",
       "      <td>Bacillariophyta</td>\n",
       "    </tr>\n",
       "    <tr>\n",
       "      <th>5</th>\n",
       "      <td>Centric Diatom</td>\n",
       "      <td>130_1</td>\n",
       "      <td>99.149866</td>\n",
       "      <td>130</td>\n",
       "      <td>1</td>\n",
       "      <td>Bacillariophyta</td>\n",
       "    </tr>\n",
       "  </tbody>\n",
       "</table>\n",
       "</div>"
      ],
      "text/plain": [
       "                       Taxon Comments  density_cell_L_sample Station  \\\n",
       "0              Actinoptychus    130_1              24.789550     130   \n",
       "1          Bacillariophyceae    130_1             107.416445     130   \n",
       "2  Bellerochea horologicalis    130_1              82.626233     130   \n",
       "3              Biddulphianae    130_1              99.150792     130   \n",
       "5             Centric Diatom    130_1              99.149866     130   \n",
       "\n",
       "  Station_suffix    Taxon_grouped  \n",
       "0              1  Bacillariophyta  \n",
       "1              1  Bacillariophyta  \n",
       "2              1  Bacillariophyta  \n",
       "3              1  Bacillariophyta  \n",
       "5              1  Bacillariophyta  "
      ]
     },
     "execution_count": 5,
     "metadata": {},
     "output_type": "execute_result"
    }
   ],
   "source": [
    "# Group taxon levels into new identifiers\n",
    "flowcam['Taxon']\n",
    "\n",
    "diatoms = ['Actinoptychus','Actinoptychus senarius','Actinoptychus splendens','Bacillaria paxillifer','Bacillariophyceae','Bacteriastrum',\n",
    "           'Bellerochea horologicalis','Biddulphianae', 'Brockmanniella brockmannii', 'Centric Diatom','Ceratium horridum/C. longipes','Chaetoceros','Chaetoceros danicus',\n",
    "           'Dactyliosolen/Cerataulina/Guinardia','Diploneis','Ditylum brightwellii','Eucampia','Guinardia delicatula','Guinardia flaccida',\n",
    "           'Guinardia striata/Dactyliosolen phuketensis','Helicotheca tamesis','Hobaniella longicruris','Lauderia/Melosira/Detonula', 'Thalassiosira/Porosira',\n",
    "           'Lithodesmium undulatum','Long (chained) diatom','Melosira','Neocalyptrella robusta','Odontella rhombus f. trigona','Paralia', 'Asterionella',\n",
    "           'Pennate Diatom','Proboscia indica','Protoperidinium','Pseudo-nitzschia','Rhizosolenia','Rhizosolenia setigera (f. pungens)/R. hebetata f. semispina',\n",
    "           'Skeletonema','Stellarima stellaris/Podosira/Hyalodiscus','Synedra/Thalassionema','Triceratium favus','Trieres mobiliensis/T. regia','Trieres sinensis',\n",
    "           'Zygoceros','Aulacodiscus argus','Biddulphia alternans','Chaetoceros socialis','Coscinodiscus concinnus','Coscinodiscus granii','Coscinodiscus wailesii',\n",
    "           'Foraminifera','Leptocylindraceae','Plagiogrammopsis/Bellerochea malleus','Stephanopyxis','Thalassiosira/Porosira''Asterionella', 'Auliscus', 'Chaetoceros curvisetus/C. pseudocurvisetus',\n",
    "           'Meuniera membranacea', 'Odontella type 1', 'Proboscia', 'Proboscia alata', 'Ralfsiella smithii', 'Thalassiosira punctigera', 'Plagiogrammopsis vanheurckii', '(Pseudo-)pediastrum', \n",
    "       'Odontella aurita/Ralfsiella minima', 'Odontella rhombus var. trigona', 'Epiphytic diatom', 'Pennate diatom colony']\n",
    "\n",
    "dinoflagellates = ['Ceratium horridum/C. longipes', 'Dinoflagellata', 'Dinoflagellate cyst', 'Noctiluca scintillans', 'Noctilucales', 'Protoperidinium', 'Protoperidinium pentagonum',\n",
    "                   'Pseudo-nitzschia', 'Tripos', 'Tripos fusus', 'Tripos:part', 'Protoperidinium depressum', 'Dinophysis', 'Gymnodiniales', 'Tripos lineatus', 'Dissodinium pseudolunula']\n",
    "\n",
    "prymnesiophyceae = ['Phytoplankton Colony'] # Phytoplankton colonies are phaeocystis parts\n",
    "\n",
    "ciliates = ['Favella', 'Tintinnid cyst', 'Tintinnina', 'Tintinnopsis', 'Xystonella', 'Amphorellopsis','Ciliophora','Euntintinnus', \n",
    "            'Peritrichia', 'Strombidium', 'Ciliophora:part', 'Suctoria']\n",
    "\n",
    "mollusca = ['Mollusca', 'Mollusca incertae', 'Veliger larvae D-shaped']\n",
    "\n",
    "crustaceae = ['Nauplii', 'Decapoda', 'Copepoda adult', 'Crustacea']\n",
    "\n",
    "annelida = ['Polychaeta']\n",
    "\n",
    "echinodermata = ['Ophiuroidea/Echinoidea larvae']\n",
    "\n",
    "# Swap the taxon names for the new identifiers\n",
    "flowcam['Taxon_grouped'] = flowcam['Taxon'].replace(diatoms, 'Bacillariophyta')\n",
    "flowcam['Taxon_grouped'] = flowcam['Taxon_grouped'].replace(dinoflagellates, 'Dinophyceae')\n",
    "flowcam['Taxon_grouped'] = flowcam['Taxon_grouped'].replace(prymnesiophyceae, 'Prymnesiophyceae')\n",
    "flowcam['Taxon_grouped'] = flowcam['Taxon_grouped'].replace(ciliates, 'Ciliates')\n",
    "flowcam['Taxon_grouped'] = flowcam['Taxon_grouped'].replace(mollusca, 'Mollusca')\n",
    "flowcam['Taxon_grouped'] = flowcam['Taxon_grouped'].replace(crustaceae, 'Arthropoda')\n",
    "flowcam['Taxon_grouped'] = flowcam['Taxon_grouped'].replace(annelida, 'Annelida')\n",
    "flowcam['Taxon_grouped'] = flowcam['Taxon_grouped'].replace(echinodermata, 'Echinodermata')\n",
    "\n",
    "flowcam.head()"
   ]
  },
  {
   "cell_type": "code",
   "execution_count": 6,
   "metadata": {},
   "outputs": [
    {
     "data": {
      "application/vnd.plotly.v1+json": {
       "config": {
        "plotlyServerURL": "https://plot.ly"
       },
       "data": [
        {
         "alignmentgroup": "True",
         "bingroup": "y",
         "histfunc": "sum",
         "hovertemplate": "Taxon_grouped=Bacillariophyta<br>sum of rel_occurrence=%{x}<br>Sample=%{y}<extra></extra>",
         "legendgroup": "Bacillariophyta",
         "marker": {
          "color": "#E69F00",
          "pattern": {
           "shape": ""
          }
         },
         "name": "Bacillariophyta",
         "offsetgroup": "Bacillariophyta",
         "orientation": "h",
         "showlegend": true,
         "type": "histogram",
         "x": [
          0.8052360641926153,
          0.5417933543655372,
          0.6568765468785556,
          0.9403906060157406,
          0.7217359269979652,
          0.3841719917644106,
          0.8194613797883574,
          0.4435074494816403,
          0.5661329152637025,
          0.5858146419666966,
          0.7242950388556468,
          0.8065699525798374,
          0.7173975288094027,
          0.7651201013802654,
          0.6379533296906957,
          0.7677449099005429,
          0.7199909562974272,
          0.6612124829243959,
          0.6653520687457068,
          0.7276816100313136
         ],
         "xaxis": "x",
         "y": [
          "1",
          "10",
          "11",
          "12",
          "13",
          "15",
          "16",
          "17",
          "18",
          "19",
          "2",
          "20",
          "21",
          "3",
          "4",
          "5",
          "6",
          "7",
          "8",
          "9"
         ],
         "yaxis": "y"
        },
        {
         "alignmentgroup": "True",
         "bingroup": "y",
         "histfunc": "sum",
         "hovertemplate": "Taxon_grouped=Dinophyceae<br>sum of rel_occurrence=%{x}<br>Sample=%{y}<extra></extra>",
         "legendgroup": "Dinophyceae",
         "marker": {
          "color": "#56B4E9",
          "pattern": {
           "shape": ""
          }
         },
         "name": "Dinophyceae",
         "offsetgroup": "Dinophyceae",
         "orientation": "h",
         "showlegend": true,
         "type": "histogram",
         "x": [
          0.055645685738584805,
          0.02336808087120926,
          0.028063391816974592,
          0.016443765339704326,
          0.012538667757465014,
          0.013673079772137595,
          0.017843682016318935,
          0.05808830010587391,
          0.024799712125459845,
          0.009812904443268796,
          0.02823271342354513,
          0.1133146164728398,
          0.14193304060983408,
          0.0331629026182979,
          0.10331923459839687,
          0.03460333116363041,
          0.04443420028033177
         ],
         "xaxis": "x",
         "y": [
          "1",
          "10",
          "11",
          "12",
          "13",
          "15",
          "17",
          "19",
          "2",
          "21",
          "3",
          "4",
          "5",
          "6",
          "7",
          "8",
          "9"
         ],
         "yaxis": "y"
        },
        {
         "alignmentgroup": "True",
         "bingroup": "y",
         "histfunc": "sum",
         "hovertemplate": "Taxon_grouped=Prymnesiophyceae<br>sum of rel_occurrence=%{x}<br>Sample=%{y}<extra></extra>",
         "legendgroup": "Prymnesiophyceae",
         "marker": {
          "color": "#009E73",
          "pattern": {
           "shape": ""
          }
         },
         "name": "Prymnesiophyceae",
         "offsetgroup": "Prymnesiophyceae",
         "orientation": "h",
         "showlegend": true,
         "type": "histogram",
         "x": [
          0.054525522032821704,
          0.06605904881861104,
          0.012332815776173416,
          0.09277898504784708,
          0.33006758481631154,
          0.06878563275074277,
          0.1302687493532859,
          0.05661671107651189,
          0.04745795145024347,
          0.039716207470960364
         ],
         "xaxis": "x",
         "y": [
          "10",
          "11",
          "12",
          "16",
          "17",
          "18",
          "19",
          "2",
          "21",
          "6"
         ],
         "yaxis": "y"
        },
        {
         "alignmentgroup": "True",
         "bingroup": "y",
         "histfunc": "sum",
         "hovertemplate": "Taxon_grouped=Arthropoda<br>sum of rel_occurrence=%{x}<br>Sample=%{y}<extra></extra>",
         "legendgroup": "Arthropoda",
         "marker": {
          "color": "#0072B2",
          "pattern": {
           "shape": ""
          }
         },
         "name": "Arthropoda",
         "offsetgroup": "Arthropoda",
         "orientation": "h",
         "showlegend": true,
         "type": "histogram",
         "x": [
          0.07528734040286404,
          0.05184854526126826,
          0.09723043799890888,
          0.027749469047282146,
          0.1135349203515483,
          0.02308549108068291,
          0.03239489904485876,
          0.07407480197928888,
          0.05580747536343887,
          0.11835755000861325,
          0.0272401882544982,
          0.019121153396646186,
          0.11447504279139016,
          0.06703243324673537,
          0.025806063721741004,
          0.03464484867592174,
          0.03863501312441673,
          0.05353474824727283,
          0.09246780966167405
         ],
         "xaxis": "x",
         "y": [
          "1",
          "10",
          "11",
          "12",
          "13",
          "15",
          "17",
          "18",
          "19",
          "2",
          "20",
          "21",
          "3",
          "4",
          "5",
          "6",
          "7",
          "8",
          "9"
         ],
         "yaxis": "y"
        },
        {
         "alignmentgroup": "True",
         "bingroup": "y",
         "histfunc": "sum",
         "hovertemplate": "Taxon_grouped=Bellerochea<br>sum of rel_occurrence=%{x}<br>Sample=%{y}<extra></extra>",
         "legendgroup": "Bellerochea",
         "marker": {
          "color": "#19d3f3",
          "pattern": {
           "shape": ""
          }
         },
         "name": "Bellerochea",
         "offsetgroup": "Bellerochea",
         "orientation": "h",
         "showlegend": true,
         "type": "histogram",
         "x": [
          0.0049102695584833265,
          0.0016565725460955221,
          0.0022886519686652366,
          0.006830418987873899,
          0.005291202519287905,
          0.0019106516975909232,
          0.023974354698050687,
          0.002194761059388028,
          0.011864487862560861,
          0.0031427439319073286,
          0.009886421203099955,
          0.007446788900805067,
          0.0032892288748363994,
          0.0023904665838262226
         ],
         "xaxis": "x",
         "y": [
          "1",
          "11",
          "15",
          "16",
          "18",
          "19",
          "2",
          "20",
          "21",
          "3",
          "4",
          "6",
          "8",
          "9"
         ],
         "yaxis": "y"
        },
        {
         "alignmentgroup": "True",
         "bingroup": "y",
         "histfunc": "sum",
         "hovertemplate": "Taxon_grouped=Cerataulina pelagica<br>sum of rel_occurrence=%{x}<br>Sample=%{y}<extra></extra>",
         "legendgroup": "Cerataulina pelagica",
         "marker": {
          "color": "#FF6692",
          "pattern": {
           "shape": ""
          }
         },
         "name": "Cerataulina pelagica",
         "offsetgroup": "Cerataulina pelagica",
         "orientation": "h",
         "showlegend": true,
         "type": "histogram",
         "x": [
          0.0016367565194944438
         ],
         "xaxis": "x",
         "y": [
          "1"
         ],
         "yaxis": "y"
        },
        {
         "alignmentgroup": "True",
         "bingroup": "y",
         "histfunc": "sum",
         "hovertemplate": "Taxon_grouped=Ciliates<br>sum of rel_occurrence=%{x}<br>Sample=%{y}<extra></extra>",
         "legendgroup": "Ciliates",
         "marker": {
          "color": "#F0E442",
          "pattern": {
           "shape": ""
          }
         },
         "name": "Ciliates",
         "offsetgroup": "Ciliates",
         "orientation": "h",
         "showlegend": true,
         "type": "histogram",
         "x": [
          0.0065467377862691405,
          0.002596453430134355,
          0.007869989574158347,
          0.00102780321631811,
          0.0038405315068745518,
          0.015873607557863705,
          0.0019106516975909232,
          0.006837199478173382,
          0.009071372070548367,
          0.0050766114098464744,
          0.0030916710408872604,
          0.0075128076787263475,
          0.006451774185280122,
          0.018147399778989593,
          0.005721580930562349,
          0.006832743768955017,
          0.0047809331676524295
         ],
         "xaxis": "x",
         "y": [
          "1",
          "10",
          "11",
          "12",
          "15",
          "18",
          "19",
          "2",
          "20",
          "21",
          "3",
          "4",
          "5",
          "6",
          "7",
          "8",
          "9"
         ],
         "yaxis": "y"
        },
        {
         "alignmentgroup": "True",
         "bingroup": "y",
         "histfunc": "sum",
         "hovertemplate": "Taxon_grouped=Flock<br>sum of rel_occurrence=%{x}<br>Sample=%{y}<extra></extra>",
         "legendgroup": "Flock",
         "marker": {
          "color": "#B6E880",
          "pattern": {
           "shape": ""
          }
         },
         "name": "Flock",
         "offsetgroup": "Flock",
         "orientation": "h",
         "showlegend": true,
         "type": "histogram",
         "x": [
          0.024549906355030855,
          0.23181513343627258,
          0.1016806181267997,
          0.1521904848930214,
          0.5197087693824849,
          0.032666754721103315,
          0.2063487651693985,
          0.11160964475131764,
          0.03175267399622962,
          0.13709502965187154,
          0.11916107959381353,
          0.04693376965588437,
          0.13206764157216258,
          0.03225742470621619,
          0.12524728814742656,
          0.15145012084420104,
          0.19634636822148102,
          0.0854582323319058
         ],
         "xaxis": "x",
         "y": [
          "1",
          "10",
          "11",
          "13",
          "15",
          "17",
          "18",
          "19",
          "2",
          "20",
          "21",
          "3",
          "4",
          "5",
          "6",
          "7",
          "8",
          "9"
         ],
         "yaxis": "y"
        },
        {
         "alignmentgroup": "True",
         "bingroup": "y",
         "histfunc": "sum",
         "hovertemplate": "Taxon_grouped=Mollusca<br>sum of rel_occurrence=%{x}<br>Sample=%{y}<extra></extra>",
         "legendgroup": "Mollusca",
         "marker": {
          "color": "#89CE00",
          "pattern": {
           "shape": ""
          }
         },
         "name": "Mollusca",
         "offsetgroup": "Mollusca",
         "orientation": "h",
         "showlegend": true,
         "type": "histogram",
         "x": [
          0.00490998127946878,
          0.021869550999692226,
          0.008800129780356129,
          0.047788482631512835,
          0.06210731763548676,
          0.0049887032391777155,
          0.010581727341770535,
          0.0019106516975909232,
          0.0022058930014356845,
          0.011244413205692517,
          0.011795973235746122,
          0.01082091052190393,
          0.004943210601549966,
          0.006452187436040592,
          0.012897661967742387,
          0.007515626958245085,
          0.0035537393760522234,
          0.0047809331676524295
         ],
         "xaxis": "x",
         "y": [
          "1",
          "10",
          "11",
          "15",
          "16",
          "17",
          "18",
          "19",
          "2",
          "20",
          "21",
          "3",
          "4",
          "5",
          "6",
          "7",
          "8",
          "9"
         ],
         "yaxis": "y"
        },
        {
         "alignmentgroup": "True",
         "bingroup": "y",
         "histfunc": "sum",
         "hovertemplate": "Taxon_grouped=Sediment<br>sum of rel_occurrence=%{x}<br>Sample=%{y}<extra></extra>",
         "legendgroup": "Sediment",
         "marker": {
          "color": "#FF97FF",
          "pattern": {
           "shape": ""
          }
         },
         "name": "Sediment",
         "offsetgroup": "Sediment",
         "orientation": "h",
         "showlegend": true,
         "type": "histogram",
         "x": [
          0.014730232089211674,
          0.06231488232322469,
          0.01923635848292965,
          0.0013950748402906084,
          0.003195400364656916,
          0.003958125116364577,
          0.0027753033109497523
         ],
         "xaxis": "x",
         "y": [
          "1",
          "10",
          "11",
          "2",
          "3",
          "7",
          "9"
         ],
         "yaxis": "y"
        },
        {
         "alignmentgroup": "True",
         "bingroup": "y",
         "histfunc": "sum",
         "hovertemplate": "Taxon_grouped=Unknown_6<br>sum of rel_occurrence=%{x}<br>Sample=%{y}<extra></extra>",
         "legendgroup": "Unknown_6",
         "marker": {
          "color": "#FECB52",
          "pattern": {
           "shape": ""
          }
         },
         "name": "Unknown_6",
         "offsetgroup": "Unknown_6",
         "orientation": "h",
         "showlegend": true,
         "type": "histogram",
         "x": [
          0.006547026077977768,
          0.009868477279839805,
          0.008224403961444896,
          0.0010277703023905394,
          0.005443001893231269,
          0.013660837975747844,
          0.13253906560162293,
          0.052911347417945356,
          0.05267923336661434,
          0.009765791919588113,
          0.006584283178164065,
          0.05285530571402162,
          0.02338994670723106,
          0.024911005986686816,
          0.01935459944034508,
          0.008745946142429295,
          0.028187815503417497,
          0.03471090191403913,
          0.027328637483863553
         ],
         "xaxis": "x",
         "y": [
          "1",
          "10",
          "11",
          "12",
          "15",
          "16",
          "17",
          "18",
          "19",
          "2",
          "20",
          "21",
          "3",
          "4",
          "5",
          "6",
          "7",
          "8",
          "9"
         ],
         "yaxis": "y"
        },
        {
         "alignmentgroup": "True",
         "bingroup": "y",
         "histfunc": "sum",
         "hovertemplate": "Taxon_grouped=Cerataulus granulata<br>sum of rel_occurrence=%{x}<br>Sample=%{y}<extra></extra>",
         "legendgroup": "Cerataulus granulata",
         "marker": {
          "color": "#636efa",
          "pattern": {
           "shape": ""
          }
         },
         "name": "Cerataulus granulata",
         "offsetgroup": "Cerataulus granulata",
         "orientation": "h",
         "showlegend": true,
         "type": "histogram",
         "x": [
          0.0016565725460955221,
          0.005161060564687099,
          0.005991861078966469
         ],
         "xaxis": "x",
         "y": [
          "11",
          "16",
          "17"
         ],
         "yaxis": "y"
        },
        {
         "alignmentgroup": "True",
         "bingroup": "y",
         "histfunc": "sum",
         "hovertemplate": "Taxon_grouped=Porifera spicule<br>sum of rel_occurrence=%{x}<br>Sample=%{y}<extra></extra>",
         "legendgroup": "Porifera spicule",
         "marker": {
          "color": "#EF553B",
          "pattern": {
           "shape": ""
          }
         },
         "name": "Porifera spicule",
         "offsetgroup": "Porifera spicule",
         "orientation": "h",
         "showlegend": true,
         "type": "histogram",
         "x": [
          0.0013123356473308259,
          0.0010277703023905394,
          0.005457004084450132,
          0.0015977001823284528,
          0.0017768696880261117,
          0.007901873980830476
         ],
         "xaxis": "x",
         "y": [
          "11",
          "12",
          "21",
          "3",
          "8",
          "9"
         ],
         "yaxis": "y"
        },
        {
         "alignmentgroup": "True",
         "bingroup": "y",
         "histfunc": "sum",
         "hovertemplate": "Taxon_grouped=Radiozoa incertae<br>sum of rel_occurrence=%{x}<br>Sample=%{y}<extra></extra>",
         "legendgroup": "Radiozoa incertae",
         "marker": {
          "color": "#00cc96",
          "pattern": {
           "shape": ""
          }
         },
         "name": "Radiozoa incertae",
         "offsetgroup": "Radiozoa incertae",
         "orientation": "h",
         "showlegend": true,
         "type": "histogram",
         "x": [
          0.0013335938217394567
         ],
         "xaxis": "x",
         "y": [
          "11"
         ],
         "yaxis": "y"
        },
        {
         "alignmentgroup": "True",
         "bingroup": "y",
         "histfunc": "sum",
         "hovertemplate": "Taxon_grouped=Appendicularia<br>sum of rel_occurrence=%{x}<br>Sample=%{y}<extra></extra>",
         "legendgroup": "Appendicularia",
         "marker": {
          "color": "#ab63fa",
          "pattern": {
           "shape": ""
          }
         },
         "name": "Appendicularia",
         "offsetgroup": "Appendicularia",
         "orientation": "h",
         "showlegend": true,
         "type": "histogram",
         "x": [
          0.0023785335475035134
         ],
         "xaxis": "x",
         "y": [
          "4"
         ],
         "yaxis": "y"
        }
       ],
       "layout": {
        "autosize": false,
        "barmode": "relative",
        "font": {
         "color": "black",
         "family": "Times New Roman, serif",
         "size": 8
        },
        "height": 264.56692913385825,
        "legend": {
         "title": {
          "text": "Taxon_grouped"
         },
         "tracegroupgap": 0
        },
        "margin": {
         "b": 25,
         "l": 0,
         "r": 25,
         "t": 25
        },
        "showlegend": false,
        "template": {
         "data": {
          "bar": [
           {
            "error_x": {
             "color": "#2a3f5f"
            },
            "error_y": {
             "color": "#2a3f5f"
            },
            "marker": {
             "line": {
              "color": "#E5ECF6",
              "width": 0.5
             },
             "pattern": {
              "fillmode": "overlay",
              "size": 10,
              "solidity": 0.2
             }
            },
            "type": "bar"
           }
          ],
          "barpolar": [
           {
            "marker": {
             "line": {
              "color": "#E5ECF6",
              "width": 0.5
             },
             "pattern": {
              "fillmode": "overlay",
              "size": 10,
              "solidity": 0.2
             }
            },
            "type": "barpolar"
           }
          ],
          "carpet": [
           {
            "aaxis": {
             "endlinecolor": "#2a3f5f",
             "gridcolor": "white",
             "linecolor": "white",
             "minorgridcolor": "white",
             "startlinecolor": "#2a3f5f"
            },
            "baxis": {
             "endlinecolor": "#2a3f5f",
             "gridcolor": "white",
             "linecolor": "white",
             "minorgridcolor": "white",
             "startlinecolor": "#2a3f5f"
            },
            "type": "carpet"
           }
          ],
          "choropleth": [
           {
            "colorbar": {
             "outlinewidth": 0,
             "ticks": ""
            },
            "type": "choropleth"
           }
          ],
          "contour": [
           {
            "colorbar": {
             "outlinewidth": 0,
             "ticks": ""
            },
            "colorscale": [
             [
              0,
              "#0d0887"
             ],
             [
              0.1111111111111111,
              "#46039f"
             ],
             [
              0.2222222222222222,
              "#7201a8"
             ],
             [
              0.3333333333333333,
              "#9c179e"
             ],
             [
              0.4444444444444444,
              "#bd3786"
             ],
             [
              0.5555555555555556,
              "#d8576b"
             ],
             [
              0.6666666666666666,
              "#ed7953"
             ],
             [
              0.7777777777777778,
              "#fb9f3a"
             ],
             [
              0.8888888888888888,
              "#fdca26"
             ],
             [
              1,
              "#f0f921"
             ]
            ],
            "type": "contour"
           }
          ],
          "contourcarpet": [
           {
            "colorbar": {
             "outlinewidth": 0,
             "ticks": ""
            },
            "type": "contourcarpet"
           }
          ],
          "heatmap": [
           {
            "colorbar": {
             "outlinewidth": 0,
             "ticks": ""
            },
            "colorscale": [
             [
              0,
              "#0d0887"
             ],
             [
              0.1111111111111111,
              "#46039f"
             ],
             [
              0.2222222222222222,
              "#7201a8"
             ],
             [
              0.3333333333333333,
              "#9c179e"
             ],
             [
              0.4444444444444444,
              "#bd3786"
             ],
             [
              0.5555555555555556,
              "#d8576b"
             ],
             [
              0.6666666666666666,
              "#ed7953"
             ],
             [
              0.7777777777777778,
              "#fb9f3a"
             ],
             [
              0.8888888888888888,
              "#fdca26"
             ],
             [
              1,
              "#f0f921"
             ]
            ],
            "type": "heatmap"
           }
          ],
          "heatmapgl": [
           {
            "colorbar": {
             "outlinewidth": 0,
             "ticks": ""
            },
            "colorscale": [
             [
              0,
              "#0d0887"
             ],
             [
              0.1111111111111111,
              "#46039f"
             ],
             [
              0.2222222222222222,
              "#7201a8"
             ],
             [
              0.3333333333333333,
              "#9c179e"
             ],
             [
              0.4444444444444444,
              "#bd3786"
             ],
             [
              0.5555555555555556,
              "#d8576b"
             ],
             [
              0.6666666666666666,
              "#ed7953"
             ],
             [
              0.7777777777777778,
              "#fb9f3a"
             ],
             [
              0.8888888888888888,
              "#fdca26"
             ],
             [
              1,
              "#f0f921"
             ]
            ],
            "type": "heatmapgl"
           }
          ],
          "histogram": [
           {
            "marker": {
             "pattern": {
              "fillmode": "overlay",
              "size": 10,
              "solidity": 0.2
             }
            },
            "type": "histogram"
           }
          ],
          "histogram2d": [
           {
            "colorbar": {
             "outlinewidth": 0,
             "ticks": ""
            },
            "colorscale": [
             [
              0,
              "#0d0887"
             ],
             [
              0.1111111111111111,
              "#46039f"
             ],
             [
              0.2222222222222222,
              "#7201a8"
             ],
             [
              0.3333333333333333,
              "#9c179e"
             ],
             [
              0.4444444444444444,
              "#bd3786"
             ],
             [
              0.5555555555555556,
              "#d8576b"
             ],
             [
              0.6666666666666666,
              "#ed7953"
             ],
             [
              0.7777777777777778,
              "#fb9f3a"
             ],
             [
              0.8888888888888888,
              "#fdca26"
             ],
             [
              1,
              "#f0f921"
             ]
            ],
            "type": "histogram2d"
           }
          ],
          "histogram2dcontour": [
           {
            "colorbar": {
             "outlinewidth": 0,
             "ticks": ""
            },
            "colorscale": [
             [
              0,
              "#0d0887"
             ],
             [
              0.1111111111111111,
              "#46039f"
             ],
             [
              0.2222222222222222,
              "#7201a8"
             ],
             [
              0.3333333333333333,
              "#9c179e"
             ],
             [
              0.4444444444444444,
              "#bd3786"
             ],
             [
              0.5555555555555556,
              "#d8576b"
             ],
             [
              0.6666666666666666,
              "#ed7953"
             ],
             [
              0.7777777777777778,
              "#fb9f3a"
             ],
             [
              0.8888888888888888,
              "#fdca26"
             ],
             [
              1,
              "#f0f921"
             ]
            ],
            "type": "histogram2dcontour"
           }
          ],
          "mesh3d": [
           {
            "colorbar": {
             "outlinewidth": 0,
             "ticks": ""
            },
            "type": "mesh3d"
           }
          ],
          "parcoords": [
           {
            "line": {
             "colorbar": {
              "outlinewidth": 0,
              "ticks": ""
             }
            },
            "type": "parcoords"
           }
          ],
          "pie": [
           {
            "automargin": true,
            "type": "pie"
           }
          ],
          "scatter": [
           {
            "fillpattern": {
             "fillmode": "overlay",
             "size": 10,
             "solidity": 0.2
            },
            "type": "scatter"
           }
          ],
          "scatter3d": [
           {
            "line": {
             "colorbar": {
              "outlinewidth": 0,
              "ticks": ""
             }
            },
            "marker": {
             "colorbar": {
              "outlinewidth": 0,
              "ticks": ""
             }
            },
            "type": "scatter3d"
           }
          ],
          "scattercarpet": [
           {
            "marker": {
             "colorbar": {
              "outlinewidth": 0,
              "ticks": ""
             }
            },
            "type": "scattercarpet"
           }
          ],
          "scattergeo": [
           {
            "marker": {
             "colorbar": {
              "outlinewidth": 0,
              "ticks": ""
             }
            },
            "type": "scattergeo"
           }
          ],
          "scattergl": [
           {
            "marker": {
             "colorbar": {
              "outlinewidth": 0,
              "ticks": ""
             }
            },
            "type": "scattergl"
           }
          ],
          "scattermapbox": [
           {
            "marker": {
             "colorbar": {
              "outlinewidth": 0,
              "ticks": ""
             }
            },
            "type": "scattermapbox"
           }
          ],
          "scatterpolar": [
           {
            "marker": {
             "colorbar": {
              "outlinewidth": 0,
              "ticks": ""
             }
            },
            "type": "scatterpolar"
           }
          ],
          "scatterpolargl": [
           {
            "marker": {
             "colorbar": {
              "outlinewidth": 0,
              "ticks": ""
             }
            },
            "type": "scatterpolargl"
           }
          ],
          "scatterternary": [
           {
            "marker": {
             "colorbar": {
              "outlinewidth": 0,
              "ticks": ""
             }
            },
            "type": "scatterternary"
           }
          ],
          "surface": [
           {
            "colorbar": {
             "outlinewidth": 0,
             "ticks": ""
            },
            "colorscale": [
             [
              0,
              "#0d0887"
             ],
             [
              0.1111111111111111,
              "#46039f"
             ],
             [
              0.2222222222222222,
              "#7201a8"
             ],
             [
              0.3333333333333333,
              "#9c179e"
             ],
             [
              0.4444444444444444,
              "#bd3786"
             ],
             [
              0.5555555555555556,
              "#d8576b"
             ],
             [
              0.6666666666666666,
              "#ed7953"
             ],
             [
              0.7777777777777778,
              "#fb9f3a"
             ],
             [
              0.8888888888888888,
              "#fdca26"
             ],
             [
              1,
              "#f0f921"
             ]
            ],
            "type": "surface"
           }
          ],
          "table": [
           {
            "cells": {
             "fill": {
              "color": "#EBF0F8"
             },
             "line": {
              "color": "white"
             }
            },
            "header": {
             "fill": {
              "color": "#C8D4E3"
             },
             "line": {
              "color": "white"
             }
            },
            "type": "table"
           }
          ]
         },
         "layout": {
          "annotationdefaults": {
           "arrowcolor": "#2a3f5f",
           "arrowhead": 0,
           "arrowwidth": 1
          },
          "autotypenumbers": "strict",
          "coloraxis": {
           "colorbar": {
            "outlinewidth": 0,
            "ticks": ""
           }
          },
          "colorscale": {
           "diverging": [
            [
             0,
             "#8e0152"
            ],
            [
             0.1,
             "#c51b7d"
            ],
            [
             0.2,
             "#de77ae"
            ],
            [
             0.3,
             "#f1b6da"
            ],
            [
             0.4,
             "#fde0ef"
            ],
            [
             0.5,
             "#f7f7f7"
            ],
            [
             0.6,
             "#e6f5d0"
            ],
            [
             0.7,
             "#b8e186"
            ],
            [
             0.8,
             "#7fbc41"
            ],
            [
             0.9,
             "#4d9221"
            ],
            [
             1,
             "#276419"
            ]
           ],
           "sequential": [
            [
             0,
             "#0d0887"
            ],
            [
             0.1111111111111111,
             "#46039f"
            ],
            [
             0.2222222222222222,
             "#7201a8"
            ],
            [
             0.3333333333333333,
             "#9c179e"
            ],
            [
             0.4444444444444444,
             "#bd3786"
            ],
            [
             0.5555555555555556,
             "#d8576b"
            ],
            [
             0.6666666666666666,
             "#ed7953"
            ],
            [
             0.7777777777777778,
             "#fb9f3a"
            ],
            [
             0.8888888888888888,
             "#fdca26"
            ],
            [
             1,
             "#f0f921"
            ]
           ],
           "sequentialminus": [
            [
             0,
             "#0d0887"
            ],
            [
             0.1111111111111111,
             "#46039f"
            ],
            [
             0.2222222222222222,
             "#7201a8"
            ],
            [
             0.3333333333333333,
             "#9c179e"
            ],
            [
             0.4444444444444444,
             "#bd3786"
            ],
            [
             0.5555555555555556,
             "#d8576b"
            ],
            [
             0.6666666666666666,
             "#ed7953"
            ],
            [
             0.7777777777777778,
             "#fb9f3a"
            ],
            [
             0.8888888888888888,
             "#fdca26"
            ],
            [
             1,
             "#f0f921"
            ]
           ]
          },
          "colorway": [
           "#636efa",
           "#EF553B",
           "#00cc96",
           "#ab63fa",
           "#FFA15A",
           "#19d3f3",
           "#FF6692",
           "#B6E880",
           "#FF97FF",
           "#FECB52"
          ],
          "font": {
           "color": "#2a3f5f"
          },
          "geo": {
           "bgcolor": "white",
           "lakecolor": "white",
           "landcolor": "#E5ECF6",
           "showlakes": true,
           "showland": true,
           "subunitcolor": "white"
          },
          "hoverlabel": {
           "align": "left"
          },
          "hovermode": "closest",
          "mapbox": {
           "style": "light"
          },
          "paper_bgcolor": "white",
          "plot_bgcolor": "#E5ECF6",
          "polar": {
           "angularaxis": {
            "gridcolor": "white",
            "linecolor": "white",
            "ticks": ""
           },
           "bgcolor": "#E5ECF6",
           "radialaxis": {
            "gridcolor": "white",
            "linecolor": "white",
            "ticks": ""
           }
          },
          "scene": {
           "xaxis": {
            "backgroundcolor": "#E5ECF6",
            "gridcolor": "white",
            "gridwidth": 2,
            "linecolor": "white",
            "showbackground": true,
            "ticks": "",
            "zerolinecolor": "white"
           },
           "yaxis": {
            "backgroundcolor": "#E5ECF6",
            "gridcolor": "white",
            "gridwidth": 2,
            "linecolor": "white",
            "showbackground": true,
            "ticks": "",
            "zerolinecolor": "white"
           },
           "zaxis": {
            "backgroundcolor": "#E5ECF6",
            "gridcolor": "white",
            "gridwidth": 2,
            "linecolor": "white",
            "showbackground": true,
            "ticks": "",
            "zerolinecolor": "white"
           }
          },
          "shapedefaults": {
           "line": {
            "color": "#2a3f5f"
           }
          },
          "ternary": {
           "aaxis": {
            "gridcolor": "white",
            "linecolor": "white",
            "ticks": ""
           },
           "baxis": {
            "gridcolor": "white",
            "linecolor": "white",
            "ticks": ""
           },
           "bgcolor": "#E5ECF6",
           "caxis": {
            "gridcolor": "white",
            "linecolor": "white",
            "ticks": ""
           }
          },
          "title": {
           "x": 0.05
          },
          "xaxis": {
           "automargin": true,
           "gridcolor": "white",
           "linecolor": "white",
           "ticks": "",
           "title": {
            "standoff": 15
           },
           "zerolinecolor": "white",
           "zerolinewidth": 2
          },
          "yaxis": {
           "automargin": true,
           "gridcolor": "white",
           "linecolor": "white",
           "ticks": "",
           "title": {
            "standoff": 15
           },
           "zerolinecolor": "white",
           "zerolinewidth": 2
          }
         }
        },
        "title": {
         "text": "Station 51"
        },
        "width": 188.97637795275588,
        "xaxis": {
         "anchor": "y",
         "domain": [
          0,
          1
         ],
         "title": {
          "text": "Relative Phytoplankton Abundance"
         }
        },
        "yaxis": {
         "anchor": "x",
         "categoryarray": [
          "25",
          "24",
          "23",
          "22",
          "21",
          "20",
          "19",
          "18",
          "17",
          "16",
          "15",
          "14",
          "13",
          "12",
          "11",
          "10",
          "9",
          "8",
          "7",
          "6",
          "5",
          "4",
          "3",
          "2",
          "1"
         ],
         "categoryorder": "array",
         "domain": [
          0,
          1
         ],
         "title": {
          "text": ""
         }
        }
       }
      }
     },
     "metadata": {},
     "output_type": "display_data"
    },
    {
     "data": {
      "application/vnd.plotly.v1+json": {
       "config": {
        "plotlyServerURL": "https://plot.ly"
       },
       "data": [
        {
         "alignmentgroup": "True",
         "bingroup": "y",
         "histfunc": "sum",
         "hovertemplate": "Taxon_grouped=Bacillariophyta<br>sum of rel_occurrence=%{x}<br>Sample=%{y}<extra></extra>",
         "legendgroup": "Bacillariophyta",
         "marker": {
          "color": "#E69F00",
          "pattern": {
           "shape": ""
          }
         },
         "name": "Bacillariophyta",
         "offsetgroup": "Bacillariophyta",
         "orientation": "h",
         "showlegend": true,
         "type": "histogram",
         "x": [
          0.6655024428091976,
          0.5385032575831569,
          0.16924955147203433,
          0.1788660050727295,
          0.7845206098705938,
          0.7928939016135107,
          0.5835441941353953,
          0.844579575408189,
          0.819875324604846,
          0.5864676820240593,
          0.1717546710481884,
          0.4509909875886706,
          0.3035210997248081,
          0.8159308386293384,
          0.7546604776137367,
          0.36613182981463677,
          0.38587990880589795,
          0.7437581192676364,
          0.7226552922199074,
          0.1787930380433139,
          0.4839332981996178,
          0.3220253557478167,
          0.8290839847821051,
          0.6365708819756635
         ],
         "xaxis": "x",
         "y": [
          "1",
          "10",
          "11",
          "12",
          "13",
          "14",
          "15",
          "16",
          "17",
          "18",
          "19",
          "2",
          "20",
          "21",
          "22",
          "23",
          "24",
          "25",
          "3",
          "4",
          "5",
          "6",
          "7",
          "8"
         ],
         "yaxis": "y"
        },
        {
         "alignmentgroup": "True",
         "bingroup": "y",
         "histfunc": "sum",
         "hovertemplate": "Taxon_grouped=Dinophyceae<br>sum of rel_occurrence=%{x}<br>Sample=%{y}<extra></extra>",
         "legendgroup": "Dinophyceae",
         "marker": {
          "color": "#56B4E9",
          "pattern": {
           "shape": ""
          }
         },
         "name": "Dinophyceae",
         "offsetgroup": "Dinophyceae",
         "orientation": "h",
         "showlegend": true,
         "type": "histogram",
         "x": [
          0.09756420758253222,
          0.008903568373045878,
          0.007705565756880341,
          0.004837217372846934,
          0.028144069142529673,
          0.06303394149430507,
          0.1949360508888989,
          0.06585704876380992,
          0.04968918157183615,
          0.005278685287212032,
          0.0017647230475639313,
          0.00888515192273449,
          0.004919567558754544,
          0.0049788949348996215,
          0.021827801628676567,
          0.004576847112274662,
          0.007008341347629251,
          0.030762712135763162,
          0.023437069993951797,
          0.008904967926290914,
          0.0034523413158755213,
          0.0061430559621252386,
          0.013292020514544195,
          0.0034567931736870327
         ],
         "xaxis": "x",
         "y": [
          "1",
          "10",
          "11",
          "12",
          "13",
          "14",
          "15",
          "16",
          "17",
          "18",
          "19",
          "2",
          "20",
          "21",
          "22",
          "23",
          "24",
          "25",
          "3",
          "4",
          "5",
          "6",
          "7",
          "8"
         ],
         "yaxis": "y"
        },
        {
         "alignmentgroup": "True",
         "bingroup": "y",
         "histfunc": "sum",
         "hovertemplate": "Taxon_grouped=Prymnesiophyceae<br>sum of rel_occurrence=%{x}<br>Sample=%{y}<extra></extra>",
         "legendgroup": "Prymnesiophyceae",
         "marker": {
          "color": "#009E73",
          "pattern": {
           "shape": ""
          }
         },
         "name": "Prymnesiophyceae",
         "offsetgroup": "Prymnesiophyceae",
         "orientation": "h",
         "showlegend": true,
         "type": "histogram",
         "x": [
          0.19512261237161196,
          0.4287204018394601,
          0.813408818189468,
          0.8071759708327548,
          0.14423919227063084,
          0.07798016085003438,
          0.18481049949207026,
          0.05207097742585273,
          0.07764021628221957,
          0.3733587415418661,
          0.8127722721657358,
          0.4895491507734656,
          0.6657978106670247,
          0.12749217808039628,
          0.1623704096893369,
          0.6189941773474521,
          0.5941752169677967,
          0.18720101922158294,
          0.1679693793719038,
          0.8069416923154052,
          0.5029588848757595,
          0.6562483491983397,
          0.10302425029390012,
          0.319108167305054
         ],
         "xaxis": "x",
         "y": [
          "1",
          "10",
          "11",
          "12",
          "13",
          "14",
          "15",
          "16",
          "17",
          "18",
          "19",
          "2",
          "20",
          "21",
          "22",
          "23",
          "24",
          "25",
          "3",
          "4",
          "5",
          "6",
          "7",
          "8"
         ],
         "yaxis": "y"
        },
        {
         "alignmentgroup": "True",
         "bingroup": "y",
         "histfunc": "sum",
         "hovertemplate": "Taxon_grouped=Annelida<br>sum of rel_occurrence=%{x}<br>Sample=%{y}<extra></extra>",
         "legendgroup": "Annelida",
         "marker": {
          "color": "#D55E00",
          "pattern": {
           "shape": ""
          }
         },
         "name": "Annelida",
         "offsetgroup": "Annelida",
         "orientation": "h",
         "showlegend": true,
         "type": "histogram",
         "x": [
          0.0034836888540266966,
          0.001384936974269639,
          0.001310304103545707,
          0.0035180156840262642,
          0.0016265935322840957,
          0.0045075990493783635,
          0.00839247414408916,
          0.011375456543156458,
          0.0009488491212065567,
          0.00095857217815226,
          0.000615987288161667,
          0.0034626829204413654,
          0.012719477184736568
         ],
         "xaxis": "x",
         "y": [
          "1",
          "10",
          "12",
          "13",
          "14",
          "20",
          "21",
          "22",
          "24",
          "25",
          "4",
          "7",
          "8"
         ],
         "yaxis": "y"
        },
        {
         "alignmentgroup": "True",
         "bingroup": "y",
         "histfunc": "sum",
         "hovertemplate": "Taxon_grouped=Arthropoda<br>sum of rel_occurrence=%{x}<br>Sample=%{y}<extra></extra>",
         "legendgroup": "Arthropoda",
         "marker": {
          "color": "#0072B2",
          "pattern": {
           "shape": ""
          }
         },
         "name": "Arthropoda",
         "offsetgroup": "Arthropoda",
         "orientation": "h",
         "showlegend": true,
         "type": "histogram",
         "x": [
          0.013936094116491006,
          0.006456779551003689,
          0.003911424008660168,
          0.021987696605397348,
          0.02511524629851524,
          0.013924256959894495,
          0.025113089694267236,
          0.009316199522383524,
          0.014925105646554072,
          0.003007118613266173,
          0.0055418204061281435,
          0.004107860258961317,
          0.01688567299220017,
          0.018493217131531233,
          0.0034325528871255607,
          0.007430311456527691,
          0.017666958715143132,
          0.007812523454574793,
          0.0025969509860291223,
          0.0021820311306512885,
          0.0033225273950526473,
          0.012556975069714515,
          0.014734222023443391
         ],
         "xaxis": "x",
         "y": [
          "1",
          "10",
          "12",
          "13",
          "14",
          "15",
          "16",
          "17",
          "18",
          "19",
          "2",
          "20",
          "21",
          "22",
          "23",
          "24",
          "25",
          "3",
          "4",
          "5",
          "6",
          "7",
          "8"
         ],
         "yaxis": "y"
        },
        {
         "alignmentgroup": "True",
         "bingroup": "y",
         "histfunc": "sum",
         "hovertemplate": "Taxon_grouped=Ciliates<br>sum of rel_occurrence=%{x}<br>Sample=%{y}<extra></extra>",
         "legendgroup": "Ciliates",
         "marker": {
          "color": "#F0E442",
          "pattern": {
           "shape": ""
          }
         },
         "name": "Ciliates",
         "offsetgroup": "Ciliates",
         "orientation": "h",
         "showlegend": true,
         "type": "histogram",
         "x": [
          0.013937600461909616,
          0.001384936974269639,
          0.00049068537056672,
          0.0006455035694345929,
          0.009674838875823393,
          0.005306343721031689,
          0.005063292472286264,
          0.0019416207813368635,
          0.0031053998407945156,
          0.001916475584187402,
          0.001519641384393326,
          0.002072070578758497,
          0.005386755376112252,
          0.005978549952173648,
          0.0027292624752541356,
          0.0011440743819126865,
          0.0009488491212065567,
          0.00563647512017064,
          0.003906136632841103,
          0.001372565379021785,
          0.0025279102993361253,
          0.0023116511581017674,
          0.0037747404232871154,
          0.006024626196403451
         ],
         "xaxis": "x",
         "y": [
          "1",
          "10",
          "11",
          "12",
          "13",
          "14",
          "15",
          "16",
          "17",
          "18",
          "19",
          "2",
          "20",
          "21",
          "22",
          "23",
          "24",
          "25",
          "3",
          "4",
          "5",
          "6",
          "7",
          "8"
         ],
         "yaxis": "y"
        },
        {
         "alignmentgroup": "True",
         "bingroup": "y",
         "histfunc": "sum",
         "hovertemplate": "Taxon_grouped=Mollusca<br>sum of rel_occurrence=%{x}<br>Sample=%{y}<extra></extra>",
         "legendgroup": "Mollusca",
         "marker": {
          "color": "#89CE00",
          "pattern": {
           "shape": ""
          }
         },
         "name": "Mollusca",
         "offsetgroup": "Mollusca",
         "orientation": "h",
         "showlegend": true,
         "type": "histogram",
         "x": [
          0.0034846372671731717,
          0.001314167764651584,
          0.004397491445364532,
          0.0030784615906312685,
          0.0063292574570168,
          0.006423991979102489,
          0.0027709102030640804,
          0.0008322537056093458,
          0.0045177023843275075,
          0.007067070495061607,
          0.00095857217815226,
          0.003906386829746283,
          0.015286142160776481,
          0.002832878731943665
         ],
         "xaxis": "x",
         "y": [
          "1",
          "10",
          "13",
          "14",
          "15",
          "16",
          "2",
          "20",
          "21",
          "22",
          "25",
          "3",
          "7",
          "8"
         ],
         "yaxis": "y"
        },
        {
         "alignmentgroup": "True",
         "bingroup": "y",
         "histfunc": "sum",
         "hovertemplate": "Taxon_grouped=Sediment<br>sum of rel_occurrence=%{x}<br>Sample=%{y}<extra></extra>",
         "legendgroup": "Sediment",
         "marker": {
          "color": "#19d3f3",
          "pattern": {
           "shape": ""
          }
         },
         "name": "Sediment",
         "offsetgroup": "Sediment",
         "orientation": "h",
         "showlegend": true,
         "type": "histogram",
         "x": [
          0.0034843582685289047,
          0.0012285487788952802,
          0.0018495570630195559,
          0.0009995401697080923,
          0.008312730609192224,
          0.003919961505140635,
          0.0009145367662566134,
          0.042969254298796576,
          0.0007747980617773062,
          0.0005110298705414774
         ],
         "xaxis": "x",
         "y": [
          "1",
          "12",
          "14",
          "18",
          "2",
          "20",
          "25",
          "3",
          "4",
          "6"
         ],
         "yaxis": "y"
        },
        {
         "alignmentgroup": "True",
         "bingroup": "y",
         "histfunc": "sum",
         "hovertemplate": "Taxon_grouped=Unknown_6<br>sum of rel_occurrence=%{x}<br>Sample=%{y}<extra></extra>",
         "legendgroup": "Unknown_6",
         "marker": {
          "color": "#FF6692",
          "pattern": {
           "shape": ""
          }
         },
         "name": "Unknown_6",
         "offsetgroup": "Unknown_6",
         "orientation": "h",
         "showlegend": true,
         "type": "histogram",
         "x": [
          0.0034843582685289047,
          0.0008794898385791621,
          0.0016265935322840957,
          0.0013978223877630408,
          0.0012577482675104345,
          0.0011440743819126865,
          0.0009241253080337228,
          0.0012771735963340459,
          0.0005678468493152951,
          0.0007260874900827538
         ],
         "xaxis": "x",
         "y": [
          "1",
          "13",
          "14",
          "16",
          "20",
          "23",
          "25",
          "5",
          "6",
          "7"
         ],
         "yaxis": "y"
        },
        {
         "alignmentgroup": "True",
         "bingroup": "y",
         "histfunc": "sum",
         "hovertemplate": "Taxon_grouped=Bellerochea<br>sum of rel_occurrence=%{x}<br>Sample=%{y}<extra></extra>",
         "legendgroup": "Bellerochea",
         "marker": {
          "color": "#B6E880",
          "pattern": {
           "shape": ""
          }
         },
         "name": "Bellerochea",
         "offsetgroup": "Bellerochea",
         "orientation": "h",
         "showlegend": true,
         "type": "histogram",
         "x": [
          0.013331950940142745,
          0.0018642350367971336,
          0.0020250262611329313,
          0.0008794757566027237,
          0.025639643241364134,
          0.010126625476366294,
          0.0026158735596786566,
          0.017053769746413074,
          0.009181573740852366,
          0.031877177917986395,
          0.004917090181090952,
          0.014474087532239945,
          0.019429357566805732,
          0.0022882953108601185,
          0.01026033693095662,
          0.01953118353878578,
          0.003668360582425821,
          0.002113553322292771,
          0.015173960479743127,
          0.0030488923636316206
         ],
         "xaxis": "x",
         "y": [
          "10",
          "11",
          "12",
          "13",
          "14",
          "15",
          "16",
          "18",
          "19",
          "2",
          "20",
          "21",
          "22",
          "23",
          "25",
          "3",
          "5",
          "6",
          "7",
          "8"
         ],
         "yaxis": "y"
        },
        {
         "alignmentgroup": "True",
         "bingroup": "y",
         "histfunc": "sum",
         "hovertemplate": "Taxon_grouped=Flock<br>sum of rel_occurrence=%{x}<br>Sample=%{y}<extra></extra>",
         "legendgroup": "Flock",
         "marker": {
          "color": "#FF97FF",
          "pattern": {
           "shape": ""
          }
         },
         "name": "Flock",
         "offsetgroup": "Flock",
         "orientation": "h",
         "showlegend": true,
         "type": "histogram",
         "x": [
          0.006790458803686725,
          0.03416253048274103,
          0.0011440743819126865,
          0.0008554124686610888,
          0.005734570755331361,
          0.0008007107536646155
         ],
         "xaxis": "x",
         "y": [
          "11",
          "17",
          "23",
          "24",
          "6",
          "7"
         ],
         "yaxis": "y"
        },
        {
         "alignmentgroup": "True",
         "bingroup": "y",
         "histfunc": "sum",
         "hovertemplate": "Taxon_grouped=Porifera spicule<br>sum of rel_occurrence=%{x}<br>Sample=%{y}<extra></extra>",
         "legendgroup": "Porifera spicule",
         "marker": {
          "color": "#FECB52",
          "pattern": {
           "shape": ""
          }
         },
         "name": "Porifera spicule",
         "offsetgroup": "Porifera spicule",
         "orientation": "h",
         "showlegend": true,
         "type": "histogram",
         "x": [
          0.00049068537056672,
          0.0008795602552262328,
          0.006211147695179336,
          0.0013496013503353122,
          0.0011440743819126865,
          0.0008554124686610888,
          0.00095857217815226,
          0.003906386829746283,
          0.0006476470644238947
         ],
         "xaxis": "x",
         "y": [
          "11",
          "13",
          "17",
          "21",
          "23",
          "24",
          "25",
          "3",
          "7"
         ],
         "yaxis": "y"
        },
        {
         "alignmentgroup": "True",
         "bingroup": "y",
         "histfunc": "sum",
         "hovertemplate": "Taxon_grouped=Rotifera<br>sum of rel_occurrence=%{x}<br>Sample=%{y}<extra></extra>",
         "legendgroup": "Rotifera",
         "marker": {
          "color": "#EAD506",
          "pattern": {
           "shape": ""
          }
         },
         "name": "Rotifera",
         "offsetgroup": "Rotifera",
         "orientation": "h",
         "showlegend": true,
         "type": "histogram",
         "x": [
          0.0008795602552262328
         ],
         "xaxis": "x",
         "y": [
          "13"
         ],
         "yaxis": "y"
        },
        {
         "alignmentgroup": "True",
         "bingroup": "y",
         "histfunc": "sum",
         "hovertemplate": "Taxon_grouped=Appendicularia<br>sum of rel_occurrence=%{x}<br>Sample=%{y}<extra></extra>",
         "legendgroup": "Appendicularia",
         "marker": {
          "color": "#636efa",
          "pattern": {
           "shape": ""
          }
         },
         "name": "Appendicularia",
         "offsetgroup": "Appendicularia",
         "orientation": "h",
         "showlegend": true,
         "type": "histogram",
         "x": [
          0.0018495570630195559,
          0.0008322537056093458,
          0.003906386829746283,
          0.001022059741082957,
          0.00152315098289256,
          0.0007520305227183904
         ],
         "xaxis": "x",
         "y": [
          "14",
          "20",
          "3",
          "6",
          "7",
          "8"
         ],
         "yaxis": "y"
        },
        {
         "alignmentgroup": "True",
         "bingroup": "y",
         "histfunc": "sum",
         "hovertemplate": "Taxon_grouped=Cnidaria<br>sum of rel_occurrence=%{x}<br>Sample=%{y}<extra></extra>",
         "legendgroup": "Cnidaria",
         "marker": {
          "color": "#A42324",
          "pattern": {
           "shape": ""
          }
         },
         "name": "Cnidaria",
         "offsetgroup": "Cnidaria",
         "orientation": "h",
         "showlegend": true,
         "type": "histogram",
         "x": [
          0.0012658231180715683
         ],
         "xaxis": "x",
         "y": [
          "15"
         ],
         "yaxis": "y"
        },
        {
         "alignmentgroup": "True",
         "bingroup": "y",
         "histfunc": "sum",
         "hovertemplate": "Taxon_grouped=Echinodermata<br>sum of rel_occurrence=%{x}<br>Sample=%{y}<extra></extra>",
         "legendgroup": "Echinodermata",
         "marker": {
          "color": "#55EEFF",
          "pattern": {
           "shape": ""
          }
         },
         "name": "Echinodermata",
         "offsetgroup": "Echinodermata",
         "orientation": "h",
         "showlegend": true,
         "type": "histogram",
         "x": [
          0.0020469468564406085,
          0.0006476470644238947
         ],
         "xaxis": "x",
         "y": [
          "22",
          "7"
         ],
         "yaxis": "y"
        },
        {
         "alignmentgroup": "True",
         "bingroup": "y",
         "histfunc": "sum",
         "hovertemplate": "Taxon_grouped=Nassellaria<br>sum of rel_occurrence=%{x}<br>Sample=%{y}<extra></extra>",
         "legendgroup": "Nassellaria",
         "marker": {
          "color": "#06EA0D",
          "pattern": {
           "shape": ""
          }
         },
         "name": "Nassellaria",
         "offsetgroup": "Nassellaria",
         "orientation": "h",
         "showlegend": true,
         "type": "histogram",
         "x": [
          0.0018976982424131108
         ],
         "xaxis": "x",
         "y": [
          "24"
         ],
         "yaxis": "y"
        },
        {
         "alignmentgroup": "True",
         "bingroup": "y",
         "histfunc": "sum",
         "hovertemplate": "Taxon_grouped=Cerataulus granulata<br>sum of rel_occurrence=%{x}<br>Sample=%{y}<extra></extra>",
         "legendgroup": "Cerataulus granulata",
         "marker": {
          "color": "#EF553B",
          "pattern": {
           "shape": ""
          }
         },
         "name": "Cerataulus granulata",
         "offsetgroup": "Cerataulus granulata",
         "orientation": "h",
         "showlegend": true,
         "type": "histogram",
         "x": [
          0.0007520305227183904
         ],
         "xaxis": "x",
         "y": [
          "8"
         ],
         "yaxis": "y"
        }
       ],
       "layout": {
        "autosize": false,
        "barmode": "relative",
        "font": {
         "color": "black",
         "family": "Times New Roman, serif",
         "size": 8
        },
        "height": 264.56692913385825,
        "legend": {
         "title": {
          "text": "Taxon_grouped"
         },
         "tracegroupgap": 0
        },
        "margin": {
         "b": 25,
         "l": 0,
         "r": 25,
         "t": 25
        },
        "showlegend": false,
        "template": {
         "data": {
          "bar": [
           {
            "error_x": {
             "color": "#2a3f5f"
            },
            "error_y": {
             "color": "#2a3f5f"
            },
            "marker": {
             "line": {
              "color": "#E5ECF6",
              "width": 0.5
             },
             "pattern": {
              "fillmode": "overlay",
              "size": 10,
              "solidity": 0.2
             }
            },
            "type": "bar"
           }
          ],
          "barpolar": [
           {
            "marker": {
             "line": {
              "color": "#E5ECF6",
              "width": 0.5
             },
             "pattern": {
              "fillmode": "overlay",
              "size": 10,
              "solidity": 0.2
             }
            },
            "type": "barpolar"
           }
          ],
          "carpet": [
           {
            "aaxis": {
             "endlinecolor": "#2a3f5f",
             "gridcolor": "white",
             "linecolor": "white",
             "minorgridcolor": "white",
             "startlinecolor": "#2a3f5f"
            },
            "baxis": {
             "endlinecolor": "#2a3f5f",
             "gridcolor": "white",
             "linecolor": "white",
             "minorgridcolor": "white",
             "startlinecolor": "#2a3f5f"
            },
            "type": "carpet"
           }
          ],
          "choropleth": [
           {
            "colorbar": {
             "outlinewidth": 0,
             "ticks": ""
            },
            "type": "choropleth"
           }
          ],
          "contour": [
           {
            "colorbar": {
             "outlinewidth": 0,
             "ticks": ""
            },
            "colorscale": [
             [
              0,
              "#0d0887"
             ],
             [
              0.1111111111111111,
              "#46039f"
             ],
             [
              0.2222222222222222,
              "#7201a8"
             ],
             [
              0.3333333333333333,
              "#9c179e"
             ],
             [
              0.4444444444444444,
              "#bd3786"
             ],
             [
              0.5555555555555556,
              "#d8576b"
             ],
             [
              0.6666666666666666,
              "#ed7953"
             ],
             [
              0.7777777777777778,
              "#fb9f3a"
             ],
             [
              0.8888888888888888,
              "#fdca26"
             ],
             [
              1,
              "#f0f921"
             ]
            ],
            "type": "contour"
           }
          ],
          "contourcarpet": [
           {
            "colorbar": {
             "outlinewidth": 0,
             "ticks": ""
            },
            "type": "contourcarpet"
           }
          ],
          "heatmap": [
           {
            "colorbar": {
             "outlinewidth": 0,
             "ticks": ""
            },
            "colorscale": [
             [
              0,
              "#0d0887"
             ],
             [
              0.1111111111111111,
              "#46039f"
             ],
             [
              0.2222222222222222,
              "#7201a8"
             ],
             [
              0.3333333333333333,
              "#9c179e"
             ],
             [
              0.4444444444444444,
              "#bd3786"
             ],
             [
              0.5555555555555556,
              "#d8576b"
             ],
             [
              0.6666666666666666,
              "#ed7953"
             ],
             [
              0.7777777777777778,
              "#fb9f3a"
             ],
             [
              0.8888888888888888,
              "#fdca26"
             ],
             [
              1,
              "#f0f921"
             ]
            ],
            "type": "heatmap"
           }
          ],
          "heatmapgl": [
           {
            "colorbar": {
             "outlinewidth": 0,
             "ticks": ""
            },
            "colorscale": [
             [
              0,
              "#0d0887"
             ],
             [
              0.1111111111111111,
              "#46039f"
             ],
             [
              0.2222222222222222,
              "#7201a8"
             ],
             [
              0.3333333333333333,
              "#9c179e"
             ],
             [
              0.4444444444444444,
              "#bd3786"
             ],
             [
              0.5555555555555556,
              "#d8576b"
             ],
             [
              0.6666666666666666,
              "#ed7953"
             ],
             [
              0.7777777777777778,
              "#fb9f3a"
             ],
             [
              0.8888888888888888,
              "#fdca26"
             ],
             [
              1,
              "#f0f921"
             ]
            ],
            "type": "heatmapgl"
           }
          ],
          "histogram": [
           {
            "marker": {
             "pattern": {
              "fillmode": "overlay",
              "size": 10,
              "solidity": 0.2
             }
            },
            "type": "histogram"
           }
          ],
          "histogram2d": [
           {
            "colorbar": {
             "outlinewidth": 0,
             "ticks": ""
            },
            "colorscale": [
             [
              0,
              "#0d0887"
             ],
             [
              0.1111111111111111,
              "#46039f"
             ],
             [
              0.2222222222222222,
              "#7201a8"
             ],
             [
              0.3333333333333333,
              "#9c179e"
             ],
             [
              0.4444444444444444,
              "#bd3786"
             ],
             [
              0.5555555555555556,
              "#d8576b"
             ],
             [
              0.6666666666666666,
              "#ed7953"
             ],
             [
              0.7777777777777778,
              "#fb9f3a"
             ],
             [
              0.8888888888888888,
              "#fdca26"
             ],
             [
              1,
              "#f0f921"
             ]
            ],
            "type": "histogram2d"
           }
          ],
          "histogram2dcontour": [
           {
            "colorbar": {
             "outlinewidth": 0,
             "ticks": ""
            },
            "colorscale": [
             [
              0,
              "#0d0887"
             ],
             [
              0.1111111111111111,
              "#46039f"
             ],
             [
              0.2222222222222222,
              "#7201a8"
             ],
             [
              0.3333333333333333,
              "#9c179e"
             ],
             [
              0.4444444444444444,
              "#bd3786"
             ],
             [
              0.5555555555555556,
              "#d8576b"
             ],
             [
              0.6666666666666666,
              "#ed7953"
             ],
             [
              0.7777777777777778,
              "#fb9f3a"
             ],
             [
              0.8888888888888888,
              "#fdca26"
             ],
             [
              1,
              "#f0f921"
             ]
            ],
            "type": "histogram2dcontour"
           }
          ],
          "mesh3d": [
           {
            "colorbar": {
             "outlinewidth": 0,
             "ticks": ""
            },
            "type": "mesh3d"
           }
          ],
          "parcoords": [
           {
            "line": {
             "colorbar": {
              "outlinewidth": 0,
              "ticks": ""
             }
            },
            "type": "parcoords"
           }
          ],
          "pie": [
           {
            "automargin": true,
            "type": "pie"
           }
          ],
          "scatter": [
           {
            "fillpattern": {
             "fillmode": "overlay",
             "size": 10,
             "solidity": 0.2
            },
            "type": "scatter"
           }
          ],
          "scatter3d": [
           {
            "line": {
             "colorbar": {
              "outlinewidth": 0,
              "ticks": ""
             }
            },
            "marker": {
             "colorbar": {
              "outlinewidth": 0,
              "ticks": ""
             }
            },
            "type": "scatter3d"
           }
          ],
          "scattercarpet": [
           {
            "marker": {
             "colorbar": {
              "outlinewidth": 0,
              "ticks": ""
             }
            },
            "type": "scattercarpet"
           }
          ],
          "scattergeo": [
           {
            "marker": {
             "colorbar": {
              "outlinewidth": 0,
              "ticks": ""
             }
            },
            "type": "scattergeo"
           }
          ],
          "scattergl": [
           {
            "marker": {
             "colorbar": {
              "outlinewidth": 0,
              "ticks": ""
             }
            },
            "type": "scattergl"
           }
          ],
          "scattermapbox": [
           {
            "marker": {
             "colorbar": {
              "outlinewidth": 0,
              "ticks": ""
             }
            },
            "type": "scattermapbox"
           }
          ],
          "scatterpolar": [
           {
            "marker": {
             "colorbar": {
              "outlinewidth": 0,
              "ticks": ""
             }
            },
            "type": "scatterpolar"
           }
          ],
          "scatterpolargl": [
           {
            "marker": {
             "colorbar": {
              "outlinewidth": 0,
              "ticks": ""
             }
            },
            "type": "scatterpolargl"
           }
          ],
          "scatterternary": [
           {
            "marker": {
             "colorbar": {
              "outlinewidth": 0,
              "ticks": ""
             }
            },
            "type": "scatterternary"
           }
          ],
          "surface": [
           {
            "colorbar": {
             "outlinewidth": 0,
             "ticks": ""
            },
            "colorscale": [
             [
              0,
              "#0d0887"
             ],
             [
              0.1111111111111111,
              "#46039f"
             ],
             [
              0.2222222222222222,
              "#7201a8"
             ],
             [
              0.3333333333333333,
              "#9c179e"
             ],
             [
              0.4444444444444444,
              "#bd3786"
             ],
             [
              0.5555555555555556,
              "#d8576b"
             ],
             [
              0.6666666666666666,
              "#ed7953"
             ],
             [
              0.7777777777777778,
              "#fb9f3a"
             ],
             [
              0.8888888888888888,
              "#fdca26"
             ],
             [
              1,
              "#f0f921"
             ]
            ],
            "type": "surface"
           }
          ],
          "table": [
           {
            "cells": {
             "fill": {
              "color": "#EBF0F8"
             },
             "line": {
              "color": "white"
             }
            },
            "header": {
             "fill": {
              "color": "#C8D4E3"
             },
             "line": {
              "color": "white"
             }
            },
            "type": "table"
           }
          ]
         },
         "layout": {
          "annotationdefaults": {
           "arrowcolor": "#2a3f5f",
           "arrowhead": 0,
           "arrowwidth": 1
          },
          "autotypenumbers": "strict",
          "coloraxis": {
           "colorbar": {
            "outlinewidth": 0,
            "ticks": ""
           }
          },
          "colorscale": {
           "diverging": [
            [
             0,
             "#8e0152"
            ],
            [
             0.1,
             "#c51b7d"
            ],
            [
             0.2,
             "#de77ae"
            ],
            [
             0.3,
             "#f1b6da"
            ],
            [
             0.4,
             "#fde0ef"
            ],
            [
             0.5,
             "#f7f7f7"
            ],
            [
             0.6,
             "#e6f5d0"
            ],
            [
             0.7,
             "#b8e186"
            ],
            [
             0.8,
             "#7fbc41"
            ],
            [
             0.9,
             "#4d9221"
            ],
            [
             1,
             "#276419"
            ]
           ],
           "sequential": [
            [
             0,
             "#0d0887"
            ],
            [
             0.1111111111111111,
             "#46039f"
            ],
            [
             0.2222222222222222,
             "#7201a8"
            ],
            [
             0.3333333333333333,
             "#9c179e"
            ],
            [
             0.4444444444444444,
             "#bd3786"
            ],
            [
             0.5555555555555556,
             "#d8576b"
            ],
            [
             0.6666666666666666,
             "#ed7953"
            ],
            [
             0.7777777777777778,
             "#fb9f3a"
            ],
            [
             0.8888888888888888,
             "#fdca26"
            ],
            [
             1,
             "#f0f921"
            ]
           ],
           "sequentialminus": [
            [
             0,
             "#0d0887"
            ],
            [
             0.1111111111111111,
             "#46039f"
            ],
            [
             0.2222222222222222,
             "#7201a8"
            ],
            [
             0.3333333333333333,
             "#9c179e"
            ],
            [
             0.4444444444444444,
             "#bd3786"
            ],
            [
             0.5555555555555556,
             "#d8576b"
            ],
            [
             0.6666666666666666,
             "#ed7953"
            ],
            [
             0.7777777777777778,
             "#fb9f3a"
            ],
            [
             0.8888888888888888,
             "#fdca26"
            ],
            [
             1,
             "#f0f921"
            ]
           ]
          },
          "colorway": [
           "#636efa",
           "#EF553B",
           "#00cc96",
           "#ab63fa",
           "#FFA15A",
           "#19d3f3",
           "#FF6692",
           "#B6E880",
           "#FF97FF",
           "#FECB52"
          ],
          "font": {
           "color": "#2a3f5f"
          },
          "geo": {
           "bgcolor": "white",
           "lakecolor": "white",
           "landcolor": "#E5ECF6",
           "showlakes": true,
           "showland": true,
           "subunitcolor": "white"
          },
          "hoverlabel": {
           "align": "left"
          },
          "hovermode": "closest",
          "mapbox": {
           "style": "light"
          },
          "paper_bgcolor": "white",
          "plot_bgcolor": "#E5ECF6",
          "polar": {
           "angularaxis": {
            "gridcolor": "white",
            "linecolor": "white",
            "ticks": ""
           },
           "bgcolor": "#E5ECF6",
           "radialaxis": {
            "gridcolor": "white",
            "linecolor": "white",
            "ticks": ""
           }
          },
          "scene": {
           "xaxis": {
            "backgroundcolor": "#E5ECF6",
            "gridcolor": "white",
            "gridwidth": 2,
            "linecolor": "white",
            "showbackground": true,
            "ticks": "",
            "zerolinecolor": "white"
           },
           "yaxis": {
            "backgroundcolor": "#E5ECF6",
            "gridcolor": "white",
            "gridwidth": 2,
            "linecolor": "white",
            "showbackground": true,
            "ticks": "",
            "zerolinecolor": "white"
           },
           "zaxis": {
            "backgroundcolor": "#E5ECF6",
            "gridcolor": "white",
            "gridwidth": 2,
            "linecolor": "white",
            "showbackground": true,
            "ticks": "",
            "zerolinecolor": "white"
           }
          },
          "shapedefaults": {
           "line": {
            "color": "#2a3f5f"
           }
          },
          "ternary": {
           "aaxis": {
            "gridcolor": "white",
            "linecolor": "white",
            "ticks": ""
           },
           "baxis": {
            "gridcolor": "white",
            "linecolor": "white",
            "ticks": ""
           },
           "bgcolor": "#E5ECF6",
           "caxis": {
            "gridcolor": "white",
            "linecolor": "white",
            "ticks": ""
           }
          },
          "title": {
           "x": 0.05
          },
          "xaxis": {
           "automargin": true,
           "gridcolor": "white",
           "linecolor": "white",
           "ticks": "",
           "title": {
            "standoff": 15
           },
           "zerolinecolor": "white",
           "zerolinewidth": 2
          },
          "yaxis": {
           "automargin": true,
           "gridcolor": "white",
           "linecolor": "white",
           "ticks": "",
           "title": {
            "standoff": 15
           },
           "zerolinecolor": "white",
           "zerolinewidth": 2
          }
         }
        },
        "title": {
         "text": "Station 130"
        },
        "width": 188.97637795275588,
        "xaxis": {
         "anchor": "y",
         "domain": [
          0,
          1
         ],
         "title": {
          "text": "Relative Phytoplankton Abundance"
         }
        },
        "yaxis": {
         "anchor": "x",
         "categoryarray": [
          "25",
          "24",
          "23",
          "22",
          "21",
          "20",
          "19",
          "18",
          "17",
          "16",
          "15",
          "14",
          "13",
          "12",
          "11",
          "10",
          "9",
          "8",
          "7",
          "6",
          "5",
          "4",
          "3",
          "2",
          "1"
         ],
         "categoryorder": "array",
         "domain": [
          0,
          1
         ],
         "title": {
          "text": ""
         }
        }
       }
      }
     },
     "metadata": {},
     "output_type": "display_data"
    }
   ],
   "source": [
    "stations = ['51', '130']\n",
    "\n",
    "cm_to_px = 96 / 2.54  # Conversion factor from centimeters to pixels\n",
    "width_in_cm = 5\n",
    "height_in_cm = 7\n",
    "\n",
    "tax_colors = {}\n",
    "\n",
    "for station in stations:        \n",
    "    grouped_df = flowcam[flowcam['Station'] == station][['Comments', 'Taxon_grouped', 'density_cell_L_sample']]\n",
    "    grouped_df = grouped_df.groupby(['Comments', 'Taxon_grouped']).agg({'density_cell_L_sample':'sum'}).reset_index()\n",
    "    \n",
    "    grouped_df[\"rel_occurrence\"] = grouped_df.groupby(['Comments'])['density_cell_L_sample'].transform(lambda x: x / x.sum())\n",
    "    \n",
    "    # Split station into prefix and suffix and change to integer\n",
    "    grouped_df['Sample'] = [x.split('_')[1] for x in grouped_df['Comments']]\n",
    "    \n",
    "    fig = px.histogram(grouped_df.sort_values([\"Sample\", 'Taxon_grouped'], ascending=[True, True]), \n",
    "                x=\"rel_occurrence\", \n",
    "                y=\"Sample\",\n",
    "                color='Taxon_grouped',\n",
    "                category_orders={\n",
    "                    \"Sample\": ['1', '2', '3', '4', '5', '6', '7', '8', '9', '10',\n",
    "                               '11', '12', '13', '14', '15', '16', '17', '18', '19', '20',\n",
    "                               '21', '22', '23', '24', '25'],\n",
    "                    \"Taxon_grouped\": [\"Rare\", \"Bacillariophyta\", \"Dinophyceae\",\n",
    "                                      \"Prymnesiophyceae\"]\n",
    "                },\n",
    "                color_discrete_map={\n",
    "                    \"Rare\": \"#545454\",\n",
    "                    \"Bacillariophyta\": \"#E69F00\",\n",
    "                    \"Dinophyceae\": \"#56B4E9\",\n",
    "                    \"Prymnesiophyceae\": \"#009E73\",\n",
    "                    \"Ciliates\": \"#F0E442\",\n",
    "                    \"Arthropoda\": \"#0072B2\",\n",
    "                    \"Annelida\": \"#D55E00\",\n",
    "                    \"Craniata\": \"#CC79A7\",\n",
    "                    \"Urocordata\": \"#B5B5B5\",\n",
    "                    \"Echinodermata\": \"#55EEFF\",\n",
    "                    \"Cnidaria\": \"#A42324\",\n",
    "                    \"Mollusca\": \"#89CE00\",\n",
    "                    \"Detritus\": \"#808080\",\n",
    "                    \"Rotifera\": \"#EAD506\",\n",
    "                    \"Nassellaria\": \"#06EA0D\"\n",
    "                },                \n",
    "                orientation='h'\n",
    "            )\n",
    "\n",
    "    fig.update_layout(\n",
    "        font=dict(\n",
    "            family=\"Times New Roman, serif\",  # Set the font family to Times New Roman\n",
    "            size=8,  # Set the font size\n",
    "            color=\"black\"  # Set the font color\n",
    "        ),\n",
    "        autosize=False,\n",
    "        width=width_in_cm * cm_to_px,\n",
    "        height=height_in_cm * cm_to_px,\n",
    "        margin=dict( # Set the margins\n",
    "            l=0,  # Left margin\n",
    "            r=25,  # Right margin\n",
    "            b=25,  # Bottom margin\n",
    "            t=25  # Top margin\n",
    "        ),\n",
    "        showlegend=False,\n",
    "        xaxis_title_text='Relative Phytoplankton Abundance',\n",
    "        title_text='Station {}'.format(station),\n",
    "        yaxis_title_text=''\n",
    "    )\n",
    "\n",
    "    fig.show()\n",
    "\n",
    "    for trace in fig.data:\n",
    "        # If trace is not in the dictionary, add it\n",
    "        if trace.name not in tax_colors:\n",
    "            # If trace contains a color already in use, give an error\n",
    "            if trace.marker.color in tax_colors.values():\n",
    "                raise ValueError(f'Color for {trace.name} already in use, review color disctrete map')\n",
    "            tax_colors[trace.name] = trace.marker.color\n",
    "           \n",
    "    # Save figure as svg\n",
    "    fig.write_image(\"../figures/phytoplankton/flowcam_relative_occurrence_{}_validated.svg\".format(station), scale=2, width=width_in_cm * cm_to_px, height=height_in_cm * cm_to_px)\n",
    "    #fig.write_image(\"../figures/phytoplankton/flowcam_relative_occurrence_{}_validated.png\".format(station), scale=2,  width=width_in_cm * cm_to_px, height=height_in_cm * cm_to_px)"
   ]
  },
  {
   "cell_type": "code",
   "execution_count": 7,
   "metadata": {},
   "outputs": [
    {
     "data": {
      "application/vnd.plotly.v1+json": {
       "config": {
        "plotlyServerURL": "https://plot.ly"
       },
       "data": [
        {
         "alignmentgroup": "True",
         "bingroup": "y",
         "histfunc": "sum",
         "hovertemplate": "Taxon_grouped=Bacillariophyta<br>sum of density_cell_L_sample=%{x}<br>Sample=%{y}<extra></extra>",
         "legendgroup": "Bacillariophyta",
         "marker": {
          "color": "#E69F00",
          "pattern": {
           "shape": ""
          }
         },
         "name": "Bacillariophyta",
         "offsetgroup": "Bacillariophyta",
         "orientation": "h",
         "showlegend": true,
         "type": "histogram",
         "x": [
          450.61918565082146,
          26.02965064246198,
          28.729144374531096,
          175.80580241521548,
          20.47530746359967,
          266.84074677221275,
          696.3280223815112,
          441.2387196941748,
          559.6487490130892,
          512.8031081292045,
          482.11536307152716,
          443.43630985768743,
          518.5573692506989,
          294.79809506519445,
          275.24867352619833,
          6.351308784202139,
          599.3623801359661,
          670.6172378332528,
          534.8831982284817,
          17.545237174870554
         ],
         "xaxis": "x",
         "y": [
          "1",
          "10",
          "11",
          "12",
          "13",
          "15",
          "16",
          "17",
          "18",
          "19",
          "2",
          "20",
          "21",
          "3",
          "4",
          "5",
          "6",
          "7",
          "8",
          "9"
         ],
         "yaxis": "y"
        },
        {
         "alignmentgroup": "True",
         "bingroup": "y",
         "histfunc": "sum",
         "hovertemplate": "Taxon_grouped=Dinophyceae<br>sum of density_cell_L_sample=%{x}<br>Sample=%{y}<extra></extra>",
         "legendgroup": "Dinophyceae",
         "marker": {
          "color": "#56B4E9",
          "pattern": {
           "shape": ""
          }
         },
         "name": "Dinophyceae",
         "offsetgroup": "Dinophyceae",
         "orientation": "h",
         "showlegend": true,
         "type": "histogram",
         "x": [
          31.13995349630116,
          1.122684463294455,
          1.227380150775814,
          3.074158059194647,
          0.355716083839545,
          9.49713902962155,
          17.7524039713711,
          50.8486109876502,
          16.50753018317766,
          7.09307421403438,
          10.877965590981297,
          48.890250154193915,
          1.17416677853395,
          27.60673043413798,
          104.78879560013573,
          27.81796482132205,
          1.0713594679966867
         ],
         "xaxis": "x",
         "y": [
          "1",
          "10",
          "11",
          "12",
          "13",
          "15",
          "17",
          "19",
          "2",
          "21",
          "3",
          "4",
          "5",
          "6",
          "7",
          "8",
          "9"
         ],
         "yaxis": "y"
        },
        {
         "alignmentgroup": "True",
         "bingroup": "y",
         "histfunc": "sum",
         "hovertemplate": "Taxon_grouped=Prymnesiophyceae<br>sum of density_cell_L_sample=%{x}<br>Sample=%{y}<extra></extra>",
         "legendgroup": "Prymnesiophyceae",
         "marker": {
          "color": "#009E73",
          "pattern": {
           "shape": ""
          }
         },
         "name": "Prymnesiophyceae",
         "offsetgroup": "Prymnesiophyceae",
         "orientation": "h",
         "showlegend": true,
         "type": "histogram",
         "x": [
          2.6195970810204,
          2.88915772647451,
          2.30561700606025,
          78.8378912910046,
          328.37914832573,
          67.9978010130285,
          114.033031568144,
          37.6860046697191,
          34.3040914775773,
          33.0620828380726
         ],
         "xaxis": "x",
         "y": [
          "10",
          "11",
          "12",
          "16",
          "17",
          "18",
          "19",
          "2",
          "21",
          "6"
         ],
         "yaxis": "y"
        },
        {
         "alignmentgroup": "True",
         "bingroup": "y",
         "histfunc": "sum",
         "hovertemplate": "Taxon_grouped=Arthropoda<br>sum of density_cell_L_sample=%{x}<br>Sample=%{y}<extra></extra>",
         "legendgroup": "Arthropoda",
         "marker": {
          "color": "#0072B2",
          "pattern": {
           "shape": ""
          }
         },
         "name": "Arthropoda",
         "offsetgroup": "Arthropoda",
         "orientation": "h",
         "showlegend": true,
         "type": "histogram",
         "x": [
          42.1316450302946,
          2.490985739482036,
          4.252469210757171,
          5.187756705825668,
          3.22093208207412,
          16.034874513575502,
          32.2291853178156,
          73.22639108837427,
          48.8520510978324,
          78.78280277166382,
          14.97612019982575,
          13.8213676577052,
          44.10683301422784,
          28.92153308979969,
          0.213485334891776,
          28.84038859131574,
          39.184538184392274,
          43.0371208025836,
          2.22950481253064
         ],
         "xaxis": "x",
         "y": [
          "1",
          "10",
          "11",
          "12",
          "13",
          "15",
          "17",
          "18",
          "19",
          "2",
          "20",
          "21",
          "3",
          "4",
          "5",
          "6",
          "7",
          "8",
          "9"
         ],
         "yaxis": "y"
        },
        {
         "alignmentgroup": "True",
         "bingroup": "y",
         "histfunc": "sum",
         "hovertemplate": "Taxon_grouped=Bellerochea<br>sum of density_cell_L_sample=%{x}<br>Sample=%{y}<extra></extra>",
         "legendgroup": "Bellerochea",
         "marker": {
          "color": "#19d3f3",
          "pattern": {
           "shape": ""
          }
         },
         "name": "Bellerochea",
         "offsetgroup": "Bellerochea",
         "orientation": "h",
         "showlegend": true,
         "type": "histogram",
         "x": [
          2.74784223926724,
          0.0724518359953894,
          1.58966716343766,
          5.80407114132913,
          5.23060007792527,
          1.67252243096489,
          15.9581442638597,
          1.20663650075415,
          8.57602286939432,
          1.21088822883183,
          4.26555391347185,
          6.19914053213861,
          2.64424406704652,
          0.0576368876080692
         ],
         "xaxis": "x",
         "y": [
          "1",
          "11",
          "15",
          "16",
          "18",
          "19",
          "2",
          "20",
          "21",
          "3",
          "4",
          "6",
          "8",
          "9"
         ],
         "yaxis": "y"
        },
        {
         "alignmentgroup": "True",
         "bingroup": "y",
         "histfunc": "sum",
         "hovertemplate": "Taxon_grouped=Cerataulina pelagica<br>sum of density_cell_L_sample=%{x}<br>Sample=%{y}<extra></extra>",
         "legendgroup": "Cerataulina pelagica",
         "marker": {
          "color": "#FF6692",
          "pattern": {
           "shape": ""
          }
         },
         "name": "Cerataulina pelagica",
         "offsetgroup": "Cerataulina pelagica",
         "orientation": "h",
         "showlegend": true,
         "type": "histogram",
         "x": [
          0.915947413089081
         ],
         "xaxis": "x",
         "y": [
          "1"
         ],
         "yaxis": "y"
        },
        {
         "alignmentgroup": "True",
         "bingroup": "y",
         "histfunc": "sum",
         "hovertemplate": "Taxon_grouped=Ciliates<br>sum of density_cell_L_sample=%{x}<br>Sample=%{y}<extra></extra>",
         "legendgroup": "Ciliates",
         "marker": {
          "color": "#F0E442",
          "pattern": {
           "shape": ""
          }
         },
         "name": "Ciliates",
         "offsetgroup": "Ciliates",
         "orientation": "h",
         "showlegend": true,
         "type": "histogram",
         "x": [
          3.66362832106386,
          0.124742718143828,
          0.344201764816321,
          0.192147569333248,
          2.66758201343598,
          15.6918002337758,
          1.67252243096489,
          4.55107205210193,
          4.98726210100405,
          3.6695334897055,
          1.19121002281551,
          3.24144455681336,
          0.0533734701829109,
          15.1069518716578,
          5.802961829642079,
          5.49291121421492,
          0.115273775216138
         ],
         "xaxis": "x",
         "y": [
          "1",
          "10",
          "11",
          "12",
          "15",
          "18",
          "19",
          "2",
          "20",
          "21",
          "3",
          "4",
          "5",
          "6",
          "7",
          "8",
          "9"
         ],
         "yaxis": "y"
        },
        {
         "alignmentgroup": "True",
         "bingroup": "y",
         "histfunc": "sum",
         "hovertemplate": "Taxon_grouped=Flock<br>sum of density_cell_L_sample=%{x}<br>Sample=%{y}<extra></extra>",
         "legendgroup": "Flock",
         "marker": {
          "color": "#B6E880",
          "pattern": {
           "shape": ""
          }
         },
         "name": "Flock",
         "offsetgroup": "Flock",
         "orientation": "h",
         "showlegend": true,
         "type": "histogram",
         "x": [
          13.7384045517138,
          11.1372110572453,
          4.4471022327373,
          4.31757219594213,
          360.982786613798,
          32.4996503363129,
          203.985363107987,
          97.6994575170174,
          21.1356576131886,
          75.372153220199,
          86.1333548970976,
          18.0834170528567,
          56.9813518742754,
          0.266855386796209,
          104.263132853305,
          153.604271445165,
          157.84481378834,
          2.06049587366095
         ],
         "xaxis": "x",
         "y": [
          "1",
          "10",
          "11",
          "13",
          "15",
          "17",
          "18",
          "19",
          "2",
          "20",
          "21",
          "3",
          "4",
          "5",
          "6",
          "7",
          "8",
          "9"
         ],
         "yaxis": "y"
        },
        {
         "alignmentgroup": "True",
         "bingroup": "y",
         "histfunc": "sum",
         "hovertemplate": "Taxon_grouped=Mollusca<br>sum of density_cell_L_sample=%{x}<br>Sample=%{y}<extra></extra>",
         "legendgroup": "Mollusca",
         "marker": {
          "color": "#89CE00",
          "pattern": {
           "shape": ""
          }
         },
         "name": "Mollusca",
         "offsetgroup": "Mollusca",
         "orientation": "h",
         "showlegend": true,
         "type": "histogram",
         "x": [
          2.747680915078531,
          1.050689838925982,
          0.384882365150424,
          33.19324330214,
          52.774989439658874,
          4.96318389411874,
          10.46053022100122,
          1.67252243096489,
          1.46831725779094,
          6.181957414231579,
          8.52649835445041,
          4.16925892153861,
          2.13277695673592,
          0.053376888874655,
          10.73676454900053,
          7.62252546871494,
          2.8568867106954,
          0.115273775216138
         ],
         "xaxis": "x",
         "y": [
          "1",
          "10",
          "11",
          "15",
          "16",
          "17",
          "18",
          "19",
          "2",
          "20",
          "21",
          "3",
          "4",
          "5",
          "6",
          "7",
          "8",
          "9"
         ],
         "yaxis": "y"
        },
        {
         "alignmentgroup": "True",
         "bingroup": "y",
         "histfunc": "sum",
         "hovertemplate": "Taxon_grouped=Sediment<br>sum of density_cell_L_sample=%{x}<br>Sample=%{y}<extra></extra>",
         "legendgroup": "Sediment",
         "marker": {
          "color": "#FF97FF",
          "pattern": {
           "shape": ""
          }
         },
         "name": "Sediment",
         "offsetgroup": "Sediment",
         "orientation": "h",
         "showlegend": true,
         "type": "histogram",
         "x": [
          8.24320405363811,
          2.99382523545188,
          0.841321132140368,
          0.928609167613955,
          1.23117656792984,
          4.01442350391673,
          0.0669157419282886
         ],
         "xaxis": "x",
         "y": [
          "1",
          "10",
          "11",
          "2",
          "3",
          "7",
          "9"
         ],
         "yaxis": "y"
        },
        {
         "alignmentgroup": "True",
         "bingroup": "y",
         "histfunc": "sum",
         "hovertemplate": "Taxon_grouped=Unknown_6<br>sum of density_cell_L_sample=%{x}<br>Sample=%{y}<extra></extra>",
         "legendgroup": "Unknown_6",
         "marker": {
          "color": "#FECB52",
          "pattern": {
           "shape": ""
          }
         },
         "name": "Unknown_6",
         "offsetgroup": "Unknown_6",
         "orientation": "h",
         "showlegend": true,
         "type": "histogram",
         "x": [
          3.66378965235632,
          0.474116217737873,
          0.359702427991389,
          0.192141416082237,
          3.78063659248506,
          11.6081422826583,
          131.861071744959,
          52.3053307671698,
          46.1136896708008,
          6.5004425881917,
          3.61990950226244,
          38.2054679328096,
          9.01206453801056,
          10.7479983800118,
          0.160114428444862,
          7.28063463939113,
          28.5887448613347,
          27.9044420259739,
          0.658924754604985
         ],
         "xaxis": "x",
         "y": [
          "1",
          "10",
          "11",
          "12",
          "15",
          "16",
          "17",
          "18",
          "19",
          "2",
          "20",
          "21",
          "3",
          "4",
          "5",
          "6",
          "7",
          "8",
          "9"
         ],
         "yaxis": "y"
        },
        {
         "alignmentgroup": "True",
         "bingroup": "y",
         "histfunc": "sum",
         "hovertemplate": "Taxon_grouped=Cerataulus granulata<br>sum of density_cell_L_sample=%{x}<br>Sample=%{y}<extra></extra>",
         "legendgroup": "Cerataulus granulata",
         "marker": {
          "color": "#636efa",
          "pattern": {
           "shape": ""
          }
         },
         "name": "Cerataulus granulata",
         "offsetgroup": "Cerataulus granulata",
         "orientation": "h",
         "showlegend": true,
         "type": "histogram",
         "x": [
          0.0724518359953894,
          4.38555273627165,
          5.96121015364809
         ],
         "xaxis": "x",
         "y": [
          "11",
          "16",
          "17"
         ],
         "yaxis": "y"
        },
        {
         "alignmentgroup": "True",
         "bingroup": "y",
         "histfunc": "sum",
         "hovertemplate": "Taxon_grouped=Porifera spicule<br>sum of density_cell_L_sample=%{x}<br>Sample=%{y}<extra></extra>",
         "legendgroup": "Porifera spicule",
         "marker": {
          "color": "#EF553B",
          "pattern": {
           "shape": ""
          }
         },
         "name": "Porifera spicule",
         "offsetgroup": "Porifera spicule",
         "orientation": "h",
         "showlegend": true,
         "type": "histogram",
         "x": [
          0.0573962953300287,
          0.192141416082237,
          3.944493211064,
          0.615588283964918,
          1.4284433553477,
          0.190523233249832
         ],
         "xaxis": "x",
         "y": [
          "11",
          "12",
          "21",
          "3",
          "8",
          "9"
         ],
         "yaxis": "y"
        },
        {
         "alignmentgroup": "True",
         "bingroup": "y",
         "histfunc": "sum",
         "hovertemplate": "Taxon_grouped=Radiozoa incertae<br>sum of density_cell_L_sample=%{x}<br>Sample=%{y}<extra></extra>",
         "legendgroup": "Radiozoa incertae",
         "marker": {
          "color": "#00cc96",
          "pattern": {
           "shape": ""
          }
         },
         "name": "Radiozoa incertae",
         "offsetgroup": "Radiozoa incertae",
         "orientation": "h",
         "showlegend": true,
         "type": "histogram",
         "x": [
          0.0583260425780111
         ],
         "xaxis": "x",
         "y": [
          "11"
         ],
         "yaxis": "y"
        },
        {
         "alignmentgroup": "True",
         "bingroup": "y",
         "histfunc": "sum",
         "hovertemplate": "Taxon_grouped=Appendicularia<br>sum of density_cell_L_sample=%{x}<br>Sample=%{y}<extra></extra>",
         "legendgroup": "Appendicularia",
         "marker": {
          "color": "#ab63fa",
          "pattern": {
           "shape": ""
          }
         },
         "name": "Appendicularia",
         "offsetgroup": "Appendicularia",
         "orientation": "h",
         "showlegend": true,
         "type": "histogram",
         "x": [
          1.02623212924576
         ],
         "xaxis": "x",
         "y": [
          "4"
         ],
         "yaxis": "y"
        }
       ],
       "layout": {
        "autosize": false,
        "barmode": "relative",
        "font": {
         "color": "black",
         "family": "Times New Roman, serif",
         "size": 8
        },
        "height": 264.56692913385825,
        "legend": {
         "title": {
          "text": "Taxon_grouped"
         },
         "tracegroupgap": 0
        },
        "margin": {
         "b": 25,
         "l": 0,
         "r": 25,
         "t": 25
        },
        "showlegend": false,
        "template": {
         "data": {
          "bar": [
           {
            "error_x": {
             "color": "#2a3f5f"
            },
            "error_y": {
             "color": "#2a3f5f"
            },
            "marker": {
             "line": {
              "color": "#E5ECF6",
              "width": 0.5
             },
             "pattern": {
              "fillmode": "overlay",
              "size": 10,
              "solidity": 0.2
             }
            },
            "type": "bar"
           }
          ],
          "barpolar": [
           {
            "marker": {
             "line": {
              "color": "#E5ECF6",
              "width": 0.5
             },
             "pattern": {
              "fillmode": "overlay",
              "size": 10,
              "solidity": 0.2
             }
            },
            "type": "barpolar"
           }
          ],
          "carpet": [
           {
            "aaxis": {
             "endlinecolor": "#2a3f5f",
             "gridcolor": "white",
             "linecolor": "white",
             "minorgridcolor": "white",
             "startlinecolor": "#2a3f5f"
            },
            "baxis": {
             "endlinecolor": "#2a3f5f",
             "gridcolor": "white",
             "linecolor": "white",
             "minorgridcolor": "white",
             "startlinecolor": "#2a3f5f"
            },
            "type": "carpet"
           }
          ],
          "choropleth": [
           {
            "colorbar": {
             "outlinewidth": 0,
             "ticks": ""
            },
            "type": "choropleth"
           }
          ],
          "contour": [
           {
            "colorbar": {
             "outlinewidth": 0,
             "ticks": ""
            },
            "colorscale": [
             [
              0,
              "#0d0887"
             ],
             [
              0.1111111111111111,
              "#46039f"
             ],
             [
              0.2222222222222222,
              "#7201a8"
             ],
             [
              0.3333333333333333,
              "#9c179e"
             ],
             [
              0.4444444444444444,
              "#bd3786"
             ],
             [
              0.5555555555555556,
              "#d8576b"
             ],
             [
              0.6666666666666666,
              "#ed7953"
             ],
             [
              0.7777777777777778,
              "#fb9f3a"
             ],
             [
              0.8888888888888888,
              "#fdca26"
             ],
             [
              1,
              "#f0f921"
             ]
            ],
            "type": "contour"
           }
          ],
          "contourcarpet": [
           {
            "colorbar": {
             "outlinewidth": 0,
             "ticks": ""
            },
            "type": "contourcarpet"
           }
          ],
          "heatmap": [
           {
            "colorbar": {
             "outlinewidth": 0,
             "ticks": ""
            },
            "colorscale": [
             [
              0,
              "#0d0887"
             ],
             [
              0.1111111111111111,
              "#46039f"
             ],
             [
              0.2222222222222222,
              "#7201a8"
             ],
             [
              0.3333333333333333,
              "#9c179e"
             ],
             [
              0.4444444444444444,
              "#bd3786"
             ],
             [
              0.5555555555555556,
              "#d8576b"
             ],
             [
              0.6666666666666666,
              "#ed7953"
             ],
             [
              0.7777777777777778,
              "#fb9f3a"
             ],
             [
              0.8888888888888888,
              "#fdca26"
             ],
             [
              1,
              "#f0f921"
             ]
            ],
            "type": "heatmap"
           }
          ],
          "heatmapgl": [
           {
            "colorbar": {
             "outlinewidth": 0,
             "ticks": ""
            },
            "colorscale": [
             [
              0,
              "#0d0887"
             ],
             [
              0.1111111111111111,
              "#46039f"
             ],
             [
              0.2222222222222222,
              "#7201a8"
             ],
             [
              0.3333333333333333,
              "#9c179e"
             ],
             [
              0.4444444444444444,
              "#bd3786"
             ],
             [
              0.5555555555555556,
              "#d8576b"
             ],
             [
              0.6666666666666666,
              "#ed7953"
             ],
             [
              0.7777777777777778,
              "#fb9f3a"
             ],
             [
              0.8888888888888888,
              "#fdca26"
             ],
             [
              1,
              "#f0f921"
             ]
            ],
            "type": "heatmapgl"
           }
          ],
          "histogram": [
           {
            "marker": {
             "pattern": {
              "fillmode": "overlay",
              "size": 10,
              "solidity": 0.2
             }
            },
            "type": "histogram"
           }
          ],
          "histogram2d": [
           {
            "colorbar": {
             "outlinewidth": 0,
             "ticks": ""
            },
            "colorscale": [
             [
              0,
              "#0d0887"
             ],
             [
              0.1111111111111111,
              "#46039f"
             ],
             [
              0.2222222222222222,
              "#7201a8"
             ],
             [
              0.3333333333333333,
              "#9c179e"
             ],
             [
              0.4444444444444444,
              "#bd3786"
             ],
             [
              0.5555555555555556,
              "#d8576b"
             ],
             [
              0.6666666666666666,
              "#ed7953"
             ],
             [
              0.7777777777777778,
              "#fb9f3a"
             ],
             [
              0.8888888888888888,
              "#fdca26"
             ],
             [
              1,
              "#f0f921"
             ]
            ],
            "type": "histogram2d"
           }
          ],
          "histogram2dcontour": [
           {
            "colorbar": {
             "outlinewidth": 0,
             "ticks": ""
            },
            "colorscale": [
             [
              0,
              "#0d0887"
             ],
             [
              0.1111111111111111,
              "#46039f"
             ],
             [
              0.2222222222222222,
              "#7201a8"
             ],
             [
              0.3333333333333333,
              "#9c179e"
             ],
             [
              0.4444444444444444,
              "#bd3786"
             ],
             [
              0.5555555555555556,
              "#d8576b"
             ],
             [
              0.6666666666666666,
              "#ed7953"
             ],
             [
              0.7777777777777778,
              "#fb9f3a"
             ],
             [
              0.8888888888888888,
              "#fdca26"
             ],
             [
              1,
              "#f0f921"
             ]
            ],
            "type": "histogram2dcontour"
           }
          ],
          "mesh3d": [
           {
            "colorbar": {
             "outlinewidth": 0,
             "ticks": ""
            },
            "type": "mesh3d"
           }
          ],
          "parcoords": [
           {
            "line": {
             "colorbar": {
              "outlinewidth": 0,
              "ticks": ""
             }
            },
            "type": "parcoords"
           }
          ],
          "pie": [
           {
            "automargin": true,
            "type": "pie"
           }
          ],
          "scatter": [
           {
            "fillpattern": {
             "fillmode": "overlay",
             "size": 10,
             "solidity": 0.2
            },
            "type": "scatter"
           }
          ],
          "scatter3d": [
           {
            "line": {
             "colorbar": {
              "outlinewidth": 0,
              "ticks": ""
             }
            },
            "marker": {
             "colorbar": {
              "outlinewidth": 0,
              "ticks": ""
             }
            },
            "type": "scatter3d"
           }
          ],
          "scattercarpet": [
           {
            "marker": {
             "colorbar": {
              "outlinewidth": 0,
              "ticks": ""
             }
            },
            "type": "scattercarpet"
           }
          ],
          "scattergeo": [
           {
            "marker": {
             "colorbar": {
              "outlinewidth": 0,
              "ticks": ""
             }
            },
            "type": "scattergeo"
           }
          ],
          "scattergl": [
           {
            "marker": {
             "colorbar": {
              "outlinewidth": 0,
              "ticks": ""
             }
            },
            "type": "scattergl"
           }
          ],
          "scattermapbox": [
           {
            "marker": {
             "colorbar": {
              "outlinewidth": 0,
              "ticks": ""
             }
            },
            "type": "scattermapbox"
           }
          ],
          "scatterpolar": [
           {
            "marker": {
             "colorbar": {
              "outlinewidth": 0,
              "ticks": ""
             }
            },
            "type": "scatterpolar"
           }
          ],
          "scatterpolargl": [
           {
            "marker": {
             "colorbar": {
              "outlinewidth": 0,
              "ticks": ""
             }
            },
            "type": "scatterpolargl"
           }
          ],
          "scatterternary": [
           {
            "marker": {
             "colorbar": {
              "outlinewidth": 0,
              "ticks": ""
             }
            },
            "type": "scatterternary"
           }
          ],
          "surface": [
           {
            "colorbar": {
             "outlinewidth": 0,
             "ticks": ""
            },
            "colorscale": [
             [
              0,
              "#0d0887"
             ],
             [
              0.1111111111111111,
              "#46039f"
             ],
             [
              0.2222222222222222,
              "#7201a8"
             ],
             [
              0.3333333333333333,
              "#9c179e"
             ],
             [
              0.4444444444444444,
              "#bd3786"
             ],
             [
              0.5555555555555556,
              "#d8576b"
             ],
             [
              0.6666666666666666,
              "#ed7953"
             ],
             [
              0.7777777777777778,
              "#fb9f3a"
             ],
             [
              0.8888888888888888,
              "#fdca26"
             ],
             [
              1,
              "#f0f921"
             ]
            ],
            "type": "surface"
           }
          ],
          "table": [
           {
            "cells": {
             "fill": {
              "color": "#EBF0F8"
             },
             "line": {
              "color": "white"
             }
            },
            "header": {
             "fill": {
              "color": "#C8D4E3"
             },
             "line": {
              "color": "white"
             }
            },
            "type": "table"
           }
          ]
         },
         "layout": {
          "annotationdefaults": {
           "arrowcolor": "#2a3f5f",
           "arrowhead": 0,
           "arrowwidth": 1
          },
          "autotypenumbers": "strict",
          "coloraxis": {
           "colorbar": {
            "outlinewidth": 0,
            "ticks": ""
           }
          },
          "colorscale": {
           "diverging": [
            [
             0,
             "#8e0152"
            ],
            [
             0.1,
             "#c51b7d"
            ],
            [
             0.2,
             "#de77ae"
            ],
            [
             0.3,
             "#f1b6da"
            ],
            [
             0.4,
             "#fde0ef"
            ],
            [
             0.5,
             "#f7f7f7"
            ],
            [
             0.6,
             "#e6f5d0"
            ],
            [
             0.7,
             "#b8e186"
            ],
            [
             0.8,
             "#7fbc41"
            ],
            [
             0.9,
             "#4d9221"
            ],
            [
             1,
             "#276419"
            ]
           ],
           "sequential": [
            [
             0,
             "#0d0887"
            ],
            [
             0.1111111111111111,
             "#46039f"
            ],
            [
             0.2222222222222222,
             "#7201a8"
            ],
            [
             0.3333333333333333,
             "#9c179e"
            ],
            [
             0.4444444444444444,
             "#bd3786"
            ],
            [
             0.5555555555555556,
             "#d8576b"
            ],
            [
             0.6666666666666666,
             "#ed7953"
            ],
            [
             0.7777777777777778,
             "#fb9f3a"
            ],
            [
             0.8888888888888888,
             "#fdca26"
            ],
            [
             1,
             "#f0f921"
            ]
           ],
           "sequentialminus": [
            [
             0,
             "#0d0887"
            ],
            [
             0.1111111111111111,
             "#46039f"
            ],
            [
             0.2222222222222222,
             "#7201a8"
            ],
            [
             0.3333333333333333,
             "#9c179e"
            ],
            [
             0.4444444444444444,
             "#bd3786"
            ],
            [
             0.5555555555555556,
             "#d8576b"
            ],
            [
             0.6666666666666666,
             "#ed7953"
            ],
            [
             0.7777777777777778,
             "#fb9f3a"
            ],
            [
             0.8888888888888888,
             "#fdca26"
            ],
            [
             1,
             "#f0f921"
            ]
           ]
          },
          "colorway": [
           "#636efa",
           "#EF553B",
           "#00cc96",
           "#ab63fa",
           "#FFA15A",
           "#19d3f3",
           "#FF6692",
           "#B6E880",
           "#FF97FF",
           "#FECB52"
          ],
          "font": {
           "color": "#2a3f5f"
          },
          "geo": {
           "bgcolor": "white",
           "lakecolor": "white",
           "landcolor": "#E5ECF6",
           "showlakes": true,
           "showland": true,
           "subunitcolor": "white"
          },
          "hoverlabel": {
           "align": "left"
          },
          "hovermode": "closest",
          "mapbox": {
           "style": "light"
          },
          "paper_bgcolor": "white",
          "plot_bgcolor": "#E5ECF6",
          "polar": {
           "angularaxis": {
            "gridcolor": "white",
            "linecolor": "white",
            "ticks": ""
           },
           "bgcolor": "#E5ECF6",
           "radialaxis": {
            "gridcolor": "white",
            "linecolor": "white",
            "ticks": ""
           }
          },
          "scene": {
           "xaxis": {
            "backgroundcolor": "#E5ECF6",
            "gridcolor": "white",
            "gridwidth": 2,
            "linecolor": "white",
            "showbackground": true,
            "ticks": "",
            "zerolinecolor": "white"
           },
           "yaxis": {
            "backgroundcolor": "#E5ECF6",
            "gridcolor": "white",
            "gridwidth": 2,
            "linecolor": "white",
            "showbackground": true,
            "ticks": "",
            "zerolinecolor": "white"
           },
           "zaxis": {
            "backgroundcolor": "#E5ECF6",
            "gridcolor": "white",
            "gridwidth": 2,
            "linecolor": "white",
            "showbackground": true,
            "ticks": "",
            "zerolinecolor": "white"
           }
          },
          "shapedefaults": {
           "line": {
            "color": "#2a3f5f"
           }
          },
          "ternary": {
           "aaxis": {
            "gridcolor": "white",
            "linecolor": "white",
            "ticks": ""
           },
           "baxis": {
            "gridcolor": "white",
            "linecolor": "white",
            "ticks": ""
           },
           "bgcolor": "#E5ECF6",
           "caxis": {
            "gridcolor": "white",
            "linecolor": "white",
            "ticks": ""
           }
          },
          "title": {
           "x": 0.05
          },
          "xaxis": {
           "automargin": true,
           "gridcolor": "white",
           "linecolor": "white",
           "ticks": "",
           "title": {
            "standoff": 15
           },
           "zerolinecolor": "white",
           "zerolinewidth": 2
          },
          "yaxis": {
           "automargin": true,
           "gridcolor": "white",
           "linecolor": "white",
           "ticks": "",
           "title": {
            "standoff": 15
           },
           "zerolinecolor": "white",
           "zerolinewidth": 2
          }
         }
        },
        "title": {
         "text": "Station 51"
        },
        "width": 188.97637795275588,
        "xaxis": {
         "anchor": "y",
         "domain": [
          0,
          1
         ],
         "title": {
          "text": "Absolute Phytoplankton Abundance"
         }
        },
        "yaxis": {
         "anchor": "x",
         "categoryarray": [
          "25",
          "24",
          "23",
          "22",
          "21",
          "20",
          "19",
          "18",
          "17",
          "16",
          "15",
          "14",
          "13",
          "12",
          "11",
          "10",
          "9",
          "8",
          "7",
          "6",
          "5",
          "4",
          "3",
          "2",
          "1"
         ],
         "categoryorder": "array",
         "domain": [
          0,
          1
         ],
         "title": {
          "text": ""
         }
        }
       }
      }
     },
     "metadata": {},
     "output_type": "display_data"
    },
    {
     "data": {
      "application/vnd.plotly.v1+json": {
       "config": {
        "plotlyServerURL": "https://plot.ly"
       },
       "data": [
        {
         "alignmentgroup": "True",
         "bingroup": "y",
         "histfunc": "sum",
         "hovertemplate": "Taxon_grouped=Bacillariophyta<br>sum of density_cell_L_sample=%{x}<br>Sample=%{y}<extra></extra>",
         "legendgroup": "Bacillariophyta",
         "marker": {
          "color": "#E69F00",
          "pattern": {
           "shape": ""
          }
         },
         "name": "Bacillariophyta",
         "offsetgroup": "Bacillariophyta",
         "orientation": "h",
         "showlegend": true,
         "type": "histogram",
         "x": [
          1578.1601162266209,
          1896.537887740974,
          2396.083019123112,
          5305.04915332141,
          3313.6089697355947,
          2471.9505229079905,
          1874.6729505950782,
          1542.517043878153,
          1893.4969355404578,
          2891.583914243113,
          5729.459363449388,
          27254.899418679546,
          4170.1978354211,
          2863.225738160718,
          4377.555215163772,
          3935.042419985847,
          2939.263746375969,
          5104.618758004864,
          20499.18271752367,
          2974.6802777530343,
          4970.846894307819,
          6092.2989135279895,
          3702.2140866422324,
          4334.291285946249
         ],
         "xaxis": "x",
         "y": [
          "1",
          "10",
          "11",
          "12",
          "13",
          "14",
          "15",
          "16",
          "17",
          "18",
          "19",
          "2",
          "20",
          "21",
          "22",
          "23",
          "24",
          "25",
          "3",
          "4",
          "5",
          "6",
          "7",
          "8"
         ],
         "yaxis": "y"
        },
        {
         "alignmentgroup": "True",
         "bingroup": "y",
         "histfunc": "sum",
         "hovertemplate": "Taxon_grouped=Dinophyceae<br>sum of density_cell_L_sample=%{x}<br>Sample=%{y}<extra></extra>",
         "legendgroup": "Dinophyceae",
         "marker": {
          "color": "#56B4E9",
          "pattern": {
           "shape": ""
          }
         },
         "name": "Dinophyceae",
         "offsetgroup": "Dinophyceae",
         "orientation": "h",
         "showlegend": true,
         "type": "histogram",
         "x": [
          231.361947415348,
          31.35720075558912,
          109.08847380814623,
          143.4687151301827,
          118.87315486960631,
          196.51656333932888,
          626.244499336847,
          120.279513186895,
          114.75685413648931,
          26.0266028848763,
          58.868320302761,
          536.959559366368,
          67.5919071304328,
          17.471701583372457,
          126.61641849499459,
          49.190171599417,
          53.3828353724321,
          211.1330462784684,
          664.827041802399,
          148.15695708433378,
          35.4616228557838,
          116.2185911630686,
          59.3545485042943,
          23.53665389709576
         ],
         "xaxis": "x",
         "y": [
          "1",
          "10",
          "11",
          "12",
          "13",
          "14",
          "15",
          "16",
          "17",
          "18",
          "19",
          "2",
          "20",
          "21",
          "22",
          "23",
          "24",
          "25",
          "3",
          "4",
          "5",
          "6",
          "7",
          "8"
         ],
         "yaxis": "y"
        },
        {
         "alignmentgroup": "True",
         "bingroup": "y",
         "histfunc": "sum",
         "hovertemplate": "Taxon_grouped=Prymnesiophyceae<br>sum of density_cell_L_sample=%{x}<br>Sample=%{y}<extra></extra>",
         "legendgroup": "Prymnesiophyceae",
         "marker": {
          "color": "#009E73",
          "pattern": {
           "shape": ""
          }
         },
         "name": "Prymnesiophyceae",
         "offsetgroup": "Prymnesiophyceae",
         "orientation": "h",
         "showlegend": true,
         "type": "histogram",
         "x": [
          462.71013419422,
          1509.89705983443,
          11515.510912245,
          23940.3133027236,
          609.228457840282,
          243.113358543212,
          593.715519519612,
          95.1010094365036,
          179.309594023867,
          1840.84846339448,
          27112.7747309154,
          29585.0986649871,
          9147.662522932,
          447.389494809609,
          941.861214159994,
          6652.70852528619,
          4525.85800497584,
          1284.81264201468,
          4764.69906989336,
          13425.542536202,
          5166.27316233551,
          12415.3611927271,
          460.047278327387,
          2172.74743156953
         ],
         "xaxis": "x",
         "y": [
          "1",
          "10",
          "11",
          "12",
          "13",
          "14",
          "15",
          "16",
          "17",
          "18",
          "19",
          "2",
          "20",
          "21",
          "22",
          "23",
          "24",
          "25",
          "3",
          "4",
          "5",
          "6",
          "7",
          "8"
         ],
         "yaxis": "y"
        },
        {
         "alignmentgroup": "True",
         "bingroup": "y",
         "histfunc": "sum",
         "hovertemplate": "Taxon_grouped=Annelida<br>sum of density_cell_L_sample=%{x}<br>Sample=%{y}<extra></extra>",
         "legendgroup": "Annelida",
         "marker": {
          "color": "#D55E00",
          "pattern": {
           "shape": ""
          }
         },
         "name": "Annelida",
         "offsetgroup": "Annelida",
         "orientation": "h",
         "showlegend": true,
         "type": "histogram",
         "x": [
          8.26115496069547,
          4.87756648979995,
          38.8627658580637,
          14.8591740989224,
          5.07111824735456,
          61.9317069413196,
          29.4504715823354,
          65.9855532289465,
          7.22742428174976,
          6.57894736842105,
          10.2485267742762,
          15.4623581216596,
          86.6045254104216
         ],
         "xaxis": "x",
         "y": [
          "1",
          "10",
          "12",
          "13",
          "14",
          "20",
          "21",
          "22",
          "24",
          "25",
          "4",
          "7",
          "8"
         ],
         "yaxis": "y"
        },
        {
         "alignmentgroup": "True",
         "bingroup": "y",
         "histfunc": "sum",
         "hovertemplate": "Taxon_grouped=Arthropoda<br>sum of density_cell_L_sample=%{x}<br>Sample=%{y}<extra></extra>",
         "legendgroup": "Arthropoda",
         "marker": {
          "color": "#0072B2",
          "pattern": {
           "shape": ""
          }
         },
         "name": "Arthropoda",
         "offsetgroup": "Arthropoda",
         "orientation": "h",
         "showlegend": true,
         "type": "histogram",
         "x": [
          33.0477944119766,
          22.7399312424376,
          116.010287237009,
          92.8702544952739,
          78.3000677571611,
          44.7325637752689,
          45.86586037097341,
          21.5157045432715,
          73.5883608402898,
          100.312636568393,
          334.910811794685,
          56.4395357543991,
          59.2544015111018,
          107.27351106987,
          36.891742590428,
          56.596999714332,
          121.253249568581,
          221.613745176218,
          43.206933362588,
          22.4133009847296,
          62.8578764924894,
          56.0722566615857,
          100.32254369412
         ],
         "xaxis": "x",
         "y": [
          "1",
          "10",
          "12",
          "13",
          "14",
          "15",
          "16",
          "17",
          "18",
          "19",
          "2",
          "20",
          "21",
          "22",
          "23",
          "24",
          "25",
          "3",
          "4",
          "5",
          "6",
          "7",
          "8"
         ],
         "yaxis": "y"
        },
        {
         "alignmentgroup": "True",
         "bingroup": "y",
         "histfunc": "sum",
         "hovertemplate": "Taxon_grouped=Ciliates<br>sum of density_cell_L_sample=%{x}<br>Sample=%{y}<extra></extra>",
         "legendgroup": "Ciliates",
         "marker": {
          "color": "#F0E442",
          "pattern": {
           "shape": ""
          }
         },
         "name": "Ciliates",
         "offsetgroup": "Ciliates",
         "orientation": "h",
         "showlegend": true,
         "type": "histogram",
         "x": [
          33.0513665314881,
          4.87756648979995,
          6.94668242202886,
          19.1452152302642,
          40.8639779201761,
          16.5432211160171,
          16.266150077648412,
          3.5461231068874,
          7.17190151442385,
          9.44919923319598,
          50.6927905119665,
          125.222181299941,
          74.0107874865156,
          20.979643481424368,
          15.83161903466568,
          12.29606621944,
          7.22742428174976,
          38.68469584679228,
          110.803324099723,
          22.8361417624863,
          25.96608893682789,
          43.7334190851355,
          16.85582814892296,
          41.02054549386893
         ],
         "xaxis": "x",
         "y": [
          "1",
          "10",
          "11",
          "12",
          "13",
          "14",
          "15",
          "16",
          "17",
          "18",
          "19",
          "2",
          "20",
          "21",
          "22",
          "23",
          "24",
          "25",
          "3",
          "4",
          "5",
          "6",
          "7",
          "8"
         ],
         "yaxis": "y"
        },
        {
         "alignmentgroup": "True",
         "bingroup": "y",
         "histfunc": "sum",
         "hovertemplate": "Taxon_grouped=Mollusca<br>sum of density_cell_L_sample=%{x}<br>Sample=%{y}<extra></extra>",
         "legendgroup": "Mollusca",
         "marker": {
          "color": "#89CE00",
          "pattern": {
           "shape": ""
          }
         },
         "name": "Mollusca",
         "offsetgroup": "Mollusca",
         "orientation": "h",
         "showlegend": true,
         "type": "histogram",
         "x": [
          8.26340400999295,
          4.62832660975076,
          18.57384868461139,
          9.59750695928856,
          20.33314335275277,
          11.7326033046833,
          167.455405897343,
          11.4346666666667,
          15.85330659383592,
          40.9939200730496,
          6.57894736842105,
          110.810421303784,
          68.2591533268077,
          19.28853792981895
         ],
         "xaxis": "x",
         "y": [
          "1",
          "10",
          "13",
          "14",
          "15",
          "16",
          "2",
          "20",
          "21",
          "22",
          "25",
          "3",
          "7",
          "8"
         ],
         "yaxis": "y"
        },
        {
         "alignmentgroup": "True",
         "bingroup": "y",
         "histfunc": "sum",
         "hovertemplate": "Taxon_grouped=Sediment<br>sum of density_cell_L_sample=%{x}<br>Sample=%{y}<extra></extra>",
         "legendgroup": "Sediment",
         "marker": {
          "color": "#19d3f3",
          "pattern": {
           "shape": ""
          }
         },
         "name": "Sediment",
         "offsetgroup": "Sediment",
         "orientation": "h",
         "showlegend": true,
         "type": "histogram",
         "x": [
          8.2627423977966,
          36.4379562043796,
          5.76623623889082,
          4.92824134211914,
          502.366217692028,
          53.8579195927162,
          6.27672009351032,
          1218.88624436826,
          12.8907508862391,
          9.66801734556053
         ],
         "xaxis": "x",
         "y": [
          "1",
          "12",
          "14",
          "18",
          "2",
          "20",
          "25",
          "3",
          "4",
          "6"
         ],
         "yaxis": "y"
        },
        {
         "alignmentgroup": "True",
         "bingroup": "y",
         "histfunc": "sum",
         "hovertemplate": "Taxon_grouped=Unknown_6<br>sum of density_cell_L_sample=%{x}<br>Sample=%{y}<extra></extra>",
         "legendgroup": "Unknown_6",
         "marker": {
          "color": "#FF6692",
          "pattern": {
           "shape": ""
          }
         },
         "name": "Unknown_6",
         "offsetgroup": "Unknown_6",
         "orientation": "h",
         "showlegend": true,
         "type": "histogram",
         "x": [
          8.2627423977966,
          3.71473404425657,
          5.07111824735456,
          2.55294458949811,
          17.2807067035279,
          12.29606621944,
          6.34252892160828,
          13.1188211855806,
          10.7429203365062,
          3.24229074889868
         ],
         "xaxis": "x",
         "y": [
          "1",
          "13",
          "14",
          "16",
          "20",
          "23",
          "25",
          "5",
          "6",
          "7"
         ],
         "yaxis": "y"
        },
        {
         "alignmentgroup": "True",
         "bingroup": "y",
         "histfunc": "sum",
         "hovertemplate": "Taxon_grouped=Bellerochea<br>sum of density_cell_L_sample=%{x}<br>Sample=%{y}<extra></extra>",
         "legendgroup": "Bellerochea",
         "marker": {
          "color": "#B6E880",
          "pattern": {
           "shape": ""
          }
         },
         "name": "Bellerochea",
         "offsetgroup": "Bellerochea",
         "orientation": "h",
         "showlegend": true,
         "type": "histogram",
         "x": [
          46.9533836971824,
          26.3921639760566,
          60.0609593069889,
          3.7146745656873,
          79.9349438666239,
          32.53243036627,
          4.77755994570955,
          84.083757361946,
          306.282520991632,
          1926.44487764903,
          67.5578694474526,
          50.7917803772669,
          112.703776157449,
          24.593707469378,
          70.419545016576,
          554.030814361247,
          37.6805210060807,
          39.985666902489,
          67.7582142091693,
          20.7593340783404
         ],
         "xaxis": "x",
         "y": [
          "10",
          "11",
          "12",
          "13",
          "14",
          "15",
          "16",
          "18",
          "19",
          "2",
          "20",
          "21",
          "22",
          "23",
          "25",
          "3",
          "5",
          "6",
          "7",
          "8"
         ],
         "yaxis": "y"
        },
        {
         "alignmentgroup": "True",
         "bingroup": "y",
         "histfunc": "sum",
         "hovertemplate": "Taxon_grouped=Flock<br>sum of density_cell_L_sample=%{x}<br>Sample=%{y}<extra></extra>",
         "legendgroup": "Flock",
         "marker": {
          "color": "#FF97FF",
          "pattern": {
           "shape": ""
          }
         },
         "name": "Flock",
         "offsetgroup": "Flock",
         "orientation": "h",
         "showlegend": true,
         "type": "histogram",
         "x": [
          96.1332121122769,
          78.8981505335028,
          12.29606621944,
          6.51571330861442,
          108.490584852002,
          3.57551549174134
         ],
         "xaxis": "x",
         "y": [
          "11",
          "17",
          "23",
          "24",
          "6",
          "7"
         ],
         "yaxis": "y"
        },
        {
         "alignmentgroup": "True",
         "bingroup": "y",
         "histfunc": "sum",
         "hovertemplate": "Taxon_grouped=Porifera spicule<br>sum of density_cell_L_sample=%{x}<br>Sample=%{y}<extra></extra>",
         "legendgroup": "Porifera spicule",
         "marker": {
          "color": "#FECB52",
          "pattern": {
           "shape": ""
          }
         },
         "name": "Porifera spicule",
         "offsetgroup": "Porifera spicule",
         "orientation": "h",
         "showlegend": true,
         "type": "histogram",
         "x": [
          6.94668242202886,
          3.71503146567599,
          14.3446067640584,
          4.73595694584595,
          12.29606621944,
          6.51571330861442,
          6.57894736842105,
          110.810421303784,
          2.89202074710536
         ],
         "xaxis": "x",
         "y": [
          "11",
          "13",
          "17",
          "21",
          "23",
          "24",
          "25",
          "3",
          "7"
         ],
         "yaxis": "y"
        },
        {
         "alignmentgroup": "True",
         "bingroup": "y",
         "histfunc": "sum",
         "hovertemplate": "Taxon_grouped=Rotifera<br>sum of density_cell_L_sample=%{x}<br>Sample=%{y}<extra></extra>",
         "legendgroup": "Rotifera",
         "marker": {
          "color": "#EAD506",
          "pattern": {
           "shape": ""
          }
         },
         "name": "Rotifera",
         "offsetgroup": "Rotifera",
         "orientation": "h",
         "showlegend": true,
         "type": "histogram",
         "x": [
          3.71503146567599
         ],
         "xaxis": "x",
         "y": [
          "13"
         ],
         "yaxis": "y"
        },
        {
         "alignmentgroup": "True",
         "bingroup": "y",
         "histfunc": "sum",
         "hovertemplate": "Taxon_grouped=Appendicularia<br>sum of density_cell_L_sample=%{x}<br>Sample=%{y}<extra></extra>",
         "legendgroup": "Appendicularia",
         "marker": {
          "color": "#636efa",
          "pattern": {
           "shape": ""
          }
         },
         "name": "Appendicularia",
         "offsetgroup": "Appendicularia",
         "orientation": "h",
         "showlegend": true,
         "type": "histogram",
         "x": [
          5.76623623889082,
          11.4346666666667,
          110.810421303784,
          19.3360346911211,
          6.80151966320977,
          5.12043424177315
         ],
         "xaxis": "x",
         "y": [
          "14",
          "20",
          "3",
          "6",
          "7",
          "8"
         ],
         "yaxis": "y"
        },
        {
         "alignmentgroup": "True",
         "bingroup": "y",
         "histfunc": "sum",
         "hovertemplate": "Taxon_grouped=Cnidaria<br>sum of density_cell_L_sample=%{x}<br>Sample=%{y}<extra></extra>",
         "legendgroup": "Cnidaria",
         "marker": {
          "color": "#A42324",
          "pattern": {
           "shape": ""
          }
         },
         "name": "Cnidaria",
         "offsetgroup": "Cnidaria",
         "orientation": "h",
         "showlegend": true,
         "type": "histogram",
         "x": [
          4.06653751941211
         ],
         "xaxis": "x",
         "y": [
          "15"
         ],
         "yaxis": "y"
        },
        {
         "alignmentgroup": "True",
         "bingroup": "y",
         "histfunc": "sum",
         "hovertemplate": "Taxon_grouped=Echinodermata<br>sum of density_cell_L_sample=%{x}<br>Sample=%{y}<extra></extra>",
         "legendgroup": "Echinodermata",
         "marker": {
          "color": "#55EEFF",
          "pattern": {
           "shape": ""
          }
         },
         "name": "Echinodermata",
         "offsetgroup": "Echinodermata",
         "orientation": "h",
         "showlegend": true,
         "type": "histogram",
         "x": [
          11.8737142759993,
          2.89202074710536
         ],
         "xaxis": "x",
         "y": [
          "22",
          "7"
         ],
         "yaxis": "y"
        },
        {
         "alignmentgroup": "True",
         "bingroup": "y",
         "histfunc": "sum",
         "hovertemplate": "Taxon_grouped=Nassellaria<br>sum of density_cell_L_sample=%{x}<br>Sample=%{y}<extra></extra>",
         "legendgroup": "Nassellaria",
         "marker": {
          "color": "#06EA0D",
          "pattern": {
           "shape": ""
          }
         },
         "name": "Nassellaria",
         "offsetgroup": "Nassellaria",
         "orientation": "h",
         "showlegend": true,
         "type": "histogram",
         "x": [
          14.4548485634995
         ],
         "xaxis": "x",
         "y": [
          "24"
         ],
         "yaxis": "y"
        },
        {
         "alignmentgroup": "True",
         "bingroup": "y",
         "histfunc": "sum",
         "hovertemplate": "Taxon_grouped=Cerataulus granulata<br>sum of density_cell_L_sample=%{x}<br>Sample=%{y}<extra></extra>",
         "legendgroup": "Cerataulus granulata",
         "marker": {
          "color": "#EF553B",
          "pattern": {
           "shape": ""
          }
         },
         "name": "Cerataulus granulata",
         "offsetgroup": "Cerataulus granulata",
         "orientation": "h",
         "showlegend": true,
         "type": "histogram",
         "x": [
          5.12043424177315
         ],
         "xaxis": "x",
         "y": [
          "8"
         ],
         "yaxis": "y"
        }
       ],
       "layout": {
        "autosize": false,
        "barmode": "relative",
        "font": {
         "color": "black",
         "family": "Times New Roman, serif",
         "size": 8
        },
        "height": 264.56692913385825,
        "legend": {
         "title": {
          "text": "Taxon_grouped"
         },
         "tracegroupgap": 0
        },
        "margin": {
         "b": 25,
         "l": 0,
         "r": 25,
         "t": 25
        },
        "showlegend": false,
        "template": {
         "data": {
          "bar": [
           {
            "error_x": {
             "color": "#2a3f5f"
            },
            "error_y": {
             "color": "#2a3f5f"
            },
            "marker": {
             "line": {
              "color": "#E5ECF6",
              "width": 0.5
             },
             "pattern": {
              "fillmode": "overlay",
              "size": 10,
              "solidity": 0.2
             }
            },
            "type": "bar"
           }
          ],
          "barpolar": [
           {
            "marker": {
             "line": {
              "color": "#E5ECF6",
              "width": 0.5
             },
             "pattern": {
              "fillmode": "overlay",
              "size": 10,
              "solidity": 0.2
             }
            },
            "type": "barpolar"
           }
          ],
          "carpet": [
           {
            "aaxis": {
             "endlinecolor": "#2a3f5f",
             "gridcolor": "white",
             "linecolor": "white",
             "minorgridcolor": "white",
             "startlinecolor": "#2a3f5f"
            },
            "baxis": {
             "endlinecolor": "#2a3f5f",
             "gridcolor": "white",
             "linecolor": "white",
             "minorgridcolor": "white",
             "startlinecolor": "#2a3f5f"
            },
            "type": "carpet"
           }
          ],
          "choropleth": [
           {
            "colorbar": {
             "outlinewidth": 0,
             "ticks": ""
            },
            "type": "choropleth"
           }
          ],
          "contour": [
           {
            "colorbar": {
             "outlinewidth": 0,
             "ticks": ""
            },
            "colorscale": [
             [
              0,
              "#0d0887"
             ],
             [
              0.1111111111111111,
              "#46039f"
             ],
             [
              0.2222222222222222,
              "#7201a8"
             ],
             [
              0.3333333333333333,
              "#9c179e"
             ],
             [
              0.4444444444444444,
              "#bd3786"
             ],
             [
              0.5555555555555556,
              "#d8576b"
             ],
             [
              0.6666666666666666,
              "#ed7953"
             ],
             [
              0.7777777777777778,
              "#fb9f3a"
             ],
             [
              0.8888888888888888,
              "#fdca26"
             ],
             [
              1,
              "#f0f921"
             ]
            ],
            "type": "contour"
           }
          ],
          "contourcarpet": [
           {
            "colorbar": {
             "outlinewidth": 0,
             "ticks": ""
            },
            "type": "contourcarpet"
           }
          ],
          "heatmap": [
           {
            "colorbar": {
             "outlinewidth": 0,
             "ticks": ""
            },
            "colorscale": [
             [
              0,
              "#0d0887"
             ],
             [
              0.1111111111111111,
              "#46039f"
             ],
             [
              0.2222222222222222,
              "#7201a8"
             ],
             [
              0.3333333333333333,
              "#9c179e"
             ],
             [
              0.4444444444444444,
              "#bd3786"
             ],
             [
              0.5555555555555556,
              "#d8576b"
             ],
             [
              0.6666666666666666,
              "#ed7953"
             ],
             [
              0.7777777777777778,
              "#fb9f3a"
             ],
             [
              0.8888888888888888,
              "#fdca26"
             ],
             [
              1,
              "#f0f921"
             ]
            ],
            "type": "heatmap"
           }
          ],
          "heatmapgl": [
           {
            "colorbar": {
             "outlinewidth": 0,
             "ticks": ""
            },
            "colorscale": [
             [
              0,
              "#0d0887"
             ],
             [
              0.1111111111111111,
              "#46039f"
             ],
             [
              0.2222222222222222,
              "#7201a8"
             ],
             [
              0.3333333333333333,
              "#9c179e"
             ],
             [
              0.4444444444444444,
              "#bd3786"
             ],
             [
              0.5555555555555556,
              "#d8576b"
             ],
             [
              0.6666666666666666,
              "#ed7953"
             ],
             [
              0.7777777777777778,
              "#fb9f3a"
             ],
             [
              0.8888888888888888,
              "#fdca26"
             ],
             [
              1,
              "#f0f921"
             ]
            ],
            "type": "heatmapgl"
           }
          ],
          "histogram": [
           {
            "marker": {
             "pattern": {
              "fillmode": "overlay",
              "size": 10,
              "solidity": 0.2
             }
            },
            "type": "histogram"
           }
          ],
          "histogram2d": [
           {
            "colorbar": {
             "outlinewidth": 0,
             "ticks": ""
            },
            "colorscale": [
             [
              0,
              "#0d0887"
             ],
             [
              0.1111111111111111,
              "#46039f"
             ],
             [
              0.2222222222222222,
              "#7201a8"
             ],
             [
              0.3333333333333333,
              "#9c179e"
             ],
             [
              0.4444444444444444,
              "#bd3786"
             ],
             [
              0.5555555555555556,
              "#d8576b"
             ],
             [
              0.6666666666666666,
              "#ed7953"
             ],
             [
              0.7777777777777778,
              "#fb9f3a"
             ],
             [
              0.8888888888888888,
              "#fdca26"
             ],
             [
              1,
              "#f0f921"
             ]
            ],
            "type": "histogram2d"
           }
          ],
          "histogram2dcontour": [
           {
            "colorbar": {
             "outlinewidth": 0,
             "ticks": ""
            },
            "colorscale": [
             [
              0,
              "#0d0887"
             ],
             [
              0.1111111111111111,
              "#46039f"
             ],
             [
              0.2222222222222222,
              "#7201a8"
             ],
             [
              0.3333333333333333,
              "#9c179e"
             ],
             [
              0.4444444444444444,
              "#bd3786"
             ],
             [
              0.5555555555555556,
              "#d8576b"
             ],
             [
              0.6666666666666666,
              "#ed7953"
             ],
             [
              0.7777777777777778,
              "#fb9f3a"
             ],
             [
              0.8888888888888888,
              "#fdca26"
             ],
             [
              1,
              "#f0f921"
             ]
            ],
            "type": "histogram2dcontour"
           }
          ],
          "mesh3d": [
           {
            "colorbar": {
             "outlinewidth": 0,
             "ticks": ""
            },
            "type": "mesh3d"
           }
          ],
          "parcoords": [
           {
            "line": {
             "colorbar": {
              "outlinewidth": 0,
              "ticks": ""
             }
            },
            "type": "parcoords"
           }
          ],
          "pie": [
           {
            "automargin": true,
            "type": "pie"
           }
          ],
          "scatter": [
           {
            "fillpattern": {
             "fillmode": "overlay",
             "size": 10,
             "solidity": 0.2
            },
            "type": "scatter"
           }
          ],
          "scatter3d": [
           {
            "line": {
             "colorbar": {
              "outlinewidth": 0,
              "ticks": ""
             }
            },
            "marker": {
             "colorbar": {
              "outlinewidth": 0,
              "ticks": ""
             }
            },
            "type": "scatter3d"
           }
          ],
          "scattercarpet": [
           {
            "marker": {
             "colorbar": {
              "outlinewidth": 0,
              "ticks": ""
             }
            },
            "type": "scattercarpet"
           }
          ],
          "scattergeo": [
           {
            "marker": {
             "colorbar": {
              "outlinewidth": 0,
              "ticks": ""
             }
            },
            "type": "scattergeo"
           }
          ],
          "scattergl": [
           {
            "marker": {
             "colorbar": {
              "outlinewidth": 0,
              "ticks": ""
             }
            },
            "type": "scattergl"
           }
          ],
          "scattermapbox": [
           {
            "marker": {
             "colorbar": {
              "outlinewidth": 0,
              "ticks": ""
             }
            },
            "type": "scattermapbox"
           }
          ],
          "scatterpolar": [
           {
            "marker": {
             "colorbar": {
              "outlinewidth": 0,
              "ticks": ""
             }
            },
            "type": "scatterpolar"
           }
          ],
          "scatterpolargl": [
           {
            "marker": {
             "colorbar": {
              "outlinewidth": 0,
              "ticks": ""
             }
            },
            "type": "scatterpolargl"
           }
          ],
          "scatterternary": [
           {
            "marker": {
             "colorbar": {
              "outlinewidth": 0,
              "ticks": ""
             }
            },
            "type": "scatterternary"
           }
          ],
          "surface": [
           {
            "colorbar": {
             "outlinewidth": 0,
             "ticks": ""
            },
            "colorscale": [
             [
              0,
              "#0d0887"
             ],
             [
              0.1111111111111111,
              "#46039f"
             ],
             [
              0.2222222222222222,
              "#7201a8"
             ],
             [
              0.3333333333333333,
              "#9c179e"
             ],
             [
              0.4444444444444444,
              "#bd3786"
             ],
             [
              0.5555555555555556,
              "#d8576b"
             ],
             [
              0.6666666666666666,
              "#ed7953"
             ],
             [
              0.7777777777777778,
              "#fb9f3a"
             ],
             [
              0.8888888888888888,
              "#fdca26"
             ],
             [
              1,
              "#f0f921"
             ]
            ],
            "type": "surface"
           }
          ],
          "table": [
           {
            "cells": {
             "fill": {
              "color": "#EBF0F8"
             },
             "line": {
              "color": "white"
             }
            },
            "header": {
             "fill": {
              "color": "#C8D4E3"
             },
             "line": {
              "color": "white"
             }
            },
            "type": "table"
           }
          ]
         },
         "layout": {
          "annotationdefaults": {
           "arrowcolor": "#2a3f5f",
           "arrowhead": 0,
           "arrowwidth": 1
          },
          "autotypenumbers": "strict",
          "coloraxis": {
           "colorbar": {
            "outlinewidth": 0,
            "ticks": ""
           }
          },
          "colorscale": {
           "diverging": [
            [
             0,
             "#8e0152"
            ],
            [
             0.1,
             "#c51b7d"
            ],
            [
             0.2,
             "#de77ae"
            ],
            [
             0.3,
             "#f1b6da"
            ],
            [
             0.4,
             "#fde0ef"
            ],
            [
             0.5,
             "#f7f7f7"
            ],
            [
             0.6,
             "#e6f5d0"
            ],
            [
             0.7,
             "#b8e186"
            ],
            [
             0.8,
             "#7fbc41"
            ],
            [
             0.9,
             "#4d9221"
            ],
            [
             1,
             "#276419"
            ]
           ],
           "sequential": [
            [
             0,
             "#0d0887"
            ],
            [
             0.1111111111111111,
             "#46039f"
            ],
            [
             0.2222222222222222,
             "#7201a8"
            ],
            [
             0.3333333333333333,
             "#9c179e"
            ],
            [
             0.4444444444444444,
             "#bd3786"
            ],
            [
             0.5555555555555556,
             "#d8576b"
            ],
            [
             0.6666666666666666,
             "#ed7953"
            ],
            [
             0.7777777777777778,
             "#fb9f3a"
            ],
            [
             0.8888888888888888,
             "#fdca26"
            ],
            [
             1,
             "#f0f921"
            ]
           ],
           "sequentialminus": [
            [
             0,
             "#0d0887"
            ],
            [
             0.1111111111111111,
             "#46039f"
            ],
            [
             0.2222222222222222,
             "#7201a8"
            ],
            [
             0.3333333333333333,
             "#9c179e"
            ],
            [
             0.4444444444444444,
             "#bd3786"
            ],
            [
             0.5555555555555556,
             "#d8576b"
            ],
            [
             0.6666666666666666,
             "#ed7953"
            ],
            [
             0.7777777777777778,
             "#fb9f3a"
            ],
            [
             0.8888888888888888,
             "#fdca26"
            ],
            [
             1,
             "#f0f921"
            ]
           ]
          },
          "colorway": [
           "#636efa",
           "#EF553B",
           "#00cc96",
           "#ab63fa",
           "#FFA15A",
           "#19d3f3",
           "#FF6692",
           "#B6E880",
           "#FF97FF",
           "#FECB52"
          ],
          "font": {
           "color": "#2a3f5f"
          },
          "geo": {
           "bgcolor": "white",
           "lakecolor": "white",
           "landcolor": "#E5ECF6",
           "showlakes": true,
           "showland": true,
           "subunitcolor": "white"
          },
          "hoverlabel": {
           "align": "left"
          },
          "hovermode": "closest",
          "mapbox": {
           "style": "light"
          },
          "paper_bgcolor": "white",
          "plot_bgcolor": "#E5ECF6",
          "polar": {
           "angularaxis": {
            "gridcolor": "white",
            "linecolor": "white",
            "ticks": ""
           },
           "bgcolor": "#E5ECF6",
           "radialaxis": {
            "gridcolor": "white",
            "linecolor": "white",
            "ticks": ""
           }
          },
          "scene": {
           "xaxis": {
            "backgroundcolor": "#E5ECF6",
            "gridcolor": "white",
            "gridwidth": 2,
            "linecolor": "white",
            "showbackground": true,
            "ticks": "",
            "zerolinecolor": "white"
           },
           "yaxis": {
            "backgroundcolor": "#E5ECF6",
            "gridcolor": "white",
            "gridwidth": 2,
            "linecolor": "white",
            "showbackground": true,
            "ticks": "",
            "zerolinecolor": "white"
           },
           "zaxis": {
            "backgroundcolor": "#E5ECF6",
            "gridcolor": "white",
            "gridwidth": 2,
            "linecolor": "white",
            "showbackground": true,
            "ticks": "",
            "zerolinecolor": "white"
           }
          },
          "shapedefaults": {
           "line": {
            "color": "#2a3f5f"
           }
          },
          "ternary": {
           "aaxis": {
            "gridcolor": "white",
            "linecolor": "white",
            "ticks": ""
           },
           "baxis": {
            "gridcolor": "white",
            "linecolor": "white",
            "ticks": ""
           },
           "bgcolor": "#E5ECF6",
           "caxis": {
            "gridcolor": "white",
            "linecolor": "white",
            "ticks": ""
           }
          },
          "title": {
           "x": 0.05
          },
          "xaxis": {
           "automargin": true,
           "gridcolor": "white",
           "linecolor": "white",
           "ticks": "",
           "title": {
            "standoff": 15
           },
           "zerolinecolor": "white",
           "zerolinewidth": 2
          },
          "yaxis": {
           "automargin": true,
           "gridcolor": "white",
           "linecolor": "white",
           "ticks": "",
           "title": {
            "standoff": 15
           },
           "zerolinecolor": "white",
           "zerolinewidth": 2
          }
         }
        },
        "title": {
         "text": "Station 130"
        },
        "width": 188.97637795275588,
        "xaxis": {
         "anchor": "y",
         "domain": [
          0,
          1
         ],
         "title": {
          "text": "Absolute Phytoplankton Abundance"
         }
        },
        "yaxis": {
         "anchor": "x",
         "categoryarray": [
          "25",
          "24",
          "23",
          "22",
          "21",
          "20",
          "19",
          "18",
          "17",
          "16",
          "15",
          "14",
          "13",
          "12",
          "11",
          "10",
          "9",
          "8",
          "7",
          "6",
          "5",
          "4",
          "3",
          "2",
          "1"
         ],
         "categoryorder": "array",
         "domain": [
          0,
          1
         ],
         "title": {
          "text": ""
         }
        }
       }
      }
     },
     "metadata": {},
     "output_type": "display_data"
    }
   ],
   "source": [
    "stations = ['51', '130']\n",
    "\n",
    "cm_to_px = 96 / 2.54  # Conversion factor from centimeters to pixels\n",
    "width_in_cm = 5\n",
    "height_in_cm = 7\n",
    "\n",
    "tax_colors = {}\n",
    "\n",
    "for station in stations:        \n",
    "    grouped_df = flowcam[flowcam['Station'] == station][['Comments', 'Taxon_grouped', 'density_cell_L_sample']]\n",
    "    grouped_df = grouped_df.groupby(['Comments', 'Taxon_grouped']).agg({'density_cell_L_sample':'sum'}).reset_index()\n",
    "    \n",
    "    grouped_df[\"rel_occurrence\"] = grouped_df.groupby(['Comments'])['density_cell_L_sample'].transform(lambda x: x / x.sum())\n",
    "    \n",
    "    # Split station into prefix and suffix and change to integer\n",
    "    grouped_df['Sample'] = [x.split('_')[1] for x in grouped_df['Comments']]\n",
    "    \n",
    "    fig = px.histogram(grouped_df.sort_values([\"Sample\", 'Taxon_grouped'], ascending=[True, True]), \n",
    "                x=\"density_cell_L_sample\", \n",
    "                y=\"Sample\",\n",
    "                color='Taxon_grouped',\n",
    "                category_orders={\n",
    "                    \"Sample\": ['1', '2', '3', '4', '5', '6', '7', '8', '9', '10',\n",
    "                               '11', '12', '13', '14', '15', '16', '17', '18', '19', '20',\n",
    "                               '21', '22', '23', '24', '25'],\n",
    "                    \"Taxon_grouped\": [\"Rare\", \"Bacillariophyta\", \"Dinophyceae\",\n",
    "                                      \"Prymnesiophyceae\"]\n",
    "                },\n",
    "                color_discrete_map={\n",
    "                    \"Rare\": \"#545454\",\n",
    "                    \"Bacillariophyta\": \"#E69F00\",\n",
    "                    \"Dinophyceae\": \"#56B4E9\",\n",
    "                    \"Prymnesiophyceae\": \"#009E73\",\n",
    "                    \"Ciliates\": \"#F0E442\",\n",
    "                    \"Arthropoda\": \"#0072B2\",\n",
    "                    \"Annelida\": \"#D55E00\",\n",
    "                    \"Craniata\": \"#CC79A7\",\n",
    "                    \"Urocordata\": \"#B5B5B5\",\n",
    "                    \"Echinodermata\": \"#55EEFF\",\n",
    "                    \"Cnidaria\": \"#A42324\",\n",
    "                    \"Mollusca\": \"#89CE00\",\n",
    "                    \"Detritus\": \"#808080\",\n",
    "                    \"Rotifera\": \"#EAD506\",\n",
    "                    \"Nassellaria\": \"#06EA0D\"\n",
    "                },            \n",
    "                orientation='h'\n",
    "            )\n",
    "\n",
    "    fig.update_layout(\n",
    "        font=dict(\n",
    "            family=\"Times New Roman, serif\",  # Set the font family to Times New Roman\n",
    "            size=8,  # Set the font size\n",
    "            color=\"black\"  # Set the font color\n",
    "        ),\n",
    "        autosize=False,\n",
    "        width=width_in_cm * cm_to_px,\n",
    "        height=height_in_cm * cm_to_px,\n",
    "        margin=dict( # Set the margins\n",
    "            l=0,  # Left margin\n",
    "            r=25,  # Right margin\n",
    "            b=25,  # Bottom margin\n",
    "            t=25  # Top margin\n",
    "        ),\n",
    "        showlegend=False,\n",
    "        xaxis_title_text='Absolute Phytoplankton Abundance',\n",
    "        title_text='Station {}'.format(station),\n",
    "        yaxis_title_text=''\n",
    "    )\n",
    "\n",
    "    fig.show()\n",
    "\n",
    "    for trace in fig.data:\n",
    "        # If trace is not in the dictionary, add it\n",
    "        if trace.name not in tax_colors:\n",
    "            # If trace contains a color already in use, give an error\n",
    "            if trace.marker.color in tax_colors.values():\n",
    "                raise ValueError(f'Color for {trace.name} already in use, review color disctrete map')\n",
    "            tax_colors[trace.name] = trace.marker.color\n",
    "           \n",
    "    # Save figure as svg\n",
    "    fig.write_image(\"../figures/phytoplankton/flowcam_absolute_occurrence_{}_validated.svg\".format(station), scale=2, width=width_in_cm * cm_to_px, height=height_in_cm * cm_to_px)\n",
    "    #fig.write_image(\"../figures/phytoplankton/flowcam_absolute_occurrence_{}_validated.png\".format(station), scale=2, width=width_in_cm * cm_to_px, height=height_in_cm * cm_to_px)"
   ]
  },
  {
   "cell_type": "code",
   "execution_count": 8,
   "metadata": {},
   "outputs": [
    {
     "name": "stderr",
     "output_type": "stream",
     "text": [
      "/var/folders/sw/y59p6zb57zd9ntdpcr65r3q40000gn/T/ipykernel_10951/3786266632.py:21: UserWarning:\n",
      "\n",
      "set_ticklabels() should only be used with a fixed number of ticks, i.e. after set_ticks() or using a FixedLocator.\n",
      "\n"
     ]
    },
    {
     "data": {
      "image/png": "[encoded data removed]",
      "text/plain": [
       "<Figure size 50x700 with 1 Axes>"
      ]
     },
     "metadata": {},
     "output_type": "display_data"
    }
   ],
   "source": [
    " # extract the x labels and y values from the dictionary\n",
    "x_labels = list(tax_colors.keys())\n",
    "y_values = list(tax_colors.values())\n",
    "y_placeholders = [1] * len(y_values)\n",
    "\n",
    "# create the bar plot\n",
    "fig, ax = plt.subplots()\n",
    "ax.barh(x_labels, y_placeholders, color=y_values)\n",
    "\n",
    "ax.set_xlabel(None)\n",
    "ax.set_xticklabels([])\n",
    "\n",
    "# Remove the frame of the chart\n",
    "ax.spines['top'].set_visible(False)\n",
    "ax.spines['right'].set_visible(False)\n",
    "ax.spines['bottom'].set_visible(False)\n",
    "ax.spines['left'].set_visible(False)\n",
    "\n",
    "# Remove y ticks, not labels\n",
    "plt.tick_params(axis='y', which='both', length=0)\n",
    "ax.set_yticklabels(x_labels, fontsize=12, fontname='Times New Roman')\n",
    "\n",
    "# Adjust the size\n",
    "plt.gcf().set_size_inches(0.5, 7)\n",
    "\n",
    "# Save legend as svg\n",
    "fig.savefig(f\"../figures/phytoplankton/legend.svg\", format=\"svg\", bbox_inches='tight')\n",
    "\n",
    "plt.show()"
   ]
  },
  {
   "cell_type": "code",
   "execution_count": 12,
   "metadata": {},
   "outputs": [],
   "source": [
    "# Save per-sample total cell densities as a csv\n",
    "export = flowcam.groupby(['Comments']).agg({'density_cell_L_sample':'sum'}).reset_index()\n",
    "# Rename columns\n",
    "export.columns = ['sample', 'total_cell_density_FC']\n",
    "export.to_csv('../data/analysis/flowcam_total_cell_density.csv', index=False)"
   ]
  },
  {
   "cell_type": "code",
   "execution_count": 14,
   "metadata": {},
   "outputs": [
    {
     "data": {
      "text/html": [
       "<div>\n",
       "<style scoped>\n",
       "    .dataframe tbody tr th:only-of-type {\n",
       "        vertical-align: middle;\n",
       "    }\n",
       "\n",
       "    .dataframe tbody tr th {\n",
       "        vertical-align: top;\n",
       "    }\n",
       "\n",
       "    .dataframe thead th {\n",
       "        text-align: right;\n",
       "    }\n",
       "</style>\n",
       "<table border=\"1\" class=\"dataframe\">\n",
       "  <thead>\n",
       "    <tr style=\"text-align: right;\">\n",
       "      <th></th>\n",
       "      <th>sample</th>\n",
       "      <th>total_cell_density_FC</th>\n",
       "    </tr>\n",
       "  </thead>\n",
       "  <tbody>\n",
       "    <tr>\n",
       "      <th>0</th>\n",
       "      <td>130_1</td>\n",
       "      <td>2371.381403</td>\n",
       "    </tr>\n",
       "    <tr>\n",
       "      <th>1</th>\n",
       "      <td>130_10</td>\n",
       "      <td>3521.868923</td>\n",
       "    </tr>\n",
       "    <tr>\n",
       "      <th>2</th>\n",
       "      <td>130_11</td>\n",
       "      <td>14157.101146</td>\n",
       "    </tr>\n",
       "    <tr>\n",
       "      <th>3</th>\n",
       "      <td>130_12</td>\n",
       "      <td>29659.348355</td>\n",
       "    </tr>\n",
       "    <tr>\n",
       "      <th>4</th>\n",
       "      <td>130_13</td>\n",
       "      <td>4223.737309</td>\n",
       "    </tr>\n",
       "  </tbody>\n",
       "</table>\n",
       "</div>"
      ],
      "text/plain": [
       "   sample  total_cell_density_FC\n",
       "0   130_1            2371.381403\n",
       "1  130_10            3521.868923\n",
       "2  130_11           14157.101146\n",
       "3  130_12           29659.348355\n",
       "4  130_13            4223.737309"
      ]
     },
     "execution_count": 14,
     "metadata": {},
     "output_type": "execute_result"
    }
   ],
   "source": [
    "export.head()"
   ]
  }
 ],
 "metadata": {
  "kernelspec": {
   "display_name": "Python 3",
   "language": "python",
   "name": "python3"
  },
  "language_info": {
   "codemirror_mode": {
    "name": "ipython",
    "version": 3
   },
   "file_extension": ".py",
   "mimetype": "text/x-python",
   "name": "python",
   "nbconvert_exporter": "python",
   "pygments_lexer": "ipython3",
   "version": "3.12.3"
  }
 },
 "nbformat": 4,
 "nbformat_minor": 2
}
