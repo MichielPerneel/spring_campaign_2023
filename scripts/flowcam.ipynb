{
 "cells": [
  {
   "cell_type": "markdown",
   "metadata": {},
   "source": [
    "# Analysis of Phytoplankton data from FlowCam\n",
    "The Flowcam is an automated system for image analysis. In the LifeWatch framework, the Flowcam is used to measure the biomass of phytoplankton in the water column. At a sampling station, 50L of sea surface water was collected using a stainless-steel bucket and filtered through a 55µm mesh size Apstein net (1.2 m long, 0.5 m diameter). The filtered sample is transferred to a plastic falcon and fixed with acid Lugol’s iodine solution (1-5%). Samples are stored in the dark at 4°C until laboratory processing. In the lab, samples are processed using the FlowCAM VS-4 bench model (Fluid Imaging Technologies, Yarmouth, Maine, U.S.A.) equipped with a Sony XCD SC90 digital grey-scale camera and VisualSpreadsheet® software (version 4.2.52). For more details on Flowcam methodology, see paper. The FlowCAM output consists of cropped image collages, image parameters, and processing metadata. This output is then linked to sampling metadata from the ships information system (MIDAS) and is uploaded to a central database. Convolutional neural networks (CNN) are trained on human validated images. The current model version can recognize over 90 FlowCAM image classes with an accuracy of around 87%. Cell densities are calculated using the filtered volume of sea surface water, the volume of the sample measured in the lab, the fluid volume imaged, the particle count measured by the FlowCAM device, and a dilution factor calculated from the dilution of samples based on the PPUI accounted for during the sample run:\n",
    "\n",
    "$$density\\:\\frac{cells}{L} = \\frac{particle\\:count * sample\\:volume\\:(mL)}{fluid\\:volume\\:imaged\\:(mL) * dilution\\:factor * volume\\:filtered\\:(L)}$$\n",
    "\n",
    "Once predictions have been manually verified, the resulting cell densities are aggregated per predicted taxonomic level and made available through the Belgian LifeWatch RShiny application available at https://rshiny.lifewatch.be/flowcam-data/. Since the upload did not happen yet, the recent data is downloaded directly from MongoDB using the [export R script](FlowCam_export.R). Let's first load and check this data."
   ]
  },
  {
   "cell_type": "code",
   "execution_count": 111,
   "metadata": {},
   "outputs": [],
   "source": [
    "# Load libraries\n",
    "import pandas as pd\n",
    "import numpy as np\n",
    "import seaborn as sns\n",
    "import plotly.express as px\n",
    "import matplotlib.pyplot as plt"
   ]
  },
  {
   "cell_type": "code",
   "execution_count": 112,
   "metadata": {},
   "outputs": [],
   "source": [
    "# load data\n",
    "flowcam = pd.read_csv('../data/raw/flowcam_export.csv')\n",
    "\n",
    "# Removed JN identifiers from comments"
   ]
  },
  {
   "cell_type": "code",
   "execution_count": 113,
   "metadata": {},
   "outputs": [],
   "source": [
    "flowcam = flowcam[['Taxon', 'Comments', 'density_cell_L']]\n",
    "\n",
    "# Split comments into station and station suffix\n",
    "flowcam['Station'] = flowcam.Comments.str.split('_').str[0]\n",
    "flowcam['Station_suffix'] = flowcam.Comments.str.split('_').str[1]"
   ]
  },
  {
   "cell_type": "code",
   "execution_count": 114,
   "metadata": {},
   "outputs": [],
   "source": [
    "# Remove uninteresting stuff\n",
    "taxa_to_delete = ['Artefact',\n",
    "                  'Bubbles',\n",
    "                  #'Detritus', \n",
    "                  'Fibers',\n",
    "                  'Pollen',\n",
    "                  'Remnant',\n",
    "                  'Replicate',\n",
    "                  'Unknown',\n",
    "                  'Zooplankton',\n",
    "                  'Aggregate',\n",
    "                  'Unknown_5',\n",
    "                  'Unknown_3',\n",
    "                  'Holothuroidea ossicles',\n",
    "                  'Ditylum brightwellii:process',\n",
    "                  'Biddulphianae:process',\n",
    "                  'Rhizosolenia:process',\n",
    "                  'Faecal pellet',\n",
    "                  'Egg/Cyst',\n",
    "                  'Crustaceae:part']\n",
    "\n",
    "flowcam = flowcam.query('Taxon not in @taxa_to_delete')"
   ]
  },
  {
   "cell_type": "code",
   "execution_count": 115,
   "metadata": {},
   "outputs": [
    {
     "data": {
      "text/html": [
       "<div><div id=2f58e9a4-bc4f-4836-ab13-37d2c6b26e05 style=\"display:none; background-color:#9D6CFF; color:white; width:200px; height:30px; padding-left:5px; border-radius:4px; flex-direction:row; justify-content:space-around; align-items:center;\" onmouseover=\"this.style.backgroundColor='#BA9BF8'\" onmouseout=\"this.style.backgroundColor='#9D6CFF'\" onclick=\"window.commands?.execute('create-mitosheet-from-dataframe-output');\">See Full Dataframe in Mito</div> <script> if (window.commands?.hasCommand('create-mitosheet-from-dataframe-output')) document.getElementById('2f58e9a4-bc4f-4836-ab13-37d2c6b26e05').style.display = 'flex' </script> <table border=\"1\" class=\"dataframe\">\n",
       "  <thead>\n",
       "    <tr style=\"text-align: right;\">\n",
       "      <th></th>\n",
       "      <th>Taxon</th>\n",
       "      <th>Comments</th>\n",
       "      <th>density_cell_L</th>\n",
       "      <th>Station</th>\n",
       "      <th>Station_suffix</th>\n",
       "      <th>Taxon_grouped</th>\n",
       "    </tr>\n",
       "  </thead>\n",
       "  <tbody>\n",
       "    <tr>\n",
       "      <th>0</th>\n",
       "      <td>Actinoptychus</td>\n",
       "      <td>130_1</td>\n",
       "      <td>64.054831</td>\n",
       "      <td>130</td>\n",
       "      <td>1</td>\n",
       "      <td>Bacillariophyta</td>\n",
       "    </tr>\n",
       "    <tr>\n",
       "      <th>2</th>\n",
       "      <td>Asterionella</td>\n",
       "      <td>130_1</td>\n",
       "      <td>32.024338</td>\n",
       "      <td>130</td>\n",
       "      <td>1</td>\n",
       "      <td>Bacillariophyta</td>\n",
       "    </tr>\n",
       "    <tr>\n",
       "      <th>3</th>\n",
       "      <td>Bacillariophyceae</td>\n",
       "      <td>130_1</td>\n",
       "      <td>144.110933</td>\n",
       "      <td>130</td>\n",
       "      <td>1</td>\n",
       "      <td>Bacillariophyta</td>\n",
       "    </tr>\n",
       "    <tr>\n",
       "      <th>4</th>\n",
       "      <td>Bacteriastrum</td>\n",
       "      <td>130_1</td>\n",
       "      <td>16.013067</td>\n",
       "      <td>130</td>\n",
       "      <td>1</td>\n",
       "      <td>Bacillariophyta</td>\n",
       "    </tr>\n",
       "    <tr>\n",
       "      <th>5</th>\n",
       "      <td>Bellerochea horologicalis</td>\n",
       "      <td>130_1</td>\n",
       "      <td>208.167046</td>\n",
       "      <td>130</td>\n",
       "      <td>1</td>\n",
       "      <td>Bacillariophyta</td>\n",
       "    </tr>\n",
       "  </tbody>\n",
       "</table></div>"
      ],
      "text/plain": [
       "                       Taxon Comments  density_cell_L Station Station_suffix  \\\n",
       "0              Actinoptychus    130_1       64.054831     130              1   \n",
       "2               Asterionella    130_1       32.024338     130              1   \n",
       "3          Bacillariophyceae    130_1      144.110933     130              1   \n",
       "4              Bacteriastrum    130_1       16.013067     130              1   \n",
       "5  Bellerochea horologicalis    130_1      208.167046     130              1   \n",
       "\n",
       "     Taxon_grouped  \n",
       "0  Bacillariophyta  \n",
       "2  Bacillariophyta  \n",
       "3  Bacillariophyta  \n",
       "4  Bacillariophyta  \n",
       "5  Bacillariophyta  "
      ]
     },
     "execution_count": 115,
     "metadata": {},
     "output_type": "execute_result"
    }
   ],
   "source": [
    "# Group taxon levels into new identifiers\n",
    "flowcam['Taxon']\n",
    "\n",
    "diatoms = ['Actinoptychus','Actinoptychus senarius','Actinoptychus splendens','Bacillaria paxillifer','Bacillariophyceae','Bacteriastrum',\n",
    "           'Bellerochea horologicalis','Biddulphianae', 'Brockmanniella brockmannii', 'Centric Diatom','Ceratium horridum/C. longipes','Chaetoceros','Chaetoceros danicus',\n",
    "           'Dactyliosolen/Cerataulina/Guinardia','Diploneis','Ditylum brightwellii','Eucampia','Guinardia delicatula','Guinardia flaccida',\n",
    "           'Guinardia striata/Dactyliosolen phuketensis','Helicotheca tamesis','Hobaniella longicruris','Lauderia/Melosira/Detonula', 'Thalassiosira/Porosira',\n",
    "           'Lithodesmium undulatum','Long (chained) diatom','Melosira','Neocalyptrella robusta','Odontella rhombus f. trigona','Paralia', 'Asterionella',\n",
    "           'Pennate Diatom','Proboscia indica','Protoperidinium','Pseudo-nitzschia','Rhizosolenia','Rhizosolenia setigera (f. pungens)/R. hebetata f. semispina',\n",
    "           'Skeletonema','Stellarima stellaris/Podosira/Hyalodiscus','Synedra/Thalassionema','Triceratium favus','Trieres mobiliensis/T. regia','Trieres sinensis',\n",
    "           'Zygoceros','Aulacodiscus argus','Biddulphia alternans','Chaetoceros socialis','Coscinodiscus concinnus','Coscinodiscus granii','Coscinodiscus wailesii',\n",
    "           'Foraminifera','Leptocylindraceae','Plagiogrammopsis/Bellerochea malleus','Stephanopyxis','Thalassiosira/Porosira''Asterionella', 'Auliscus', 'Chaetoceros curvisetus/C. pseudocurvisetus',\n",
    "           'Meuniera membranacea', 'Odontella type 1', 'Proboscia', 'Proboscia alata', 'Ralfsiella smithii', 'Thalassiosira punctigera', 'Plagiogrammopsis vanheurckii', '(Pseudo-)pediastrum', \n",
    "       'Odontella aurita/Ralfsiella minima', 'Odontella rhombus var. trigona', 'Epiphytic diatom', 'Pennate diatom colony']\n",
    "\n",
    "dinoflagellates = ['Ceratium horridum/C. longipes', 'Dinoflagellata', 'Dinoflagellate cyst', 'Noctiluca scintillans', 'Noctilucales', 'Protoperidinium', 'Protoperidinium pentagonum',\n",
    "                   'Pseudo-nitzschia', 'Tripos', 'Tripos fusus', 'Tripos:part', 'Protoperidinium depressum', 'Dinophysis', 'Gymnodiniales', 'Tripos lineatus', 'Dissodinium pseudolunula']\n",
    "\n",
    "prymnesiophyceae = ['Phytoplankton Colony'] # Phytoplankton colonies are phaeocystis parts\n",
    "\n",
    "ciliates = ['Favella', 'Tintinnid cyst', 'Tintinnina', 'Tintinnopsis', 'Xystonella', 'Amphorellopsis','Ciliophora','Euntintinnus', \n",
    "            'Peritrichia', 'Strombidium', 'Ciliophora:part', 'Suctoria']\n",
    "\n",
    "mollusca = ['Mollusca', 'Mollusca incertae', 'Veliger larvae D-shaped']\n",
    "\n",
    "crustaceae = ['Nauplii', 'Decapoda', 'Copepoda adult', 'Crustacea']\n",
    "\n",
    "annelida = ['Polychaeta']\n",
    "\n",
    "echinodermata = ['Ophiuroidea/Echinoidea larvae']\n",
    "\n",
    "# Swap the taxon names for the new identifiers\n",
    "flowcam['Taxon_grouped'] = flowcam['Taxon'].replace(diatoms, 'Bacillariophyta')\n",
    "flowcam['Taxon_grouped'] = flowcam['Taxon_grouped'].replace(dinoflagellates, 'Dinophyceae')\n",
    "flowcam['Taxon_grouped'] = flowcam['Taxon_grouped'].replace(prymnesiophyceae, 'Prymnesiophyceae')\n",
    "flowcam['Taxon_grouped'] = flowcam['Taxon_grouped'].replace(ciliates, 'Ciliates')\n",
    "flowcam['Taxon_grouped'] = flowcam['Taxon_grouped'].replace(mollusca, 'Mollusca')\n",
    "flowcam['Taxon_grouped'] = flowcam['Taxon_grouped'].replace(crustaceae, 'Arthropoda')\n",
    "flowcam['Taxon_grouped'] = flowcam['Taxon_grouped'].replace(annelida, 'Annelida')\n",
    "flowcam['Taxon_grouped'] = flowcam['Taxon_grouped'].replace(echinodermata, 'Echinodermata')\n",
    "\n",
    "flowcam.head()"
   ]
  },
  {
   "cell_type": "code",
   "execution_count": 116,
   "metadata": {},
   "outputs": [
    {
     "data": {
      "application/vnd.plotly.v1+json": {
       "config": {
        "plotlyServerURL": "https://plot.ly"
       },
       "data": [
        {
         "alignmentgroup": "True",
         "bingroup": "y",
         "histfunc": "sum",
         "hovertemplate": "Taxon_grouped=Bacillariophyta<br>sum of rel_occurrence=%{x}<br>Sample=%{y}<extra></extra>",
         "legendgroup": "Bacillariophyta",
         "marker": {
          "color": "#E69F00",
          "pattern": {
           "shape": ""
          }
         },
         "name": "Bacillariophyta",
         "offsetgroup": "Bacillariophyta",
         "orientation": "h",
         "showlegend": true,
         "type": "histogram",
         "x": [
          0.3967706320883532,
          0.21203403667249723,
          0.25137199797036186,
          0.5303259627584255,
          0.18056041989415655,
          0.14494594444652356,
          0.1323520035277488,
          0.147360884860556,
          0.1772632716347725,
          0.16736650509383452,
          0.30744491004221686,
          0.2388621176307119,
          0.24128718736063584,
          0.3893865728099853,
          0.2742607381026679,
          0.3030744157860492,
          0.24668719719229967,
          0.26107638508876335,
          0.27355581091560816,
          0.3199038987735727
         ],
         "xaxis": "x",
         "y": [
          "1",
          "10",
          "11",
          "12",
          "13",
          "15",
          "16",
          "17",
          "18",
          "19",
          "2",
          "20",
          "21",
          "3",
          "4",
          "5",
          "6",
          "7",
          "8",
          "9"
         ],
         "yaxis": "y"
        },
        {
         "alignmentgroup": "True",
         "bingroup": "y",
         "histfunc": "sum",
         "hovertemplate": "Taxon_grouped=Dinophyceae<br>sum of rel_occurrence=%{x}<br>Sample=%{y}<extra></extra>",
         "legendgroup": "Dinophyceae",
         "marker": {
          "color": "#56B4E9",
          "pattern": {
           "shape": ""
          }
         },
         "name": "Dinophyceae",
         "offsetgroup": "Dinophyceae",
         "orientation": "h",
         "showlegend": true,
         "type": "histogram",
         "x": [
          0.015166415775805657,
          0.004286871065995344,
          0.01257921084837233,
          0.01257354509033829,
          0.0012059021429778997,
          0.009312270090866352,
          0.015605099829562184,
          0.013071798164927182,
          0.002890179483601434,
          0.013191417182902225,
          0.01199976696057873,
          0.0020653292656553023,
          0.006944382980819801,
          0.011587846872480803,
          0.03312534203885721,
          0.03806694079554045,
          0.007963995686608934,
          0.032242736160763924,
          0.01686393713160738,
          0.02055172843413262
         ],
         "xaxis": "x",
         "y": [
          "1",
          "10",
          "11",
          "12",
          "13",
          "15",
          "16",
          "17",
          "18",
          "19",
          "2",
          "20",
          "21",
          "3",
          "4",
          "5",
          "6",
          "7",
          "8",
          "9"
         ],
         "yaxis": "y"
        },
        {
         "alignmentgroup": "True",
         "bingroup": "y",
         "histfunc": "sum",
         "hovertemplate": "Taxon_grouped=Prymnesiophyceae<br>sum of rel_occurrence=%{x}<br>Sample=%{y}<extra></extra>",
         "legendgroup": "Prymnesiophyceae",
         "marker": {
          "color": "#009E73",
          "pattern": {
           "shape": ""
          }
         },
         "name": "Prymnesiophyceae",
         "offsetgroup": "Prymnesiophyceae",
         "orientation": "h",
         "showlegend": true,
         "type": "histogram",
         "x": [
          0.010274118090484098,
          0.04810368829358909,
          0.04219052151583187,
          0.008875587091710314,
          0.004684429171369485,
          0.054410296211960286,
          0.008608358852474718,
          0.03348625882018324,
          0.052987405229465705,
          0.037827927322399216,
          0.02697730396174671,
          0.02715343146750419,
          0.036492818787079766,
          0.016622318712122466,
          0.039391522634185494,
          0.008784456843964583,
          0.023265540038836807,
          0.0313079460901532,
          0.04684945846036548,
          0.020185314192052686
         ],
         "xaxis": "x",
         "y": [
          "1",
          "10",
          "11",
          "12",
          "13",
          "15",
          "16",
          "17",
          "18",
          "19",
          "2",
          "20",
          "21",
          "3",
          "4",
          "5",
          "6",
          "7",
          "8",
          "9"
         ],
         "yaxis": "y"
        },
        {
         "alignmentgroup": "True",
         "bingroup": "y",
         "histfunc": "sum",
         "hovertemplate": "Taxon_grouped=Arthropoda<br>sum of rel_occurrence=%{x}<br>Sample=%{y}<extra></extra>",
         "legendgroup": "Arthropoda",
         "marker": {
          "color": "#0072B2",
          "pattern": {
           "shape": ""
          }
         },
         "name": "Arthropoda",
         "offsetgroup": "Arthropoda",
         "orientation": "h",
         "showlegend": true,
         "type": "histogram",
         "x": [
          0.022015598027513718,
          0.007835005036413123,
          0.02455348284083908,
          0.017751576836982846,
          0.0037230706674438283,
          0.0033061192073490643,
          0.0006588175901988198,
          0.00382210699569862,
          0.01445114417325023,
          0.008177583424636122,
          0.031664970399400104,
          0.008814362802005656,
          0.004064059708542342,
          0.029498375219526203,
          0.016636440284098598,
          0.007320556519028015,
          0.0029515996581958633,
          0.009816048814081943,
          0.013917230455871666,
          0.0217945034732152
         ],
         "xaxis": "x",
         "y": [
          "1",
          "10",
          "11",
          "12",
          "13",
          "15",
          "16",
          "17",
          "18",
          "19",
          "2",
          "20",
          "21",
          "3",
          "4",
          "5",
          "6",
          "7",
          "8",
          "9"
         ],
         "yaxis": "y"
        },
        {
         "alignmentgroup": "True",
         "bingroup": "y",
         "histfunc": "sum",
         "hovertemplate": "Taxon_grouped=Ciliates<br>sum of rel_occurrence=%{x}<br>Sample=%{y}<extra></extra>",
         "legendgroup": "Ciliates",
         "marker": {
          "color": "#F0E442",
          "pattern": {
           "shape": ""
          }
         },
         "name": "Ciliates",
         "offsetgroup": "Ciliates",
         "orientation": "h",
         "showlegend": true,
         "type": "histogram",
         "x": [
          0.003914027717171463,
          0.004093793219351005,
          0.0055880570348461585,
          0.0029585132438557245,
          0.000411171699351133,
          0.0038118521861921642,
          0.001186200446650537,
          0.0010072302485122837,
          0.003853737173587283,
          0.002539000019787744,
          0.004902072662725163,
          0.002516099775544219,
          0.0033124105419949502,
          0.003716262759680975,
          0.006431955620773279,
          0.0014641581906262146,
          0.007626629898651765,
          0.004072805114333474,
          0.004456614313867262,
          0.003730978003562462
         ],
         "xaxis": "x",
         "y": [
          "1",
          "10",
          "11",
          "12",
          "13",
          "15",
          "16",
          "17",
          "18",
          "19",
          "2",
          "20",
          "21",
          "3",
          "4",
          "5",
          "6",
          "7",
          "8",
          "9"
         ],
         "yaxis": "y"
        },
        {
         "alignmentgroup": "True",
         "bingroup": "y",
         "histfunc": "sum",
         "hovertemplate": "Taxon_grouped=Detritus<br>sum of rel_occurrence=%{x}<br>Sample=%{y}<extra></extra>",
         "legendgroup": "Detritus",
         "marker": {
          "color": "#00cc96",
          "pattern": {
           "shape": ""
          }
         },
         "name": "Detritus",
         "offsetgroup": "Detritus",
         "orientation": "h",
         "showlegend": true,
         "type": "histogram",
         "x": [
          0.5494130594652921,
          0.7207826084856582,
          0.6617742435249964,
          0.42529588859880496,
          0.8094150064247012,
          0.7834739047004394,
          0.8412276994359961,
          0.8006543360587041,
          0.7466275171151182,
          0.7697913880724986,
          0.6148685366658956,
          0.7189501463142872,
          0.7073832372824824,
          0.5455332622782352,
          0.6282123914436846,
          0.6398252198915143,
          0.7106239537363276,
          0.6578386968465195,
          0.6439405125133735,
          0.6104710828093318
         ],
         "xaxis": "x",
         "y": [
          "1",
          "10",
          "11",
          "12",
          "13",
          "15",
          "16",
          "17",
          "18",
          "19",
          "2",
          "20",
          "21",
          "3",
          "4",
          "5",
          "6",
          "7",
          "8",
          "9"
         ],
         "yaxis": "y"
        },
        {
         "alignmentgroup": "True",
         "bingroup": "y",
         "histfunc": "sum",
         "hovertemplate": "Taxon_grouped=Mollusca<br>sum of rel_occurrence=%{x}<br>Sample=%{y}<extra></extra>",
         "legendgroup": "Mollusca",
         "marker": {
          "color": "#89CE00",
          "pattern": {
           "shape": ""
          }
         },
         "name": "Mollusca",
         "offsetgroup": "Mollusca",
         "orientation": "h",
         "showlegend": true,
         "type": "histogram",
         "x": [
          0.002446148835379906,
          0.002427557692496213,
          0.0019424862647521887,
          0.001479268462769454,
          0.0009634342933968207,
          0.0006561991293665909,
          0.0036553613479690956,
          0.0006138713926059647,
          0.001464251973277056,
          0.0010540799916746075,
          0.0004164362093064791,
          0.0028414799038638003
         ],
         "xaxis": "x",
         "y": [
          "1",
          "10",
          "11",
          "12",
          "18",
          "2",
          "3",
          "4",
          "5",
          "7",
          "8",
          "9"
         ],
         "yaxis": "y"
        },
        {
         "alignmentgroup": "True",
         "bingroup": "y",
         "histfunc": "sum",
         "hovertemplate": "Taxon_grouped=Pleurosira laevis<br>sum of rel_occurrence=%{x}<br>Sample=%{y}<extra></extra>",
         "legendgroup": "Pleurosira laevis",
         "marker": {
          "color": "#ab63fa",
          "pattern": {
           "shape": ""
          }
         },
         "name": "Pleurosira laevis",
         "offsetgroup": "Pleurosira laevis",
         "orientation": "h",
         "showlegend": true,
         "type": "histogram",
         "x": [
          0.00043643953399989617,
          0.0007396579171128268,
          0.00031028173680153616,
          0.00036182031736884795,
          0.0009633108968077928,
          0.0011061788839416282,
          0.00041504045937120333,
          0.0016385127442914659,
          0.0005159033384447852,
          0.0006638692415634366,
          0.0004762264913245654,
          0.0005298204437965855,
          0.0005210144102686974
         ],
         "xaxis": "x",
         "y": [
          "10",
          "12",
          "15",
          "16",
          "18",
          "19",
          "2",
          "20",
          "21",
          "4",
          "6",
          "7",
          "9"
         ],
         "yaxis": "y"
        },
        {
         "alignmentgroup": "True",
         "bingroup": "y",
         "histfunc": "sum",
         "hovertemplate": "Taxon_grouped=Appendicularia<br>sum of rel_occurrence=%{x}<br>Sample=%{y}<extra></extra>",
         "legendgroup": "Appendicularia",
         "marker": {
          "color": "#FFA15A",
          "pattern": {
           "shape": ""
          }
         },
         "name": "Appendicularia",
         "offsetgroup": "Appendicularia",
         "orientation": "h",
         "showlegend": true,
         "type": "histogram",
         "x": [
          0.0004293314198676104,
          0.0005973848514185787,
          0.0004150005893323581,
          0.0006638692415634366,
          0.0004048572977548985,
          0.0010568531246748266
         ],
         "xaxis": "x",
         "y": [
          "15",
          "17",
          "2",
          "4",
          "6",
          "7"
         ],
         "yaxis": "y"
        },
        {
         "alignmentgroup": "True",
         "bingroup": "y",
         "histfunc": "sum",
         "hovertemplate": "Taxon_grouped=Porifera spicule<br>sum of rel_occurrence=%{x}<br>Sample=%{y}<extra></extra>",
         "legendgroup": "Porifera spicule",
         "marker": {
          "color": "#19d3f3",
          "pattern": {
           "shape": ""
          }
         },
         "name": "Porifera spicule",
         "offsetgroup": "Porifera spicule",
         "orientation": "h",
         "showlegend": true,
         "type": "histogram",
         "x": [
          0.0006561991293665909,
          0.0005270399958373038
         ],
         "xaxis": "x",
         "y": [
          "2",
          "7"
         ],
         "yaxis": "y"
        },
        {
         "alignmentgroup": "True",
         "bingroup": "y",
         "histfunc": "sum",
         "hovertemplate": "Taxon_grouped=Rotifera<br>sum of rel_occurrence=%{x}<br>Sample=%{y}<extra></extra>",
         "legendgroup": "Rotifera",
         "marker": {
          "color": "#FF6692",
          "pattern": {
           "shape": ""
          }
         },
         "name": "Rotifera",
         "offsetgroup": "Rotifera",
         "orientation": "h",
         "showlegend": true,
         "type": "histogram",
         "x": [
          0.00047758832940110067
         ],
         "xaxis": "x",
         "y": [
          "7"
         ],
         "yaxis": "y"
        }
       ],
       "layout": {
        "autosize": false,
        "barmode": "relative",
        "font": {
         "color": "black",
         "family": "Times New Roman, serif",
         "size": 8
        },
        "height": 264.56692913385825,
        "legend": {
         "title": {
          "text": "Taxon_grouped"
         },
         "tracegroupgap": 0
        },
        "margin": {
         "b": 25,
         "l": 0,
         "r": 25,
         "t": 25
        },
        "showlegend": false,
        "template": {
         "data": {
          "bar": [
           {
            "error_x": {
             "color": "#2a3f5f"
            },
            "error_y": {
             "color": "#2a3f5f"
            },
            "marker": {
             "line": {
              "color": "#E5ECF6",
              "width": 0.5
             },
             "pattern": {
              "fillmode": "overlay",
              "size": 10,
              "solidity": 0.2
             }
            },
            "type": "bar"
           }
          ],
          "barpolar": [
           {
            "marker": {
             "line": {
              "color": "#E5ECF6",
              "width": 0.5
             },
             "pattern": {
              "fillmode": "overlay",
              "size": 10,
              "solidity": 0.2
             }
            },
            "type": "barpolar"
           }
          ],
          "carpet": [
           {
            "aaxis": {
             "endlinecolor": "#2a3f5f",
             "gridcolor": "white",
             "linecolor": "white",
             "minorgridcolor": "white",
             "startlinecolor": "#2a3f5f"
            },
            "baxis": {
             "endlinecolor": "#2a3f5f",
             "gridcolor": "white",
             "linecolor": "white",
             "minorgridcolor": "white",
             "startlinecolor": "#2a3f5f"
            },
            "type": "carpet"
           }
          ],
          "choropleth": [
           {
            "colorbar": {
             "outlinewidth": 0,
             "ticks": ""
            },
            "type": "choropleth"
           }
          ],
          "contour": [
           {
            "colorbar": {
             "outlinewidth": 0,
             "ticks": ""
            },
            "colorscale": [
             [
              0,
              "#0d0887"
             ],
             [
              0.1111111111111111,
              "#46039f"
             ],
             [
              0.2222222222222222,
              "#7201a8"
             ],
             [
              0.3333333333333333,
              "#9c179e"
             ],
             [
              0.4444444444444444,
              "#bd3786"
             ],
             [
              0.5555555555555556,
              "#d8576b"
             ],
             [
              0.6666666666666666,
              "#ed7953"
             ],
             [
              0.7777777777777778,
              "#fb9f3a"
             ],
             [
              0.8888888888888888,
              "#fdca26"
             ],
             [
              1,
              "#f0f921"
             ]
            ],
            "type": "contour"
           }
          ],
          "contourcarpet": [
           {
            "colorbar": {
             "outlinewidth": 0,
             "ticks": ""
            },
            "type": "contourcarpet"
           }
          ],
          "heatmap": [
           {
            "colorbar": {
             "outlinewidth": 0,
             "ticks": ""
            },
            "colorscale": [
             [
              0,
              "#0d0887"
             ],
             [
              0.1111111111111111,
              "#46039f"
             ],
             [
              0.2222222222222222,
              "#7201a8"
             ],
             [
              0.3333333333333333,
              "#9c179e"
             ],
             [
              0.4444444444444444,
              "#bd3786"
             ],
             [
              0.5555555555555556,
              "#d8576b"
             ],
             [
              0.6666666666666666,
              "#ed7953"
             ],
             [
              0.7777777777777778,
              "#fb9f3a"
             ],
             [
              0.8888888888888888,
              "#fdca26"
             ],
             [
              1,
              "#f0f921"
             ]
            ],
            "type": "heatmap"
           }
          ],
          "heatmapgl": [
           {
            "colorbar": {
             "outlinewidth": 0,
             "ticks": ""
            },
            "colorscale": [
             [
              0,
              "#0d0887"
             ],
             [
              0.1111111111111111,
              "#46039f"
             ],
             [
              0.2222222222222222,
              "#7201a8"
             ],
             [
              0.3333333333333333,
              "#9c179e"
             ],
             [
              0.4444444444444444,
              "#bd3786"
             ],
             [
              0.5555555555555556,
              "#d8576b"
             ],
             [
              0.6666666666666666,
              "#ed7953"
             ],
             [
              0.7777777777777778,
              "#fb9f3a"
             ],
             [
              0.8888888888888888,
              "#fdca26"
             ],
             [
              1,
              "#f0f921"
             ]
            ],
            "type": "heatmapgl"
           }
          ],
          "histogram": [
           {
            "marker": {
             "pattern": {
              "fillmode": "overlay",
              "size": 10,
              "solidity": 0.2
             }
            },
            "type": "histogram"
           }
          ],
          "histogram2d": [
           {
            "colorbar": {
             "outlinewidth": 0,
             "ticks": ""
            },
            "colorscale": [
             [
              0,
              "#0d0887"
             ],
             [
              0.1111111111111111,
              "#46039f"
             ],
             [
              0.2222222222222222,
              "#7201a8"
             ],
             [
              0.3333333333333333,
              "#9c179e"
             ],
             [
              0.4444444444444444,
              "#bd3786"
             ],
             [
              0.5555555555555556,
              "#d8576b"
             ],
             [
              0.6666666666666666,
              "#ed7953"
             ],
             [
              0.7777777777777778,
              "#fb9f3a"
             ],
             [
              0.8888888888888888,
              "#fdca26"
             ],
             [
              1,
              "#f0f921"
             ]
            ],
            "type": "histogram2d"
           }
          ],
          "histogram2dcontour": [
           {
            "colorbar": {
             "outlinewidth": 0,
             "ticks": ""
            },
            "colorscale": [
             [
              0,
              "#0d0887"
             ],
             [
              0.1111111111111111,
              "#46039f"
             ],
             [
              0.2222222222222222,
              "#7201a8"
             ],
             [
              0.3333333333333333,
              "#9c179e"
             ],
             [
              0.4444444444444444,
              "#bd3786"
             ],
             [
              0.5555555555555556,
              "#d8576b"
             ],
             [
              0.6666666666666666,
              "#ed7953"
             ],
             [
              0.7777777777777778,
              "#fb9f3a"
             ],
             [
              0.8888888888888888,
              "#fdca26"
             ],
             [
              1,
              "#f0f921"
             ]
            ],
            "type": "histogram2dcontour"
           }
          ],
          "mesh3d": [
           {
            "colorbar": {
             "outlinewidth": 0,
             "ticks": ""
            },
            "type": "mesh3d"
           }
          ],
          "parcoords": [
           {
            "line": {
             "colorbar": {
              "outlinewidth": 0,
              "ticks": ""
             }
            },
            "type": "parcoords"
           }
          ],
          "pie": [
           {
            "automargin": true,
            "type": "pie"
           }
          ],
          "scatter": [
           {
            "marker": {
             "colorbar": {
              "outlinewidth": 0,
              "ticks": ""
             }
            },
            "type": "scatter"
           }
          ],
          "scatter3d": [
           {
            "line": {
             "colorbar": {
              "outlinewidth": 0,
              "ticks": ""
             }
            },
            "marker": {
             "colorbar": {
              "outlinewidth": 0,
              "ticks": ""
             }
            },
            "type": "scatter3d"
           }
          ],
          "scattercarpet": [
           {
            "marker": {
             "colorbar": {
              "outlinewidth": 0,
              "ticks": ""
             }
            },
            "type": "scattercarpet"
           }
          ],
          "scattergeo": [
           {
            "marker": {
             "colorbar": {
              "outlinewidth": 0,
              "ticks": ""
             }
            },
            "type": "scattergeo"
           }
          ],
          "scattergl": [
           {
            "marker": {
             "colorbar": {
              "outlinewidth": 0,
              "ticks": ""
             }
            },
            "type": "scattergl"
           }
          ],
          "scattermapbox": [
           {
            "marker": {
             "colorbar": {
              "outlinewidth": 0,
              "ticks": ""
             }
            },
            "type": "scattermapbox"
           }
          ],
          "scatterpolar": [
           {
            "marker": {
             "colorbar": {
              "outlinewidth": 0,
              "ticks": ""
             }
            },
            "type": "scatterpolar"
           }
          ],
          "scatterpolargl": [
           {
            "marker": {
             "colorbar": {
              "outlinewidth": 0,
              "ticks": ""
             }
            },
            "type": "scatterpolargl"
           }
          ],
          "scatterternary": [
           {
            "marker": {
             "colorbar": {
              "outlinewidth": 0,
              "ticks": ""
             }
            },
            "type": "scatterternary"
           }
          ],
          "surface": [
           {
            "colorbar": {
             "outlinewidth": 0,
             "ticks": ""
            },
            "colorscale": [
             [
              0,
              "#0d0887"
             ],
             [
              0.1111111111111111,
              "#46039f"
             ],
             [
              0.2222222222222222,
              "#7201a8"
             ],
             [
              0.3333333333333333,
              "#9c179e"
             ],
             [
              0.4444444444444444,
              "#bd3786"
             ],
             [
              0.5555555555555556,
              "#d8576b"
             ],
             [
              0.6666666666666666,
              "#ed7953"
             ],
             [
              0.7777777777777778,
              "#fb9f3a"
             ],
             [
              0.8888888888888888,
              "#fdca26"
             ],
             [
              1,
              "#f0f921"
             ]
            ],
            "type": "surface"
           }
          ],
          "table": [
           {
            "cells": {
             "fill": {
              "color": "#EBF0F8"
             },
             "line": {
              "color": "white"
             }
            },
            "header": {
             "fill": {
              "color": "#C8D4E3"
             },
             "line": {
              "color": "white"
             }
            },
            "type": "table"
           }
          ]
         },
         "layout": {
          "annotationdefaults": {
           "arrowcolor": "#2a3f5f",
           "arrowhead": 0,
           "arrowwidth": 1
          },
          "autotypenumbers": "strict",
          "coloraxis": {
           "colorbar": {
            "outlinewidth": 0,
            "ticks": ""
           }
          },
          "colorscale": {
           "diverging": [
            [
             0,
             "#8e0152"
            ],
            [
             0.1,
             "#c51b7d"
            ],
            [
             0.2,
             "#de77ae"
            ],
            [
             0.3,
             "#f1b6da"
            ],
            [
             0.4,
             "#fde0ef"
            ],
            [
             0.5,
             "#f7f7f7"
            ],
            [
             0.6,
             "#e6f5d0"
            ],
            [
             0.7,
             "#b8e186"
            ],
            [
             0.8,
             "#7fbc41"
            ],
            [
             0.9,
             "#4d9221"
            ],
            [
             1,
             "#276419"
            ]
           ],
           "sequential": [
            [
             0,
             "#0d0887"
            ],
            [
             0.1111111111111111,
             "#46039f"
            ],
            [
             0.2222222222222222,
             "#7201a8"
            ],
            [
             0.3333333333333333,
             "#9c179e"
            ],
            [
             0.4444444444444444,
             "#bd3786"
            ],
            [
             0.5555555555555556,
             "#d8576b"
            ],
            [
             0.6666666666666666,
             "#ed7953"
            ],
            [
             0.7777777777777778,
             "#fb9f3a"
            ],
            [
             0.8888888888888888,
             "#fdca26"
            ],
            [
             1,
             "#f0f921"
            ]
           ],
           "sequentialminus": [
            [
             0,
             "#0d0887"
            ],
            [
             0.1111111111111111,
             "#46039f"
            ],
            [
             0.2222222222222222,
             "#7201a8"
            ],
            [
             0.3333333333333333,
             "#9c179e"
            ],
            [
             0.4444444444444444,
             "#bd3786"
            ],
            [
             0.5555555555555556,
             "#d8576b"
            ],
            [
             0.6666666666666666,
             "#ed7953"
            ],
            [
             0.7777777777777778,
             "#fb9f3a"
            ],
            [
             0.8888888888888888,
             "#fdca26"
            ],
            [
             1,
             "#f0f921"
            ]
           ]
          },
          "colorway": [
           "#636efa",
           "#EF553B",
           "#00cc96",
           "#ab63fa",
           "#FFA15A",
           "#19d3f3",
           "#FF6692",
           "#B6E880",
           "#FF97FF",
           "#FECB52"
          ],
          "font": {
           "color": "#2a3f5f"
          },
          "geo": {
           "bgcolor": "white",
           "lakecolor": "white",
           "landcolor": "#E5ECF6",
           "showlakes": true,
           "showland": true,
           "subunitcolor": "white"
          },
          "hoverlabel": {
           "align": "left"
          },
          "hovermode": "closest",
          "mapbox": {
           "style": "light"
          },
          "paper_bgcolor": "white",
          "plot_bgcolor": "#E5ECF6",
          "polar": {
           "angularaxis": {
            "gridcolor": "white",
            "linecolor": "white",
            "ticks": ""
           },
           "bgcolor": "#E5ECF6",
           "radialaxis": {
            "gridcolor": "white",
            "linecolor": "white",
            "ticks": ""
           }
          },
          "scene": {
           "xaxis": {
            "backgroundcolor": "#E5ECF6",
            "gridcolor": "white",
            "gridwidth": 2,
            "linecolor": "white",
            "showbackground": true,
            "ticks": "",
            "zerolinecolor": "white"
           },
           "yaxis": {
            "backgroundcolor": "#E5ECF6",
            "gridcolor": "white",
            "gridwidth": 2,
            "linecolor": "white",
            "showbackground": true,
            "ticks": "",
            "zerolinecolor": "white"
           },
           "zaxis": {
            "backgroundcolor": "#E5ECF6",
            "gridcolor": "white",
            "gridwidth": 2,
            "linecolor": "white",
            "showbackground": true,
            "ticks": "",
            "zerolinecolor": "white"
           }
          },
          "shapedefaults": {
           "line": {
            "color": "#2a3f5f"
           }
          },
          "ternary": {
           "aaxis": {
            "gridcolor": "white",
            "linecolor": "white",
            "ticks": ""
           },
           "baxis": {
            "gridcolor": "white",
            "linecolor": "white",
            "ticks": ""
           },
           "bgcolor": "#E5ECF6",
           "caxis": {
            "gridcolor": "white",
            "linecolor": "white",
            "ticks": ""
           }
          },
          "title": {
           "x": 0.05
          },
          "xaxis": {
           "automargin": true,
           "gridcolor": "white",
           "linecolor": "white",
           "ticks": "",
           "title": {
            "standoff": 15
           },
           "zerolinecolor": "white",
           "zerolinewidth": 2
          },
          "yaxis": {
           "automargin": true,
           "gridcolor": "white",
           "linecolor": "white",
           "ticks": "",
           "title": {
            "standoff": 15
           },
           "zerolinecolor": "white",
           "zerolinewidth": 2
          }
         }
        },
        "title": {
         "text": "Station 51"
        },
        "width": 188.97637795275588,
        "xaxis": {
         "anchor": "y",
         "domain": [
          0,
          1
         ],
         "title": {
          "text": "Relative Phytoplankton Abundance"
         }
        },
        "yaxis": {
         "anchor": "x",
         "categoryarray": [
          "25",
          "24",
          "23",
          "22",
          "21",
          "20",
          "19",
          "18",
          "17",
          "16",
          "15",
          "14",
          "13",
          "12",
          "11",
          "10",
          "9",
          "8",
          "7",
          "6",
          "5",
          "4",
          "3",
          "2",
          "1"
         ],
         "categoryorder": "array",
         "domain": [
          0,
          1
         ],
         "title": {
          "text": ""
         }
        }
       }
      }
     },
     "metadata": {},
     "output_type": "display_data"
    },
    {
     "data": {
      "application/vnd.plotly.v1+json": {
       "config": {
        "plotlyServerURL": "https://plot.ly"
       },
       "data": [
        {
         "alignmentgroup": "True",
         "bingroup": "y",
         "histfunc": "sum",
         "hovertemplate": "Taxon_grouped=Bacillariophyta<br>sum of rel_occurrence=%{x}<br>Sample=%{y}<extra></extra>",
         "legendgroup": "Bacillariophyta",
         "marker": {
          "color": "#E69F00",
          "pattern": {
           "shape": ""
          }
         },
         "name": "Bacillariophyta",
         "offsetgroup": "Bacillariophyta",
         "orientation": "h",
         "showlegend": true,
         "type": "histogram",
         "x": [
          0.39225897291477746,
          0.0789001742332018,
          0.059294162406365,
          0.10171278597439734,
          0.3333326811863557,
          0.37184766310827333,
          0.3132188870723245,
          0.30346636467753835,
          0.3094409722294176,
          0.18003835194039566,
          0.07356433915746304,
          0.0936431387571162,
          0.12430362615226705,
          0.41635587111719674,
          0.39158639820655766,
          0.10526191376565941,
          0.12482083766503554,
          0.3041534096708162,
          0.24365017442830111,
          0.08261543931770349,
          0.20421204858740172,
          0.16059307414102172,
          0.39679963147190306,
          0.27864116969960967
         ],
         "xaxis": "x",
         "y": [
          "1",
          "10",
          "11",
          "12",
          "13",
          "14",
          "15",
          "16",
          "17",
          "18",
          "19",
          "2",
          "20",
          "21",
          "22",
          "23",
          "24",
          "25",
          "3",
          "4",
          "5",
          "6",
          "7",
          "8"
         ],
         "yaxis": "y"
        },
        {
         "alignmentgroup": "True",
         "bingroup": "y",
         "histfunc": "sum",
         "hovertemplate": "Taxon_grouped=Dinophyceae<br>sum of rel_occurrence=%{x}<br>Sample=%{y}<extra></extra>",
         "legendgroup": "Dinophyceae",
         "marker": {
          "color": "#56B4E9",
          "pattern": {
           "shape": ""
          }
         },
         "name": "Dinophyceae",
         "offsetgroup": "Dinophyceae",
         "orientation": "h",
         "showlegend": true,
         "type": "histogram",
         "x": [
          0.015889264494654803,
          0.0002247450287950807,
          0.0016099447400832387,
          0.001480598018882457,
          0.00643079415095633,
          0.017287419151958965,
          0.059770391547181306,
          0.014433117873098367,
          0.010238745544272908,
          0.004163821544826609,
          0.00036211963318099846,
          0.0007658092459973796,
          0.0009877531480509535,
          0.0034000219571237215,
          0.0035988371617295643,
          0.0034043771327335005,
          0.007338272596268084,
          0.004703661552140239,
          0.0025462910801370272,
          0.0005454826845710771,
          0.002912247508194369,
          0.005874457284185562,
          0.000725385451074026
         ],
         "xaxis": "x",
         "y": [
          "1",
          "10",
          "11",
          "12",
          "13",
          "14",
          "15",
          "16",
          "17",
          "18",
          "2",
          "20",
          "21",
          "22",
          "23",
          "24",
          "25",
          "3",
          "4",
          "5",
          "6",
          "7",
          "8"
         ],
         "yaxis": "y"
        },
        {
         "alignmentgroup": "True",
         "bingroup": "y",
         "histfunc": "sum",
         "hovertemplate": "Taxon_grouped=Prymnesiophyceae<br>sum of rel_occurrence=%{x}<br>Sample=%{y}<extra></extra>",
         "legendgroup": "Prymnesiophyceae",
         "marker": {
          "color": "#009E73",
          "pattern": {
           "shape": ""
          }
         },
         "name": "Prymnesiophyceae",
         "offsetgroup": "Prymnesiophyceae",
         "orientation": "h",
         "showlegend": true,
         "type": "histogram",
         "x": [
          0.03277086558896031,
          0.019055353769235284,
          0.13177549880134115,
          0.15305197736877457,
          0.03322602910158311,
          0.012415870198741982,
          0.03850613084457106,
          0.009716458543919669,
          0.012514163990383305,
          0.04011104184940206,
          0.10372507801582209,
          0.017550970470587915,
          0.09099397858144216,
          0.024559271368589305,
          0.03121066171986818,
          0.09131778283986396,
          0.08851118842278258,
          0.0348901792350878,
          0.011288860023581497,
          0.15245844197526023,
          0.10821758342213295,
          0.14649443974504145,
          0.024180622937611487,
          0.060093102930015324
         ],
         "xaxis": "x",
         "y": [
          "1",
          "10",
          "11",
          "12",
          "13",
          "14",
          "15",
          "16",
          "17",
          "18",
          "19",
          "2",
          "20",
          "21",
          "22",
          "23",
          "24",
          "25",
          "3",
          "4",
          "5",
          "6",
          "7",
          "8"
         ],
         "yaxis": "y"
        },
        {
         "alignmentgroup": "True",
         "bingroup": "y",
         "histfunc": "sum",
         "hovertemplate": "Taxon_grouped=Arthropoda<br>sum of rel_occurrence=%{x}<br>Sample=%{y}<extra></extra>",
         "legendgroup": "Arthropoda",
         "marker": {
          "color": "#0072B2",
          "pattern": {
           "shape": ""
          }
         },
         "name": "Arthropoda",
         "offsetgroup": "Arthropoda",
         "orientation": "h",
         "showlegend": true,
         "type": "histogram",
         "x": [
          0.0039718907791001495,
          0.00035772383204481174,
          0.0003445452812259533,
          0.0014771537316366815,
          0.010003614563949683,
          0.010982299648882692,
          0.007471373703313795,
          0.006972614761825138,
          0.006825617884127082,
          0.004016237095331763,
          0.0006712573346210584,
          0.0007242392663619985,
          0.0012326245486335987,
          0.007906548665393677,
          0.01173217847449052,
          0.0008997128918001049,
          0.002126707506438384,
          0.0066282812281750255,
          0.0018814766705969122,
          0.000615433723435774,
          0.001200871048391536,
          0.0014907479260084383,
          0.007305334215018485,
          0.00618607839974755
         ],
         "xaxis": "x",
         "y": [
          "1",
          "10",
          "11",
          "12",
          "13",
          "14",
          "15",
          "16",
          "17",
          "18",
          "19",
          "2",
          "20",
          "21",
          "22",
          "23",
          "24",
          "25",
          "3",
          "4",
          "5",
          "6",
          "7",
          "8"
         ],
         "yaxis": "y"
        },
        {
         "alignmentgroup": "True",
         "bingroup": "y",
         "histfunc": "sum",
         "hovertemplate": "Taxon_grouped=Ciliates<br>sum of rel_occurrence=%{x}<br>Sample=%{y}<extra></extra>",
         "legendgroup": "Ciliates",
         "marker": {
          "color": "#F0E442",
          "pattern": {
           "shape": ""
          }
         },
         "name": "Ciliates",
         "offsetgroup": "Ciliates",
         "orientation": "h",
         "showlegend": true,
         "type": "histogram",
         "x": [
          0.006951413124307194,
          0.0006742350863852407,
          0.0006039108600694267,
          0.0009526016526931078,
          0.005001833027613443,
          0.00337318382648232,
          0.004597675015109612,
          0.001473378171642837,
          0.0034130001872007456,
          0.002710974834433443,
          0.0010957089421693225,
          0.00027079096142323283,
          0.00046897273281339385,
          0.002857696581489787,
          0.0023341565420560255,
          0.0017993249459188915,
          0.0021344897875839315,
          0.004185381659754334,
          0.0011046907102160496,
          0.00426545501027872,
          0.0018576899808707928,
          0.0035612452643138,
          0.0019398541186840448
         ],
         "xaxis": "x",
         "y": [
          "1",
          "10",
          "11",
          "12",
          "13",
          "14",
          "15",
          "16",
          "17",
          "18",
          "19",
          "2",
          "20",
          "21",
          "22",
          "23",
          "24",
          "25",
          "4",
          "5",
          "6",
          "7",
          "8"
         ],
         "yaxis": "y"
        },
        {
         "alignmentgroup": "True",
         "bingroup": "y",
         "histfunc": "sum",
         "hovertemplate": "Taxon_grouped=Detritus<br>sum of rel_occurrence=%{x}<br>Sample=%{y}<extra></extra>",
         "legendgroup": "Detritus",
         "marker": {
          "color": "#00cc96",
          "pattern": {
           "shape": ""
          }
         },
         "name": "Detritus",
         "offsetgroup": "Detritus",
         "orientation": "h",
         "showlegend": true,
         "type": "histogram",
         "x": [
          0.5471644454835025,
          0.9007877680503376,
          0.8061361155605737,
          0.7410811080954475,
          0.6095041714996107,
          0.5824201746344125,
          0.5752861046549593,
          0.6622562353244605,
          0.6564297909379351,
          0.7689595727356104,
          0.8209436165499245,
          0.8870866212781486,
          0.7822349887388463,
          0.5447006722633058,
          0.5539662698675917,
          0.7966725503383844,
          0.7786616965518096,
          0.641743064881848,
          0.7328313370571667,
          0.7603835537309857,
          0.6806348820450864,
          0.686351175856234,
          0.5569986894476658,
          0.6503171577027204
         ],
         "xaxis": "x",
         "y": [
          "1",
          "10",
          "11",
          "12",
          "13",
          "14",
          "15",
          "16",
          "17",
          "18",
          "19",
          "2",
          "20",
          "21",
          "22",
          "23",
          "24",
          "25",
          "3",
          "4",
          "5",
          "6",
          "7",
          "8"
         ],
         "yaxis": "y"
        },
        {
         "alignmentgroup": "True",
         "bingroup": "y",
         "histfunc": "sum",
         "hovertemplate": "Taxon_grouped=Mollusca<br>sum of rel_occurrence=%{x}<br>Sample=%{y}<extra></extra>",
         "legendgroup": "Mollusca",
         "marker": {
          "color": "#89CE00",
          "pattern": {
           "shape": ""
          }
         },
         "name": "Mollusca",
         "offsetgroup": "Mollusca",
         "orientation": "h",
         "showlegend": true,
         "type": "histogram",
         "x": [
          0.0009931476146975687,
          0.00023582235034172927,
          0.0017863272587372288,
          0.0016733894312483876,
          0.0011494371625404096,
          0.001405495341511129,
          0.00036211963318099846,
          0.0020819184158279522,
          0.005023754346986062,
          0.0003407029336165006,
          0.000701973752974485,
          0.0037629533411938244,
          0.0002761494622618554,
          0.0006509358598519457,
          0.004659227486521595,
          0.0018317083129939257
         ],
         "xaxis": "x",
         "y": [
          "1",
          "11",
          "13",
          "14",
          "15",
          "16",
          "2",
          "21",
          "22",
          "24",
          "25",
          "3",
          "4",
          "5",
          "7",
          "8"
         ],
         "yaxis": "y"
        },
        {
         "alignmentgroup": "True",
         "bingroup": "y",
         "histfunc": "sum",
         "hovertemplate": "Taxon_grouped=Pleurosira laevis<br>sum of rel_occurrence=%{x}<br>Sample=%{y}<extra></extra>",
         "legendgroup": "Pleurosira laevis",
         "marker": {
          "color": "#ab63fa",
          "pattern": {
           "shape": ""
          }
         },
         "name": "Pleurosira laevis",
         "offsetgroup": "Pleurosira laevis",
         "orientation": "h",
         "showlegend": true,
         "type": "histogram",
         "x": [
          0.00024377515816847507,
          0.00035729176795872307,
          0.0003732794426631148,
          0.0004498780566438215,
          0.00035943697507614123,
          0.0018815369270196098,
          0.00027274134228553857,
          0.00030062484262928675,
          0.0003281195961866978
         ],
         "xaxis": "x",
         "y": [
          "12",
          "13",
          "22",
          "23",
          "25",
          "3",
          "5",
          "6",
          "7"
         ],
         "yaxis": "y"
        },
        {
         "alignmentgroup": "True",
         "bingroup": "y",
         "histfunc": "sum",
         "hovertemplate": "Taxon_grouped=Rotifera<br>sum of rel_occurrence=%{x}<br>Sample=%{y}<extra></extra>",
         "legendgroup": "Rotifera",
         "marker": {
          "color": "#FFA15A",
          "pattern": {
           "shape": ""
          }
         },
         "name": "Rotifera",
         "offsetgroup": "Rotifera",
         "orientation": "h",
         "showlegend": true,
         "type": "histogram",
         "x": [
          0.00035725744323519837,
          0.0003732794426631148,
          0.0002926722965934159,
          0.0002655433851551634
         ],
         "xaxis": "x",
         "y": [
          "13",
          "22",
          "7",
          "8"
         ],
         "yaxis": "y"
        },
        {
         "alignmentgroup": "True",
         "bingroup": "y",
         "histfunc": "sum",
         "hovertemplate": "Taxon_grouped=Porifera spicule<br>sum of rel_occurrence=%{x}<br>Sample=%{y}<extra></extra>",
         "legendgroup": "Porifera spicule",
         "marker": {
          "color": "#19d3f3",
          "pattern": {
           "shape": ""
          }
         },
         "name": "Porifera spicule",
         "offsetgroup": "Porifera spicule",
         "orientation": "h",
         "showlegend": true,
         "type": "histogram",
         "x": [
          0.0002763353060038594,
          0.0011377092266634068,
          0.00028939471793814307
         ],
         "xaxis": "x",
         "y": [
          "16",
          "17",
          "21"
         ],
         "yaxis": "y"
        },
        {
         "alignmentgroup": "True",
         "bingroup": "y",
         "histfunc": "sum",
         "hovertemplate": "Taxon_grouped=Annelida<br>sum of rel_occurrence=%{x}<br>Sample=%{y}<extra></extra>",
         "legendgroup": "Annelida",
         "marker": {
          "color": "#D55E00",
          "pattern": {
           "shape": ""
          }
         },
         "name": "Annelida",
         "offsetgroup": "Annelida",
         "orientation": "h",
         "showlegend": true,
         "type": "histogram",
         "x": [
          0.000260873722207686
         ],
         "xaxis": "x",
         "y": [
          "21"
         ],
         "yaxis": "y"
        }
       ],
       "layout": {
        "autosize": false,
        "barmode": "relative",
        "font": {
         "color": "black",
         "family": "Times New Roman, serif",
         "size": 8
        },
        "height": 264.56692913385825,
        "legend": {
         "title": {
          "text": "Taxon_grouped"
         },
         "tracegroupgap": 0
        },
        "margin": {
         "b": 25,
         "l": 0,
         "r": 25,
         "t": 25
        },
        "showlegend": false,
        "template": {
         "data": {
          "bar": [
           {
            "error_x": {
             "color": "#2a3f5f"
            },
            "error_y": {
             "color": "#2a3f5f"
            },
            "marker": {
             "line": {
              "color": "#E5ECF6",
              "width": 0.5
             },
             "pattern": {
              "fillmode": "overlay",
              "size": 10,
              "solidity": 0.2
             }
            },
            "type": "bar"
           }
          ],
          "barpolar": [
           {
            "marker": {
             "line": {
              "color": "#E5ECF6",
              "width": 0.5
             },
             "pattern": {
              "fillmode": "overlay",
              "size": 10,
              "solidity": 0.2
             }
            },
            "type": "barpolar"
           }
          ],
          "carpet": [
           {
            "aaxis": {
             "endlinecolor": "#2a3f5f",
             "gridcolor": "white",
             "linecolor": "white",
             "minorgridcolor": "white",
             "startlinecolor": "#2a3f5f"
            },
            "baxis": {
             "endlinecolor": "#2a3f5f",
             "gridcolor": "white",
             "linecolor": "white",
             "minorgridcolor": "white",
             "startlinecolor": "#2a3f5f"
            },
            "type": "carpet"
           }
          ],
          "choropleth": [
           {
            "colorbar": {
             "outlinewidth": 0,
             "ticks": ""
            },
            "type": "choropleth"
           }
          ],
          "contour": [
           {
            "colorbar": {
             "outlinewidth": 0,
             "ticks": ""
            },
            "colorscale": [
             [
              0,
              "#0d0887"
             ],
             [
              0.1111111111111111,
              "#46039f"
             ],
             [
              0.2222222222222222,
              "#7201a8"
             ],
             [
              0.3333333333333333,
              "#9c179e"
             ],
             [
              0.4444444444444444,
              "#bd3786"
             ],
             [
              0.5555555555555556,
              "#d8576b"
             ],
             [
              0.6666666666666666,
              "#ed7953"
             ],
             [
              0.7777777777777778,
              "#fb9f3a"
             ],
             [
              0.8888888888888888,
              "#fdca26"
             ],
             [
              1,
              "#f0f921"
             ]
            ],
            "type": "contour"
           }
          ],
          "contourcarpet": [
           {
            "colorbar": {
             "outlinewidth": 0,
             "ticks": ""
            },
            "type": "contourcarpet"
           }
          ],
          "heatmap": [
           {
            "colorbar": {
             "outlinewidth": 0,
             "ticks": ""
            },
            "colorscale": [
             [
              0,
              "#0d0887"
             ],
             [
              0.1111111111111111,
              "#46039f"
             ],
             [
              0.2222222222222222,
              "#7201a8"
             ],
             [
              0.3333333333333333,
              "#9c179e"
             ],
             [
              0.4444444444444444,
              "#bd3786"
             ],
             [
              0.5555555555555556,
              "#d8576b"
             ],
             [
              0.6666666666666666,
              "#ed7953"
             ],
             [
              0.7777777777777778,
              "#fb9f3a"
             ],
             [
              0.8888888888888888,
              "#fdca26"
             ],
             [
              1,
              "#f0f921"
             ]
            ],
            "type": "heatmap"
           }
          ],
          "heatmapgl": [
           {
            "colorbar": {
             "outlinewidth": 0,
             "ticks": ""
            },
            "colorscale": [
             [
              0,
              "#0d0887"
             ],
             [
              0.1111111111111111,
              "#46039f"
             ],
             [
              0.2222222222222222,
              "#7201a8"
             ],
             [
              0.3333333333333333,
              "#9c179e"
             ],
             [
              0.4444444444444444,
              "#bd3786"
             ],
             [
              0.5555555555555556,
              "#d8576b"
             ],
             [
              0.6666666666666666,
              "#ed7953"
             ],
             [
              0.7777777777777778,
              "#fb9f3a"
             ],
             [
              0.8888888888888888,
              "#fdca26"
             ],
             [
              1,
              "#f0f921"
             ]
            ],
            "type": "heatmapgl"
           }
          ],
          "histogram": [
           {
            "marker": {
             "pattern": {
              "fillmode": "overlay",
              "size": 10,
              "solidity": 0.2
             }
            },
            "type": "histogram"
           }
          ],
          "histogram2d": [
           {
            "colorbar": {
             "outlinewidth": 0,
             "ticks": ""
            },
            "colorscale": [
             [
              0,
              "#0d0887"
             ],
             [
              0.1111111111111111,
              "#46039f"
             ],
             [
              0.2222222222222222,
              "#7201a8"
             ],
             [
              0.3333333333333333,
              "#9c179e"
             ],
             [
              0.4444444444444444,
              "#bd3786"
             ],
             [
              0.5555555555555556,
              "#d8576b"
             ],
             [
              0.6666666666666666,
              "#ed7953"
             ],
             [
              0.7777777777777778,
              "#fb9f3a"
             ],
             [
              0.8888888888888888,
              "#fdca26"
             ],
             [
              1,
              "#f0f921"
             ]
            ],
            "type": "histogram2d"
           }
          ],
          "histogram2dcontour": [
           {
            "colorbar": {
             "outlinewidth": 0,
             "ticks": ""
            },
            "colorscale": [
             [
              0,
              "#0d0887"
             ],
             [
              0.1111111111111111,
              "#46039f"
             ],
             [
              0.2222222222222222,
              "#7201a8"
             ],
             [
              0.3333333333333333,
              "#9c179e"
             ],
             [
              0.4444444444444444,
              "#bd3786"
             ],
             [
              0.5555555555555556,
              "#d8576b"
             ],
             [
              0.6666666666666666,
              "#ed7953"
             ],
             [
              0.7777777777777778,
              "#fb9f3a"
             ],
             [
              0.8888888888888888,
              "#fdca26"
             ],
             [
              1,
              "#f0f921"
             ]
            ],
            "type": "histogram2dcontour"
           }
          ],
          "mesh3d": [
           {
            "colorbar": {
             "outlinewidth": 0,
             "ticks": ""
            },
            "type": "mesh3d"
           }
          ],
          "parcoords": [
           {
            "line": {
             "colorbar": {
              "outlinewidth": 0,
              "ticks": ""
             }
            },
            "type": "parcoords"
           }
          ],
          "pie": [
           {
            "automargin": true,
            "type": "pie"
           }
          ],
          "scatter": [
           {
            "marker": {
             "colorbar": {
              "outlinewidth": 0,
              "ticks": ""
             }
            },
            "type": "scatter"
           }
          ],
          "scatter3d": [
           {
            "line": {
             "colorbar": {
              "outlinewidth": 0,
              "ticks": ""
             }
            },
            "marker": {
             "colorbar": {
              "outlinewidth": 0,
              "ticks": ""
             }
            },
            "type": "scatter3d"
           }
          ],
          "scattercarpet": [
           {
            "marker": {
             "colorbar": {
              "outlinewidth": 0,
              "ticks": ""
             }
            },
            "type": "scattercarpet"
           }
          ],
          "scattergeo": [
           {
            "marker": {
             "colorbar": {
              "outlinewidth": 0,
              "ticks": ""
             }
            },
            "type": "scattergeo"
           }
          ],
          "scattergl": [
           {
            "marker": {
             "colorbar": {
              "outlinewidth": 0,
              "ticks": ""
             }
            },
            "type": "scattergl"
           }
          ],
          "scattermapbox": [
           {
            "marker": {
             "colorbar": {
              "outlinewidth": 0,
              "ticks": ""
             }
            },
            "type": "scattermapbox"
           }
          ],
          "scatterpolar": [
           {
            "marker": {
             "colorbar": {
              "outlinewidth": 0,
              "ticks": ""
             }
            },
            "type": "scatterpolar"
           }
          ],
          "scatterpolargl": [
           {
            "marker": {
             "colorbar": {
              "outlinewidth": 0,
              "ticks": ""
             }
            },
            "type": "scatterpolargl"
           }
          ],
          "scatterternary": [
           {
            "marker": {
             "colorbar": {
              "outlinewidth": 0,
              "ticks": ""
             }
            },
            "type": "scatterternary"
           }
          ],
          "surface": [
           {
            "colorbar": {
             "outlinewidth": 0,
             "ticks": ""
            },
            "colorscale": [
             [
              0,
              "#0d0887"
             ],
             [
              0.1111111111111111,
              "#46039f"
             ],
             [
              0.2222222222222222,
              "#7201a8"
             ],
             [
              0.3333333333333333,
              "#9c179e"
             ],
             [
              0.4444444444444444,
              "#bd3786"
             ],
             [
              0.5555555555555556,
              "#d8576b"
             ],
             [
              0.6666666666666666,
              "#ed7953"
             ],
             [
              0.7777777777777778,
              "#fb9f3a"
             ],
             [
              0.8888888888888888,
              "#fdca26"
             ],
             [
              1,
              "#f0f921"
             ]
            ],
            "type": "surface"
           }
          ],
          "table": [
           {
            "cells": {
             "fill": {
              "color": "#EBF0F8"
             },
             "line": {
              "color": "white"
             }
            },
            "header": {
             "fill": {
              "color": "#C8D4E3"
             },
             "line": {
              "color": "white"
             }
            },
            "type": "table"
           }
          ]
         },
         "layout": {
          "annotationdefaults": {
           "arrowcolor": "#2a3f5f",
           "arrowhead": 0,
           "arrowwidth": 1
          },
          "autotypenumbers": "strict",
          "coloraxis": {
           "colorbar": {
            "outlinewidth": 0,
            "ticks": ""
           }
          },
          "colorscale": {
           "diverging": [
            [
             0,
             "#8e0152"
            ],
            [
             0.1,
             "#c51b7d"
            ],
            [
             0.2,
             "#de77ae"
            ],
            [
             0.3,
             "#f1b6da"
            ],
            [
             0.4,
             "#fde0ef"
            ],
            [
             0.5,
             "#f7f7f7"
            ],
            [
             0.6,
             "#e6f5d0"
            ],
            [
             0.7,
             "#b8e186"
            ],
            [
             0.8,
             "#7fbc41"
            ],
            [
             0.9,
             "#4d9221"
            ],
            [
             1,
             "#276419"
            ]
           ],
           "sequential": [
            [
             0,
             "#0d0887"
            ],
            [
             0.1111111111111111,
             "#46039f"
            ],
            [
             0.2222222222222222,
             "#7201a8"
            ],
            [
             0.3333333333333333,
             "#9c179e"
            ],
            [
             0.4444444444444444,
             "#bd3786"
            ],
            [
             0.5555555555555556,
             "#d8576b"
            ],
            [
             0.6666666666666666,
             "#ed7953"
            ],
            [
             0.7777777777777778,
             "#fb9f3a"
            ],
            [
             0.8888888888888888,
             "#fdca26"
            ],
            [
             1,
             "#f0f921"
            ]
           ],
           "sequentialminus": [
            [
             0,
             "#0d0887"
            ],
            [
             0.1111111111111111,
             "#46039f"
            ],
            [
             0.2222222222222222,
             "#7201a8"
            ],
            [
             0.3333333333333333,
             "#9c179e"
            ],
            [
             0.4444444444444444,
             "#bd3786"
            ],
            [
             0.5555555555555556,
             "#d8576b"
            ],
            [
             0.6666666666666666,
             "#ed7953"
            ],
            [
             0.7777777777777778,
             "#fb9f3a"
            ],
            [
             0.8888888888888888,
             "#fdca26"
            ],
            [
             1,
             "#f0f921"
            ]
           ]
          },
          "colorway": [
           "#636efa",
           "#EF553B",
           "#00cc96",
           "#ab63fa",
           "#FFA15A",
           "#19d3f3",
           "#FF6692",
           "#B6E880",
           "#FF97FF",
           "#FECB52"
          ],
          "font": {
           "color": "#2a3f5f"
          },
          "geo": {
           "bgcolor": "white",
           "lakecolor": "white",
           "landcolor": "#E5ECF6",
           "showlakes": true,
           "showland": true,
           "subunitcolor": "white"
          },
          "hoverlabel": {
           "align": "left"
          },
          "hovermode": "closest",
          "mapbox": {
           "style": "light"
          },
          "paper_bgcolor": "white",
          "plot_bgcolor": "#E5ECF6",
          "polar": {
           "angularaxis": {
            "gridcolor": "white",
            "linecolor": "white",
            "ticks": ""
           },
           "bgcolor": "#E5ECF6",
           "radialaxis": {
            "gridcolor": "white",
            "linecolor": "white",
            "ticks": ""
           }
          },
          "scene": {
           "xaxis": {
            "backgroundcolor": "#E5ECF6",
            "gridcolor": "white",
            "gridwidth": 2,
            "linecolor": "white",
            "showbackground": true,
            "ticks": "",
            "zerolinecolor": "white"
           },
           "yaxis": {
            "backgroundcolor": "#E5ECF6",
            "gridcolor": "white",
            "gridwidth": 2,
            "linecolor": "white",
            "showbackground": true,
            "ticks": "",
            "zerolinecolor": "white"
           },
           "zaxis": {
            "backgroundcolor": "#E5ECF6",
            "gridcolor": "white",
            "gridwidth": 2,
            "linecolor": "white",
            "showbackground": true,
            "ticks": "",
            "zerolinecolor": "white"
           }
          },
          "shapedefaults": {
           "line": {
            "color": "#2a3f5f"
           }
          },
          "ternary": {
           "aaxis": {
            "gridcolor": "white",
            "linecolor": "white",
            "ticks": ""
           },
           "baxis": {
            "gridcolor": "white",
            "linecolor": "white",
            "ticks": ""
           },
           "bgcolor": "#E5ECF6",
           "caxis": {
            "gridcolor": "white",
            "linecolor": "white",
            "ticks": ""
           }
          },
          "title": {
           "x": 0.05
          },
          "xaxis": {
           "automargin": true,
           "gridcolor": "white",
           "linecolor": "white",
           "ticks": "",
           "title": {
            "standoff": 15
           },
           "zerolinecolor": "white",
           "zerolinewidth": 2
          },
          "yaxis": {
           "automargin": true,
           "gridcolor": "white",
           "linecolor": "white",
           "ticks": "",
           "title": {
            "standoff": 15
           },
           "zerolinecolor": "white",
           "zerolinewidth": 2
          }
         }
        },
        "title": {
         "text": "Station 130"
        },
        "width": 188.97637795275588,
        "xaxis": {
         "anchor": "y",
         "domain": [
          0,
          1
         ],
         "title": {
          "text": "Relative Phytoplankton Abundance"
         }
        },
        "yaxis": {
         "anchor": "x",
         "categoryarray": [
          "25",
          "24",
          "23",
          "22",
          "21",
          "20",
          "19",
          "18",
          "17",
          "16",
          "15",
          "14",
          "13",
          "12",
          "11",
          "10",
          "9",
          "8",
          "7",
          "6",
          "5",
          "4",
          "3",
          "2",
          "1"
         ],
         "categoryorder": "array",
         "domain": [
          0,
          1
         ],
         "title": {
          "text": ""
         }
        }
       }
      }
     },
     "metadata": {},
     "output_type": "display_data"
    }
   ],
   "source": [
    "stations = ['51', '130']\n",
    "\n",
    "cm_to_px = 96 / 2.54  # Conversion factor from centimeters to pixels\n",
    "width_in_cm = 5\n",
    "height_in_cm = 7\n",
    "\n",
    "tax_colors = {}\n",
    "\n",
    "for station in stations:        \n",
    "    grouped_df = flowcam[flowcam['Station'] == station][['Comments', 'Taxon_grouped', 'density_cell_L']]\n",
    "    grouped_df = grouped_df.groupby(['Comments', 'Taxon_grouped']).agg({'density_cell_L':'sum'}).reset_index()\n",
    "    \n",
    "    grouped_df[\"rel_occurrence\"] = grouped_df.groupby(['Comments'])['density_cell_L'].transform(lambda x: x / x.sum())\n",
    "    \n",
    "    # Split station into prefix and suffix and change to integer\n",
    "    grouped_df['Sample'] = [x.split('_')[1] for x in grouped_df['Comments']]\n",
    "    \n",
    "    fig = px.histogram(grouped_df.sort_values([\"Sample\", 'Taxon_grouped'], ascending=[True, True]), \n",
    "                x=\"rel_occurrence\", \n",
    "                y=\"Sample\",\n",
    "                color='Taxon_grouped',\n",
    "                category_orders={\n",
    "                    \"Sample\": ['1', '2', '3', '4', '5', '6', '7', '8', '9', '10',\n",
    "                               '11', '12', '13', '14', '15', '16', '17', '18', '19', '20',\n",
    "                               '21', '22', '23', '24', '25'],\n",
    "                    \"Taxon_grouped\": [\"Rare\", \"Bacillariophyta\", \"Dinophyceae\",\n",
    "                                      \"Prymnesiophyceae\"]\n",
    "                },\n",
    "                color_discrete_map={\n",
    "                    \"Rare\": \"#545454\",\n",
    "                    \"Bacillariophyta\": \"#E69F00\",\n",
    "                    \"Dinophyceae\": \"#56B4E9\",\n",
    "                    \"Prymnesiophyceae\": \"#009E73\",\n",
    "                    \"Ciliates\": \"#F0E442\",\n",
    "                    \"Arthropoda\": \"#0072B2\",\n",
    "                    \"Annelida\": \"#D55E00\",\n",
    "                    \"Craniata\": \"#CC79A7\",\n",
    "                    \"Urocordata\": \"#B5B5B5\",\n",
    "                    \"Echinodermata\": \"#55EEFF\",\n",
    "                    \"Cnidaria\": \"#A42324\",\n",
    "                    \"Mollusca\": \"#89CE00\",\n",
    "                },                \n",
    "                orientation='h'\n",
    "            )\n",
    "\n",
    "    fig.update_layout(\n",
    "        font=dict(\n",
    "            family=\"Times New Roman, serif\",  # Set the font family to Times New Roman\n",
    "            size=8,  # Set the font size\n",
    "            color=\"black\"  # Set the font color\n",
    "        ),\n",
    "        autosize=False,\n",
    "        width=width_in_cm * cm_to_px,\n",
    "        height=height_in_cm * cm_to_px,\n",
    "        margin=dict( # Set the margins\n",
    "            l=0,  # Left margin\n",
    "            r=25,  # Right margin\n",
    "            b=25,  # Bottom margin\n",
    "            t=25  # Top margin\n",
    "        ),\n",
    "        showlegend=False,\n",
    "        xaxis_title_text='Relative Phytoplankton Abundance',\n",
    "        title_text='Station {}'.format(station),\n",
    "        yaxis_title_text=''\n",
    "    )\n",
    "\n",
    "    fig.show()\n",
    "\n",
    "    for trace in fig.data:\n",
    "        # If trace is not in the dictionary, add it\n",
    "        if trace.name not in tax_colors:\n",
    "            # If trace contains a color already in use, give an error\n",
    "            if trace.marker.color in tax_colors.values():\n",
    "                raise ValueError(f'Color for {trace.name} already in use, review color disctrete map')\n",
    "            tax_colors[trace.name] = trace.marker.color\n",
    "           \n",
    "    # Save figure as svg\n",
    "    fig.write_image(\"../figures/phytoplankton/flowcam_relative_occurrence_{}.svg\".format(station), scale=1)\n",
    "    fig.write_image(\"../figures/phytoplankton/flowcam_relative_occurrence_{}.png\".format(station), scale=1)"
   ]
  },
  {
   "cell_type": "code",
   "execution_count": 117,
   "metadata": {},
   "outputs": [
    {
     "data": {
      "application/vnd.plotly.v1+json": {
       "config": {
        "plotlyServerURL": "https://plot.ly"
       },
       "data": [
        {
         "alignmentgroup": "True",
         "bingroup": "y",
         "histfunc": "sum",
         "hovertemplate": "Taxon_grouped=Bacillariophyta<br>sum of density_cell_L=%{x}<br>Sample=%{y}<extra></extra>",
         "legendgroup": "Bacillariophyta",
         "marker": {
          "color": "#E69F00",
          "pattern": {
           "shape": ""
          }
         },
         "name": "Bacillariophyta",
         "offsetgroup": "Bacillariophyta",
         "orientation": "h",
         "showlegend": true,
         "type": "histogram",
         "x": [
          129858.55292718623,
          303016.79858293716,
          202464.71773833796,
          22960.519791663788,
          24031.97629623281,
          98655.36311802833,
          34375.98305165954,
          13807.429674723502,
          4419.107980259636,
          165338.7417103236,
          118610.61760499206,
          169927.61058670236,
          43675.03142431271,
          136999.73041544383,
          83060.1622483879,
          9943.269831053729,
          236812.62528263673,
          35011.733780214556,
          196305.5537596133,
          49151.61839308863
         ],
         "xaxis": "x",
         "y": [
          "1",
          "10",
          "11",
          "12",
          "13",
          "15",
          "16",
          "17",
          "18",
          "19",
          "2",
          "20",
          "21",
          "3",
          "4",
          "5",
          "6",
          "7",
          "8",
          "9"
         ],
         "yaxis": "y"
        },
        {
         "alignmentgroup": "True",
         "bingroup": "y",
         "histfunc": "sum",
         "hovertemplate": "Taxon_grouped=Dinophyceae<br>sum of density_cell_L=%{x}<br>Sample=%{y}<extra></extra>",
         "legendgroup": "Dinophyceae",
         "marker": {
          "color": "#56B4E9",
          "pattern": {
           "shape": ""
          }
         },
         "name": "Dinophyceae",
         "offsetgroup": "Dinophyceae",
         "orientation": "h",
         "showlegend": true,
         "type": "histogram",
         "x": [
          4963.796829851065,
          6126.346348638957,
          10131.782355833562,
          544.3729916530524,
          160.5014639011654,
          6338.262107130029,
          4053.1358269012912,
          1224.8021858392278,
          72.0511085154787,
          13031.593849523131,
          4629.446524630318,
          1469.284751674954,
          1256.9923344352746,
          4077.007294239715,
          10032.045794505431,
          1248.9007460135108,
          7645.207160123863,
          4323.922649773773,
          12101.67865236383,
          3157.66927876005
         ],
         "xaxis": "x",
         "y": [
          "1",
          "10",
          "11",
          "12",
          "13",
          "15",
          "16",
          "17",
          "18",
          "19",
          "2",
          "20",
          "21",
          "3",
          "4",
          "5",
          "6",
          "7",
          "8",
          "9"
         ],
         "yaxis": "y"
        },
        {
         "alignmentgroup": "True",
         "bingroup": "y",
         "histfunc": "sum",
         "hovertemplate": "Taxon_grouped=Prymnesiophyceae<br>sum of density_cell_L=%{x}<br>Sample=%{y}<extra></extra>",
         "legendgroup": "Prymnesiophyceae",
         "marker": {
          "color": "#009E73",
          "pattern": {
           "shape": ""
          }
         },
         "name": "Prymnesiophyceae",
         "offsetgroup": "Prymnesiophyceae",
         "orientation": "h",
         "showlegend": true,
         "type": "histogram",
         "x": [
          3362.60297495051,
          68744.7442660773,
          33981.8758609037,
          384.269501010042,
          623.481551902263,
          37033.5820753567,
          2235.86186931603,
          3137.59763431652,
          1320.95646855279,
          37369.6152733099,
          10407.7009561843,
          19317.0762039225,
          6605.51032452989,
          5848.30947304295,
          11929.7653898302,
          288.200587608976,
          22334.2503296609,
          4198.56232244473,
          33619.4974459426,
          3101.37158101535
         ],
         "xaxis": "x",
         "y": [
          "1",
          "10",
          "11",
          "12",
          "13",
          "15",
          "16",
          "17",
          "18",
          "19",
          "2",
          "20",
          "21",
          "3",
          "4",
          "5",
          "6",
          "7",
          "8",
          "9"
         ],
         "yaxis": "y"
        },
        {
         "alignmentgroup": "True",
         "bingroup": "y",
         "histfunc": "sum",
         "hovertemplate": "Taxon_grouped=Arthropoda<br>sum of density_cell_L=%{x}<br>Sample=%{y}<extra></extra>",
         "legendgroup": "Arthropoda",
         "marker": {
          "color": "#0072B2",
          "pattern": {
           "shape": ""
          }
         },
         "name": "Arthropoda",
         "offsetgroup": "Arthropoda",
         "orientation": "h",
         "showlegend": true,
         "type": "histogram",
         "x": [
          7205.45693271704,
          11196.967148638174,
          19776.32358815775,
          768.5564349495156,
          495.528012626788,
          2250.262276450556,
          171.115674195756,
          358.124027297445,
          360.26169409459,
          8078.50622741087,
          12216.17783491979,
          6270.578292807324,
          735.629344527008,
          10378.5536917853,
          5038.363999135626,
          240.172924505644,
          2833.45091190859,
          1316.38442801091,
          9987.10143387476,
          3348.6153869619952
         ],
         "xaxis": "x",
         "y": [
          "1",
          "10",
          "11",
          "12",
          "13",
          "15",
          "16",
          "17",
          "18",
          "19",
          "2",
          "20",
          "21",
          "3",
          "4",
          "5",
          "6",
          "7",
          "8",
          "9"
         ],
         "yaxis": "y"
        },
        {
         "alignmentgroup": "True",
         "bingroup": "y",
         "histfunc": "sum",
         "hovertemplate": "Taxon_grouped=Ciliates<br>sum of density_cell_L=%{x}<br>Sample=%{y}<extra></extra>",
         "legendgroup": "Ciliates",
         "marker": {
          "color": "#F0E442",
          "pattern": {
           "shape": ""
          }
         },
         "name": "Ciliates",
         "offsetgroup": "Ciliates",
         "orientation": "h",
         "showlegend": true,
         "type": "histogram",
         "x": [
          1281.017127688025,
          5850.419747959174,
          4500.837004125088,
          128.0891501825112,
          54.72555135993,
          2594.482122401029,
          308.09360918651,
          94.37552465668031,
          96.0722463292396,
          2508.238241808497,
          1891.1936645512828,
          1789.964968480184,
          599.574457700591,
          1307.510406830831,
          1947.9247417319712,
          48.0361231646198,
          7321.34569168939,
          546.1848583251169,
          3198.0974480071463,
          573.2459271898663
         ],
         "xaxis": "x",
         "y": [
          "1",
          "10",
          "11",
          "12",
          "13",
          "15",
          "16",
          "17",
          "18",
          "19",
          "2",
          "20",
          "21",
          "3",
          "4",
          "5",
          "6",
          "7",
          "8",
          "9"
         ],
         "yaxis": "y"
        },
        {
         "alignmentgroup": "True",
         "bingroup": "y",
         "histfunc": "sum",
         "hovertemplate": "Taxon_grouped=Detritus<br>sum of density_cell_L=%{x}<br>Sample=%{y}<extra></extra>",
         "legendgroup": "Detritus",
         "marker": {
          "color": "#00cc96",
          "pattern": {
           "shape": ""
          }
         },
         "name": "Detritus",
         "offsetgroup": "Detritus",
         "orientation": "h",
         "showlegend": true,
         "type": "histogram",
         "x": [
          179816.697838598,
          1030066.87947432,
          533018.540265524,
          18413.2313958279,
          107730.377784988,
          533260.194735826,
          218493.323618901,
          75019.7615150998,
          18613.1486163862,
          760464.821870974,
          237213.024179861,
          511464.445287321,
          128042.377447783,
          191937.563037765,
          190254.80468235,
          20991.3950987725,
          682178.588870358,
          88219.6730144051,
          462096.193365763,
          93795.7987298486
         ],
         "xaxis": "x",
         "y": [
          "1",
          "10",
          "11",
          "12",
          "13",
          "15",
          "16",
          "17",
          "18",
          "19",
          "2",
          "20",
          "21",
          "3",
          "4",
          "5",
          "6",
          "7",
          "8",
          "9"
         ],
         "yaxis": "y"
        },
        {
         "alignmentgroup": "True",
         "bingroup": "y",
         "histfunc": "sum",
         "hovertemplate": "Taxon_grouped=Mollusca<br>sum of density_cell_L=%{x}<br>Sample=%{y}<extra></extra>",
         "legendgroup": "Mollusca",
         "marker": {
          "color": "#89CE00",
          "pattern": {
           "shape": ""
          }
         },
         "name": "Mollusca",
         "offsetgroup": "Mollusca",
         "orientation": "h",
         "showlegend": true,
         "type": "histogram",
         "x": [
          800.59692506733,
          3469.21075455334,
          1564.55347643782,
          64.0450877417702,
          24.0180615823099,
          253.15814789499,
          1286.08317341023,
          185.911617616985,
          48.0391999871895,
          141.3577411032972,
          298.837522039267,
          436.579036522456
         ],
         "xaxis": "x",
         "y": [
          "1",
          "10",
          "11",
          "12",
          "18",
          "2",
          "3",
          "4",
          "5",
          "7",
          "8",
          "9"
         ],
         "yaxis": "y"
        },
        {
         "alignmentgroup": "True",
         "bingroup": "y",
         "histfunc": "sum",
         "hovertemplate": "Taxon_grouped=Pleurosira laevis<br>sum of density_cell_L=%{x}<br>Sample=%{y}<extra></extra>",
         "legendgroup": "Pleurosira laevis",
         "marker": {
          "color": "#ab63fa",
          "pattern": {
           "shape": ""
          }
         },
         "name": "Pleurosira laevis",
         "offsetgroup": "Pleurosira laevis",
         "orientation": "h",
         "showlegend": true,
         "type": "histogram",
         "x": [
          623.713590719142,
          32.0235693470394,
          211.188781651919,
          93.976130062964,
          24.0149853508589,
          1092.77674571085,
          160.120410548733,
          1165.64551262904,
          93.3828885195077,
          201.053520447143,
          457.16375605742,
          71.0517434321545,
          80.0512327889849
         ],
         "xaxis": "x",
         "y": [
          "10",
          "12",
          "15",
          "16",
          "18",
          "19",
          "2",
          "20",
          "21",
          "4",
          "6",
          "7",
          "9"
         ],
         "yaxis": "y"
        },
        {
         "alignmentgroup": "True",
         "bingroup": "y",
         "histfunc": "sum",
         "hovertemplate": "Taxon_grouped=Appendicularia<br>sum of density_cell_L=%{x}<br>Sample=%{y}<extra></extra>",
         "legendgroup": "Appendicularia",
         "marker": {
          "color": "#FFA15A",
          "pattern": {
           "shape": ""
          }
         },
         "name": "Appendicularia",
         "offsetgroup": "Appendicularia",
         "orientation": "h",
         "showlegend": true,
         "type": "histogram",
         "x": [
          292.218228573098,
          55.9738042596065,
          160.105028898958,
          201.053520447143,
          388.651379712398,
          141.729633008832
         ],
         "xaxis": "x",
         "y": [
          "15",
          "17",
          "2",
          "4",
          "6",
          "7"
         ],
         "yaxis": "y"
        },
        {
         "alignmentgroup": "True",
         "bingroup": "y",
         "histfunc": "sum",
         "hovertemplate": "Taxon_grouped=Porifera spicule<br>sum of density_cell_L=%{x}<br>Sample=%{y}<extra></extra>",
         "legendgroup": "Porifera spicule",
         "marker": {
          "color": "#19d3f3",
          "pattern": {
           "shape": ""
          }
         },
         "name": "Porifera spicule",
         "offsetgroup": "Porifera spicule",
         "orientation": "h",
         "showlegend": true,
         "type": "histogram",
         "x": [
          253.15814789499,
          70.6788705516486
         ],
         "xaxis": "x",
         "y": [
          "2",
          "7"
         ],
         "yaxis": "y"
        },
        {
         "alignmentgroup": "True",
         "bingroup": "y",
         "histfunc": "sum",
         "hovertemplate": "Taxon_grouped=Rotifera<br>sum of density_cell_L=%{x}<br>Sample=%{y}<extra></extra>",
         "legendgroup": "Rotifera",
         "marker": {
          "color": "#FF6692",
          "pattern": {
           "shape": ""
          }
         },
         "name": "Rotifera",
         "offsetgroup": "Rotifera",
         "orientation": "h",
         "showlegend": true,
         "type": "histogram",
         "x": [
          64.0471386940788
         ],
         "xaxis": "x",
         "y": [
          "7"
         ],
         "yaxis": "y"
        }
       ],
       "layout": {
        "autosize": false,
        "barmode": "relative",
        "font": {
         "color": "black",
         "family": "Times New Roman, serif",
         "size": 8
        },
        "height": 264.56692913385825,
        "legend": {
         "title": {
          "text": "Taxon_grouped"
         },
         "tracegroupgap": 0
        },
        "margin": {
         "b": 25,
         "l": 0,
         "r": 25,
         "t": 25
        },
        "showlegend": false,
        "template": {
         "data": {
          "bar": [
           {
            "error_x": {
             "color": "#2a3f5f"
            },
            "error_y": {
             "color": "#2a3f5f"
            },
            "marker": {
             "line": {
              "color": "#E5ECF6",
              "width": 0.5
             },
             "pattern": {
              "fillmode": "overlay",
              "size": 10,
              "solidity": 0.2
             }
            },
            "type": "bar"
           }
          ],
          "barpolar": [
           {
            "marker": {
             "line": {
              "color": "#E5ECF6",
              "width": 0.5
             },
             "pattern": {
              "fillmode": "overlay",
              "size": 10,
              "solidity": 0.2
             }
            },
            "type": "barpolar"
           }
          ],
          "carpet": [
           {
            "aaxis": {
             "endlinecolor": "#2a3f5f",
             "gridcolor": "white",
             "linecolor": "white",
             "minorgridcolor": "white",
             "startlinecolor": "#2a3f5f"
            },
            "baxis": {
             "endlinecolor": "#2a3f5f",
             "gridcolor": "white",
             "linecolor": "white",
             "minorgridcolor": "white",
             "startlinecolor": "#2a3f5f"
            },
            "type": "carpet"
           }
          ],
          "choropleth": [
           {
            "colorbar": {
             "outlinewidth": 0,
             "ticks": ""
            },
            "type": "choropleth"
           }
          ],
          "contour": [
           {
            "colorbar": {
             "outlinewidth": 0,
             "ticks": ""
            },
            "colorscale": [
             [
              0,
              "#0d0887"
             ],
             [
              0.1111111111111111,
              "#46039f"
             ],
             [
              0.2222222222222222,
              "#7201a8"
             ],
             [
              0.3333333333333333,
              "#9c179e"
             ],
             [
              0.4444444444444444,
              "#bd3786"
             ],
             [
              0.5555555555555556,
              "#d8576b"
             ],
             [
              0.6666666666666666,
              "#ed7953"
             ],
             [
              0.7777777777777778,
              "#fb9f3a"
             ],
             [
              0.8888888888888888,
              "#fdca26"
             ],
             [
              1,
              "#f0f921"
             ]
            ],
            "type": "contour"
           }
          ],
          "contourcarpet": [
           {
            "colorbar": {
             "outlinewidth": 0,
             "ticks": ""
            },
            "type": "contourcarpet"
           }
          ],
          "heatmap": [
           {
            "colorbar": {
             "outlinewidth": 0,
             "ticks": ""
            },
            "colorscale": [
             [
              0,
              "#0d0887"
             ],
             [
              0.1111111111111111,
              "#46039f"
             ],
             [
              0.2222222222222222,
              "#7201a8"
             ],
             [
              0.3333333333333333,
              "#9c179e"
             ],
             [
              0.4444444444444444,
              "#bd3786"
             ],
             [
              0.5555555555555556,
              "#d8576b"
             ],
             [
              0.6666666666666666,
              "#ed7953"
             ],
             [
              0.7777777777777778,
              "#fb9f3a"
             ],
             [
              0.8888888888888888,
              "#fdca26"
             ],
             [
              1,
              "#f0f921"
             ]
            ],
            "type": "heatmap"
           }
          ],
          "heatmapgl": [
           {
            "colorbar": {
             "outlinewidth": 0,
             "ticks": ""
            },
            "colorscale": [
             [
              0,
              "#0d0887"
             ],
             [
              0.1111111111111111,
              "#46039f"
             ],
             [
              0.2222222222222222,
              "#7201a8"
             ],
             [
              0.3333333333333333,
              "#9c179e"
             ],
             [
              0.4444444444444444,
              "#bd3786"
             ],
             [
              0.5555555555555556,
              "#d8576b"
             ],
             [
              0.6666666666666666,
              "#ed7953"
             ],
             [
              0.7777777777777778,
              "#fb9f3a"
             ],
             [
              0.8888888888888888,
              "#fdca26"
             ],
             [
              1,
              "#f0f921"
             ]
            ],
            "type": "heatmapgl"
           }
          ],
          "histogram": [
           {
            "marker": {
             "pattern": {
              "fillmode": "overlay",
              "size": 10,
              "solidity": 0.2
             }
            },
            "type": "histogram"
           }
          ],
          "histogram2d": [
           {
            "colorbar": {
             "outlinewidth": 0,
             "ticks": ""
            },
            "colorscale": [
             [
              0,
              "#0d0887"
             ],
             [
              0.1111111111111111,
              "#46039f"
             ],
             [
              0.2222222222222222,
              "#7201a8"
             ],
             [
              0.3333333333333333,
              "#9c179e"
             ],
             [
              0.4444444444444444,
              "#bd3786"
             ],
             [
              0.5555555555555556,
              "#d8576b"
             ],
             [
              0.6666666666666666,
              "#ed7953"
             ],
             [
              0.7777777777777778,
              "#fb9f3a"
             ],
             [
              0.8888888888888888,
              "#fdca26"
             ],
             [
              1,
              "#f0f921"
             ]
            ],
            "type": "histogram2d"
           }
          ],
          "histogram2dcontour": [
           {
            "colorbar": {
             "outlinewidth": 0,
             "ticks": ""
            },
            "colorscale": [
             [
              0,
              "#0d0887"
             ],
             [
              0.1111111111111111,
              "#46039f"
             ],
             [
              0.2222222222222222,
              "#7201a8"
             ],
             [
              0.3333333333333333,
              "#9c179e"
             ],
             [
              0.4444444444444444,
              "#bd3786"
             ],
             [
              0.5555555555555556,
              "#d8576b"
             ],
             [
              0.6666666666666666,
              "#ed7953"
             ],
             [
              0.7777777777777778,
              "#fb9f3a"
             ],
             [
              0.8888888888888888,
              "#fdca26"
             ],
             [
              1,
              "#f0f921"
             ]
            ],
            "type": "histogram2dcontour"
           }
          ],
          "mesh3d": [
           {
            "colorbar": {
             "outlinewidth": 0,
             "ticks": ""
            },
            "type": "mesh3d"
           }
          ],
          "parcoords": [
           {
            "line": {
             "colorbar": {
              "outlinewidth": 0,
              "ticks": ""
             }
            },
            "type": "parcoords"
           }
          ],
          "pie": [
           {
            "automargin": true,
            "type": "pie"
           }
          ],
          "scatter": [
           {
            "marker": {
             "colorbar": {
              "outlinewidth": 0,
              "ticks": ""
             }
            },
            "type": "scatter"
           }
          ],
          "scatter3d": [
           {
            "line": {
             "colorbar": {
              "outlinewidth": 0,
              "ticks": ""
             }
            },
            "marker": {
             "colorbar": {
              "outlinewidth": 0,
              "ticks": ""
             }
            },
            "type": "scatter3d"
           }
          ],
          "scattercarpet": [
           {
            "marker": {
             "colorbar": {
              "outlinewidth": 0,
              "ticks": ""
             }
            },
            "type": "scattercarpet"
           }
          ],
          "scattergeo": [
           {
            "marker": {
             "colorbar": {
              "outlinewidth": 0,
              "ticks": ""
             }
            },
            "type": "scattergeo"
           }
          ],
          "scattergl": [
           {
            "marker": {
             "colorbar": {
              "outlinewidth": 0,
              "ticks": ""
             }
            },
            "type": "scattergl"
           }
          ],
          "scattermapbox": [
           {
            "marker": {
             "colorbar": {
              "outlinewidth": 0,
              "ticks": ""
             }
            },
            "type": "scattermapbox"
           }
          ],
          "scatterpolar": [
           {
            "marker": {
             "colorbar": {
              "outlinewidth": 0,
              "ticks": ""
             }
            },
            "type": "scatterpolar"
           }
          ],
          "scatterpolargl": [
           {
            "marker": {
             "colorbar": {
              "outlinewidth": 0,
              "ticks": ""
             }
            },
            "type": "scatterpolargl"
           }
          ],
          "scatterternary": [
           {
            "marker": {
             "colorbar": {
              "outlinewidth": 0,
              "ticks": ""
             }
            },
            "type": "scatterternary"
           }
          ],
          "surface": [
           {
            "colorbar": {
             "outlinewidth": 0,
             "ticks": ""
            },
            "colorscale": [
             [
              0,
              "#0d0887"
             ],
             [
              0.1111111111111111,
              "#46039f"
             ],
             [
              0.2222222222222222,
              "#7201a8"
             ],
             [
              0.3333333333333333,
              "#9c179e"
             ],
             [
              0.4444444444444444,
              "#bd3786"
             ],
             [
              0.5555555555555556,
              "#d8576b"
             ],
             [
              0.6666666666666666,
              "#ed7953"
             ],
             [
              0.7777777777777778,
              "#fb9f3a"
             ],
             [
              0.8888888888888888,
              "#fdca26"
             ],
             [
              1,
              "#f0f921"
             ]
            ],
            "type": "surface"
           }
          ],
          "table": [
           {
            "cells": {
             "fill": {
              "color": "#EBF0F8"
             },
             "line": {
              "color": "white"
             }
            },
            "header": {
             "fill": {
              "color": "#C8D4E3"
             },
             "line": {
              "color": "white"
             }
            },
            "type": "table"
           }
          ]
         },
         "layout": {
          "annotationdefaults": {
           "arrowcolor": "#2a3f5f",
           "arrowhead": 0,
           "arrowwidth": 1
          },
          "autotypenumbers": "strict",
          "coloraxis": {
           "colorbar": {
            "outlinewidth": 0,
            "ticks": ""
           }
          },
          "colorscale": {
           "diverging": [
            [
             0,
             "#8e0152"
            ],
            [
             0.1,
             "#c51b7d"
            ],
            [
             0.2,
             "#de77ae"
            ],
            [
             0.3,
             "#f1b6da"
            ],
            [
             0.4,
             "#fde0ef"
            ],
            [
             0.5,
             "#f7f7f7"
            ],
            [
             0.6,
             "#e6f5d0"
            ],
            [
             0.7,
             "#b8e186"
            ],
            [
             0.8,
             "#7fbc41"
            ],
            [
             0.9,
             "#4d9221"
            ],
            [
             1,
             "#276419"
            ]
           ],
           "sequential": [
            [
             0,
             "#0d0887"
            ],
            [
             0.1111111111111111,
             "#46039f"
            ],
            [
             0.2222222222222222,
             "#7201a8"
            ],
            [
             0.3333333333333333,
             "#9c179e"
            ],
            [
             0.4444444444444444,
             "#bd3786"
            ],
            [
             0.5555555555555556,
             "#d8576b"
            ],
            [
             0.6666666666666666,
             "#ed7953"
            ],
            [
             0.7777777777777778,
             "#fb9f3a"
            ],
            [
             0.8888888888888888,
             "#fdca26"
            ],
            [
             1,
             "#f0f921"
            ]
           ],
           "sequentialminus": [
            [
             0,
             "#0d0887"
            ],
            [
             0.1111111111111111,
             "#46039f"
            ],
            [
             0.2222222222222222,
             "#7201a8"
            ],
            [
             0.3333333333333333,
             "#9c179e"
            ],
            [
             0.4444444444444444,
             "#bd3786"
            ],
            [
             0.5555555555555556,
             "#d8576b"
            ],
            [
             0.6666666666666666,
             "#ed7953"
            ],
            [
             0.7777777777777778,
             "#fb9f3a"
            ],
            [
             0.8888888888888888,
             "#fdca26"
            ],
            [
             1,
             "#f0f921"
            ]
           ]
          },
          "colorway": [
           "#636efa",
           "#EF553B",
           "#00cc96",
           "#ab63fa",
           "#FFA15A",
           "#19d3f3",
           "#FF6692",
           "#B6E880",
           "#FF97FF",
           "#FECB52"
          ],
          "font": {
           "color": "#2a3f5f"
          },
          "geo": {
           "bgcolor": "white",
           "lakecolor": "white",
           "landcolor": "#E5ECF6",
           "showlakes": true,
           "showland": true,
           "subunitcolor": "white"
          },
          "hoverlabel": {
           "align": "left"
          },
          "hovermode": "closest",
          "mapbox": {
           "style": "light"
          },
          "paper_bgcolor": "white",
          "plot_bgcolor": "#E5ECF6",
          "polar": {
           "angularaxis": {
            "gridcolor": "white",
            "linecolor": "white",
            "ticks": ""
           },
           "bgcolor": "#E5ECF6",
           "radialaxis": {
            "gridcolor": "white",
            "linecolor": "white",
            "ticks": ""
           }
          },
          "scene": {
           "xaxis": {
            "backgroundcolor": "#E5ECF6",
            "gridcolor": "white",
            "gridwidth": 2,
            "linecolor": "white",
            "showbackground": true,
            "ticks": "",
            "zerolinecolor": "white"
           },
           "yaxis": {
            "backgroundcolor": "#E5ECF6",
            "gridcolor": "white",
            "gridwidth": 2,
            "linecolor": "white",
            "showbackground": true,
            "ticks": "",
            "zerolinecolor": "white"
           },
           "zaxis": {
            "backgroundcolor": "#E5ECF6",
            "gridcolor": "white",
            "gridwidth": 2,
            "linecolor": "white",
            "showbackground": true,
            "ticks": "",
            "zerolinecolor": "white"
           }
          },
          "shapedefaults": {
           "line": {
            "color": "#2a3f5f"
           }
          },
          "ternary": {
           "aaxis": {
            "gridcolor": "white",
            "linecolor": "white",
            "ticks": ""
           },
           "baxis": {
            "gridcolor": "white",
            "linecolor": "white",
            "ticks": ""
           },
           "bgcolor": "#E5ECF6",
           "caxis": {
            "gridcolor": "white",
            "linecolor": "white",
            "ticks": ""
           }
          },
          "title": {
           "x": 0.05
          },
          "xaxis": {
           "automargin": true,
           "gridcolor": "white",
           "linecolor": "white",
           "ticks": "",
           "title": {
            "standoff": 15
           },
           "zerolinecolor": "white",
           "zerolinewidth": 2
          },
          "yaxis": {
           "automargin": true,
           "gridcolor": "white",
           "linecolor": "white",
           "ticks": "",
           "title": {
            "standoff": 15
           },
           "zerolinecolor": "white",
           "zerolinewidth": 2
          }
         }
        },
        "title": {
         "text": "Station 51"
        },
        "width": 188.97637795275588,
        "xaxis": {
         "anchor": "y",
         "domain": [
          0,
          1
         ],
         "title": {
          "text": "Relative Phytoplankton Abundance"
         }
        },
        "yaxis": {
         "anchor": "x",
         "categoryarray": [
          "25",
          "24",
          "23",
          "22",
          "21",
          "20",
          "19",
          "18",
          "17",
          "16",
          "15",
          "14",
          "13",
          "12",
          "11",
          "10",
          "9",
          "8",
          "7",
          "6",
          "5",
          "4",
          "3",
          "2",
          "1"
         ],
         "categoryorder": "array",
         "domain": [
          0,
          1
         ],
         "title": {
          "text": ""
         }
        }
       }
      }
     },
     "metadata": {},
     "output_type": "display_data"
    },
    {
     "data": {
      "application/vnd.plotly.v1+json": {
       "config": {
        "plotlyServerURL": "https://plot.ly"
       },
       "data": [
        {
         "alignmentgroup": "True",
         "bingroup": "y",
         "histfunc": "sum",
         "hovertemplate": "Taxon_grouped=Bacillariophyta<br>sum of density_cell_L=%{x}<br>Sample=%{y}<extra></extra>",
         "legendgroup": "Bacillariophyta",
         "marker": {
          "color": "#E69F00",
          "pattern": {
           "shape": ""
          }
         },
         "name": "Bacillariophyta",
         "offsetgroup": "Bacillariophyta",
         "orientation": "h",
         "showlegend": true,
         "type": "histogram",
         "x": [
          6325.114153641862,
          54893.40308354944,
          9003.320077840188,
          19202.29005778209,
          44817.81213505977,
          55841.72587316343,
          8725.438271585124,
          165613.279837391,
          4354.632505408164,
          37962.206925420614,
          10591.769193659156,
          553.7532772558393,
          12818.673884550719,
          434630.1589634841,
          44587.784878280356,
          3746.717621027327,
          14629.052393062804,
          28403.396696734086,
          414.72334976758685,
          4790.157597443015,
          28144.904155951375,
          15824.014050544374,
          118386.10189621038,
          47364.15618348897
         ],
         "xaxis": "x",
         "y": [
          "1",
          "10",
          "11",
          "12",
          "13",
          "14",
          "15",
          "16",
          "17",
          "18",
          "19",
          "2",
          "20",
          "21",
          "22",
          "23",
          "24",
          "25",
          "3",
          "4",
          "5",
          "6",
          "7",
          "8"
         ],
         "yaxis": "y"
        },
        {
         "alignmentgroup": "True",
         "bingroup": "y",
         "histfunc": "sum",
         "hovertemplate": "Taxon_grouped=Dinophyceae<br>sum of density_cell_L=%{x}<br>Sample=%{y}<extra></extra>",
         "legendgroup": "Dinophyceae",
         "marker": {
          "color": "#56B4E9",
          "pattern": {
           "shape": ""
          }
         },
         "name": "Dinophyceae",
         "offsetgroup": "Dinophyceae",
         "orientation": "h",
         "showlegend": true,
         "type": "histogram",
         "x": [
          256.2118872623858,
          156.362385464553,
          244.45657404292228,
          279.5211275081478,
          864.6440640354454,
          2596.1150683823926,
          1665.0428292754275,
          7876.708154405928,
          144.085554800539,
          877.9676851161298,
          2.14137347694811,
          78.9732309996256,
          1031.106650669099,
          387.1417605411696,
          128.0978668037393,
          398.9943696272271,
          685.285323107704,
          8.006225645656759,
          147.63748354487132,
          75.1794910348456,
          286.957863748615,
          1752.6581263465,
          123.3029197908542
         ],
         "xaxis": "x",
         "y": [
          "1",
          "10",
          "11",
          "12",
          "13",
          "14",
          "15",
          "16",
          "17",
          "18",
          "2",
          "20",
          "21",
          "22",
          "23",
          "24",
          "25",
          "3",
          "4",
          "5",
          "6",
          "7",
          "8"
         ],
         "yaxis": "y"
        },
        {
         "alignmentgroup": "True",
         "bingroup": "y",
         "histfunc": "sum",
         "hovertemplate": "Taxon_grouped=Prymnesiophyceae<br>sum of density_cell_L=%{x}<br>Sample=%{y}<extra></extra>",
         "legendgroup": "Prymnesiophyceae",
         "marker": {
          "color": "#009E73",
          "pattern": {
           "shape": ""
          }
         },
         "name": "Prymnesiophyceae",
         "offsetgroup": "Prymnesiophyceae",
         "orientation": "h",
         "showlegend": true,
         "type": "histogram",
         "x": [
          528.425045891459,
          13257.4259248479,
          20009.0016618257,
          28894.5822808559,
          4467.36253093726,
          1864.5367146305,
          1072.67754796761,
          5302.64554878257,
          176.106560478777,
          8457.66279389916,
          14934.3023878224,
          103.786647330528,
          9383.65334141161,
          25637.2030741767,
          3553.78602793093,
          3250.3869048112,
          10373.5468935396,
          3258.22289056995,
          19.2150646106548,
          8839.75162697735,
          14914.7591166788,
          14434.8072620899,
          7214.34563935228,
          10214.7831054404
         ],
         "xaxis": "x",
         "y": [
          "1",
          "10",
          "11",
          "12",
          "13",
          "14",
          "15",
          "16",
          "17",
          "18",
          "19",
          "2",
          "20",
          "21",
          "22",
          "23",
          "24",
          "25",
          "3",
          "4",
          "5",
          "6",
          "7",
          "8"
         ],
         "yaxis": "y"
        },
        {
         "alignmentgroup": "True",
         "bingroup": "y",
         "histfunc": "sum",
         "hovertemplate": "Taxon_grouped=Arthropoda<br>sum of density_cell_L=%{x}<br>Sample=%{y}<extra></extra>",
         "legendgroup": "Arthropoda",
         "marker": {
          "color": "#0072B2",
          "pattern": {
           "shape": ""
          }
         },
         "name": "Arthropoda",
         "offsetgroup": "Arthropoda",
         "orientation": "h",
         "showlegend": true,
         "type": "histogram",
         "x": [
          64.0461132015051,
          248.880039820806,
          52.3163043762589,
          278.870882781272,
          1345.02298605396,
          1649.25217311713,
          208.132436270217,
          3805.224348258526,
          96.0540464101134,
          846.848585489221,
          96.6474087755847,
          4.28274695389623,
          127.113042476094,
          8253.57522657651,
          1335.87849927882,
          32.0245948888747,
          249.250975385194,
          618.98270792075,
          3.20251076844246,
          35.6836996859834,
          165.506397856692,
          146.890619369193,
          2179.56361894023,
          1051.52581653608
         ],
         "xaxis": "x",
         "y": [
          "1",
          "10",
          "11",
          "12",
          "13",
          "14",
          "15",
          "16",
          "17",
          "18",
          "19",
          "2",
          "20",
          "21",
          "22",
          "23",
          "24",
          "25",
          "3",
          "4",
          "5",
          "6",
          "7",
          "8"
         ],
         "yaxis": "y"
        },
        {
         "alignmentgroup": "True",
         "bingroup": "y",
         "histfunc": "sum",
         "hovertemplate": "Taxon_grouped=Ciliates<br>sum of density_cell_L=%{x}<br>Sample=%{y}<extra></extra>",
         "legendgroup": "Ciliates",
         "marker": {
          "color": "#F0E442",
          "pattern": {
           "shape": ""
          }
         },
         "name": "Ciliates",
         "offsetgroup": "Ciliates",
         "orientation": "h",
         "showlegend": true,
         "type": "histogram",
         "x": [
          112.0904417141781,
          469.087156393658,
          91.6987870479665,
          179.84104033036772,
          672.5149546233348,
          506.5633732471969,
          128.078896876627,
          804.079199043602,
          48.0297145173447,
          571.6259148408648,
          157.759810688227,
          1.60130666623965,
          48.3622940759383,
          2983.123826618741,
          265.7775403999769,
          64.0456005373115,
          250.1630618664695,
          390.852286475762,
          64.0514974206788,
          587.8733565244854,
          183.04719874184178,
          1062.505887857165,
          329.7414863337912
         ],
         "xaxis": "x",
         "y": [
          "1",
          "10",
          "11",
          "12",
          "13",
          "14",
          "15",
          "16",
          "17",
          "18",
          "19",
          "2",
          "20",
          "21",
          "22",
          "23",
          "24",
          "25",
          "4",
          "5",
          "6",
          "7",
          "8"
         ],
         "yaxis": "y"
        },
        {
         "alignmentgroup": "True",
         "bingroup": "y",
         "histfunc": "sum",
         "hovertemplate": "Taxon_grouped=Detritus<br>sum of density_cell_L=%{x}<br>Sample=%{y}<extra></extra>",
         "legendgroup": "Detritus",
         "marker": {
          "color": "#00cc96",
          "pattern": {
           "shape": ""
          }
         },
         "name": "Detritus",
         "offsetgroup": "Detritus",
         "orientation": "h",
         "showlegend": true,
         "type": "histogram",
         "x": [
          8822.94049969181,
          626707.184424825,
          122404.991994954,
          139908.215645311,
          81950.0906919263,
          87464.1713842499,
          16025.9281986033,
          361418.727051977,
          9237.66004398841,
          162139.911318098,
          118199.190084378,
          5245.7353551197,
          80667.1175420541,
          568608.145570447,
          63077.0858839957,
          28356.9524413815,
          91259.4641120441,
          59929.2405399789,
          1247.37143173457,
          44088.0916080136,
          93806.4313681148,
          67629.5083611107,
          166181.867055681,
          110542.614572858
         ],
         "xaxis": "x",
         "y": [
          "1",
          "10",
          "11",
          "12",
          "13",
          "14",
          "15",
          "16",
          "17",
          "18",
          "19",
          "2",
          "20",
          "21",
          "22",
          "23",
          "24",
          "25",
          "3",
          "4",
          "5",
          "6",
          "7",
          "8"
         ],
         "yaxis": "y"
        },
        {
         "alignmentgroup": "True",
         "bingroup": "y",
         "histfunc": "sum",
         "hovertemplate": "Taxon_grouped=Mollusca<br>sum of density_cell_L=%{x}<br>Sample=%{y}<extra></extra>",
         "legendgroup": "Mollusca",
         "marker": {
          "color": "#89CE00",
          "pattern": {
           "shape": ""
          }
         },
         "name": "Mollusca",
         "offsetgroup": "Mollusca",
         "orientation": "h",
         "showlegend": true,
         "type": "histogram",
         "x": [
          16.0143488565755,
          35.8076413506642,
          240.178308376138,
          251.29902153402088,
          32.0202370379295,
          767.032924888301,
          2.14137347694811,
          2173.29595855658,
          572.027218337098,
          39.9305208936451,
          65.5538893942001,
          6.40502153688492,
          16.0115283003763,
          89.7132540118646,
          1390.091462360713,
          311.358578894743
         ],
         "xaxis": "x",
         "y": [
          "1",
          "11",
          "13",
          "14",
          "15",
          "16",
          "2",
          "21",
          "22",
          "24",
          "25",
          "3",
          "4",
          "5",
          "7",
          "8"
         ],
         "yaxis": "y"
        },
        {
         "alignmentgroup": "True",
         "bingroup": "y",
         "histfunc": "sum",
         "hovertemplate": "Taxon_grouped=Pleurosira laevis<br>sum of density_cell_L=%{x}<br>Sample=%{y}<extra></extra>",
         "legendgroup": "Pleurosira laevis",
         "marker": {
          "color": "#ab63fa",
          "pattern": {
           "shape": ""
          }
         },
         "name": "Pleurosira laevis",
         "offsetgroup": "Pleurosira laevis",
         "orientation": "h",
         "showlegend": true,
         "type": "histogram",
         "x": [
          46.0221519958273,
          48.0391999871895,
          42.5032727520019,
          16.0130666623965,
          33.5660580021482,
          3.2026133324793,
          37.5897455174228,
          29.6220229866898,
          97.8952520802741
         ],
         "xaxis": "x",
         "y": [
          "12",
          "13",
          "22",
          "23",
          "25",
          "3",
          "5",
          "6",
          "7"
         ],
         "yaxis": "y"
        },
        {
         "alignmentgroup": "True",
         "bingroup": "y",
         "histfunc": "sum",
         "hovertemplate": "Taxon_grouped=Rotifera<br>sum of density_cell_L=%{x}<br>Sample=%{y}<extra></extra>",
         "legendgroup": "Rotifera",
         "marker": {
          "color": "#FFA15A",
          "pattern": {
           "shape": ""
          }
         },
         "name": "Rotifera",
         "offsetgroup": "Rotifera",
         "orientation": "h",
         "showlegend": true,
         "type": "histogram",
         "x": [
          48.0345849011288,
          42.5032727520019,
          87.3194670019734,
          45.1377604448778
         ],
         "xaxis": "x",
         "y": [
          "13",
          "22",
          "7",
          "8"
         ],
         "yaxis": "y"
        },
        {
         "alignmentgroup": "True",
         "bingroup": "y",
         "histfunc": "sum",
         "hovertemplate": "Taxon_grouped=Porifera spicule<br>sum of density_cell_L=%{x}<br>Sample=%{y}<extra></extra>",
         "legendgroup": "Porifera spicule",
         "marker": {
          "color": "#19d3f3",
          "pattern": {
           "shape": ""
          }
         },
         "name": "Porifera spicule",
         "offsetgroup": "Porifera spicule",
         "orientation": "h",
         "showlegend": true,
         "type": "histogram",
         "x": [
          150.806816468104,
          16.0105028898958,
          302.096550057398
         ],
         "xaxis": "x",
         "y": [
          "16",
          "17",
          "21"
         ],
         "yaxis": "y"
        },
        {
         "alignmentgroup": "True",
         "bingroup": "y",
         "histfunc": "sum",
         "hovertemplate": "Taxon_grouped=Annelida<br>sum of density_cell_L=%{x}<br>Sample=%{y}<extra></extra>",
         "legendgroup": "Annelida",
         "marker": {
          "color": "#D55E00",
          "pattern": {
           "shape": ""
          }
         },
         "name": "Annelida",
         "offsetgroup": "Annelida",
         "orientation": "h",
         "showlegend": true,
         "type": "histogram",
         "x": [
          272.323738460282
         ],
         "xaxis": "x",
         "y": [
          "21"
         ],
         "yaxis": "y"
        }
       ],
       "layout": {
        "autosize": false,
        "barmode": "relative",
        "font": {
         "color": "black",
         "family": "Times New Roman, serif",
         "size": 8
        },
        "height": 264.56692913385825,
        "legend": {
         "title": {
          "text": "Taxon_grouped"
         },
         "tracegroupgap": 0
        },
        "margin": {
         "b": 25,
         "l": 0,
         "r": 25,
         "t": 25
        },
        "showlegend": false,
        "template": {
         "data": {
          "bar": [
           {
            "error_x": {
             "color": "#2a3f5f"
            },
            "error_y": {
             "color": "#2a3f5f"
            },
            "marker": {
             "line": {
              "color": "#E5ECF6",
              "width": 0.5
             },
             "pattern": {
              "fillmode": "overlay",
              "size": 10,
              "solidity": 0.2
             }
            },
            "type": "bar"
           }
          ],
          "barpolar": [
           {
            "marker": {
             "line": {
              "color": "#E5ECF6",
              "width": 0.5
             },
             "pattern": {
              "fillmode": "overlay",
              "size": 10,
              "solidity": 0.2
             }
            },
            "type": "barpolar"
           }
          ],
          "carpet": [
           {
            "aaxis": {
             "endlinecolor": "#2a3f5f",
             "gridcolor": "white",
             "linecolor": "white",
             "minorgridcolor": "white",
             "startlinecolor": "#2a3f5f"
            },
            "baxis": {
             "endlinecolor": "#2a3f5f",
             "gridcolor": "white",
             "linecolor": "white",
             "minorgridcolor": "white",
             "startlinecolor": "#2a3f5f"
            },
            "type": "carpet"
           }
          ],
          "choropleth": [
           {
            "colorbar": {
             "outlinewidth": 0,
             "ticks": ""
            },
            "type": "choropleth"
           }
          ],
          "contour": [
           {
            "colorbar": {
             "outlinewidth": 0,
             "ticks": ""
            },
            "colorscale": [
             [
              0,
              "#0d0887"
             ],
             [
              0.1111111111111111,
              "#46039f"
             ],
             [
              0.2222222222222222,
              "#7201a8"
             ],
             [
              0.3333333333333333,
              "#9c179e"
             ],
             [
              0.4444444444444444,
              "#bd3786"
             ],
             [
              0.5555555555555556,
              "#d8576b"
             ],
             [
              0.6666666666666666,
              "#ed7953"
             ],
             [
              0.7777777777777778,
              "#fb9f3a"
             ],
             [
              0.8888888888888888,
              "#fdca26"
             ],
             [
              1,
              "#f0f921"
             ]
            ],
            "type": "contour"
           }
          ],
          "contourcarpet": [
           {
            "colorbar": {
             "outlinewidth": 0,
             "ticks": ""
            },
            "type": "contourcarpet"
           }
          ],
          "heatmap": [
           {
            "colorbar": {
             "outlinewidth": 0,
             "ticks": ""
            },
            "colorscale": [
             [
              0,
              "#0d0887"
             ],
             [
              0.1111111111111111,
              "#46039f"
             ],
             [
              0.2222222222222222,
              "#7201a8"
             ],
             [
              0.3333333333333333,
              "#9c179e"
             ],
             [
              0.4444444444444444,
              "#bd3786"
             ],
             [
              0.5555555555555556,
              "#d8576b"
             ],
             [
              0.6666666666666666,
              "#ed7953"
             ],
             [
              0.7777777777777778,
              "#fb9f3a"
             ],
             [
              0.8888888888888888,
              "#fdca26"
             ],
             [
              1,
              "#f0f921"
             ]
            ],
            "type": "heatmap"
           }
          ],
          "heatmapgl": [
           {
            "colorbar": {
             "outlinewidth": 0,
             "ticks": ""
            },
            "colorscale": [
             [
              0,
              "#0d0887"
             ],
             [
              0.1111111111111111,
              "#46039f"
             ],
             [
              0.2222222222222222,
              "#7201a8"
             ],
             [
              0.3333333333333333,
              "#9c179e"
             ],
             [
              0.4444444444444444,
              "#bd3786"
             ],
             [
              0.5555555555555556,
              "#d8576b"
             ],
             [
              0.6666666666666666,
              "#ed7953"
             ],
             [
              0.7777777777777778,
              "#fb9f3a"
             ],
             [
              0.8888888888888888,
              "#fdca26"
             ],
             [
              1,
              "#f0f921"
             ]
            ],
            "type": "heatmapgl"
           }
          ],
          "histogram": [
           {
            "marker": {
             "pattern": {
              "fillmode": "overlay",
              "size": 10,
              "solidity": 0.2
             }
            },
            "type": "histogram"
           }
          ],
          "histogram2d": [
           {
            "colorbar": {
             "outlinewidth": 0,
             "ticks": ""
            },
            "colorscale": [
             [
              0,
              "#0d0887"
             ],
             [
              0.1111111111111111,
              "#46039f"
             ],
             [
              0.2222222222222222,
              "#7201a8"
             ],
             [
              0.3333333333333333,
              "#9c179e"
             ],
             [
              0.4444444444444444,
              "#bd3786"
             ],
             [
              0.5555555555555556,
              "#d8576b"
             ],
             [
              0.6666666666666666,
              "#ed7953"
             ],
             [
              0.7777777777777778,
              "#fb9f3a"
             ],
             [
              0.8888888888888888,
              "#fdca26"
             ],
             [
              1,
              "#f0f921"
             ]
            ],
            "type": "histogram2d"
           }
          ],
          "histogram2dcontour": [
           {
            "colorbar": {
             "outlinewidth": 0,
             "ticks": ""
            },
            "colorscale": [
             [
              0,
              "#0d0887"
             ],
             [
              0.1111111111111111,
              "#46039f"
             ],
             [
              0.2222222222222222,
              "#7201a8"
             ],
             [
              0.3333333333333333,
              "#9c179e"
             ],
             [
              0.4444444444444444,
              "#bd3786"
             ],
             [
              0.5555555555555556,
              "#d8576b"
             ],
             [
              0.6666666666666666,
              "#ed7953"
             ],
             [
              0.7777777777777778,
              "#fb9f3a"
             ],
             [
              0.8888888888888888,
              "#fdca26"
             ],
             [
              1,
              "#f0f921"
             ]
            ],
            "type": "histogram2dcontour"
           }
          ],
          "mesh3d": [
           {
            "colorbar": {
             "outlinewidth": 0,
             "ticks": ""
            },
            "type": "mesh3d"
           }
          ],
          "parcoords": [
           {
            "line": {
             "colorbar": {
              "outlinewidth": 0,
              "ticks": ""
             }
            },
            "type": "parcoords"
           }
          ],
          "pie": [
           {
            "automargin": true,
            "type": "pie"
           }
          ],
          "scatter": [
           {
            "marker": {
             "colorbar": {
              "outlinewidth": 0,
              "ticks": ""
             }
            },
            "type": "scatter"
           }
          ],
          "scatter3d": [
           {
            "line": {
             "colorbar": {
              "outlinewidth": 0,
              "ticks": ""
             }
            },
            "marker": {
             "colorbar": {
              "outlinewidth": 0,
              "ticks": ""
             }
            },
            "type": "scatter3d"
           }
          ],
          "scattercarpet": [
           {
            "marker": {
             "colorbar": {
              "outlinewidth": 0,
              "ticks": ""
             }
            },
            "type": "scattercarpet"
           }
          ],
          "scattergeo": [
           {
            "marker": {
             "colorbar": {
              "outlinewidth": 0,
              "ticks": ""
             }
            },
            "type": "scattergeo"
           }
          ],
          "scattergl": [
           {
            "marker": {
             "colorbar": {
              "outlinewidth": 0,
              "ticks": ""
             }
            },
            "type": "scattergl"
           }
          ],
          "scattermapbox": [
           {
            "marker": {
             "colorbar": {
              "outlinewidth": 0,
              "ticks": ""
             }
            },
            "type": "scattermapbox"
           }
          ],
          "scatterpolar": [
           {
            "marker": {
             "colorbar": {
              "outlinewidth": 0,
              "ticks": ""
             }
            },
            "type": "scatterpolar"
           }
          ],
          "scatterpolargl": [
           {
            "marker": {
             "colorbar": {
              "outlinewidth": 0,
              "ticks": ""
             }
            },
            "type": "scatterpolargl"
           }
          ],
          "scatterternary": [
           {
            "marker": {
             "colorbar": {
              "outlinewidth": 0,
              "ticks": ""
             }
            },
            "type": "scatterternary"
           }
          ],
          "surface": [
           {
            "colorbar": {
             "outlinewidth": 0,
             "ticks": ""
            },
            "colorscale": [
             [
              0,
              "#0d0887"
             ],
             [
              0.1111111111111111,
              "#46039f"
             ],
             [
              0.2222222222222222,
              "#7201a8"
             ],
             [
              0.3333333333333333,
              "#9c179e"
             ],
             [
              0.4444444444444444,
              "#bd3786"
             ],
             [
              0.5555555555555556,
              "#d8576b"
             ],
             [
              0.6666666666666666,
              "#ed7953"
             ],
             [
              0.7777777777777778,
              "#fb9f3a"
             ],
             [
              0.8888888888888888,
              "#fdca26"
             ],
             [
              1,
              "#f0f921"
             ]
            ],
            "type": "surface"
           }
          ],
          "table": [
           {
            "cells": {
             "fill": {
              "color": "#EBF0F8"
             },
             "line": {
              "color": "white"
             }
            },
            "header": {
             "fill": {
              "color": "#C8D4E3"
             },
             "line": {
              "color": "white"
             }
            },
            "type": "table"
           }
          ]
         },
         "layout": {
          "annotationdefaults": {
           "arrowcolor": "#2a3f5f",
           "arrowhead": 0,
           "arrowwidth": 1
          },
          "autotypenumbers": "strict",
          "coloraxis": {
           "colorbar": {
            "outlinewidth": 0,
            "ticks": ""
           }
          },
          "colorscale": {
           "diverging": [
            [
             0,
             "#8e0152"
            ],
            [
             0.1,
             "#c51b7d"
            ],
            [
             0.2,
             "#de77ae"
            ],
            [
             0.3,
             "#f1b6da"
            ],
            [
             0.4,
             "#fde0ef"
            ],
            [
             0.5,
             "#f7f7f7"
            ],
            [
             0.6,
             "#e6f5d0"
            ],
            [
             0.7,
             "#b8e186"
            ],
            [
             0.8,
             "#7fbc41"
            ],
            [
             0.9,
             "#4d9221"
            ],
            [
             1,
             "#276419"
            ]
           ],
           "sequential": [
            [
             0,
             "#0d0887"
            ],
            [
             0.1111111111111111,
             "#46039f"
            ],
            [
             0.2222222222222222,
             "#7201a8"
            ],
            [
             0.3333333333333333,
             "#9c179e"
            ],
            [
             0.4444444444444444,
             "#bd3786"
            ],
            [
             0.5555555555555556,
             "#d8576b"
            ],
            [
             0.6666666666666666,
             "#ed7953"
            ],
            [
             0.7777777777777778,
             "#fb9f3a"
            ],
            [
             0.8888888888888888,
             "#fdca26"
            ],
            [
             1,
             "#f0f921"
            ]
           ],
           "sequentialminus": [
            [
             0,
             "#0d0887"
            ],
            [
             0.1111111111111111,
             "#46039f"
            ],
            [
             0.2222222222222222,
             "#7201a8"
            ],
            [
             0.3333333333333333,
             "#9c179e"
            ],
            [
             0.4444444444444444,
             "#bd3786"
            ],
            [
             0.5555555555555556,
             "#d8576b"
            ],
            [
             0.6666666666666666,
             "#ed7953"
            ],
            [
             0.7777777777777778,
             "#fb9f3a"
            ],
            [
             0.8888888888888888,
             "#fdca26"
            ],
            [
             1,
             "#f0f921"
            ]
           ]
          },
          "colorway": [
           "#636efa",
           "#EF553B",
           "#00cc96",
           "#ab63fa",
           "#FFA15A",
           "#19d3f3",
           "#FF6692",
           "#B6E880",
           "#FF97FF",
           "#FECB52"
          ],
          "font": {
           "color": "#2a3f5f"
          },
          "geo": {
           "bgcolor": "white",
           "lakecolor": "white",
           "landcolor": "#E5ECF6",
           "showlakes": true,
           "showland": true,
           "subunitcolor": "white"
          },
          "hoverlabel": {
           "align": "left"
          },
          "hovermode": "closest",
          "mapbox": {
           "style": "light"
          },
          "paper_bgcolor": "white",
          "plot_bgcolor": "#E5ECF6",
          "polar": {
           "angularaxis": {
            "gridcolor": "white",
            "linecolor": "white",
            "ticks": ""
           },
           "bgcolor": "#E5ECF6",
           "radialaxis": {
            "gridcolor": "white",
            "linecolor": "white",
            "ticks": ""
           }
          },
          "scene": {
           "xaxis": {
            "backgroundcolor": "#E5ECF6",
            "gridcolor": "white",
            "gridwidth": 2,
            "linecolor": "white",
            "showbackground": true,
            "ticks": "",
            "zerolinecolor": "white"
           },
           "yaxis": {
            "backgroundcolor": "#E5ECF6",
            "gridcolor": "white",
            "gridwidth": 2,
            "linecolor": "white",
            "showbackground": true,
            "ticks": "",
            "zerolinecolor": "white"
           },
           "zaxis": {
            "backgroundcolor": "#E5ECF6",
            "gridcolor": "white",
            "gridwidth": 2,
            "linecolor": "white",
            "showbackground": true,
            "ticks": "",
            "zerolinecolor": "white"
           }
          },
          "shapedefaults": {
           "line": {
            "color": "#2a3f5f"
           }
          },
          "ternary": {
           "aaxis": {
            "gridcolor": "white",
            "linecolor": "white",
            "ticks": ""
           },
           "baxis": {
            "gridcolor": "white",
            "linecolor": "white",
            "ticks": ""
           },
           "bgcolor": "#E5ECF6",
           "caxis": {
            "gridcolor": "white",
            "linecolor": "white",
            "ticks": ""
           }
          },
          "title": {
           "x": 0.05
          },
          "xaxis": {
           "automargin": true,
           "gridcolor": "white",
           "linecolor": "white",
           "ticks": "",
           "title": {
            "standoff": 15
           },
           "zerolinecolor": "white",
           "zerolinewidth": 2
          },
          "yaxis": {
           "automargin": true,
           "gridcolor": "white",
           "linecolor": "white",
           "ticks": "",
           "title": {
            "standoff": 15
           },
           "zerolinecolor": "white",
           "zerolinewidth": 2
          }
         }
        },
        "title": {
         "text": "Station 130"
        },
        "width": 188.97637795275588,
        "xaxis": {
         "anchor": "y",
         "domain": [
          0,
          1
         ],
         "title": {
          "text": "Relative Phytoplankton Abundance"
         }
        },
        "yaxis": {
         "anchor": "x",
         "categoryarray": [
          "25",
          "24",
          "23",
          "22",
          "21",
          "20",
          "19",
          "18",
          "17",
          "16",
          "15",
          "14",
          "13",
          "12",
          "11",
          "10",
          "9",
          "8",
          "7",
          "6",
          "5",
          "4",
          "3",
          "2",
          "1"
         ],
         "categoryorder": "array",
         "domain": [
          0,
          1
         ],
         "title": {
          "text": ""
         }
        }
       }
      }
     },
     "metadata": {},
     "output_type": "display_data"
    }
   ],
   "source": [
    "stations = ['51', '130']\n",
    "\n",
    "cm_to_px = 96 / 2.54  # Conversion factor from centimeters to pixels\n",
    "width_in_cm = 5\n",
    "height_in_cm = 7\n",
    "\n",
    "tax_colors = {}\n",
    "\n",
    "for station in stations:        \n",
    "    grouped_df = flowcam[flowcam['Station'] == station][['Comments', 'Taxon_grouped', 'density_cell_L']]\n",
    "    grouped_df = grouped_df.groupby(['Comments', 'Taxon_grouped']).agg({'density_cell_L':'sum'}).reset_index()\n",
    "    \n",
    "    grouped_df[\"rel_occurrence\"] = grouped_df.groupby(['Comments'])['density_cell_L'].transform(lambda x: x / x.sum())\n",
    "    \n",
    "    # Split station into prefix and suffix and change to integer\n",
    "    grouped_df['Sample'] = [x.split('_')[1] for x in grouped_df['Comments']]\n",
    "    \n",
    "    fig = px.histogram(grouped_df.sort_values([\"Sample\", 'Taxon_grouped'], ascending=[True, True]), \n",
    "                x=\"density_cell_L\", \n",
    "                y=\"Sample\",\n",
    "                color='Taxon_grouped',\n",
    "                category_orders={\n",
    "                    \"Sample\": ['1', '2', '3', '4', '5', '6', '7', '8', '9', '10',\n",
    "                               '11', '12', '13', '14', '15', '16', '17', '18', '19', '20',\n",
    "                               '21', '22', '23', '24', '25'],\n",
    "                    \"Taxon_grouped\": [\"Rare\", \"Bacillariophyta\", \"Dinophyceae\",\n",
    "                                      \"Prymnesiophyceae\"]\n",
    "                },\n",
    "                color_discrete_map={\n",
    "                    \"Rare\": \"#545454\",\n",
    "                    \"Bacillariophyta\": \"#E69F00\",\n",
    "                    \"Dinophyceae\": \"#56B4E9\",\n",
    "                    \"Prymnesiophyceae\": \"#009E73\",\n",
    "                    \"Ciliates\": \"#F0E442\",\n",
    "                    \"Arthropoda\": \"#0072B2\",\n",
    "                    \"Annelida\": \"#D55E00\",\n",
    "                    \"Craniata\": \"#CC79A7\",\n",
    "                    \"Urocordata\": \"#B5B5B5\",\n",
    "                    \"Echinodermata\": \"#55EEFF\",\n",
    "                    \"Cnidaria\": \"#A42324\",\n",
    "                    \"Mollusca\": \"#89CE00\",\n",
    "                },                \n",
    "                orientation='h'\n",
    "            )\n",
    "\n",
    "    fig.update_layout(\n",
    "        font=dict(\n",
    "            family=\"Times New Roman, serif\",  # Set the font family to Times New Roman\n",
    "            size=8,  # Set the font size\n",
    "            color=\"black\"  # Set the font color\n",
    "        ),\n",
    "        autosize=False,\n",
    "        width=width_in_cm * cm_to_px,\n",
    "        height=height_in_cm * cm_to_px,\n",
    "        margin=dict( # Set the margins\n",
    "            l=0,  # Left margin\n",
    "            r=25,  # Right margin\n",
    "            b=25,  # Bottom margin\n",
    "            t=25  # Top margin\n",
    "        ),\n",
    "        showlegend=False,\n",
    "        xaxis_title_text='Relative Phytoplankton Abundance',\n",
    "        title_text='Station {}'.format(station),\n",
    "        yaxis_title_text=''\n",
    "    )\n",
    "\n",
    "    fig.show()\n",
    "\n",
    "    for trace in fig.data:\n",
    "        # If trace is not in the dictionary, add it\n",
    "        if trace.name not in tax_colors:\n",
    "            # If trace contains a color already in use, give an error\n",
    "            if trace.marker.color in tax_colors.values():\n",
    "                raise ValueError(f'Color for {trace.name} already in use, review color disctrete map')\n",
    "            tax_colors[trace.name] = trace.marker.color\n",
    "           \n",
    "    # Save figure as svg\n",
    "    fig.write_image(\"../figures/phytoplankton/flowcam_absolute_occurrence_{}.svg\".format(station), scale=1)\n",
    "    fig.write_image(\"../figures/phytoplankton/flowcam_absolute_occurrence_{}.png\".format(station), scale=1)"
   ]
  },
  {
   "cell_type": "code",
   "execution_count": 119,
   "metadata": {},
   "outputs": [
    {
     "name": "stderr",
     "output_type": "stream",
     "text": [
      "/var/folders/sw/y59p6zb57zd9ntdpcr65r3q40000gn/T/ipykernel_24060/1717957430.py:21: UserWarning:\n",
      "\n",
      "FixedFormatter should only be used together with FixedLocator\n",
      "\n"
     ]
    },
    {
     "data": {
      "image/png": "[encoded data removed]",
      "text/plain": [
       "<Figure size 36x504 with 1 Axes>"
      ]
     },
     "metadata": {
      "needs_background": "light"
     },
     "output_type": "display_data"
    }
   ],
   "source": [
    " # extract the x labels and y values from the dictionary\n",
    "x_labels = list(tax_colors.keys())\n",
    "y_values = list(tax_colors.values())\n",
    "y_placeholders = [1] * len(y_values)\n",
    "\n",
    "# create the bar plot\n",
    "fig, ax = plt.subplots()\n",
    "ax.barh(x_labels, y_placeholders, color=y_values)\n",
    "\n",
    "ax.set_xlabel(None)\n",
    "ax.set_xticklabels([])\n",
    "\n",
    "# Remove the frame of the chart\n",
    "ax.spines['top'].set_visible(False)\n",
    "ax.spines['right'].set_visible(False)\n",
    "ax.spines['bottom'].set_visible(False)\n",
    "ax.spines['left'].set_visible(False)\n",
    "\n",
    "# Remove y ticks, not labels\n",
    "plt.tick_params(axis='y', which='both', length=0)\n",
    "ax.set_yticklabels(x_labels, fontsize=12, fontname='Times New Roman')\n",
    "\n",
    "# Adjust the size\n",
    "plt.gcf().set_size_inches(0.5, 7)\n",
    "\n",
    "# Save legend as svg\n",
    "fig.savefig(f\"../figures/phytoplankton/legend.svg\", format=\"svg\", bbox_inches='tight')\n",
    "fig.savefig(f\"../figures/phytoplankton/legend.png\", format=\"png\", bbox_inches='tight')\n",
    "\n",
    "plt.show()"
   ]
  },
  {
   "cell_type": "code",
   "execution_count": null,
   "metadata": {},
   "outputs": [],
   "source": []
  }
 ],
 "metadata": {
  "kernelspec": {
   "display_name": "Python 3",
   "language": "python",
   "name": "python3"
  },
  "language_info": {
   "codemirror_mode": {
    "name": "ipython",
    "version": 3
   },
   "file_extension": ".py",
   "mimetype": "text/x-python",
   "name": "python",
   "nbconvert_exporter": "python",
   "pygments_lexer": "ipython3",
   "version": "3.9.12"
  }
 },
 "nbformat": 4,
 "nbformat_minor": 2
}
