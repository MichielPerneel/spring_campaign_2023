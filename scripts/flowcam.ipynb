{
 "cells": [
  {
   "cell_type": "markdown",
   "metadata": {},
   "source": [
    "# Analysis of Phytoplankton data from FlowCam\n",
    "The Flowcam is an automated system for image analysis. In the LifeWatch framework, the Flowcam is used to measure the biomass of phytoplankton in the water column. At a sampling station, 50L of sea surface water was collected using a stainless-steel bucket and filtered through a 55µm mesh size Apstein net (1.2 m long, 0.5 m diameter). The filtered sample is transferred to a plastic falcon and fixed with acid Lugol’s iodine solution (1-5%). Samples are stored in the dark at 4°C until laboratory processing. In the lab, samples are processed using the FlowCAM VS-4 bench model (Fluid Imaging Technologies, Yarmouth, Maine, U.S.A.) equipped with a Sony XCD SC90 digital grey-scale camera and VisualSpreadsheet® software (version 4.2.52). For more details on Flowcam methodology, see paper. The FlowCAM output consists of cropped image collages, image parameters, and processing metadata. This output is then linked to sampling metadata from the ships information system (MIDAS) and is uploaded to a central database. Convolutional neural networks (CNN) are trained on human validated images. The current model version can recognize over 90 FlowCAM image classes with an accuracy of around 87%. Cell densities are calculated using the filtered volume of sea surface water, the volume of the sample measured in the lab, the fluid volume imaged, the particle count measured by the FlowCAM device, and a dilution factor calculated from the dilution of samples based on the PPUI accounted for during the sample run:\n",
    "\n",
    "$$density\\:\\frac{cells}{L} = \\frac{particle\\:count * sample\\:volume\\:(mL)}{fluid\\:volume\\:imaged\\:(mL) * dilution\\:factor * volume\\:filtered\\:(L)}$$\n",
    "\n",
    "Once predictions have been manually verified, the resulting cell densities are aggregated per predicted taxonomic level and made available through the Belgian LifeWatch RShiny application available at https://rshiny.lifewatch.be/flowcam-data/. Since the upload did not happen yet, the recent data is downloaded directly from MongoDB using the [export R script](FlowCam_export.R). Let's first load and check this data."
   ]
  },
  {
   "cell_type": "code",
   "execution_count": 1,
   "metadata": {},
   "outputs": [],
   "source": [
    "# Load libraries\n",
    "import pandas as pd\n",
    "import numpy as np\n",
    "import seaborn as sns\n",
    "import plotly.express as px\n",
    "import matplotlib.pyplot as plt"
   ]
  },
  {
   "cell_type": "code",
   "execution_count": 2,
   "metadata": {},
   "outputs": [
    {
     "data": {
      "text/html": [
       "<div>\n",
       "<style scoped>\n",
       "    .dataframe tbody tr th:only-of-type {\n",
       "        vertical-align: middle;\n",
       "    }\n",
       "\n",
       "    .dataframe tbody tr th {\n",
       "        vertical-align: top;\n",
       "    }\n",
       "\n",
       "    .dataframe thead th {\n",
       "        text-align: right;\n",
       "    }\n",
       "</style>\n",
       "<table border=\"1\" class=\"dataframe\">\n",
       "  <thead>\n",
       "    <tr style=\"text-align: right;\">\n",
       "      <th></th>\n",
       "      <th>Taxon</th>\n",
       "      <th>Station</th>\n",
       "      <th>Comments</th>\n",
       "      <th>Dil</th>\n",
       "      <th>Tripactionid</th>\n",
       "      <th>FVI</th>\n",
       "      <th>Sample_DateTime</th>\n",
       "      <th>Sample_volume</th>\n",
       "      <th>Taxon_count_sample</th>\n",
       "      <th>density_cell_L_sample</th>\n",
       "      <th>Total_count_sample</th>\n",
       "      <th>Rel_ab_sample</th>\n",
       "      <th>Total_density_sample</th>\n",
       "      <th>Rel_dens_sample</th>\n",
       "    </tr>\n",
       "  </thead>\n",
       "  <tbody>\n",
       "    <tr>\n",
       "      <th>0</th>\n",
       "      <td>Actinoptychus</td>\n",
       "      <td>130</td>\n",
       "      <td>130_1</td>\n",
       "      <td>0.1</td>\n",
       "      <td>118687</td>\n",
       "      <td>6.244567</td>\n",
       "      <td>2023-04-20 08:00:17</td>\n",
       "      <td>258</td>\n",
       "      <td>3</td>\n",
       "      <td>24.789550</td>\n",
       "      <td>1381</td>\n",
       "      <td>0.217234</td>\n",
       "      <td>11410.626034</td>\n",
       "      <td>0.217250</td>\n",
       "    </tr>\n",
       "    <tr>\n",
       "      <th>1</th>\n",
       "      <td>Bacillariophyceae</td>\n",
       "      <td>130</td>\n",
       "      <td>130_1</td>\n",
       "      <td>0.1</td>\n",
       "      <td>118687</td>\n",
       "      <td>6.244854</td>\n",
       "      <td>2023-04-20 08:00:17</td>\n",
       "      <td>258</td>\n",
       "      <td>13</td>\n",
       "      <td>107.416445</td>\n",
       "      <td>1381</td>\n",
       "      <td>0.941347</td>\n",
       "      <td>11410.626034</td>\n",
       "      <td>0.941372</td>\n",
       "    </tr>\n",
       "    <tr>\n",
       "      <th>2</th>\n",
       "      <td>Bellerochea horologicalis</td>\n",
       "      <td>130</td>\n",
       "      <td>130_1</td>\n",
       "      <td>0.1</td>\n",
       "      <td>118687</td>\n",
       "      <td>6.244990</td>\n",
       "      <td>2023-04-20 08:00:17</td>\n",
       "      <td>258</td>\n",
       "      <td>10</td>\n",
       "      <td>82.626233</td>\n",
       "      <td>1381</td>\n",
       "      <td>0.724113</td>\n",
       "      <td>11410.626034</td>\n",
       "      <td>0.724117</td>\n",
       "    </tr>\n",
       "    <tr>\n",
       "      <th>3</th>\n",
       "      <td>Biddulphianae</td>\n",
       "      <td>130</td>\n",
       "      <td>130_1</td>\n",
       "      <td>0.1</td>\n",
       "      <td>118687</td>\n",
       "      <td>6.245033</td>\n",
       "      <td>2023-04-20 08:00:17</td>\n",
       "      <td>258</td>\n",
       "      <td>12</td>\n",
       "      <td>99.150792</td>\n",
       "      <td>1381</td>\n",
       "      <td>0.868936</td>\n",
       "      <td>11410.626034</td>\n",
       "      <td>0.868934</td>\n",
       "    </tr>\n",
       "    <tr>\n",
       "      <th>4</th>\n",
       "      <td>Bubbles</td>\n",
       "      <td>130</td>\n",
       "      <td>130_1</td>\n",
       "      <td>0.1</td>\n",
       "      <td>118687</td>\n",
       "      <td>6.245075</td>\n",
       "      <td>2023-04-20 08:00:17</td>\n",
       "      <td>258</td>\n",
       "      <td>4</td>\n",
       "      <td>33.050043</td>\n",
       "      <td>1381</td>\n",
       "      <td>0.289645</td>\n",
       "      <td>11410.626034</td>\n",
       "      <td>0.289643</td>\n",
       "    </tr>\n",
       "  </tbody>\n",
       "</table>\n",
       "</div>"
      ],
      "text/plain": [
       "                       Taxon  Station Comments  Dil  Tripactionid       FVI  \\\n",
       "0              Actinoptychus      130    130_1  0.1        118687  6.244567   \n",
       "1          Bacillariophyceae      130    130_1  0.1        118687  6.244854   \n",
       "2  Bellerochea horologicalis      130    130_1  0.1        118687  6.244990   \n",
       "3              Biddulphianae      130    130_1  0.1        118687  6.245033   \n",
       "4                    Bubbles      130    130_1  0.1        118687  6.245075   \n",
       "\n",
       "       Sample_DateTime  Sample_volume  Taxon_count_sample  \\\n",
       "0  2023-04-20 08:00:17            258                   3   \n",
       "1  2023-04-20 08:00:17            258                  13   \n",
       "2  2023-04-20 08:00:17            258                  10   \n",
       "3  2023-04-20 08:00:17            258                  12   \n",
       "4  2023-04-20 08:00:17            258                   4   \n",
       "\n",
       "   density_cell_L_sample  Total_count_sample  Rel_ab_sample  \\\n",
       "0              24.789550                1381       0.217234   \n",
       "1             107.416445                1381       0.941347   \n",
       "2              82.626233                1381       0.724113   \n",
       "3              99.150792                1381       0.868936   \n",
       "4              33.050043                1381       0.289645   \n",
       "\n",
       "   Total_density_sample  Rel_dens_sample  \n",
       "0          11410.626034         0.217250  \n",
       "1          11410.626034         0.941372  \n",
       "2          11410.626034         0.724117  \n",
       "3          11410.626034         0.868934  \n",
       "4          11410.626034         0.289643  "
      ]
     },
     "execution_count": 2,
     "metadata": {},
     "output_type": "execute_result"
    }
   ],
   "source": [
    "# load data\n",
    "flowcam = pd.read_csv('../data/raw/flowcam_validated.csv')\n",
    "\n",
    "# Remove JN identifiers from comments\n",
    "flowcam['Comments'] = flowcam['Comments'].str.replace('JN22_', '')\n",
    "\n",
    "# Inspect data\n",
    "flowcam.head()"
   ]
  },
  {
   "cell_type": "markdown",
   "metadata": {},
   "source": [
    "1. **Comments**: This column represents the sampling station and sampling event. \n",
    "2. **Sample_volume**: This column represents the volume of the sample that was processed, as extracted from the database (`metadata.sample_data.sample_volume_ml`). It indicates the amount of water (in milliliters) from which the organisms or particles were collected for analysis.\n",
    "\n",
    "3. **Taxon_count_sample**: This is calculated by aggregating the `Taxon` column based on a combination of `Taxon`, `Station`, and `Comments` columns (`to_aggregate_by`). The aggregation function used is `length`, which counts the number of occurrences for each unique combination of taxon, station, and comments. It represents the count of different taxa (types of organisms) found in each sample.\n",
    "\n",
    "4. **density_cell_L_sample**: This is a calculated field that represents the density of cells (organisms) per liter in the sample. It's calculated using the formula: \n",
    "   - ${density\\_cell\\_L\\_sample} = \\frac{\\text{Taxon\\_count\\_sample} \\times \\text{Sample\\_volume}}{\\text{FVI} \\times \\text{Dil} \\times 50}$\n",
    "   - **FVI** (Fluid Volume Imaged_ml) is the volume of the sample that was imaged.\n",
    "   - **Dil** is the dilution factor of the sample.\n",
    "   - The number 50 is the volume of seawater filtered in liters.\n",
    "\n",
    "5. **Total_count_sample**: This is the total count of organisms across all taxa in a particular sample. It is calculated by grouping the data by `Comments` and `Station` and summing up the `Taxon_count_sample` within these groups.\n",
    "\n",
    "6. **Rel_ab_sample** (Relative Abundance Sample): This column represents the relative abundance of each taxon in a sample as a percentage. It is calculated by dividing the `Taxon_count_sample` by the `Total_count_sample` for each group and multiplying by 100. \n",
    "\n",
    "7. **Total_density_sample**: This represents the total density of all cells across different taxa within a sample. It's calculated by summing up the `density_cell_L_sample` for each group, grouped by `Comments`.\n",
    "\n",
    "8. **Rel_dens_sample** (Relative Density Sample): Similar to relative abundance, this is the relative density of each taxon within a sample, calculated as a percentage. It's the density of each taxon (`density_cell_L_sample`) as a proportion of the total density (`Total_density_sample`) of the sample."
   ]
  },
  {
   "cell_type": "code",
   "execution_count": 3,
   "metadata": {},
   "outputs": [],
   "source": [
    "flowcam = flowcam[['Taxon', 'Comments', 'density_cell_L_sample']]\n",
    "\n",
    "# Split comments into station and station suffix\n",
    "flowcam['Station'] = flowcam.Comments.str.split('_').str[0]\n",
    "flowcam['Station_suffix'] = flowcam.Comments.str.split('_').str[1]"
   ]
  },
  {
   "cell_type": "code",
   "execution_count": 4,
   "metadata": {},
   "outputs": [],
   "source": [
    "# Remove uninteresting stuff\n",
    "taxa_to_delete = ['Artefact',\n",
    "                  'Bubbles',\n",
    "                  'Detritus',\n",
    "                  'Sediment',\n",
    "                  'Fibers',\n",
    "                  'Pollen',\n",
    "                  'Remnant',\n",
    "                  'Replicate',\n",
    "                  'Unknown',\n",
    "                  'Zooplankton',\n",
    "                  'Aggregate',\n",
    "                  'Unknown_5',\n",
    "                  'Unknown_3',\n",
    "                  'Unknown_6',\n",
    "                  'Flock',\n",
    "                  'Holothuroidea ossicles',\n",
    "                  'Ditylum brightwellii:process',\n",
    "                  'Biddulphianae:process',\n",
    "                  'Rhizosolenia:process',\n",
    "                  'Faecal pellet',\n",
    "                  'Egg/Cyst',\n",
    "                  'Crustaceae:part',\n",
    "                  'Porifera spicule']\n",
    "\n",
    "# Create a dataframe without the taxa to delete\n",
    "flowcam = flowcam.query('Taxon not in @taxa_to_delete')"
   ]
  },
  {
   "cell_type": "code",
   "execution_count": 5,
   "metadata": {},
   "outputs": [
    {
     "data": {
      "text/html": [
       "<div>\n",
       "<style scoped>\n",
       "    .dataframe tbody tr th:only-of-type {\n",
       "        vertical-align: middle;\n",
       "    }\n",
       "\n",
       "    .dataframe tbody tr th {\n",
       "        vertical-align: top;\n",
       "    }\n",
       "\n",
       "    .dataframe thead th {\n",
       "        text-align: right;\n",
       "    }\n",
       "</style>\n",
       "<table border=\"1\" class=\"dataframe\">\n",
       "  <thead>\n",
       "    <tr style=\"text-align: right;\">\n",
       "      <th></th>\n",
       "      <th>Taxon</th>\n",
       "      <th>Comments</th>\n",
       "      <th>density_cell_L_sample</th>\n",
       "      <th>Station</th>\n",
       "      <th>Station_suffix</th>\n",
       "      <th>Taxon_grouped</th>\n",
       "    </tr>\n",
       "  </thead>\n",
       "  <tbody>\n",
       "    <tr>\n",
       "      <th>0</th>\n",
       "      <td>Actinoptychus</td>\n",
       "      <td>130_1</td>\n",
       "      <td>24.789550</td>\n",
       "      <td>130</td>\n",
       "      <td>1</td>\n",
       "      <td>Bacillariophyta</td>\n",
       "    </tr>\n",
       "    <tr>\n",
       "      <th>1</th>\n",
       "      <td>Bacillariophyceae</td>\n",
       "      <td>130_1</td>\n",
       "      <td>107.416445</td>\n",
       "      <td>130</td>\n",
       "      <td>1</td>\n",
       "      <td>Bacillariophyta</td>\n",
       "    </tr>\n",
       "    <tr>\n",
       "      <th>2</th>\n",
       "      <td>Bellerochea horologicalis</td>\n",
       "      <td>130_1</td>\n",
       "      <td>82.626233</td>\n",
       "      <td>130</td>\n",
       "      <td>1</td>\n",
       "      <td>Bacillariophyta</td>\n",
       "    </tr>\n",
       "    <tr>\n",
       "      <th>3</th>\n",
       "      <td>Biddulphianae</td>\n",
       "      <td>130_1</td>\n",
       "      <td>99.150792</td>\n",
       "      <td>130</td>\n",
       "      <td>1</td>\n",
       "      <td>Bacillariophyta</td>\n",
       "    </tr>\n",
       "    <tr>\n",
       "      <th>5</th>\n",
       "      <td>Centric Diatom</td>\n",
       "      <td>130_1</td>\n",
       "      <td>99.149866</td>\n",
       "      <td>130</td>\n",
       "      <td>1</td>\n",
       "      <td>Bacillariophyta</td>\n",
       "    </tr>\n",
       "  </tbody>\n",
       "</table>\n",
       "</div>"
      ],
      "text/plain": [
       "                       Taxon Comments  density_cell_L_sample Station  \\\n",
       "0              Actinoptychus    130_1              24.789550     130   \n",
       "1          Bacillariophyceae    130_1             107.416445     130   \n",
       "2  Bellerochea horologicalis    130_1              82.626233     130   \n",
       "3              Biddulphianae    130_1              99.150792     130   \n",
       "5             Centric Diatom    130_1              99.149866     130   \n",
       "\n",
       "  Station_suffix    Taxon_grouped  \n",
       "0              1  Bacillariophyta  \n",
       "1              1  Bacillariophyta  \n",
       "2              1  Bacillariophyta  \n",
       "3              1  Bacillariophyta  \n",
       "5              1  Bacillariophyta  "
      ]
     },
     "execution_count": 5,
     "metadata": {},
     "output_type": "execute_result"
    }
   ],
   "source": [
    "# Group taxon levels into new identifiers\n",
    "flowcam['Taxon']\n",
    "\n",
    "diatoms = ['Actinoptychus','Actinoptychus senarius','Actinoptychus splendens','Bacillaria paxillifer','Bacillariophyceae','Bacteriastrum',\n",
    "           'Bellerochea horologicalis','Biddulphianae', 'Brockmanniella brockmannii', 'Centric Diatom','Ceratium horridum/C. longipes','Chaetoceros','Chaetoceros danicus',\n",
    "           'Cerataulus granulata','Cerataulina pelagica', 'Bellerochea', 'Dactyliosolen/Cerataulina/Guinardia','Diploneis','Ditylum brightwellii','Eucampia','Guinardia delicatula','Guinardia flaccida',\n",
    "           'Guinardia striata/Dactyliosolen phuketensis','Helicotheca tamesis','Hobaniella longicruris','Lauderia/Melosira/Detonula', 'Thalassiosira/Porosira',\n",
    "           'Lithodesmium undulatum','Long (chained) diatom','Melosira','Neocalyptrella robusta','Odontella rhombus f. trigona','Paralia', 'Asterionella',\n",
    "           'Pennate Diatom','Proboscia indica','Protoperidinium','Pseudo-nitzschia','Rhizosolenia','Rhizosolenia setigera (f. pungens)/R. hebetata f. semispina',\n",
    "           'Skeletonema','Stellarima stellaris/Podosira/Hyalodiscus','Synedra/Thalassionema','Triceratium favus','Trieres mobiliensis/T. regia','Trieres sinensis',\n",
    "           'Zygoceros','Aulacodiscus argus','Biddulphia alternans','Chaetoceros socialis','Coscinodiscus concinnus','Coscinodiscus granii','Coscinodiscus wailesii',\n",
    "           'Foraminifera','Leptocylindraceae','Plagiogrammopsis/Bellerochea malleus','Stephanopyxis','Thalassiosira/Porosira''Asterionella', 'Auliscus', 'Chaetoceros curvisetus/C. pseudocurvisetus',\n",
    "           'Meuniera membranacea', 'Odontella type 1', 'Proboscia', 'Proboscia alata', 'Ralfsiella smithii', 'Thalassiosira punctigera', 'Plagiogrammopsis vanheurckii', '(Pseudo-)pediastrum', \n",
    "       'Odontella aurita/Ralfsiella minima', 'Odontella rhombus var. trigona', 'Epiphytic diatom', 'Pennate diatom colony']\n",
    "\n",
    "dinoflagellates = ['Ceratium horridum/C. longipes', 'Dinoflagellata', 'Dinoflagellate cyst', 'Noctiluca scintillans', 'Noctilucales', 'Protoperidinium', 'Protoperidinium pentagonum',\n",
    "                   'Pseudo-nitzschia', 'Tripos', 'Tripos fusus', 'Tripos:part', 'Protoperidinium depressum', 'Dinophysis', 'Gymnodiniales', 'Tripos lineatus', 'Dissodinium pseudolunula']\n",
    "\n",
    "prymnesiophyceae = ['Phytoplankton Colony'] # Phytoplankton colonies are phaeocystis parts\n",
    "\n",
    "ciliates = ['Favella', 'Tintinnid cyst', 'Tintinnina', 'Tintinnopsis', 'Xystonella', 'Amphorellopsis','Ciliophora','Euntintinnus', \n",
    "            'Peritrichia', 'Strombidium', 'Ciliophora:part', 'Suctoria']\n",
    "\n",
    "mollusca = ['Mollusca', 'Mollusca incertae', 'Veliger larvae D-shaped']\n",
    "\n",
    "crustaceae = ['Nauplii', 'Decapoda', 'Copepoda adult', 'Crustacea']\n",
    "\n",
    "annelida = ['Polychaeta']\n",
    "\n",
    "echinodermata = ['Ophiuroidea/Echinoidea larvae']\n",
    "\n",
    "radiolaria = ['Nassellaria', 'Radiozoa incertae']\n",
    "\n",
    "# Swap the taxon names for the new identifiers\n",
    "flowcam['Taxon_grouped'] = flowcam['Taxon'].replace(diatoms, 'Bacillariophyta')\n",
    "flowcam['Taxon_grouped'] = flowcam['Taxon_grouped'].replace(dinoflagellates, 'Dinophyceae')\n",
    "flowcam['Taxon_grouped'] = flowcam['Taxon_grouped'].replace(prymnesiophyceae, 'Prymnesiophyceae')\n",
    "flowcam['Taxon_grouped'] = flowcam['Taxon_grouped'].replace(ciliates, 'Ciliates')\n",
    "flowcam['Taxon_grouped'] = flowcam['Taxon_grouped'].replace(mollusca, 'Mollusca')\n",
    "flowcam['Taxon_grouped'] = flowcam['Taxon_grouped'].replace(crustaceae, 'Arthropoda')\n",
    "flowcam['Taxon_grouped'] = flowcam['Taxon_grouped'].replace(annelida, 'Annelida')\n",
    "flowcam['Taxon_grouped'] = flowcam['Taxon_grouped'].replace(echinodermata, 'Echinodermata')\n",
    "flowcam['Taxon_grouped'] = flowcam['Taxon_grouped'].replace(radiolaria, 'Radiolaria')\n",
    "\n",
    "flowcam.head()"
   ]
  },
  {
   "cell_type": "code",
   "execution_count": 6,
   "metadata": {},
   "outputs": [
    {
     "name": "stdout",
     "output_type": "stream",
     "text": [
      "    Station                      Taxon  density_cell_L_sample\n",
      "44      130       Phytoplankton Colony          159092.584283\n",
      "47      130           Pseudo-nitzschia           32413.969888\n",
      "43      130             Pennate Diatom           17785.825581\n",
      "12      130             Centric Diatom           10935.996383\n",
      "11      130              Biddulphianae            9951.316952\n",
      "58      130           Trieres sinensis            9019.259881\n",
      "32      130      Long (chained) diatom            6349.688768\n",
      "8       130          Bacillariophyceae            5156.982598\n",
      "9       130                Bellerochea            3617.458501\n",
      "24      130       Ditylum brightwellii            3500.012225\n",
      "114      51                  Zygoceros            1506.926956\n",
      "71       51              Biddulphianae            1299.413661\n",
      "72       51             Centric Diatom             875.440249\n",
      "102      51       Phytoplankton Colony             702.114423\n",
      "92       51      Long (chained) diatom             587.996325\n",
      "112      51           Trieres sinensis             527.746848\n",
      "70       51  Bellerochea horologicalis             505.713402\n",
      "95       51                    Nauplii             497.322463\n",
      "97       51               Noctilucales             334.624755\n",
      "99       51                    Paralia             251.294011\n"
     ]
    }
   ],
   "source": [
    "# What are the most abundanct diatom taxa per station?\n",
    "# Create a dataframe with the most abundant taxa per station\n",
    "most_abundant_taxa = flowcam.groupby(['Station', 'Taxon'])['density_cell_L_sample'].sum().reset_index()\n",
    "most_abundant_taxa = most_abundant_taxa.sort_values(by='density_cell_L_sample', ascending=False)\n",
    "print(most_abundant_taxa.groupby('Station').head(10))"
   ]
  },
  {
   "cell_type": "code",
   "execution_count": 7,
   "metadata": {},
   "outputs": [
    {
     "data": {
      "application/vnd.plotly.v1+json": {
       "config": {
        "plotlyServerURL": "https://plot.ly"
       },
       "data": [
        {
         "alignmentgroup": "True",
         "bingroup": "y",
         "histfunc": "sum",
         "hovertemplate": "Taxon_grouped=Rare<br>sum of rel_occurrence=%{x}<br>Sample=%{y}<extra></extra>",
         "legendgroup": "Rare",
         "marker": {
          "color": "#545454",
          "pattern": {
           "shape": ""
          }
         },
         "name": "Rare",
         "offsetgroup": "Rare",
         "orientation": "h",
         "showlegend": true,
         "type": "histogram",
         "x": [
          0.006861165548682817,
          0.005145798640358716,
          0.0037305284603084956,
          0.009050685076742811,
          0.0015336662885153222,
          0.0010299202592306453,
          0.008087913726018173,
          0.0059759679219449245,
          0.002286258549830028,
          0.002286258549830028,
          0.007143763671648685,
          0.0023048001360069007,
          0.006171972243056887,
          0.003342769224712726,
          0.0028214392679568024,
          0.008911764401899653,
          0.005863683745655825,
          0.0068028848420123396,
          0.006803320582206217,
          0.007008272082594727,
          0.009205770089402283,
          0.00890647527952226,
          0.004632296039913503,
          0.005454349193408433,
          0.005454349193408433
         ],
         "xaxis": "x",
         "y": [
          "1",
          "1",
          "10",
          "11",
          "11",
          "12",
          "15",
          "17",
          "19",
          "19",
          "2",
          "2",
          "21",
          "3",
          "4",
          "4",
          "4",
          "5",
          "5",
          "7",
          "7",
          "8",
          "8",
          "9",
          "9"
         ],
         "yaxis": "y"
        },
        {
         "alignmentgroup": "True",
         "bingroup": "y",
         "histfunc": "sum",
         "hovertemplate": "Taxon_grouped=Bacillariophyta<br>sum of rel_occurrence=%{x}<br>Sample=%{y}<extra></extra>",
         "legendgroup": "Bacillariophyta",
         "marker": {
          "color": "#E69F00",
          "pattern": {
           "shape": ""
          }
         },
         "name": "Bacillariophyta",
         "offsetgroup": "Bacillariophyta",
         "orientation": "h",
         "showlegend": true,
         "type": "histogram",
         "x": [
          0.850771537489968,
          0.7784370420855404,
          0.7592346770774575,
          0.9423275986577877,
          0.8512949125215878,
          0.813861398980748,
          0.8429685156518957,
          0.5384552522088504,
          0.7714234476813824,
          0.7032636975569948,
          0.7818200605876696,
          0.9444647615744216,
          0.8866120649071239,
          0.83065933012807,
          0.7684737154258734,
          0.8095261954472398,
          0.8399908337918326,
          0.8099084922472181,
          0.8715733224452282,
          0.8329060253672429
         ],
         "xaxis": "x",
         "y": [
          "1",
          "10",
          "11",
          "12",
          "13",
          "15",
          "16",
          "17",
          "18",
          "19",
          "2",
          "20",
          "21",
          "3",
          "4",
          "5",
          "6",
          "7",
          "8",
          "9"
         ],
         "yaxis": "y"
        },
        {
         "alignmentgroup": "True",
         "bingroup": "y",
         "histfunc": "sum",
         "hovertemplate": "Taxon_grouped=Dinophyceae<br>sum of rel_occurrence=%{x}<br>Sample=%{y}<extra></extra>",
         "legendgroup": "Dinophyceae",
         "marker": {
          "color": "#56B4E9",
          "pattern": {
           "shape": ""
          }
         },
         "name": "Dinophyceae",
         "offsetgroup": "Dinophyceae",
         "orientation": "h",
         "showlegend": true,
         "type": "histogram",
         "x": [
          0.05831824557311101,
          0.03357475614277655,
          0.03227360330370469,
          0.0164776357891397,
          0.014789486947292464,
          0.028794631515992746,
          0.02137494780236392,
          0.06950763078880152,
          0.025911673794917,
          0.011930196928241191,
          0.030525707397148008,
          0.13441488302130525,
          0.14965714899760393,
          0.038294045648827706,
          0.12655406193124188,
          0.04510541065483726,
          0.050692958039775665
         ],
         "xaxis": "x",
         "y": [
          "1",
          "10",
          "11",
          "12",
          "13",
          "15",
          "17",
          "19",
          "2",
          "21",
          "3",
          "4",
          "5",
          "6",
          "7",
          "8",
          "9"
         ],
         "yaxis": "y"
        },
        {
         "alignmentgroup": "True",
         "bingroup": "y",
         "histfunc": "sum",
         "hovertemplate": "Taxon_grouped=Prymnesiophyceae<br>sum of rel_occurrence=%{x}<br>Sample=%{y}<extra></extra>",
         "legendgroup": "Prymnesiophyceae",
         "marker": {
          "color": "#009E73",
          "pattern": {
           "shape": ""
          }
         },
         "name": "Prymnesiophyceae",
         "offsetgroup": "Prymnesiophyceae",
         "orientation": "h",
         "showlegend": true,
         "type": "histogram",
         "x": [
          0.07834109766647877,
          0.0759695602761161,
          0.012358218596300876,
          0.09406397780803699,
          0.395387980476713,
          0.09286071118838404,
          0.15587772609740236,
          0.059155273308578296,
          0.057697770307005264,
          0.04586131314850898
         ],
         "xaxis": "x",
         "y": [
          "10",
          "11",
          "12",
          "16",
          "17",
          "18",
          "19",
          "2",
          "21",
          "6"
         ],
         "yaxis": "y"
        },
        {
         "alignmentgroup": "True",
         "bingroup": "y",
         "histfunc": "sum",
         "hovertemplate": "Taxon_grouped=Arthropoda<br>sum of rel_occurrence=%{x}<br>Sample=%{y}<extra></extra>",
         "legendgroup": "Arthropoda",
         "marker": {
          "color": "#0072B2",
          "pattern": {
           "shape": ""
          }
         },
         "name": "Arthropoda",
         "offsetgroup": "Arthropoda",
         "orientation": "h",
         "showlegend": true,
         "type": "histogram",
         "x": [
          0.07890325274787943,
          0.07449487500060636,
          0.11181743837265544,
          0.027806626697540936,
          0.13391560053111953,
          0.048616567745664446,
          0.03880585159012779,
          0.10000109787259616,
          0.06677842845714116,
          0.12366442850117948,
          0.031810732430771586,
          0.023246850800995648,
          0.12377243405912715,
          0.07951451413730917,
          0.027210450130937768,
          0.04000528638770186,
          0.04732340364954313,
          0.06978249558049865,
          0.10549231820616456
         ],
         "xaxis": "x",
         "y": [
          "1",
          "10",
          "11",
          "12",
          "13",
          "15",
          "17",
          "18",
          "19",
          "2",
          "20",
          "21",
          "3",
          "4",
          "5",
          "6",
          "7",
          "8",
          "9"
         ],
         "yaxis": "y"
        },
        {
         "alignmentgroup": "True",
         "bingroup": "y",
         "histfunc": "sum",
         "hovertemplate": "Taxon_grouped=Mollusca<br>sum of rel_occurrence=%{x}<br>Sample=%{y}<extra></extra>",
         "legendgroup": "Mollusca",
         "marker": {
          "color": "#89CE00",
          "pattern": {
           "shape": ""
          }
         },
         "name": "Mollusca",
         "offsetgroup": "Mollusca",
         "orientation": "h",
         "showlegend": true,
         "type": "histogram",
         "x": [
          0.03142170064428935,
          0.010120369604808156,
          0.10063948803157644,
          0.06296750654006746,
          0.014285348368010322,
          0.013131077380430843,
          0.014341144813577275,
          0.011699759190942204,
          0.014893257741659822
         ],
         "xaxis": "x",
         "y": [
          "10",
          "11",
          "15",
          "16",
          "18",
          "20",
          "21",
          "3",
          "6"
         ],
         "yaxis": "y"
        },
        {
         "alignmentgroup": "True",
         "bingroup": "y",
         "histfunc": "sum",
         "hovertemplate": "Taxon_grouped=Ciliates<br>sum of rel_occurrence=%{x}<br>Sample=%{y}<extra></extra>",
         "legendgroup": "Ciliates",
         "marker": {
          "color": "#F0E442",
          "pattern": {
           "shape": ""
          }
         },
         "name": "Ciliates",
         "offsetgroup": "Ciliates",
         "orientation": "h",
         "showlegend": true,
         "type": "histogram",
         "x": [
          0.021429394889627074,
          0.010593428614375936,
          0.020955263281469093
         ],
         "xaxis": "x",
         "y": [
          "18",
          "20",
          "6"
         ],
         "yaxis": "y"
        }
       ],
       "layout": {
        "autosize": false,
        "barmode": "relative",
        "font": {
         "color": "black",
         "family": "Arial",
         "size": 11
        },
        "height": 340.1574803149606,
        "legend": {
         "title": {
          "text": "Taxon_grouped"
         },
         "tracegroupgap": 0
        },
        "margin": {
         "b": 25,
         "l": 0,
         "r": 25,
         "t": 25
        },
        "showlegend": false,
        "template": {
         "data": {
          "bar": [
           {
            "error_x": {
             "color": "#2a3f5f"
            },
            "error_y": {
             "color": "#2a3f5f"
            },
            "marker": {
             "line": {
              "color": "#E5ECF6",
              "width": 0.5
             },
             "pattern": {
              "fillmode": "overlay",
              "size": 10,
              "solidity": 0.2
             }
            },
            "type": "bar"
           }
          ],
          "barpolar": [
           {
            "marker": {
             "line": {
              "color": "#E5ECF6",
              "width": 0.5
             },
             "pattern": {
              "fillmode": "overlay",
              "size": 10,
              "solidity": 0.2
             }
            },
            "type": "barpolar"
           }
          ],
          "carpet": [
           {
            "aaxis": {
             "endlinecolor": "#2a3f5f",
             "gridcolor": "white",
             "linecolor": "white",
             "minorgridcolor": "white",
             "startlinecolor": "#2a3f5f"
            },
            "baxis": {
             "endlinecolor": "#2a3f5f",
             "gridcolor": "white",
             "linecolor": "white",
             "minorgridcolor": "white",
             "startlinecolor": "#2a3f5f"
            },
            "type": "carpet"
           }
          ],
          "choropleth": [
           {
            "colorbar": {
             "outlinewidth": 0,
             "ticks": ""
            },
            "type": "choropleth"
           }
          ],
          "contour": [
           {
            "colorbar": {
             "outlinewidth": 0,
             "ticks": ""
            },
            "colorscale": [
             [
              0,
              "#0d0887"
             ],
             [
              0.1111111111111111,
              "#46039f"
             ],
             [
              0.2222222222222222,
              "#7201a8"
             ],
             [
              0.3333333333333333,
              "#9c179e"
             ],
             [
              0.4444444444444444,
              "#bd3786"
             ],
             [
              0.5555555555555556,
              "#d8576b"
             ],
             [
              0.6666666666666666,
              "#ed7953"
             ],
             [
              0.7777777777777778,
              "#fb9f3a"
             ],
             [
              0.8888888888888888,
              "#fdca26"
             ],
             [
              1,
              "#f0f921"
             ]
            ],
            "type": "contour"
           }
          ],
          "contourcarpet": [
           {
            "colorbar": {
             "outlinewidth": 0,
             "ticks": ""
            },
            "type": "contourcarpet"
           }
          ],
          "heatmap": [
           {
            "colorbar": {
             "outlinewidth": 0,
             "ticks": ""
            },
            "colorscale": [
             [
              0,
              "#0d0887"
             ],
             [
              0.1111111111111111,
              "#46039f"
             ],
             [
              0.2222222222222222,
              "#7201a8"
             ],
             [
              0.3333333333333333,
              "#9c179e"
             ],
             [
              0.4444444444444444,
              "#bd3786"
             ],
             [
              0.5555555555555556,
              "#d8576b"
             ],
             [
              0.6666666666666666,
              "#ed7953"
             ],
             [
              0.7777777777777778,
              "#fb9f3a"
             ],
             [
              0.8888888888888888,
              "#fdca26"
             ],
             [
              1,
              "#f0f921"
             ]
            ],
            "type": "heatmap"
           }
          ],
          "heatmapgl": [
           {
            "colorbar": {
             "outlinewidth": 0,
             "ticks": ""
            },
            "colorscale": [
             [
              0,
              "#0d0887"
             ],
             [
              0.1111111111111111,
              "#46039f"
             ],
             [
              0.2222222222222222,
              "#7201a8"
             ],
             [
              0.3333333333333333,
              "#9c179e"
             ],
             [
              0.4444444444444444,
              "#bd3786"
             ],
             [
              0.5555555555555556,
              "#d8576b"
             ],
             [
              0.6666666666666666,
              "#ed7953"
             ],
             [
              0.7777777777777778,
              "#fb9f3a"
             ],
             [
              0.8888888888888888,
              "#fdca26"
             ],
             [
              1,
              "#f0f921"
             ]
            ],
            "type": "heatmapgl"
           }
          ],
          "histogram": [
           {
            "marker": {
             "pattern": {
              "fillmode": "overlay",
              "size": 10,
              "solidity": 0.2
             }
            },
            "type": "histogram"
           }
          ],
          "histogram2d": [
           {
            "colorbar": {
             "outlinewidth": 0,
             "ticks": ""
            },
            "colorscale": [
             [
              0,
              "#0d0887"
             ],
             [
              0.1111111111111111,
              "#46039f"
             ],
             [
              0.2222222222222222,
              "#7201a8"
             ],
             [
              0.3333333333333333,
              "#9c179e"
             ],
             [
              0.4444444444444444,
              "#bd3786"
             ],
             [
              0.5555555555555556,
              "#d8576b"
             ],
             [
              0.6666666666666666,
              "#ed7953"
             ],
             [
              0.7777777777777778,
              "#fb9f3a"
             ],
             [
              0.8888888888888888,
              "#fdca26"
             ],
             [
              1,
              "#f0f921"
             ]
            ],
            "type": "histogram2d"
           }
          ],
          "histogram2dcontour": [
           {
            "colorbar": {
             "outlinewidth": 0,
             "ticks": ""
            },
            "colorscale": [
             [
              0,
              "#0d0887"
             ],
             [
              0.1111111111111111,
              "#46039f"
             ],
             [
              0.2222222222222222,
              "#7201a8"
             ],
             [
              0.3333333333333333,
              "#9c179e"
             ],
             [
              0.4444444444444444,
              "#bd3786"
             ],
             [
              0.5555555555555556,
              "#d8576b"
             ],
             [
              0.6666666666666666,
              "#ed7953"
             ],
             [
              0.7777777777777778,
              "#fb9f3a"
             ],
             [
              0.8888888888888888,
              "#fdca26"
             ],
             [
              1,
              "#f0f921"
             ]
            ],
            "type": "histogram2dcontour"
           }
          ],
          "mesh3d": [
           {
            "colorbar": {
             "outlinewidth": 0,
             "ticks": ""
            },
            "type": "mesh3d"
           }
          ],
          "parcoords": [
           {
            "line": {
             "colorbar": {
              "outlinewidth": 0,
              "ticks": ""
             }
            },
            "type": "parcoords"
           }
          ],
          "pie": [
           {
            "automargin": true,
            "type": "pie"
           }
          ],
          "scatter": [
           {
            "fillpattern": {
             "fillmode": "overlay",
             "size": 10,
             "solidity": 0.2
            },
            "type": "scatter"
           }
          ],
          "scatter3d": [
           {
            "line": {
             "colorbar": {
              "outlinewidth": 0,
              "ticks": ""
             }
            },
            "marker": {
             "colorbar": {
              "outlinewidth": 0,
              "ticks": ""
             }
            },
            "type": "scatter3d"
           }
          ],
          "scattercarpet": [
           {
            "marker": {
             "colorbar": {
              "outlinewidth": 0,
              "ticks": ""
             }
            },
            "type": "scattercarpet"
           }
          ],
          "scattergeo": [
           {
            "marker": {
             "colorbar": {
              "outlinewidth": 0,
              "ticks": ""
             }
            },
            "type": "scattergeo"
           }
          ],
          "scattergl": [
           {
            "marker": {
             "colorbar": {
              "outlinewidth": 0,
              "ticks": ""
             }
            },
            "type": "scattergl"
           }
          ],
          "scattermapbox": [
           {
            "marker": {
             "colorbar": {
              "outlinewidth": 0,
              "ticks": ""
             }
            },
            "type": "scattermapbox"
           }
          ],
          "scatterpolar": [
           {
            "marker": {
             "colorbar": {
              "outlinewidth": 0,
              "ticks": ""
             }
            },
            "type": "scatterpolar"
           }
          ],
          "scatterpolargl": [
           {
            "marker": {
             "colorbar": {
              "outlinewidth": 0,
              "ticks": ""
             }
            },
            "type": "scatterpolargl"
           }
          ],
          "scatterternary": [
           {
            "marker": {
             "colorbar": {
              "outlinewidth": 0,
              "ticks": ""
             }
            },
            "type": "scatterternary"
           }
          ],
          "surface": [
           {
            "colorbar": {
             "outlinewidth": 0,
             "ticks": ""
            },
            "colorscale": [
             [
              0,
              "#0d0887"
             ],
             [
              0.1111111111111111,
              "#46039f"
             ],
             [
              0.2222222222222222,
              "#7201a8"
             ],
             [
              0.3333333333333333,
              "#9c179e"
             ],
             [
              0.4444444444444444,
              "#bd3786"
             ],
             [
              0.5555555555555556,
              "#d8576b"
             ],
             [
              0.6666666666666666,
              "#ed7953"
             ],
             [
              0.7777777777777778,
              "#fb9f3a"
             ],
             [
              0.8888888888888888,
              "#fdca26"
             ],
             [
              1,
              "#f0f921"
             ]
            ],
            "type": "surface"
           }
          ],
          "table": [
           {
            "cells": {
             "fill": {
              "color": "#EBF0F8"
             },
             "line": {
              "color": "white"
             }
            },
            "header": {
             "fill": {
              "color": "#C8D4E3"
             },
             "line": {
              "color": "white"
             }
            },
            "type": "table"
           }
          ]
         },
         "layout": {
          "annotationdefaults": {
           "arrowcolor": "#2a3f5f",
           "arrowhead": 0,
           "arrowwidth": 1
          },
          "autotypenumbers": "strict",
          "coloraxis": {
           "colorbar": {
            "outlinewidth": 0,
            "ticks": ""
           }
          },
          "colorscale": {
           "diverging": [
            [
             0,
             "#8e0152"
            ],
            [
             0.1,
             "#c51b7d"
            ],
            [
             0.2,
             "#de77ae"
            ],
            [
             0.3,
             "#f1b6da"
            ],
            [
             0.4,
             "#fde0ef"
            ],
            [
             0.5,
             "#f7f7f7"
            ],
            [
             0.6,
             "#e6f5d0"
            ],
            [
             0.7,
             "#b8e186"
            ],
            [
             0.8,
             "#7fbc41"
            ],
            [
             0.9,
             "#4d9221"
            ],
            [
             1,
             "#276419"
            ]
           ],
           "sequential": [
            [
             0,
             "#0d0887"
            ],
            [
             0.1111111111111111,
             "#46039f"
            ],
            [
             0.2222222222222222,
             "#7201a8"
            ],
            [
             0.3333333333333333,
             "#9c179e"
            ],
            [
             0.4444444444444444,
             "#bd3786"
            ],
            [
             0.5555555555555556,
             "#d8576b"
            ],
            [
             0.6666666666666666,
             "#ed7953"
            ],
            [
             0.7777777777777778,
             "#fb9f3a"
            ],
            [
             0.8888888888888888,
             "#fdca26"
            ],
            [
             1,
             "#f0f921"
            ]
           ],
           "sequentialminus": [
            [
             0,
             "#0d0887"
            ],
            [
             0.1111111111111111,
             "#46039f"
            ],
            [
             0.2222222222222222,
             "#7201a8"
            ],
            [
             0.3333333333333333,
             "#9c179e"
            ],
            [
             0.4444444444444444,
             "#bd3786"
            ],
            [
             0.5555555555555556,
             "#d8576b"
            ],
            [
             0.6666666666666666,
             "#ed7953"
            ],
            [
             0.7777777777777778,
             "#fb9f3a"
            ],
            [
             0.8888888888888888,
             "#fdca26"
            ],
            [
             1,
             "#f0f921"
            ]
           ]
          },
          "colorway": [
           "#636efa",
           "#EF553B",
           "#00cc96",
           "#ab63fa",
           "#FFA15A",
           "#19d3f3",
           "#FF6692",
           "#B6E880",
           "#FF97FF",
           "#FECB52"
          ],
          "font": {
           "color": "#2a3f5f"
          },
          "geo": {
           "bgcolor": "white",
           "lakecolor": "white",
           "landcolor": "#E5ECF6",
           "showlakes": true,
           "showland": true,
           "subunitcolor": "white"
          },
          "hoverlabel": {
           "align": "left"
          },
          "hovermode": "closest",
          "mapbox": {
           "style": "light"
          },
          "paper_bgcolor": "white",
          "plot_bgcolor": "#E5ECF6",
          "polar": {
           "angularaxis": {
            "gridcolor": "white",
            "linecolor": "white",
            "ticks": ""
           },
           "bgcolor": "#E5ECF6",
           "radialaxis": {
            "gridcolor": "white",
            "linecolor": "white",
            "ticks": ""
           }
          },
          "scene": {
           "xaxis": {
            "backgroundcolor": "#E5ECF6",
            "gridcolor": "white",
            "gridwidth": 2,
            "linecolor": "white",
            "showbackground": true,
            "ticks": "",
            "zerolinecolor": "white"
           },
           "yaxis": {
            "backgroundcolor": "#E5ECF6",
            "gridcolor": "white",
            "gridwidth": 2,
            "linecolor": "white",
            "showbackground": true,
            "ticks": "",
            "zerolinecolor": "white"
           },
           "zaxis": {
            "backgroundcolor": "#E5ECF6",
            "gridcolor": "white",
            "gridwidth": 2,
            "linecolor": "white",
            "showbackground": true,
            "ticks": "",
            "zerolinecolor": "white"
           }
          },
          "shapedefaults": {
           "line": {
            "color": "#2a3f5f"
           }
          },
          "ternary": {
           "aaxis": {
            "gridcolor": "white",
            "linecolor": "white",
            "ticks": ""
           },
           "baxis": {
            "gridcolor": "white",
            "linecolor": "white",
            "ticks": ""
           },
           "bgcolor": "#E5ECF6",
           "caxis": {
            "gridcolor": "white",
            "linecolor": "white",
            "ticks": ""
           }
          },
          "title": {
           "x": 0.05
          },
          "xaxis": {
           "automargin": true,
           "gridcolor": "white",
           "linecolor": "white",
           "ticks": "",
           "title": {
            "standoff": 15
           },
           "zerolinecolor": "white",
           "zerolinewidth": 2
          },
          "yaxis": {
           "automargin": true,
           "gridcolor": "white",
           "linecolor": "white",
           "ticks": "",
           "title": {
            "standoff": 15
           },
           "zerolinecolor": "white",
           "zerolinewidth": 2
          }
         }
        },
        "title": {
         "text": "Station 51"
        },
        "width": 264.56692913385825,
        "xaxis": {
         "anchor": "y",
         "domain": [
          0,
          1
         ],
         "title": {
          "text": "Relative Phytoplankton Abundance"
         }
        },
        "yaxis": {
         "anchor": "x",
         "categoryarray": [
          "25",
          "24",
          "23",
          "22",
          "21",
          "20",
          "19",
          "18",
          "17",
          "16",
          "15",
          "14",
          "13",
          "12",
          "11",
          "10",
          "9",
          "8",
          "7",
          "6",
          "5",
          "4",
          "3",
          "2",
          "1"
         ],
         "categoryorder": "array",
         "domain": [
          0,
          1
         ],
         "title": {
          "text": ""
         }
        }
       }
      }
     },
     "metadata": {},
     "output_type": "display_data"
    },
    {
     "data": {
      "application/vnd.plotly.v1+json": {
       "config": {
        "plotlyServerURL": "https://plot.ly"
       },
       "data": [
        {
         "alignmentgroup": "True",
         "bingroup": "y",
         "histfunc": "sum",
         "hovertemplate": "Taxon_grouped=Rare<br>sum of rel_occurrence=%{x}<br>Sample=%{y}<extra></extra>",
         "legendgroup": "Rare",
         "marker": {
          "color": "#545454",
          "pattern": {
           "shape": ""
          }
         },
         "name": "Rare",
         "offsetgroup": "Rare",
         "orientation": "h",
         "showlegend": true,
         "type": "histogram",
         "x": [
          0.0035081360598008798,
          0.0035090911285507458,
          0.0013849369742696387,
          0.006456779551003688,
          0.0013849369742696387,
          0.008903568373045876,
          0.0013141677646515838,
          0.000494284326007454,
          0.007762082599378882,
          0.0013119158561688165,
          0.003916235294749399,
          0.0006462975775342755,
          0.00484316744029169,
          0.0035242149546728715,
          0.009691887391248117,
          0.004405240484051236,
          0.0008811101721572185,
          0.0016322675400651885,
          0.0018560088292161247,
          0.00532485371444105,
          0.0030892001154516086,
          0.005063292472286264,
          0.0012658231180715683,
          0.0063292574570168,
          0.0019443386213912367,
          0.0064329841483651996,
          0.009708153382761008,
          0.0032360511275870097,
          0.0019183930951472922,
          0.005283966824308333,
          0.003007118613266173,
          0.001519641384393326,
          0.0017647230475639313,
          0.005588274224325251,
          0.002089439526667885,
          0.008959630920938036,
          0.002794137112162634,
          0.004531059560746505,
          0.0008365853015005817,
          0.0041292402666435425,
          0.005414791595473001,
          0.004945172225312991,
          0.0008365853015005817,
          0.008403815945437092,
          0.005986629515451659,
          0.004985623539160337,
          0.004523807721336881,
          0.0027292624752541365,
          0.002046946856440609,
          0.00706707049506161,
          0.0034443747498646418,
          0.0011480146242777785,
          0.004592609974528587,
          0.0009504752179116668,
          0.007443045203872092,
          0.0009504752179116668,
          0.007020351940798347,
          0.001900950435823331,
          0.0009612610504882246,
          0.005652285887860763,
          0.0009612610504882246,
          0.004098506971715237,
          0.008196751433176231,
          0.0040982444698676535,
          0.004098506971715237,
          0.000616464923989928,
          0.0025989646588093955,
          0.0013736296646235352,
          0.00891187282808492,
          0.0021848215270182983,
          0.0025311430083549418,
          0.0034567561936149705,
          0.0010290712640890533,
          0.003345320560982569,
          0.0023275095219777633,
          0.0061851984871409875,
          0.0034702287430499724,
          0.0015264702088763147,
          0.003782966276558149,
          0.0006490584064304868,
          0.0007520305227183903,
          0.00602462619640345,
          0.0034567931736870323,
          0.0028328787319436646
         ],
         "xaxis": "x",
         "y": [
          "1",
          "1",
          "10",
          "10",
          "10",
          "10",
          "10",
          "11",
          "11",
          "12",
          "12",
          "12",
          "12",
          "13",
          "13",
          "13",
          "13",
          "14",
          "14",
          "14",
          "14",
          "15",
          "15",
          "15",
          "16",
          "16",
          "17",
          "17",
          "18",
          "18",
          "19",
          "19",
          "19",
          "2",
          "2",
          "2",
          "2",
          "20",
          "20",
          "20",
          "20",
          "20",
          "20",
          "21",
          "21",
          "21",
          "21",
          "22",
          "22",
          "22",
          "23",
          "23",
          "23",
          "24",
          "24",
          "24",
          "24",
          "24",
          "25",
          "25",
          "25",
          "3",
          "3",
          "3",
          "3",
          "4",
          "4",
          "4",
          "4",
          "5",
          "5",
          "5",
          "6",
          "6",
          "6",
          "6",
          "7",
          "7",
          "7",
          "7",
          "8",
          "8",
          "8",
          "8"
         ],
         "yaxis": "y"
        },
        {
         "alignmentgroup": "True",
         "bingroup": "y",
         "histfunc": "sum",
         "hovertemplate": "Taxon_grouped=Bacillariophyta<br>sum of rel_occurrence=%{x}<br>Sample=%{y}<extra></extra>",
         "legendgroup": "Bacillariophyta",
         "marker": {
          "color": "#E69F00",
          "pattern": {
           "shape": ""
          }
         },
         "name": "Bacillariophyta",
         "offsetgroup": "Bacillariophyta",
         "orientation": "h",
         "showlegend": true,
         "type": "histogram",
         "x": [
          0.6701726862908369,
          0.5518352085232996,
          0.17236882880248958,
          0.18111353814999803,
          0.7867840782338182,
          0.8213888160768563,
          0.5936708196117616,
          0.8483813353918388,
          0.8543693581144346,
          0.6041252992746342,
          0.18093624478904077,
          0.4869157650912291,
          0.31004350519268226,
          0.8315271563346079,
          0.7740898351805425,
          0.36968898020006385,
          0.38654121315266227,
          0.756133538832837,
          0.7786879737681616,
          0.17893167395748674,
          0.4882252071256492,
          0.32636256325269947,
          0.8460977385196268,
          0.6403718048620135
         ],
         "xaxis": "x",
         "y": [
          "1",
          "10",
          "11",
          "12",
          "13",
          "14",
          "15",
          "16",
          "17",
          "18",
          "19",
          "2",
          "20",
          "21",
          "22",
          "23",
          "24",
          "25",
          "3",
          "4",
          "5",
          "6",
          "7",
          "8"
         ],
         "yaxis": "y"
        },
        {
         "alignmentgroup": "True",
         "bingroup": "y",
         "histfunc": "sum",
         "hovertemplate": "Taxon_grouped=Dinophyceae<br>sum of rel_occurrence=%{x}<br>Sample=%{y}<extra></extra>",
         "legendgroup": "Dinophyceae",
         "marker": {
          "color": "#56B4E9",
          "pattern": {
           "shape": ""
          }
         },
         "name": "Dinophyceae",
         "offsetgroup": "Dinophyceae",
         "orientation": "h",
         "showlegend": true,
         "type": "histogram",
         "x": [
          0.0982488761505096,
          0.028193663208441196,
          0.06325382130288233,
          0.1949360508888989,
          0.06594923407966231,
          0.05177971929478693,
          0.021827801628676573,
          0.030849004026479776,
          0.024589729321053504,
          0.013320986270640609
         ],
         "xaxis": "x",
         "y": [
          "1",
          "13",
          "14",
          "15",
          "16",
          "17",
          "22",
          "25",
          "3",
          "7"
         ],
         "yaxis": "y"
        },
        {
         "alignmentgroup": "True",
         "bingroup": "y",
         "histfunc": "sum",
         "hovertemplate": "Taxon_grouped=Prymnesiophyceae<br>sum of rel_occurrence=%{x}<br>Sample=%{y}<extra></extra>",
         "legendgroup": "Prymnesiophyceae",
         "marker": {
          "color": "#009E73",
          "pattern": {
           "shape": ""
          }
         },
         "name": "Prymnesiophyceae",
         "offsetgroup": "Prymnesiophyceae",
         "orientation": "h",
         "showlegend": true,
         "type": "histogram",
         "x": [
          0.19649190878576536,
          0.42872040183946003,
          0.819374804272124,
          0.8081688456812578,
          0.1444933633349594,
          0.07825217720240032,
          0.18481049949207026,
          0.052143865288137,
          0.08090671808043061,
          0.373732301990423,
          0.8127722721657358,
          0.49365275312467705,
          0.6692630605561407,
          0.12766447422720317,
          0.16237040968933694,
          0.6211260204512651,
          0.5951934888310206,
          0.18772613319142462,
          0.17623028706431046,
          0.8075673939670054,
          0.5036020721453627,
          0.6607503369131101,
          0.10324875907364235,
          0.3191081673050539
         ],
         "xaxis": "x",
         "y": [
          "1",
          "10",
          "11",
          "12",
          "13",
          "14",
          "15",
          "16",
          "17",
          "18",
          "19",
          "2",
          "20",
          "21",
          "22",
          "23",
          "24",
          "25",
          "3",
          "4",
          "5",
          "6",
          "7",
          "8"
         ],
         "yaxis": "y"
        },
        {
         "alignmentgroup": "True",
         "bingroup": "y",
         "histfunc": "sum",
         "hovertemplate": "Taxon_grouped=Arthropoda<br>sum of rel_occurrence=%{x}<br>Sample=%{y}<extra></extra>",
         "legendgroup": "Arthropoda",
         "marker": {
          "color": "#0072B2",
          "pattern": {
           "shape": ""
          }
         },
         "name": "Arthropoda",
         "offsetgroup": "Arthropoda",
         "orientation": "h",
         "showlegend": true,
         "type": "histogram",
         "x": [
          0.014033892334078788,
          0.02202644222065178,
          0.025202855218687037,
          0.013924256959894495,
          0.025148242470605545,
          0.014940038815487148,
          0.016908492716802902,
          0.018493217131531237,
          0.017716515960421574,
          0.012584339026667495,
          0.01473422202344339
         ],
         "xaxis": "x",
         "y": [
          "1",
          "13",
          "14",
          "15",
          "16",
          "18",
          "21",
          "22",
          "25",
          "7",
          "8"
         ],
         "yaxis": "y"
        },
        {
         "alignmentgroup": "True",
         "bingroup": "y",
         "histfunc": "sum",
         "hovertemplate": "Taxon_grouped=Ciliates<br>sum of rel_occurrence=%{x}<br>Sample=%{y}<extra></extra>",
         "legendgroup": "Ciliates",
         "marker": {
          "color": "#F0E442",
          "pattern": {
           "shape": ""
          }
         },
         "name": "Ciliates",
         "offsetgroup": "Ciliates",
         "orientation": "h",
         "showlegend": true,
         "type": "histogram",
         "x": [
          0.014035409250457653
         ],
         "xaxis": "x",
         "y": [
          "1"
         ],
         "yaxis": "y"
        },
        {
         "alignmentgroup": "True",
         "bingroup": "y",
         "histfunc": "sum",
         "hovertemplate": "Taxon_grouped=Annelida<br>sum of rel_occurrence=%{x}<br>Sample=%{y}<extra></extra>",
         "legendgroup": "Annelida",
         "marker": {
          "color": "#D55E00",
          "pattern": {
           "shape": ""
          }
         },
         "name": "Annelida",
         "offsetgroup": "Annelida",
         "orientation": "h",
         "showlegend": true,
         "type": "histogram",
         "x": [
          0.011375456543156462,
          0.012719477184736566
         ],
         "xaxis": "x",
         "y": [
          "22",
          "8"
         ],
         "yaxis": "y"
        },
        {
         "alignmentgroup": "True",
         "bingroup": "y",
         "histfunc": "sum",
         "hovertemplate": "Taxon_grouped=Mollusca<br>sum of rel_occurrence=%{x}<br>Sample=%{y}<extra></extra>",
         "legendgroup": "Mollusca",
         "marker": {
          "color": "#89CE00",
          "pattern": {
           "shape": ""
          }
         },
         "name": "Mollusca",
         "offsetgroup": "Mollusca",
         "orientation": "h",
         "showlegend": true,
         "type": "histogram",
         "x": [
          0.015319453474507878
         ],
         "xaxis": "x",
         "y": [
          "7"
         ],
         "yaxis": "y"
        }
       ],
       "layout": {
        "autosize": false,
        "barmode": "relative",
        "font": {
         "color": "black",
         "family": "Arial",
         "size": 11
        },
        "height": 340.1574803149606,
        "legend": {
         "title": {
          "text": "Taxon_grouped"
         },
         "tracegroupgap": 0
        },
        "margin": {
         "b": 25,
         "l": 0,
         "r": 25,
         "t": 25
        },
        "showlegend": false,
        "template": {
         "data": {
          "bar": [
           {
            "error_x": {
             "color": "#2a3f5f"
            },
            "error_y": {
             "color": "#2a3f5f"
            },
            "marker": {
             "line": {
              "color": "#E5ECF6",
              "width": 0.5
             },
             "pattern": {
              "fillmode": "overlay",
              "size": 10,
              "solidity": 0.2
             }
            },
            "type": "bar"
           }
          ],
          "barpolar": [
           {
            "marker": {
             "line": {
              "color": "#E5ECF6",
              "width": 0.5
             },
             "pattern": {
              "fillmode": "overlay",
              "size": 10,
              "solidity": 0.2
             }
            },
            "type": "barpolar"
           }
          ],
          "carpet": [
           {
            "aaxis": {
             "endlinecolor": "#2a3f5f",
             "gridcolor": "white",
             "linecolor": "white",
             "minorgridcolor": "white",
             "startlinecolor": "#2a3f5f"
            },
            "baxis": {
             "endlinecolor": "#2a3f5f",
             "gridcolor": "white",
             "linecolor": "white",
             "minorgridcolor": "white",
             "startlinecolor": "#2a3f5f"
            },
            "type": "carpet"
           }
          ],
          "choropleth": [
           {
            "colorbar": {
             "outlinewidth": 0,
             "ticks": ""
            },
            "type": "choropleth"
           }
          ],
          "contour": [
           {
            "colorbar": {
             "outlinewidth": 0,
             "ticks": ""
            },
            "colorscale": [
             [
              0,
              "#0d0887"
             ],
             [
              0.1111111111111111,
              "#46039f"
             ],
             [
              0.2222222222222222,
              "#7201a8"
             ],
             [
              0.3333333333333333,
              "#9c179e"
             ],
             [
              0.4444444444444444,
              "#bd3786"
             ],
             [
              0.5555555555555556,
              "#d8576b"
             ],
             [
              0.6666666666666666,
              "#ed7953"
             ],
             [
              0.7777777777777778,
              "#fb9f3a"
             ],
             [
              0.8888888888888888,
              "#fdca26"
             ],
             [
              1,
              "#f0f921"
             ]
            ],
            "type": "contour"
           }
          ],
          "contourcarpet": [
           {
            "colorbar": {
             "outlinewidth": 0,
             "ticks": ""
            },
            "type": "contourcarpet"
           }
          ],
          "heatmap": [
           {
            "colorbar": {
             "outlinewidth": 0,
             "ticks": ""
            },
            "colorscale": [
             [
              0,
              "#0d0887"
             ],
             [
              0.1111111111111111,
              "#46039f"
             ],
             [
              0.2222222222222222,
              "#7201a8"
             ],
             [
              0.3333333333333333,
              "#9c179e"
             ],
             [
              0.4444444444444444,
              "#bd3786"
             ],
             [
              0.5555555555555556,
              "#d8576b"
             ],
             [
              0.6666666666666666,
              "#ed7953"
             ],
             [
              0.7777777777777778,
              "#fb9f3a"
             ],
             [
              0.8888888888888888,
              "#fdca26"
             ],
             [
              1,
              "#f0f921"
             ]
            ],
            "type": "heatmap"
           }
          ],
          "heatmapgl": [
           {
            "colorbar": {
             "outlinewidth": 0,
             "ticks": ""
            },
            "colorscale": [
             [
              0,
              "#0d0887"
             ],
             [
              0.1111111111111111,
              "#46039f"
             ],
             [
              0.2222222222222222,
              "#7201a8"
             ],
             [
              0.3333333333333333,
              "#9c179e"
             ],
             [
              0.4444444444444444,
              "#bd3786"
             ],
             [
              0.5555555555555556,
              "#d8576b"
             ],
             [
              0.6666666666666666,
              "#ed7953"
             ],
             [
              0.7777777777777778,
              "#fb9f3a"
             ],
             [
              0.8888888888888888,
              "#fdca26"
             ],
             [
              1,
              "#f0f921"
             ]
            ],
            "type": "heatmapgl"
           }
          ],
          "histogram": [
           {
            "marker": {
             "pattern": {
              "fillmode": "overlay",
              "size": 10,
              "solidity": 0.2
             }
            },
            "type": "histogram"
           }
          ],
          "histogram2d": [
           {
            "colorbar": {
             "outlinewidth": 0,
             "ticks": ""
            },
            "colorscale": [
             [
              0,
              "#0d0887"
             ],
             [
              0.1111111111111111,
              "#46039f"
             ],
             [
              0.2222222222222222,
              "#7201a8"
             ],
             [
              0.3333333333333333,
              "#9c179e"
             ],
             [
              0.4444444444444444,
              "#bd3786"
             ],
             [
              0.5555555555555556,
              "#d8576b"
             ],
             [
              0.6666666666666666,
              "#ed7953"
             ],
             [
              0.7777777777777778,
              "#fb9f3a"
             ],
             [
              0.8888888888888888,
              "#fdca26"
             ],
             [
              1,
              "#f0f921"
             ]
            ],
            "type": "histogram2d"
           }
          ],
          "histogram2dcontour": [
           {
            "colorbar": {
             "outlinewidth": 0,
             "ticks": ""
            },
            "colorscale": [
             [
              0,
              "#0d0887"
             ],
             [
              0.1111111111111111,
              "#46039f"
             ],
             [
              0.2222222222222222,
              "#7201a8"
             ],
             [
              0.3333333333333333,
              "#9c179e"
             ],
             [
              0.4444444444444444,
              "#bd3786"
             ],
             [
              0.5555555555555556,
              "#d8576b"
             ],
             [
              0.6666666666666666,
              "#ed7953"
             ],
             [
              0.7777777777777778,
              "#fb9f3a"
             ],
             [
              0.8888888888888888,
              "#fdca26"
             ],
             [
              1,
              "#f0f921"
             ]
            ],
            "type": "histogram2dcontour"
           }
          ],
          "mesh3d": [
           {
            "colorbar": {
             "outlinewidth": 0,
             "ticks": ""
            },
            "type": "mesh3d"
           }
          ],
          "parcoords": [
           {
            "line": {
             "colorbar": {
              "outlinewidth": 0,
              "ticks": ""
             }
            },
            "type": "parcoords"
           }
          ],
          "pie": [
           {
            "automargin": true,
            "type": "pie"
           }
          ],
          "scatter": [
           {
            "fillpattern": {
             "fillmode": "overlay",
             "size": 10,
             "solidity": 0.2
            },
            "type": "scatter"
           }
          ],
          "scatter3d": [
           {
            "line": {
             "colorbar": {
              "outlinewidth": 0,
              "ticks": ""
             }
            },
            "marker": {
             "colorbar": {
              "outlinewidth": 0,
              "ticks": ""
             }
            },
            "type": "scatter3d"
           }
          ],
          "scattercarpet": [
           {
            "marker": {
             "colorbar": {
              "outlinewidth": 0,
              "ticks": ""
             }
            },
            "type": "scattercarpet"
           }
          ],
          "scattergeo": [
           {
            "marker": {
             "colorbar": {
              "outlinewidth": 0,
              "ticks": ""
             }
            },
            "type": "scattergeo"
           }
          ],
          "scattergl": [
           {
            "marker": {
             "colorbar": {
              "outlinewidth": 0,
              "ticks": ""
             }
            },
            "type": "scattergl"
           }
          ],
          "scattermapbox": [
           {
            "marker": {
             "colorbar": {
              "outlinewidth": 0,
              "ticks": ""
             }
            },
            "type": "scattermapbox"
           }
          ],
          "scatterpolar": [
           {
            "marker": {
             "colorbar": {
              "outlinewidth": 0,
              "ticks": ""
             }
            },
            "type": "scatterpolar"
           }
          ],
          "scatterpolargl": [
           {
            "marker": {
             "colorbar": {
              "outlinewidth": 0,
              "ticks": ""
             }
            },
            "type": "scatterpolargl"
           }
          ],
          "scatterternary": [
           {
            "marker": {
             "colorbar": {
              "outlinewidth": 0,
              "ticks": ""
             }
            },
            "type": "scatterternary"
           }
          ],
          "surface": [
           {
            "colorbar": {
             "outlinewidth": 0,
             "ticks": ""
            },
            "colorscale": [
             [
              0,
              "#0d0887"
             ],
             [
              0.1111111111111111,
              "#46039f"
             ],
             [
              0.2222222222222222,
              "#7201a8"
             ],
             [
              0.3333333333333333,
              "#9c179e"
             ],
             [
              0.4444444444444444,
              "#bd3786"
             ],
             [
              0.5555555555555556,
              "#d8576b"
             ],
             [
              0.6666666666666666,
              "#ed7953"
             ],
             [
              0.7777777777777778,
              "#fb9f3a"
             ],
             [
              0.8888888888888888,
              "#fdca26"
             ],
             [
              1,
              "#f0f921"
             ]
            ],
            "type": "surface"
           }
          ],
          "table": [
           {
            "cells": {
             "fill": {
              "color": "#EBF0F8"
             },
             "line": {
              "color": "white"
             }
            },
            "header": {
             "fill": {
              "color": "#C8D4E3"
             },
             "line": {
              "color": "white"
             }
            },
            "type": "table"
           }
          ]
         },
         "layout": {
          "annotationdefaults": {
           "arrowcolor": "#2a3f5f",
           "arrowhead": 0,
           "arrowwidth": 1
          },
          "autotypenumbers": "strict",
          "coloraxis": {
           "colorbar": {
            "outlinewidth": 0,
            "ticks": ""
           }
          },
          "colorscale": {
           "diverging": [
            [
             0,
             "#8e0152"
            ],
            [
             0.1,
             "#c51b7d"
            ],
            [
             0.2,
             "#de77ae"
            ],
            [
             0.3,
             "#f1b6da"
            ],
            [
             0.4,
             "#fde0ef"
            ],
            [
             0.5,
             "#f7f7f7"
            ],
            [
             0.6,
             "#e6f5d0"
            ],
            [
             0.7,
             "#b8e186"
            ],
            [
             0.8,
             "#7fbc41"
            ],
            [
             0.9,
             "#4d9221"
            ],
            [
             1,
             "#276419"
            ]
           ],
           "sequential": [
            [
             0,
             "#0d0887"
            ],
            [
             0.1111111111111111,
             "#46039f"
            ],
            [
             0.2222222222222222,
             "#7201a8"
            ],
            [
             0.3333333333333333,
             "#9c179e"
            ],
            [
             0.4444444444444444,
             "#bd3786"
            ],
            [
             0.5555555555555556,
             "#d8576b"
            ],
            [
             0.6666666666666666,
             "#ed7953"
            ],
            [
             0.7777777777777778,
             "#fb9f3a"
            ],
            [
             0.8888888888888888,
             "#fdca26"
            ],
            [
             1,
             "#f0f921"
            ]
           ],
           "sequentialminus": [
            [
             0,
             "#0d0887"
            ],
            [
             0.1111111111111111,
             "#46039f"
            ],
            [
             0.2222222222222222,
             "#7201a8"
            ],
            [
             0.3333333333333333,
             "#9c179e"
            ],
            [
             0.4444444444444444,
             "#bd3786"
            ],
            [
             0.5555555555555556,
             "#d8576b"
            ],
            [
             0.6666666666666666,
             "#ed7953"
            ],
            [
             0.7777777777777778,
             "#fb9f3a"
            ],
            [
             0.8888888888888888,
             "#fdca26"
            ],
            [
             1,
             "#f0f921"
            ]
           ]
          },
          "colorway": [
           "#636efa",
           "#EF553B",
           "#00cc96",
           "#ab63fa",
           "#FFA15A",
           "#19d3f3",
           "#FF6692",
           "#B6E880",
           "#FF97FF",
           "#FECB52"
          ],
          "font": {
           "color": "#2a3f5f"
          },
          "geo": {
           "bgcolor": "white",
           "lakecolor": "white",
           "landcolor": "#E5ECF6",
           "showlakes": true,
           "showland": true,
           "subunitcolor": "white"
          },
          "hoverlabel": {
           "align": "left"
          },
          "hovermode": "closest",
          "mapbox": {
           "style": "light"
          },
          "paper_bgcolor": "white",
          "plot_bgcolor": "#E5ECF6",
          "polar": {
           "angularaxis": {
            "gridcolor": "white",
            "linecolor": "white",
            "ticks": ""
           },
           "bgcolor": "#E5ECF6",
           "radialaxis": {
            "gridcolor": "white",
            "linecolor": "white",
            "ticks": ""
           }
          },
          "scene": {
           "xaxis": {
            "backgroundcolor": "#E5ECF6",
            "gridcolor": "white",
            "gridwidth": 2,
            "linecolor": "white",
            "showbackground": true,
            "ticks": "",
            "zerolinecolor": "white"
           },
           "yaxis": {
            "backgroundcolor": "#E5ECF6",
            "gridcolor": "white",
            "gridwidth": 2,
            "linecolor": "white",
            "showbackground": true,
            "ticks": "",
            "zerolinecolor": "white"
           },
           "zaxis": {
            "backgroundcolor": "#E5ECF6",
            "gridcolor": "white",
            "gridwidth": 2,
            "linecolor": "white",
            "showbackground": true,
            "ticks": "",
            "zerolinecolor": "white"
           }
          },
          "shapedefaults": {
           "line": {
            "color": "#2a3f5f"
           }
          },
          "ternary": {
           "aaxis": {
            "gridcolor": "white",
            "linecolor": "white",
            "ticks": ""
           },
           "baxis": {
            "gridcolor": "white",
            "linecolor": "white",
            "ticks": ""
           },
           "bgcolor": "#E5ECF6",
           "caxis": {
            "gridcolor": "white",
            "linecolor": "white",
            "ticks": ""
           }
          },
          "title": {
           "x": 0.05
          },
          "xaxis": {
           "automargin": true,
           "gridcolor": "white",
           "linecolor": "white",
           "ticks": "",
           "title": {
            "standoff": 15
           },
           "zerolinecolor": "white",
           "zerolinewidth": 2
          },
          "yaxis": {
           "automargin": true,
           "gridcolor": "white",
           "linecolor": "white",
           "ticks": "",
           "title": {
            "standoff": 15
           },
           "zerolinecolor": "white",
           "zerolinewidth": 2
          }
         }
        },
        "title": {
         "text": "Station 130"
        },
        "width": 264.56692913385825,
        "xaxis": {
         "anchor": "y",
         "domain": [
          0,
          1
         ],
         "title": {
          "text": "Relative Phytoplankton Abundance"
         }
        },
        "yaxis": {
         "anchor": "x",
         "categoryarray": [
          "25",
          "24",
          "23",
          "22",
          "21",
          "20",
          "19",
          "18",
          "17",
          "16",
          "15",
          "14",
          "13",
          "12",
          "11",
          "10",
          "9",
          "8",
          "7",
          "6",
          "5",
          "4",
          "3",
          "2",
          "1"
         ],
         "categoryorder": "array",
         "domain": [
          0,
          1
         ],
         "title": {
          "text": ""
         }
        }
       }
      }
     },
     "metadata": {},
     "output_type": "display_data"
    }
   ],
   "source": [
    "stations = ['51', '130']\n",
    "\n",
    "cm_to_px = 96 / 2.54  # Conversion factor from centimeters to pixels\n",
    "width_in_cm = 7\n",
    "height_in_cm = 9\n",
    "\n",
    "tax_colors = {}\n",
    "\n",
    "for station in stations:\n",
    "    grouped_df = flowcam[flowcam['Station'] == station][['Comments', 'Taxon_grouped', 'density_cell_L_sample']]\n",
    "    grouped_df = grouped_df.groupby(['Comments', 'Taxon_grouped']).agg({'density_cell_L_sample':'sum'}).reset_index()\n",
    "    \n",
    "    grouped_df[\"rel_occurrence\"] = grouped_df.groupby(['Comments'])['density_cell_L_sample'].transform(lambda x: x / x.sum())\n",
    "    \n",
    "    # Split station into prefix and suffix and change to integer\n",
    "    grouped_df['Sample'] = [x.split('_')[1] for x in grouped_df['Comments']]\n",
    "    \n",
    "    # Combine low-abundance taxa into a single category\n",
    "    grouped_df.loc[grouped_df['rel_occurrence'] < 0.01, 'Taxon_grouped'] = 'Rare'\n",
    "    \n",
    "    fig = px.histogram(grouped_df.sort_values([\"Sample\", 'Taxon_grouped'], ascending=[True, True]), \n",
    "                x=\"rel_occurrence\",\n",
    "                y=\"Sample\",\n",
    "                color='Taxon_grouped',\n",
    "                category_orders={\n",
    "                    \"Sample\": ['1', '2', '3', '4', '5', '6', '7', '8', '9', '10',\n",
    "                               '11', '12', '13', '14', '15', '16', '17', '18', '19', '20',\n",
    "                               '21', '22', '23', '24', '25'],\n",
    "                    \"Taxon_grouped\": [\"Rare\", \"Bacillariophyta\", \"Dinophyceae\",\n",
    "                                      \"Prymnesiophyceae\"]\n",
    "                },\n",
    "                color_discrete_map={\n",
    "                    \"Rare\": \"#545454\",\n",
    "                    \"Bacillariophyta\": \"#E69F00\",\n",
    "                    \"Dinophyceae\": \"#56B4E9\",\n",
    "                    \"Prymnesiophyceae\": \"#009E73\",\n",
    "                    \"Ciliates\": \"#F0E442\",\n",
    "                    \"Arthropoda\": \"#0072B2\",\n",
    "                    \"Annelida\": \"#D55E00\",\n",
    "                    \"Craniata\": \"#CC79A7\",\n",
    "                    \"Urocordata\": \"#B5B5B5\",\n",
    "                    \"Echinodermata\": \"#55EEFF\",\n",
    "                    \"Cnidaria\": \"#A42324\",\n",
    "                    \"Mollusca\": \"#89CE00\",\n",
    "                    \"Detritus\": \"#808080\",\n",
    "                    \"Rotifera\": \"#EAD506\",\n",
    "                    \"Radiolaria\": \"#06EA0D\"\n",
    "                },\n",
    "                orientation='h'\n",
    "            )\n",
    "\n",
    "    fig.update_layout(\n",
    "        font=dict(\n",
    "            family=\"Arial\",\n",
    "            size=11,\n",
    "            color=\"black\"\n",
    "        ),\n",
    "        autosize=False,\n",
    "        width=width_in_cm * cm_to_px,\n",
    "        height=height_in_cm * cm_to_px,\n",
    "        margin=dict(\n",
    "            l=0,\n",
    "            r=25,\n",
    "            b=25,\n",
    "            t=25\n",
    "        ),\n",
    "        showlegend=False,\n",
    "        xaxis_title_text='Relative Phytoplankton Abundance',\n",
    "        title_text='Station {}'.format(station),\n",
    "        yaxis_title_text=''\n",
    "    )\n",
    "\n",
    "    fig.show()\n",
    "\n",
    "    for trace in fig.data:\n",
    "        # If trace is not in the dictionary, add it\n",
    "        if trace.name not in tax_colors:\n",
    "            # If trace contains a color already in use, give an error\n",
    "            if trace.marker.color in tax_colors.values():\n",
    "                raise ValueError(f'Color for {trace.name} already in use, review color disctrete map')\n",
    "            tax_colors[trace.name] = trace.marker.color\n",
    "           \n",
    "    # Save figure as svg\n",
    "    fig.write_image(\"../figures/phytoplankton/flowcam_relative_occurrence_{}_validated.svg\".format(station), width=width_in_cm * cm_to_px, height=height_in_cm * cm_to_px)\n",
    "    #fig.write_image(\"../figures/phytoplankton/flowcam_relative_occurrence_{}_validated.png\".format(station), scale=2,  width=width_in_cm * cm_to_px, height=height_in_cm * cm_to_px)"
   ]
  },
  {
   "cell_type": "code",
   "execution_count": 8,
   "metadata": {},
   "outputs": [
    {
     "data": {
      "application/vnd.plotly.v1+json": {
       "config": {
        "plotlyServerURL": "https://plot.ly"
       },
       "data": [
        {
         "alignmentgroup": "True",
         "bingroup": "y",
         "histfunc": "sum",
         "hovertemplate": "Taxon_grouped=Bacillariophyta<br>sum of density_cell_L_sample=%{x}<br>Sample=%{y}<extra></extra>",
         "legendgroup": "Bacillariophyta",
         "marker": {
          "color": "#E69F00",
          "pattern": {
           "shape": ""
          }
         },
         "name": "Bacillariophyta",
         "offsetgroup": "Bacillariophyta",
         "orientation": "h",
         "showlegend": true,
         "type": "histogram",
         "x": [
          454.2829753031778,
          26.02965064246198,
          28.874048046521875,
          175.80580241521548,
          20.47530746359967,
          268.43041393565045,
          706.5176462591121,
          447.1999298478229,
          564.8793490910143,
          514.4756305601694,
          498.07350733538686,
          444.6429463584416,
          527.1333921200933,
          296.0089832940263,
          279.5142274396702,
          6.351308784202139,
          605.5615206681047,
          670.6172378332528,
          537.5274422955282,
          17.602874062478623
         ],
         "xaxis": "x",
         "y": [
          "1",
          "10",
          "11",
          "12",
          "13",
          "15",
          "16",
          "17",
          "18",
          "19",
          "2",
          "20",
          "21",
          "3",
          "4",
          "5",
          "6",
          "7",
          "8",
          "9"
         ],
         "yaxis": "y"
        },
        {
         "alignmentgroup": "True",
         "bingroup": "y",
         "histfunc": "sum",
         "hovertemplate": "Taxon_grouped=Dinophyceae<br>sum of density_cell_L_sample=%{x}<br>Sample=%{y}<extra></extra>",
         "legendgroup": "Dinophyceae",
         "marker": {
          "color": "#56B4E9",
          "pattern": {
           "shape": ""
          }
         },
         "name": "Dinophyceae",
         "offsetgroup": "Dinophyceae",
         "orientation": "h",
         "showlegend": true,
         "type": "histogram",
         "x": [
          31.13995349630116,
          1.122684463294455,
          1.227380150775814,
          3.074158059194647,
          0.355716083839545,
          9.49713902962155,
          17.7524039713711,
          50.8486109876502,
          16.50753018317766,
          7.09307421403438,
          10.877965590981297,
          48.890250154193915,
          1.17416677853395,
          27.60673043413798,
          104.78879560013573,
          27.81796482132205,
          1.0713594679966867
         ],
         "xaxis": "x",
         "y": [
          "1",
          "10",
          "11",
          "12",
          "13",
          "15",
          "17",
          "19",
          "2",
          "21",
          "3",
          "4",
          "5",
          "6",
          "7",
          "8",
          "9"
         ],
         "yaxis": "y"
        },
        {
         "alignmentgroup": "True",
         "bingroup": "y",
         "histfunc": "sum",
         "hovertemplate": "Taxon_grouped=Prymnesiophyceae<br>sum of density_cell_L_sample=%{x}<br>Sample=%{y}<extra></extra>",
         "legendgroup": "Prymnesiophyceae",
         "marker": {
          "color": "#009E73",
          "pattern": {
           "shape": ""
          }
         },
         "name": "Prymnesiophyceae",
         "offsetgroup": "Prymnesiophyceae",
         "orientation": "h",
         "showlegend": true,
         "type": "histogram",
         "x": [
          2.6195970810204,
          2.88915772647451,
          2.30561700606025,
          78.8378912910046,
          328.37914832573,
          67.9978010130285,
          114.033031568144,
          37.6860046697191,
          34.3040914775773,
          33.0620828380726
         ],
         "xaxis": "x",
         "y": [
          "10",
          "11",
          "12",
          "16",
          "17",
          "18",
          "19",
          "2",
          "21",
          "6"
         ],
         "yaxis": "y"
        },
        {
         "alignmentgroup": "True",
         "bingroup": "y",
         "histfunc": "sum",
         "hovertemplate": "Taxon_grouped=Arthropoda<br>sum of density_cell_L_sample=%{x}<br>Sample=%{y}<extra></extra>",
         "legendgroup": "Arthropoda",
         "marker": {
          "color": "#0072B2",
          "pattern": {
           "shape": ""
          }
         },
         "name": "Arthropoda",
         "offsetgroup": "Arthropoda",
         "orientation": "h",
         "showlegend": true,
         "type": "histogram",
         "x": [
          42.1316450302946,
          2.490985739482036,
          4.252469210757171,
          5.187756705825668,
          3.22093208207412,
          16.034874513575502,
          32.2291853178156,
          73.22639108837427,
          48.8520510978324,
          78.78280277166382,
          14.97612019982575,
          13.8213676577052,
          44.10683301422784,
          28.92153308979969,
          0.213485334891776,
          28.84038859131574,
          39.184538184392274,
          43.0371208025836,
          2.22950481253064
         ],
         "xaxis": "x",
         "y": [
          "1",
          "10",
          "11",
          "12",
          "13",
          "15",
          "17",
          "18",
          "19",
          "2",
          "20",
          "21",
          "3",
          "4",
          "5",
          "6",
          "7",
          "8",
          "9"
         ],
         "yaxis": "y"
        },
        {
         "alignmentgroup": "True",
         "bingroup": "y",
         "histfunc": "sum",
         "hovertemplate": "Taxon_grouped=Ciliates<br>sum of density_cell_L_sample=%{x}<br>Sample=%{y}<extra></extra>",
         "legendgroup": "Ciliates",
         "marker": {
          "color": "#F0E442",
          "pattern": {
           "shape": ""
          }
         },
         "name": "Ciliates",
         "offsetgroup": "Ciliates",
         "orientation": "h",
         "showlegend": true,
         "type": "histogram",
         "x": [
          3.66362832106386,
          0.124742718143828,
          0.344201764816321,
          0.192147569333248,
          2.66758201343598,
          15.6918002337758,
          1.67252243096489,
          4.55107205210193,
          4.98726210100405,
          3.6695334897055,
          1.19121002281551,
          3.24144455681336,
          0.0533734701829109,
          15.1069518716578,
          5.802961829642079,
          5.49291121421492,
          0.115273775216138
         ],
         "xaxis": "x",
         "y": [
          "1",
          "10",
          "11",
          "12",
          "15",
          "18",
          "19",
          "2",
          "20",
          "21",
          "3",
          "4",
          "5",
          "6",
          "7",
          "8",
          "9"
         ],
         "yaxis": "y"
        },
        {
         "alignmentgroup": "True",
         "bingroup": "y",
         "histfunc": "sum",
         "hovertemplate": "Taxon_grouped=Mollusca<br>sum of density_cell_L_sample=%{x}<br>Sample=%{y}<extra></extra>",
         "legendgroup": "Mollusca",
         "marker": {
          "color": "#89CE00",
          "pattern": {
           "shape": ""
          }
         },
         "name": "Mollusca",
         "offsetgroup": "Mollusca",
         "orientation": "h",
         "showlegend": true,
         "type": "histogram",
         "x": [
          2.747680915078531,
          1.050689838925982,
          0.384882365150424,
          33.19324330214,
          52.774989439658874,
          4.96318389411874,
          10.46053022100122,
          1.67252243096489,
          1.46831725779094,
          6.181957414231579,
          8.52649835445041,
          4.16925892153861,
          2.13277695673592,
          0.053376888874655,
          10.73676454900053,
          7.62252546871494,
          2.8568867106954,
          0.115273775216138
         ],
         "xaxis": "x",
         "y": [
          "1",
          "10",
          "11",
          "15",
          "16",
          "17",
          "18",
          "19",
          "2",
          "20",
          "21",
          "3",
          "4",
          "5",
          "6",
          "7",
          "8",
          "9"
         ],
         "yaxis": "y"
        },
        {
         "alignmentgroup": "True",
         "bingroup": "y",
         "histfunc": "sum",
         "hovertemplate": "Taxon_grouped=Radiolaria<br>sum of density_cell_L_sample=%{x}<br>Sample=%{y}<extra></extra>",
         "legendgroup": "Radiolaria",
         "marker": {
          "color": "#06EA0D",
          "pattern": {
           "shape": ""
          }
         },
         "name": "Radiolaria",
         "offsetgroup": "Radiolaria",
         "orientation": "h",
         "showlegend": true,
         "type": "histogram",
         "x": [
          0.0583260425780111
         ],
         "xaxis": "x",
         "y": [
          "11"
         ],
         "yaxis": "y"
        },
        {
         "alignmentgroup": "True",
         "bingroup": "y",
         "histfunc": "sum",
         "hovertemplate": "Taxon_grouped=Appendicularia<br>sum of density_cell_L_sample=%{x}<br>Sample=%{y}<extra></extra>",
         "legendgroup": "Appendicularia",
         "marker": {
          "color": "#19d3f3",
          "pattern": {
           "shape": ""
          }
         },
         "name": "Appendicularia",
         "offsetgroup": "Appendicularia",
         "orientation": "h",
         "showlegend": true,
         "type": "histogram",
         "x": [
          1.02623212924576
         ],
         "xaxis": "x",
         "y": [
          "4"
         ],
         "yaxis": "y"
        }
       ],
       "layout": {
        "autosize": false,
        "barmode": "relative",
        "font": {
         "color": "black",
         "family": "Arial",
         "size": 11
        },
        "height": 340.1574803149606,
        "legend": {
         "title": {
          "text": "Taxon_grouped"
         },
         "tracegroupgap": 0
        },
        "margin": {
         "b": 25,
         "l": 0,
         "r": 25,
         "t": 25
        },
        "showlegend": false,
        "template": {
         "data": {
          "bar": [
           {
            "error_x": {
             "color": "#2a3f5f"
            },
            "error_y": {
             "color": "#2a3f5f"
            },
            "marker": {
             "line": {
              "color": "#E5ECF6",
              "width": 0.5
             },
             "pattern": {
              "fillmode": "overlay",
              "size": 10,
              "solidity": 0.2
             }
            },
            "type": "bar"
           }
          ],
          "barpolar": [
           {
            "marker": {
             "line": {
              "color": "#E5ECF6",
              "width": 0.5
             },
             "pattern": {
              "fillmode": "overlay",
              "size": 10,
              "solidity": 0.2
             }
            },
            "type": "barpolar"
           }
          ],
          "carpet": [
           {
            "aaxis": {
             "endlinecolor": "#2a3f5f",
             "gridcolor": "white",
             "linecolor": "white",
             "minorgridcolor": "white",
             "startlinecolor": "#2a3f5f"
            },
            "baxis": {
             "endlinecolor": "#2a3f5f",
             "gridcolor": "white",
             "linecolor": "white",
             "minorgridcolor": "white",
             "startlinecolor": "#2a3f5f"
            },
            "type": "carpet"
           }
          ],
          "choropleth": [
           {
            "colorbar": {
             "outlinewidth": 0,
             "ticks": ""
            },
            "type": "choropleth"
           }
          ],
          "contour": [
           {
            "colorbar": {
             "outlinewidth": 0,
             "ticks": ""
            },
            "colorscale": [
             [
              0,
              "#0d0887"
             ],
             [
              0.1111111111111111,
              "#46039f"
             ],
             [
              0.2222222222222222,
              "#7201a8"
             ],
             [
              0.3333333333333333,
              "#9c179e"
             ],
             [
              0.4444444444444444,
              "#bd3786"
             ],
             [
              0.5555555555555556,
              "#d8576b"
             ],
             [
              0.6666666666666666,
              "#ed7953"
             ],
             [
              0.7777777777777778,
              "#fb9f3a"
             ],
             [
              0.8888888888888888,
              "#fdca26"
             ],
             [
              1,
              "#f0f921"
             ]
            ],
            "type": "contour"
           }
          ],
          "contourcarpet": [
           {
            "colorbar": {
             "outlinewidth": 0,
             "ticks": ""
            },
            "type": "contourcarpet"
           }
          ],
          "heatmap": [
           {
            "colorbar": {
             "outlinewidth": 0,
             "ticks": ""
            },
            "colorscale": [
             [
              0,
              "#0d0887"
             ],
             [
              0.1111111111111111,
              "#46039f"
             ],
             [
              0.2222222222222222,
              "#7201a8"
             ],
             [
              0.3333333333333333,
              "#9c179e"
             ],
             [
              0.4444444444444444,
              "#bd3786"
             ],
             [
              0.5555555555555556,
              "#d8576b"
             ],
             [
              0.6666666666666666,
              "#ed7953"
             ],
             [
              0.7777777777777778,
              "#fb9f3a"
             ],
             [
              0.8888888888888888,
              "#fdca26"
             ],
             [
              1,
              "#f0f921"
             ]
            ],
            "type": "heatmap"
           }
          ],
          "heatmapgl": [
           {
            "colorbar": {
             "outlinewidth": 0,
             "ticks": ""
            },
            "colorscale": [
             [
              0,
              "#0d0887"
             ],
             [
              0.1111111111111111,
              "#46039f"
             ],
             [
              0.2222222222222222,
              "#7201a8"
             ],
             [
              0.3333333333333333,
              "#9c179e"
             ],
             [
              0.4444444444444444,
              "#bd3786"
             ],
             [
              0.5555555555555556,
              "#d8576b"
             ],
             [
              0.6666666666666666,
              "#ed7953"
             ],
             [
              0.7777777777777778,
              "#fb9f3a"
             ],
             [
              0.8888888888888888,
              "#fdca26"
             ],
             [
              1,
              "#f0f921"
             ]
            ],
            "type": "heatmapgl"
           }
          ],
          "histogram": [
           {
            "marker": {
             "pattern": {
              "fillmode": "overlay",
              "size": 10,
              "solidity": 0.2
             }
            },
            "type": "histogram"
           }
          ],
          "histogram2d": [
           {
            "colorbar": {
             "outlinewidth": 0,
             "ticks": ""
            },
            "colorscale": [
             [
              0,
              "#0d0887"
             ],
             [
              0.1111111111111111,
              "#46039f"
             ],
             [
              0.2222222222222222,
              "#7201a8"
             ],
             [
              0.3333333333333333,
              "#9c179e"
             ],
             [
              0.4444444444444444,
              "#bd3786"
             ],
             [
              0.5555555555555556,
              "#d8576b"
             ],
             [
              0.6666666666666666,
              "#ed7953"
             ],
             [
              0.7777777777777778,
              "#fb9f3a"
             ],
             [
              0.8888888888888888,
              "#fdca26"
             ],
             [
              1,
              "#f0f921"
             ]
            ],
            "type": "histogram2d"
           }
          ],
          "histogram2dcontour": [
           {
            "colorbar": {
             "outlinewidth": 0,
             "ticks": ""
            },
            "colorscale": [
             [
              0,
              "#0d0887"
             ],
             [
              0.1111111111111111,
              "#46039f"
             ],
             [
              0.2222222222222222,
              "#7201a8"
             ],
             [
              0.3333333333333333,
              "#9c179e"
             ],
             [
              0.4444444444444444,
              "#bd3786"
             ],
             [
              0.5555555555555556,
              "#d8576b"
             ],
             [
              0.6666666666666666,
              "#ed7953"
             ],
             [
              0.7777777777777778,
              "#fb9f3a"
             ],
             [
              0.8888888888888888,
              "#fdca26"
             ],
             [
              1,
              "#f0f921"
             ]
            ],
            "type": "histogram2dcontour"
           }
          ],
          "mesh3d": [
           {
            "colorbar": {
             "outlinewidth": 0,
             "ticks": ""
            },
            "type": "mesh3d"
           }
          ],
          "parcoords": [
           {
            "line": {
             "colorbar": {
              "outlinewidth": 0,
              "ticks": ""
             }
            },
            "type": "parcoords"
           }
          ],
          "pie": [
           {
            "automargin": true,
            "type": "pie"
           }
          ],
          "scatter": [
           {
            "fillpattern": {
             "fillmode": "overlay",
             "size": 10,
             "solidity": 0.2
            },
            "type": "scatter"
           }
          ],
          "scatter3d": [
           {
            "line": {
             "colorbar": {
              "outlinewidth": 0,
              "ticks": ""
             }
            },
            "marker": {
             "colorbar": {
              "outlinewidth": 0,
              "ticks": ""
             }
            },
            "type": "scatter3d"
           }
          ],
          "scattercarpet": [
           {
            "marker": {
             "colorbar": {
              "outlinewidth": 0,
              "ticks": ""
             }
            },
            "type": "scattercarpet"
           }
          ],
          "scattergeo": [
           {
            "marker": {
             "colorbar": {
              "outlinewidth": 0,
              "ticks": ""
             }
            },
            "type": "scattergeo"
           }
          ],
          "scattergl": [
           {
            "marker": {
             "colorbar": {
              "outlinewidth": 0,
              "ticks": ""
             }
            },
            "type": "scattergl"
           }
          ],
          "scattermapbox": [
           {
            "marker": {
             "colorbar": {
              "outlinewidth": 0,
              "ticks": ""
             }
            },
            "type": "scattermapbox"
           }
          ],
          "scatterpolar": [
           {
            "marker": {
             "colorbar": {
              "outlinewidth": 0,
              "ticks": ""
             }
            },
            "type": "scatterpolar"
           }
          ],
          "scatterpolargl": [
           {
            "marker": {
             "colorbar": {
              "outlinewidth": 0,
              "ticks": ""
             }
            },
            "type": "scatterpolargl"
           }
          ],
          "scatterternary": [
           {
            "marker": {
             "colorbar": {
              "outlinewidth": 0,
              "ticks": ""
             }
            },
            "type": "scatterternary"
           }
          ],
          "surface": [
           {
            "colorbar": {
             "outlinewidth": 0,
             "ticks": ""
            },
            "colorscale": [
             [
              0,
              "#0d0887"
             ],
             [
              0.1111111111111111,
              "#46039f"
             ],
             [
              0.2222222222222222,
              "#7201a8"
             ],
             [
              0.3333333333333333,
              "#9c179e"
             ],
             [
              0.4444444444444444,
              "#bd3786"
             ],
             [
              0.5555555555555556,
              "#d8576b"
             ],
             [
              0.6666666666666666,
              "#ed7953"
             ],
             [
              0.7777777777777778,
              "#fb9f3a"
             ],
             [
              0.8888888888888888,
              "#fdca26"
             ],
             [
              1,
              "#f0f921"
             ]
            ],
            "type": "surface"
           }
          ],
          "table": [
           {
            "cells": {
             "fill": {
              "color": "#EBF0F8"
             },
             "line": {
              "color": "white"
             }
            },
            "header": {
             "fill": {
              "color": "#C8D4E3"
             },
             "line": {
              "color": "white"
             }
            },
            "type": "table"
           }
          ]
         },
         "layout": {
          "annotationdefaults": {
           "arrowcolor": "#2a3f5f",
           "arrowhead": 0,
           "arrowwidth": 1
          },
          "autotypenumbers": "strict",
          "coloraxis": {
           "colorbar": {
            "outlinewidth": 0,
            "ticks": ""
           }
          },
          "colorscale": {
           "diverging": [
            [
             0,
             "#8e0152"
            ],
            [
             0.1,
             "#c51b7d"
            ],
            [
             0.2,
             "#de77ae"
            ],
            [
             0.3,
             "#f1b6da"
            ],
            [
             0.4,
             "#fde0ef"
            ],
            [
             0.5,
             "#f7f7f7"
            ],
            [
             0.6,
             "#e6f5d0"
            ],
            [
             0.7,
             "#b8e186"
            ],
            [
             0.8,
             "#7fbc41"
            ],
            [
             0.9,
             "#4d9221"
            ],
            [
             1,
             "#276419"
            ]
           ],
           "sequential": [
            [
             0,
             "#0d0887"
            ],
            [
             0.1111111111111111,
             "#46039f"
            ],
            [
             0.2222222222222222,
             "#7201a8"
            ],
            [
             0.3333333333333333,
             "#9c179e"
            ],
            [
             0.4444444444444444,
             "#bd3786"
            ],
            [
             0.5555555555555556,
             "#d8576b"
            ],
            [
             0.6666666666666666,
             "#ed7953"
            ],
            [
             0.7777777777777778,
             "#fb9f3a"
            ],
            [
             0.8888888888888888,
             "#fdca26"
            ],
            [
             1,
             "#f0f921"
            ]
           ],
           "sequentialminus": [
            [
             0,
             "#0d0887"
            ],
            [
             0.1111111111111111,
             "#46039f"
            ],
            [
             0.2222222222222222,
             "#7201a8"
            ],
            [
             0.3333333333333333,
             "#9c179e"
            ],
            [
             0.4444444444444444,
             "#bd3786"
            ],
            [
             0.5555555555555556,
             "#d8576b"
            ],
            [
             0.6666666666666666,
             "#ed7953"
            ],
            [
             0.7777777777777778,
             "#fb9f3a"
            ],
            [
             0.8888888888888888,
             "#fdca26"
            ],
            [
             1,
             "#f0f921"
            ]
           ]
          },
          "colorway": [
           "#636efa",
           "#EF553B",
           "#00cc96",
           "#ab63fa",
           "#FFA15A",
           "#19d3f3",
           "#FF6692",
           "#B6E880",
           "#FF97FF",
           "#FECB52"
          ],
          "font": {
           "color": "#2a3f5f"
          },
          "geo": {
           "bgcolor": "white",
           "lakecolor": "white",
           "landcolor": "#E5ECF6",
           "showlakes": true,
           "showland": true,
           "subunitcolor": "white"
          },
          "hoverlabel": {
           "align": "left"
          },
          "hovermode": "closest",
          "mapbox": {
           "style": "light"
          },
          "paper_bgcolor": "white",
          "plot_bgcolor": "#E5ECF6",
          "polar": {
           "angularaxis": {
            "gridcolor": "white",
            "linecolor": "white",
            "ticks": ""
           },
           "bgcolor": "#E5ECF6",
           "radialaxis": {
            "gridcolor": "white",
            "linecolor": "white",
            "ticks": ""
           }
          },
          "scene": {
           "xaxis": {
            "backgroundcolor": "#E5ECF6",
            "gridcolor": "white",
            "gridwidth": 2,
            "linecolor": "white",
            "showbackground": true,
            "ticks": "",
            "zerolinecolor": "white"
           },
           "yaxis": {
            "backgroundcolor": "#E5ECF6",
            "gridcolor": "white",
            "gridwidth": 2,
            "linecolor": "white",
            "showbackground": true,
            "ticks": "",
            "zerolinecolor": "white"
           },
           "zaxis": {
            "backgroundcolor": "#E5ECF6",
            "gridcolor": "white",
            "gridwidth": 2,
            "linecolor": "white",
            "showbackground": true,
            "ticks": "",
            "zerolinecolor": "white"
           }
          },
          "shapedefaults": {
           "line": {
            "color": "#2a3f5f"
           }
          },
          "ternary": {
           "aaxis": {
            "gridcolor": "white",
            "linecolor": "white",
            "ticks": ""
           },
           "baxis": {
            "gridcolor": "white",
            "linecolor": "white",
            "ticks": ""
           },
           "bgcolor": "#E5ECF6",
           "caxis": {
            "gridcolor": "white",
            "linecolor": "white",
            "ticks": ""
           }
          },
          "title": {
           "x": 0.05
          },
          "xaxis": {
           "automargin": true,
           "gridcolor": "white",
           "linecolor": "white",
           "ticks": "",
           "title": {
            "standoff": 15
           },
           "zerolinecolor": "white",
           "zerolinewidth": 2
          },
          "yaxis": {
           "automargin": true,
           "gridcolor": "white",
           "linecolor": "white",
           "ticks": "",
           "title": {
            "standoff": 15
           },
           "zerolinecolor": "white",
           "zerolinewidth": 2
          }
         }
        },
        "title": {
         "text": "Station 51"
        },
        "width": 264.56692913385825,
        "xaxis": {
         "anchor": "y",
         "domain": [
          0,
          1
         ],
         "title": {
          "text": "Absolute Phytoplankton Abundance"
         }
        },
        "yaxis": {
         "anchor": "x",
         "categoryarray": [
          "25",
          "24",
          "23",
          "22",
          "21",
          "20",
          "19",
          "18",
          "17",
          "16",
          "15",
          "14",
          "13",
          "12",
          "11",
          "10",
          "9",
          "8",
          "7",
          "6",
          "5",
          "4",
          "3",
          "2",
          "1"
         ],
         "categoryorder": "array",
         "domain": [
          0,
          1
         ],
         "title": {
          "text": ""
         }
        }
       }
      }
     },
     "metadata": {},
     "output_type": "display_data"
    },
    {
     "data": {
      "application/vnd.plotly.v1+json": {
       "config": {
        "plotlyServerURL": "https://plot.ly"
       },
       "data": [
        {
         "alignmentgroup": "True",
         "bingroup": "y",
         "histfunc": "sum",
         "hovertemplate": "Taxon_grouped=Bacillariophyta<br>sum of density_cell_L_sample=%{x}<br>Sample=%{y}<extra></extra>",
         "legendgroup": "Bacillariophyta",
         "marker": {
          "color": "#E69F00",
          "pattern": {
           "shape": ""
          }
         },
         "name": "Bacillariophyta",
         "offsetgroup": "Bacillariophyta",
         "orientation": "h",
         "showlegend": true,
         "type": "histogram",
         "x": [
          1578.1601162266209,
          1943.4912714381567,
          2422.4751830991686,
          5365.110112628399,
          3317.323644301282,
          2551.885466774614,
          1907.2053809613483,
          1547.2946038238624,
          1893.4969355404578,
          2975.6676716050592,
          6035.74188444102,
          29181.344296328578,
          4237.755704868552,
          2914.0175185379844,
          4490.2589913212205,
          3959.636127455225,
          2939.263746375969,
          5175.03830302144,
          21053.213531884914,
          2974.6802777530343,
          5008.5274153139,
          6132.284580430478,
          3769.9723008514015,
          4360.171054266363
         ],
         "xaxis": "x",
         "y": [
          "1",
          "10",
          "11",
          "12",
          "13",
          "14",
          "15",
          "16",
          "17",
          "18",
          "19",
          "2",
          "20",
          "21",
          "22",
          "23",
          "24",
          "25",
          "3",
          "4",
          "5",
          "6",
          "7",
          "8"
         ],
         "yaxis": "y"
        },
        {
         "alignmentgroup": "True",
         "bingroup": "y",
         "histfunc": "sum",
         "hovertemplate": "Taxon_grouped=Dinophyceae<br>sum of density_cell_L_sample=%{x}<br>Sample=%{y}<extra></extra>",
         "legendgroup": "Dinophyceae",
         "marker": {
          "color": "#56B4E9",
          "pattern": {
           "shape": ""
          }
         },
         "name": "Dinophyceae",
         "offsetgroup": "Dinophyceae",
         "orientation": "h",
         "showlegend": true,
         "type": "histogram",
         "x": [
          231.361947415348,
          31.35720075558912,
          109.08847380814623,
          143.4687151301827,
          118.87315486960631,
          196.51656333932888,
          626.244499336847,
          120.279513186895,
          114.75685413648931,
          26.0266028848763,
          58.868320302761,
          536.959559366368,
          67.5919071304328,
          17.471701583372457,
          126.61641849499459,
          49.190171599417,
          53.3828353724321,
          211.1330462784684,
          664.827041802399,
          148.15695708433378,
          35.4616228557838,
          116.2185911630686,
          59.3545485042943,
          23.53665389709576
         ],
         "xaxis": "x",
         "y": [
          "1",
          "10",
          "11",
          "12",
          "13",
          "14",
          "15",
          "16",
          "17",
          "18",
          "19",
          "2",
          "20",
          "21",
          "22",
          "23",
          "24",
          "25",
          "3",
          "4",
          "5",
          "6",
          "7",
          "8"
         ],
         "yaxis": "y"
        },
        {
         "alignmentgroup": "True",
         "bingroup": "y",
         "histfunc": "sum",
         "hovertemplate": "Taxon_grouped=Prymnesiophyceae<br>sum of density_cell_L_sample=%{x}<br>Sample=%{y}<extra></extra>",
         "legendgroup": "Prymnesiophyceae",
         "marker": {
          "color": "#009E73",
          "pattern": {
           "shape": ""
          }
         },
         "name": "Prymnesiophyceae",
         "offsetgroup": "Prymnesiophyceae",
         "orientation": "h",
         "showlegend": true,
         "type": "histogram",
         "x": [
          462.71013419422,
          1509.89705983443,
          11515.510912245,
          23940.3133027236,
          609.228457840282,
          243.113358543212,
          593.715519519612,
          95.1010094365036,
          179.309594023867,
          1840.84846339448,
          27112.7747309154,
          29585.0986649871,
          9147.662522932,
          447.389494809609,
          941.861214159994,
          6652.70852528619,
          4525.85800497584,
          1284.81264201468,
          4764.69906989336,
          13425.542536202,
          5166.27316233551,
          12415.3611927271,
          460.047278327387,
          2172.74743156953
         ],
         "xaxis": "x",
         "y": [
          "1",
          "10",
          "11",
          "12",
          "13",
          "14",
          "15",
          "16",
          "17",
          "18",
          "19",
          "2",
          "20",
          "21",
          "22",
          "23",
          "24",
          "25",
          "3",
          "4",
          "5",
          "6",
          "7",
          "8"
         ],
         "yaxis": "y"
        },
        {
         "alignmentgroup": "True",
         "bingroup": "y",
         "histfunc": "sum",
         "hovertemplate": "Taxon_grouped=Annelida<br>sum of density_cell_L_sample=%{x}<br>Sample=%{y}<extra></extra>",
         "legendgroup": "Annelida",
         "marker": {
          "color": "#D55E00",
          "pattern": {
           "shape": ""
          }
         },
         "name": "Annelida",
         "offsetgroup": "Annelida",
         "orientation": "h",
         "showlegend": true,
         "type": "histogram",
         "x": [
          8.26115496069547,
          4.87756648979995,
          38.8627658580637,
          14.8591740989224,
          5.07111824735456,
          61.9317069413196,
          29.4504715823354,
          65.9855532289465,
          7.22742428174976,
          6.57894736842105,
          10.2485267742762,
          15.4623581216596,
          86.6045254104216
         ],
         "xaxis": "x",
         "y": [
          "1",
          "10",
          "12",
          "13",
          "14",
          "20",
          "21",
          "22",
          "24",
          "25",
          "4",
          "7",
          "8"
         ],
         "yaxis": "y"
        },
        {
         "alignmentgroup": "True",
         "bingroup": "y",
         "histfunc": "sum",
         "hovertemplate": "Taxon_grouped=Arthropoda<br>sum of density_cell_L_sample=%{x}<br>Sample=%{y}<extra></extra>",
         "legendgroup": "Arthropoda",
         "marker": {
          "color": "#0072B2",
          "pattern": {
           "shape": ""
          }
         },
         "name": "Arthropoda",
         "offsetgroup": "Arthropoda",
         "orientation": "h",
         "showlegend": true,
         "type": "histogram",
         "x": [
          33.0477944119766,
          22.7399312424376,
          116.010287237009,
          92.8702544952739,
          78.3000677571611,
          44.7325637752689,
          45.86586037097341,
          21.5157045432715,
          73.5883608402898,
          100.312636568393,
          334.910811794685,
          56.4395357543991,
          59.2544015111018,
          107.27351106987,
          36.891742590428,
          56.596999714332,
          121.253249568581,
          221.613745176218,
          43.206933362588,
          22.4133009847296,
          62.8578764924894,
          56.0722566615857,
          100.32254369412
         ],
         "xaxis": "x",
         "y": [
          "1",
          "10",
          "12",
          "13",
          "14",
          "15",
          "16",
          "17",
          "18",
          "19",
          "2",
          "20",
          "21",
          "22",
          "23",
          "24",
          "25",
          "3",
          "4",
          "5",
          "6",
          "7",
          "8"
         ],
         "yaxis": "y"
        },
        {
         "alignmentgroup": "True",
         "bingroup": "y",
         "histfunc": "sum",
         "hovertemplate": "Taxon_grouped=Ciliates<br>sum of density_cell_L_sample=%{x}<br>Sample=%{y}<extra></extra>",
         "legendgroup": "Ciliates",
         "marker": {
          "color": "#F0E442",
          "pattern": {
           "shape": ""
          }
         },
         "name": "Ciliates",
         "offsetgroup": "Ciliates",
         "orientation": "h",
         "showlegend": true,
         "type": "histogram",
         "x": [
          33.0513665314881,
          4.87756648979995,
          6.94668242202886,
          19.1452152302642,
          40.8639779201761,
          16.5432211160171,
          16.266150077648412,
          3.5461231068874,
          7.17190151442385,
          9.44919923319598,
          50.6927905119665,
          125.222181299941,
          74.0107874865156,
          20.979643481424368,
          15.83161903466568,
          12.29606621944,
          7.22742428174976,
          38.68469584679228,
          110.803324099723,
          22.8361417624863,
          25.96608893682789,
          43.7334190851355,
          16.85582814892296,
          41.02054549386893
         ],
         "xaxis": "x",
         "y": [
          "1",
          "10",
          "11",
          "12",
          "13",
          "14",
          "15",
          "16",
          "17",
          "18",
          "19",
          "2",
          "20",
          "21",
          "22",
          "23",
          "24",
          "25",
          "3",
          "4",
          "5",
          "6",
          "7",
          "8"
         ],
         "yaxis": "y"
        },
        {
         "alignmentgroup": "True",
         "bingroup": "y",
         "histfunc": "sum",
         "hovertemplate": "Taxon_grouped=Mollusca<br>sum of density_cell_L_sample=%{x}<br>Sample=%{y}<extra></extra>",
         "legendgroup": "Mollusca",
         "marker": {
          "color": "#89CE00",
          "pattern": {
           "shape": ""
          }
         },
         "name": "Mollusca",
         "offsetgroup": "Mollusca",
         "orientation": "h",
         "showlegend": true,
         "type": "histogram",
         "x": [
          8.26340400999295,
          4.62832660975076,
          18.57384868461139,
          9.59750695928856,
          20.33314335275277,
          11.7326033046833,
          167.455405897343,
          11.4346666666667,
          15.85330659383592,
          40.9939200730496,
          6.57894736842105,
          110.810421303784,
          68.2591533268077,
          19.28853792981895
         ],
         "xaxis": "x",
         "y": [
          "1",
          "10",
          "13",
          "14",
          "15",
          "16",
          "2",
          "20",
          "21",
          "22",
          "25",
          "3",
          "7",
          "8"
         ],
         "yaxis": "y"
        },
        {
         "alignmentgroup": "True",
         "bingroup": "y",
         "histfunc": "sum",
         "hovertemplate": "Taxon_grouped=Rotifera<br>sum of density_cell_L_sample=%{x}<br>Sample=%{y}<extra></extra>",
         "legendgroup": "Rotifera",
         "marker": {
          "color": "#EAD506",
          "pattern": {
           "shape": ""
          }
         },
         "name": "Rotifera",
         "offsetgroup": "Rotifera",
         "orientation": "h",
         "showlegend": true,
         "type": "histogram",
         "x": [
          3.71503146567599
         ],
         "xaxis": "x",
         "y": [
          "13"
         ],
         "yaxis": "y"
        },
        {
         "alignmentgroup": "True",
         "bingroup": "y",
         "histfunc": "sum",
         "hovertemplate": "Taxon_grouped=Appendicularia<br>sum of density_cell_L_sample=%{x}<br>Sample=%{y}<extra></extra>",
         "legendgroup": "Appendicularia",
         "marker": {
          "color": "#19d3f3",
          "pattern": {
           "shape": ""
          }
         },
         "name": "Appendicularia",
         "offsetgroup": "Appendicularia",
         "orientation": "h",
         "showlegend": true,
         "type": "histogram",
         "x": [
          5.76623623889082,
          11.4346666666667,
          110.810421303784,
          19.3360346911211,
          6.80151966320977,
          5.12043424177315
         ],
         "xaxis": "x",
         "y": [
          "14",
          "20",
          "3",
          "6",
          "7",
          "8"
         ],
         "yaxis": "y"
        },
        {
         "alignmentgroup": "True",
         "bingroup": "y",
         "histfunc": "sum",
         "hovertemplate": "Taxon_grouped=Cnidaria<br>sum of density_cell_L_sample=%{x}<br>Sample=%{y}<extra></extra>",
         "legendgroup": "Cnidaria",
         "marker": {
          "color": "#A42324",
          "pattern": {
           "shape": ""
          }
         },
         "name": "Cnidaria",
         "offsetgroup": "Cnidaria",
         "orientation": "h",
         "showlegend": true,
         "type": "histogram",
         "x": [
          4.06653751941211
         ],
         "xaxis": "x",
         "y": [
          "15"
         ],
         "yaxis": "y"
        },
        {
         "alignmentgroup": "True",
         "bingroup": "y",
         "histfunc": "sum",
         "hovertemplate": "Taxon_grouped=Echinodermata<br>sum of density_cell_L_sample=%{x}<br>Sample=%{y}<extra></extra>",
         "legendgroup": "Echinodermata",
         "marker": {
          "color": "#55EEFF",
          "pattern": {
           "shape": ""
          }
         },
         "name": "Echinodermata",
         "offsetgroup": "Echinodermata",
         "orientation": "h",
         "showlegend": true,
         "type": "histogram",
         "x": [
          11.8737142759993,
          2.89202074710536
         ],
         "xaxis": "x",
         "y": [
          "22",
          "7"
         ],
         "yaxis": "y"
        },
        {
         "alignmentgroup": "True",
         "bingroup": "y",
         "histfunc": "sum",
         "hovertemplate": "Taxon_grouped=Radiolaria<br>sum of density_cell_L_sample=%{x}<br>Sample=%{y}<extra></extra>",
         "legendgroup": "Radiolaria",
         "marker": {
          "color": "#06EA0D",
          "pattern": {
           "shape": ""
          }
         },
         "name": "Radiolaria",
         "offsetgroup": "Radiolaria",
         "orientation": "h",
         "showlegend": true,
         "type": "histogram",
         "x": [
          14.4548485634995
         ],
         "xaxis": "x",
         "y": [
          "24"
         ],
         "yaxis": "y"
        }
       ],
       "layout": {
        "autosize": false,
        "barmode": "relative",
        "font": {
         "color": "black",
         "family": "Arial",
         "size": 11
        },
        "height": 340.1574803149606,
        "legend": {
         "title": {
          "text": "Taxon_grouped"
         },
         "tracegroupgap": 0
        },
        "margin": {
         "b": 25,
         "l": 0,
         "r": 25,
         "t": 25
        },
        "showlegend": false,
        "template": {
         "data": {
          "bar": [
           {
            "error_x": {
             "color": "#2a3f5f"
            },
            "error_y": {
             "color": "#2a3f5f"
            },
            "marker": {
             "line": {
              "color": "#E5ECF6",
              "width": 0.5
             },
             "pattern": {
              "fillmode": "overlay",
              "size": 10,
              "solidity": 0.2
             }
            },
            "type": "bar"
           }
          ],
          "barpolar": [
           {
            "marker": {
             "line": {
              "color": "#E5ECF6",
              "width": 0.5
             },
             "pattern": {
              "fillmode": "overlay",
              "size": 10,
              "solidity": 0.2
             }
            },
            "type": "barpolar"
           }
          ],
          "carpet": [
           {
            "aaxis": {
             "endlinecolor": "#2a3f5f",
             "gridcolor": "white",
             "linecolor": "white",
             "minorgridcolor": "white",
             "startlinecolor": "#2a3f5f"
            },
            "baxis": {
             "endlinecolor": "#2a3f5f",
             "gridcolor": "white",
             "linecolor": "white",
             "minorgridcolor": "white",
             "startlinecolor": "#2a3f5f"
            },
            "type": "carpet"
           }
          ],
          "choropleth": [
           {
            "colorbar": {
             "outlinewidth": 0,
             "ticks": ""
            },
            "type": "choropleth"
           }
          ],
          "contour": [
           {
            "colorbar": {
             "outlinewidth": 0,
             "ticks": ""
            },
            "colorscale": [
             [
              0,
              "#0d0887"
             ],
             [
              0.1111111111111111,
              "#46039f"
             ],
             [
              0.2222222222222222,
              "#7201a8"
             ],
             [
              0.3333333333333333,
              "#9c179e"
             ],
             [
              0.4444444444444444,
              "#bd3786"
             ],
             [
              0.5555555555555556,
              "#d8576b"
             ],
             [
              0.6666666666666666,
              "#ed7953"
             ],
             [
              0.7777777777777778,
              "#fb9f3a"
             ],
             [
              0.8888888888888888,
              "#fdca26"
             ],
             [
              1,
              "#f0f921"
             ]
            ],
            "type": "contour"
           }
          ],
          "contourcarpet": [
           {
            "colorbar": {
             "outlinewidth": 0,
             "ticks": ""
            },
            "type": "contourcarpet"
           }
          ],
          "heatmap": [
           {
            "colorbar": {
             "outlinewidth": 0,
             "ticks": ""
            },
            "colorscale": [
             [
              0,
              "#0d0887"
             ],
             [
              0.1111111111111111,
              "#46039f"
             ],
             [
              0.2222222222222222,
              "#7201a8"
             ],
             [
              0.3333333333333333,
              "#9c179e"
             ],
             [
              0.4444444444444444,
              "#bd3786"
             ],
             [
              0.5555555555555556,
              "#d8576b"
             ],
             [
              0.6666666666666666,
              "#ed7953"
             ],
             [
              0.7777777777777778,
              "#fb9f3a"
             ],
             [
              0.8888888888888888,
              "#fdca26"
             ],
             [
              1,
              "#f0f921"
             ]
            ],
            "type": "heatmap"
           }
          ],
          "heatmapgl": [
           {
            "colorbar": {
             "outlinewidth": 0,
             "ticks": ""
            },
            "colorscale": [
             [
              0,
              "#0d0887"
             ],
             [
              0.1111111111111111,
              "#46039f"
             ],
             [
              0.2222222222222222,
              "#7201a8"
             ],
             [
              0.3333333333333333,
              "#9c179e"
             ],
             [
              0.4444444444444444,
              "#bd3786"
             ],
             [
              0.5555555555555556,
              "#d8576b"
             ],
             [
              0.6666666666666666,
              "#ed7953"
             ],
             [
              0.7777777777777778,
              "#fb9f3a"
             ],
             [
              0.8888888888888888,
              "#fdca26"
             ],
             [
              1,
              "#f0f921"
             ]
            ],
            "type": "heatmapgl"
           }
          ],
          "histogram": [
           {
            "marker": {
             "pattern": {
              "fillmode": "overlay",
              "size": 10,
              "solidity": 0.2
             }
            },
            "type": "histogram"
           }
          ],
          "histogram2d": [
           {
            "colorbar": {
             "outlinewidth": 0,
             "ticks": ""
            },
            "colorscale": [
             [
              0,
              "#0d0887"
             ],
             [
              0.1111111111111111,
              "#46039f"
             ],
             [
              0.2222222222222222,
              "#7201a8"
             ],
             [
              0.3333333333333333,
              "#9c179e"
             ],
             [
              0.4444444444444444,
              "#bd3786"
             ],
             [
              0.5555555555555556,
              "#d8576b"
             ],
             [
              0.6666666666666666,
              "#ed7953"
             ],
             [
              0.7777777777777778,
              "#fb9f3a"
             ],
             [
              0.8888888888888888,
              "#fdca26"
             ],
             [
              1,
              "#f0f921"
             ]
            ],
            "type": "histogram2d"
           }
          ],
          "histogram2dcontour": [
           {
            "colorbar": {
             "outlinewidth": 0,
             "ticks": ""
            },
            "colorscale": [
             [
              0,
              "#0d0887"
             ],
             [
              0.1111111111111111,
              "#46039f"
             ],
             [
              0.2222222222222222,
              "#7201a8"
             ],
             [
              0.3333333333333333,
              "#9c179e"
             ],
             [
              0.4444444444444444,
              "#bd3786"
             ],
             [
              0.5555555555555556,
              "#d8576b"
             ],
             [
              0.6666666666666666,
              "#ed7953"
             ],
             [
              0.7777777777777778,
              "#fb9f3a"
             ],
             [
              0.8888888888888888,
              "#fdca26"
             ],
             [
              1,
              "#f0f921"
             ]
            ],
            "type": "histogram2dcontour"
           }
          ],
          "mesh3d": [
           {
            "colorbar": {
             "outlinewidth": 0,
             "ticks": ""
            },
            "type": "mesh3d"
           }
          ],
          "parcoords": [
           {
            "line": {
             "colorbar": {
              "outlinewidth": 0,
              "ticks": ""
             }
            },
            "type": "parcoords"
           }
          ],
          "pie": [
           {
            "automargin": true,
            "type": "pie"
           }
          ],
          "scatter": [
           {
            "fillpattern": {
             "fillmode": "overlay",
             "size": 10,
             "solidity": 0.2
            },
            "type": "scatter"
           }
          ],
          "scatter3d": [
           {
            "line": {
             "colorbar": {
              "outlinewidth": 0,
              "ticks": ""
             }
            },
            "marker": {
             "colorbar": {
              "outlinewidth": 0,
              "ticks": ""
             }
            },
            "type": "scatter3d"
           }
          ],
          "scattercarpet": [
           {
            "marker": {
             "colorbar": {
              "outlinewidth": 0,
              "ticks": ""
             }
            },
            "type": "scattercarpet"
           }
          ],
          "scattergeo": [
           {
            "marker": {
             "colorbar": {
              "outlinewidth": 0,
              "ticks": ""
             }
            },
            "type": "scattergeo"
           }
          ],
          "scattergl": [
           {
            "marker": {
             "colorbar": {
              "outlinewidth": 0,
              "ticks": ""
             }
            },
            "type": "scattergl"
           }
          ],
          "scattermapbox": [
           {
            "marker": {
             "colorbar": {
              "outlinewidth": 0,
              "ticks": ""
             }
            },
            "type": "scattermapbox"
           }
          ],
          "scatterpolar": [
           {
            "marker": {
             "colorbar": {
              "outlinewidth": 0,
              "ticks": ""
             }
            },
            "type": "scatterpolar"
           }
          ],
          "scatterpolargl": [
           {
            "marker": {
             "colorbar": {
              "outlinewidth": 0,
              "ticks": ""
             }
            },
            "type": "scatterpolargl"
           }
          ],
          "scatterternary": [
           {
            "marker": {
             "colorbar": {
              "outlinewidth": 0,
              "ticks": ""
             }
            },
            "type": "scatterternary"
           }
          ],
          "surface": [
           {
            "colorbar": {
             "outlinewidth": 0,
             "ticks": ""
            },
            "colorscale": [
             [
              0,
              "#0d0887"
             ],
             [
              0.1111111111111111,
              "#46039f"
             ],
             [
              0.2222222222222222,
              "#7201a8"
             ],
             [
              0.3333333333333333,
              "#9c179e"
             ],
             [
              0.4444444444444444,
              "#bd3786"
             ],
             [
              0.5555555555555556,
              "#d8576b"
             ],
             [
              0.6666666666666666,
              "#ed7953"
             ],
             [
              0.7777777777777778,
              "#fb9f3a"
             ],
             [
              0.8888888888888888,
              "#fdca26"
             ],
             [
              1,
              "#f0f921"
             ]
            ],
            "type": "surface"
           }
          ],
          "table": [
           {
            "cells": {
             "fill": {
              "color": "#EBF0F8"
             },
             "line": {
              "color": "white"
             }
            },
            "header": {
             "fill": {
              "color": "#C8D4E3"
             },
             "line": {
              "color": "white"
             }
            },
            "type": "table"
           }
          ]
         },
         "layout": {
          "annotationdefaults": {
           "arrowcolor": "#2a3f5f",
           "arrowhead": 0,
           "arrowwidth": 1
          },
          "autotypenumbers": "strict",
          "coloraxis": {
           "colorbar": {
            "outlinewidth": 0,
            "ticks": ""
           }
          },
          "colorscale": {
           "diverging": [
            [
             0,
             "#8e0152"
            ],
            [
             0.1,
             "#c51b7d"
            ],
            [
             0.2,
             "#de77ae"
            ],
            [
             0.3,
             "#f1b6da"
            ],
            [
             0.4,
             "#fde0ef"
            ],
            [
             0.5,
             "#f7f7f7"
            ],
            [
             0.6,
             "#e6f5d0"
            ],
            [
             0.7,
             "#b8e186"
            ],
            [
             0.8,
             "#7fbc41"
            ],
            [
             0.9,
             "#4d9221"
            ],
            [
             1,
             "#276419"
            ]
           ],
           "sequential": [
            [
             0,
             "#0d0887"
            ],
            [
             0.1111111111111111,
             "#46039f"
            ],
            [
             0.2222222222222222,
             "#7201a8"
            ],
            [
             0.3333333333333333,
             "#9c179e"
            ],
            [
             0.4444444444444444,
             "#bd3786"
            ],
            [
             0.5555555555555556,
             "#d8576b"
            ],
            [
             0.6666666666666666,
             "#ed7953"
            ],
            [
             0.7777777777777778,
             "#fb9f3a"
            ],
            [
             0.8888888888888888,
             "#fdca26"
            ],
            [
             1,
             "#f0f921"
            ]
           ],
           "sequentialminus": [
            [
             0,
             "#0d0887"
            ],
            [
             0.1111111111111111,
             "#46039f"
            ],
            [
             0.2222222222222222,
             "#7201a8"
            ],
            [
             0.3333333333333333,
             "#9c179e"
            ],
            [
             0.4444444444444444,
             "#bd3786"
            ],
            [
             0.5555555555555556,
             "#d8576b"
            ],
            [
             0.6666666666666666,
             "#ed7953"
            ],
            [
             0.7777777777777778,
             "#fb9f3a"
            ],
            [
             0.8888888888888888,
             "#fdca26"
            ],
            [
             1,
             "#f0f921"
            ]
           ]
          },
          "colorway": [
           "#636efa",
           "#EF553B",
           "#00cc96",
           "#ab63fa",
           "#FFA15A",
           "#19d3f3",
           "#FF6692",
           "#B6E880",
           "#FF97FF",
           "#FECB52"
          ],
          "font": {
           "color": "#2a3f5f"
          },
          "geo": {
           "bgcolor": "white",
           "lakecolor": "white",
           "landcolor": "#E5ECF6",
           "showlakes": true,
           "showland": true,
           "subunitcolor": "white"
          },
          "hoverlabel": {
           "align": "left"
          },
          "hovermode": "closest",
          "mapbox": {
           "style": "light"
          },
          "paper_bgcolor": "white",
          "plot_bgcolor": "#E5ECF6",
          "polar": {
           "angularaxis": {
            "gridcolor": "white",
            "linecolor": "white",
            "ticks": ""
           },
           "bgcolor": "#E5ECF6",
           "radialaxis": {
            "gridcolor": "white",
            "linecolor": "white",
            "ticks": ""
           }
          },
          "scene": {
           "xaxis": {
            "backgroundcolor": "#E5ECF6",
            "gridcolor": "white",
            "gridwidth": 2,
            "linecolor": "white",
            "showbackground": true,
            "ticks": "",
            "zerolinecolor": "white"
           },
           "yaxis": {
            "backgroundcolor": "#E5ECF6",
            "gridcolor": "white",
            "gridwidth": 2,
            "linecolor": "white",
            "showbackground": true,
            "ticks": "",
            "zerolinecolor": "white"
           },
           "zaxis": {
            "backgroundcolor": "#E5ECF6",
            "gridcolor": "white",
            "gridwidth": 2,
            "linecolor": "white",
            "showbackground": true,
            "ticks": "",
            "zerolinecolor": "white"
           }
          },
          "shapedefaults": {
           "line": {
            "color": "#2a3f5f"
           }
          },
          "ternary": {
           "aaxis": {
            "gridcolor": "white",
            "linecolor": "white",
            "ticks": ""
           },
           "baxis": {
            "gridcolor": "white",
            "linecolor": "white",
            "ticks": ""
           },
           "bgcolor": "#E5ECF6",
           "caxis": {
            "gridcolor": "white",
            "linecolor": "white",
            "ticks": ""
           }
          },
          "title": {
           "x": 0.05
          },
          "xaxis": {
           "automargin": true,
           "gridcolor": "white",
           "linecolor": "white",
           "ticks": "",
           "title": {
            "standoff": 15
           },
           "zerolinecolor": "white",
           "zerolinewidth": 2
          },
          "yaxis": {
           "automargin": true,
           "gridcolor": "white",
           "linecolor": "white",
           "ticks": "",
           "title": {
            "standoff": 15
           },
           "zerolinecolor": "white",
           "zerolinewidth": 2
          }
         }
        },
        "title": {
         "text": "Station 130"
        },
        "width": 264.56692913385825,
        "xaxis": {
         "anchor": "y",
         "domain": [
          0,
          1
         ],
         "title": {
          "text": "Absolute Phytoplankton Abundance"
         }
        },
        "yaxis": {
         "anchor": "x",
         "categoryarray": [
          "25",
          "24",
          "23",
          "22",
          "21",
          "20",
          "19",
          "18",
          "17",
          "16",
          "15",
          "14",
          "13",
          "12",
          "11",
          "10",
          "9",
          "8",
          "7",
          "6",
          "5",
          "4",
          "3",
          "2",
          "1"
         ],
         "categoryorder": "array",
         "domain": [
          0,
          1
         ],
         "title": {
          "text": ""
         }
        }
       }
      }
     },
     "metadata": {},
     "output_type": "display_data"
    }
   ],
   "source": [
    "stations = ['51', '130']\n",
    "\n",
    "cm_to_px = 96 / 2.54  # Conversion factor from centimeters to pixels\n",
    "width_in_cm = 7\n",
    "height_in_cm = 9\n",
    "\n",
    "tax_colors = {}\n",
    "\n",
    "for station in stations:        \n",
    "    grouped_df = flowcam[flowcam['Station'] == station][['Comments', 'Taxon_grouped', 'density_cell_L_sample']]\n",
    "    grouped_df = grouped_df.groupby(['Comments', 'Taxon_grouped']).agg({'density_cell_L_sample':'sum'}).reset_index()\n",
    "    \n",
    "    grouped_df[\"rel_occurrence\"] = grouped_df.groupby(['Comments'])['density_cell_L_sample'].transform(lambda x: x / x.sum())\n",
    "    \n",
    "    # Split station into prefix and suffix and change to integer\n",
    "    grouped_df['Sample'] = [x.split('_')[1] for x in grouped_df['Comments']]\n",
    "    \n",
    "    fig = px.histogram(grouped_df.sort_values([\"Sample\", 'Taxon_grouped'], ascending=[True, True]), \n",
    "                x=\"density_cell_L_sample\", \n",
    "                y=\"Sample\",\n",
    "                color='Taxon_grouped',\n",
    "                category_orders={\n",
    "                    \"Sample\": ['1', '2', '3', '4', '5', '6', '7', '8', '9', '10',\n",
    "                               '11', '12', '13', '14', '15', '16', '17', '18', '19', '20',\n",
    "                               '21', '22', '23', '24', '25'],\n",
    "                    \"Taxon_grouped\": [\"Rare\", \"Bacillariophyta\", \"Dinophyceae\",\n",
    "                                      \"Prymnesiophyceae\"]\n",
    "                },\n",
    "                color_discrete_map={\n",
    "                    \"Rare\": \"#545454\",\n",
    "                    \"Bacillariophyta\": \"#E69F00\",\n",
    "                    \"Dinophyceae\": \"#56B4E9\",\n",
    "                    \"Prymnesiophyceae\": \"#009E73\",\n",
    "                    \"Ciliates\": \"#F0E442\",\n",
    "                    \"Arthropoda\": \"#0072B2\",\n",
    "                    \"Annelida\": \"#D55E00\",\n",
    "                    \"Craniata\": \"#CC79A7\",\n",
    "                    \"Urocordata\": \"#B5B5B5\",\n",
    "                    \"Echinodermata\": \"#55EEFF\",\n",
    "                    \"Cnidaria\": \"#A42324\",\n",
    "                    \"Mollusca\": \"#89CE00\",\n",
    "                    \"Detritus\": \"#808080\",\n",
    "                    \"Rotifera\": \"#EAD506\",\n",
    "                    \"Radiolaria\": \"#06EA0D\"\n",
    "                },            \n",
    "                orientation='h'\n",
    "            )\n",
    "\n",
    "    fig.update_layout(\n",
    "        font=dict(\n",
    "            family=\"Arial\",  # Set the font family to Times New Roman\n",
    "            size=11,  # Set the font size\n",
    "            color=\"black\"  # Set the font color\n",
    "        ),\n",
    "        autosize=False,\n",
    "        width=width_in_cm * cm_to_px,\n",
    "        height=height_in_cm * cm_to_px,\n",
    "        margin=dict( # Set the margins\n",
    "            l=0,  # Left margin\n",
    "            r=25,  # Right margin\n",
    "            b=25,  # Bottom margin\n",
    "            t=25  # Top margin\n",
    "        ),\n",
    "        showlegend=False,\n",
    "        xaxis_title_text='Absolute Phytoplankton Abundance',\n",
    "        title_text='Station {}'.format(station),\n",
    "        yaxis_title_text=''\n",
    "    )\n",
    "\n",
    "    fig.show()\n",
    "\n",
    "    for trace in fig.data:\n",
    "        # If trace is not in the dictionary, add it\n",
    "        if trace.name not in tax_colors:\n",
    "            # If trace contains a color already in use, give an error\n",
    "            if trace.marker.color in tax_colors.values():\n",
    "                raise ValueError(f'Color for {trace.name} already in use, review color disctrete map')\n",
    "            tax_colors[trace.name] = trace.marker.color\n",
    "           \n",
    "    # Save figure as svg\n",
    "    fig.write_image(\"../figures/phytoplankton/flowcam_absolute_occurrence_{}_validated.svg\".format(station), width=width_in_cm * cm_to_px, height=height_in_cm * cm_to_px)\n",
    "    #fig.write_image(\"../figures/phytoplankton/flowcam_absolute_occurrence_{}_validated.png\".format(station),width=width_in_cm * cm_to_px, height=height_in_cm * cm_to_px)"
   ]
  },
  {
   "cell_type": "code",
   "execution_count": 9,
   "metadata": {},
   "outputs": [
    {
     "name": "stderr",
     "output_type": "stream",
     "text": [
      "/var/folders/sw/y59p6zb57zd9ntdpcr65r3q40000gn/T/ipykernel_38711/3511128410.py:21: UserWarning:\n",
      "\n",
      "set_ticklabels() should only be used with a fixed number of ticks, i.e. after set_ticks() or using a FixedLocator.\n",
      "\n"
     ]
    },
    {
     "data": {
      "image/png": "[encoded data removed]",
      "text/plain": [
       "<Figure size 50x700 with 1 Axes>"
      ]
     },
     "metadata": {},
     "output_type": "display_data"
    }
   ],
   "source": [
    "# extract the x labels and y values from the dictionary\n",
    "x_labels = list(tax_colors.keys())\n",
    "y_values = list(tax_colors.values())\n",
    "y_placeholders = [1] * len(y_values)\n",
    "\n",
    "# create the bar plot\n",
    "fig, ax = plt.subplots()\n",
    "ax.barh(x_labels, y_placeholders, color=y_values)\n",
    "\n",
    "ax.set_xlabel(None)\n",
    "ax.set_xticklabels([])\n",
    "\n",
    "# Remove the frame of the chart\n",
    "ax.spines['top'].set_visible(False)\n",
    "ax.spines['right'].set_visible(False)\n",
    "ax.spines['bottom'].set_visible(False)\n",
    "ax.spines['left'].set_visible(False)\n",
    "\n",
    "# Remove y ticks, not labels\n",
    "plt.tick_params(axis='y', which='both', length=0)\n",
    "ax.set_yticklabels(x_labels, fontsize=11, fontname='Arial')\n",
    "\n",
    "# Adjust the size\n",
    "plt.gcf().set_size_inches(0.5, 7)\n",
    "\n",
    "# Save legend as svg\n",
    "fig.savefig(f\"../figures/phytoplankton/legend.svg\", format=\"svg\", bbox_inches='tight')\n",
    "\n",
    "plt.show()"
   ]
  },
  {
   "cell_type": "code",
   "execution_count": 10,
   "metadata": {},
   "outputs": [],
   "source": [
    "# Save per-sample total cell densities as a csv\n",
    "export = flowcam.groupby(['Comments']).agg({'density_cell_L_sample':'sum'}).reset_index()\n",
    "# Rename columns\n",
    "export.columns = ['sample', 'total_cell_density_FC']\n",
    "export.to_csv('../data/analysis/flowcam_total_cell_density.csv', index=False)"
   ]
  },
  {
   "cell_type": "code",
   "execution_count": 11,
   "metadata": {},
   "outputs": [
    {
     "data": {
      "text/html": [
       "<div>\n",
       "<style scoped>\n",
       "    .dataframe tbody tr th:only-of-type {\n",
       "        vertical-align: middle;\n",
       "    }\n",
       "\n",
       "    .dataframe tbody tr th {\n",
       "        vertical-align: top;\n",
       "    }\n",
       "\n",
       "    .dataframe thead th {\n",
       "        text-align: right;\n",
       "    }\n",
       "</style>\n",
       "<table border=\"1\" class=\"dataframe\">\n",
       "  <thead>\n",
       "    <tr style=\"text-align: right;\">\n",
       "      <th></th>\n",
       "      <th>sample</th>\n",
       "      <th>total_cell_density_FC</th>\n",
       "    </tr>\n",
       "  </thead>\n",
       "  <tbody>\n",
       "    <tr>\n",
       "      <th>0</th>\n",
       "      <td>130_1</td>\n",
       "      <td>2354.855918</td>\n",
       "    </tr>\n",
       "    <tr>\n",
       "      <th>1</th>\n",
       "      <td>130_10</td>\n",
       "      <td>3521.868923</td>\n",
       "    </tr>\n",
       "    <tr>\n",
       "      <th>2</th>\n",
       "      <td>130_11</td>\n",
       "      <td>14054.021252</td>\n",
       "    </tr>\n",
       "    <tr>\n",
       "      <th>3</th>\n",
       "      <td>130_12</td>\n",
       "      <td>29622.910399</td>\n",
       "    </tr>\n",
       "    <tr>\n",
       "      <th>4</th>\n",
       "      <td>130_13</td>\n",
       "      <td>4216.307544</td>\n",
       "    </tr>\n",
       "  </tbody>\n",
       "</table>\n",
       "</div>"
      ],
      "text/plain": [
       "   sample  total_cell_density_FC\n",
       "0   130_1            2354.855918\n",
       "1  130_10            3521.868923\n",
       "2  130_11           14054.021252\n",
       "3  130_12           29622.910399\n",
       "4  130_13            4216.307544"
      ]
     },
     "execution_count": 11,
     "metadata": {},
     "output_type": "execute_result"
    }
   ],
   "source": [
    "export.head()"
   ]
  }
 ],
 "metadata": {
  "kernelspec": {
   "display_name": "spring_campaign_2023",
   "language": "python",
   "name": "python3"
  },
  "language_info": {
   "codemirror_mode": {
    "name": "ipython",
    "version": 3
   },
   "file_extension": ".py",
   "mimetype": "text/x-python",
   "name": "python",
   "nbconvert_exporter": "python",
   "pygments_lexer": "ipython3",
   "version": "3.12.3"
  }
 },
 "nbformat": 4,
 "nbformat_minor": 2
}
