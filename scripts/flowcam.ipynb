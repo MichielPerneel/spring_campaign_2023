{
 "cells": [
  {
   "cell_type": "markdown",
   "metadata": {},
   "source": [
    "# Analysis of Phytoplankton data from FlowCam\n",
    "The Flowcam is an automated system for image analysis. In the LifeWatch framework, the Flowcam is used to measure the biomass of phytoplankton in the water column. At a sampling station, 50L of sea surface water was collected using a stainless-steel bucket and filtered through a 55µm mesh size Apstein net (1.2 m long, 0.5 m diameter). The filtered sample is transferred to a plastic falcon and fixed with acid Lugol’s iodine solution (1-5%). Samples are stored in the dark at 4°C until laboratory processing. In the lab, samples are processed using the FlowCAM VS-4 bench model (Fluid Imaging Technologies, Yarmouth, Maine, U.S.A.) equipped with a Sony XCD SC90 digital grey-scale camera and VisualSpreadsheet® software (version 4.2.52). For more details on Flowcam methodology, see paper. The FlowCAM output consists of cropped image collages, image parameters, and processing metadata. This output is then linked to sampling metadata from the ships information system (MIDAS) and is uploaded to a central database. Convolutional neural networks (CNN) are trained on human validated images. The current model version can recognize over 90 FlowCAM image classes with an accuracy of around 87%. Cell densities are calculated using the filtered volume of sea surface water, the volume of the sample measured in the lab, the fluid volume imaged, the particle count measured by the FlowCAM device, and a dilution factor calculated from the dilution of samples based on the PPUI accounted for during the sample run:\n",
    "\n",
    "$$density\\:\\frac{cells}{L} = \\frac{particle\\:count * sample\\:volume\\:(mL)}{fluid\\:volume\\:imaged\\:(mL) * dilution\\:factor * volume\\:filtered\\:(L)}$$\n",
    "\n",
    "Once predictions have been manually verified, the resulting cell densities are aggregated per predicted taxonomic level and made available through the Belgian LifeWatch RShiny application available at https://rshiny.lifewatch.be/flowcam-data/. Since the upload did not happen yet, the recent data is downloaded directly from MongoDB using the [export R script](FlowCam_export.R). Let's first load and check this data."
   ]
  },
  {
   "cell_type": "code",
   "execution_count": 1,
   "metadata": {},
   "outputs": [],
   "source": [
    "# Load libraries\n",
    "import pandas as pd\n",
    "import numpy as np\n",
    "import seaborn as sns\n",
    "import plotly.express as px\n",
    "import matplotlib.pyplot as plt"
   ]
  },
  {
   "cell_type": "code",
   "execution_count": 2,
   "metadata": {},
   "outputs": [
    {
     "data": {
      "text/html": [
       "<div>\n",
       "<style scoped>\n",
       "    .dataframe tbody tr th:only-of-type {\n",
       "        vertical-align: middle;\n",
       "    }\n",
       "\n",
       "    .dataframe tbody tr th {\n",
       "        vertical-align: top;\n",
       "    }\n",
       "\n",
       "    .dataframe thead th {\n",
       "        text-align: right;\n",
       "    }\n",
       "</style>\n",
       "<table border=\"1\" class=\"dataframe\">\n",
       "  <thead>\n",
       "    <tr style=\"text-align: right;\">\n",
       "      <th></th>\n",
       "      <th>Taxon</th>\n",
       "      <th>Station</th>\n",
       "      <th>Comments</th>\n",
       "      <th>Dil</th>\n",
       "      <th>Tripactionid</th>\n",
       "      <th>FVI</th>\n",
       "      <th>Sample_DateTime</th>\n",
       "      <th>Sample_volume</th>\n",
       "      <th>Taxon_count_sample</th>\n",
       "      <th>density_cell_L_sample</th>\n",
       "      <th>Total_count_sample</th>\n",
       "      <th>Rel_ab_sample</th>\n",
       "      <th>Total_density_sample</th>\n",
       "      <th>Rel_dens_sample</th>\n",
       "    </tr>\n",
       "  </thead>\n",
       "  <tbody>\n",
       "    <tr>\n",
       "      <th>0</th>\n",
       "      <td>Actinoptychus</td>\n",
       "      <td>130</td>\n",
       "      <td>130_1</td>\n",
       "      <td>0.1</td>\n",
       "      <td>118687</td>\n",
       "      <td>6.244567</td>\n",
       "      <td>2023-04-20 08:00:17</td>\n",
       "      <td>258</td>\n",
       "      <td>3</td>\n",
       "      <td>24.789550</td>\n",
       "      <td>1381</td>\n",
       "      <td>0.217234</td>\n",
       "      <td>11410.626034</td>\n",
       "      <td>0.217250</td>\n",
       "    </tr>\n",
       "    <tr>\n",
       "      <th>1</th>\n",
       "      <td>Bacillariophyceae</td>\n",
       "      <td>130</td>\n",
       "      <td>130_1</td>\n",
       "      <td>0.1</td>\n",
       "      <td>118687</td>\n",
       "      <td>6.244854</td>\n",
       "      <td>2023-04-20 08:00:17</td>\n",
       "      <td>258</td>\n",
       "      <td>13</td>\n",
       "      <td>107.416445</td>\n",
       "      <td>1381</td>\n",
       "      <td>0.941347</td>\n",
       "      <td>11410.626034</td>\n",
       "      <td>0.941372</td>\n",
       "    </tr>\n",
       "    <tr>\n",
       "      <th>2</th>\n",
       "      <td>Bellerochea horologicalis</td>\n",
       "      <td>130</td>\n",
       "      <td>130_1</td>\n",
       "      <td>0.1</td>\n",
       "      <td>118687</td>\n",
       "      <td>6.244990</td>\n",
       "      <td>2023-04-20 08:00:17</td>\n",
       "      <td>258</td>\n",
       "      <td>10</td>\n",
       "      <td>82.626233</td>\n",
       "      <td>1381</td>\n",
       "      <td>0.724113</td>\n",
       "      <td>11410.626034</td>\n",
       "      <td>0.724117</td>\n",
       "    </tr>\n",
       "    <tr>\n",
       "      <th>3</th>\n",
       "      <td>Biddulphianae</td>\n",
       "      <td>130</td>\n",
       "      <td>130_1</td>\n",
       "      <td>0.1</td>\n",
       "      <td>118687</td>\n",
       "      <td>6.245033</td>\n",
       "      <td>2023-04-20 08:00:17</td>\n",
       "      <td>258</td>\n",
       "      <td>12</td>\n",
       "      <td>99.150792</td>\n",
       "      <td>1381</td>\n",
       "      <td>0.868936</td>\n",
       "      <td>11410.626034</td>\n",
       "      <td>0.868934</td>\n",
       "    </tr>\n",
       "    <tr>\n",
       "      <th>4</th>\n",
       "      <td>Bubbles</td>\n",
       "      <td>130</td>\n",
       "      <td>130_1</td>\n",
       "      <td>0.1</td>\n",
       "      <td>118687</td>\n",
       "      <td>6.245075</td>\n",
       "      <td>2023-04-20 08:00:17</td>\n",
       "      <td>258</td>\n",
       "      <td>4</td>\n",
       "      <td>33.050043</td>\n",
       "      <td>1381</td>\n",
       "      <td>0.289645</td>\n",
       "      <td>11410.626034</td>\n",
       "      <td>0.289643</td>\n",
       "    </tr>\n",
       "  </tbody>\n",
       "</table>\n",
       "</div>"
      ],
      "text/plain": [
       "                       Taxon  Station Comments  Dil  Tripactionid       FVI  \\\n",
       "0              Actinoptychus      130    130_1  0.1        118687  6.244567   \n",
       "1          Bacillariophyceae      130    130_1  0.1        118687  6.244854   \n",
       "2  Bellerochea horologicalis      130    130_1  0.1        118687  6.244990   \n",
       "3              Biddulphianae      130    130_1  0.1        118687  6.245033   \n",
       "4                    Bubbles      130    130_1  0.1        118687  6.245075   \n",
       "\n",
       "       Sample_DateTime  Sample_volume  Taxon_count_sample  \\\n",
       "0  2023-04-20 08:00:17            258                   3   \n",
       "1  2023-04-20 08:00:17            258                  13   \n",
       "2  2023-04-20 08:00:17            258                  10   \n",
       "3  2023-04-20 08:00:17            258                  12   \n",
       "4  2023-04-20 08:00:17            258                   4   \n",
       "\n",
       "   density_cell_L_sample  Total_count_sample  Rel_ab_sample  \\\n",
       "0              24.789550                1381       0.217234   \n",
       "1             107.416445                1381       0.941347   \n",
       "2              82.626233                1381       0.724113   \n",
       "3              99.150792                1381       0.868936   \n",
       "4              33.050043                1381       0.289645   \n",
       "\n",
       "   Total_density_sample  Rel_dens_sample  \n",
       "0          11410.626034         0.217250  \n",
       "1          11410.626034         0.941372  \n",
       "2          11410.626034         0.724117  \n",
       "3          11410.626034         0.868934  \n",
       "4          11410.626034         0.289643  "
      ]
     },
     "execution_count": 2,
     "metadata": {},
     "output_type": "execute_result"
    }
   ],
   "source": [
    "# load data\n",
    "flowcam = pd.read_csv('../data/raw/flowcam_validated.csv')\n",
    "\n",
    "# Remove JN identifiers from comments\n",
    "flowcam['Comments'] = flowcam['Comments'].str.replace('JN22_', '')\n",
    "\n",
    "# Inspect data\n",
    "flowcam.head()"
   ]
  },
  {
   "cell_type": "markdown",
   "metadata": {},
   "source": [
    "1. **Comments**: This column represents the sampling station and sampling event. \n",
    "2. **Sample_volume**: This column represents the volume of the sample that was processed, as extracted from the database (`metadata.sample_data.sample_volume_ml`). It indicates the amount of water (in milliliters) from which the organisms or particles were collected for analysis.\n",
    "\n",
    "3. **Taxon_count_sample**: This is calculated by aggregating the `Taxon` column based on a combination of `Taxon`, `Station`, and `Comments` columns (`to_aggregate_by`). The aggregation function used is `length`, which counts the number of occurrences for each unique combination of taxon, station, and comments. It represents the count of different taxa (types of organisms) found in each sample.\n",
    "\n",
    "4. **density_cell_L_sample**: This is a calculated field that represents the density of cells (organisms) per liter in the sample. It's calculated using the formula: \n",
    "   - ${density\\_cell\\_L\\_sample} = \\frac{\\text{Taxon\\_count\\_sample} \\times \\text{Sample\\_volume}}{\\text{FVI} \\times \\text{Dil} \\times 50}$\n",
    "   - **FVI** (Fluid Volume Imaged_ml) is the volume of the sample that was imaged.\n",
    "   - **Dil** is the dilution factor of the sample.\n",
    "   - The number 50 is the volume of seawater filtered in liters.\n",
    "\n",
    "5. **Total_count_sample**: This is the total count of organisms across all taxa in a particular sample. It is calculated by grouping the data by `Comments` and `Station` and summing up the `Taxon_count_sample` within these groups.\n",
    "\n",
    "6. **Rel_ab_sample** (Relative Abundance Sample): This column represents the relative abundance of each taxon in a sample as a percentage. It is calculated by dividing the `Taxon_count_sample` by the `Total_count_sample` for each group and multiplying by 100. \n",
    "\n",
    "7. **Total_density_sample**: This represents the total density of all cells across different taxa within a sample. It's calculated by summing up the `density_cell_L_sample` for each group, grouped by `Comments`.\n",
    "\n",
    "8. **Rel_dens_sample** (Relative Density Sample): Similar to relative abundance, this is the relative density of each taxon within a sample, calculated as a percentage. It's the density of each taxon (`density_cell_L_sample`) as a proportion of the total density (`Total_density_sample`) of the sample."
   ]
  },
  {
   "cell_type": "code",
   "execution_count": 3,
   "metadata": {},
   "outputs": [],
   "source": [
    "flowcam = flowcam[['Taxon', 'Comments', 'density_cell_L_sample']]\n",
    "\n",
    "# Split comments into station and station suffix\n",
    "flowcam['Station'] = flowcam.Comments.str.split('_').str[0]\n",
    "flowcam['Station_suffix'] = flowcam.Comments.str.split('_').str[1]"
   ]
  },
  {
   "cell_type": "code",
   "execution_count": 4,
   "metadata": {},
   "outputs": [],
   "source": [
    "# Remove uninteresting stuff\n",
    "taxa_to_delete = ['Artefact',\n",
    "                  'Bubbles',\n",
    "                  'Detritus',\n",
    "                  'Sediment',\n",
    "                  'Fibers',\n",
    "                  'Pollen',\n",
    "                  'Remnant',\n",
    "                  'Replicate',\n",
    "                  'Unknown',\n",
    "                  'Zooplankton',\n",
    "                  'Aggregate',\n",
    "                  'Unknown_5',\n",
    "                  'Unknown_3',\n",
    "                  'Unknown_6',\n",
    "                  'Flock',\n",
    "                  'Holothuroidea ossicles',\n",
    "                  'Ditylum brightwellii:process',\n",
    "                  'Biddulphianae:process',\n",
    "                  'Rhizosolenia:process',\n",
    "                  'Faecal pellet',\n",
    "                  'Egg/Cyst',\n",
    "                  'Crustaceae:part',\n",
    "                  'Porifera spicule']\n",
    "\n",
    "# Create a dataframe without the taxa to delete\n",
    "flowcam = flowcam.query('Taxon not in @taxa_to_delete')"
   ]
  },
  {
   "cell_type": "code",
   "execution_count": 9,
   "metadata": {},
   "outputs": [
    {
     "data": {
      "text/html": [
       "<div>\n",
       "<style scoped>\n",
       "    .dataframe tbody tr th:only-of-type {\n",
       "        vertical-align: middle;\n",
       "    }\n",
       "\n",
       "    .dataframe tbody tr th {\n",
       "        vertical-align: top;\n",
       "    }\n",
       "\n",
       "    .dataframe thead th {\n",
       "        text-align: right;\n",
       "    }\n",
       "</style>\n",
       "<table border=\"1\" class=\"dataframe\">\n",
       "  <thead>\n",
       "    <tr style=\"text-align: right;\">\n",
       "      <th></th>\n",
       "      <th>Taxon</th>\n",
       "      <th>Comments</th>\n",
       "      <th>density_cell_L_sample</th>\n",
       "      <th>Station</th>\n",
       "      <th>Station_suffix</th>\n",
       "    </tr>\n",
       "  </thead>\n",
       "  <tbody>\n",
       "    <tr>\n",
       "      <th>0</th>\n",
       "      <td>Actinoptychus</td>\n",
       "      <td>130_1</td>\n",
       "      <td>24.789550</td>\n",
       "      <td>130</td>\n",
       "      <td>1</td>\n",
       "    </tr>\n",
       "    <tr>\n",
       "      <th>1</th>\n",
       "      <td>Bacillariophyceae</td>\n",
       "      <td>130_1</td>\n",
       "      <td>107.416445</td>\n",
       "      <td>130</td>\n",
       "      <td>1</td>\n",
       "    </tr>\n",
       "    <tr>\n",
       "      <th>2</th>\n",
       "      <td>Bellerochea horologicalis</td>\n",
       "      <td>130_1</td>\n",
       "      <td>82.626233</td>\n",
       "      <td>130</td>\n",
       "      <td>1</td>\n",
       "    </tr>\n",
       "    <tr>\n",
       "      <th>3</th>\n",
       "      <td>Biddulphianae</td>\n",
       "      <td>130_1</td>\n",
       "      <td>99.150792</td>\n",
       "      <td>130</td>\n",
       "      <td>1</td>\n",
       "    </tr>\n",
       "    <tr>\n",
       "      <th>5</th>\n",
       "      <td>Centric Diatom</td>\n",
       "      <td>130_1</td>\n",
       "      <td>99.149866</td>\n",
       "      <td>130</td>\n",
       "      <td>1</td>\n",
       "    </tr>\n",
       "  </tbody>\n",
       "</table>\n",
       "</div>"
      ],
      "text/plain": [
       "                       Taxon Comments  density_cell_L_sample Station  \\\n",
       "0              Actinoptychus    130_1              24.789550     130   \n",
       "1          Bacillariophyceae    130_1             107.416445     130   \n",
       "2  Bellerochea horologicalis    130_1              82.626233     130   \n",
       "3              Biddulphianae    130_1              99.150792     130   \n",
       "5             Centric Diatom    130_1              99.149866     130   \n",
       "\n",
       "  Station_suffix  \n",
       "0              1  \n",
       "1              1  \n",
       "2              1  \n",
       "3              1  \n",
       "5              1  "
      ]
     },
     "execution_count": 9,
     "metadata": {},
     "output_type": "execute_result"
    }
   ],
   "source": [
    "flowcam.head()"
   ]
  },
  {
   "cell_type": "code",
   "execution_count": null,
   "metadata": {},
   "outputs": [
    {
     "data": {
      "application/vnd.plotly.v1+json": {
       "config": {
        "plotlyServerURL": "https://plot.ly"
       },
       "data": [
        {
         "alignmentgroup": "True",
         "bingroup": "y",
         "histfunc": "sum",
         "hovertemplate": "Taxon=rare<br>sum of rel_cell_density_l_per_sample=%{x}<br>Comments=%{y}<extra></extra>",
         "legendgroup": "rare",
         "marker": {
          "color": "#636efa",
          "pattern": {
           "shape": ""
          }
         },
         "name": "rare",
         "offsetgroup": "rare",
         "orientation": "h",
         "showlegend": true,
         "type": "histogram",
         "x": [
          0.0028848885153502546,
          0.0028435973043110037,
          0.009002175924115561,
          0.003317220387811092,
          0.006171972243056887,
          0.00572818819055598,
          0.003317220387811092,
          0.005769777030700526,
          0.003317220387811092,
          0.0086129765404301,
          0.011539554061401036,
          0.005687194608622007,
          0.014341144813577275,
          0.015171289836423404,
          0.014424442576751306,
          0.0028848885153502546,
          0.002739580716489838,
          0.01082566202037268,
          0.010593428614375936,
          0.002739580716489838,
          0.007785541556859488,
          0.0025630130070096115,
          0.002739580716489838,
          0.007907939420941376,
          0.002739580716489838,
          0.0025630130070096115,
          0.007907939420941376,
          0.005479161432979676,
          0.01082566202037268,
          0.0052967143071879575,
          0.0025630130070096115,
          0.0026115689797447336,
          0.005348087362778266,
          0.005479161432979676,
          0.005223137959489467,
          0.006804343274216526,
          0.007700721832824781,
          0.002286258549830028,
          0.013144650784239825,
          0.002286258549830028,
          0.0034021716371082705,
          0.002286258549830028,
          0.002286258549830028,
          0.004572517099660069,
          0.0034021716371082705,
          0.01867415405113367,
          0.017039245065364222,
          0.002286258549830028,
          0.005318593501593926,
          0.006572325392119906,
          0.002286258549830028,
          0.014286263259751335,
          0.007143131629875695,
          0.0071422167381346244,
          0.007143131629875695,
          0.007143131629875695,
          0.007143131629875695,
          0.007143131629875695,
          0.007143131629875695,
          0.007143131629875695,
          0.007143131629875695,
          0.014284433476269249,
          0.0071422167381346244,
          0.007143131629875695,
          0.0071422167381346244,
          0.004924341685800746,
          0.004924341685800746,
          0.010798852146412566,
          0.007177650760913169,
          0.007177650760913169,
          0.007177650760913169,
          0.007177650760913169,
          0.013043835840562993,
          0.013043835840562993,
          0.007177650760913169,
          0.0059759679219449245,
          0.0059759679219449245,
          0.004924341685800746,
          0.005232541465853505,
          0.006925020571885141,
          0.005232541465853505,
          0.005232541465853505,
          0.008744322534455777,
          0.006925020571885141,
          0.006925020571885141,
          0.01748864506891158,
          0.006925020571885141,
          0.011921948555737746,
          0.004372161267227895,
          0.005232541465853505,
          0.009639509343075234,
          0.008030910134493266,
          0.010365344991182236,
          0.008087913726018175,
          0.0034412022661107536,
          0.0034412022661107536,
          0.01733163221584033,
          0.012755915697351596,
          0.0034832807039912395,
          0.004819754671537633,
          0.004819754671537633,
          0.013890659658153736,
          0.014789486947292464,
          0.014789486947292464,
          0.014789486947292464,
          0.014789486947292464,
          0.013796273067762977,
          0.013796273067762977,
          0.013796273067762977,
          0.014789486947292464,
          0.0010298872775078044,
          0.012358218596300877,
          0.002059675617768138,
          0.0010299202592306456,
          0.015447748511631896,
          0.0020598075362103403,
          0.010298740854101245,
          0.0072091779620388294,
          0.013388204809059025,
          0.004119516129628594,
          0.006179323665046816,
          0.0010298872775078044,
          0.010298740854101245,
          0.0010297883450123646,
          0.0030895958725982854,
          0.0020597745550156032,
          0.0010297883450123646,
          0.0010299202592306456,
          0.002059675617768138,
          0.010298641915586541,
          0.0010299202592306456,
          0.0164780645185144,
          0.0010298872775078044,
          0.003089727795264951,
          0.013388633550332584,
          0.0015092188556355185,
          0.0030184377112710266,
          0.0030673325770306397,
          0.001905099908990924,
          0.004864613208396036,
          0.011286001553161602,
          0.00304268872629538,
          0.005255756396412119,
          0.0030673325770306397,
          0.001905099908990924,
          0.0015092188556355185,
          0.001905099908990924,
          0.0048925444831374055,
          0.010165529717490908,
          0.009050685076742811,
          0.00608537745259076,
          0.008684218553756526,
          0.001905099908990924,
          0.0015336662885153222,
          0.0015336662885153222,
          0.0030184377112710266,
          0.016261460997110084,
          0.0015336662885153222,
          0.003810199817981853,
          0.001905099908990924,
          0.0063945568713324975,
          0.01617810084025299,
          0.011241131522900493,
          0.015021425956960197,
          0.0037305284603084956,
          0.0126769771475165,
          0.007510712978480098,
          0.0141788159668418,
          0.0037305284603084956,
          0.006673163316314434,
          0.0037305284603084956,
          0.007461056920617021,
          0.011191585380925517,
          0.0037305284603084956,
          0.012071560180458418,
          0.007461056920617021,
          0.013385903385917605,
          0.0037305284603084956,
          0.0027271745967042253,
          0.00316621731463681,
          0.00316621731463681,
          0.005454349193408432,
          0.00316621731463681,
          0.0027271745967042253,
          0.011721368689573844,
          0.01715602625116872,
          0.005860684344786945,
          0.0027271745967042253,
          0.00949865194391044,
          0.0027271745967042253,
          0.011300441601309932,
          0.014436612671974347,
          0.0027271745967042253,
          0.0027271745967042253,
          0.019877748739448975,
          0.00316621731463681,
          0.00316621731463681,
          0.005454349193408432,
          0.004287506842496684,
          0.0027103532379288194,
          0.005420706475857655,
          0.004596922417628013,
          0.011509884640442636,
          0.0027103532379288194,
          0.018422860312483972,
          0.004632296039913488,
          0.011890008957832866,
          0.007302478494234975,
          0.017250381769202777,
          0.008575013684993384,
          0.003990488412501622,
          0.008906475279522262,
          0.001995244206250803,
          0.011509884640442636,
          0.0027103532379288194,
          0.002316148019956752,
          0.002316148019956752,
          0.011509884640442636,
          0.004596922417628013,
          0.002316148019956752,
          0.0021851407936171207,
          0.0021851407936171207,
          0.004848243534275843,
          0.009170807279387372,
          0.0021851407936171207,
          0.0021851407936171207,
          0.007004688175431702,
          0.006767071702356284,
          0.011589166787641304,
          0.004835488502168054,
          0.004370281587234229,
          0.002411400203635779,
          0.002411400203635779,
          0.004596871878958949,
          0.013556326239574736,
          0.01331913169212576,
          0.0021851407936171207,
          0.004585403639693686,
          0.011362982478490087,
          0.004370281587234229,
          0.0021851407936171207,
          0.0021851407936171207,
          0.002436772162384585,
          0.0024116527324469384,
          0.0052683091957109,
          0.008598996215345432,
          0.002866332071781815,
          0.01004496298925066,
          0.002866332071781815,
          0.0024116527324469384,
          0.002866332071781815,
          0.005238815820367259,
          0.007234958197340801,
          0.01007199160452295,
          0.004848294752409163,
          0.01004496298925066,
          0.004848294752409163,
          0.002866332071781815,
          0.002436772162384585,
          0.004848294752409163,
          0.013605007230254575,
          0.013605769684024702,
          0.006803320582206216,
          0.006802122430966966,
          0.006803320582206216,
          0.006803320582206216,
          0.006802884842012339,
          0.006802122430966966,
          0.006802122430966966,
          0.006802122430966966,
          0.013606205410263939,
          0.006802122430966966,
          0.006803320582206216,
          0.0028214392679568024,
          0.008911764401899653,
          0.0028214392679568024,
          0.017591051236967505,
          0.0028214392679568024,
          0.009153709243483535,
          0.003051236414494511,
          0.011727367491311678,
          0.005863683745655825,
          0.008911764401899653,
          0.006102472828989022,
          0.005863683745655825,
          0.005863683745655825,
          0.003051236414494511,
          0.0028214392679568024,
          0.00846431780387038,
          0.005642878535913578,
          0.008682280067235067,
          0.003342769224712726,
          0.003397990134719373,
          0.0017274615989781223,
          0.013647908244277338,
          0.0016713177141570274,
          0.006685672253857578,
          0.0017274615989781223,
          0.0016714515159114225,
          0.0016714515159114225,
          0.005014086937084625,
          0.018604781140149507,
          0.0016714515159114225,
          0.0033978518813979285,
          0.0017274615989781223,
          0.003342635428314066,
          0.0016714515159114225,
          0.008357123769233362,
          0.018660300981047557,
          0.00874618068775542,
          0.0014576267659169812,
          0.007143763671648685,
          0.0023048001360069007,
          0.004373020326260085,
          0.006914400408020718,
          0.0014576267659169812,
          0.006420841213573387,
          0.0014576267659169812,
          0.0023048001360069007,
          0.015733665288572736,
          0.004983652092910407,
          0.0023048001360069007,
          0.004609600272013801,
          0.005830927166011019,
          0.011401208852118377,
          0.0023048001360069007,
          0.001715366921627858,
          0.0034304317187308577,
          0.001715366921627858,
          0.003430129647413971,
          0.006861165548682817,
          0.0034304317187308577,
          0.015436489600712634,
          0.015436791686807562,
          0.001715366921627858,
          0.00857653246764979,
          0.00857683460813928,
          0.013722028979493095,
          0.003430129647413971,
          0.0034304317187308577,
          0.003430129647413971,
          0.001715366921627858,
          0.005145194471120938,
          0.001715366921627858,
          0.012006964179538995,
          0.003430129647413971,
          0.0034304317187308577,
          0.005146100764883569,
          0.0034307338432557123,
          0.010291597262979346,
          0.013722331097365634
         ],
         "xaxis": "x",
         "y": [
          "51_21",
          "51_21",
          "51_21",
          "51_21",
          "51_21",
          "51_21",
          "51_21",
          "51_21",
          "51_21",
          "51_21",
          "51_21",
          "51_21",
          "51_21",
          "51_21",
          "51_21",
          "51_21",
          "51_20",
          "51_20",
          "51_20",
          "51_20",
          "51_20",
          "51_20",
          "51_20",
          "51_20",
          "51_20",
          "51_20",
          "51_20",
          "51_20",
          "51_20",
          "51_20",
          "51_20",
          "51_20",
          "51_20",
          "51_20",
          "51_20",
          "51_19",
          "51_19",
          "51_19",
          "51_19",
          "51_19",
          "51_19",
          "51_19",
          "51_19",
          "51_19",
          "51_19",
          "51_19",
          "51_19",
          "51_19",
          "51_19",
          "51_19",
          "51_19",
          "51_18",
          "51_18",
          "51_18",
          "51_18",
          "51_18",
          "51_18",
          "51_18",
          "51_18",
          "51_18",
          "51_18",
          "51_18",
          "51_18",
          "51_18",
          "51_18",
          "51_17",
          "51_17",
          "51_17",
          "51_17",
          "51_17",
          "51_17",
          "51_17",
          "51_17",
          "51_17",
          "51_17",
          "51_17",
          "51_17",
          "51_17",
          "51_16",
          "51_16",
          "51_16",
          "51_16",
          "51_16",
          "51_16",
          "51_16",
          "51_16",
          "51_16",
          "51_16",
          "51_16",
          "51_16",
          "51_15",
          "51_15",
          "51_15",
          "51_15",
          "51_15",
          "51_15",
          "51_15",
          "51_15",
          "51_15",
          "51_15",
          "51_15",
          "51_15",
          "51_13",
          "51_13",
          "51_13",
          "51_13",
          "51_13",
          "51_13",
          "51_13",
          "51_13",
          "51_12",
          "51_12",
          "51_12",
          "51_12",
          "51_12",
          "51_12",
          "51_12",
          "51_12",
          "51_12",
          "51_12",
          "51_12",
          "51_12",
          "51_12",
          "51_12",
          "51_12",
          "51_12",
          "51_12",
          "51_12",
          "51_12",
          "51_12",
          "51_12",
          "51_12",
          "51_12",
          "51_12",
          "51_12",
          "51_11",
          "51_11",
          "51_11",
          "51_11",
          "51_11",
          "51_11",
          "51_11",
          "51_11",
          "51_11",
          "51_11",
          "51_11",
          "51_11",
          "51_11",
          "51_11",
          "51_11",
          "51_11",
          "51_11",
          "51_11",
          "51_11",
          "51_11",
          "51_11",
          "51_11",
          "51_11",
          "51_11",
          "51_11",
          "51_11",
          "51_11",
          "51_10",
          "51_10",
          "51_10",
          "51_10",
          "51_10",
          "51_10",
          "51_10",
          "51_10",
          "51_10",
          "51_10",
          "51_10",
          "51_10",
          "51_10",
          "51_10",
          "51_10",
          "51_10",
          "51_9",
          "51_9",
          "51_9",
          "51_9",
          "51_9",
          "51_9",
          "51_9",
          "51_9",
          "51_9",
          "51_9",
          "51_9",
          "51_9",
          "51_9",
          "51_9",
          "51_9",
          "51_9",
          "51_9",
          "51_9",
          "51_9",
          "51_9",
          "51_8",
          "51_8",
          "51_8",
          "51_8",
          "51_8",
          "51_8",
          "51_8",
          "51_8",
          "51_8",
          "51_8",
          "51_8",
          "51_8",
          "51_8",
          "51_8",
          "51_8",
          "51_8",
          "51_8",
          "51_8",
          "51_8",
          "51_8",
          "51_8",
          "51_8",
          "51_7",
          "51_7",
          "51_7",
          "51_7",
          "51_7",
          "51_7",
          "51_7",
          "51_7",
          "51_7",
          "51_7",
          "51_7",
          "51_7",
          "51_7",
          "51_7",
          "51_7",
          "51_7",
          "51_7",
          "51_7",
          "51_7",
          "51_7",
          "51_7",
          "51_7",
          "51_6",
          "51_6",
          "51_6",
          "51_6",
          "51_6",
          "51_6",
          "51_6",
          "51_6",
          "51_6",
          "51_6",
          "51_6",
          "51_6",
          "51_6",
          "51_6",
          "51_6",
          "51_6",
          "51_6",
          "51_6",
          "51_5",
          "51_5",
          "51_5",
          "51_5",
          "51_5",
          "51_5",
          "51_5",
          "51_5",
          "51_5",
          "51_5",
          "51_5",
          "51_5",
          "51_5",
          "51_4",
          "51_4",
          "51_4",
          "51_4",
          "51_4",
          "51_4",
          "51_4",
          "51_4",
          "51_4",
          "51_4",
          "51_4",
          "51_4",
          "51_4",
          "51_4",
          "51_4",
          "51_4",
          "51_4",
          "51_4",
          "51_3",
          "51_3",
          "51_3",
          "51_3",
          "51_3",
          "51_3",
          "51_3",
          "51_3",
          "51_3",
          "51_3",
          "51_3",
          "51_3",
          "51_3",
          "51_3",
          "51_3",
          "51_3",
          "51_3",
          "51_3",
          "51_2",
          "51_2",
          "51_2",
          "51_2",
          "51_2",
          "51_2",
          "51_2",
          "51_2",
          "51_2",
          "51_2",
          "51_2",
          "51_2",
          "51_2",
          "51_2",
          "51_2",
          "51_2",
          "51_2",
          "51_1",
          "51_1",
          "51_1",
          "51_1",
          "51_1",
          "51_1",
          "51_1",
          "51_1",
          "51_1",
          "51_1",
          "51_1",
          "51_1",
          "51_1",
          "51_1",
          "51_1",
          "51_1",
          "51_1",
          "51_1",
          "51_1",
          "51_1",
          "51_1",
          "51_1",
          "51_1",
          "51_1",
          "51_1"
         ],
         "yaxis": "y"
        },
        {
         "alignmentgroup": "True",
         "bingroup": "y",
         "histfunc": "sum",
         "hovertemplate": "Taxon=Asterionella<br>sum of rel_cell_density_l_per_sample=%{x}<br>Comments=%{y}<extra></extra>",
         "legendgroup": "Asterionella",
         "marker": {
          "color": "#EF553B",
          "pattern": {
           "shape": ""
          }
         },
         "name": "Asterionella",
         "offsetgroup": "Asterionella",
         "orientation": "h",
         "showlegend": true,
         "type": "histogram",
         "x": [
          0.056535868836157605,
          0.021428479919759783,
          0.04581648539461713,
          0.042351084760878545
         ],
         "xaxis": "x",
         "y": [
          "51_21",
          "51_18",
          "51_16",
          "51_15"
         ],
         "yaxis": "y"
        },
        {
         "alignmentgroup": "True",
         "bingroup": "y",
         "histfunc": "sum",
         "hovertemplate": "Taxon=Trieres sinensis<br>sum of rel_cell_density_l_per_sample=%{x}<br>Comments=%{y}<extra></extra>",
         "legendgroup": "Trieres sinensis",
         "marker": {
          "color": "#00cc96",
          "pattern": {
           "shape": ""
          }
         },
         "name": "Trieres sinensis",
         "offsetgroup": "Trieres sinensis",
         "orientation": "h",
         "showlegend": true,
         "type": "histogram",
         "x": [
          0.06252169618037157,
          0.06316286554697804,
          0.10191627747257404,
          0.11428461628810724,
          0.02960664935100993,
          0.05652605610621954,
          0.0768413222769996,
          0.049255460811884956,
          0.06422922151625435,
          0.042491958537471126,
          0.06507915064347712,
          0.08115222725653093,
          0.07197806362284544,
          0.038682396668636244,
          0.05442166270801512,
          0.045789630496194715,
          0.04595618061447548,
          0.03210386644324498
         ],
         "xaxis": "x",
         "y": [
          "51_21",
          "51_20",
          "51_19",
          "51_18",
          "51_17",
          "51_16",
          "51_15",
          "51_13",
          "51_11",
          "51_10",
          "51_9",
          "51_8",
          "51_7",
          "51_6",
          "51_5",
          "51_4",
          "51_3",
          "51_2"
         ],
         "yaxis": "y"
        },
        {
         "alignmentgroup": "True",
         "bingroup": "y",
         "histfunc": "sum",
         "hovertemplate": "Taxon=Phytoplankton Colony<br>sum of rel_cell_density_l_per_sample=%{x}<br>Comments=%{y}<extra></extra>",
         "legendgroup": "Phytoplankton Colony",
         "marker": {
          "color": "#ab63fa",
          "pattern": {
           "shape": ""
          }
         },
         "name": "Phytoplankton Colony",
         "offsetgroup": "Phytoplankton Colony",
         "orientation": "h",
         "showlegend": true,
         "type": "histogram",
         "x": [
          0.057697770307005264,
          0.15587772609740236,
          0.09286071118838403,
          0.395387980476713,
          0.09406397780803699,
          0.0759695602761161,
          0.07834109766647877,
          0.04586131314850898,
          0.059155273308578296
         ],
         "xaxis": "x",
         "y": [
          "51_21",
          "51_19",
          "51_18",
          "51_17",
          "51_16",
          "51_11",
          "51_10",
          "51_6",
          "51_2"
         ],
         "yaxis": "y"
        },
        {
         "alignmentgroup": "True",
         "bingroup": "y",
         "histfunc": "sum",
         "hovertemplate": "Taxon=Bacillariophyceae<br>sum of rel_cell_density_l_per_sample=%{x}<br>Comments=%{y}<extra></extra>",
         "legendgroup": "Bacillariophyceae",
         "marker": {
          "color": "#FFA15A",
          "pattern": {
           "shape": ""
          }
         },
         "name": "Bacillariophyceae",
         "offsetgroup": "Bacillariophyceae",
         "orientation": "h",
         "showlegend": true,
         "type": "histogram",
         "x": [
          0.025125750632984712,
          0.020782548121508315
         ],
         "xaxis": "x",
         "y": [
          "51_21",
          "51_7"
         ],
         "yaxis": "y"
        },
        {
         "alignmentgroup": "True",
         "bingroup": "y",
         "histfunc": "sum",
         "hovertemplate": "Taxon=Paralia<br>sum of rel_cell_density_l_per_sample=%{x}<br>Comments=%{y}<extra></extra>",
         "legendgroup": "Paralia",
         "marker": {
          "color": "#19d3f3",
          "pattern": {
           "shape": ""
          }
         },
         "name": "Paralia",
         "offsetgroup": "Paralia",
         "orientation": "h",
         "showlegend": true,
         "type": "histogram",
         "x": [
          0.04112205251225398,
          0.0368813460740351,
          0.04236462510590413,
          0.04130179090242154,
          0.04861677827006337,
          0.03566793655204618,
          0.021188903545681557,
          0.02321346211901167,
          0.06370913526382999,
          0.03401289928543038,
          0.0351821024739349,
          0.025289214225164242,
          0.022991490934794804,
          0.02401332413283517
         ],
         "xaxis": "x",
         "y": [
          "51_21",
          "51_20",
          "51_16",
          "51_15",
          "51_11",
          "51_10",
          "51_9",
          "51_7",
          "51_6",
          "51_5",
          "51_4",
          "51_3",
          "51_2",
          "51_1"
         ],
         "yaxis": "y"
        },
        {
         "alignmentgroup": "True",
         "bingroup": "y",
         "histfunc": "sum",
         "hovertemplate": "Taxon=Nauplii<br>sum of rel_cell_density_l_per_sample=%{x}<br>Comments=%{y}<extra></extra>",
         "legendgroup": "Nauplii",
         "marker": {
          "color": "#FF6692",
          "pattern": {
           "shape": ""
          }
         },
         "name": "Nauplii",
         "offsetgroup": "Nauplii",
         "orientation": "h",
         "showlegend": true,
         "type": "histogram",
         "x": [
          0.023246850800995648,
          0.029247719423761972,
          0.06677842845714116,
          0.09285796624272044,
          0.03880585159012779,
          0.035535856136478465,
          0.13391560053111953,
          0.02265732222289998,
          0.10161268168334109,
          0.059473449043646175,
          0.10549231820616455,
          0.06978249558049865,
          0.044912003445907345,
          0.03713895431592004,
          0.027210450130937768,
          0.07364183845485786,
          0.12037458217772921,
          0.11675002809315876,
          0.07890325274787943
         ],
         "xaxis": "x",
         "y": [
          "51_21",
          "51_20",
          "51_19",
          "51_18",
          "51_17",
          "51_15",
          "51_13",
          "51_12",
          "51_11",
          "51_10",
          "51_9",
          "51_8",
          "51_7",
          "51_6",
          "51_5",
          "51_4",
          "51_3",
          "51_2",
          "51_1"
         ],
         "yaxis": "y"
        },
        {
         "alignmentgroup": "True",
         "bingroup": "y",
         "histfunc": "sum",
         "hovertemplate": "Taxon=Bellerochea horologicalis<br>sum of rel_cell_density_l_per_sample=%{x}<br>Comments=%{y}<extra></extra>",
         "legendgroup": "Bellerochea horologicalis",
         "marker": {
          "color": "#B6E880",
          "pattern": {
           "shape": ""
          }
         },
         "name": "Bellerochea horologicalis",
         "offsetgroup": "Bellerochea horologicalis",
         "orientation": "h",
         "showlegend": true,
         "type": "histogram",
         "x": [
          0.13247111453796093,
          0.11051326712325941,
          0.0883542526636241,
          0.049999176533013175,
          0.04228572355981668,
          0.03327900542192357,
          0.02989280563463028,
          0.04103577281420267,
          0.026362689706867677,
          0.10987578569923812,
          0.06778734301627024,
          0.0847629232838024,
          0.04715600029474878,
          0.06802579857086076,
          0.04645502497463492,
          0.035427732293892206,
          0.03087418756945226
         ],
         "xaxis": "x",
         "y": [
          "51_21",
          "51_20",
          "51_19",
          "51_18",
          "51_17",
          "51_16",
          "51_15",
          "51_11",
          "51_10",
          "51_9",
          "51_8",
          "51_7",
          "51_6",
          "51_5",
          "51_4",
          "51_3",
          "51_1"
         ],
         "yaxis": "y"
        },
        {
         "alignmentgroup": "True",
         "bingroup": "y",
         "histfunc": "sum",
         "hovertemplate": "Taxon=Biddulphianae<br>sum of rel_cell_density_l_per_sample=%{x}<br>Comments=%{y}<extra></extra>",
         "legendgroup": "Biddulphianae",
         "marker": {
          "color": "#FF97FF",
          "pattern": {
           "shape": ""
          }
         },
         "name": "Biddulphianae",
         "offsetgroup": "Biddulphianae",
         "orientation": "h",
         "showlegend": true,
         "type": "histogram",
         "x": [
          0.13037031109625813,
          0.15296303797964436,
          0.11624262714577463,
          0.12856813478475237,
          0.2096802650888696,
          0.18643615158165838,
          0.08591948453297114,
          0.10974868393079565,
          0.02265735520303854,
          0.17631848992492608,
          0.20341465213660706,
          0.18599562238370454,
          0.1500430568638312,
          0.09061864329319158,
          0.2618199835915946,
          0.2721104920055774,
          0.12877200448539167,
          0.1219899833177234,
          0.05844298843696842,
          0.19039515359834688
         ],
         "xaxis": "x",
         "y": [
          "51_21",
          "51_20",
          "51_19",
          "51_18",
          "51_17",
          "51_16",
          "51_15",
          "51_13",
          "51_12",
          "51_11",
          "51_10",
          "51_9",
          "51_8",
          "51_7",
          "51_6",
          "51_5",
          "51_4",
          "51_3",
          "51_2",
          "51_1"
         ],
         "yaxis": "y"
        },
        {
         "alignmentgroup": "True",
         "bingroup": "y",
         "histfunc": "sum",
         "hovertemplate": "Taxon=Actinoptychus<br>sum of rel_cell_density_l_per_sample=%{x}<br>Comments=%{y}<extra></extra>",
         "legendgroup": "Actinoptychus",
         "marker": {
          "color": "#FECB52",
          "pattern": {
           "shape": ""
          }
         },
         "name": "Actinoptychus",
         "offsetgroup": "Actinoptychus",
         "orientation": "h",
         "showlegend": true,
         "type": "histogram",
         "x": [
          0.028384419997889272,
          0.024140504141547968,
          0.02040952598781844
         ],
         "xaxis": "x",
         "y": [
          "51_21",
          "51_8",
          "51_5"
         ],
         "yaxis": "y"
        },
        {
         "alignmentgroup": "True",
         "bingroup": "y",
         "histfunc": "sum",
         "hovertemplate": "Taxon=Centric Diatom<br>sum of rel_cell_density_l_per_sample=%{x}<br>Comments=%{y}<extra></extra>",
         "legendgroup": "Centric Diatom",
         "marker": {
          "color": "#636efa",
          "pattern": {
           "shape": ""
          }
         },
         "name": "Centric Diatom",
         "offsetgroup": "Centric Diatom",
         "orientation": "h",
         "showlegend": true,
         "type": "histogram",
         "x": [
          0.15106801748353482,
          0.17992571395578016,
          0.07354863189803663,
          0.08571300475800452,
          0.05296910579318201,
          0.11299173353964351,
          0.1926631456065365,
          0.10585011114366476,
          0.03295546944745857,
          0.0793083614463006,
          0.1333520558130786,
          0.18453466329456175,
          0.15449500272718794,
          0.11230959627918899,
          0.08836797397854601,
          0.08163243960085759,
          0.04737289398392992,
          0.06456070650704311,
          0.06977339408500981,
          0.046312187683407086
         ],
         "xaxis": "x",
         "y": [
          "51_21",
          "51_20",
          "51_19",
          "51_18",
          "51_17",
          "51_16",
          "51_15",
          "51_13",
          "51_12",
          "51_11",
          "51_10",
          "51_9",
          "51_8",
          "51_7",
          "51_6",
          "51_5",
          "51_4",
          "51_3",
          "51_2",
          "51_1"
         ],
         "yaxis": "y"
        },
        {
         "alignmentgroup": "True",
         "bingroup": "y",
         "histfunc": "sum",
         "hovertemplate": "Taxon=Zygoceros<br>sum of rel_cell_density_l_per_sample=%{x}<br>Comments=%{y}<extra></extra>",
         "legendgroup": "Zygoceros",
         "marker": {
          "color": "#EF553B",
          "pattern": {
           "shape": ""
          }
         },
         "name": "Zygoceros",
         "offsetgroup": "Zygoceros",
         "orientation": "h",
         "showlegend": true,
         "type": "histogram",
         "x": [
          0.17644239629050926,
          0.3233746834805295,
          0.19211206040708256,
          0.2785729837763256,
          0.05482356548486294,
          0.1561340211755423,
          0.06506907637592907,
          0.13583560745024317,
          0.10989953534504078,
          0.1440837028982346,
          0.09504982929675637,
          0.1675282699217209,
          0.2556050660330534,
          0.24086715960970362,
          0.17006928896761317,
          0.20005596803942335,
          0.09447458894440751,
          0.0933166948914287,
          0.06518122377509897
         ],
         "xaxis": "x",
         "y": [
          "51_21",
          "51_20",
          "51_19",
          "51_18",
          "51_17",
          "51_16",
          "51_15",
          "51_13",
          "51_11",
          "51_10",
          "51_9",
          "51_8",
          "51_7",
          "51_6",
          "51_5",
          "51_4",
          "51_3",
          "51_2",
          "51_1"
         ],
         "yaxis": "y"
        },
        {
         "alignmentgroup": "True",
         "bingroup": "y",
         "histfunc": "sum",
         "hovertemplate": "Taxon=Noctilucales<br>sum of rel_cell_density_l_per_sample=%{x}<br>Comments=%{y}<extra></extra>",
         "legendgroup": "Noctilucales",
         "marker": {
          "color": "#00cc96",
          "pattern": {
           "shape": ""
          }
         },
         "name": "Noctilucales",
         "offsetgroup": "Noctilucales",
         "orientation": "h",
         "showlegend": true,
         "type": "histogram",
         "x": [
          0.06950763078880152,
          0.02137494780236392,
          0.028794631515992753,
          0.02618822585111393,
          0.029844227682468055,
          0.04479956612843462,
          0.0332154016970044,
          0.12436892113762475,
          0.030188897756678632,
          0.14285502656663696,
          0.12877200448539167,
          0.028854255881236586,
          0.021538653468656913,
          0.05317274900406918
         ],
         "xaxis": "x",
         "y": [
          "51_19",
          "51_17",
          "51_15",
          "51_11",
          "51_10",
          "51_9",
          "51_8",
          "51_7",
          "51_6",
          "51_5",
          "51_4",
          "51_3",
          "51_2",
          "51_1"
         ],
         "yaxis": "y"
        },
        {
         "alignmentgroup": "True",
         "bingroup": "y",
         "histfunc": "sum",
         "hovertemplate": "Taxon=Long (chained) diatom<br>sum of rel_cell_density_l_per_sample=%{x}<br>Comments=%{y}<extra></extra>",
         "legendgroup": "Long (chained) diatom",
         "marker": {
          "color": "#ab63fa",
          "pattern": {
           "shape": ""
          }
         },
         "name": "Long (chained) diatom",
         "offsetgroup": "Long (chained) diatom",
         "orientation": "h",
         "showlegend": true,
         "type": "histogram",
         "x": [
          0.035313919495213245,
          0.05556617231965761,
          0.058315225543930274,
          0.07134640985181766,
          0.0758659851517538,
          0.7497412172005955,
          0.0695831365929517,
          0.05133530534283075,
          0.028873225343948646,
          0.0437586984248476,
          0.05095324161670257,
          0.03304286274455754,
          0.05628457696238595,
          0.11174046708254416,
          0.1237963763454759,
          0.09948644727117885
         ],
         "xaxis": "x",
         "y": [
          "51_19",
          "51_17",
          "51_16",
          "51_15",
          "51_13",
          "51_12",
          "51_11",
          "51_10",
          "51_9",
          "51_8",
          "51_7",
          "51_6",
          "51_4",
          "51_3",
          "51_2",
          "51_1"
         ],
         "yaxis": "y"
        },
        {
         "alignmentgroup": "True",
         "bingroup": "y",
         "histfunc": "sum",
         "hovertemplate": "Taxon=Peritrichia<br>sum of rel_cell_density_l_per_sample=%{x}<br>Comments=%{y}<extra></extra>",
         "legendgroup": "Peritrichia",
         "marker": {
          "color": "#FFA15A",
          "pattern": {
           "shape": ""
          }
         },
         "name": "Peritrichia",
         "offsetgroup": "Peritrichia",
         "orientation": "h",
         "showlegend": true,
         "type": "histogram",
         "x": [
          0.02142939488962707,
          0.020955263281469093
         ],
         "xaxis": "x",
         "y": [
          "51_18",
          "51_6"
         ],
         "yaxis": "y"
        },
        {
         "alignmentgroup": "True",
         "bingroup": "y",
         "histfunc": "sum",
         "hovertemplate": "Taxon=Pennate Diatom<br>sum of rel_cell_density_l_per_sample=%{x}<br>Comments=%{y}<extra></extra>",
         "legendgroup": "Pennate Diatom",
         "marker": {
          "color": "#19d3f3",
          "pattern": {
           "shape": ""
          }
         },
         "name": "Pennate Diatom",
         "offsetgroup": "Pennate Diatom",
         "orientation": "h",
         "showlegend": true,
         "type": "histogram",
         "x": [
          0.03576584566721323,
          0.12217804708309365,
          0.02528975881120409
         ],
         "xaxis": "x",
         "y": [
          "51_16",
          "51_13",
          "51_3"
         ],
         "yaxis": "y"
        },
        {
         "alignmentgroup": "True",
         "bingroup": "y",
         "histfunc": "sum",
         "hovertemplate": "Taxon=Pseudo-nitzschia<br>sum of rel_cell_density_l_per_sample=%{x}<br>Comments=%{y}<extra></extra>",
         "legendgroup": "Pseudo-nitzschia",
         "marker": {
          "color": "#FF6692",
          "pattern": {
           "shape": ""
          }
         },
         "name": "Pseudo-nitzschia",
         "offsetgroup": "Pseudo-nitzschia",
         "orientation": "h",
         "showlegend": true,
         "type": "histogram",
         "x": [
          0.036103989093693695,
          0.03564690955069613,
          0.07329125082387065,
          0.0321404270307933,
          0.04273270903569201,
          0.03430522350500835
         ],
         "xaxis": "x",
         "y": [
          "51_16",
          "51_15",
          "51_13",
          "51_3",
          "51_2",
          "51_1"
         ],
         "yaxis": "y"
        },
        {
         "alignmentgroup": "True",
         "bingroup": "y",
         "histfunc": "sum",
         "hovertemplate": "Taxon=Mollusca<br>sum of rel_cell_density_l_per_sample=%{x}<br>Comments=%{y}<extra></extra>",
         "legendgroup": "Mollusca",
         "marker": {
          "color": "#B6E880",
          "pattern": {
           "shape": ""
          }
         },
         "name": "Mollusca",
         "offsetgroup": "Mollusca",
         "orientation": "h",
         "showlegend": true,
         "type": "histogram",
         "x": [
          0.05104555798432971,
          0.10063948803157646
         ],
         "xaxis": "x",
         "y": [
          "51_16",
          "51_15"
         ],
         "yaxis": "y"
        },
        {
         "alignmentgroup": "True",
         "bingroup": "y",
         "histfunc": "sum",
         "hovertemplate": "Taxon=Guinardia flaccida<br>sum of rel_cell_density_l_per_sample=%{x}<br>Comments=%{y}<extra></extra>",
         "legendgroup": "Guinardia flaccida",
         "marker": {
          "color": "#FF97FF",
          "pattern": {
           "shape": ""
          }
         },
         "name": "Guinardia flaccida",
         "offsetgroup": "Guinardia flaccida",
         "orientation": "h",
         "showlegend": true,
         "type": "histogram",
         "x": [
          0.04804045899336179,
          0.04588602525923258,
          0.04443075753981483,
          0.027687248634017416,
          0.03259814104700242,
          0.04890765193598818,
          0.06998374381935883,
          0.06860863437461714
         ],
         "xaxis": "x",
         "y": [
          "51_15",
          "51_13",
          "51_11",
          "51_8",
          "51_4",
          "51_3",
          "51_2",
          "51_1"
         ],
         "yaxis": "y"
        },
        {
         "alignmentgroup": "True",
         "bingroup": "y",
         "histfunc": "sum",
         "hovertemplate": "Taxon=Synedra/Thalassionema<br>sum of rel_cell_density_l_per_sample=%{x}<br>Comments=%{y}<extra></extra>",
         "legendgroup": "Synedra/Thalassionema",
         "marker": {
          "color": "#FECB52",
          "pattern": {
           "shape": ""
          }
         },
         "name": "Synedra/Thalassionema",
         "offsetgroup": "Synedra/Thalassionema",
         "orientation": "h",
         "showlegend": true,
         "type": "histogram",
         "x": [
          0.04585045548430746,
          0.027519268346838644,
          0.021892270008917112,
          0.0434247474546367,
          0.04116699329209698
         ],
         "xaxis": "x",
         "y": [
          "51_15",
          "51_11",
          "51_3",
          "51_2",
          "51_1"
         ],
         "yaxis": "y"
        },
        {
         "alignmentgroup": "True",
         "bingroup": "y",
         "histfunc": "sum",
         "hovertemplate": "Taxon=Trieres mobiliensis/T. regia<br>sum of rel_cell_density_l_per_sample=%{x}<br>Comments=%{y}<extra></extra>",
         "legendgroup": "Trieres mobiliensis/T. regia",
         "marker": {
          "color": "#636efa",
          "pattern": {
           "shape": ""
          }
         },
         "name": "Trieres mobiliensis/T. regia",
         "offsetgroup": "Trieres mobiliensis/T. regia",
         "orientation": "h",
         "showlegend": true,
         "type": "histogram",
         "x": [
          0.032836973874589906
         ],
         "xaxis": "x",
         "y": [
          "51_13"
         ],
         "yaxis": "y"
        },
        {
         "alignmentgroup": "True",
         "bingroup": "y",
         "histfunc": "sum",
         "hovertemplate": "Taxon=Rhizosolenia<br>sum of rel_cell_density_l_per_sample=%{x}<br>Comments=%{y}<extra></extra>",
         "legendgroup": "Rhizosolenia",
         "marker": {
          "color": "#EF553B",
          "pattern": {
           "shape": ""
          }
         },
         "name": "Rhizosolenia",
         "offsetgroup": "Rhizosolenia",
         "orientation": "h",
         "showlegend": true,
         "type": "histogram",
         "x": [
          0.029866368264799784,
          0.03129533281527462,
          0.026156568675633204,
          0.028933288731011704,
          0.0555905087192198,
          0.1050008697840325,
          0.10786823511012306,
          0.08576562680740799
         ],
         "xaxis": "x",
         "y": [
          "51_12",
          "51_10",
          "51_9",
          "51_8",
          "51_4",
          "51_3",
          "51_2",
          "51_1"
         ],
         "yaxis": "y"
        },
        {
         "alignmentgroup": "True",
         "bingroup": "y",
         "histfunc": "sum",
         "hovertemplate": "Taxon=Rhizosolenia setigera (f. pungens)/R. hebetata f. semispina<br>sum of rel_cell_density_l_per_sample=%{x}<br>Comments=%{y}<extra></extra>",
         "legendgroup": "Rhizosolenia setigera (f. pungens)/R. hebetata f. semispina",
         "marker": {
          "color": "#00cc96",
          "pattern": {
           "shape": ""
          }
         },
         "name": "Rhizosolenia setigera (f. pungens)/R. hebetata f. semispina",
         "offsetgroup": "Rhizosolenia setigera (f. pungens)/R. hebetata f. semispina",
         "orientation": "h",
         "showlegend": true,
         "type": "histogram",
         "x": [
          0.02681155982590481,
          0.023323148500681127
         ],
         "xaxis": "x",
         "y": [
          "51_10",
          "51_2"
         ],
         "yaxis": "y"
        },
        {
         "alignmentgroup": "True",
         "bingroup": "y",
         "histfunc": "sum",
         "hovertemplate": "Taxon=Ditylum brightwellii<br>sum of rel_cell_density_l_per_sample=%{x}<br>Comments=%{y}<extra></extra>",
         "legendgroup": "Ditylum brightwellii",
         "marker": {
          "color": "#ab63fa",
          "pattern": {
           "shape": ""
          }
         },
         "name": "Ditylum brightwellii",
         "offsetgroup": "Ditylum brightwellii",
         "orientation": "h",
         "showlegend": true,
         "type": "histogram",
         "x": [
          0.020408654526037052
         ],
         "xaxis": "x",
         "y": [
          "51_5"
         ],
         "yaxis": "y"
        },
        {
         "alignmentgroup": "True",
         "bingroup": "y",
         "histfunc": "sum",
         "hovertemplate": "Taxon=Chaetoceros<br>sum of rel_cell_density_l_per_sample=%{x}<br>Comments=%{y}<extra></extra>",
         "legendgroup": "Chaetoceros",
         "marker": {
          "color": "#FFA15A",
          "pattern": {
           "shape": ""
          }
         },
         "name": "Chaetoceros",
         "offsetgroup": "Chaetoceros",
         "orientation": "h",
         "showlegend": true,
         "type": "histogram",
         "x": [
          0.029318418728279127,
          0.020110682815317846,
          0.02744315165525371
         ],
         "xaxis": "x",
         "y": [
          "51_4",
          "51_3",
          "51_1"
         ],
         "yaxis": "y"
        },
        {
         "alignmentgroup": "True",
         "bingroup": "y",
         "histfunc": "sum",
         "hovertemplate": "Taxon=Bellerochea<br>sum of rel_cell_density_l_per_sample=%{x}<br>Comments=%{y}<extra></extra>",
         "legendgroup": "Bellerochea",
         "marker": {
          "color": "#19d3f3",
          "pattern": {
           "shape": ""
          }
         },
         "name": "Bellerochea",
         "offsetgroup": "Bellerochea",
         "orientation": "h",
         "showlegend": true,
         "type": "histogram",
         "x": [
          0.02504930925152852
         ],
         "xaxis": "x",
         "y": [
          "51_2"
         ],
         "yaxis": "y"
        }
       ],
       "layout": {
        "autosize": false,
        "barmode": "relative",
        "font": {
         "family": "Arial",
         "size": 10
        },
        "height": 900,
        "legend": {
         "title": {
          "text": "Taxon"
         },
         "tracegroupgap": 0
        },
        "margin": {
         "t": 60
        },
        "template": {
         "data": {
          "bar": [
           {
            "error_x": {
             "color": "#2a3f5f"
            },
            "error_y": {
             "color": "#2a3f5f"
            },
            "marker": {
             "line": {
              "color": "#E5ECF6",
              "width": 0.5
             },
             "pattern": {
              "fillmode": "overlay",
              "size": 10,
              "solidity": 0.2
             }
            },
            "type": "bar"
           }
          ],
          "barpolar": [
           {
            "marker": {
             "line": {
              "color": "#E5ECF6",
              "width": 0.5
             },
             "pattern": {
              "fillmode": "overlay",
              "size": 10,
              "solidity": 0.2
             }
            },
            "type": "barpolar"
           }
          ],
          "carpet": [
           {
            "aaxis": {
             "endlinecolor": "#2a3f5f",
             "gridcolor": "white",
             "linecolor": "white",
             "minorgridcolor": "white",
             "startlinecolor": "#2a3f5f"
            },
            "baxis": {
             "endlinecolor": "#2a3f5f",
             "gridcolor": "white",
             "linecolor": "white",
             "minorgridcolor": "white",
             "startlinecolor": "#2a3f5f"
            },
            "type": "carpet"
           }
          ],
          "choropleth": [
           {
            "colorbar": {
             "outlinewidth": 0,
             "ticks": ""
            },
            "type": "choropleth"
           }
          ],
          "contour": [
           {
            "colorbar": {
             "outlinewidth": 0,
             "ticks": ""
            },
            "colorscale": [
             [
              0,
              "#0d0887"
             ],
             [
              0.1111111111111111,
              "#46039f"
             ],
             [
              0.2222222222222222,
              "#7201a8"
             ],
             [
              0.3333333333333333,
              "#9c179e"
             ],
             [
              0.4444444444444444,
              "#bd3786"
             ],
             [
              0.5555555555555556,
              "#d8576b"
             ],
             [
              0.6666666666666666,
              "#ed7953"
             ],
             [
              0.7777777777777778,
              "#fb9f3a"
             ],
             [
              0.8888888888888888,
              "#fdca26"
             ],
             [
              1,
              "#f0f921"
             ]
            ],
            "type": "contour"
           }
          ],
          "contourcarpet": [
           {
            "colorbar": {
             "outlinewidth": 0,
             "ticks": ""
            },
            "type": "contourcarpet"
           }
          ],
          "heatmap": [
           {
            "colorbar": {
             "outlinewidth": 0,
             "ticks": ""
            },
            "colorscale": [
             [
              0,
              "#0d0887"
             ],
             [
              0.1111111111111111,
              "#46039f"
             ],
             [
              0.2222222222222222,
              "#7201a8"
             ],
             [
              0.3333333333333333,
              "#9c179e"
             ],
             [
              0.4444444444444444,
              "#bd3786"
             ],
             [
              0.5555555555555556,
              "#d8576b"
             ],
             [
              0.6666666666666666,
              "#ed7953"
             ],
             [
              0.7777777777777778,
              "#fb9f3a"
             ],
             [
              0.8888888888888888,
              "#fdca26"
             ],
             [
              1,
              "#f0f921"
             ]
            ],
            "type": "heatmap"
           }
          ],
          "heatmapgl": [
           {
            "colorbar": {
             "outlinewidth": 0,
             "ticks": ""
            },
            "colorscale": [
             [
              0,
              "#0d0887"
             ],
             [
              0.1111111111111111,
              "#46039f"
             ],
             [
              0.2222222222222222,
              "#7201a8"
             ],
             [
              0.3333333333333333,
              "#9c179e"
             ],
             [
              0.4444444444444444,
              "#bd3786"
             ],
             [
              0.5555555555555556,
              "#d8576b"
             ],
             [
              0.6666666666666666,
              "#ed7953"
             ],
             [
              0.7777777777777778,
              "#fb9f3a"
             ],
             [
              0.8888888888888888,
              "#fdca26"
             ],
             [
              1,
              "#f0f921"
             ]
            ],
            "type": "heatmapgl"
           }
          ],
          "histogram": [
           {
            "marker": {
             "pattern": {
              "fillmode": "overlay",
              "size": 10,
              "solidity": 0.2
             }
            },
            "type": "histogram"
           }
          ],
          "histogram2d": [
           {
            "colorbar": {
             "outlinewidth": 0,
             "ticks": ""
            },
            "colorscale": [
             [
              0,
              "#0d0887"
             ],
             [
              0.1111111111111111,
              "#46039f"
             ],
             [
              0.2222222222222222,
              "#7201a8"
             ],
             [
              0.3333333333333333,
              "#9c179e"
             ],
             [
              0.4444444444444444,
              "#bd3786"
             ],
             [
              0.5555555555555556,
              "#d8576b"
             ],
             [
              0.6666666666666666,
              "#ed7953"
             ],
             [
              0.7777777777777778,
              "#fb9f3a"
             ],
             [
              0.8888888888888888,
              "#fdca26"
             ],
             [
              1,
              "#f0f921"
             ]
            ],
            "type": "histogram2d"
           }
          ],
          "histogram2dcontour": [
           {
            "colorbar": {
             "outlinewidth": 0,
             "ticks": ""
            },
            "colorscale": [
             [
              0,
              "#0d0887"
             ],
             [
              0.1111111111111111,
              "#46039f"
             ],
             [
              0.2222222222222222,
              "#7201a8"
             ],
             [
              0.3333333333333333,
              "#9c179e"
             ],
             [
              0.4444444444444444,
              "#bd3786"
             ],
             [
              0.5555555555555556,
              "#d8576b"
             ],
             [
              0.6666666666666666,
              "#ed7953"
             ],
             [
              0.7777777777777778,
              "#fb9f3a"
             ],
             [
              0.8888888888888888,
              "#fdca26"
             ],
             [
              1,
              "#f0f921"
             ]
            ],
            "type": "histogram2dcontour"
           }
          ],
          "mesh3d": [
           {
            "colorbar": {
             "outlinewidth": 0,
             "ticks": ""
            },
            "type": "mesh3d"
           }
          ],
          "parcoords": [
           {
            "line": {
             "colorbar": {
              "outlinewidth": 0,
              "ticks": ""
             }
            },
            "type": "parcoords"
           }
          ],
          "pie": [
           {
            "automargin": true,
            "type": "pie"
           }
          ],
          "scatter": [
           {
            "fillpattern": {
             "fillmode": "overlay",
             "size": 10,
             "solidity": 0.2
            },
            "type": "scatter"
           }
          ],
          "scatter3d": [
           {
            "line": {
             "colorbar": {
              "outlinewidth": 0,
              "ticks": ""
             }
            },
            "marker": {
             "colorbar": {
              "outlinewidth": 0,
              "ticks": ""
             }
            },
            "type": "scatter3d"
           }
          ],
          "scattercarpet": [
           {
            "marker": {
             "colorbar": {
              "outlinewidth": 0,
              "ticks": ""
             }
            },
            "type": "scattercarpet"
           }
          ],
          "scattergeo": [
           {
            "marker": {
             "colorbar": {
              "outlinewidth": 0,
              "ticks": ""
             }
            },
            "type": "scattergeo"
           }
          ],
          "scattergl": [
           {
            "marker": {
             "colorbar": {
              "outlinewidth": 0,
              "ticks": ""
             }
            },
            "type": "scattergl"
           }
          ],
          "scattermapbox": [
           {
            "marker": {
             "colorbar": {
              "outlinewidth": 0,
              "ticks": ""
             }
            },
            "type": "scattermapbox"
           }
          ],
          "scatterpolar": [
           {
            "marker": {
             "colorbar": {
              "outlinewidth": 0,
              "ticks": ""
             }
            },
            "type": "scatterpolar"
           }
          ],
          "scatterpolargl": [
           {
            "marker": {
             "colorbar": {
              "outlinewidth": 0,
              "ticks": ""
             }
            },
            "type": "scatterpolargl"
           }
          ],
          "scatterternary": [
           {
            "marker": {
             "colorbar": {
              "outlinewidth": 0,
              "ticks": ""
             }
            },
            "type": "scatterternary"
           }
          ],
          "surface": [
           {
            "colorbar": {
             "outlinewidth": 0,
             "ticks": ""
            },
            "colorscale": [
             [
              0,
              "#0d0887"
             ],
             [
              0.1111111111111111,
              "#46039f"
             ],
             [
              0.2222222222222222,
              "#7201a8"
             ],
             [
              0.3333333333333333,
              "#9c179e"
             ],
             [
              0.4444444444444444,
              "#bd3786"
             ],
             [
              0.5555555555555556,
              "#d8576b"
             ],
             [
              0.6666666666666666,
              "#ed7953"
             ],
             [
              0.7777777777777778,
              "#fb9f3a"
             ],
             [
              0.8888888888888888,
              "#fdca26"
             ],
             [
              1,
              "#f0f921"
             ]
            ],
            "type": "surface"
           }
          ],
          "table": [
           {
            "cells": {
             "fill": {
              "color": "#EBF0F8"
             },
             "line": {
              "color": "white"
             }
            },
            "header": {
             "fill": {
              "color": "#C8D4E3"
             },
             "line": {
              "color": "white"
             }
            },
            "type": "table"
           }
          ]
         },
         "layout": {
          "annotationdefaults": {
           "arrowcolor": "#2a3f5f",
           "arrowhead": 0,
           "arrowwidth": 1
          },
          "autotypenumbers": "strict",
          "coloraxis": {
           "colorbar": {
            "outlinewidth": 0,
            "ticks": ""
           }
          },
          "colorscale": {
           "diverging": [
            [
             0,
             "#8e0152"
            ],
            [
             0.1,
             "#c51b7d"
            ],
            [
             0.2,
             "#de77ae"
            ],
            [
             0.3,
             "#f1b6da"
            ],
            [
             0.4,
             "#fde0ef"
            ],
            [
             0.5,
             "#f7f7f7"
            ],
            [
             0.6,
             "#e6f5d0"
            ],
            [
             0.7,
             "#b8e186"
            ],
            [
             0.8,
             "#7fbc41"
            ],
            [
             0.9,
             "#4d9221"
            ],
            [
             1,
             "#276419"
            ]
           ],
           "sequential": [
            [
             0,
             "#0d0887"
            ],
            [
             0.1111111111111111,
             "#46039f"
            ],
            [
             0.2222222222222222,
             "#7201a8"
            ],
            [
             0.3333333333333333,
             "#9c179e"
            ],
            [
             0.4444444444444444,
             "#bd3786"
            ],
            [
             0.5555555555555556,
             "#d8576b"
            ],
            [
             0.6666666666666666,
             "#ed7953"
            ],
            [
             0.7777777777777778,
             "#fb9f3a"
            ],
            [
             0.8888888888888888,
             "#fdca26"
            ],
            [
             1,
             "#f0f921"
            ]
           ],
           "sequentialminus": [
            [
             0,
             "#0d0887"
            ],
            [
             0.1111111111111111,
             "#46039f"
            ],
            [
             0.2222222222222222,
             "#7201a8"
            ],
            [
             0.3333333333333333,
             "#9c179e"
            ],
            [
             0.4444444444444444,
             "#bd3786"
            ],
            [
             0.5555555555555556,
             "#d8576b"
            ],
            [
             0.6666666666666666,
             "#ed7953"
            ],
            [
             0.7777777777777778,
             "#fb9f3a"
            ],
            [
             0.8888888888888888,
             "#fdca26"
            ],
            [
             1,
             "#f0f921"
            ]
           ]
          },
          "colorway": [
           "#636efa",
           "#EF553B",
           "#00cc96",
           "#ab63fa",
           "#FFA15A",
           "#19d3f3",
           "#FF6692",
           "#B6E880",
           "#FF97FF",
           "#FECB52"
          ],
          "font": {
           "color": "#2a3f5f"
          },
          "geo": {
           "bgcolor": "white",
           "lakecolor": "white",
           "landcolor": "#E5ECF6",
           "showlakes": true,
           "showland": true,
           "subunitcolor": "white"
          },
          "hoverlabel": {
           "align": "left"
          },
          "hovermode": "closest",
          "mapbox": {
           "style": "light"
          },
          "paper_bgcolor": "white",
          "plot_bgcolor": "#E5ECF6",
          "polar": {
           "angularaxis": {
            "gridcolor": "white",
            "linecolor": "white",
            "ticks": ""
           },
           "bgcolor": "#E5ECF6",
           "radialaxis": {
            "gridcolor": "white",
            "linecolor": "white",
            "ticks": ""
           }
          },
          "scene": {
           "xaxis": {
            "backgroundcolor": "#E5ECF6",
            "gridcolor": "white",
            "gridwidth": 2,
            "linecolor": "white",
            "showbackground": true,
            "ticks": "",
            "zerolinecolor": "white"
           },
           "yaxis": {
            "backgroundcolor": "#E5ECF6",
            "gridcolor": "white",
            "gridwidth": 2,
            "linecolor": "white",
            "showbackground": true,
            "ticks": "",
            "zerolinecolor": "white"
           },
           "zaxis": {
            "backgroundcolor": "#E5ECF6",
            "gridcolor": "white",
            "gridwidth": 2,
            "linecolor": "white",
            "showbackground": true,
            "ticks": "",
            "zerolinecolor": "white"
           }
          },
          "shapedefaults": {
           "line": {
            "color": "#2a3f5f"
           }
          },
          "ternary": {
           "aaxis": {
            "gridcolor": "white",
            "linecolor": "white",
            "ticks": ""
           },
           "baxis": {
            "gridcolor": "white",
            "linecolor": "white",
            "ticks": ""
           },
           "bgcolor": "#E5ECF6",
           "caxis": {
            "gridcolor": "white",
            "linecolor": "white",
            "ticks": ""
           }
          },
          "title": {
           "x": 0.05
          },
          "xaxis": {
           "automargin": true,
           "gridcolor": "white",
           "linecolor": "white",
           "ticks": "",
           "title": {
            "standoff": 15
           },
           "zerolinecolor": "white",
           "zerolinewidth": 2
          },
          "yaxis": {
           "automargin": true,
           "gridcolor": "white",
           "linecolor": "white",
           "ticks": "",
           "title": {
            "standoff": 15
           },
           "zerolinecolor": "white",
           "zerolinewidth": 2
          }
         }
        },
        "title": {},
        "width": 900,
        "xaxis": {
         "anchor": "y",
         "domain": [
          0,
          1
         ],
         "title": {
          "text": "relative cell density per L per month"
         }
        },
        "yaxis": {
         "anchor": "x",
         "domain": [
          0,
          1
         ],
         "title": {
          "text": "Month"
         }
        }
       }
      }
     },
     "metadata": {},
     "output_type": "display_data"
    },
    {
     "data": {
      "application/vnd.plotly.v1+json": {
       "config": {
        "plotlyServerURL": "https://plot.ly"
       },
       "data": [
        {
         "alignmentgroup": "True",
         "bingroup": "y",
         "histfunc": "sum",
         "hovertemplate": "Taxon=rare<br>sum of rel_cell_density_l_per_sample=%{x}<br>Comments=%{y}<extra></extra>",
         "legendgroup": "rare",
         "marker": {
          "color": "#636efa",
          "pattern": {
           "shape": ""
          }
         },
         "name": "rare",
         "offsetgroup": "rare",
         "orientation": "h",
         "showlegend": true,
         "type": "histogram",
         "x": [
          0.010289118004265576,
          0.0047255683337423205,
          0.002794091852624068,
          0.0009612610504882245,
          0.0009267175541184427,
          0.002803940372116345,
          0.0009267175541184427,
          0.01871083324791974,
          0.0009612610504882245,
          0.003774693155543945,
          0.01771651596042157,
          0.004657294344506654,
          0.0009267175541184427,
          0.0018773250221585352,
          0.014122067298742248,
          0.0009171021157076583,
          0.013093057041571848,
          0.0027608550427699156,
          0.00846580631525308,
          0.01673239958637491,
          0.003740474266901685,
          0.009382365885557227,
          0.0009612610504882245,
          0.001900950435823331,
          0.0009504752179116668,
          0.007443045203872092,
          0.003384144463447073,
          0.0009504752179116668,
          0.017474721901651048,
          0.0007622764677364035,
          0.0051194015049750175,
          0.0036050131848770176,
          0.004081765916690246,
          0.017296689886864478,
          0.003514023444404977,
          0.0074635594615469905,
          0.019723237657000344,
          0.017554431892767446,
          0.0009504752179116668,
          0.0015245529354728016,
          0.01195253329099756,
          0.0008568784376604921,
          0.007185811792649744,
          0.001900950435823331,
          0.009155086969142618,
          0.004821489745942544,
          0.005600947354142854,
          0.0007622764677364035,
          0.0009504752179116668,
          0.00918452137843889,
          0.00688841860680468,
          0.0057402201674874,
          0.011481359470215006,
          0.008036690582322903,
          0.0011480881501523597,
          0.0034444115179037356,
          0.00803650675670475,
          0.019518417728171932,
          0.010333050714824052,
          0.00229621306618521,
          0.0022961763003047195,
          0.0011481984566248514,
          0.005740881968173477,
          0.010332719821310852,
          0.0034443747498646418,
          0.0011480146242777785,
          0.0034445953698745637,
          0.01137545654315646,
          0.000682315618813534,
          0.004959742436302585,
          0.0007418322067096711,
          0.00290400172815494,
          0.0033944727078725075,
          0.00613616922125746,
          0.001364631237627068,
          0.004325233673377756,
          0.018493217131531237,
          0.01892379990052163,
          0.002046946856440609,
          0.009758547607492474,
          0.004857339391701408,
          0.019429357566805736,
          0.000682315618813534,
          0.006178621630653891,
          0.002103192662351599,
          0.0014836644134193437,
          0.001364631237627068,
          0.00557024907617545,
          0.002103192662351599,
          0.015099074777291815,
          0.007642443274440695,
          0.002741836821683852,
          0.006592270397758834,
          0.0033729585095837542,
          0.0007621570729213016,
          0.013047739618058302,
          0.016908492716802902,
          0.0007621570729213016,
          0.010879823959344236,
          0.003632244636576218,
          0.003831674290491013,
          0.0005470694188083007,
          0.0005470694188083007,
          0.0023543848788754413,
          0.009191459748442167,
          0.0012738905897721681,
          0.0006068798298610233,
          0.0006068798298610233,
          0.0030927943049018796,
          0.009076166163232516,
          0.0005470694188083007,
          0.007058287468335405,
          0.001150849211753127,
          0.0007621570729213016,
          0.019170029023919885,
          0.014628194989990802,
          0.014493648179394142,
          0.008403815945437092,
          0.0020646201333217743,
          0.009002963991712378,
          0.0008365853015005815,
          0.0020646201333217743,
          0.002697861607202312,
          0.0006280016656178276,
          0.0008365853015005815,
          0.006996095811405653,
          0.004129240266643542,
          0.0035083000536636683,
          0.0068025498060474325,
          0.0027073957977365,
          0.011155003647959814,
          0.0006363478459690007,
          0.004129240266643542,
          0.004942681953745968,
          0.0008365853015005815,
          0.012685459195883483,
          0.006627906380621376,
          0.0006363478459690007,
          0.0006363478459690007,
          0.009997213405399078,
          0.011155003647959814,
          0.01912954775669515,
          0.0006280016656178276,
          0.0027073957977365,
          0.01113473745751354,
          0.0045310595607465035,
          0.0028805520919912148,
          0.0008645785721490504,
          0.002663905340880243,
          0.0009001444754148808,
          0.004949284243866023,
          0.005349026784340236,
          0.0008645785721490504,
          0.004093393178261854,
          0.0009001444754148808,
          0.0006550628122442755,
          0.0023438495432086016,
          0.0035280125178003903,
          0.004949284243866023,
          0.0006550628122442755,
          0.0006550628122442755,
          0.012126081704112899,
          0.009181573740852366,
          0.003007118613266173,
          0.001729157144298098,
          0.0008645785721490504,
          0.012597371235527085,
          0.015886068275948417,
          0.0006550628122442755,
          0.015387818677351716,
          0.0008645785721490504,
          0.0047441620791020735,
          0.016957482353508926,
          0.0014907550602254694,
          0.0020010804997585142,
          0.00195886458761199,
          0.0006964420707251088,
          0.010096954162321639,
          0.000959196547573646,
          0.001000540249879256,
          0.002959105864904686,
          0.01293895831572863,
          0.0049179116714422174,
          0.018400579514974265,
          0.0020010804997585142,
          0.008172705485819765,
          0.000959196547573646,
          0.008472105543095718,
          0.01707083272945653,
          0.0023248609594036453,
          0.004564718547713719,
          0.008137335876240276,
          0.000959196547573646,
          0.002587791663145726,
          0.0074754763203079356,
          0.012596284284827647,
          0.012523472583107834,
          0.007045435718432885,
          0.00323641380322852,
          0.012944567155507368,
          0.012945655212914062,
          0.019418120109858265,
          0.009708516031307,
          0.009708153382761004,
          0.01941739473148049,
          0.006472827606457031,
          0.009708516031307,
          0.0032360511275870093,
          0.00323641380322852,
          0.0032360511275870093,
          0.0032360511275870093,
          0.006472827606457031,
          0.006472827606457031,
          0.0019443386213912367,
          0.001399779030229417,
          0.001399779030229417,
          0.007325954839037568,
          0.014525286476831066,
          0.0027995580604588395,
          0.007636096067841979,
          0.0026195352046332267,
          0.0009721693106956184,
          0.003116055170408099,
          0.0021509541693039975,
          0.0064329841483651996,
          0.0037815014731678587,
          0.01322371930996363,
          0.013308857413903035,
          0.0026195352046332267,
          0.00969993349421342,
          0.010441884755403892,
          0.01558027585204052,
          0.012463130573641634,
          0.0025317678368781678,
          0.0012658231180715685,
          0.017721928978587514,
          0.015189532905804753,
          0.013923993501605439,
          0.0025316462361431404,
          0.0012658231180715685,
          0.0025314435942070342,
          0.010126625476366296,
          0.003797266706871722,
          0.008860782092363106,
          0.0063288116177212805,
          0.011392468860415865,
          0.0012658231180715685,
          0.008860701029470862,
          0.016455903195583814,
          0.003797469354214696,
          0.013924256959894497,
          0.003797489620138632,
          0.010126747073694313,
          0.005063211410321036,
          0.015190262477119193,
          0.0012657217971035171,
          0.006329034528133057,
          0.002531544911119879,
          0.0025317678368781678,
          0.011976019251276393,
          0.018107329451867344,
          0.011953996594358788,
          0.007445029593784754,
          0.0038056015627145087,
          0.007061925642384737,
          0.013585857853433646,
          0.0018560088292161247,
          0.009077470202276599,
          0.0018560088292161247,
          0.0007284150386450894,
          0.00532485371444105,
          0.00163237003816143,
          0.0014568300772901787,
          0.0018560088292161247,
          0.010512761390211293,
          0.01720157760692975,
          0.0007283334039145325,
          0.0007284150386450894,
          0.00851147141078949,
          0.0014567484379848954,
          0.00163237003816143,
          0.0016322675400651885,
          0.0016322675400651885,
          0.002913496875969791,
          0.0014567484379848954,
          0.004896905114001067,
          0.0017620792628509367,
          0.0008810255246344767,
          0.006167333848562035,
          0.0008810255246344767,
          0.005286421186134543,
          0.006167362063241152,
          0.007929554185984618,
          0.0008811101721572185,
          0.007929765807426546,
          0.0035242149546728715,
          0.01585905194129151,
          0.0008810255246344767,
          0.0008811101721572185,
          0.0008810255246344767,
          0.0008810255246344767,
          0.0017620792628509367,
          0.0035243701436612983,
          0.0008811101721572185,
          0.007929469540570425,
          0.0026431047873348196,
          0.009691887391248117,
          0.003524130311894017,
          0.003916235294749399,
          0.0005866482007568057,
          0.0018158072974146496,
          0.015447513820128182,
          0.0013119158561688165,
          0.0006462975775342755,
          0.0006462975775342755,
          0.0024020157013070246,
          0.0051428855200420075,
          0.006245745774722221,
          0.005962083465861162,
          0.0005866482007568057,
          0.0036102216620006087,
          0.0006462975775342755,
          0.0020275171648700217,
          0.014915829723296494,
          0.00834694570801931,
          0.010179389853049878,
          0.007166844308178488,
          0.003185474286769004,
          0.0027665848364295527,
          0.014508041462357412,
          0.0024601199351328004,
          0.004075957914564279,
          0.004097098546678307,
          0.007100677825738265,
          0.01477473822337372,
          0.002412527351319122,
          0.0004942843260074541,
          0.001715158115398143,
          0.0009885686520149067,
          0.001173761752700075,
          0.0005436310008038032,
          0.005086140082767448,
          0.006442150648977256,
          0.012035342050788008,
          0.0018779083582999513,
          0.0004942843260074541,
          0.005058355831965831,
          0.0004942843260074541,
          0.006032095988983738,
          0.0004942843260074541,
          0.004062000103581914,
          0.0004942843260074541,
          0.004430677107499748,
          0.002257714542308116,
          0.004457672165714286,
          0.006801126652594238,
          0.0004942843260074541,
          0.0004942843260074541,
          0.004944935267610548,
          0.004589349393184976,
          0.0013849369742696387,
          0.0013141677646515838,
          0.013136438564167392,
          0.004500122358435735,
          0.0020917442812475704,
          0.006456779551003688,
          0.0013141677646515838,
          0.015122282426724224,
          0.011789587522417757,
          0.0026283355293031676,
          0.0026972492047666026,
          0.005795246393016952,
          0.01885027003179846,
          0.009270606142496866,
          0.0013849369742696387,
          0.0020917442812475704,
          0.013331950940142744,
          0.006275232843742709,
          0.0013141677646515838,
          0.0013849369742696387,
          0.00536290690260445,
          0.0013141677646515838,
          0.0007520305227183904,
          0.0013353693060107286,
          0.0007520305227183904,
          0.0015040610454367808,
          0.0030488923636316206,
          0.012719477184736568,
          0.0006003508027659272,
          0.009939989556593752,
          0.004477784086335039,
          0.0007520305227183904,
          0.009378602238038847,
          0.005424275393637524,
          0.001628714925521965,
          0.0008879490896999403,
          0.0007520305227183904,
          0.014734222023443391,
          0.010221576277649616,
          0.0022560915681551783,
          0.005190375678662816,
          0.0006003508027659272,
          0.0014327245510537697,
          0.0006003508027659272,
          0.0006003508027659272,
          0.008493148322046895,
          0.0012007016055318545,
          0.002080848209225275,
          0.00835775286207008,
          0.012584339026667495,
          0.013278822954268691,
          0.002079693109766689,
          0.0037574392503483987,
          0.008059106112418533,
          0.0012981168128609736,
          0.0016049112991737488,
          0.007216254924123768,
          0.011562014224159478,
          0.0012981168128609736,
          0.0023276267401659365,
          0.011766195108131507,
          0.006983939681790465,
          0.003853847384912192,
          0.0006490584064304868,
          0.005261880158222075,
          0.0007276697681961061,
          0.006442345723848309,
          0.0015264702088763147,
          0.0007276697681961061,
          0.0037574392503483987,
          0.0023276267401659365,
          0.003665736901708715,
          0.01209864296514559,
          0.016463095353074348,
          0.015207027328969844,
          0.0034702287430499724,
          0.003707453006665212,
          0.010990244252255102,
          0.0006490584064304868,
          0.0005145356320445255,
          0.003345320560982569,
          0.005627736601007156,
          0.0010290712640890533,
          0.0005145356320445255,
          0.008756425923567774,
          0.0005717423860318618,
          0.0023275095219777633,
          0.0016539317174562812,
          0.012340916007178187,
          0.015580255713995577,
          0.002128052697572111,
          0.0005717423860318618,
          0.005570435128175393,
          0.004507534009634343,
          0.011689711914636258,
          0.0005923781753873528,
          0.003446630888617566,
          0.009645179175300824,
          0.001083265333802829,
          0.0005717423860318618,
          0.0005717423860318618,
          0.005161832659326088,
          0.0005145356320445255,
          0.0033264865569816835,
          0.012499991272966722,
          0.005098648898902024,
          0.001083265333802829,
          0.0028587119301593036,
          0.0009458697905065567,
          0.010840575965314505,
          0.0006394034273418285,
          0.0009458697905065567,
          0.0021504638239933076,
          0.004616720277387574,
          0.0015260268805647168,
          0.0012788068546836589,
          0.005512466156920202,
          0.007846905981156949,
          0.014434041988917488,
          0.0018917395810131134,
          0.0009458697905065567,
          0.0009458697905065567,
          0.003224152715137111,
          0.0009458697905065567,
          0.003975845926955744,
          0.0021848215270182983,
          0.0013062923696216626,
          0.0056633354931020325,
          0.0006674926669246632,
          0.0009458697905065567,
          0.0036730517070840784,
          0.018255370824126677,
          0.0006674926669246632,
          0.007534974555422864,
          0.0074178303792522245,
          0.014041505994135568,
          0.0013737154429532905,
          0.0012327916603417808,
          0.0025989646588093955,
          0.01617606032809412,
          0.0021421073681861867,
          0.0029136941289843775,
          0.002747430885906581,
          0.0025989646588093955,
          0.008553101016213042,
          0.003969797560760762,
          0.003082117329199213,
          0.0013736296646235352,
          0.006104020388329277,
          0.005954736140700387,
          0.011909472281400798,
          0.004284029331007626,
          0.0012328607502885614,
          0.006164441942178339,
          0.000616464923989928,
          0.0019849385804716524,
          0.001849256579168798,
          0.008851149611100792,
          0.001849256579168798,
          0.0025989646588093955,
          0.000616464923989928,
          0.0019849385804716524,
          0.004098244469867654,
          0.008197013943430474,
          0.004098244469867654,
          0.008196488939735309,
          0.004098244469867654,
          0.004098244469867654,
          0.012295520915145712,
          0.004098506971715237,
          0.016392977879470617,
          0.008196751433176231,
          0.004098244469867654,
          0.012294995900241776,
          0.004098506971715237,
          0.004098506971715237,
          0.004098506971715237,
          0.004098506971715237,
          0.012294733409602963,
          0.008196751433176231,
          0.016392977879470617,
          0.013685954304519939,
          0.0027941371121626346,
          0.004781889141381709,
          0.0041783103390588,
          0.004177741779556327,
          0.006843655081428829,
          0.017088109474671948,
          0.0027941371121626346,
          0.004177741779556327,
          0.006268318580003639,
          0.007534457482214899,
          0.005588274224325252,
          0.0020888708897781553,
          0.004781144469413549,
          0.0027941371121626346,
          0.010307458769929398,
          0.007535279350952811,
          0.007534457482214899,
          0.0020894395266678853,
          0.0035081360598008798,
          0.014034847391342652,
          0.007016946167039394,
          0.01052671145755359,
          0.0035081360598008798,
          0.01754365756113836,
          0.003508810171999917,
          0.010526992414104016,
          0.007017901289302777,
          0.014035409250457653,
          0.0035090911285507458,
          0.014033892334078788,
          0.01754354519327398,
          0.007017620343999834,
          0.003508810171999917,
          0.0035090911285507458,
          0.0035090911285507458
         ],
         "xaxis": "x",
         "y": [
          "130_25",
          "130_25",
          "130_25",
          "130_25",
          "130_25",
          "130_25",
          "130_25",
          "130_25",
          "130_25",
          "130_25",
          "130_25",
          "130_25",
          "130_25",
          "130_25",
          "130_25",
          "130_25",
          "130_25",
          "130_25",
          "130_25",
          "130_25",
          "130_25",
          "130_25",
          "130_25",
          "130_24",
          "130_24",
          "130_24",
          "130_24",
          "130_24",
          "130_24",
          "130_24",
          "130_24",
          "130_24",
          "130_24",
          "130_24",
          "130_24",
          "130_24",
          "130_24",
          "130_24",
          "130_24",
          "130_24",
          "130_24",
          "130_24",
          "130_24",
          "130_24",
          "130_24",
          "130_24",
          "130_24",
          "130_24",
          "130_24",
          "130_23",
          "130_23",
          "130_23",
          "130_23",
          "130_23",
          "130_23",
          "130_23",
          "130_23",
          "130_23",
          "130_23",
          "130_23",
          "130_23",
          "130_23",
          "130_23",
          "130_23",
          "130_23",
          "130_23",
          "130_23",
          "130_22",
          "130_22",
          "130_22",
          "130_22",
          "130_22",
          "130_22",
          "130_22",
          "130_22",
          "130_22",
          "130_22",
          "130_22",
          "130_22",
          "130_22",
          "130_22",
          "130_22",
          "130_22",
          "130_22",
          "130_22",
          "130_22",
          "130_22",
          "130_22",
          "130_22",
          "130_22",
          "130_22",
          "130_22",
          "130_21",
          "130_21",
          "130_21",
          "130_21",
          "130_21",
          "130_21",
          "130_21",
          "130_21",
          "130_21",
          "130_21",
          "130_21",
          "130_21",
          "130_21",
          "130_21",
          "130_21",
          "130_21",
          "130_21",
          "130_21",
          "130_21",
          "130_21",
          "130_21",
          "130_21",
          "130_21",
          "130_21",
          "130_21",
          "130_21",
          "130_20",
          "130_20",
          "130_20",
          "130_20",
          "130_20",
          "130_20",
          "130_20",
          "130_20",
          "130_20",
          "130_20",
          "130_20",
          "130_20",
          "130_20",
          "130_20",
          "130_20",
          "130_20",
          "130_20",
          "130_20",
          "130_20",
          "130_20",
          "130_20",
          "130_20",
          "130_20",
          "130_20",
          "130_20",
          "130_20",
          "130_20",
          "130_20",
          "130_20",
          "130_19",
          "130_19",
          "130_19",
          "130_19",
          "130_19",
          "130_19",
          "130_19",
          "130_19",
          "130_19",
          "130_19",
          "130_19",
          "130_19",
          "130_19",
          "130_19",
          "130_19",
          "130_19",
          "130_19",
          "130_19",
          "130_19",
          "130_19",
          "130_19",
          "130_19",
          "130_19",
          "130_19",
          "130_19",
          "130_19",
          "130_19",
          "130_18",
          "130_18",
          "130_18",
          "130_18",
          "130_18",
          "130_18",
          "130_18",
          "130_18",
          "130_18",
          "130_18",
          "130_18",
          "130_18",
          "130_18",
          "130_18",
          "130_18",
          "130_18",
          "130_18",
          "130_18",
          "130_18",
          "130_18",
          "130_18",
          "130_18",
          "130_18",
          "130_18",
          "130_17",
          "130_17",
          "130_17",
          "130_17",
          "130_17",
          "130_17",
          "130_17",
          "130_17",
          "130_17",
          "130_17",
          "130_17",
          "130_17",
          "130_17",
          "130_17",
          "130_17",
          "130_16",
          "130_16",
          "130_16",
          "130_16",
          "130_16",
          "130_16",
          "130_16",
          "130_16",
          "130_16",
          "130_16",
          "130_16",
          "130_16",
          "130_16",
          "130_16",
          "130_16",
          "130_16",
          "130_16",
          "130_16",
          "130_16",
          "130_16",
          "130_15",
          "130_15",
          "130_15",
          "130_15",
          "130_15",
          "130_15",
          "130_15",
          "130_15",
          "130_15",
          "130_15",
          "130_15",
          "130_15",
          "130_15",
          "130_15",
          "130_15",
          "130_15",
          "130_15",
          "130_15",
          "130_15",
          "130_15",
          "130_15",
          "130_15",
          "130_15",
          "130_15",
          "130_15",
          "130_15",
          "130_14",
          "130_14",
          "130_14",
          "130_14",
          "130_14",
          "130_14",
          "130_14",
          "130_14",
          "130_14",
          "130_14",
          "130_14",
          "130_14",
          "130_14",
          "130_14",
          "130_14",
          "130_14",
          "130_14",
          "130_14",
          "130_14",
          "130_14",
          "130_14",
          "130_14",
          "130_14",
          "130_14",
          "130_14",
          "130_14",
          "130_14",
          "130_13",
          "130_13",
          "130_13",
          "130_13",
          "130_13",
          "130_13",
          "130_13",
          "130_13",
          "130_13",
          "130_13",
          "130_13",
          "130_13",
          "130_13",
          "130_13",
          "130_13",
          "130_13",
          "130_13",
          "130_13",
          "130_13",
          "130_13",
          "130_13",
          "130_13",
          "130_12",
          "130_12",
          "130_12",
          "130_12",
          "130_12",
          "130_12",
          "130_12",
          "130_12",
          "130_12",
          "130_12",
          "130_12",
          "130_12",
          "130_12",
          "130_12",
          "130_12",
          "130_12",
          "130_12",
          "130_12",
          "130_12",
          "130_12",
          "130_12",
          "130_12",
          "130_12",
          "130_12",
          "130_12",
          "130_12",
          "130_11",
          "130_11",
          "130_11",
          "130_11",
          "130_11",
          "130_11",
          "130_11",
          "130_11",
          "130_11",
          "130_11",
          "130_11",
          "130_11",
          "130_11",
          "130_11",
          "130_11",
          "130_11",
          "130_11",
          "130_11",
          "130_11",
          "130_11",
          "130_11",
          "130_11",
          "130_11",
          "130_11",
          "130_11",
          "130_10",
          "130_10",
          "130_10",
          "130_10",
          "130_10",
          "130_10",
          "130_10",
          "130_10",
          "130_10",
          "130_10",
          "130_10",
          "130_10",
          "130_10",
          "130_10",
          "130_10",
          "130_10",
          "130_10",
          "130_10",
          "130_10",
          "130_10",
          "130_10",
          "130_10",
          "130_10",
          "130_8",
          "130_8",
          "130_8",
          "130_8",
          "130_8",
          "130_8",
          "130_8",
          "130_8",
          "130_8",
          "130_8",
          "130_8",
          "130_8",
          "130_8",
          "130_8",
          "130_8",
          "130_8",
          "130_8",
          "130_8",
          "130_8",
          "130_8",
          "130_8",
          "130_8",
          "130_8",
          "130_8",
          "130_8",
          "130_8",
          "130_8",
          "130_7",
          "130_7",
          "130_7",
          "130_7",
          "130_7",
          "130_7",
          "130_7",
          "130_7",
          "130_7",
          "130_7",
          "130_7",
          "130_7",
          "130_7",
          "130_7",
          "130_7",
          "130_7",
          "130_7",
          "130_7",
          "130_7",
          "130_7",
          "130_7",
          "130_7",
          "130_7",
          "130_7",
          "130_7",
          "130_7",
          "130_7",
          "130_7",
          "130_7",
          "130_7",
          "130_6",
          "130_6",
          "130_6",
          "130_6",
          "130_6",
          "130_6",
          "130_6",
          "130_6",
          "130_6",
          "130_6",
          "130_6",
          "130_6",
          "130_6",
          "130_6",
          "130_6",
          "130_6",
          "130_6",
          "130_6",
          "130_6",
          "130_6",
          "130_6",
          "130_6",
          "130_6",
          "130_6",
          "130_6",
          "130_6",
          "130_6",
          "130_6",
          "130_6",
          "130_5",
          "130_5",
          "130_5",
          "130_5",
          "130_5",
          "130_5",
          "130_5",
          "130_5",
          "130_5",
          "130_5",
          "130_5",
          "130_5",
          "130_5",
          "130_5",
          "130_5",
          "130_5",
          "130_5",
          "130_5",
          "130_5",
          "130_5",
          "130_5",
          "130_5",
          "130_5",
          "130_5",
          "130_5",
          "130_5",
          "130_5",
          "130_4",
          "130_4",
          "130_4",
          "130_4",
          "130_4",
          "130_4",
          "130_4",
          "130_4",
          "130_4",
          "130_4",
          "130_4",
          "130_4",
          "130_4",
          "130_4",
          "130_4",
          "130_4",
          "130_4",
          "130_4",
          "130_4",
          "130_4",
          "130_4",
          "130_4",
          "130_4",
          "130_4",
          "130_4",
          "130_4",
          "130_4",
          "130_3",
          "130_3",
          "130_3",
          "130_3",
          "130_3",
          "130_3",
          "130_3",
          "130_3",
          "130_3",
          "130_3",
          "130_3",
          "130_3",
          "130_3",
          "130_3",
          "130_3",
          "130_3",
          "130_3",
          "130_3",
          "130_3",
          "130_2",
          "130_2",
          "130_2",
          "130_2",
          "130_2",
          "130_2",
          "130_2",
          "130_2",
          "130_2",
          "130_2",
          "130_2",
          "130_2",
          "130_2",
          "130_2",
          "130_2",
          "130_2",
          "130_2",
          "130_2",
          "130_2",
          "130_1",
          "130_1",
          "130_1",
          "130_1",
          "130_1",
          "130_1",
          "130_1",
          "130_1",
          "130_1",
          "130_1",
          "130_1",
          "130_1",
          "130_1",
          "130_1",
          "130_1",
          "130_1",
          "130_1"
         ],
         "yaxis": "y"
        },
        {
         "alignmentgroup": "True",
         "bingroup": "y",
         "histfunc": "sum",
         "hovertemplate": "Taxon=Hobaniella longicruris<br>sum of rel_cell_density_l_per_sample=%{x}<br>Comments=%{y}<extra></extra>",
         "legendgroup": "Hobaniella longicruris",
         "marker": {
          "color": "#EF553B",
          "pattern": {
           "shape": ""
          }
         },
         "name": "Hobaniella longicruris",
         "offsetgroup": "Hobaniella longicruris",
         "orientation": "h",
         "showlegend": true,
         "type": "histogram",
         "x": [
          0.027166535443363032,
          0.02000392136121378,
          0.03238658805803959,
          0.020253514413873575,
          0.021938172358000718,
          0.021145162761581873,
          0.02065554621373172,
          0.027002886612867656,
          0.020801119789270572,
          0.024589466819205926
         ],
         "xaxis": "x",
         "y": [
          "130_25",
          "130_22",
          "130_21",
          "130_15",
          "130_14",
          "130_13",
          "130_8",
          "130_7",
          "130_5",
          "130_3"
         ],
         "yaxis": "y"
        },
        {
         "alignmentgroup": "True",
         "bingroup": "y",
         "histfunc": "sum",
         "hovertemplate": "Taxon=Long (chained) diatom<br>sum of rel_cell_density_l_per_sample=%{x}<br>Comments=%{y}<extra></extra>",
         "legendgroup": "Long (chained) diatom",
         "marker": {
          "color": "#00cc96",
          "pattern": {
           "shape": ""
          }
         },
         "name": "Long (chained) diatom",
         "offsetgroup": "Long (chained) diatom",
         "orientation": "h",
         "showlegend": true,
         "type": "histogram",
         "x": [
          0.032227961455282284,
          0.044043735082864036,
          0.04560911768596198,
          0.021327783439183436,
          0.045939738241057494,
          0.05178189542924325,
          0.04392672482455294,
          0.029113506139736157,
          0.05487641233265592,
          0.02731296215876966,
          0.03985906002236578,
          0.03658989628386937,
          0.026899860078116976,
          0.03688498770072537,
          0.02737258648784099,
          0.021052074446032718
         ],
         "xaxis": "x",
         "y": [
          "130_25",
          "130_22",
          "130_21",
          "130_20",
          "130_18",
          "130_17",
          "130_16",
          "130_15",
          "130_14",
          "130_13",
          "130_10",
          "130_8",
          "130_7",
          "130_3",
          "130_2",
          "130_1"
         ],
         "yaxis": "y"
        },
        {
         "alignmentgroup": "True",
         "bingroup": "y",
         "histfunc": "sum",
         "hovertemplate": "Taxon=Pseudo-nitzschia<br>sum of rel_cell_density_l_per_sample=%{x}<br>Comments=%{y}<extra></extra>",
         "legendgroup": "Pseudo-nitzschia",
         "marker": {
          "color": "#ab63fa",
          "pattern": {
           "shape": ""
          }
         },
         "name": "Pseudo-nitzschia",
         "offsetgroup": "Pseudo-nitzschia",
         "orientation": "h",
         "showlegend": true,
         "type": "histogram",
         "x": [
          0.12502683969815212,
          0.09574999347747752,
          0.061997532188970465,
          0.2471880291202556,
          0.3195797573258084,
          0.1196040492774292,
          0.03441015680729512,
          0.19327555465641189,
          0.22977304833726753,
          0.16972052662390064,
          0.07974750494988675,
          0.23271261925874084,
          0.20440565240526182,
          0.03864194647756453,
          0.048602763636655354,
          0.18382456416117338,
          0.24900498101057092,
          0.2941102432956714,
          0.08034460848016603,
          0.08913365134073624,
          0.043094389386511264,
          0.2131155372625821,
          0.1082478295572792,
          0.14736407166269805
         ],
         "xaxis": "x",
         "y": [
          "130_25",
          "130_24",
          "130_23",
          "130_22",
          "130_21",
          "130_20",
          "130_19",
          "130_18",
          "130_17",
          "130_16",
          "130_15",
          "130_14",
          "130_13",
          "130_12",
          "130_11",
          "130_10",
          "130_8",
          "130_7",
          "130_6",
          "130_5",
          "130_4",
          "130_3",
          "130_2",
          "130_1"
         ],
         "yaxis": "y"
        },
        {
         "alignmentgroup": "True",
         "bingroup": "y",
         "histfunc": "sum",
         "hovertemplate": "Taxon=Centric Diatom<br>sum of rel_cell_density_l_per_sample=%{x}<br>Comments=%{y}<extra></extra>",
         "legendgroup": "Centric Diatom",
         "marker": {
          "color": "#FFA15A",
          "pattern": {
           "shape": ""
          }
         },
         "name": "Centric Diatom",
         "offsetgroup": "Centric Diatom",
         "orientation": "h",
         "showlegend": true,
         "type": "histogram",
         "x": [
          0.09005479580671612,
          0.03894585788881007,
          0.035591357675659956,
          0.05840638167984662,
          0.030362080864019713,
          0.021744710408822657,
          0.032361599217444005,
          0.07498093263356125,
          0.05822739732126109,
          0.047984785467370575,
          0.03700394666235821,
          0.03781644164200675,
          0.03472819630004351,
          0.04142344948719315,
          0.030947237784123244,
          0.03334406229994603,
          0.08606654630797289,
          0.05055572495604,
          0.04210442980700321
         ],
         "xaxis": "x",
         "y": [
          "130_25",
          "130_24",
          "130_23",
          "130_22",
          "130_21",
          "130_18",
          "130_17",
          "130_16",
          "130_15",
          "130_14",
          "130_13",
          "130_10",
          "130_8",
          "130_7",
          "130_6",
          "130_5",
          "130_3",
          "130_2",
          "130_1"
         ],
         "yaxis": "y"
        },
        {
         "alignmentgroup": "True",
         "bingroup": "y",
         "histfunc": "sum",
         "hovertemplate": "Taxon=Noctilucales<br>sum of rel_cell_density_l_per_sample=%{x}<br>Comments=%{y}<extra></extra>",
         "legendgroup": "Noctilucales",
         "marker": {
          "color": "#19d3f3",
          "pattern": {
           "shape": ""
          }
         },
         "name": "Noctilucales",
         "offsetgroup": "Noctilucales",
         "orientation": "h",
         "showlegend": true,
         "type": "histogram",
         "x": [
          0.027108529759578084,
          0.0485433054915584,
          0.06594923407966231,
          0.19240428305202079,
          0.05870805688684735,
          0.027312637683806717,
          0.0982488761505096
         ],
         "xaxis": "x",
         "y": [
          "130_25",
          "130_17",
          "130_16",
          "130_15",
          "130_14",
          "130_13",
          "130_1"
         ],
         "yaxis": "y"
        },
        {
         "alignmentgroup": "True",
         "bingroup": "y",
         "histfunc": "sum",
         "hovertemplate": "Taxon=Bellerochea horologicalis<br>sum of rel_cell_density_l_per_sample=%{x}<br>Comments=%{y}<extra></extra>",
         "legendgroup": "Bellerochea horologicalis",
         "marker": {
          "color": "#FF6692",
          "pattern": {
           "shape": ""
          }
         },
         "name": "Bellerochea horologicalis",
         "offsetgroup": "Bellerochea horologicalis",
         "orientation": "h",
         "showlegend": true,
         "type": "histogram",
         "x": [
          0.041152241094794,
          0.04530870512246793,
          0.03993734707156101,
          0.04229108733104445,
          0.051415811349626875,
          0.03508759604598611
         ],
         "xaxis": "x",
         "y": [
          "130_25",
          "130_17",
          "130_16",
          "130_13",
          "130_5",
          "130_1"
         ],
         "yaxis": "y"
        },
        {
         "alignmentgroup": "True",
         "bingroup": "y",
         "histfunc": "sum",
         "hovertemplate": "Taxon=Pennate Diatom<br>sum of rel_cell_density_l_per_sample=%{x}<br>Comments=%{y}<extra></extra>",
         "legendgroup": "Pennate Diatom",
         "marker": {
          "color": "#B6E880",
          "pattern": {
           "shape": ""
          }
         },
         "name": "Pennate Diatom",
         "offsetgroup": "Pennate Diatom",
         "orientation": "h",
         "showlegend": true,
         "type": "histogram",
         "x": [
          0.12334938979396354,
          0.0497255376596827,
          0.12054980724789749,
          0.1190138532733009,
          0.10075792557433569,
          0.04308085518965135,
          0.02395437180214942,
          0.11635635700867715,
          0.03559910102948847,
          0.110411334355705,
          0.05443150871976979,
          0.10864201878556881,
          0.06343629241099429,
          0.02165266491264287,
          0.07867056056255979,
          0.12111242622675414,
          0.11375894539365264,
          0.051560903756761756,
          0.0664163533610888,
          0.03053334067839009,
          0.09426251023078572,
          0.06635855608438473,
          0.0771952846687359
         ],
         "xaxis": "x",
         "y": [
          "130_25",
          "130_24",
          "130_23",
          "130_22",
          "130_21",
          "130_20",
          "130_19",
          "130_18",
          "130_17",
          "130_16",
          "130_15",
          "130_14",
          "130_13",
          "130_11",
          "130_10",
          "130_8",
          "130_7",
          "130_6",
          "130_5",
          "130_4",
          "130_3",
          "130_2",
          "130_1"
         ],
         "yaxis": "y"
        },
        {
         "alignmentgroup": "True",
         "bingroup": "y",
         "histfunc": "sum",
         "hovertemplate": "Taxon=Biddulphianae<br>sum of rel_cell_density_l_per_sample=%{x}<br>Comments=%{y}<extra></extra>",
         "legendgroup": "Biddulphianae",
         "marker": {
          "color": "#FF97FF",
          "pattern": {
           "shape": ""
          }
         },
         "name": "Biddulphianae",
         "offsetgroup": "Biddulphianae",
         "orientation": "h",
         "showlegend": true,
         "type": "histogram",
         "x": [
          0.0756979414357623,
          0.03190780981202521,
          0.03720517938871929,
          0.03950731674782194,
          0.030797474597222478,
          0.055015045065035975,
          0.04998301188251903,
          0.02911326295908797,
          0.07207416328380338,
          0.06255474490817987,
          0.022700500094014312,
          0.029884275286003917,
          0.059595183842582174,
          0.029949934509078954,
          0.035186872510009286,
          0.0696714684376479,
          0.044461180141351045,
          0.04210482309421366
         ],
         "xaxis": "x",
         "y": [
          "130_25",
          "130_24",
          "130_22",
          "130_21",
          "130_18",
          "130_17",
          "130_16",
          "130_15",
          "130_14",
          "130_13",
          "130_10",
          "130_8",
          "130_7",
          "130_6",
          "130_5",
          "130_3",
          "130_2",
          "130_1"
         ],
         "yaxis": "y"
        },
        {
         "alignmentgroup": "True",
         "bingroup": "y",
         "histfunc": "sum",
         "hovertemplate": "Taxon=Bacillariophyceae<br>sum of rel_cell_density_l_per_sample=%{x}<br>Comments=%{y}<extra></extra>",
         "legendgroup": "Bacillariophyceae",
         "marker": {
          "color": "#FECB52",
          "pattern": {
           "shape": ""
          }
         },
         "name": "Bacillariophyceae",
         "offsetgroup": "Bacillariophyceae",
         "orientation": "h",
         "showlegend": true,
         "type": "histogram",
         "x": [
          0.03359937030587227,
          0.03538221013806099,
          0.025640238404790884,
          0.035599463719908964,
          0.048653821193474625,
          0.03605089250999341,
          0.03083710657453798,
          0.033793794961914134,
          0.025210809527868444,
          0.028338830502936986,
          0.02868849876579366,
          0.0456148693593576
         ],
         "xaxis": "x",
         "y": [
          "130_25",
          "130_22",
          "130_21",
          "130_17",
          "130_16",
          "130_14",
          "130_13",
          "130_10",
          "130_8",
          "130_7",
          "130_3",
          "130_1"
         ],
         "yaxis": "y"
        },
        {
         "alignmentgroup": "True",
         "bingroup": "y",
         "histfunc": "sum",
         "hovertemplate": "Taxon=Trieres sinensis<br>sum of rel_cell_density_l_per_sample=%{x}<br>Comments=%{y}<extra></extra>",
         "legendgroup": "Trieres sinensis",
         "marker": {
          "color": "#636efa",
          "pattern": {
           "shape": ""
          }
         },
         "name": "Trieres sinensis",
         "offsetgroup": "Trieres sinensis",
         "orientation": "h",
         "showlegend": true,
         "type": "histogram",
         "x": [
          0.04676578545879436,
          0.031591622608112414,
          0.04707242300656514,
          0.042075478405414764,
          0.04137477731559902,
          0.030430641495415342,
          0.04854258015653478,
          0.029264864524476266,
          0.0493669192131234,
          0.022134747945639226,
          0.053744546102002126,
          0.023392112749583364,
          0.02181527299982468,
          0.041213348368789746,
          0.02458886440825402,
          0.043769477670534435,
          0.023263110830979174,
          0.03891235268902899,
          0.04508173913313738,
          0.039633182830378935,
          0.07017328184745412
         ],
         "xaxis": "x",
         "y": [
          "130_25",
          "130_24",
          "130_23",
          "130_22",
          "130_21",
          "130_18",
          "130_17",
          "130_16",
          "130_15",
          "130_14",
          "130_13",
          "130_12",
          "130_11",
          "130_10",
          "130_8",
          "130_7",
          "130_6",
          "130_5",
          "130_3",
          "130_2",
          "130_1"
         ],
         "yaxis": "y"
        },
        {
         "alignmentgroup": "True",
         "bingroup": "y",
         "histfunc": "sum",
         "hovertemplate": "Taxon=Phytoplankton Colony<br>sum of rel_cell_density_l_per_sample=%{x}<br>Comments=%{y}<extra></extra>",
         "legendgroup": "Phytoplankton Colony",
         "marker": {
          "color": "#EF553B",
          "pattern": {
           "shape": ""
          }
         },
         "name": "Phytoplankton Colony",
         "offsetgroup": "Phytoplankton Colony",
         "orientation": "h",
         "showlegend": true,
         "type": "histogram",
         "x": [
          0.18772613319142462,
          0.5951934888310206,
          0.6211260204512651,
          0.16237040968933691,
          0.12766447422720317,
          0.6692630605561405,
          0.8127722721657358,
          0.3737323019904229,
          0.08090671808043058,
          0.052143865288137,
          0.1848104994920703,
          0.07825217720240032,
          0.1444933633349594,
          0.8081688456812578,
          0.8193748042721241,
          0.42872040183946003,
          0.319108167305054,
          0.10324875907364235,
          0.6607503369131101,
          0.5036020721453627,
          0.8075673939670054,
          0.1762302870643105,
          0.4936527531246771,
          0.19649190878576536
         ],
         "xaxis": "x",
         "y": [
          "130_25",
          "130_24",
          "130_23",
          "130_22",
          "130_21",
          "130_20",
          "130_19",
          "130_18",
          "130_17",
          "130_16",
          "130_15",
          "130_14",
          "130_13",
          "130_12",
          "130_11",
          "130_10",
          "130_8",
          "130_7",
          "130_6",
          "130_5",
          "130_4",
          "130_3",
          "130_2",
          "130_1"
         ],
         "yaxis": "y"
        },
        {
         "alignmentgroup": "True",
         "bingroup": "y",
         "histfunc": "sum",
         "hovertemplate": "Taxon=Zygoceros<br>sum of rel_cell_density_l_per_sample=%{x}<br>Comments=%{y}<extra></extra>",
         "legendgroup": "Zygoceros",
         "marker": {
          "color": "#00cc96",
          "pattern": {
           "shape": ""
          }
         },
         "name": "Zygoceros",
         "offsetgroup": "Zygoceros",
         "orientation": "h",
         "showlegend": true,
         "type": "histogram",
         "x": [
          0.024475203765129766,
          0.0388344267907076,
          0.02819403000510953,
          0.020284314444408032
         ],
         "xaxis": "x",
         "y": [
          "130_25",
          "130_17",
          "130_13",
          "130_7"
         ],
         "yaxis": "y"
        },
        {
         "alignmentgroup": "True",
         "bingroup": "y",
         "histfunc": "sum",
         "hovertemplate": "Taxon=Ditylum brightwellii<br>sum of rel_cell_density_l_per_sample=%{x}<br>Comments=%{y}<extra></extra>",
         "legendgroup": "Ditylum brightwellii",
         "marker": {
          "color": "#ab63fa",
          "pattern": {
           "shape": ""
          }
         },
         "name": "Ditylum brightwellii",
         "offsetgroup": "Ditylum brightwellii",
         "orientation": "h",
         "showlegend": true,
         "type": "histogram",
         "x": [
          0.023421829131170257,
          0.032126198736016444,
          0.02953991348241034,
          0.036903094810592514,
          0.045306529033786055,
          0.05813101575254286,
          0.03797453141631311,
          0.038027272358006445,
          0.042290875714991114,
          0.029394755848431087,
          0.029930050279725614,
          0.02456127790261906
         ],
         "xaxis": "x",
         "y": [
          "130_25",
          "130_22",
          "130_21",
          "130_18",
          "130_17",
          "130_16",
          "130_15",
          "130_14",
          "130_13",
          "130_8",
          "130_7",
          "130_1"
         ],
         "yaxis": "y"
        },
        {
         "alignmentgroup": "True",
         "bingroup": "y",
         "histfunc": "sum",
         "hovertemplate": "Taxon=Guinardia flaccida<br>sum of rel_cell_density_l_per_sample=%{x}<br>Comments=%{y}<extra></extra>",
         "legendgroup": "Guinardia flaccida",
         "marker": {
          "color": "#FFA15A",
          "pattern": {
           "shape": ""
          }
         },
         "name": "Guinardia flaccida",
         "offsetgroup": "Guinardia flaccida",
         "orientation": "h",
         "showlegend": true,
         "type": "histogram",
         "x": [
          0.025564068337267164,
          0.03225525204602271,
          0.02588913431101469,
          0.03700436988415846,
          0.03629592889543682,
          0.031580302942991724
         ],
         "xaxis": "x",
         "y": [
          "130_22",
          "130_21",
          "130_17",
          "130_13",
          "130_7",
          "130_1"
         ],
         "yaxis": "y"
        },
        {
         "alignmentgroup": "True",
         "bingroup": "y",
         "histfunc": "sum",
         "hovertemplate": "Taxon=Rhizosolenia<br>sum of rel_cell_density_l_per_sample=%{x}<br>Comments=%{y}<extra></extra>",
         "legendgroup": "Rhizosolenia",
         "marker": {
          "color": "#19d3f3",
          "pattern": {
           "shape": ""
          }
         },
         "name": "Rhizosolenia",
         "offsetgroup": "Rhizosolenia",
         "orientation": "h",
         "showlegend": true,
         "type": "histogram",
         "x": [
          0.022258248785129584,
          0.022022394500405867,
          0.032361599217444005,
          0.02663965664628067,
          0.03788477468651089
         ],
         "xaxis": "x",
         "y": [
          "130_22",
          "130_21",
          "130_17",
          "130_14",
          "130_13"
         ],
         "yaxis": "y"
        },
        {
         "alignmentgroup": "True",
         "bingroup": "y",
         "histfunc": "sum",
         "hovertemplate": "Taxon=Synedra/Thalassionema<br>sum of rel_cell_density_l_per_sample=%{x}<br>Comments=%{y}<extra></extra>",
         "legendgroup": "Synedra/Thalassionema",
         "marker": {
          "color": "#FF6692",
          "pattern": {
           "shape": ""
          }
         },
         "name": "Synedra/Thalassionema",
         "offsetgroup": "Synedra/Thalassionema",
         "orientation": "h",
         "showlegend": true,
         "type": "histogram",
         "x": [
          0.06472646253394333,
          0.06776470157379438,
          0.05316485468194079,
          0.02819374785234845,
          0.020491484837735472
         ],
         "xaxis": "x",
         "y": [
          "130_17",
          "130_16",
          "130_15",
          "130_13",
          "130_3"
         ],
         "yaxis": "y"
        },
        {
         "alignmentgroup": "True",
         "bingroup": "y",
         "histfunc": "sum",
         "hovertemplate": "Taxon=Nauplii<br>sum of rel_cell_density_l_per_sample=%{x}<br>Comments=%{y}<extra></extra>",
         "legendgroup": "Nauplii",
         "marker": {
          "color": "#B6E880",
          "pattern": {
           "shape": ""
          }
         },
         "name": "Nauplii",
         "offsetgroup": "Nauplii",
         "orientation": "h",
         "showlegend": true,
         "type": "histogram",
         "x": [
          0.023748463440376125,
          0.025202855218687037,
          0.021145416696017303
         ],
         "xaxis": "x",
         "y": [
          "130_16",
          "130_14",
          "130_13"
         ],
         "yaxis": "y"
        },
        {
         "alignmentgroup": "True",
         "bingroup": "y",
         "histfunc": "sum",
         "hovertemplate": "Taxon=Paralia<br>sum of rel_cell_density_l_per_sample=%{x}<br>Comments=%{y}<extra></extra>",
         "legendgroup": "Paralia",
         "marker": {
          "color": "#FF97FF",
          "pattern": {
           "shape": ""
          }
         },
         "name": "Paralia",
         "offsetgroup": "Paralia",
         "orientation": "h",
         "showlegend": true,
         "type": "histogram",
         "x": [
          0.03194282854934372,
          0.02278437028606564
         ],
         "xaxis": "x",
         "y": [
          "130_16",
          "130_15"
         ],
         "yaxis": "y"
        },
        {
         "alignmentgroup": "True",
         "bingroup": "y",
         "histfunc": "sum",
         "hovertemplate": "Taxon=Bellerochea<br>sum of rel_cell_density_l_per_sample=%{x}<br>Comments=%{y}<extra></extra>",
         "legendgroup": "Bellerochea",
         "marker": {
          "color": "#FECB52",
          "pattern": {
           "shape": ""
          }
         },
         "name": "Bellerochea",
         "offsetgroup": "Bellerochea",
         "orientation": "h",
         "showlegend": true,
         "type": "histogram",
         "x": [
          0.02572908140299979,
          0.02049174733285759,
          0.032144385535541366
         ],
         "xaxis": "x",
         "y": [
          "130_14",
          "130_3",
          "130_2"
         ],
         "yaxis": "y"
        },
        {
         "alignmentgroup": "True",
         "bingroup": "y",
         "histfunc": "sum",
         "hovertemplate": "Taxon=Asterionella<br>sum of rel_cell_density_l_per_sample=%{x}<br>Comments=%{y}<extra></extra>",
         "legendgroup": "Asterionella",
         "marker": {
          "color": "#636efa",
          "pattern": {
           "shape": ""
          }
         },
         "name": "Asterionella",
         "offsetgroup": "Asterionella",
         "orientation": "h",
         "showlegend": true,
         "type": "histogram",
         "x": [
          0.05020467400302793
         ],
         "xaxis": "x",
         "y": [
          "130_5"
         ],
         "yaxis": "y"
        },
        {
         "alignmentgroup": "True",
         "bingroup": "y",
         "histfunc": "sum",
         "hovertemplate": "Taxon=Rhizosolenia setigera (f. pungens)/R. hebetata f. semispina<br>sum of rel_cell_density_l_per_sample=%{x}<br>Comments=%{y}<extra></extra>",
         "legendgroup": "Rhizosolenia setigera (f. pungens)/R. hebetata f. semispina",
         "marker": {
          "color": "#EF553B",
          "pattern": {
           "shape": ""
          }
         },
         "name": "Rhizosolenia setigera (f. pungens)/R. hebetata f. semispina",
         "offsetgroup": "Rhizosolenia setigera (f. pungens)/R. hebetata f. semispina",
         "orientation": "h",
         "showlegend": true,
         "type": "histogram",
         "x": [
          0.04098375716588115,
          0.024562514035087954
         ],
         "xaxis": "x",
         "y": [
          "130_3",
          "130_1"
         ],
         "yaxis": "y"
        },
        {
         "alignmentgroup": "True",
         "bingroup": "y",
         "histfunc": "sum",
         "hovertemplate": "Taxon=Actinoptychus<br>sum of rel_cell_density_l_per_sample=%{x}<br>Comments=%{y}<extra></extra>",
         "legendgroup": "Actinoptychus",
         "marker": {
          "color": "#00cc96",
          "pattern": {
           "shape": ""
          }
         },
         "name": "Actinoptychus",
         "offsetgroup": "Actinoptychus",
         "orientation": "h",
         "showlegend": true,
         "type": "histogram",
         "x": [
          0.020530287270344415
         ],
         "xaxis": "x",
         "y": [
          "130_2"
         ],
         "yaxis": "y"
        }
       ],
       "layout": {
        "autosize": false,
        "barmode": "relative",
        "font": {
         "family": "Arial",
         "size": 10
        },
        "height": 900,
        "legend": {
         "title": {
          "text": "Taxon"
         },
         "tracegroupgap": 0
        },
        "margin": {
         "t": 60
        },
        "template": {
         "data": {
          "bar": [
           {
            "error_x": {
             "color": "#2a3f5f"
            },
            "error_y": {
             "color": "#2a3f5f"
            },
            "marker": {
             "line": {
              "color": "#E5ECF6",
              "width": 0.5
             },
             "pattern": {
              "fillmode": "overlay",
              "size": 10,
              "solidity": 0.2
             }
            },
            "type": "bar"
           }
          ],
          "barpolar": [
           {
            "marker": {
             "line": {
              "color": "#E5ECF6",
              "width": 0.5
             },
             "pattern": {
              "fillmode": "overlay",
              "size": 10,
              "solidity": 0.2
             }
            },
            "type": "barpolar"
           }
          ],
          "carpet": [
           {
            "aaxis": {
             "endlinecolor": "#2a3f5f",
             "gridcolor": "white",
             "linecolor": "white",
             "minorgridcolor": "white",
             "startlinecolor": "#2a3f5f"
            },
            "baxis": {
             "endlinecolor": "#2a3f5f",
             "gridcolor": "white",
             "linecolor": "white",
             "minorgridcolor": "white",
             "startlinecolor": "#2a3f5f"
            },
            "type": "carpet"
           }
          ],
          "choropleth": [
           {
            "colorbar": {
             "outlinewidth": 0,
             "ticks": ""
            },
            "type": "choropleth"
           }
          ],
          "contour": [
           {
            "colorbar": {
             "outlinewidth": 0,
             "ticks": ""
            },
            "colorscale": [
             [
              0,
              "#0d0887"
             ],
             [
              0.1111111111111111,
              "#46039f"
             ],
             [
              0.2222222222222222,
              "#7201a8"
             ],
             [
              0.3333333333333333,
              "#9c179e"
             ],
             [
              0.4444444444444444,
              "#bd3786"
             ],
             [
              0.5555555555555556,
              "#d8576b"
             ],
             [
              0.6666666666666666,
              "#ed7953"
             ],
             [
              0.7777777777777778,
              "#fb9f3a"
             ],
             [
              0.8888888888888888,
              "#fdca26"
             ],
             [
              1,
              "#f0f921"
             ]
            ],
            "type": "contour"
           }
          ],
          "contourcarpet": [
           {
            "colorbar": {
             "outlinewidth": 0,
             "ticks": ""
            },
            "type": "contourcarpet"
           }
          ],
          "heatmap": [
           {
            "colorbar": {
             "outlinewidth": 0,
             "ticks": ""
            },
            "colorscale": [
             [
              0,
              "#0d0887"
             ],
             [
              0.1111111111111111,
              "#46039f"
             ],
             [
              0.2222222222222222,
              "#7201a8"
             ],
             [
              0.3333333333333333,
              "#9c179e"
             ],
             [
              0.4444444444444444,
              "#bd3786"
             ],
             [
              0.5555555555555556,
              "#d8576b"
             ],
             [
              0.6666666666666666,
              "#ed7953"
             ],
             [
              0.7777777777777778,
              "#fb9f3a"
             ],
             [
              0.8888888888888888,
              "#fdca26"
             ],
             [
              1,
              "#f0f921"
             ]
            ],
            "type": "heatmap"
           }
          ],
          "heatmapgl": [
           {
            "colorbar": {
             "outlinewidth": 0,
             "ticks": ""
            },
            "colorscale": [
             [
              0,
              "#0d0887"
             ],
             [
              0.1111111111111111,
              "#46039f"
             ],
             [
              0.2222222222222222,
              "#7201a8"
             ],
             [
              0.3333333333333333,
              "#9c179e"
             ],
             [
              0.4444444444444444,
              "#bd3786"
             ],
             [
              0.5555555555555556,
              "#d8576b"
             ],
             [
              0.6666666666666666,
              "#ed7953"
             ],
             [
              0.7777777777777778,
              "#fb9f3a"
             ],
             [
              0.8888888888888888,
              "#fdca26"
             ],
             [
              1,
              "#f0f921"
             ]
            ],
            "type": "heatmapgl"
           }
          ],
          "histogram": [
           {
            "marker": {
             "pattern": {
              "fillmode": "overlay",
              "size": 10,
              "solidity": 0.2
             }
            },
            "type": "histogram"
           }
          ],
          "histogram2d": [
           {
            "colorbar": {
             "outlinewidth": 0,
             "ticks": ""
            },
            "colorscale": [
             [
              0,
              "#0d0887"
             ],
             [
              0.1111111111111111,
              "#46039f"
             ],
             [
              0.2222222222222222,
              "#7201a8"
             ],
             [
              0.3333333333333333,
              "#9c179e"
             ],
             [
              0.4444444444444444,
              "#bd3786"
             ],
             [
              0.5555555555555556,
              "#d8576b"
             ],
             [
              0.6666666666666666,
              "#ed7953"
             ],
             [
              0.7777777777777778,
              "#fb9f3a"
             ],
             [
              0.8888888888888888,
              "#fdca26"
             ],
             [
              1,
              "#f0f921"
             ]
            ],
            "type": "histogram2d"
           }
          ],
          "histogram2dcontour": [
           {
            "colorbar": {
             "outlinewidth": 0,
             "ticks": ""
            },
            "colorscale": [
             [
              0,
              "#0d0887"
             ],
             [
              0.1111111111111111,
              "#46039f"
             ],
             [
              0.2222222222222222,
              "#7201a8"
             ],
             [
              0.3333333333333333,
              "#9c179e"
             ],
             [
              0.4444444444444444,
              "#bd3786"
             ],
             [
              0.5555555555555556,
              "#d8576b"
             ],
             [
              0.6666666666666666,
              "#ed7953"
             ],
             [
              0.7777777777777778,
              "#fb9f3a"
             ],
             [
              0.8888888888888888,
              "#fdca26"
             ],
             [
              1,
              "#f0f921"
             ]
            ],
            "type": "histogram2dcontour"
           }
          ],
          "mesh3d": [
           {
            "colorbar": {
             "outlinewidth": 0,
             "ticks": ""
            },
            "type": "mesh3d"
           }
          ],
          "parcoords": [
           {
            "line": {
             "colorbar": {
              "outlinewidth": 0,
              "ticks": ""
             }
            },
            "type": "parcoords"
           }
          ],
          "pie": [
           {
            "automargin": true,
            "type": "pie"
           }
          ],
          "scatter": [
           {
            "fillpattern": {
             "fillmode": "overlay",
             "size": 10,
             "solidity": 0.2
            },
            "type": "scatter"
           }
          ],
          "scatter3d": [
           {
            "line": {
             "colorbar": {
              "outlinewidth": 0,
              "ticks": ""
             }
            },
            "marker": {
             "colorbar": {
              "outlinewidth": 0,
              "ticks": ""
             }
            },
            "type": "scatter3d"
           }
          ],
          "scattercarpet": [
           {
            "marker": {
             "colorbar": {
              "outlinewidth": 0,
              "ticks": ""
             }
            },
            "type": "scattercarpet"
           }
          ],
          "scattergeo": [
           {
            "marker": {
             "colorbar": {
              "outlinewidth": 0,
              "ticks": ""
             }
            },
            "type": "scattergeo"
           }
          ],
          "scattergl": [
           {
            "marker": {
             "colorbar": {
              "outlinewidth": 0,
              "ticks": ""
             }
            },
            "type": "scattergl"
           }
          ],
          "scattermapbox": [
           {
            "marker": {
             "colorbar": {
              "outlinewidth": 0,
              "ticks": ""
             }
            },
            "type": "scattermapbox"
           }
          ],
          "scatterpolar": [
           {
            "marker": {
             "colorbar": {
              "outlinewidth": 0,
              "ticks": ""
             }
            },
            "type": "scatterpolar"
           }
          ],
          "scatterpolargl": [
           {
            "marker": {
             "colorbar": {
              "outlinewidth": 0,
              "ticks": ""
             }
            },
            "type": "scatterpolargl"
           }
          ],
          "scatterternary": [
           {
            "marker": {
             "colorbar": {
              "outlinewidth": 0,
              "ticks": ""
             }
            },
            "type": "scatterternary"
           }
          ],
          "surface": [
           {
            "colorbar": {
             "outlinewidth": 0,
             "ticks": ""
            },
            "colorscale": [
             [
              0,
              "#0d0887"
             ],
             [
              0.1111111111111111,
              "#46039f"
             ],
             [
              0.2222222222222222,
              "#7201a8"
             ],
             [
              0.3333333333333333,
              "#9c179e"
             ],
             [
              0.4444444444444444,
              "#bd3786"
             ],
             [
              0.5555555555555556,
              "#d8576b"
             ],
             [
              0.6666666666666666,
              "#ed7953"
             ],
             [
              0.7777777777777778,
              "#fb9f3a"
             ],
             [
              0.8888888888888888,
              "#fdca26"
             ],
             [
              1,
              "#f0f921"
             ]
            ],
            "type": "surface"
           }
          ],
          "table": [
           {
            "cells": {
             "fill": {
              "color": "#EBF0F8"
             },
             "line": {
              "color": "white"
             }
            },
            "header": {
             "fill": {
              "color": "#C8D4E3"
             },
             "line": {
              "color": "white"
             }
            },
            "type": "table"
           }
          ]
         },
         "layout": {
          "annotationdefaults": {
           "arrowcolor": "#2a3f5f",
           "arrowhead": 0,
           "arrowwidth": 1
          },
          "autotypenumbers": "strict",
          "coloraxis": {
           "colorbar": {
            "outlinewidth": 0,
            "ticks": ""
           }
          },
          "colorscale": {
           "diverging": [
            [
             0,
             "#8e0152"
            ],
            [
             0.1,
             "#c51b7d"
            ],
            [
             0.2,
             "#de77ae"
            ],
            [
             0.3,
             "#f1b6da"
            ],
            [
             0.4,
             "#fde0ef"
            ],
            [
             0.5,
             "#f7f7f7"
            ],
            [
             0.6,
             "#e6f5d0"
            ],
            [
             0.7,
             "#b8e186"
            ],
            [
             0.8,
             "#7fbc41"
            ],
            [
             0.9,
             "#4d9221"
            ],
            [
             1,
             "#276419"
            ]
           ],
           "sequential": [
            [
             0,
             "#0d0887"
            ],
            [
             0.1111111111111111,
             "#46039f"
            ],
            [
             0.2222222222222222,
             "#7201a8"
            ],
            [
             0.3333333333333333,
             "#9c179e"
            ],
            [
             0.4444444444444444,
             "#bd3786"
            ],
            [
             0.5555555555555556,
             "#d8576b"
            ],
            [
             0.6666666666666666,
             "#ed7953"
            ],
            [
             0.7777777777777778,
             "#fb9f3a"
            ],
            [
             0.8888888888888888,
             "#fdca26"
            ],
            [
             1,
             "#f0f921"
            ]
           ],
           "sequentialminus": [
            [
             0,
             "#0d0887"
            ],
            [
             0.1111111111111111,
             "#46039f"
            ],
            [
             0.2222222222222222,
             "#7201a8"
            ],
            [
             0.3333333333333333,
             "#9c179e"
            ],
            [
             0.4444444444444444,
             "#bd3786"
            ],
            [
             0.5555555555555556,
             "#d8576b"
            ],
            [
             0.6666666666666666,
             "#ed7953"
            ],
            [
             0.7777777777777778,
             "#fb9f3a"
            ],
            [
             0.8888888888888888,
             "#fdca26"
            ],
            [
             1,
             "#f0f921"
            ]
           ]
          },
          "colorway": [
           "#636efa",
           "#EF553B",
           "#00cc96",
           "#ab63fa",
           "#FFA15A",
           "#19d3f3",
           "#FF6692",
           "#B6E880",
           "#FF97FF",
           "#FECB52"
          ],
          "font": {
           "color": "#2a3f5f"
          },
          "geo": {
           "bgcolor": "white",
           "lakecolor": "white",
           "landcolor": "#E5ECF6",
           "showlakes": true,
           "showland": true,
           "subunitcolor": "white"
          },
          "hoverlabel": {
           "align": "left"
          },
          "hovermode": "closest",
          "mapbox": {
           "style": "light"
          },
          "paper_bgcolor": "white",
          "plot_bgcolor": "#E5ECF6",
          "polar": {
           "angularaxis": {
            "gridcolor": "white",
            "linecolor": "white",
            "ticks": ""
           },
           "bgcolor": "#E5ECF6",
           "radialaxis": {
            "gridcolor": "white",
            "linecolor": "white",
            "ticks": ""
           }
          },
          "scene": {
           "xaxis": {
            "backgroundcolor": "#E5ECF6",
            "gridcolor": "white",
            "gridwidth": 2,
            "linecolor": "white",
            "showbackground": true,
            "ticks": "",
            "zerolinecolor": "white"
           },
           "yaxis": {
            "backgroundcolor": "#E5ECF6",
            "gridcolor": "white",
            "gridwidth": 2,
            "linecolor": "white",
            "showbackground": true,
            "ticks": "",
            "zerolinecolor": "white"
           },
           "zaxis": {
            "backgroundcolor": "#E5ECF6",
            "gridcolor": "white",
            "gridwidth": 2,
            "linecolor": "white",
            "showbackground": true,
            "ticks": "",
            "zerolinecolor": "white"
           }
          },
          "shapedefaults": {
           "line": {
            "color": "#2a3f5f"
           }
          },
          "ternary": {
           "aaxis": {
            "gridcolor": "white",
            "linecolor": "white",
            "ticks": ""
           },
           "baxis": {
            "gridcolor": "white",
            "linecolor": "white",
            "ticks": ""
           },
           "bgcolor": "#E5ECF6",
           "caxis": {
            "gridcolor": "white",
            "linecolor": "white",
            "ticks": ""
           }
          },
          "title": {
           "x": 0.05
          },
          "xaxis": {
           "automargin": true,
           "gridcolor": "white",
           "linecolor": "white",
           "ticks": "",
           "title": {
            "standoff": 15
           },
           "zerolinecolor": "white",
           "zerolinewidth": 2
          },
          "yaxis": {
           "automargin": true,
           "gridcolor": "white",
           "linecolor": "white",
           "ticks": "",
           "title": {
            "standoff": 15
           },
           "zerolinecolor": "white",
           "zerolinewidth": 2
          }
         }
        },
        "title": {},
        "width": 900,
        "xaxis": {
         "anchor": "y",
         "domain": [
          0,
          1
         ],
         "title": {
          "text": "relative cell density per L per month"
         }
        },
        "yaxis": {
         "anchor": "x",
         "domain": [
          0,
          1
         ],
         "title": {
          "text": "Month"
         }
        }
       }
      }
     },
     "metadata": {},
     "output_type": "display_data"
    }
   ],
   "source": [
    "for station in ['51', '130']:\n",
    "    grouped_df = flowcam[flowcam['Station'] == station][['Taxon', 'Comments', 'density_cell_L_sample']].groupby(['Taxon', 'Comments']).agg({'density_cell_L_sample':['sum', 'mean', 'min', 'max']})\n",
    "    grouped_df.columns = ['density_cell_l_sum', 'density_cell_l_mean', 'density_cell_l_min', 'density_cell_l_max']\n",
    "    grouped_df  = grouped_df.reset_index()\n",
    "\n",
    "    # Normalise sum of cell density values to the total cells per L of that month\n",
    "    grouped_df['rel_cell_density_l_per_sample'] = grouped_df.density_cell_l_mean / grouped_df.groupby('Comments').density_cell_l_mean.transform('sum')\n",
    "\n",
    "    # Combine low-abundant groups for figure clarity\n",
    "    rare_groups = grouped_df['rel_cell_density_l_per_sample'] <= 0.02\n",
    "    grouped_df.loc[rare_groups, 'Taxon'] = 'rare'\n",
    "\n",
    "    # Extract and sort samples numerically\n",
    "    sample_order = sorted(grouped_df['Comments'].unique(), key=lambda x: int(x.split('_')[1]))\n",
    "    grouped_df['Comments'] = pd.Categorical(grouped_df['Comments'], categories=sample_order, ordered=True)\n",
    "    \n",
    "    # Plot\n",
    "    fig = px.histogram(grouped_df.sort_values('Comments', ascending=False), \n",
    "                    x='rel_cell_density_l_per_sample', \n",
    "                    y='Comments', \n",
    "                    color='Taxon',\n",
    "                    orientation='h',\n",
    "                    # text_auto='.2f'\n",
    "                    )\n",
    "\n",
    "    fig.update_layout(\n",
    "        title=None,\n",
    "        xaxis_title='relative sum of cells per L',\n",
    "        yaxis_title='Month',  # Set the y-axis title\n",
    "        font=dict(\n",
    "            family='Arial',\n",
    "            size=10\n",
    "        ),\n",
    "        autosize=False,\n",
    "        width=900,\n",
    "        height=900,\n",
    "        xaxis_title_text='relative cell density per L per month'\n",
    "    )\n",
    "\n",
    "    fig.show()"
   ]
  },
  {
   "cell_type": "code",
   "execution_count": 23,
   "metadata": {},
   "outputs": [
    {
     "data": {
      "application/vnd.plotly.v1+json": {
       "config": {
        "plotlyServerURL": "https://plot.ly"
       },
       "data": [
        {
         "alignmentgroup": "True",
         "bingroup": "y",
         "histfunc": "sum",
         "hovertemplate": "Taxon=Actinoptychus<br>sum of density_cell_l_sum=%{x}<br>Comments=%{y}<extra></extra>",
         "legendgroup": "Actinoptychus",
         "marker": {
          "color": "#636efa",
          "pattern": {
           "shape": ""
          }
         },
         "name": "Actinoptychus",
         "offsetgroup": "Actinoptychus",
         "orientation": "h",
         "showlegend": true,
         "type": "histogram",
         "x": [
          7.32725664212772,
          0.251145852954103,
          0.429211890523097,
          0.576436554617364,
          3.41873180132811,
          4.08978322228836,
          9.61602671118531,
          3.17493142269772,
          5.09659486818227,
          16.8758989292754,
          2.97809657999231,
          1.02623212924576,
          0.160127247786241,
          7.26104417670683,
          7.59357570055776,
          14.8882292662719,
          0.420102024777446
         ],
         "xaxis": "x",
         "y": [
          "51_1",
          "51_10",
          "51_11",
          "51_12",
          "51_15",
          "51_17",
          "51_19",
          "51_2",
          "51_20",
          "51_21",
          "51_3",
          "51_4",
          "51_5",
          "51_6",
          "51_7",
          "51_8",
          "51_9"
         ],
         "yaxis": "y"
        },
        {
         "alignmentgroup": "True",
         "bingroup": "y",
         "histfunc": "sum",
         "hovertemplate": "Taxon=Actinoptychus senarius<br>sum of density_cell_l_sum=%{x}<br>Comments=%{y}<extra></extra>",
         "legendgroup": "Actinoptychus senarius",
         "marker": {
          "color": "#EF553B",
          "pattern": {
           "shape": ""
          }
         },
         "name": "Actinoptychus senarius",
         "offsetgroup": "Actinoptychus senarius",
         "orientation": "h",
         "showlegend": true,
         "type": "histogram",
         "x": [
          0.915947413089081,
          0.116652085156022,
          0.355716083839545,
          4.38555273627165,
          4.08978322228836,
          0.05336748852599,
          0.0669157419282886
         ],
         "xaxis": "x",
         "y": [
          "51_1",
          "51_11",
          "51_13",
          "51_16",
          "51_17",
          "51_5",
          "51_9"
         ],
         "yaxis": "y"
        },
        {
         "alignmentgroup": "True",
         "bingroup": "y",
         "histfunc": "sum",
         "hovertemplate": "Taxon=Actinoptychus splendens<br>sum of density_cell_l_sum=%{x}<br>Comments=%{y}<extra></extra>",
         "legendgroup": "Actinoptychus splendens",
         "marker": {
          "color": "#00cc96",
          "pattern": {
           "shape": ""
          }
         },
         "name": "Actinoptychus splendens",
         "offsetgroup": "Actinoptychus splendens",
         "orientation": "h",
         "showlegend": true,
         "type": "histogram",
         "x": [
          1.83173350198945,
          0.192141416082237,
          4.80801335559265,
          0.928609167613955,
          1.972246605532,
          0.595628852773997,
          2.06638017737954,
          1.80933166810773,
          1.4284433553477
         ],
         "xaxis": "x",
         "y": [
          "51_1",
          "51_12",
          "51_19",
          "51_2",
          "51_21",
          "51_3",
          "51_6",
          "51_7",
          "51_8"
         ],
         "yaxis": "y"
        },
        {
         "alignmentgroup": "True",
         "bingroup": "y",
         "histfunc": "sum",
         "hovertemplate": "Taxon=Appendicularia<br>sum of density_cell_l_sum=%{x}<br>Comments=%{y}<extra></extra>",
         "legendgroup": "Appendicularia",
         "marker": {
          "color": "#ab63fa",
          "pattern": {
           "shape": ""
          }
         },
         "name": "Appendicularia",
         "offsetgroup": "Appendicularia",
         "orientation": "h",
         "showlegend": true,
         "type": "histogram",
         "x": [
          1.02623212924576
         ],
         "xaxis": "x",
         "y": [
          "51_4"
         ],
         "yaxis": "y"
        },
        {
         "alignmentgroup": "True",
         "bingroup": "y",
         "histfunc": "sum",
         "hovertemplate": "Taxon=Asterionella<br>sum of density_cell_l_sum=%{x}<br>Comments=%{y}<extra></extra>",
         "legendgroup": "Asterionella",
         "marker": {
          "color": "#FFA15A",
          "pattern": {
           "shape": ""
          }
         },
         "name": "Asterionella",
         "offsetgroup": "Asterionella",
         "orientation": "h",
         "showlegend": true,
         "type": "histogram",
         "x": [
          13.9683725352053,
          38.4001950486098,
          15.6911302417181,
          2.51781688329374,
          33.6132853314852,
          9.59601620962455,
          1.23053159994851
         ],
         "xaxis": "x",
         "y": [
          "51_15",
          "51_16",
          "51_18",
          "51_20",
          "51_21",
          "51_7",
          "51_8"
         ],
         "yaxis": "y"
        },
        {
         "alignmentgroup": "True",
         "bingroup": "y",
         "histfunc": "sum",
         "hovertemplate": "Taxon=Aulacodiscus argus<br>sum of density_cell_l_sum=%{x}<br>Comments=%{y}<extra></extra>",
         "legendgroup": "Aulacodiscus argus",
         "marker": {
          "color": "#19d3f3",
          "pattern": {
           "shape": ""
          }
         },
         "name": "Aulacodiscus argus",
         "offsetgroup": "Aulacodiscus argus",
         "orientation": "h",
         "showlegend": true,
         "type": "histogram",
         "x": [
          1.83157220621198,
          0.124742718143828,
          0.0573962953300287,
          5.96121015364809,
          2.57952502015254,
          0.595628852773997,
          3.49520569130838,
          1.80933166810773,
          7.09851792450028
         ],
         "xaxis": "x",
         "y": [
          "51_1",
          "51_10",
          "51_11",
          "51_17",
          "51_20",
          "51_3",
          "51_6",
          "51_7",
          "51_8"
         ],
         "yaxis": "y"
        },
        {
         "alignmentgroup": "True",
         "bingroup": "y",
         "histfunc": "sum",
         "hovertemplate": "Taxon=Bacillaria paxillifer<br>sum of density_cell_l_sum=%{x}<br>Comments=%{y}<extra></extra>",
         "legendgroup": "Bacillaria paxillifer",
         "marker": {
          "color": "#FF6692",
          "pattern": {
           "shape": ""
          }
         },
         "name": "Bacillaria paxillifer",
         "offsetgroup": "Bacillaria paxillifer",
         "orientation": "h",
         "showlegend": true,
         "type": "histogram",
         "x": [
          0.0724518359953894,
          0.384264373889236,
          2.83507065434973
         ],
         "xaxis": "x",
         "y": [
          "51_11",
          "51_12",
          "51_8"
         ],
         "yaxis": "y"
        },
        {
         "alignmentgroup": "True",
         "bingroup": "y",
         "histfunc": "sum",
         "hovertemplate": "Taxon=Bacillariophyceae<br>sum of density_cell_l_sum=%{x}<br>Comments=%{y}<extra></extra>",
         "legendgroup": "Bacillariophyceae",
         "marker": {
          "color": "#B6E880",
          "pattern": {
           "shape": ""
          }
         },
         "name": "Bacillariophyceae",
         "offsetgroup": "Bacillariophyceae",
         "orientation": "h",
         "showlegend": true,
         "type": "histogram",
         "x": [
          4.5797370654454,
          0.124742718143828,
          0.114792590660057,
          0.384264373889236,
          2.64878090345827,
          14.657767307944,
          5.22993014307595,
          3.8908403134288,
          5.57192263353401,
          1.28976251007627,
          14.9384637148111,
          4.8634901179715,
          3.24144455681336,
          0.053376888874655,
          5.21578582967921,
          17.2082835898063,
          0.238826763524187
         ],
         "xaxis": "x",
         "y": [
          "51_1",
          "51_10",
          "51_11",
          "51_12",
          "51_15",
          "51_16",
          "51_18",
          "51_19",
          "51_2",
          "51_20",
          "51_21",
          "51_3",
          "51_4",
          "51_5",
          "51_6",
          "51_7",
          "51_9"
         ],
         "yaxis": "y"
        },
        {
         "alignmentgroup": "True",
         "bingroup": "y",
         "histfunc": "sum",
         "hovertemplate": "Taxon=Bellerochea<br>sum of density_cell_l_sum=%{x}<br>Comments=%{y}<extra></extra>",
         "legendgroup": "Bellerochea",
         "marker": {
          "color": "#FF97FF",
          "pattern": {
           "shape": ""
          }
         },
         "name": "Bellerochea",
         "offsetgroup": "Bellerochea",
         "orientation": "h",
         "showlegend": true,
         "type": "histogram",
         "x": [
          2.74784223926724,
          0.0724518359953894,
          1.58966716343766,
          5.80407114132913,
          5.23060007792527,
          1.67252243096489,
          15.9581442638597,
          1.20663650075415,
          8.57602286939432,
          1.21088822883183,
          4.26555391347185,
          6.19914053213861,
          2.64424406704652,
          0.0576368876080692
         ],
         "xaxis": "x",
         "y": [
          "51_1",
          "51_11",
          "51_15",
          "51_16",
          "51_18",
          "51_19",
          "51_2",
          "51_20",
          "51_21",
          "51_3",
          "51_4",
          "51_6",
          "51_8",
          "51_9"
         ],
         "yaxis": "y"
        },
        {
         "alignmentgroup": "True",
         "bingroup": "y",
         "histfunc": "sum",
         "hovertemplate": "Taxon=Bellerochea horologicalis<br>sum of density_cell_l_sum=%{x}<br>Comments=%{y}<extra></extra>",
         "legendgroup": "Bellerochea horologicalis",
         "marker": {
          "color": "#FECB52",
          "pattern": {
           "shape": ""
          }
         },
         "name": "Bellerochea horologicalis",
         "offsetgroup": "Bellerochea horologicalis",
         "orientation": "h",
         "showlegend": true,
         "type": "histogram",
         "x": [
          16.4857628294653,
          0.881524858101483,
          1.56060953435951,
          0.576411942401503,
          9.85934238956523,
          27.8921503519724,
          35.1193019883104,
          36.6121905938235,
          64.6359395624948,
          2.93663451558188,
          52.0283516173425,
          78.7604305515961,
          12.6248230006772,
          16.8969219842213,
          0.533710773592418,
          33.9954414957228,
          70.185061679665,
          41.8066457212327,
          2.32214626773385
         ],
         "xaxis": "x",
         "y": [
          "51_1",
          "51_10",
          "51_11",
          "51_12",
          "51_15",
          "51_16",
          "51_17",
          "51_18",
          "51_19",
          "51_2",
          "51_20",
          "51_21",
          "51_3",
          "51_4",
          "51_5",
          "51_6",
          "51_7",
          "51_8",
          "51_9"
         ],
         "yaxis": "y"
        },
        {
         "alignmentgroup": "True",
         "bingroup": "y",
         "histfunc": "sum",
         "hovertemplate": "Taxon=Biddulphianae<br>sum of density_cell_l_sum=%{x}<br>Comments=%{y}<extra></extra>",
         "legendgroup": "Biddulphianae",
         "marker": {
          "color": "#636efa",
          "pattern": {
           "shape": ""
          }
         },
         "name": "Biddulphianae",
         "offsetgroup": "Biddulphianae",
         "orientation": "h",
         "showlegend": true,
         "type": "histogram",
         "x": [
          101.664516322612,
          6.80185043158825,
          6.7054742140856,
          4.2270803887633,
          2.63967047630098,
          28.3382438670847,
          156.257829975081,
          174.144461315135,
          94.1447716028628,
          85.037801761332,
          37.2322298919806,
          72.0132064830329,
          77.5114021566144,
          43.4716491156093,
          46.8377858957024,
          2.13490035019037,
          188.749806577432,
          75.0336918839558,
          92.5364034364258,
          3.93088465838519
         ],
         "xaxis": "x",
         "y": [
          "51_1",
          "51_10",
          "51_11",
          "51_12",
          "51_13",
          "51_15",
          "51_16",
          "51_17",
          "51_18",
          "51_19",
          "51_2",
          "51_20",
          "51_21",
          "51_3",
          "51_4",
          "51_5",
          "51_6",
          "51_7",
          "51_8",
          "51_9"
         ],
         "yaxis": "y"
        },
        {
         "alignmentgroup": "True",
         "bingroup": "y",
         "histfunc": "sum",
         "hovertemplate": "Taxon=Centric Diatom<br>sum of density_cell_l_sum=%{x}<br>Comments=%{y}<extra></extra>",
         "legendgroup": "Centric Diatom",
         "marker": {
          "color": "#EF553B",
          "pattern": {
           "shape": ""
          }
         },
         "name": "Centric Diatom",
         "offsetgroup": "Centric Diatom",
         "orientation": "h",
         "showlegend": true,
         "type": "histogram",
         "x": [
          24.7291281930849,
          4.45907277995013,
          3.01613388854443,
          6.14835303394803,
          2.54590217660648,
          63.5447853775535,
          94.7018211770697,
          43.9921057462824,
          62.7638510105727,
          53.804823004551,
          44.450482742145,
          84.7069184937931,
          89.8171812102457,
          23.0064822012502,
          17.230775233687,
          0.640464550287142,
          63.705748382094,
          92.9941492895566,
          95.2820623632669,
          3.90000833131663
         ],
         "xaxis": "x",
         "y": [
          "51_1",
          "51_10",
          "51_11",
          "51_12",
          "51_13",
          "51_15",
          "51_16",
          "51_17",
          "51_18",
          "51_19",
          "51_2",
          "51_20",
          "51_21",
          "51_3",
          "51_4",
          "51_5",
          "51_6",
          "51_7",
          "51_8",
          "51_9"
         ],
         "yaxis": "y"
        },
        {
         "alignmentgroup": "True",
         "bingroup": "y",
         "histfunc": "sum",
         "hovertemplate": "Taxon=Cerataulina pelagica<br>sum of density_cell_l_sum=%{x}<br>Comments=%{y}<extra></extra>",
         "legendgroup": "Cerataulina pelagica",
         "marker": {
          "color": "#00cc96",
          "pattern": {
           "shape": ""
          }
         },
         "name": "Cerataulina pelagica",
         "offsetgroup": "Cerataulina pelagica",
         "orientation": "h",
         "showlegend": true,
         "type": "histogram",
         "x": [
          0.915947413089081
         ],
         "xaxis": "x",
         "y": [
          "51_1"
         ],
         "yaxis": "y"
        },
        {
         "alignmentgroup": "True",
         "bingroup": "y",
         "histfunc": "sum",
         "hovertemplate": "Taxon=Cerataulus granulata<br>sum of density_cell_l_sum=%{x}<br>Comments=%{y}<extra></extra>",
         "legendgroup": "Cerataulus granulata",
         "marker": {
          "color": "#ab63fa",
          "pattern": {
           "shape": ""
          }
         },
         "name": "Cerataulus granulata",
         "offsetgroup": "Cerataulus granulata",
         "orientation": "h",
         "showlegend": true,
         "type": "histogram",
         "x": [
          0.0724518359953894,
          4.38555273627165,
          5.96121015364809
         ],
         "xaxis": "x",
         "y": [
          "51_11",
          "51_16",
          "51_17"
         ],
         "yaxis": "y"
        },
        {
         "alignmentgroup": "True",
         "bingroup": "y",
         "histfunc": "sum",
         "hovertemplate": "Taxon=Chaetoceros<br>sum of density_cell_l_sum=%{x}<br>Comments=%{y}<extra></extra>",
         "legendgroup": "Chaetoceros",
         "marker": {
          "color": "#FFA15A",
          "pattern": {
           "shape": ""
          }
         },
         "name": "Chaetoceros",
         "offsetgroup": "Chaetoceros",
         "orientation": "h",
         "showlegend": true,
         "type": "histogram",
         "x": [
          14.6537067077094,
          0.249485436287657,
          0.0583260425780111,
          0.192122958693564,
          0.355716083839545,
          1.14886697218644,
          5.80407114132913,
          4.08978322228836,
          5.23060007792527,
          7.26335939316958,
          1.972246605532,
          7.16652730860564,
          10.6638847836796,
          0.106740958373695,
          11.028454931899,
          5.28848813409305
         ],
         "xaxis": "x",
         "y": [
          "51_1",
          "51_10",
          "51_11",
          "51_12",
          "51_13",
          "51_15",
          "51_16",
          "51_17",
          "51_18",
          "51_2",
          "51_21",
          "51_3",
          "51_4",
          "51_5",
          "51_7",
          "51_8"
         ],
         "yaxis": "y"
        },
        {
         "alignmentgroup": "True",
         "bingroup": "y",
         "histfunc": "sum",
         "hovertemplate": "Taxon=Ciliophora<br>sum of density_cell_l_sum=%{x}<br>Comments=%{y}<extra></extra>",
         "legendgroup": "Ciliophora",
         "marker": {
          "color": "#19d3f3",
          "pattern": {
           "shape": ""
          }
         },
         "name": "Ciliophora",
         "offsetgroup": "Ciliophora",
         "orientation": "h",
         "showlegend": true,
         "type": "histogram",
         "x": [
          1.99667809308407,
          0.115273775216138
         ],
         "xaxis": "x",
         "y": [
          "51_7",
          "51_9"
         ],
         "yaxis": "y"
        },
        {
         "alignmentgroup": "True",
         "bingroup": "y",
         "histfunc": "sum",
         "hovertemplate": "Taxon=Copepoda adult<br>sum of density_cell_l_sum=%{x}<br>Comments=%{y}<extra></extra>",
         "legendgroup": "Copepoda adult",
         "marker": {
          "color": "#FF6692",
          "pattern": {
           "shape": ""
          }
         },
         "name": "Copepoda adult",
         "offsetgroup": "Copepoda adult",
         "orientation": "h",
         "showlegend": true,
         "type": "histogram",
         "x": [
          0.243187973249323,
          0.192122958693564,
          1.13498852493219,
          1.10981543286823
         ],
         "xaxis": "x",
         "y": [
          "51_11",
          "51_12",
          "51_15",
          "51_4"
         ],
         "yaxis": "y"
        },
        {
         "alignmentgroup": "True",
         "bingroup": "y",
         "histfunc": "sum",
         "hovertemplate": "Taxon=Crustacea<br>sum of density_cell_l_sum=%{x}<br>Comments=%{y}<extra></extra>",
         "legendgroup": "Crustacea",
         "marker": {
          "color": "#B6E880",
          "pattern": {
           "shape": ""
          }
         },
         "name": "Crustacea",
         "offsetgroup": "Crustacea",
         "orientation": "h",
         "showlegend": true,
         "type": "histogram",
         "x": [
          0.502291705908206,
          0.144903671990779,
          0.768559511324244,
          3.17933432687531,
          5.23060007792527,
          4.40495177337283,
          1.20663650075415,
          1.21083896167304,
          1.02623212924576,
          2.06638017737954,
          1.99667809308407
         ],
         "xaxis": "x",
         "y": [
          "51_10",
          "51_11",
          "51_12",
          "51_15",
          "51_18",
          "51_2",
          "51_20",
          "51_3",
          "51_4",
          "51_6",
          "51_7"
         ],
         "yaxis": "y"
        },
        {
         "alignmentgroup": "True",
         "bingroup": "y",
         "histfunc": "sum",
         "hovertemplate": "Taxon=Dactyliosolen/Cerataulina/Guinardia<br>sum of density_cell_l_sum=%{x}<br>Comments=%{y}<extra></extra>",
         "legendgroup": "Dactyliosolen/Cerataulina/Guinardia",
         "marker": {
          "color": "#FF97FF",
          "pattern": {
           "shape": ""
          }
         },
         "name": "Dactyliosolen/Cerataulina/Guinardia",
         "offsetgroup": "Dactyliosolen/Cerataulina/Guinardia",
         "orientation": "h",
         "showlegend": true,
         "type": "histogram",
         "x": [
          2.74735830931796,
          0.595581171950048,
          2.06638017737954
         ],
         "xaxis": "x",
         "y": [
          "51_1",
          "51_3",
          "51_6"
         ],
         "yaxis": "y"
        },
        {
         "alignmentgroup": "True",
         "bingroup": "y",
         "histfunc": "sum",
         "hovertemplate": "Taxon=Dinoflagellata<br>sum of density_cell_l_sum=%{x}<br>Comments=%{y}<extra></extra>",
         "legendgroup": "Dinoflagellata",
         "marker": {
          "color": "#FECB52",
          "pattern": {
           "shape": ""
          }
         },
         "name": "Dinoflagellata",
         "offsetgroup": "Dinoflagellata",
         "orientation": "h",
         "showlegend": true,
         "type": "histogram",
         "x": [
          0.915947413089081,
          2.06638017737954,
          0.0669157419282886
         ],
         "xaxis": "x",
         "y": [
          "51_1",
          "51_6",
          "51_9"
         ],
         "yaxis": "y"
        },
        {
         "alignmentgroup": "True",
         "bingroup": "y",
         "histfunc": "sum",
         "hovertemplate": "Taxon=Dinoflagellate cyst<br>sum of density_cell_l_sum=%{x}<br>Comments=%{y}<extra></extra>",
         "legendgroup": "Dinoflagellate cyst",
         "marker": {
          "color": "#636efa",
          "pattern": {
           "shape": ""
          }
         },
         "name": "Dinoflagellate cyst",
         "offsetgroup": "Dinoflagellate cyst",
         "orientation": "h",
         "showlegend": true,
         "type": "histogram",
         "x": [
          1.83157220621198,
          0.231429736091204,
          0.192141416082237,
          0.355716083839545,
          2.78591671069696,
          1.972246605532,
          0.595628852773997,
          2.05246425849151,
          0.05336748852599,
          3.77673796791444,
          1.80933166810773,
          7.33295287887435,
          0.0576368876080692
         ],
         "xaxis": "x",
         "y": [
          "51_1",
          "51_11",
          "51_12",
          "51_13",
          "51_2",
          "51_21",
          "51_3",
          "51_4",
          "51_5",
          "51_6",
          "51_7",
          "51_8",
          "51_9"
         ],
         "yaxis": "y"
        },
        {
         "alignmentgroup": "True",
         "bingroup": "y",
         "histfunc": "sum",
         "hovertemplate": "Taxon=Diploneis<br>sum of density_cell_l_sum=%{x}<br>Comments=%{y}<extra></extra>",
         "legendgroup": "Diploneis",
         "marker": {
          "color": "#EF553B",
          "pattern": {
           "shape": ""
          }
         },
         "name": "Diploneis",
         "offsetgroup": "Diploneis",
         "orientation": "h",
         "showlegend": true,
         "type": "histogram",
         "x": [
          1.83173350198945,
          0.249485436287657,
          0.0583260425780111,
          0.192147569333248,
          1.13498852493219,
          5.80407114132913,
          0.615588283964918,
          4.01442350391673,
          2.85688671069539,
          0.200747225784866
         ],
         "xaxis": "x",
         "y": [
          "51_1",
          "51_10",
          "51_11",
          "51_12",
          "51_15",
          "51_16",
          "51_3",
          "51_7",
          "51_8",
          "51_9"
         ],
         "yaxis": "y"
        },
        {
         "alignmentgroup": "True",
         "bingroup": "y",
         "histfunc": "sum",
         "hovertemplate": "Taxon=Dissodinium pseudolunula<br>sum of density_cell_l_sum=%{x}<br>Comments=%{y}<extra></extra>",
         "legendgroup": "Dissodinium pseudolunula",
         "marker": {
          "color": "#00cc96",
          "pattern": {
           "shape": ""
          }
         },
         "name": "Dissodinium pseudolunula",
         "offsetgroup": "Dissodinium pseudolunula",
         "orientation": "h",
         "showlegend": true,
         "type": "histogram",
         "x": [
          0.124742718143828
         ],
         "xaxis": "x",
         "y": [
          "51_10"
         ],
         "yaxis": "y"
        },
        {
         "alignmentgroup": "True",
         "bingroup": "y",
         "histfunc": "sum",
         "hovertemplate": "Taxon=Ditylum brightwellii<br>sum of density_cell_l_sum=%{x}<br>Comments=%{y}<extra></extra>",
         "legendgroup": "Ditylum brightwellii",
         "marker": {
          "color": "#ab63fa",
          "pattern": {
           "shape": ""
          }
         },
         "name": "Ditylum brightwellii",
         "offsetgroup": "Ditylum brightwellii",
         "orientation": "h",
         "showlegend": true,
         "type": "histogram",
         "x": [
          8.24255880108235,
          0.374228154431485,
          0.330264872427687,
          0.384282832164473,
          4.20719760767195,
          4.38555273627165,
          5.96121015364809,
          5.22993014307595,
          2.48887352547207,
          4.09052039529943,
          1.28976251007627,
          3.38130993740094,
          6.62989284530692,
          6.39833087020777,
          0.160120410548733,
          3.49520569130838,
          5.79999429695743,
          7.09851792450028,
          0.305107499542339
         ],
         "xaxis": "x",
         "y": [
          "51_1",
          "51_10",
          "51_11",
          "51_12",
          "51_15",
          "51_16",
          "51_17",
          "51_18",
          "51_19",
          "51_2",
          "51_20",
          "51_21",
          "51_3",
          "51_4",
          "51_5",
          "51_6",
          "51_7",
          "51_8",
          "51_9"
         ],
         "yaxis": "y"
        },
        {
         "alignmentgroup": "True",
         "bingroup": "y",
         "histfunc": "sum",
         "hovertemplate": "Taxon=Epiphytic diatom<br>sum of density_cell_l_sum=%{x}<br>Comments=%{y}<extra></extra>",
         "legendgroup": "Epiphytic diatom",
         "marker": {
          "color": "#FFA15A",
          "pattern": {
           "shape": ""
          }
         },
         "name": "Epiphytic diatom",
         "offsetgroup": "Epiphytic diatom",
         "orientation": "h",
         "showlegend": true,
         "type": "histogram",
         "x": [
          1.22949608393675,
          3.34312491257519
         ],
         "xaxis": "x",
         "y": [
          "51_20",
          "51_8"
         ],
         "yaxis": "y"
        },
        {
         "alignmentgroup": "True",
         "bingroup": "y",
         "histfunc": "sum",
         "hovertemplate": "Taxon=Foraminifera<br>sum of density_cell_l_sum=%{x}<br>Comments=%{y}<extra></extra>",
         "legendgroup": "Foraminifera",
         "marker": {
          "color": "#19d3f3",
          "pattern": {
           "shape": ""
          }
         },
         "name": "Foraminifera",
         "offsetgroup": "Foraminifera",
         "orientation": "h",
         "showlegend": true,
         "type": "histogram",
         "x": [
          0.0724518359953894
         ],
         "xaxis": "x",
         "y": [
          "51_11"
         ],
         "yaxis": "y"
        },
        {
         "alignmentgroup": "True",
         "bingroup": "y",
         "histfunc": "sum",
         "hovertemplate": "Taxon=Guinardia delicatula<br>sum of density_cell_l_sum=%{x}<br>Comments=%{y}<extra></extra>",
         "legendgroup": "Guinardia delicatula",
         "marker": {
          "color": "#FF6692",
          "pattern": {
           "shape": ""
          }
         },
         "name": "Guinardia delicatula",
         "offsetgroup": "Guinardia delicatula",
         "orientation": "h",
         "showlegend": true,
         "type": "histogram",
         "x": [
          0.915947413089081,
          0.116652085156022,
          1.46831725779094
         ],
         "xaxis": "x",
         "y": [
          "51_1",
          "51_11",
          "51_2"
         ],
         "yaxis": "y"
        },
        {
         "alignmentgroup": "True",
         "bingroup": "y",
         "histfunc": "sum",
         "hovertemplate": "Taxon=Guinardia flaccida<br>sum of density_cell_l_sum=%{x}<br>Comments=%{y}<extra></extra>",
         "legendgroup": "Guinardia flaccida",
         "marker": {
          "color": "#B6E880",
          "pattern": {
           "shape": ""
          }
         },
         "name": "Guinardia flaccida",
         "offsetgroup": "Guinardia flaccida",
         "orientation": "h",
         "showlegend": true,
         "type": "histogram",
         "x": [
          36.634670039789,
          0.124742718143828,
          1.68972238318495,
          3.07423804529698,
          1.10364864354979,
          15.8448604509277,
          3.664441826986,
          5.96121015364809,
          3.34504486192979,
          44.5844900863356,
          1.20663650075415,
          3.40568258780275,
          17.4284496661681,
          11.8568065866414,
          0.05336748852599,
          3.79800016805311,
          9.40873196937249,
          17.0756212462882
         ],
         "xaxis": "x",
         "y": [
          "51_1",
          "51_10",
          "51_11",
          "51_12",
          "51_13",
          "51_15",
          "51_16",
          "51_17",
          "51_19",
          "51_2",
          "51_20",
          "51_21",
          "51_3",
          "51_4",
          "51_5",
          "51_6",
          "51_7",
          "51_8"
         ],
         "yaxis": "y"
        },
        {
         "alignmentgroup": "True",
         "bingroup": "y",
         "histfunc": "sum",
         "hovertemplate": "Taxon=Guinardia striata/Dactyliosolen phuketensis<br>sum of density_cell_l_sum=%{x}<br>Comments=%{y}<extra></extra>",
         "legendgroup": "Guinardia striata/Dactyliosolen phuketensis",
         "marker": {
          "color": "#FF97FF",
          "pattern": {
           "shape": ""
          }
         },
         "name": "Guinardia striata/Dactyliosolen phuketensis",
         "offsetgroup": "Guinardia striata/Dactyliosolen phuketensis",
         "orientation": "h",
         "showlegend": true,
         "type": "histogram",
         "x": [
          7.32709532149112,
          0.0724518359953894,
          0.384288985316958,
          3.71470430473385,
          3.61866333621545,
          2.46106319989703
         ],
         "xaxis": "x",
         "y": [
          "51_1",
          "51_11",
          "51_12",
          "51_2",
          "51_7",
          "51_8"
         ],
         "yaxis": "y"
        },
        {
         "alignmentgroup": "True",
         "bingroup": "y",
         "histfunc": "sum",
         "hovertemplate": "Taxon=Helicotheca tamesis<br>sum of density_cell_l_sum=%{x}<br>Comments=%{y}<extra></extra>",
         "legendgroup": "Helicotheca tamesis",
         "marker": {
          "color": "#FECB52",
          "pattern": {
           "shape": ""
          }
         },
         "name": "Helicotheca tamesis",
         "offsetgroup": "Helicotheca tamesis",
         "orientation": "h",
         "showlegend": true,
         "type": "histogram",
         "x": [
          0.192147569333248,
          0.331827347678485,
          10.4612001558505,
          1.67252243096489,
          1.46831725779094,
          1.69065496870047,
          1.10981543286823,
          7.09851792450028,
          0.0576368876080692
         ],
         "xaxis": "x",
         "y": [
          "51_12",
          "51_13",
          "51_18",
          "51_19",
          "51_2",
          "51_21",
          "51_4",
          "51_8",
          "51_9"
         ],
         "yaxis": "y"
        },
        {
         "alignmentgroup": "True",
         "bingroup": "y",
         "histfunc": "sum",
         "hovertemplate": "Taxon=Hobaniella longicruris<br>sum of density_cell_l_sum=%{x}<br>Comments=%{y}<extra></extra>",
         "legendgroup": "Hobaniella longicruris",
         "marker": {
          "color": "#636efa",
          "pattern": {
           "shape": ""
          }
         },
         "name": "Hobaniella longicruris",
         "offsetgroup": "Hobaniella longicruris",
         "orientation": "h",
         "showlegend": true,
         "type": "histogram",
         "x": [
          1.83157220621198,
          0.115714868045602,
          0.192141416082237,
          0.355716083839545,
          2.48887352547207,
          0.615588283964918,
          1.73859527655974,
          0.0576368876080692
         ],
         "xaxis": "x",
         "y": [
          "51_1",
          "51_11",
          "51_12",
          "51_13",
          "51_19",
          "51_3",
          "51_6",
          "51_9"
         ],
         "yaxis": "y"
        },
        {
         "alignmentgroup": "True",
         "bingroup": "y",
         "histfunc": "sum",
         "hovertemplate": "Taxon=Long (chained) diatom<br>sum of density_cell_l_sum=%{x}<br>Comments=%{y}<extra></extra>",
         "legendgroup": "Long (chained) diatom",
         "marker": {
          "color": "#EF553B",
          "pattern": {
           "shape": ""
          }
         },
         "name": "Long (chained) diatom",
         "offsetgroup": "Long (chained) diatom",
         "orientation": "h",
         "showlegend": true,
         "type": "histogram",
         "x": [
          53.1223686702457,
          1.71656793222227,
          2.64627906215565,
          139.875831379081,
          1.8247253086593,
          23.5317049725306,
          48.8757707166619,
          46.1490314400809,
          25.8340520959117,
          78.8668626837933,
          2.57952502015254,
          9.0200593820576,
          39.8191904361128,
          20.4721901746391,
          0.05336748852599,
          23.8210768568702,
          42.1901023124638,
          26.9874038554775,
          0.610214999084677
         ],
         "xaxis": "x",
         "y": [
          "51_1",
          "51_10",
          "51_11",
          "51_12",
          "51_13",
          "51_15",
          "51_16",
          "51_17",
          "51_19",
          "51_2",
          "51_20",
          "51_21",
          "51_3",
          "51_4",
          "51_5",
          "51_6",
          "51_7",
          "51_8",
          "51_9"
         ],
         "yaxis": "y"
        },
        {
         "alignmentgroup": "True",
         "bingroup": "y",
         "histfunc": "sum",
         "hovertemplate": "Taxon=Mollusca<br>sum of density_cell_l_sum=%{x}<br>Comments=%{y}<extra></extra>",
         "legendgroup": "Mollusca",
         "marker": {
          "color": "#00cc96",
          "pattern": {
           "shape": ""
          }
         },
         "name": "Mollusca",
         "offsetgroup": "Mollusca",
         "orientation": "h",
         "showlegend": true,
         "type": "histogram",
         "x": [
          0.915947413089081,
          0.423897204927805,
          0.18500350385424,
          33.19324330214,
          42.7828404138934,
          4.96318389411874,
          5.23060007792527,
          3.72296524635808,
          8.52649835445041,
          2.38246772740919,
          7.24155885769215,
          3.61866333621545,
          1.4284433553477
         ],
         "xaxis": "x",
         "y": [
          "51_1",
          "51_10",
          "51_11",
          "51_15",
          "51_16",
          "51_17",
          "51_18",
          "51_20",
          "51_21",
          "51_3",
          "51_6",
          "51_7",
          "51_8"
         ],
         "yaxis": "y"
        },
        {
         "alignmentgroup": "True",
         "bingroup": "y",
         "histfunc": "sum",
         "hovertemplate": "Taxon=Mollusca incertae<br>sum of density_cell_l_sum=%{x}<br>Comments=%{y}<extra></extra>",
         "legendgroup": "Mollusca incertae",
         "marker": {
          "color": "#ab63fa",
          "pattern": {
           "shape": ""
          }
         },
         "name": "Mollusca incertae",
         "offsetgroup": "Mollusca incertae",
         "orientation": "h",
         "showlegend": true,
         "type": "histogram",
         "x": [
          1.83173350198945,
          0.223139573803414,
          0.199878861296184,
          1.67252243096489,
          1.46831725779094,
          1.78679119412942,
          2.13277695673592,
          0.053376888874655,
          1.4284433553477,
          0.115273775216138
         ],
         "xaxis": "x",
         "y": [
          "51_1",
          "51_10",
          "51_11",
          "51_19",
          "51_2",
          "51_3",
          "51_4",
          "51_5",
          "51_8",
          "51_9"
         ],
         "yaxis": "y"
        },
        {
         "alignmentgroup": "True",
         "bingroup": "y",
         "histfunc": "sum",
         "hovertemplate": "Taxon=Nauplii<br>sum of density_cell_l_sum=%{x}<br>Comments=%{y}<extra></extra>",
         "legendgroup": "Nauplii",
         "marker": {
          "color": "#FFA15A",
          "pattern": {
           "shape": ""
          }
         },
         "name": "Nauplii",
         "offsetgroup": "Nauplii",
         "orientation": "h",
         "showlegend": true,
         "type": "histogram",
         "x": [
          42.1316450302946,
          1.98869403357383,
          3.86437756551707,
          4.22707423580786,
          3.22093208207412,
          11.720551661768,
          32.2291853178156,
          67.995791010449,
          48.8520510978324,
          74.377850998291,
          13.7694836990716,
          13.8213676577052,
          42.8959940525548,
          26.7854855276857,
          0.213485334891776,
          26.7740084139362,
          37.1878600913082,
          43.0371208025836,
          2.22950481253064
         ],
         "xaxis": "x",
         "y": [
          "51_1",
          "51_10",
          "51_11",
          "51_12",
          "51_13",
          "51_15",
          "51_17",
          "51_18",
          "51_19",
          "51_2",
          "51_20",
          "51_21",
          "51_3",
          "51_4",
          "51_5",
          "51_6",
          "51_7",
          "51_8",
          "51_9"
         ],
         "yaxis": "y"
        },
        {
         "alignmentgroup": "True",
         "bingroup": "y",
         "histfunc": "sum",
         "hovertemplate": "Taxon=Neocalyptrella robusta<br>sum of density_cell_l_sum=%{x}<br>Comments=%{y}<extra></extra>",
         "legendgroup": "Neocalyptrella robusta",
         "marker": {
          "color": "#19d3f3",
          "pattern": {
           "shape": ""
          }
         },
         "name": "Neocalyptrella robusta",
         "offsetgroup": "Neocalyptrella robusta",
         "orientation": "h",
         "showlegend": true,
         "type": "histogram",
         "x": [
          0.928609167613955,
          1.73859527655974,
          1.80933166810773
         ],
         "xaxis": "x",
         "y": [
          "51_2",
          "51_6",
          "51_7"
         ],
         "yaxis": "y"
        },
        {
         "alignmentgroup": "True",
         "bingroup": "y",
         "histfunc": "sum",
         "hovertemplate": "Taxon=Noctilucales<br>sum of density_cell_l_sum=%{x}<br>Comments=%{y}<extra></extra>",
         "legendgroup": "Noctilucales",
         "marker": {
          "color": "#FF6692",
          "pattern": {
           "shape": ""
          }
         },
         "name": "Noctilucales",
         "offsetgroup": "Noctilucales",
         "orientation": "h",
         "showlegend": true,
         "type": "histogram",
         "x": [
          28.3924338770001,
          0.997941745150627,
          0.99595041468461,
          2.88201664311241,
          9.49713902962155,
          17.7524039713711,
          50.8486109876502,
          13.7216134724807,
          5.12082760850238,
          10.2823367382073,
          46.8377858957024,
          1.12079929000796,
          21.763612288844,
          102.979463932028,
          20.4850119424477,
          0.946806838460329
         ],
         "xaxis": "x",
         "y": [
          "51_1",
          "51_10",
          "51_11",
          "51_12",
          "51_15",
          "51_17",
          "51_19",
          "51_2",
          "51_21",
          "51_3",
          "51_4",
          "51_5",
          "51_6",
          "51_7",
          "51_8",
          "51_9"
         ],
         "yaxis": "y"
        },
        {
         "alignmentgroup": "True",
         "bingroup": "y",
         "histfunc": "sum",
         "hovertemplate": "Taxon=Odontella rhombus f. trigona<br>sum of density_cell_l_sum=%{x}<br>Comments=%{y}<extra></extra>",
         "legendgroup": "Odontella rhombus f. trigona",
         "marker": {
          "color": "#B6E880",
          "pattern": {
           "shape": ""
          }
         },
         "name": "Odontella rhombus f. trigona",
         "offsetgroup": "Odontella rhombus f. trigona",
         "orientation": "h",
         "showlegend": true,
         "type": "histogram",
         "x": [
          4.57957573273212,
          5.23060007792527,
          1.67252243096489,
          2.49363105050202,
          3.43040914775773,
          0.595628852773997,
          1.02623212924576,
          0.05336748852599,
          1.80933166810773,
          0.0576368876080692
         ],
         "xaxis": "x",
         "y": [
          "51_1",
          "51_18",
          "51_19",
          "51_20",
          "51_21",
          "51_3",
          "51_4",
          "51_5",
          "51_7",
          "51_9"
         ],
         "yaxis": "y"
        },
        {
         "alignmentgroup": "True",
         "bingroup": "y",
         "histfunc": "sum",
         "hovertemplate": "Taxon=Paralia<br>sum of density_cell_l_sum=%{x}<br>Comments=%{y}<extra></extra>",
         "legendgroup": "Paralia",
         "marker": {
          "color": "#FF97FF",
          "pattern": {
           "shape": ""
          }
         },
         "name": "Paralia",
         "offsetgroup": "Paralia",
         "orientation": "h",
         "showlegend": true,
         "type": "histogram",
         "x": [
          12.8222958259374,
          1.19267696344445,
          1.84891869934136,
          1.92138954892178,
          0.355716083839545,
          13.6222910216718,
          35.5070855657357,
          10.833216778771,
          5.23060007792527,
          12.4651341733192,
          14.6471715245517,
          17.3633057062787,
          24.4490323217018,
          9.01191898963145,
          12.7966617404155,
          0.266855386796209,
          45.9288355048595,
          19.2211194175831,
          11.3619734892237,
          0.447812345302921
         ],
         "xaxis": "x",
         "y": [
          "51_1",
          "51_10",
          "51_11",
          "51_12",
          "51_13",
          "51_15",
          "51_16",
          "51_17",
          "51_18",
          "51_19",
          "51_2",
          "51_20",
          "51_21",
          "51_3",
          "51_4",
          "51_5",
          "51_6",
          "51_7",
          "51_8",
          "51_9"
         ],
         "yaxis": "y"
        },
        {
         "alignmentgroup": "True",
         "bingroup": "y",
         "histfunc": "sum",
         "hovertemplate": "Taxon=Pennate Diatom<br>sum of density_cell_l_sum=%{x}<br>Comments=%{y}<extra></extra>",
         "legendgroup": "Pennate Diatom",
         "marker": {
          "color": "#FECB52",
          "pattern": {
           "shape": ""
          }
         },
         "name": "Pennate Diatom",
         "offsetgroup": "Pennate Diatom",
         "orientation": "h",
         "showlegend": true,
         "type": "histogram",
         "x": [
          8.24272010475079,
          0.447602528954289,
          0.386599825249069,
          2.49785686836738,
          2.93862096734316,
          5.71637531366508,
          29.9764470772964,
          8.96870427487184,
          5.23060007792527,
          13.6611589849,
          10.023434097649,
          5.09659486818227,
          5.35222530706027,
          9.0121130551817,
          3.1579750311475,
          0.106750358948082,
          1.75670423630004,
          5.60324404138797,
          10.6388680702233,
          0.362580363587531
         ],
         "xaxis": "x",
         "y": [
          "51_1",
          "51_10",
          "51_11",
          "51_12",
          "51_13",
          "51_15",
          "51_16",
          "51_17",
          "51_18",
          "51_19",
          "51_2",
          "51_20",
          "51_21",
          "51_3",
          "51_4",
          "51_5",
          "51_6",
          "51_7",
          "51_8",
          "51_9"
         ],
         "yaxis": "y"
        },
        {
         "alignmentgroup": "True",
         "bingroup": "y",
         "histfunc": "sum",
         "hovertemplate": "Taxon=Peritrichia<br>sum of density_cell_l_sum=%{x}<br>Comments=%{y}<extra></extra>",
         "legendgroup": "Peritrichia",
         "marker": {
          "color": "#636efa",
          "pattern": {
           "shape": ""
          }
         },
         "name": "Peritrichia",
         "offsetgroup": "Peritrichia",
         "orientation": "h",
         "showlegend": true,
         "type": "histogram",
         "x": [
          3.66362832106386,
          0.124742718143828,
          0.344201764816321,
          0.192147569333248,
          2.66758201343598,
          15.6918002337758,
          1.67252243096489,
          4.55107205210193,
          4.98726210100405,
          3.6695334897055,
          1.19121002281551,
          3.24144455681336,
          0.0533734701829109,
          15.1069518716578,
          3.80628373655801,
          5.49291121421492
         ],
         "xaxis": "x",
         "y": [
          "51_1",
          "51_10",
          "51_11",
          "51_12",
          "51_15",
          "51_18",
          "51_19",
          "51_2",
          "51_20",
          "51_21",
          "51_3",
          "51_4",
          "51_5",
          "51_6",
          "51_7",
          "51_8"
         ],
         "yaxis": "y"
        },
        {
         "alignmentgroup": "True",
         "bingroup": "y",
         "histfunc": "sum",
         "hovertemplate": "Taxon=Phytoplankton Colony<br>sum of density_cell_l_sum=%{x}<br>Comments=%{y}<extra></extra>",
         "legendgroup": "Phytoplankton Colony",
         "marker": {
          "color": "#EF553B",
          "pattern": {
           "shape": ""
          }
         },
         "name": "Phytoplankton Colony",
         "offsetgroup": "Phytoplankton Colony",
         "orientation": "h",
         "showlegend": true,
         "type": "histogram",
         "x": [
          2.6195970810204,
          2.88915772647451,
          2.30561700606025,
          78.8378912910046,
          328.37914832573,
          67.9978010130285,
          114.033031568144,
          37.6860046697191,
          34.3040914775773,
          33.0620828380726
         ],
         "xaxis": "x",
         "y": [
          "51_10",
          "51_11",
          "51_12",
          "51_16",
          "51_17",
          "51_18",
          "51_19",
          "51_2",
          "51_21",
          "51_6"
         ],
         "yaxis": "y"
        },
        {
         "alignmentgroup": "True",
         "bingroup": "y",
         "histfunc": "sum",
         "hovertemplate": "Taxon=Protoperidinium<br>sum of density_cell_l_sum=%{x}<br>Comments=%{y}<extra></extra>",
         "legendgroup": "Protoperidinium",
         "marker": {
          "color": "#00cc96",
          "pattern": {
           "shape": ""
          }
         },
         "name": "Protoperidinium",
         "offsetgroup": "Protoperidinium",
         "orientation": "h",
         "showlegend": true,
         "type": "histogram",
         "x": [
          0.0669157419282886
         ],
         "xaxis": "x",
         "y": [
          "51_9"
         ],
         "yaxis": "y"
        },
        {
         "alignmentgroup": "True",
         "bingroup": "y",
         "histfunc": "sum",
         "hovertemplate": "Taxon=Pseudo-nitzschia<br>sum of density_cell_l_sum=%{x}<br>Comments=%{y}<extra></extra>",
         "legendgroup": "Pseudo-nitzschia",
         "marker": {
          "color": "#ab63fa",
          "pattern": {
           "shape": ""
          }
         },
         "name": "Pseudo-nitzschia",
         "offsetgroup": "Pseudo-nitzschia",
         "orientation": "h",
         "showlegend": true,
         "type": "histogram",
         "x": [
          18.3178189626254,
          0.375884895691941,
          0.615260702739588,
          1.34498375954984,
          1.76279791284727,
          11.7571796600792,
          30.2598554055306,
          5.96121015364809,
          27.2236942236442,
          1.28976251007627,
          6.86081829551545,
          11.4533777963514,
          3.07869638773727,
          0.106746940365822,
          1.80933166810773,
          4.50367454617784,
          0.0576368876080692
         ],
         "xaxis": "x",
         "y": [
          "51_1",
          "51_10",
          "51_11",
          "51_12",
          "51_13",
          "51_15",
          "51_16",
          "51_17",
          "51_2",
          "51_20",
          "51_21",
          "51_3",
          "51_4",
          "51_5",
          "51_7",
          "51_8",
          "51_9"
         ],
         "yaxis": "y"
        },
        {
         "alignmentgroup": "True",
         "bingroup": "y",
         "histfunc": "sum",
         "hovertemplate": "Taxon=Radiozoa incertae<br>sum of density_cell_l_sum=%{x}<br>Comments=%{y}<extra></extra>",
         "legendgroup": "Radiozoa incertae",
         "marker": {
          "color": "#FFA15A",
          "pattern": {
           "shape": ""
          }
         },
         "name": "Radiozoa incertae",
         "offsetgroup": "Radiozoa incertae",
         "orientation": "h",
         "showlegend": true,
         "type": "histogram",
         "x": [
          0.0583260425780111
         ],
         "xaxis": "x",
         "y": [
          "51_11"
         ],
         "yaxis": "y"
        },
        {
         "alignmentgroup": "True",
         "bingroup": "y",
         "histfunc": "sum",
         "hovertemplate": "Taxon=Rhizosolenia<br>sum of density_cell_l_sum=%{x}<br>Comments=%{y}<extra></extra>",
         "legendgroup": "Rhizosolenia",
         "marker": {
          "color": "#19d3f3",
          "pattern": {
           "shape": ""
          }
         },
         "name": "Rhizosolenia",
         "offsetgroup": "Rhizosolenia",
         "orientation": "h",
         "showlegend": true,
         "type": "histogram",
         "x": [
          45.7959186549194,
          1.04646430716957,
          0.618430928292934,
          5.57203338361341,
          0.331827347678485,
          1.58966716343766,
          4.38555273627165,
          10.833216778771,
          5.6334967018398,
          68.7195339436452,
          37.4175062898142,
          20.219739186551,
          0.053376888874655,
          7.24155885769215,
          11.2248558262741,
          17.8440944534028,
          0.552800400382183
         ],
         "xaxis": "x",
         "y": [
          "51_1",
          "51_10",
          "51_11",
          "51_12",
          "51_13",
          "51_15",
          "51_16",
          "51_17",
          "51_19",
          "51_2",
          "51_3",
          "51_4",
          "51_5",
          "51_6",
          "51_7",
          "51_8",
          "51_9"
         ],
         "yaxis": "y"
        },
        {
         "alignmentgroup": "True",
         "bingroup": "y",
         "histfunc": "sum",
         "hovertemplate": "Taxon=Rhizosolenia setigera (f. pungens)/R. hebetata f. semispina<br>sum of density_cell_l_sum=%{x}<br>Comments=%{y}<extra></extra>",
         "legendgroup": "Rhizosolenia setigera (f. pungens)/R. hebetata f. semispina",
         "marker": {
          "color": "#FF6692",
          "pattern": {
           "shape": ""
          }
         },
         "name": "Rhizosolenia setigera (f. pungens)/R. hebetata f. semispina",
         "offsetgroup": "Rhizosolenia setigera (f. pungens)/R. hebetata f. semispina",
         "orientation": "h",
         "showlegend": true,
         "type": "histogram",
         "x": [
          6.41130923106836,
          0.89653433446334,
          0.114792590660057,
          1.92138954892178,
          0.331827347678485,
          4.96318389411874,
          5.23060007792527,
          14.8584603560907,
          1.28976251007627,
          6.6496775766171,
          2.13277695673592,
          0.053376888874655,
          1.80933166810773,
          2.83507065434973,
          0.247722756947849
         ],
         "xaxis": "x",
         "y": [
          "51_1",
          "51_10",
          "51_11",
          "51_12",
          "51_13",
          "51_17",
          "51_18",
          "51_2",
          "51_20",
          "51_3",
          "51_4",
          "51_5",
          "51_7",
          "51_8",
          "51_9"
         ],
         "yaxis": "y"
        },
        {
         "alignmentgroup": "True",
         "bingroup": "y",
         "histfunc": "sum",
         "hovertemplate": "Taxon=Stellarima stellaris/Podosira/Hyalodiscus<br>sum of density_cell_l_sum=%{x}<br>Comments=%{y}<extra></extra>",
         "legendgroup": "Stellarima stellaris/Podosira/Hyalodiscus",
         "marker": {
          "color": "#B6E880",
          "pattern": {
           "shape": ""
          }
         },
         "name": "Stellarima stellaris/Podosira/Hyalodiscus",
         "offsetgroup": "Stellarima stellaris/Podosira/Hyalodiscus",
         "orientation": "h",
         "showlegend": true,
         "type": "histogram",
         "x": [
          1.83157220621198,
          1.67156245628759,
          0.0669157419282886
         ],
         "xaxis": "x",
         "y": [
          "51_1",
          "51_8",
          "51_9"
         ],
         "yaxis": "y"
        },
        {
         "alignmentgroup": "True",
         "bingroup": "y",
         "histfunc": "sum",
         "hovertemplate": "Taxon=Synedra/Thalassionema<br>sum of density_cell_l_sum=%{x}<br>Comments=%{y}<extra></extra>",
         "legendgroup": "Synedra/Thalassionema",
         "marker": {
          "color": "#FF97FF",
          "pattern": {
           "shape": ""
          }
         },
         "name": "Synedra/Thalassionema",
         "offsetgroup": "Synedra/Thalassionema",
         "orientation": "h",
         "showlegend": true,
         "type": "histogram",
         "x": [
          21.9817699263832,
          0.474116217737873,
          1.04657058014051,
          1.15284849649342,
          15.1225463699402,
          7.32888365397199,
          5.23060007792527,
          4.97774705094413,
          27.6645706092866,
          3.66534176570791,
          1.71520457387886,
          7.80140347829324,
          3.32944629860469,
          3.79678785027888,
          1.67156245628759,
          0.0669157419282886
         ],
         "xaxis": "x",
         "y": [
          "51_1",
          "51_10",
          "51_11",
          "51_12",
          "51_15",
          "51_16",
          "51_18",
          "51_19",
          "51_2",
          "51_20",
          "51_21",
          "51_3",
          "51_4",
          "51_7",
          "51_8",
          "51_9"
         ],
         "yaxis": "y"
        },
        {
         "alignmentgroup": "True",
         "bingroup": "y",
         "histfunc": "sum",
         "hovertemplate": "Taxon=Triceratium favus<br>sum of density_cell_l_sum=%{x}<br>Comments=%{y}<extra></extra>",
         "legendgroup": "Triceratium favus",
         "marker": {
          "color": "#FECB52",
          "pattern": {
           "shape": ""
          }
         },
         "name": "Triceratium favus",
         "offsetgroup": "Triceratium favus",
         "orientation": "h",
         "showlegend": true,
         "type": "histogram",
         "x": [
          1.83173350198945,
          0.0573962953300287,
          10.4598602861519,
          1.46831725779094,
          3.72296524635808,
          1.71520457387886,
          1.1911623439001,
          2.13277695673592,
          1.75670423630004,
          1.67156245628759
         ],
         "xaxis": "x",
         "y": [
          "51_1",
          "51_11",
          "51_18",
          "51_2",
          "51_20",
          "51_21",
          "51_3",
          "51_4",
          "51_6",
          "51_8"
         ],
         "yaxis": "y"
        },
        {
         "alignmentgroup": "True",
         "bingroup": "y",
         "histfunc": "sum",
         "hovertemplate": "Taxon=Trieres mobiliensis/T. regia<br>sum of density_cell_l_sum=%{x}<br>Comments=%{y}<extra></extra>",
         "legendgroup": "Trieres mobiliensis/T. regia",
         "marker": {
          "color": "#636efa",
          "pattern": {
           "shape": ""
          }
         },
         "name": "Trieres mobiliensis/T. regia",
         "offsetgroup": "Trieres mobiliensis/T. regia",
         "orientation": "h",
         "showlegend": true,
         "type": "histogram",
         "x": [
          1.83189482617816,
          0.186065743229274,
          0.789793438639125,
          4.58146255191254,
          5.80407114132913,
          1.67252243096489,
          0.928609167613955,
          0.615588283964918,
          2.21963086573646,
          0.123861378473925
         ],
         "xaxis": "x",
         "y": [
          "51_1",
          "51_11",
          "51_13",
          "51_15",
          "51_16",
          "51_19",
          "51_2",
          "51_3",
          "51_4",
          "51_9"
         ],
         "yaxis": "y"
        },
        {
         "alignmentgroup": "True",
         "bingroup": "y",
         "histfunc": "sum",
         "hovertemplate": "Taxon=Trieres sinensis<br>sum of density_cell_l_sum=%{x}<br>Comments=%{y}<extra></extra>",
         "legendgroup": "Trieres sinensis",
         "marker": {
          "color": "#EF553B",
          "pattern": {
           "shape": ""
          }
         },
         "name": "Trieres sinensis",
         "offsetgroup": "Trieres sinensis",
         "orientation": "h",
         "showlegend": true,
         "type": "histogram",
         "x": [
          5.49536182068553,
          1.42086100229903,
          2.44266718057429,
          1.92137109041012,
          1.18469015795869,
          25.3440548624246,
          47.3762131929594,
          24.5890284447728,
          83.6855813159131,
          74.5572980649955,
          20.4523856120993,
          29.7363372143529,
          37.1721467518193,
          16.3766803145041,
          16.6549004031959,
          0.426976651715812,
          27.8866982916998,
          59.5989925694035,
          50.0492018633691,
          1.37540137540138
         ],
         "xaxis": "x",
         "y": [
          "51_1",
          "51_10",
          "51_11",
          "51_12",
          "51_13",
          "51_15",
          "51_16",
          "51_17",
          "51_18",
          "51_19",
          "51_2",
          "51_20",
          "51_21",
          "51_3",
          "51_4",
          "51_5",
          "51_6",
          "51_7",
          "51_8",
          "51_9"
         ],
         "yaxis": "y"
        },
        {
         "alignmentgroup": "True",
         "bingroup": "y",
         "histfunc": "sum",
         "hovertemplate": "Taxon=Veliger larvae D-shaped<br>sum of density_cell_l_sum=%{x}<br>Comments=%{y}<extra></extra>",
         "legendgroup": "Veliger larvae D-shaped",
         "marker": {
          "color": "#00cc96",
          "pattern": {
           "shape": ""
          }
         },
         "name": "Veliger larvae D-shaped",
         "offsetgroup": "Veliger larvae D-shaped",
         "orientation": "h",
         "showlegend": true,
         "type": "histogram",
         "x": [
          0.403653060194763,
          9.99214902576547,
          5.22993014307595,
          2.4589921678735,
          3.49520569130838,
          4.00386213249949
         ],
         "xaxis": "x",
         "y": [
          "51_10",
          "51_16",
          "51_18",
          "51_20",
          "51_6",
          "51_7"
         ],
         "yaxis": "y"
        },
        {
         "alignmentgroup": "True",
         "bingroup": "y",
         "histfunc": "sum",
         "hovertemplate": "Taxon=Zygoceros<br>sum of density_cell_l_sum=%{x}<br>Comments=%{y}<extra></extra>",
         "legendgroup": "Zygoceros",
         "marker": {
          "color": "#ab63fa",
          "pattern": {
           "shape": ""
          }
         },
         "name": "Zygoceros",
         "offsetgroup": "Zygoceros",
         "orientation": "h",
         "showlegend": true,
         "type": "histogram",
         "x": [
          34.8045497123878,
          4.81792135644697,
          4.17953046620314,
          2.49777688004513,
          3.26711200330124,
          21.4612944266377,
          130.86068944889,
          45.5322787516033,
          203.986703052493,
          140.540417142941,
          59.4491953590748,
          152.24101299536,
          104.903466298033,
          33.6664213670404,
          72.7656499223865,
          1.33431453486969,
          173.644613232061,
          211.645099415688,
          103.320099553502,
          2.00881026648015
         ],
         "xaxis": "x",
         "y": [
          "51_1",
          "51_10",
          "51_11",
          "51_12",
          "51_13",
          "51_15",
          "51_16",
          "51_17",
          "51_18",
          "51_19",
          "51_2",
          "51_20",
          "51_21",
          "51_3",
          "51_4",
          "51_5",
          "51_6",
          "51_7",
          "51_8",
          "51_9"
         ],
         "yaxis": "y"
        }
       ],
       "layout": {
        "autosize": false,
        "barmode": "relative",
        "font": {
         "family": "Arial",
         "size": 10
        },
        "height": 900,
        "legend": {
         "title": {
          "text": "Taxon"
         },
         "tracegroupgap": 0
        },
        "margin": {
         "t": 60
        },
        "template": {
         "data": {
          "bar": [
           {
            "error_x": {
             "color": "#2a3f5f"
            },
            "error_y": {
             "color": "#2a3f5f"
            },
            "marker": {
             "line": {
              "color": "#E5ECF6",
              "width": 0.5
             },
             "pattern": {
              "fillmode": "overlay",
              "size": 10,
              "solidity": 0.2
             }
            },
            "type": "bar"
           }
          ],
          "barpolar": [
           {
            "marker": {
             "line": {
              "color": "#E5ECF6",
              "width": 0.5
             },
             "pattern": {
              "fillmode": "overlay",
              "size": 10,
              "solidity": 0.2
             }
            },
            "type": "barpolar"
           }
          ],
          "carpet": [
           {
            "aaxis": {
             "endlinecolor": "#2a3f5f",
             "gridcolor": "white",
             "linecolor": "white",
             "minorgridcolor": "white",
             "startlinecolor": "#2a3f5f"
            },
            "baxis": {
             "endlinecolor": "#2a3f5f",
             "gridcolor": "white",
             "linecolor": "white",
             "minorgridcolor": "white",
             "startlinecolor": "#2a3f5f"
            },
            "type": "carpet"
           }
          ],
          "choropleth": [
           {
            "colorbar": {
             "outlinewidth": 0,
             "ticks": ""
            },
            "type": "choropleth"
           }
          ],
          "contour": [
           {
            "colorbar": {
             "outlinewidth": 0,
             "ticks": ""
            },
            "colorscale": [
             [
              0,
              "#0d0887"
             ],
             [
              0.1111111111111111,
              "#46039f"
             ],
             [
              0.2222222222222222,
              "#7201a8"
             ],
             [
              0.3333333333333333,
              "#9c179e"
             ],
             [
              0.4444444444444444,
              "#bd3786"
             ],
             [
              0.5555555555555556,
              "#d8576b"
             ],
             [
              0.6666666666666666,
              "#ed7953"
             ],
             [
              0.7777777777777778,
              "#fb9f3a"
             ],
             [
              0.8888888888888888,
              "#fdca26"
             ],
             [
              1,
              "#f0f921"
             ]
            ],
            "type": "contour"
           }
          ],
          "contourcarpet": [
           {
            "colorbar": {
             "outlinewidth": 0,
             "ticks": ""
            },
            "type": "contourcarpet"
           }
          ],
          "heatmap": [
           {
            "colorbar": {
             "outlinewidth": 0,
             "ticks": ""
            },
            "colorscale": [
             [
              0,
              "#0d0887"
             ],
             [
              0.1111111111111111,
              "#46039f"
             ],
             [
              0.2222222222222222,
              "#7201a8"
             ],
             [
              0.3333333333333333,
              "#9c179e"
             ],
             [
              0.4444444444444444,
              "#bd3786"
             ],
             [
              0.5555555555555556,
              "#d8576b"
             ],
             [
              0.6666666666666666,
              "#ed7953"
             ],
             [
              0.7777777777777778,
              "#fb9f3a"
             ],
             [
              0.8888888888888888,
              "#fdca26"
             ],
             [
              1,
              "#f0f921"
             ]
            ],
            "type": "heatmap"
           }
          ],
          "heatmapgl": [
           {
            "colorbar": {
             "outlinewidth": 0,
             "ticks": ""
            },
            "colorscale": [
             [
              0,
              "#0d0887"
             ],
             [
              0.1111111111111111,
              "#46039f"
             ],
             [
              0.2222222222222222,
              "#7201a8"
             ],
             [
              0.3333333333333333,
              "#9c179e"
             ],
             [
              0.4444444444444444,
              "#bd3786"
             ],
             [
              0.5555555555555556,
              "#d8576b"
             ],
             [
              0.6666666666666666,
              "#ed7953"
             ],
             [
              0.7777777777777778,
              "#fb9f3a"
             ],
             [
              0.8888888888888888,
              "#fdca26"
             ],
             [
              1,
              "#f0f921"
             ]
            ],
            "type": "heatmapgl"
           }
          ],
          "histogram": [
           {
            "marker": {
             "pattern": {
              "fillmode": "overlay",
              "size": 10,
              "solidity": 0.2
             }
            },
            "type": "histogram"
           }
          ],
          "histogram2d": [
           {
            "colorbar": {
             "outlinewidth": 0,
             "ticks": ""
            },
            "colorscale": [
             [
              0,
              "#0d0887"
             ],
             [
              0.1111111111111111,
              "#46039f"
             ],
             [
              0.2222222222222222,
              "#7201a8"
             ],
             [
              0.3333333333333333,
              "#9c179e"
             ],
             [
              0.4444444444444444,
              "#bd3786"
             ],
             [
              0.5555555555555556,
              "#d8576b"
             ],
             [
              0.6666666666666666,
              "#ed7953"
             ],
             [
              0.7777777777777778,
              "#fb9f3a"
             ],
             [
              0.8888888888888888,
              "#fdca26"
             ],
             [
              1,
              "#f0f921"
             ]
            ],
            "type": "histogram2d"
           }
          ],
          "histogram2dcontour": [
           {
            "colorbar": {
             "outlinewidth": 0,
             "ticks": ""
            },
            "colorscale": [
             [
              0,
              "#0d0887"
             ],
             [
              0.1111111111111111,
              "#46039f"
             ],
             [
              0.2222222222222222,
              "#7201a8"
             ],
             [
              0.3333333333333333,
              "#9c179e"
             ],
             [
              0.4444444444444444,
              "#bd3786"
             ],
             [
              0.5555555555555556,
              "#d8576b"
             ],
             [
              0.6666666666666666,
              "#ed7953"
             ],
             [
              0.7777777777777778,
              "#fb9f3a"
             ],
             [
              0.8888888888888888,
              "#fdca26"
             ],
             [
              1,
              "#f0f921"
             ]
            ],
            "type": "histogram2dcontour"
           }
          ],
          "mesh3d": [
           {
            "colorbar": {
             "outlinewidth": 0,
             "ticks": ""
            },
            "type": "mesh3d"
           }
          ],
          "parcoords": [
           {
            "line": {
             "colorbar": {
              "outlinewidth": 0,
              "ticks": ""
             }
            },
            "type": "parcoords"
           }
          ],
          "pie": [
           {
            "automargin": true,
            "type": "pie"
           }
          ],
          "scatter": [
           {
            "fillpattern": {
             "fillmode": "overlay",
             "size": 10,
             "solidity": 0.2
            },
            "type": "scatter"
           }
          ],
          "scatter3d": [
           {
            "line": {
             "colorbar": {
              "outlinewidth": 0,
              "ticks": ""
             }
            },
            "marker": {
             "colorbar": {
              "outlinewidth": 0,
              "ticks": ""
             }
            },
            "type": "scatter3d"
           }
          ],
          "scattercarpet": [
           {
            "marker": {
             "colorbar": {
              "outlinewidth": 0,
              "ticks": ""
             }
            },
            "type": "scattercarpet"
           }
          ],
          "scattergeo": [
           {
            "marker": {
             "colorbar": {
              "outlinewidth": 0,
              "ticks": ""
             }
            },
            "type": "scattergeo"
           }
          ],
          "scattergl": [
           {
            "marker": {
             "colorbar": {
              "outlinewidth": 0,
              "ticks": ""
             }
            },
            "type": "scattergl"
           }
          ],
          "scattermapbox": [
           {
            "marker": {
             "colorbar": {
              "outlinewidth": 0,
              "ticks": ""
             }
            },
            "type": "scattermapbox"
           }
          ],
          "scatterpolar": [
           {
            "marker": {
             "colorbar": {
              "outlinewidth": 0,
              "ticks": ""
             }
            },
            "type": "scatterpolar"
           }
          ],
          "scatterpolargl": [
           {
            "marker": {
             "colorbar": {
              "outlinewidth": 0,
              "ticks": ""
             }
            },
            "type": "scatterpolargl"
           }
          ],
          "scatterternary": [
           {
            "marker": {
             "colorbar": {
              "outlinewidth": 0,
              "ticks": ""
             }
            },
            "type": "scatterternary"
           }
          ],
          "surface": [
           {
            "colorbar": {
             "outlinewidth": 0,
             "ticks": ""
            },
            "colorscale": [
             [
              0,
              "#0d0887"
             ],
             [
              0.1111111111111111,
              "#46039f"
             ],
             [
              0.2222222222222222,
              "#7201a8"
             ],
             [
              0.3333333333333333,
              "#9c179e"
             ],
             [
              0.4444444444444444,
              "#bd3786"
             ],
             [
              0.5555555555555556,
              "#d8576b"
             ],
             [
              0.6666666666666666,
              "#ed7953"
             ],
             [
              0.7777777777777778,
              "#fb9f3a"
             ],
             [
              0.8888888888888888,
              "#fdca26"
             ],
             [
              1,
              "#f0f921"
             ]
            ],
            "type": "surface"
           }
          ],
          "table": [
           {
            "cells": {
             "fill": {
              "color": "#EBF0F8"
             },
             "line": {
              "color": "white"
             }
            },
            "header": {
             "fill": {
              "color": "#C8D4E3"
             },
             "line": {
              "color": "white"
             }
            },
            "type": "table"
           }
          ]
         },
         "layout": {
          "annotationdefaults": {
           "arrowcolor": "#2a3f5f",
           "arrowhead": 0,
           "arrowwidth": 1
          },
          "autotypenumbers": "strict",
          "coloraxis": {
           "colorbar": {
            "outlinewidth": 0,
            "ticks": ""
           }
          },
          "colorscale": {
           "diverging": [
            [
             0,
             "#8e0152"
            ],
            [
             0.1,
             "#c51b7d"
            ],
            [
             0.2,
             "#de77ae"
            ],
            [
             0.3,
             "#f1b6da"
            ],
            [
             0.4,
             "#fde0ef"
            ],
            [
             0.5,
             "#f7f7f7"
            ],
            [
             0.6,
             "#e6f5d0"
            ],
            [
             0.7,
             "#b8e186"
            ],
            [
             0.8,
             "#7fbc41"
            ],
            [
             0.9,
             "#4d9221"
            ],
            [
             1,
             "#276419"
            ]
           ],
           "sequential": [
            [
             0,
             "#0d0887"
            ],
            [
             0.1111111111111111,
             "#46039f"
            ],
            [
             0.2222222222222222,
             "#7201a8"
            ],
            [
             0.3333333333333333,
             "#9c179e"
            ],
            [
             0.4444444444444444,
             "#bd3786"
            ],
            [
             0.5555555555555556,
             "#d8576b"
            ],
            [
             0.6666666666666666,
             "#ed7953"
            ],
            [
             0.7777777777777778,
             "#fb9f3a"
            ],
            [
             0.8888888888888888,
             "#fdca26"
            ],
            [
             1,
             "#f0f921"
            ]
           ],
           "sequentialminus": [
            [
             0,
             "#0d0887"
            ],
            [
             0.1111111111111111,
             "#46039f"
            ],
            [
             0.2222222222222222,
             "#7201a8"
            ],
            [
             0.3333333333333333,
             "#9c179e"
            ],
            [
             0.4444444444444444,
             "#bd3786"
            ],
            [
             0.5555555555555556,
             "#d8576b"
            ],
            [
             0.6666666666666666,
             "#ed7953"
            ],
            [
             0.7777777777777778,
             "#fb9f3a"
            ],
            [
             0.8888888888888888,
             "#fdca26"
            ],
            [
             1,
             "#f0f921"
            ]
           ]
          },
          "colorway": [
           "#636efa",
           "#EF553B",
           "#00cc96",
           "#ab63fa",
           "#FFA15A",
           "#19d3f3",
           "#FF6692",
           "#B6E880",
           "#FF97FF",
           "#FECB52"
          ],
          "font": {
           "color": "#2a3f5f"
          },
          "geo": {
           "bgcolor": "white",
           "lakecolor": "white",
           "landcolor": "#E5ECF6",
           "showlakes": true,
           "showland": true,
           "subunitcolor": "white"
          },
          "hoverlabel": {
           "align": "left"
          },
          "hovermode": "closest",
          "mapbox": {
           "style": "light"
          },
          "paper_bgcolor": "white",
          "plot_bgcolor": "#E5ECF6",
          "polar": {
           "angularaxis": {
            "gridcolor": "white",
            "linecolor": "white",
            "ticks": ""
           },
           "bgcolor": "#E5ECF6",
           "radialaxis": {
            "gridcolor": "white",
            "linecolor": "white",
            "ticks": ""
           }
          },
          "scene": {
           "xaxis": {
            "backgroundcolor": "#E5ECF6",
            "gridcolor": "white",
            "gridwidth": 2,
            "linecolor": "white",
            "showbackground": true,
            "ticks": "",
            "zerolinecolor": "white"
           },
           "yaxis": {
            "backgroundcolor": "#E5ECF6",
            "gridcolor": "white",
            "gridwidth": 2,
            "linecolor": "white",
            "showbackground": true,
            "ticks": "",
            "zerolinecolor": "white"
           },
           "zaxis": {
            "backgroundcolor": "#E5ECF6",
            "gridcolor": "white",
            "gridwidth": 2,
            "linecolor": "white",
            "showbackground": true,
            "ticks": "",
            "zerolinecolor": "white"
           }
          },
          "shapedefaults": {
           "line": {
            "color": "#2a3f5f"
           }
          },
          "ternary": {
           "aaxis": {
            "gridcolor": "white",
            "linecolor": "white",
            "ticks": ""
           },
           "baxis": {
            "gridcolor": "white",
            "linecolor": "white",
            "ticks": ""
           },
           "bgcolor": "#E5ECF6",
           "caxis": {
            "gridcolor": "white",
            "linecolor": "white",
            "ticks": ""
           }
          },
          "title": {
           "x": 0.05
          },
          "xaxis": {
           "automargin": true,
           "gridcolor": "white",
           "linecolor": "white",
           "ticks": "",
           "title": {
            "standoff": 15
           },
           "zerolinecolor": "white",
           "zerolinewidth": 2
          },
          "yaxis": {
           "automargin": true,
           "gridcolor": "white",
           "linecolor": "white",
           "ticks": "",
           "title": {
            "standoff": 15
           },
           "zerolinecolor": "white",
           "zerolinewidth": 2
          }
         }
        },
        "title": {},
        "width": 900,
        "xaxis": {
         "anchor": "y",
         "domain": [
          0,
          1
         ],
         "title": {
          "text": "cell density per L per month"
         }
        },
        "yaxis": {
         "anchor": "x",
         "categoryarray": [
          "51_21",
          "51_20",
          "51_19",
          "51_18",
          "51_17",
          "51_16",
          "51_15",
          "51_13",
          "51_12",
          "51_11",
          "51_10",
          "51_9",
          "51_8",
          "51_7",
          "51_6",
          "51_5",
          "51_4",
          "51_3",
          "51_2",
          "51_1"
         ],
         "categoryorder": "array",
         "domain": [
          0,
          1
         ],
         "title": {
          "text": "Month"
         }
        }
       }
      }
     },
     "metadata": {},
     "output_type": "display_data"
    },
    {
     "data": {
      "application/vnd.plotly.v1+json": {
       "config": {
        "plotlyServerURL": "https://plot.ly"
       },
       "data": [
        {
         "alignmentgroup": "True",
         "bingroup": "y",
         "histfunc": "sum",
         "hovertemplate": "Taxon=(Pseudo-)pediastrum<br>sum of density_cell_l_sum=%{x}<br>Comments=%{y}<extra></extra>",
         "legendgroup": "(Pseudo-)pediastrum",
         "marker": {
          "color": "#636efa",
          "pattern": {
           "shape": ""
          }
         },
         "name": "(Pseudo-)pediastrum",
         "offsetgroup": "(Pseudo-)pediastrum",
         "orientation": "h",
         "showlegend": true,
         "type": "histogram",
         "x": [
          3.95790475866642
         ],
         "xaxis": "x",
         "y": [
          "130_22"
         ],
         "yaxis": "y"
        },
        {
         "alignmentgroup": "True",
         "bingroup": "y",
         "histfunc": "sum",
         "hovertemplate": "Taxon=Actinoptychus<br>sum of density_cell_l_sum=%{x}<br>Comments=%{y}<extra></extra>",
         "legendgroup": "Actinoptychus",
         "marker": {
          "color": "#EF553B",
          "pattern": {
           "shape": ""
          }
         },
         "name": "Actinoptychus",
         "offsetgroup": "Actinoptychus",
         "orientation": "h",
         "showlegend": true,
         "type": "histogram",
         "x": [
          24.7895503824658,
          20.4100981718827,
          90.5381221265698,
          121.367983143336,
          33.4343313934352,
          37.1385993842934,
          16.2658896609138,
          19.0441152601794,
          21.5165082634705,
          24.223568835953,
          117.688818773417,
          1230.40045997731,
          56.4395357543991,
          24.7351793346962,
          32.3113156399502,
          122.973656736971,
          90.8871980119386,
          64.2136611287844,
          221.613745176218,
          98.9955314517053,
          76.0968632393279,
          219.647251845775,
          53.9081323350346,
          5.12043424177315
         ],
         "xaxis": "x",
         "y": [
          "130_1",
          "130_10",
          "130_11",
          "130_12",
          "130_13",
          "130_14",
          "130_15",
          "130_16",
          "130_17",
          "130_18",
          "130_19",
          "130_2",
          "130_20",
          "130_21",
          "130_22",
          "130_23",
          "130_24",
          "130_25",
          "130_3",
          "130_4",
          "130_5",
          "130_6",
          "130_7",
          "130_8"
         ],
         "yaxis": "y"
        },
        {
         "alignmentgroup": "True",
         "bingroup": "y",
         "histfunc": "sum",
         "hovertemplate": "Taxon=Actinoptychus senarius<br>sum of density_cell_l_sum=%{x}<br>Comments=%{y}<extra></extra>",
         "legendgroup": "Actinoptychus senarius",
         "marker": {
          "color": "#00cc96",
          "pattern": {
           "shape": ""
          }
         },
         "name": "Actinoptychus senarius",
         "offsetgroup": "Actinoptychus senarius",
         "orientation": "h",
         "showlegend": true,
         "type": "histogram",
         "x": [
          2.26303513575542,
          8.13274952572302,
          7.17190151442385,
          2.12675971240408,
          8.60628465804067,
          6.51571330861442,
          19.1229876958101,
          9.7033391720188,
          10.7429203365062
         ],
         "xaxis": "x",
         "y": [
          "130_14",
          "130_15",
          "130_17",
          "130_21",
          "130_22",
          "130_24",
          "130_25",
          "130_5",
          "130_6"
         ],
         "yaxis": "y"
        },
        {
         "alignmentgroup": "True",
         "bingroup": "y",
         "histfunc": "sum",
         "hovertemplate": "Taxon=Actinoptychus splendens<br>sum of density_cell_l_sum=%{x}<br>Comments=%{y}<extra></extra>",
         "legendgroup": "Actinoptychus splendens",
         "marker": {
          "color": "#ab63fa",
          "pattern": {
           "shape": ""
          }
         },
         "name": "Actinoptychus splendens",
         "offsetgroup": "Actinoptychus splendens",
         "orientation": "h",
         "showlegend": true,
         "type": "histogram",
         "x": [
          7.36684917869587,
          7.64020163831128,
          11.1441426535655,
          4.52581663504466,
          8.13242403867704,
          5.10588917899623,
          49.7291892342305,
          4.46424325052712,
          7.22742428174976,
          6.34252892160828,
          221.620842607568,
          22.8375677990294,
          13.1188211855806,
          2.89202074710536
         ],
         "xaxis": "x",
         "y": [
          "130_10",
          "130_11",
          "130_13",
          "130_14",
          "130_15",
          "130_16",
          "130_19",
          "130_21",
          "130_24",
          "130_25",
          "130_3",
          "130_4",
          "130_5",
          "130_7"
         ],
         "yaxis": "y"
        },
        {
         "alignmentgroup": "True",
         "bingroup": "y",
         "histfunc": "sum",
         "hovertemplate": "Taxon=Appendicularia<br>sum of density_cell_l_sum=%{x}<br>Comments=%{y}<extra></extra>",
         "legendgroup": "Appendicularia",
         "marker": {
          "color": "#FFA15A",
          "pattern": {
           "shape": ""
          }
         },
         "name": "Appendicularia",
         "offsetgroup": "Appendicularia",
         "orientation": "h",
         "showlegend": true,
         "type": "histogram",
         "x": [
          5.76623623889082,
          11.4346666666667,
          110.810421303784,
          19.3360346911211,
          6.80151966320977,
          5.12043424177315
         ],
         "xaxis": "x",
         "y": [
          "130_14",
          "130_20",
          "130_3",
          "130_6",
          "130_7",
          "130_8"
         ],
         "yaxis": "y"
        },
        {
         "alignmentgroup": "True",
         "bingroup": "y",
         "histfunc": "sum",
         "hovertemplate": "Taxon=Asterionella<br>sum of density_cell_l_sum=%{x}<br>Comments=%{y}<extra></extra>",
         "legendgroup": "Asterionella",
         "marker": {
          "color": "#19d3f3",
          "pattern": {
           "shape": ""
          }
         },
         "name": "Asterionella",
         "offsetgroup": "Asterionella",
         "orientation": "h",
         "showlegend": true,
         "type": "histogram",
         "x": [
          17.3782270866405,
          2.55294458949811,
          14.3454105893466,
          133.484098189187,
          20.4947562244816,
          515.031756761279,
          105.743998444941,
          16.3334871995171
         ],
         "xaxis": "x",
         "y": [
          "130_12",
          "130_16",
          "130_17",
          "130_24",
          "130_4",
          "130_5",
          "130_6",
          "130_7"
         ],
         "yaxis": "y"
        },
        {
         "alignmentgroup": "True",
         "bingroup": "y",
         "histfunc": "sum",
         "hovertemplate": "Taxon=Aulacodiscus argus<br>sum of density_cell_l_sum=%{x}<br>Comments=%{y}<extra></extra>",
         "legendgroup": "Aulacodiscus argus",
         "marker": {
          "color": "#FF6692",
          "pattern": {
           "shape": ""
          }
         },
         "name": "Aulacodiscus argus",
         "offsetgroup": "Aulacodiscus argus",
         "orientation": "h",
         "showlegend": true,
         "type": "histogram",
         "x": [
          6.94668242202886,
          5.76623623889082,
          1.7730615534437,
          9.64854481910905,
          1.91715911876038,
          6.34252892160828,
          15.6549628250704,
          10.7429203365062,
          7.15103098348267
         ],
         "xaxis": "x",
         "y": [
          "130_11",
          "130_14",
          "130_16",
          "130_18",
          "130_21",
          "130_25",
          "130_5",
          "130_6",
          "130_7"
         ],
         "yaxis": "y"
        },
        {
         "alignmentgroup": "True",
         "bingroup": "y",
         "histfunc": "sum",
         "hovertemplate": "Taxon=Bacillaria paxillifer<br>sum of density_cell_l_sum=%{x}<br>Comments=%{y}<extra></extra>",
         "legendgroup": "Bacillaria paxillifer",
         "marker": {
          "color": "#B6E880",
          "pattern": {
           "shape": ""
          }
         },
         "name": "Bacillaria paxillifer",
         "offsetgroup": "Bacillaria paxillifer",
         "orientation": "h",
         "showlegend": true,
         "type": "histogram",
         "x": [
          7.17190151442385,
          8.69776876267749,
          110.810421303784,
          6.84756803421822
         ],
         "xaxis": "x",
         "y": [
          "130_17",
          "130_20",
          "130_3",
          "130_5"
         ],
         "yaxis": "y"
        },
        {
         "alignmentgroup": "True",
         "bingroup": "y",
         "histfunc": "sum",
         "hovertemplate": "Taxon=Bacillariophyceae<br>sum of density_cell_l_sum=%{x}<br>Comments=%{y}<extra></extra>",
         "legendgroup": "Bacillariophyceae",
         "marker": {
          "color": "#FF97FF",
          "pattern": {
           "shape": ""
          }
         },
         "name": "Bacillariophyceae",
         "offsetgroup": "Bacillariophyceae",
         "orientation": "h",
         "showlegend": true,
         "type": "histogram",
         "x": [
          107.416445048292,
          119.017316261867,
          84.7752052207138,
          94.3630193746635,
          130.01872507536,
          112.002679924361,
          36.5990329914293,
          88.7357982166171,
          78.8973467041204,
          90.633531929965,
          529.93366687822,
          1024.10733376096,
          261.467661085531,
          89.8540755065673,
          205.241407372557,
          86.0767948105061,
          149.975721692276,
          229.956772660405,
          775.644559530972,
          142.19249361409,
          187.275306385049,
          234.87223220323,
          126.269816323492,
          171.655655547984
         ],
         "xaxis": "x",
         "y": [
          "130_1",
          "130_10",
          "130_11",
          "130_12",
          "130_13",
          "130_14",
          "130_15",
          "130_16",
          "130_17",
          "130_18",
          "130_19",
          "130_2",
          "130_20",
          "130_21",
          "130_22",
          "130_23",
          "130_24",
          "130_25",
          "130_3",
          "130_4",
          "130_5",
          "130_6",
          "130_7",
          "130_8"
         ],
         "yaxis": "y"
        },
        {
         "alignmentgroup": "True",
         "bingroup": "y",
         "histfunc": "sum",
         "hovertemplate": "Taxon=Bellerochea<br>sum of density_cell_l_sum=%{x}<br>Comments=%{y}<extra></extra>",
         "legendgroup": "Bellerochea",
         "marker": {
          "color": "#FECB52",
          "pattern": {
           "shape": ""
          }
         },
         "name": "Bellerochea",
         "offsetgroup": "Bellerochea",
         "orientation": "h",
         "showlegend": true,
         "type": "histogram",
         "x": [
          46.9533836971824,
          26.3921639760566,
          60.0609593069889,
          3.7146745656873,
          79.9349438666239,
          32.53243036627,
          4.77755994570955,
          84.083757361946,
          306.282520991632,
          1926.44487764903,
          67.5578694474526,
          50.7917803772669,
          112.703776157449,
          24.593707469378,
          70.419545016576,
          554.030814361247,
          37.6805210060807,
          39.985666902489,
          67.7582142091693,
          20.7593340783404
         ],
         "xaxis": "x",
         "y": [
          "130_10",
          "130_11",
          "130_12",
          "130_13",
          "130_14",
          "130_15",
          "130_16",
          "130_18",
          "130_19",
          "130_2",
          "130_20",
          "130_21",
          "130_22",
          "130_23",
          "130_25",
          "130_3",
          "130_5",
          "130_6",
          "130_7",
          "130_8"
         ],
         "yaxis": "y"
        },
        {
         "alignmentgroup": "True",
         "bingroup": "y",
         "histfunc": "sum",
         "hovertemplate": "Taxon=Bellerochea horologicalis<br>sum of density_cell_l_sum=%{x}<br>Comments=%{y}<extra></extra>",
         "legendgroup": "Bellerochea horologicalis",
         "marker": {
          "color": "#636efa",
          "pattern": {
           "shape": ""
          }
         },
         "name": "Bellerochea horologicalis",
         "offsetgroup": "Bellerochea horologicalis",
         "orientation": "h",
         "showlegend": true,
         "type": "histogram",
         "x": [
          82.6262331885239,
          16.496072616732,
          301.543153531427,
          178.312230544136,
          48.7996872635965,
          72.8385208832136,
          100.415462572346,
          61.6853698173719,
          8.58369098712446,
          61.4889944307624,
          132.877982517325,
          281.649223296539,
          30.7432829129261,
          527.456380716818,
          231.883241095302,
          32.1535916493861
         ],
         "xaxis": "x",
         "y": [
          "130_1",
          "130_11",
          "130_12",
          "130_13",
          "130_15",
          "130_16",
          "130_17",
          "130_18",
          "130_20",
          "130_23",
          "130_24",
          "130_25",
          "130_4",
          "130_5",
          "130_6",
          "130_7"
         ],
         "yaxis": "y"
        },
        {
         "alignmentgroup": "True",
         "bingroup": "y",
         "histfunc": "sum",
         "hovertemplate": "Taxon=Biddulphianae<br>sum of density_cell_l_sum=%{x}<br>Comments=%{y}<extra></extra>",
         "legendgroup": "Biddulphianae",
         "marker": {
          "color": "#EF553B",
          "pattern": {
           "shape": ""
          }
         },
         "name": "Biddulphianae",
         "offsetgroup": "Biddulphianae",
         "orientation": "h",
         "showlegend": true,
         "type": "histogram",
         "x": [
          99.1507918292403,
          79.9481858144887,
          169.144952951741,
          457.600317777998,
          263.750042849076,
          223.919544817212,
          93.5282145233726,
          91.1600023979378,
          121.927148076995,
          151.695434102938,
          513.312862270153,
          2664.6025833293,
          152.192503285843,
          138.450094187009,
          215.81589588365,
          209.056358524421,
          242.627345844504,
          518.082754264056,
          1883.69199411123,
          268.921687063396,
          360.969513768225,
          562.753030692188,
          265.539289519647,
          203.476404005387
         ],
         "xaxis": "x",
         "y": [
          "130_1",
          "130_10",
          "130_11",
          "130_12",
          "130_13",
          "130_14",
          "130_15",
          "130_16",
          "130_17",
          "130_18",
          "130_19",
          "130_2",
          "130_20",
          "130_21",
          "130_22",
          "130_23",
          "130_24",
          "130_25",
          "130_3",
          "130_4",
          "130_5",
          "130_6",
          "130_7",
          "130_8"
         ],
         "yaxis": "y"
        },
        {
         "alignmentgroup": "True",
         "bingroup": "y",
         "histfunc": "sum",
         "hovertemplate": "Taxon=Centric Diatom<br>sum of density_cell_l_sum=%{x}<br>Comments=%{y}<extra></extra>",
         "legendgroup": "Centric Diatom",
         "marker": {
          "color": "#00cc96",
          "pattern": {
           "shape": ""
          }
         },
         "name": "Centric Diatom",
         "offsetgroup": "Centric Diatom",
         "orientation": "h",
         "showlegend": true,
         "type": "histogram",
         "x": [
          99.1498656945254,
          133.184550592131,
          207.644484977742,
          441.850287417082,
          156.020019458279,
          149.07882145917,
          187.059228484747,
          136.751703053445,
          71.7214262958285,
          107.105317174497,
          420.228027219059,
          3029.85469327797,
          152.46950687644,
          106.40137831099,
          338.797602770876,
          381.209160201253,
          296.144742834653,
          616.342211707607,
          2326.96206749572,
          233.435422733653,
          342.064784304007,
          581.492151486602,
          184.571179029115,
          236.457750208034
         ],
         "xaxis": "x",
         "y": [
          "130_1",
          "130_10",
          "130_11",
          "130_12",
          "130_13",
          "130_14",
          "130_15",
          "130_16",
          "130_17",
          "130_18",
          "130_19",
          "130_2",
          "130_20",
          "130_21",
          "130_22",
          "130_23",
          "130_24",
          "130_25",
          "130_3",
          "130_4",
          "130_5",
          "130_6",
          "130_7",
          "130_8"
         ],
         "yaxis": "y"
        },
        {
         "alignmentgroup": "True",
         "bingroup": "y",
         "histfunc": "sum",
         "hovertemplate": "Taxon=Cerataulus granulata<br>sum of density_cell_l_sum=%{x}<br>Comments=%{y}<extra></extra>",
         "legendgroup": "Cerataulus granulata",
         "marker": {
          "color": "#ab63fa",
          "pattern": {
           "shape": ""
          }
         },
         "name": "Cerataulus granulata",
         "offsetgroup": "Cerataulus granulata",
         "orientation": "h",
         "showlegend": true,
         "type": "histogram",
         "x": [
          5.12043424177315
         ],
         "xaxis": "x",
         "y": [
          "130_8"
         ],
         "yaxis": "y"
        },
        {
         "alignmentgroup": "True",
         "bingroup": "y",
         "histfunc": "sum",
         "hovertemplate": "Taxon=Chaetoceros<br>sum of density_cell_l_sum=%{x}<br>Comments=%{y}<extra></extra>",
         "legendgroup": "Chaetoceros",
         "marker": {
          "color": "#FFA15A",
          "pattern": {
           "shape": ""
          }
         },
         "name": "Chaetoceros",
         "offsetgroup": "Chaetoceros",
         "orientation": "h",
         "showlegend": true,
         "type": "histogram",
         "x": [
          41.3125212167018,
          15.8488410832421,
          26.0034951918238,
          21.9399449584889,
          28.465567321547,
          6.89677693237109,
          14.3454105893466,
          34.7028593652419,
          125.188102327666,
          36.8750779338605,
          23.1020614055309,
          28.1759440393621,
          27.4125609352075,
          25.8343012958341,
          332.431263911352,
          43.206933362588,
          10.7429203365062,
          16.7420869375326,
          56.9063656944767
         ],
         "xaxis": "x",
         "y": [
          "130_1",
          "130_10",
          "130_13",
          "130_14",
          "130_15",
          "130_16",
          "130_17",
          "130_18",
          "130_2",
          "130_20",
          "130_21",
          "130_22",
          "130_24",
          "130_25",
          "130_3",
          "130_4",
          "130_6",
          "130_7",
          "130_8"
         ],
         "yaxis": "y"
        },
        {
         "alignmentgroup": "True",
         "bingroup": "y",
         "histfunc": "sum",
         "hovertemplate": "Taxon=Ciliophora<br>sum of density_cell_l_sum=%{x}<br>Comments=%{y}<extra></extra>",
         "legendgroup": "Ciliophora",
         "marker": {
          "color": "#19d3f3",
          "pattern": {
           "shape": ""
          }
         },
         "name": "Ciliophora",
         "offsetgroup": "Ciliophora",
         "orientation": "h",
         "showlegend": true,
         "type": "histogram",
         "x": [
          4.87756648979995,
          4.06653751941211,
          7.17190151442385,
          4.72459961659799,
          125.222181299941,
          37.0053937432578,
          8.25074530658287,
          7.91580951733284,
          22.8361417624863,
          3.24229074889868,
          4.08767558588813
         ],
         "xaxis": "x",
         "y": [
          "130_10",
          "130_15",
          "130_17",
          "130_18",
          "130_2",
          "130_20",
          "130_21",
          "130_22",
          "130_4",
          "130_7",
          "130_8"
         ],
         "yaxis": "y"
        },
        {
         "alignmentgroup": "True",
         "bingroup": "y",
         "histfunc": "sum",
         "hovertemplate": "Taxon=Ciliophora:part<br>sum of density_cell_l_sum=%{x}<br>Comments=%{y}<extra></extra>",
         "legendgroup": "Ciliophora:part",
         "marker": {
          "color": "#FF6692",
          "pattern": {
           "shape": ""
          }
         },
         "name": "Ciliophora:part",
         "offsetgroup": "Ciliophora:part",
         "orientation": "h",
         "showlegend": true,
         "type": "histogram",
         "x": [
          28.840949509008,
          7.22742428174976,
          6.34252892160828,
          6.55941059279029,
          3.24229074889868
         ],
         "xaxis": "x",
         "y": [
          "130_19",
          "130_24",
          "130_25",
          "130_5",
          "130_7"
         ],
         "yaxis": "y"
        },
        {
         "alignmentgroup": "True",
         "bingroup": "y",
         "histfunc": "sum",
         "hovertemplate": "Taxon=Cnidaria<br>sum of density_cell_l_sum=%{x}<br>Comments=%{y}<extra></extra>",
         "legendgroup": "Cnidaria",
         "marker": {
          "color": "#B6E880",
          "pattern": {
           "shape": ""
          }
         },
         "name": "Cnidaria",
         "offsetgroup": "Cnidaria",
         "orientation": "h",
         "showlegend": true,
         "type": "histogram",
         "x": [
          4.06653751941211
         ],
         "xaxis": "x",
         "y": [
          "130_15"
         ],
         "yaxis": "y"
        },
        {
         "alignmentgroup": "True",
         "bingroup": "y",
         "histfunc": "sum",
         "hovertemplate": "Taxon=Copepoda adult<br>sum of density_cell_l_sum=%{x}<br>Comments=%{y}<extra></extra>",
         "legendgroup": "Copepoda adult",
         "marker": {
          "color": "#FF97FF",
          "pattern": {
           "shape": ""
          }
         },
         "name": "Copepoda adult",
         "offsetgroup": "Copepoda adult",
         "orientation": "h",
         "showlegend": true,
         "type": "histogram",
         "x": [
          9.85648268423829
         ],
         "xaxis": "x",
         "y": [
          "130_18"
         ],
         "yaxis": "y"
        },
        {
         "alignmentgroup": "True",
         "bingroup": "y",
         "histfunc": "sum",
         "hovertemplate": "Taxon=Crustacea<br>sum of density_cell_l_sum=%{x}<br>Comments=%{y}<extra></extra>",
         "legendgroup": "Crustacea",
         "marker": {
          "color": "#FECB52",
          "pattern": {
           "shape": ""
          }
         },
         "name": "Crustacea",
         "offsetgroup": "Crustacea",
         "orientation": "h",
         "showlegend": true,
         "type": "histogram",
         "x": [
          3.7146745656873,
          2.55294458949811
         ],
         "xaxis": "x",
         "y": [
          "130_13",
          "130_16"
         ],
         "yaxis": "y"
        },
        {
         "alignmentgroup": "True",
         "bingroup": "y",
         "histfunc": "sum",
         "hovertemplate": "Taxon=Dinoflagellata<br>sum of density_cell_l_sum=%{x}<br>Comments=%{y}<extra></extra>",
         "legendgroup": "Dinoflagellata",
         "marker": {
          "color": "#636efa",
          "pattern": {
           "shape": ""
          }
         },
         "name": "Dinoflagellata",
         "offsetgroup": "Dinoflagellata",
         "orientation": "h",
         "showlegend": true,
         "type": "histogram",
         "x": [
          6.94668242202886,
          19.1452152302642,
          5.07111824735456,
          28.840949509008,
          2.12675971240408,
          110.803324099723,
          22.0608376235259,
          4.08767558588813
         ],
         "xaxis": "x",
         "y": [
          "130_11",
          "130_12",
          "130_14",
          "130_19",
          "130_21",
          "130_3",
          "130_5",
          "130_8"
         ],
         "yaxis": "y"
        },
        {
         "alignmentgroup": "True",
         "bingroup": "y",
         "histfunc": "sum",
         "hovertemplate": "Taxon=Dinoflagellate cyst<br>sum of density_cell_l_sum=%{x}<br>Comments=%{y}<extra></extra>",
         "legendgroup": "Dinoflagellate cyst",
         "marker": {
          "color": "#EF553B",
          "pattern": {
           "shape": ""
          }
         },
         "name": "Dinoflagellate cyst",
         "offsetgroup": "Dinoflagellate cyst",
         "orientation": "h",
         "showlegend": true,
         "type": "histogram",
         "x": [
          9.25665321950152,
          24.1048686036157,
          17.3782270866405,
          3.7146745656873,
          9.05163327008932,
          8.13346568894297,
          7.17270529467331,
          11.4512893371301,
          30.027370793753,
          286.583354711035,
          28.2197678771996,
          1.91715911876038,
          16.8452281350766,
          36.8921364026965,
          14.4548485634995,
          25.6001044902224,
          110.810421303784,
          45.6751355980588,
          53.7146016825309,
          23.4454502639433,
          15.3613027253195
         ],
         "xaxis": "x",
         "y": [
          "130_10",
          "130_11",
          "130_12",
          "130_13",
          "130_14",
          "130_15",
          "130_17",
          "130_18",
          "130_19",
          "130_2",
          "130_20",
          "130_21",
          "130_22",
          "130_23",
          "130_24",
          "130_25",
          "130_3",
          "130_4",
          "130_6",
          "130_7",
          "130_8"
         ],
         "yaxis": "y"
        },
        {
         "alignmentgroup": "True",
         "bingroup": "y",
         "histfunc": "sum",
         "hovertemplate": "Taxon=Diploneis<br>sum of density_cell_l_sum=%{x}<br>Comments=%{y}<extra></extra>",
         "legendgroup": "Diploneis",
         "marker": {
          "color": "#00cc96",
          "pattern": {
           "shape": ""
          }
         },
         "name": "Diploneis",
         "offsetgroup": "Diploneis",
         "orientation": "h",
         "showlegend": true,
         "type": "histogram",
         "x": [
          8.2627423977966,
          5.76623623889082,
          4.06621201933852,
          21.8518410029585,
          11.4346666666667,
          2.67091585097504,
          4.30314232902033,
          5.79635886186412,
          110.803324099723,
          9.66801734556053,
          5.78404149421072
         ],
         "xaxis": "x",
         "y": [
          "130_1",
          "130_14",
          "130_15",
          "130_19",
          "130_20",
          "130_21",
          "130_22",
          "130_24",
          "130_3",
          "130_6",
          "130_7"
         ],
         "yaxis": "y"
        },
        {
         "alignmentgroup": "True",
         "bingroup": "y",
         "histfunc": "sum",
         "hovertemplate": "Taxon=Dissodinium pseudolunula<br>sum of density_cell_l_sum=%{x}<br>Comments=%{y}<extra></extra>",
         "legendgroup": "Dissodinium pseudolunula",
         "marker": {
          "color": "#ab63fa",
          "pattern": {
           "shape": ""
          }
         },
         "name": "Dissodinium pseudolunula",
         "offsetgroup": "Dissodinium pseudolunula",
         "orientation": "h",
         "showlegend": true,
         "type": "histogram",
         "x": [
          6.94668242202886
         ],
         "xaxis": "x",
         "y": [
          "130_11"
         ],
         "yaxis": "y"
        },
        {
         "alignmentgroup": "True",
         "bingroup": "y",
         "histfunc": "sum",
         "hovertemplate": "Taxon=Ditylum brightwellii<br>sum of density_cell_l_sum=%{x}<br>Comments=%{y}<extra></extra>",
         "legendgroup": "Ditylum brightwellii",
         "marker": {
          "color": "#FFA15A",
          "pattern": {
           "shape": ""
          }
         },
         "name": "Ditylum brightwellii",
         "offsetgroup": "Ditylum brightwellii",
         "orientation": "h",
         "showlegend": true,
         "type": "histogram",
         "x": [
          57.8382706164932,
          46.2648147362003,
          69.4962253386581,
          185.017167458327,
          178.311338305774,
          118.14288406673,
          121.995604742779,
          106.02049247956,
          100.410639813651,
          181.769156732727,
          165.100155823039,
          250.376204655333,
          173.388173517209,
          103.520161341792,
          186.354278502734,
          98.3728610027019,
          131.524225068052,
          160.300868372704,
          332.417069200181,
          147.147453557265,
          148.073663465475,
          104.667315706639,
          133.359841754308,
          200.14335831849
         ],
         "xaxis": "x",
         "y": [
          "130_1",
          "130_10",
          "130_11",
          "130_12",
          "130_13",
          "130_14",
          "130_15",
          "130_16",
          "130_17",
          "130_18",
          "130_19",
          "130_2",
          "130_20",
          "130_21",
          "130_22",
          "130_23",
          "130_24",
          "130_25",
          "130_3",
          "130_4",
          "130_5",
          "130_6",
          "130_7",
          "130_8"
         ],
         "yaxis": "y"
        },
        {
         "alignmentgroup": "True",
         "bingroup": "y",
         "histfunc": "sum",
         "hovertemplate": "Taxon=Foraminifera<br>sum of density_cell_l_sum=%{x}<br>Comments=%{y}<extra></extra>",
         "legendgroup": "Foraminifera",
         "marker": {
          "color": "#19d3f3",
          "pattern": {
           "shape": ""
          }
         },
         "name": "Foraminifera",
         "offsetgroup": "Foraminifera",
         "orientation": "h",
         "showlegend": true,
         "type": "histogram",
         "x": [
          7.42946808851315,
          2.26278151350197
         ],
         "xaxis": "x",
         "y": [
          "130_13",
          "130_14"
         ],
         "yaxis": "y"
        },
        {
         "alignmentgroup": "True",
         "bingroup": "y",
         "histfunc": "sum",
         "hovertemplate": "Taxon=Guinardia delicatula<br>sum of density_cell_l_sum=%{x}<br>Comments=%{y}<extra></extra>",
         "legendgroup": "Guinardia delicatula",
         "marker": {
          "color": "#FF6692",
          "pattern": {
           "shape": ""
          }
         },
         "name": "Guinardia delicatula",
         "offsetgroup": "Guinardia delicatula",
         "orientation": "h",
         "showlegend": true,
         "type": "histogram",
         "x": [
          33.0500434342262,
          4.87756648979995,
          22.2891775261468,
          32.6609791639034,
          28.4658277412597,
          17.6909299237645,
          7.17270529467331,
          4.72459961659799,
          28.840949509008,
          8.69776876267749,
          67.1797667472754,
          28.7699528621906,
          48.9694210542225,
          8.17535117177626
         ],
         "xaxis": "x",
         "y": [
          "130_1",
          "130_10",
          "130_13",
          "130_14",
          "130_15",
          "130_16",
          "130_17",
          "130_18",
          "130_19",
          "130_20",
          "130_21",
          "130_22",
          "130_7",
          "130_8"
         ],
         "yaxis": "y"
        },
        {
         "alignmentgroup": "True",
         "bingroup": "y",
         "histfunc": "sum",
         "hovertemplate": "Taxon=Guinardia flaccida<br>sum of density_cell_l_sum=%{x}<br>Comments=%{y}<extra></extra>",
         "legendgroup": "Guinardia flaccida",
         "marker": {
          "color": "#B6E880",
          "pattern": {
           "shape": ""
          }
         },
         "name": "Guinardia flaccida",
         "offsetgroup": "Guinardia flaccida",
         "orientation": "h",
         "showlegend": true,
         "type": "histogram",
         "x": [
          74.3670632696526,
          53.2586965213914,
          62.6482193495,
          212.302786783375,
          156.021803891548,
          56.2557341491689,
          56.9328274060707,
          22.7305032287647,
          57.3768195407773,
          40.2553171219663,
          78.1870480138813,
          250.410278989713,
          136.64452708077,
          113.035838710655,
          148.289361892204,
          110.670896052119,
          25.7330726852675,
          114.517878541152,
          332.409972299169,
          35.611831041646,
          33.0754271373929,
          164.531419092941,
          161.724397005104,
          69.5967884226055
         ],
         "xaxis": "x",
         "y": [
          "130_1",
          "130_10",
          "130_11",
          "130_12",
          "130_13",
          "130_14",
          "130_15",
          "130_16",
          "130_17",
          "130_18",
          "130_19",
          "130_2",
          "130_20",
          "130_21",
          "130_22",
          "130_23",
          "130_24",
          "130_25",
          "130_3",
          "130_4",
          "130_5",
          "130_6",
          "130_7",
          "130_8"
         ],
         "yaxis": "y"
        },
        {
         "alignmentgroup": "True",
         "bingroup": "y",
         "histfunc": "sum",
         "hovertemplate": "Taxon=Guinardia striata/Dactyliosolen phuketensis<br>sum of density_cell_l_sum=%{x}<br>Comments=%{y}<extra></extra>",
         "legendgroup": "Guinardia striata/Dactyliosolen phuketensis",
         "marker": {
          "color": "#FF97FF",
          "pattern": {
           "shape": ""
          }
         },
         "name": "Guinardia striata/Dactyliosolen phuketensis",
         "offsetgroup": "Guinardia striata/Dactyliosolen phuketensis",
         "orientation": "h",
         "showlegend": true,
         "type": "histogram",
         "x": [
          8.2627423977966,
          4.62832660975076,
          6.94668242202886,
          33.4330822412548,
          23.1301698394546,
          20.3324271794921,
          4.77755994570955,
          21.5165082634705,
          3.4303813422326,
          21.8518410029585,
          167.455405897343,
          8.69776876267749,
          31.8066668049726,
          19.6903006661547,
          7.22742428174976,
          31.8748942924424,
          32.9989515958087,
          52.42683867904,
          57.8282478900821
         ],
         "xaxis": "x",
         "y": [
          "130_1",
          "130_10",
          "130_11",
          "130_13",
          "130_14",
          "130_15",
          "130_16",
          "130_17",
          "130_18",
          "130_19",
          "130_2",
          "130_20",
          "130_21",
          "130_22",
          "130_24",
          "130_25",
          "130_4",
          "130_7",
          "130_8"
         ],
         "yaxis": "y"
        },
        {
         "alignmentgroup": "True",
         "bingroup": "y",
         "histfunc": "sum",
         "hovertemplate": "Taxon=Helicotheca tamesis<br>sum of density_cell_l_sum=%{x}<br>Comments=%{y}<extra></extra>",
         "legendgroup": "Helicotheca tamesis",
         "marker": {
          "color": "#FECB52",
          "pattern": {
           "shape": ""
          }
         },
         "name": "Helicotheca tamesis",
         "offsetgroup": "Helicotheca tamesis",
         "orientation": "h",
         "showlegend": true,
         "type": "histogram",
         "x": [
          18.8874551564738,
          13.8933648440577,
          53.789496872815,
          14.859828423425,
          11.8232183469579,
          20.3317110655738,
          13.9268625406468,
          14.3454105893466,
          12.7463756312103,
          165.100155823039,
          47.9523625484891,
          10.8384395110386,
          35.5940457629102,
          57.9406542593279,
          110.803324099723,
          32.9989515958087,
          47.3612786489747,
          95.8025507342166,
          31.1184606133494,
          9.75515172406364
         ],
         "xaxis": "x",
         "y": [
          "130_10",
          "130_11",
          "130_12",
          "130_13",
          "130_14",
          "130_15",
          "130_16",
          "130_17",
          "130_18",
          "130_19",
          "130_20",
          "130_21",
          "130_22",
          "130_25",
          "130_3",
          "130_4",
          "130_5",
          "130_6",
          "130_7",
          "130_8"
         ],
         "yaxis": "y"
        },
        {
         "alignmentgroup": "True",
         "bingroup": "y",
         "histfunc": "sum",
         "hovertemplate": "Taxon=Hobaniella longicruris<br>sum of density_cell_l_sum=%{x}<br>Comments=%{y}<extra></extra>",
         "legendgroup": "Hobaniella longicruris",
         "marker": {
          "color": "#636efa",
          "pattern": {
           "shape": ""
          }
         },
         "name": "Hobaniella longicruris",
         "offsetgroup": "Hobaniella longicruris",
         "orientation": "h",
         "showlegend": true,
         "type": "histogram",
         "x": [
          41.3127858268322,
          66.3881802125095,
          95.5831785102081,
          210.342743002644,
          89.1545092639109,
          68.1573721387756,
          65.0657071182628,
          26.4915038167548,
          43.0338202921753,
          41.7300361452922,
          178.434923532771,
          451.59675835916,
          152.46950687644,
          113.496094803215,
          116.036645453332,
          86.078763715715,
          42.589666879559,
          185.929937318749,
          664.819944598338,
          65.9965798647414,
          213.39123259766,
          181.230907560894,
          120.317228068304,
          140.639725277381
         ],
         "xaxis": "x",
         "y": [
          "130_1",
          "130_10",
          "130_11",
          "130_12",
          "130_13",
          "130_14",
          "130_15",
          "130_16",
          "130_17",
          "130_18",
          "130_19",
          "130_2",
          "130_20",
          "130_21",
          "130_22",
          "130_23",
          "130_24",
          "130_25",
          "130_3",
          "130_4",
          "130_5",
          "130_6",
          "130_7",
          "130_8"
         ],
         "yaxis": "y"
        },
        {
         "alignmentgroup": "True",
         "bingroup": "y",
         "histfunc": "sum",
         "hovertemplate": "Taxon=Lithodesmium undulatum<br>sum of density_cell_l_sum=%{x}<br>Comments=%{y}<extra></extra>",
         "legendgroup": "Lithodesmium undulatum",
         "marker": {
          "color": "#EF553B",
          "pattern": {
           "shape": ""
          }
         },
         "name": "Lithodesmium undulatum",
         "offsetgroup": "Lithodesmium undulatum",
         "orientation": "h",
         "showlegend": true,
         "type": "histogram",
         "x": [
          9.66801734556053
         ],
         "xaxis": "x",
         "y": [
          "130_6"
         ],
         "yaxis": "y"
        },
        {
         "alignmentgroup": "True",
         "bingroup": "y",
         "histfunc": "sum",
         "hovertemplate": "Taxon=Long (chained) diatom<br>sum of density_cell_l_sum=%{x}<br>Comments=%{y}<extra></extra>",
         "legendgroup": "Long (chained) diatom",
         "marker": {
          "color": "#00cc96",
          "pattern": {
           "shape": ""
          }
         },
         "name": "Long (chained) diatom",
         "offsetgroup": "Long (chained) diatom",
         "orientation": "h",
         "showlegend": true,
         "type": "histogram",
         "x": [
          49.5746020901609,
          140.37838478718,
          62.2688302276654,
          247.260824812367,
          115.159848390153,
          170.489683277271,
          93.5289957567185,
          80.1144266726407,
          114.761676996632,
          226.279869573496,
          565.674315917618,
          1640.46623225079,
          291.513721228997,
          159.833346306819,
          255.484271306927,
          110.67444016076,
          69.6153846153846,
          220.570741005387,
          997.251207600544,
          20.495904822142,
          56.5504145832015,
          292.749759414413,
          119.858170958729,
          249.133714889138
         ],
         "xaxis": "x",
         "y": [
          "130_1",
          "130_10",
          "130_11",
          "130_12",
          "130_13",
          "130_14",
          "130_15",
          "130_16",
          "130_17",
          "130_18",
          "130_19",
          "130_2",
          "130_20",
          "130_21",
          "130_22",
          "130_23",
          "130_24",
          "130_25",
          "130_3",
          "130_4",
          "130_5",
          "130_6",
          "130_7",
          "130_8"
         ],
         "yaxis": "y"
        },
        {
         "alignmentgroup": "True",
         "bingroup": "y",
         "histfunc": "sum",
         "hovertemplate": "Taxon=Melosira<br>sum of density_cell_l_sum=%{x}<br>Comments=%{y}<extra></extra>",
         "legendgroup": "Melosira",
         "marker": {
          "color": "#ab63fa",
          "pattern": {
           "shape": ""
          }
         },
         "name": "Melosira",
         "offsetgroup": "Melosira",
         "orientation": "h",
         "showlegend": true,
         "type": "histogram",
         "x": [
          3.92295261623047
         ],
         "xaxis": "x",
         "y": [
          "130_16"
         ],
         "yaxis": "y"
        },
        {
         "alignmentgroup": "True",
         "bingroup": "y",
         "histfunc": "sum",
         "hovertemplate": "Taxon=Mollusca<br>sum of density_cell_l_sum=%{x}<br>Comments=%{y}<extra></extra>",
         "legendgroup": "Mollusca",
         "marker": {
          "color": "#FFA15A",
          "pattern": {
           "shape": ""
          }
         },
         "name": "Mollusca",
         "offsetgroup": "Mollusca",
         "orientation": "h",
         "showlegend": true,
         "type": "histogram",
         "x": [
          8.26340400999295,
          4.62832660975076,
          14.8588172189354,
          5.07143668777772,
          12.1996776638098,
          11.7326033046833,
          167.455405897343,
          11.8202515833093,
          25.0893610906544,
          6.57894736842105,
          110.810421303784,
          51.5170663892751,
          14.1681036880458
         ],
         "xaxis": "x",
         "y": [
          "130_1",
          "130_10",
          "130_13",
          "130_14",
          "130_15",
          "130_16",
          "130_2",
          "130_21",
          "130_22",
          "130_25",
          "130_3",
          "130_7",
          "130_8"
         ],
         "yaxis": "y"
        },
        {
         "alignmentgroup": "True",
         "bingroup": "y",
         "histfunc": "sum",
         "hovertemplate": "Taxon=Nassellaria<br>sum of density_cell_l_sum=%{x}<br>Comments=%{y}<extra></extra>",
         "legendgroup": "Nassellaria",
         "marker": {
          "color": "#19d3f3",
          "pattern": {
           "shape": ""
          }
         },
         "name": "Nassellaria",
         "offsetgroup": "Nassellaria",
         "orientation": "h",
         "showlegend": true,
         "type": "histogram",
         "x": [
          14.4548485634995
         ],
         "xaxis": "x",
         "y": [
          "130_24"
         ],
         "yaxis": "y"
        },
        {
         "alignmentgroup": "True",
         "bingroup": "y",
         "histfunc": "sum",
         "hovertemplate": "Taxon=Nauplii<br>sum of density_cell_l_sum=%{x}<br>Comments=%{y}<extra></extra>",
         "legendgroup": "Nauplii",
         "marker": {
          "color": "#FF6692",
          "pattern": {
           "shape": ""
          }
         },
         "name": "Nauplii",
         "offsetgroup": "Nauplii",
         "orientation": "h",
         "showlegend": true,
         "type": "histogram",
         "x": [
          33.0477944119766,
          22.7399312424376,
          116.010287237009,
          89.1555799295866,
          78.3000677571611,
          44.7325637752689,
          43.3129157814753,
          21.5157045432715,
          63.7318781560515,
          100.312636568393,
          334.910811794685,
          56.4395357543991,
          59.2544015111018,
          107.27351106987,
          36.891742590428,
          56.596999714332,
          121.253249568581,
          221.613745176218,
          43.206933362588,
          22.4133009847296,
          62.8578764924894,
          56.0722566615857,
          100.32254369412
         ],
         "xaxis": "x",
         "y": [
          "130_1",
          "130_10",
          "130_12",
          "130_13",
          "130_14",
          "130_15",
          "130_16",
          "130_17",
          "130_18",
          "130_19",
          "130_2",
          "130_20",
          "130_21",
          "130_22",
          "130_23",
          "130_24",
          "130_25",
          "130_3",
          "130_4",
          "130_5",
          "130_6",
          "130_7",
          "130_8"
         ],
         "yaxis": "y"
        },
        {
         "alignmentgroup": "True",
         "bingroup": "y",
         "histfunc": "sum",
         "hovertemplate": "Taxon=Neocalyptrella robusta<br>sum of density_cell_l_sum=%{x}<br>Comments=%{y}<extra></extra>",
         "legendgroup": "Neocalyptrella robusta",
         "marker": {
          "color": "#B6E880",
          "pattern": {
           "shape": ""
          }
         },
         "name": "Neocalyptrella robusta",
         "offsetgroup": "Neocalyptrella robusta",
         "orientation": "h",
         "showlegend": true,
         "type": "histogram",
         "x": [
          4.92824134211914,
          6.84756803421822
         ],
         "xaxis": "x",
         "y": [
          "130_18",
          "130_5"
         ],
         "yaxis": "y"
        },
        {
         "alignmentgroup": "True",
         "bingroup": "y",
         "histfunc": "sum",
         "hovertemplate": "Taxon=Noctilucales<br>sum of density_cell_l_sum=%{x}<br>Comments=%{y}<extra></extra>",
         "legendgroup": "Noctilucales",
         "marker": {
          "color": "#FF97FF",
          "pattern": {
           "shape": ""
          }
         },
         "name": "Noctilucales",
         "offsetgroup": "Noctilucales",
         "orientation": "h",
         "showlegend": true,
         "type": "histogram",
         "x": [
          231.361947415348,
          22.1005475360876,
          71.0902403604728,
          106.945272813278,
          115.158480303919,
          182.393811821885,
          618.111033647904,
          120.279513186895,
          107.584148841816,
          14.5753135477462,
          250.376204655333,
          39.3721392532332,
          13.427782752208,
          109.771190359918,
          12.2980351967205,
          38.9279868089326,
          185.532941788246,
          443.213296398892,
          102.481821486275,
          13.4007852322579,
          62.5039894805377,
          35.909098240351,
          4.08767558588813
         ],
         "xaxis": "x",
         "y": [
          "130_1",
          "130_10",
          "130_11",
          "130_12",
          "130_13",
          "130_14",
          "130_15",
          "130_16",
          "130_17",
          "130_18",
          "130_2",
          "130_20",
          "130_21",
          "130_22",
          "130_23",
          "130_24",
          "130_25",
          "130_3",
          "130_4",
          "130_5",
          "130_6",
          "130_7",
          "130_8"
         ],
         "yaxis": "y"
        },
        {
         "alignmentgroup": "True",
         "bingroup": "y",
         "histfunc": "sum",
         "hovertemplate": "Taxon=Odontella aurita/Ralfsiella minima<br>sum of density_cell_l_sum=%{x}<br>Comments=%{y}<extra></extra>",
         "legendgroup": "Odontella aurita/Ralfsiella minima",
         "marker": {
          "color": "#FECB52",
          "pattern": {
           "shape": ""
          }
         },
         "name": "Odontella aurita/Ralfsiella minima",
         "offsetgroup": "Odontella aurita/Ralfsiella minima",
         "orientation": "h",
         "showlegend": true,
         "type": "histogram",
         "x": [
          8.26340400999295,
          7.36684917869587,
          3.7146745656873,
          2.26303513575542,
          221.606648199446,
          9.7033391720188,
          10.7429203365062
         ],
         "xaxis": "x",
         "y": [
          "130_1",
          "130_10",
          "130_13",
          "130_14",
          "130_3",
          "130_5",
          "130_6"
         ],
         "yaxis": "y"
        },
        {
         "alignmentgroup": "True",
         "bingroup": "y",
         "histfunc": "sum",
         "hovertemplate": "Taxon=Odontella rhombus f. trigona<br>sum of density_cell_l_sum=%{x}<br>Comments=%{y}<extra></extra>",
         "legendgroup": "Odontella rhombus f. trigona",
         "marker": {
          "color": "#636efa",
          "pattern": {
           "shape": ""
          }
         },
         "name": "Odontella rhombus f. trigona",
         "offsetgroup": "Odontella rhombus f. trigona",
         "orientation": "h",
         "showlegend": true,
         "type": "histogram",
         "x": [
          8.13307503882423,
          286.538725782073,
          2.67091585097504,
          6.27672009351032,
          6.04587817448661
         ],
         "xaxis": "x",
         "y": [
          "130_15",
          "130_2",
          "130_21",
          "130_25",
          "130_8"
         ],
         "yaxis": "y"
        },
        {
         "alignmentgroup": "True",
         "bingroup": "y",
         "histfunc": "sum",
         "hovertemplate": "Taxon=Ophiuroidea/Echinoidea larvae<br>sum of density_cell_l_sum=%{x}<br>Comments=%{y}<extra></extra>",
         "legendgroup": "Ophiuroidea/Echinoidea larvae",
         "marker": {
          "color": "#EF553B",
          "pattern": {
           "shape": ""
          }
         },
         "name": "Ophiuroidea/Echinoidea larvae",
         "offsetgroup": "Ophiuroidea/Echinoidea larvae",
         "orientation": "h",
         "showlegend": true,
         "type": "histogram",
         "x": [
          11.8737142759993,
          2.89202074710536
         ],
         "xaxis": "x",
         "y": [
          "130_22",
          "130_7"
         ],
         "yaxis": "y"
        },
        {
         "alignmentgroup": "True",
         "bingroup": "y",
         "histfunc": "sum",
         "hovertemplate": "Taxon=Paralia<br>sum of density_cell_l_sum=%{x}<br>Comments=%{y}<extra></extra>",
         "legendgroup": "Paralia",
         "marker": {
          "color": "#00cc96",
          "pattern": {
           "shape": ""
          }
         },
         "name": "Paralia",
         "offsetgroup": "Paralia",
         "orientation": "h",
         "showlegend": true,
         "type": "histogram",
         "x": [
          16.5238972059883,
          32.6498596693344,
          33.9057106654433,
          120.741736092448,
          26.0033762300594,
          26.4433843862186,
          73.1962430624733,
          58.2579604046129,
          28.6884097703887,
          40.0811012698751,
          88.8635942504699,
          375.666543899822,
          28.2197678771996,
          32.2107035517181,
          56.6063577447176,
          73.7799410785193,
          26.7206739219694,
          89.6099276304663,
          443.213296398892,
          71.2205797800323,
          77.2986033570683,
          84.6956250973066,
          16.5193623685733,
          35.3402907858353
         ],
         "xaxis": "x",
         "y": [
          "130_1",
          "130_10",
          "130_11",
          "130_12",
          "130_13",
          "130_14",
          "130_15",
          "130_16",
          "130_17",
          "130_18",
          "130_19",
          "130_2",
          "130_20",
          "130_21",
          "130_22",
          "130_23",
          "130_24",
          "130_25",
          "130_3",
          "130_4",
          "130_5",
          "130_6",
          "130_7",
          "130_8"
         ],
         "yaxis": "y"
        },
        {
         "alignmentgroup": "True",
         "bingroup": "y",
         "histfunc": "sum",
         "hovertemplate": "Taxon=Pennate Diatom<br>sum of density_cell_l_sum=%{x}<br>Comments=%{y}<extra></extra>",
         "legendgroup": "Pennate Diatom",
         "marker": {
          "color": "#ab63fa",
          "pattern": {
           "shape": ""
          }
         },
         "name": "Pennate Diatom",
         "offsetgroup": "Pennate Diatom",
         "orientation": "h",
         "showlegend": true,
         "type": "histogram",
         "x": [
          181.783772924595,
          277.067402389252,
          304.307012835501,
          429.770412301598,
          267.466918235301,
          337.5283220243,
          174.864694195478,
          201.370368161942,
          78.896542891117,
          573.122579624096,
          799.079285470301,
          3976.93402213594,
          588.840394308863,
          353.097740727317,
          690.363056669752,
          1291.17554891201,
          378.113549445592,
          844.213070912603,
          2548.55452092942,
          507.606754696217,
          681.341564874545,
          968.818641174325,
          506.877696965017,
          824.631707917952
         ],
         "xaxis": "x",
         "y": [
          "130_1",
          "130_10",
          "130_11",
          "130_12",
          "130_13",
          "130_14",
          "130_15",
          "130_16",
          "130_17",
          "130_18",
          "130_19",
          "130_2",
          "130_20",
          "130_21",
          "130_22",
          "130_23",
          "130_24",
          "130_25",
          "130_3",
          "130_4",
          "130_5",
          "130_6",
          "130_7",
          "130_8"
         ],
         "yaxis": "y"
        },
        {
         "alignmentgroup": "True",
         "bingroup": "y",
         "histfunc": "sum",
         "hovertemplate": "Taxon=Phytoplankton Colony<br>sum of density_cell_l_sum=%{x}<br>Comments=%{y}<extra></extra>",
         "legendgroup": "Phytoplankton Colony",
         "marker": {
          "color": "#FFA15A",
          "pattern": {
           "shape": ""
          }
         },
         "name": "Phytoplankton Colony",
         "offsetgroup": "Phytoplankton Colony",
         "orientation": "h",
         "showlegend": true,
         "type": "histogram",
         "x": [
          462.71013419422,
          1509.89705983443,
          11515.510912245,
          23940.3133027236,
          609.228457840282,
          243.113358543212,
          593.715519519612,
          95.1010094365036,
          179.309594023867,
          1840.84846339448,
          27112.7747309154,
          29585.0986649871,
          9147.662522932,
          447.389494809609,
          941.861214159994,
          6652.70852528619,
          4525.85800497584,
          1284.81264201468,
          4764.69906989336,
          13425.542536202,
          5166.27316233551,
          12415.3611927271,
          460.047278327387,
          2172.74743156953
         ],
         "xaxis": "x",
         "y": [
          "130_1",
          "130_10",
          "130_11",
          "130_12",
          "130_13",
          "130_14",
          "130_15",
          "130_16",
          "130_17",
          "130_18",
          "130_19",
          "130_2",
          "130_20",
          "130_21",
          "130_22",
          "130_23",
          "130_24",
          "130_25",
          "130_3",
          "130_4",
          "130_5",
          "130_6",
          "130_7",
          "130_8"
         ],
         "yaxis": "y"
        },
        {
         "alignmentgroup": "True",
         "bingroup": "y",
         "histfunc": "sum",
         "hovertemplate": "Taxon=Plagiogrammopsis/Bellerochea malleus<br>sum of density_cell_l_sum=%{x}<br>Comments=%{y}<extra></extra>",
         "legendgroup": "Plagiogrammopsis/Bellerochea malleus",
         "marker": {
          "color": "#19d3f3",
          "pattern": {
           "shape": ""
          }
         },
         "name": "Plagiogrammopsis/Bellerochea malleus",
         "offsetgroup": "Plagiogrammopsis/Bellerochea malleus",
         "orientation": "h",
         "showlegend": true,
         "type": "histogram",
         "x": [
          5.79635886186412,
          9.7033391720188,
          9.66801734556053
         ],
         "xaxis": "x",
         "y": [
          "130_24",
          "130_5",
          "130_6"
         ],
         "yaxis": "y"
        },
        {
         "alignmentgroup": "True",
         "bingroup": "y",
         "histfunc": "sum",
         "hovertemplate": "Taxon=Polychaeta<br>sum of density_cell_l_sum=%{x}<br>Comments=%{y}<extra></extra>",
         "legendgroup": "Polychaeta",
         "marker": {
          "color": "#FF6692",
          "pattern": {
           "shape": ""
          }
         },
         "name": "Polychaeta",
         "offsetgroup": "Polychaeta",
         "orientation": "h",
         "showlegend": true,
         "type": "histogram",
         "x": [
          8.26115496069547,
          4.87756648979995,
          38.8627658580637,
          14.8591740989224,
          5.07111824735456,
          61.9317069413196,
          29.4504715823354,
          65.9855532289465,
          7.22742428174976,
          6.57894736842105,
          10.2485267742762,
          15.4623581216596,
          86.6045254104216
         ],
         "xaxis": "x",
         "y": [
          "130_1",
          "130_10",
          "130_12",
          "130_13",
          "130_14",
          "130_20",
          "130_21",
          "130_22",
          "130_24",
          "130_25",
          "130_4",
          "130_7",
          "130_8"
         ],
         "yaxis": "y"
        },
        {
         "alignmentgroup": "True",
         "bingroup": "y",
         "histfunc": "sum",
         "hovertemplate": "Taxon=Pseudo-nitzschia<br>sum of density_cell_l_sum=%{x}<br>Comments=%{y}<extra></extra>",
         "legendgroup": "Pseudo-nitzschia",
         "marker": {
          "color": "#B6E880",
          "pattern": {
           "shape": ""
          }
         },
         "name": "Pseudo-nitzschia",
         "offsetgroup": "Pseudo-nitzschia",
         "orientation": "h",
         "showlegend": true,
         "type": "histogram",
         "x": [
          347.02115621869,
          647.406019777514,
          683.064273034799,
          1144.68691814041,
          861.837094206285,
          722.990061951207,
          256.193947107136,
          309.539642196414,
          509.234745797299,
          951.994264092508,
          1147.86744322083,
          6487.39969027172,
          1634.77942179699,
          1119.94058681444,
          1433.86235015646,
          664.038371215895,
          728.084030804069,
          855.693671970156,
          5761.95737458167,
          716.430061568208,
          914.390182750674,
          1509.65845712566,
          1310.4720886754,
          1695.42803466243
         ],
         "xaxis": "x",
         "y": [
          "130_1",
          "130_10",
          "130_11",
          "130_12",
          "130_13",
          "130_14",
          "130_15",
          "130_16",
          "130_17",
          "130_18",
          "130_19",
          "130_2",
          "130_20",
          "130_21",
          "130_22",
          "130_23",
          "130_24",
          "130_25",
          "130_3",
          "130_4",
          "130_5",
          "130_6",
          "130_7",
          "130_8"
         ],
         "yaxis": "y"
        },
        {
         "alignmentgroup": "True",
         "bingroup": "y",
         "histfunc": "sum",
         "hovertemplate": "Taxon=Rhizosolenia<br>sum of density_cell_l_sum=%{x}<br>Comments=%{y}<extra></extra>",
         "legendgroup": "Rhizosolenia",
         "marker": {
          "color": "#FF97FF",
          "pattern": {
           "shape": ""
          }
         },
         "name": "Rhizosolenia",
         "offsetgroup": "Rhizosolenia",
         "orientation": "h",
         "showlegend": true,
         "type": "histogram",
         "x": [
          24.7888887702704,
          41.5213819085407,
          6.94668242202886,
          176.614264299417,
          159.733861301195,
          82.7639131492003,
          48.7973434692062,
          24.272956512041,
          71.7214262958285,
          22.4838877443417,
          21.8518410029585,
          410.147030542492,
          92.9790296052632,
          77.1756434957774,
          129.113311138083,
          36.6626624317428,
          18.895512315825,
          43.206933362588,
          40.786778383397,
          20.354329972125,
          59.1666806876136,
          67.6795174542528
         ],
         "xaxis": "x",
         "y": [
          "130_1",
          "130_10",
          "130_11",
          "130_12",
          "130_13",
          "130_14",
          "130_15",
          "130_16",
          "130_17",
          "130_18",
          "130_19",
          "130_2",
          "130_20",
          "130_21",
          "130_22",
          "130_24",
          "130_25",
          "130_4",
          "130_5",
          "130_6",
          "130_7",
          "130_8"
         ],
         "yaxis": "y"
        },
        {
         "alignmentgroup": "True",
         "bingroup": "y",
         "histfunc": "sum",
         "hovertemplate": "Taxon=Rhizosolenia setigera (f. pungens)/R. hebetata f. semispina<br>sum of density_cell_l_sum=%{x}<br>Comments=%{y}<extra></extra>",
         "legendgroup": "Rhizosolenia setigera (f. pungens)/R. hebetata f. semispina",
         "marker": {
          "color": "#FECB52",
          "pattern": {
           "shape": ""
          }
         },
         "name": "Rhizosolenia setigera (f. pungens)/R. hebetata f. semispina",
         "offsetgroup": "Rhizosolenia setigera (f. pungens)/R. hebetata f. semispina",
         "orientation": "h",
         "showlegend": true,
         "type": "histogram",
         "x": [
          57.8411815303527,
          4.62832660975076,
          57.0874357796374,
          71.1546958963468,
          66.8666403356142,
          53.4417501694013,
          44.7317173987081,
          24.1176799597293,
          43.035427912723,
          36.8210588811596,
          28.840949509008,
          451.547502951291,
          90.5919575975554,
          51.2632884454704,
          87.5851266843637,
          24.5941012585263,
          31.037794087386,
          96.6525559779387,
          1108.06872588109,
          30.7432829129261,
          58.0981290300765,
          31.077032448078,
          73.3548981893727,
          63.8571368965661
         ],
         "xaxis": "x",
         "y": [
          "130_1",
          "130_10",
          "130_11",
          "130_12",
          "130_13",
          "130_14",
          "130_15",
          "130_16",
          "130_17",
          "130_18",
          "130_19",
          "130_2",
          "130_20",
          "130_21",
          "130_22",
          "130_23",
          "130_24",
          "130_25",
          "130_3",
          "130_4",
          "130_5",
          "130_6",
          "130_7",
          "130_8"
         ],
         "yaxis": "y"
        },
        {
         "alignmentgroup": "True",
         "bingroup": "y",
         "histfunc": "sum",
         "hovertemplate": "Taxon=Rotifera<br>sum of density_cell_l_sum=%{x}<br>Comments=%{y}<extra></extra>",
         "legendgroup": "Rotifera",
         "marker": {
          "color": "#636efa",
          "pattern": {
           "shape": ""
          }
         },
         "name": "Rotifera",
         "offsetgroup": "Rotifera",
         "orientation": "h",
         "showlegend": true,
         "type": "histogram",
         "x": [
          3.71503146567599
         ],
         "xaxis": "x",
         "y": [
          "130_13"
         ],
         "yaxis": "y"
        },
        {
         "alignmentgroup": "True",
         "bingroup": "y",
         "histfunc": "sum",
         "hovertemplate": "Taxon=Skeletonema<br>sum of density_cell_l_sum=%{x}<br>Comments=%{y}<extra></extra>",
         "legendgroup": "Skeletonema",
         "marker": {
          "color": "#EF553B",
          "pattern": {
           "shape": ""
          }
         },
         "name": "Skeletonema",
         "offsetgroup": "Skeletonema",
         "orientation": "h",
         "showlegend": true,
         "type": "histogram",
         "x": [
          16.5254847955932,
          4.62832660975076,
          33.4334391323532,
          42.2084554004922,
          32.5328210054435,
          5.68312284730195,
          28.6908211786932,
          38.1274350147389,
          44.331482043962,
          12.8485623212632,
          9.26652449374211,
          4.08767558588813
         ],
         "xaxis": "x",
         "y": [
          "130_1",
          "130_10",
          "130_13",
          "130_14",
          "130_15",
          "130_16",
          "130_17",
          "130_21",
          "130_22",
          "130_25",
          "130_7",
          "130_8"
         ],
         "yaxis": "y"
        },
        {
         "alignmentgroup": "True",
         "bingroup": "y",
         "histfunc": "sum",
         "hovertemplate": "Taxon=Stellarima stellaris/Podosira/Hyalodiscus<br>sum of density_cell_l_sum=%{x}<br>Comments=%{y}<extra></extra>",
         "legendgroup": "Stellarima stellaris/Podosira/Hyalodiscus",
         "marker": {
          "color": "#00cc96",
          "pattern": {
           "shape": ""
          }
         },
         "name": "Stellarima stellaris/Podosira/Hyalodiscus",
         "offsetgroup": "Stellarima stellaris/Podosira/Hyalodiscus",
         "orientation": "h",
         "showlegend": true,
         "type": "histogram",
         "x": [
          8.26340400999295,
          3.7146745656873,
          5.07143668777772,
          2.67091585097504,
          9.7033391720188,
          11.1306625199493,
          5.78404149421072
         ],
         "xaxis": "x",
         "y": [
          "130_1",
          "130_13",
          "130_14",
          "130_21",
          "130_5",
          "130_6",
          "130_7"
         ],
         "yaxis": "y"
        },
        {
         "alignmentgroup": "True",
         "bingroup": "y",
         "histfunc": "sum",
         "hovertemplate": "Taxon=Suctoria<br>sum of density_cell_l_sum=%{x}<br>Comments=%{y}<extra></extra>",
         "legendgroup": "Suctoria",
         "marker": {
          "color": "#ab63fa",
          "pattern": {
           "shape": ""
          }
         },
         "name": "Suctoria",
         "offsetgroup": "Suctoria",
         "orientation": "h",
         "showlegend": true,
         "type": "histogram",
         "x": [
          33.0513665314881,
          6.94668242202886,
          19.1452152302642,
          40.8639779201761,
          16.5432211160171,
          12.1996125582363,
          3.5461231068874,
          21.8518410029585,
          37.0053937432578,
          12.7288981748415,
          7.91580951733284,
          12.29606621944,
          32.342166925184,
          110.803324099723,
          19.4066783440376,
          43.7334190851355,
          10.3712466511256,
          36.9328699079808
         ],
         "xaxis": "x",
         "y": [
          "130_1",
          "130_11",
          "130_12",
          "130_13",
          "130_14",
          "130_15",
          "130_16",
          "130_19",
          "130_20",
          "130_21",
          "130_22",
          "130_23",
          "130_25",
          "130_3",
          "130_5",
          "130_6",
          "130_7",
          "130_8"
         ],
         "yaxis": "y"
        },
        {
         "alignmentgroup": "True",
         "bingroup": "y",
         "histfunc": "sum",
         "hovertemplate": "Taxon=Synedra/Thalassionema<br>sum of density_cell_l_sum=%{x}<br>Comments=%{y}<extra></extra>",
         "legendgroup": "Synedra/Thalassionema",
         "marker": {
          "color": "#FFA15A",
          "pattern": {
           "shape": ""
          }
         },
         "name": "Synedra/Thalassionema",
         "offsetgroup": "Synedra/Thalassionema",
         "orientation": "h",
         "showlegend": true,
         "type": "histogram",
         "x": [
          16.5261463813024,
          16.1630870040044,
          31.7299681575867,
          72.8759124087591,
          118.873511754351,
          37.2070192325161,
          170.795487293337,
          123.590598591421,
          143.450086654419,
          62.0440097008238,
          158.257610578793,
          451.547502951291,
          123.054866099823,
          45.7247145023417,
          35.8402992393573,
          36.8941055901616,
          54.6409939528872,
          128.058436462026,
          554.023717339021,
          51.2391877307765,
          111.209583461956,
          64.7614764452616,
          28.7052710646776,
          30.4883887957865
         ],
         "xaxis": "x",
         "y": [
          "130_1",
          "130_10",
          "130_11",
          "130_12",
          "130_13",
          "130_14",
          "130_15",
          "130_16",
          "130_17",
          "130_18",
          "130_19",
          "130_2",
          "130_20",
          "130_21",
          "130_22",
          "130_23",
          "130_24",
          "130_25",
          "130_3",
          "130_4",
          "130_5",
          "130_6",
          "130_7",
          "130_8"
         ],
         "yaxis": "y"
        },
        {
         "alignmentgroup": "True",
         "bingroup": "y",
         "histfunc": "sum",
         "hovertemplate": "Taxon=Tintinnina<br>sum of density_cell_l_sum=%{x}<br>Comments=%{y}<extra></extra>",
         "legendgroup": "Tintinnina",
         "marker": {
          "color": "#19d3f3",
          "pattern": {
           "shape": ""
          }
         },
         "name": "Tintinnina",
         "offsetgroup": "Tintinnina",
         "orientation": "h",
         "showlegend": true,
         "type": "histogram",
         "x": [
          4.72459961659799
         ],
         "xaxis": "x",
         "y": [
          "130_18"
         ],
         "yaxis": "y"
        },
        {
         "alignmentgroup": "True",
         "bingroup": "y",
         "histfunc": "sum",
         "hovertemplate": "Taxon=Triceratium favus<br>sum of density_cell_l_sum=%{x}<br>Comments=%{y}<extra></extra>",
         "legendgroup": "Triceratium favus",
         "marker": {
          "color": "#FF6692",
          "pattern": {
           "shape": ""
          }
         },
         "name": "Triceratium favus",
         "offsetgroup": "Triceratium favus",
         "orientation": "h",
         "showlegend": true,
         "type": "histogram",
         "x": [
          6.94668242202886,
          19.1452152302642,
          7.42946808851315,
          15.2136731691564,
          12.1989615407192,
          13.361220853668,
          57.6818990180159,
          617.736217945553,
          1.91715911876038,
          3.95790475866642,
          11.5927177237282,
          19.190391749437,
          110.803324099723,
          48.4392073756262,
          9.7033391720188,
          20.354329972125,
          17.1716543271325,
          9.09227818997801
         ],
         "xaxis": "x",
         "y": [
          "130_11",
          "130_12",
          "130_13",
          "130_14",
          "130_15",
          "130_16",
          "130_19",
          "130_2",
          "130_21",
          "130_22",
          "130_24",
          "130_25",
          "130_3",
          "130_4",
          "130_5",
          "130_6",
          "130_7",
          "130_8"
         ],
         "yaxis": "y"
        },
        {
         "alignmentgroup": "True",
         "bingroup": "y",
         "histfunc": "sum",
         "hovertemplate": "Taxon=Trieres mobiliensis/T. regia<br>sum of density_cell_l_sum=%{x}<br>Comments=%{y}<extra></extra>",
         "legendgroup": "Trieres mobiliensis/T. regia",
         "marker": {
          "color": "#B6E880",
          "pattern": {
           "shape": ""
          }
         },
         "name": "Trieres mobiliensis/T. regia",
         "offsetgroup": "Trieres mobiliensis/T. regia",
         "orientation": "h",
         "showlegend": true,
         "type": "histogram",
         "x": [
          9.49935815147625,
          81.9542947202522,
          3.71503146567599,
          4.52581663504466,
          4.06653751941211,
          9.85648268423829,
          30.027370793753,
          167.455405897343,
          8.58369098712446,
          12.1999790378367,
          12.296853734689,
          6.57894736842105,
          10.2485267742762,
          9.7033391720188,
          10.3712466511256,
          10.2408684835463
         ],
         "xaxis": "x",
         "y": [
          "130_10",
          "130_12",
          "130_13",
          "130_14",
          "130_15",
          "130_18",
          "130_19",
          "130_2",
          "130_20",
          "130_22",
          "130_23",
          "130_25",
          "130_4",
          "130_5",
          "130_7",
          "130_8"
         ],
         "yaxis": "y"
        },
        {
         "alignmentgroup": "True",
         "bingroup": "y",
         "histfunc": "sum",
         "hovertemplate": "Taxon=Trieres sinensis<br>sum of density_cell_l_sum=%{x}<br>Comments=%{y}<extra></extra>",
         "legendgroup": "Trieres sinensis",
         "marker": {
          "color": "#FF97FF",
          "pattern": {
           "shape": ""
          }
         },
         "name": "Trieres sinensis",
         "offsetgroup": "Trieres sinensis",
         "orientation": "h",
         "showlegend": true,
         "type": "histogram",
         "x": [
          165.24796802644,
          145.148010827042,
          306.592310348432,
          692.942460019711,
          226.603535161305,
          68.7680919043713,
          158.594377312204,
          53.3738368247394,
          107.582541317352,
          149.888568204038,
          404.506567056272,
          2375.25592032522,
          95.6244670184791,
          144.994453884976,
          244.067014754161,
          504.179666493661,
          240.223054778232,
          320.068769061238,
          1218.8649527561,
          197.991062903411,
          399.187879677027,
          437.109006682245,
          195.024417308286,
          167.420948324312
         ],
         "xaxis": "x",
         "y": [
          "130_1",
          "130_10",
          "130_11",
          "130_12",
          "130_13",
          "130_14",
          "130_15",
          "130_16",
          "130_17",
          "130_18",
          "130_19",
          "130_2",
          "130_20",
          "130_21",
          "130_22",
          "130_23",
          "130_24",
          "130_25",
          "130_3",
          "130_4",
          "130_5",
          "130_6",
          "130_7",
          "130_8"
         ],
         "yaxis": "y"
        },
        {
         "alignmentgroup": "True",
         "bingroup": "y",
         "histfunc": "sum",
         "hovertemplate": "Taxon=Veliger larvae D-shaped<br>sum of density_cell_l_sum=%{x}<br>Comments=%{y}<extra></extra>",
         "legendgroup": "Veliger larvae D-shaped",
         "marker": {
          "color": "#FECB52",
          "pattern": {
           "shape": ""
          }
         },
         "name": "Veliger larvae D-shaped",
         "offsetgroup": "Veliger larvae D-shaped",
         "orientation": "h",
         "showlegend": true,
         "type": "histogram",
         "x": [
          3.71503146567599,
          4.52607027151084,
          8.13346568894297,
          11.4346666666667,
          4.03305501052662,
          15.9045589823952,
          16.7420869375326,
          5.12043424177315
         ],
         "xaxis": "x",
         "y": [
          "130_13",
          "130_14",
          "130_15",
          "130_20",
          "130_21",
          "130_22",
          "130_7",
          "130_8"
         ],
         "yaxis": "y"
        },
        {
         "alignmentgroup": "True",
         "bingroup": "y",
         "histfunc": "sum",
         "hovertemplate": "Taxon=Zygoceros<br>sum of density_cell_l_sum=%{x}<br>Comments=%{y}<extra></extra>",
         "legendgroup": "Zygoceros",
         "marker": {
          "color": "#636efa",
          "pattern": {
           "shape": ""
          }
         },
         "name": "Zygoceros",
         "offsetgroup": "Zygoceros",
         "orientation": "h",
         "showlegend": true,
         "type": "histogram",
         "x": [
          8.26115496069547,
          71.4807208116978,
          152.347236951529,
          118.874701397166,
          28.2018257746789,
          52.8656388126352,
          28.4156142365098,
          86.0668368116101,
          49.7333584913155,
          136.549007548634,
          820.212803151258,
          12.1999790378367,
          61.4819060671754,
          56.7529903611659,
          167.510248459965,
          110.810421303784,
          101.477333009692,
          80.4985960544651,
          96.9897604310656,
          90.3811700655011,
          11.0896132840244
         ],
         "xaxis": "x",
         "y": [
          "130_1",
          "130_11",
          "130_12",
          "130_13",
          "130_14",
          "130_15",
          "130_16",
          "130_17",
          "130_18",
          "130_19",
          "130_2",
          "130_22",
          "130_23",
          "130_24",
          "130_25",
          "130_3",
          "130_4",
          "130_5",
          "130_6",
          "130_7",
          "130_8"
         ],
         "yaxis": "y"
        }
       ],
       "layout": {
        "autosize": false,
        "barmode": "relative",
        "font": {
         "family": "Arial",
         "size": 10
        },
        "height": 900,
        "legend": {
         "title": {
          "text": "Taxon"
         },
         "tracegroupgap": 0
        },
        "margin": {
         "t": 60
        },
        "template": {
         "data": {
          "bar": [
           {
            "error_x": {
             "color": "#2a3f5f"
            },
            "error_y": {
             "color": "#2a3f5f"
            },
            "marker": {
             "line": {
              "color": "#E5ECF6",
              "width": 0.5
             },
             "pattern": {
              "fillmode": "overlay",
              "size": 10,
              "solidity": 0.2
             }
            },
            "type": "bar"
           }
          ],
          "barpolar": [
           {
            "marker": {
             "line": {
              "color": "#E5ECF6",
              "width": 0.5
             },
             "pattern": {
              "fillmode": "overlay",
              "size": 10,
              "solidity": 0.2
             }
            },
            "type": "barpolar"
           }
          ],
          "carpet": [
           {
            "aaxis": {
             "endlinecolor": "#2a3f5f",
             "gridcolor": "white",
             "linecolor": "white",
             "minorgridcolor": "white",
             "startlinecolor": "#2a3f5f"
            },
            "baxis": {
             "endlinecolor": "#2a3f5f",
             "gridcolor": "white",
             "linecolor": "white",
             "minorgridcolor": "white",
             "startlinecolor": "#2a3f5f"
            },
            "type": "carpet"
           }
          ],
          "choropleth": [
           {
            "colorbar": {
             "outlinewidth": 0,
             "ticks": ""
            },
            "type": "choropleth"
           }
          ],
          "contour": [
           {
            "colorbar": {
             "outlinewidth": 0,
             "ticks": ""
            },
            "colorscale": [
             [
              0,
              "#0d0887"
             ],
             [
              0.1111111111111111,
              "#46039f"
             ],
             [
              0.2222222222222222,
              "#7201a8"
             ],
             [
              0.3333333333333333,
              "#9c179e"
             ],
             [
              0.4444444444444444,
              "#bd3786"
             ],
             [
              0.5555555555555556,
              "#d8576b"
             ],
             [
              0.6666666666666666,
              "#ed7953"
             ],
             [
              0.7777777777777778,
              "#fb9f3a"
             ],
             [
              0.8888888888888888,
              "#fdca26"
             ],
             [
              1,
              "#f0f921"
             ]
            ],
            "type": "contour"
           }
          ],
          "contourcarpet": [
           {
            "colorbar": {
             "outlinewidth": 0,
             "ticks": ""
            },
            "type": "contourcarpet"
           }
          ],
          "heatmap": [
           {
            "colorbar": {
             "outlinewidth": 0,
             "ticks": ""
            },
            "colorscale": [
             [
              0,
              "#0d0887"
             ],
             [
              0.1111111111111111,
              "#46039f"
             ],
             [
              0.2222222222222222,
              "#7201a8"
             ],
             [
              0.3333333333333333,
              "#9c179e"
             ],
             [
              0.4444444444444444,
              "#bd3786"
             ],
             [
              0.5555555555555556,
              "#d8576b"
             ],
             [
              0.6666666666666666,
              "#ed7953"
             ],
             [
              0.7777777777777778,
              "#fb9f3a"
             ],
             [
              0.8888888888888888,
              "#fdca26"
             ],
             [
              1,
              "#f0f921"
             ]
            ],
            "type": "heatmap"
           }
          ],
          "heatmapgl": [
           {
            "colorbar": {
             "outlinewidth": 0,
             "ticks": ""
            },
            "colorscale": [
             [
              0,
              "#0d0887"
             ],
             [
              0.1111111111111111,
              "#46039f"
             ],
             [
              0.2222222222222222,
              "#7201a8"
             ],
             [
              0.3333333333333333,
              "#9c179e"
             ],
             [
              0.4444444444444444,
              "#bd3786"
             ],
             [
              0.5555555555555556,
              "#d8576b"
             ],
             [
              0.6666666666666666,
              "#ed7953"
             ],
             [
              0.7777777777777778,
              "#fb9f3a"
             ],
             [
              0.8888888888888888,
              "#fdca26"
             ],
             [
              1,
              "#f0f921"
             ]
            ],
            "type": "heatmapgl"
           }
          ],
          "histogram": [
           {
            "marker": {
             "pattern": {
              "fillmode": "overlay",
              "size": 10,
              "solidity": 0.2
             }
            },
            "type": "histogram"
           }
          ],
          "histogram2d": [
           {
            "colorbar": {
             "outlinewidth": 0,
             "ticks": ""
            },
            "colorscale": [
             [
              0,
              "#0d0887"
             ],
             [
              0.1111111111111111,
              "#46039f"
             ],
             [
              0.2222222222222222,
              "#7201a8"
             ],
             [
              0.3333333333333333,
              "#9c179e"
             ],
             [
              0.4444444444444444,
              "#bd3786"
             ],
             [
              0.5555555555555556,
              "#d8576b"
             ],
             [
              0.6666666666666666,
              "#ed7953"
             ],
             [
              0.7777777777777778,
              "#fb9f3a"
             ],
             [
              0.8888888888888888,
              "#fdca26"
             ],
             [
              1,
              "#f0f921"
             ]
            ],
            "type": "histogram2d"
           }
          ],
          "histogram2dcontour": [
           {
            "colorbar": {
             "outlinewidth": 0,
             "ticks": ""
            },
            "colorscale": [
             [
              0,
              "#0d0887"
             ],
             [
              0.1111111111111111,
              "#46039f"
             ],
             [
              0.2222222222222222,
              "#7201a8"
             ],
             [
              0.3333333333333333,
              "#9c179e"
             ],
             [
              0.4444444444444444,
              "#bd3786"
             ],
             [
              0.5555555555555556,
              "#d8576b"
             ],
             [
              0.6666666666666666,
              "#ed7953"
             ],
             [
              0.7777777777777778,
              "#fb9f3a"
             ],
             [
              0.8888888888888888,
              "#fdca26"
             ],
             [
              1,
              "#f0f921"
             ]
            ],
            "type": "histogram2dcontour"
           }
          ],
          "mesh3d": [
           {
            "colorbar": {
             "outlinewidth": 0,
             "ticks": ""
            },
            "type": "mesh3d"
           }
          ],
          "parcoords": [
           {
            "line": {
             "colorbar": {
              "outlinewidth": 0,
              "ticks": ""
             }
            },
            "type": "parcoords"
           }
          ],
          "pie": [
           {
            "automargin": true,
            "type": "pie"
           }
          ],
          "scatter": [
           {
            "fillpattern": {
             "fillmode": "overlay",
             "size": 10,
             "solidity": 0.2
            },
            "type": "scatter"
           }
          ],
          "scatter3d": [
           {
            "line": {
             "colorbar": {
              "outlinewidth": 0,
              "ticks": ""
             }
            },
            "marker": {
             "colorbar": {
              "outlinewidth": 0,
              "ticks": ""
             }
            },
            "type": "scatter3d"
           }
          ],
          "scattercarpet": [
           {
            "marker": {
             "colorbar": {
              "outlinewidth": 0,
              "ticks": ""
             }
            },
            "type": "scattercarpet"
           }
          ],
          "scattergeo": [
           {
            "marker": {
             "colorbar": {
              "outlinewidth": 0,
              "ticks": ""
             }
            },
            "type": "scattergeo"
           }
          ],
          "scattergl": [
           {
            "marker": {
             "colorbar": {
              "outlinewidth": 0,
              "ticks": ""
             }
            },
            "type": "scattergl"
           }
          ],
          "scattermapbox": [
           {
            "marker": {
             "colorbar": {
              "outlinewidth": 0,
              "ticks": ""
             }
            },
            "type": "scattermapbox"
           }
          ],
          "scatterpolar": [
           {
            "marker": {
             "colorbar": {
              "outlinewidth": 0,
              "ticks": ""
             }
            },
            "type": "scatterpolar"
           }
          ],
          "scatterpolargl": [
           {
            "marker": {
             "colorbar": {
              "outlinewidth": 0,
              "ticks": ""
             }
            },
            "type": "scatterpolargl"
           }
          ],
          "scatterternary": [
           {
            "marker": {
             "colorbar": {
              "outlinewidth": 0,
              "ticks": ""
             }
            },
            "type": "scatterternary"
           }
          ],
          "surface": [
           {
            "colorbar": {
             "outlinewidth": 0,
             "ticks": ""
            },
            "colorscale": [
             [
              0,
              "#0d0887"
             ],
             [
              0.1111111111111111,
              "#46039f"
             ],
             [
              0.2222222222222222,
              "#7201a8"
             ],
             [
              0.3333333333333333,
              "#9c179e"
             ],
             [
              0.4444444444444444,
              "#bd3786"
             ],
             [
              0.5555555555555556,
              "#d8576b"
             ],
             [
              0.6666666666666666,
              "#ed7953"
             ],
             [
              0.7777777777777778,
              "#fb9f3a"
             ],
             [
              0.8888888888888888,
              "#fdca26"
             ],
             [
              1,
              "#f0f921"
             ]
            ],
            "type": "surface"
           }
          ],
          "table": [
           {
            "cells": {
             "fill": {
              "color": "#EBF0F8"
             },
             "line": {
              "color": "white"
             }
            },
            "header": {
             "fill": {
              "color": "#C8D4E3"
             },
             "line": {
              "color": "white"
             }
            },
            "type": "table"
           }
          ]
         },
         "layout": {
          "annotationdefaults": {
           "arrowcolor": "#2a3f5f",
           "arrowhead": 0,
           "arrowwidth": 1
          },
          "autotypenumbers": "strict",
          "coloraxis": {
           "colorbar": {
            "outlinewidth": 0,
            "ticks": ""
           }
          },
          "colorscale": {
           "diverging": [
            [
             0,
             "#8e0152"
            ],
            [
             0.1,
             "#c51b7d"
            ],
            [
             0.2,
             "#de77ae"
            ],
            [
             0.3,
             "#f1b6da"
            ],
            [
             0.4,
             "#fde0ef"
            ],
            [
             0.5,
             "#f7f7f7"
            ],
            [
             0.6,
             "#e6f5d0"
            ],
            [
             0.7,
             "#b8e186"
            ],
            [
             0.8,
             "#7fbc41"
            ],
            [
             0.9,
             "#4d9221"
            ],
            [
             1,
             "#276419"
            ]
           ],
           "sequential": [
            [
             0,
             "#0d0887"
            ],
            [
             0.1111111111111111,
             "#46039f"
            ],
            [
             0.2222222222222222,
             "#7201a8"
            ],
            [
             0.3333333333333333,
             "#9c179e"
            ],
            [
             0.4444444444444444,
             "#bd3786"
            ],
            [
             0.5555555555555556,
             "#d8576b"
            ],
            [
             0.6666666666666666,
             "#ed7953"
            ],
            [
             0.7777777777777778,
             "#fb9f3a"
            ],
            [
             0.8888888888888888,
             "#fdca26"
            ],
            [
             1,
             "#f0f921"
            ]
           ],
           "sequentialminus": [
            [
             0,
             "#0d0887"
            ],
            [
             0.1111111111111111,
             "#46039f"
            ],
            [
             0.2222222222222222,
             "#7201a8"
            ],
            [
             0.3333333333333333,
             "#9c179e"
            ],
            [
             0.4444444444444444,
             "#bd3786"
            ],
            [
             0.5555555555555556,
             "#d8576b"
            ],
            [
             0.6666666666666666,
             "#ed7953"
            ],
            [
             0.7777777777777778,
             "#fb9f3a"
            ],
            [
             0.8888888888888888,
             "#fdca26"
            ],
            [
             1,
             "#f0f921"
            ]
           ]
          },
          "colorway": [
           "#636efa",
           "#EF553B",
           "#00cc96",
           "#ab63fa",
           "#FFA15A",
           "#19d3f3",
           "#FF6692",
           "#B6E880",
           "#FF97FF",
           "#FECB52"
          ],
          "font": {
           "color": "#2a3f5f"
          },
          "geo": {
           "bgcolor": "white",
           "lakecolor": "white",
           "landcolor": "#E5ECF6",
           "showlakes": true,
           "showland": true,
           "subunitcolor": "white"
          },
          "hoverlabel": {
           "align": "left"
          },
          "hovermode": "closest",
          "mapbox": {
           "style": "light"
          },
          "paper_bgcolor": "white",
          "plot_bgcolor": "#E5ECF6",
          "polar": {
           "angularaxis": {
            "gridcolor": "white",
            "linecolor": "white",
            "ticks": ""
           },
           "bgcolor": "#E5ECF6",
           "radialaxis": {
            "gridcolor": "white",
            "linecolor": "white",
            "ticks": ""
           }
          },
          "scene": {
           "xaxis": {
            "backgroundcolor": "#E5ECF6",
            "gridcolor": "white",
            "gridwidth": 2,
            "linecolor": "white",
            "showbackground": true,
            "ticks": "",
            "zerolinecolor": "white"
           },
           "yaxis": {
            "backgroundcolor": "#E5ECF6",
            "gridcolor": "white",
            "gridwidth": 2,
            "linecolor": "white",
            "showbackground": true,
            "ticks": "",
            "zerolinecolor": "white"
           },
           "zaxis": {
            "backgroundcolor": "#E5ECF6",
            "gridcolor": "white",
            "gridwidth": 2,
            "linecolor": "white",
            "showbackground": true,
            "ticks": "",
            "zerolinecolor": "white"
           }
          },
          "shapedefaults": {
           "line": {
            "color": "#2a3f5f"
           }
          },
          "ternary": {
           "aaxis": {
            "gridcolor": "white",
            "linecolor": "white",
            "ticks": ""
           },
           "baxis": {
            "gridcolor": "white",
            "linecolor": "white",
            "ticks": ""
           },
           "bgcolor": "#E5ECF6",
           "caxis": {
            "gridcolor": "white",
            "linecolor": "white",
            "ticks": ""
           }
          },
          "title": {
           "x": 0.05
          },
          "xaxis": {
           "automargin": true,
           "gridcolor": "white",
           "linecolor": "white",
           "ticks": "",
           "title": {
            "standoff": 15
           },
           "zerolinecolor": "white",
           "zerolinewidth": 2
          },
          "yaxis": {
           "automargin": true,
           "gridcolor": "white",
           "linecolor": "white",
           "ticks": "",
           "title": {
            "standoff": 15
           },
           "zerolinecolor": "white",
           "zerolinewidth": 2
          }
         }
        },
        "title": {},
        "width": 900,
        "xaxis": {
         "anchor": "y",
         "domain": [
          0,
          1
         ],
         "title": {
          "text": "cell density per L per month"
         }
        },
        "yaxis": {
         "anchor": "x",
         "categoryarray": [
          "130_25",
          "130_24",
          "130_23",
          "130_22",
          "130_21",
          "130_20",
          "130_19",
          "130_18",
          "130_17",
          "130_16",
          "130_15",
          "130_14",
          "130_13",
          "130_12",
          "130_11",
          "130_10",
          "130_8",
          "130_7",
          "130_6",
          "130_5",
          "130_4",
          "130_3",
          "130_2",
          "130_1"
         ],
         "categoryorder": "array",
         "domain": [
          0,
          1
         ],
         "title": {
          "text": "Month"
         }
        }
       }
      }
     },
     "metadata": {},
     "output_type": "display_data"
    }
   ],
   "source": [
    "for station in ['51', '130']:\n",
    "    grouped_df = flowcam[flowcam['Station'] == station][['Taxon', 'Comments', 'density_cell_L_sample']].groupby(['Taxon', 'Comments']).agg({'density_cell_L_sample':['sum', 'mean', 'min', 'max']})\n",
    "    grouped_df.columns = ['density_cell_l_sum', 'density_cell_l_mean', 'density_cell_l_min', 'density_cell_l_max']\n",
    "    grouped_df  = grouped_df.reset_index()\n",
    "\n",
    "    # Normalise sum of cell density values to the total cells per L of that month\n",
    "    grouped_df['rel_cell_density_l_per_sample'] = grouped_df.density_cell_l_mean / grouped_df.groupby('Comments').density_cell_l_mean.transform('sum')\n",
    "\n",
    "    # Extract and sort samples numerically\n",
    "    sample_order = sorted(grouped_df['Comments'].unique(), key=lambda x: int(x.split('_')[1]))\n",
    "    grouped_df['Comments'] = pd.Categorical(grouped_df['Comments'], categories=sample_order, ordered=True)\n",
    "    \n",
    "    # Plot\n",
    "    fig = px.histogram(grouped_df, \n",
    "                    x='density_cell_l_sum', \n",
    "                    y='Comments', \n",
    "                    color='Taxon',\n",
    "                    orientation='h',\n",
    "                    category_orders={'Comments': list(sample_order)}\n",
    "                    )\n",
    "\n",
    "    fig.update_layout(\n",
    "        title=None,\n",
    "        xaxis_title='sum of cells per L',\n",
    "        yaxis_title='Month',  # Set the y-axis title\n",
    "        font=dict(\n",
    "            family='Arial',\n",
    "            size=10\n",
    "        ),\n",
    "        autosize=False,\n",
    "        width=900,\n",
    "        height=900,\n",
    "        xaxis_title_text='cell density per L per month'\n",
    "    )\n",
    "    fig.write_html(f\"../figures/phytoplankton/{station}_relative_cell_density_per_L.html\")\n",
    "    fig.show()"
   ]
  },
  {
   "cell_type": "code",
   "execution_count": 5,
   "metadata": {},
   "outputs": [
    {
     "data": {
      "text/html": [
       "<div>\n",
       "<style scoped>\n",
       "    .dataframe tbody tr th:only-of-type {\n",
       "        vertical-align: middle;\n",
       "    }\n",
       "\n",
       "    .dataframe tbody tr th {\n",
       "        vertical-align: top;\n",
       "    }\n",
       "\n",
       "    .dataframe thead th {\n",
       "        text-align: right;\n",
       "    }\n",
       "</style>\n",
       "<table border=\"1\" class=\"dataframe\">\n",
       "  <thead>\n",
       "    <tr style=\"text-align: right;\">\n",
       "      <th></th>\n",
       "      <th>Taxon</th>\n",
       "      <th>Comments</th>\n",
       "      <th>density_cell_L_sample</th>\n",
       "      <th>Station</th>\n",
       "      <th>Station_suffix</th>\n",
       "      <th>Taxon_grouped</th>\n",
       "    </tr>\n",
       "  </thead>\n",
       "  <tbody>\n",
       "    <tr>\n",
       "      <th>0</th>\n",
       "      <td>Actinoptychus</td>\n",
       "      <td>130_1</td>\n",
       "      <td>24.789550</td>\n",
       "      <td>130</td>\n",
       "      <td>1</td>\n",
       "      <td>Bacillariophyta</td>\n",
       "    </tr>\n",
       "    <tr>\n",
       "      <th>1</th>\n",
       "      <td>Bacillariophyceae</td>\n",
       "      <td>130_1</td>\n",
       "      <td>107.416445</td>\n",
       "      <td>130</td>\n",
       "      <td>1</td>\n",
       "      <td>Bacillariophyta</td>\n",
       "    </tr>\n",
       "    <tr>\n",
       "      <th>2</th>\n",
       "      <td>Bellerochea horologicalis</td>\n",
       "      <td>130_1</td>\n",
       "      <td>82.626233</td>\n",
       "      <td>130</td>\n",
       "      <td>1</td>\n",
       "      <td>Bacillariophyta</td>\n",
       "    </tr>\n",
       "    <tr>\n",
       "      <th>3</th>\n",
       "      <td>Biddulphianae</td>\n",
       "      <td>130_1</td>\n",
       "      <td>99.150792</td>\n",
       "      <td>130</td>\n",
       "      <td>1</td>\n",
       "      <td>Bacillariophyta</td>\n",
       "    </tr>\n",
       "    <tr>\n",
       "      <th>5</th>\n",
       "      <td>Centric Diatom</td>\n",
       "      <td>130_1</td>\n",
       "      <td>99.149866</td>\n",
       "      <td>130</td>\n",
       "      <td>1</td>\n",
       "      <td>Bacillariophyta</td>\n",
       "    </tr>\n",
       "  </tbody>\n",
       "</table>\n",
       "</div>"
      ],
      "text/plain": [
       "                       Taxon Comments  density_cell_L_sample Station  \\\n",
       "0              Actinoptychus    130_1              24.789550     130   \n",
       "1          Bacillariophyceae    130_1             107.416445     130   \n",
       "2  Bellerochea horologicalis    130_1              82.626233     130   \n",
       "3              Biddulphianae    130_1              99.150792     130   \n",
       "5             Centric Diatom    130_1              99.149866     130   \n",
       "\n",
       "  Station_suffix    Taxon_grouped  \n",
       "0              1  Bacillariophyta  \n",
       "1              1  Bacillariophyta  \n",
       "2              1  Bacillariophyta  \n",
       "3              1  Bacillariophyta  \n",
       "5              1  Bacillariophyta  "
      ]
     },
     "execution_count": 5,
     "metadata": {},
     "output_type": "execute_result"
    }
   ],
   "source": [
    "# Group taxon levels into new identifiers\n",
    "flowcam['Taxon']\n",
    "\n",
    "diatoms = ['Actinoptychus','Actinoptychus senarius','Actinoptychus splendens','Bacillaria paxillifer','Bacillariophyceae','Bacteriastrum',\n",
    "           'Bellerochea horologicalis','Biddulphianae', 'Brockmanniella brockmannii', 'Centric Diatom','Ceratium horridum/C. longipes','Chaetoceros','Chaetoceros danicus',\n",
    "           'Cerataulus granulata','Cerataulina pelagica', 'Bellerochea', 'Dactyliosolen/Cerataulina/Guinardia','Diploneis','Ditylum brightwellii','Eucampia','Guinardia delicatula','Guinardia flaccida',\n",
    "           'Guinardia striata/Dactyliosolen phuketensis','Helicotheca tamesis','Hobaniella longicruris','Lauderia/Melosira/Detonula', 'Thalassiosira/Porosira',\n",
    "           'Lithodesmium undulatum','Long (chained) diatom','Melosira','Neocalyptrella robusta','Odontella rhombus f. trigona','Paralia', 'Asterionella',\n",
    "           'Pennate Diatom','Proboscia indica','Protoperidinium','Pseudo-nitzschia','Rhizosolenia','Rhizosolenia setigera (f. pungens)/R. hebetata f. semispina',\n",
    "           'Skeletonema','Stellarima stellaris/Podosira/Hyalodiscus','Synedra/Thalassionema','Triceratium favus','Trieres mobiliensis/T. regia','Trieres sinensis',\n",
    "           'Zygoceros','Aulacodiscus argus','Biddulphia alternans','Chaetoceros socialis','Coscinodiscus concinnus','Coscinodiscus granii','Coscinodiscus wailesii',\n",
    "           'Foraminifera','Leptocylindraceae','Plagiogrammopsis/Bellerochea malleus','Stephanopyxis','Thalassiosira/Porosira''Asterionella', 'Auliscus', 'Chaetoceros curvisetus/C. pseudocurvisetus',\n",
    "           'Meuniera membranacea', 'Odontella type 1', 'Proboscia', 'Proboscia alata', 'Ralfsiella smithii', 'Thalassiosira punctigera', 'Plagiogrammopsis vanheurckii', '(Pseudo-)pediastrum', \n",
    "       'Odontella aurita/Ralfsiella minima', 'Odontella rhombus var. trigona', 'Epiphytic diatom', 'Pennate diatom colony']\n",
    "\n",
    "dinoflagellates = ['Ceratium horridum/C. longipes', 'Dinoflagellata', 'Dinoflagellate cyst', 'Noctiluca scintillans', 'Noctilucales', 'Protoperidinium', 'Protoperidinium pentagonum',\n",
    "                   'Pseudo-nitzschia', 'Tripos', 'Tripos fusus', 'Tripos:part', 'Protoperidinium depressum', 'Dinophysis', 'Gymnodiniales', 'Tripos lineatus', 'Dissodinium pseudolunula']\n",
    "\n",
    "prymnesiophyceae = ['Phytoplankton Colony'] # Phytoplankton colonies are phaeocystis parts\n",
    "\n",
    "ciliates = ['Favella', 'Tintinnid cyst', 'Tintinnina', 'Tintinnopsis', 'Xystonella', 'Amphorellopsis','Ciliophora','Euntintinnus', \n",
    "            'Peritrichia', 'Strombidium', 'Ciliophora:part', 'Suctoria']\n",
    "\n",
    "mollusca = ['Mollusca', 'Mollusca incertae', 'Veliger larvae D-shaped']\n",
    "\n",
    "crustaceae = ['Nauplii', 'Decapoda', 'Copepoda adult', 'Crustacea']\n",
    "\n",
    "annelida = ['Polychaeta']\n",
    "\n",
    "echinodermata = ['Ophiuroidea/Echinoidea larvae']\n",
    "\n",
    "radiolaria = ['Nassellaria', 'Radiozoa incertae']\n",
    "\n",
    "# Swap the taxon names for the new identifiers\n",
    "flowcam['Taxon_grouped'] = flowcam['Taxon'].replace(diatoms, 'Bacillariophyta')\n",
    "flowcam['Taxon_grouped'] = flowcam['Taxon_grouped'].replace(dinoflagellates, 'Dinophyceae')\n",
    "flowcam['Taxon_grouped'] = flowcam['Taxon_grouped'].replace(prymnesiophyceae, 'Prymnesiophyceae')\n",
    "flowcam['Taxon_grouped'] = flowcam['Taxon_grouped'].replace(ciliates, 'Ciliates')\n",
    "flowcam['Taxon_grouped'] = flowcam['Taxon_grouped'].replace(mollusca, 'Mollusca')\n",
    "flowcam['Taxon_grouped'] = flowcam['Taxon_grouped'].replace(crustaceae, 'Arthropoda')\n",
    "flowcam['Taxon_grouped'] = flowcam['Taxon_grouped'].replace(annelida, 'Annelida')\n",
    "flowcam['Taxon_grouped'] = flowcam['Taxon_grouped'].replace(echinodermata, 'Echinodermata')\n",
    "flowcam['Taxon_grouped'] = flowcam['Taxon_grouped'].replace(radiolaria, 'Radiolaria')\n",
    "\n",
    "flowcam.head()"
   ]
  },
  {
   "cell_type": "code",
   "execution_count": 6,
   "metadata": {},
   "outputs": [
    {
     "name": "stdout",
     "output_type": "stream",
     "text": [
      "    Station                      Taxon  density_cell_L_sample\n",
      "44      130       Phytoplankton Colony          159092.584283\n",
      "47      130           Pseudo-nitzschia           32413.969888\n",
      "43      130             Pennate Diatom           17785.825581\n",
      "12      130             Centric Diatom           10935.996383\n",
      "11      130              Biddulphianae            9951.316952\n",
      "58      130           Trieres sinensis            9019.259881\n",
      "32      130      Long (chained) diatom            6349.688768\n",
      "8       130          Bacillariophyceae            5156.982598\n",
      "9       130                Bellerochea            3617.458501\n",
      "24      130       Ditylum brightwellii            3500.012225\n",
      "114      51                  Zygoceros            1506.926956\n",
      "71       51              Biddulphianae            1299.413661\n",
      "72       51             Centric Diatom             875.440249\n",
      "102      51       Phytoplankton Colony             702.114423\n",
      "92       51      Long (chained) diatom             587.996325\n",
      "112      51           Trieres sinensis             527.746848\n",
      "70       51  Bellerochea horologicalis             505.713402\n",
      "95       51                    Nauplii             497.322463\n",
      "97       51               Noctilucales             334.624755\n",
      "99       51                    Paralia             251.294011\n"
     ]
    }
   ],
   "source": [
    "# What are the most abundanct diatom taxa per station?\n",
    "# Create a dataframe with the most abundant taxa per station\n",
    "most_abundant_taxa = flowcam.groupby(['Station', 'Taxon'])['density_cell_L_sample'].sum().reset_index()\n",
    "most_abundant_taxa = most_abundant_taxa.sort_values(by='density_cell_L_sample', ascending=False)\n",
    "print(most_abundant_taxa.groupby('Station').head(10))"
   ]
  },
  {
   "cell_type": "code",
   "execution_count": 7,
   "metadata": {},
   "outputs": [
    {
     "data": {
      "application/vnd.plotly.v1+json": {
       "config": {
        "plotlyServerURL": "https://plot.ly"
       },
       "data": [
        {
         "alignmentgroup": "True",
         "bingroup": "y",
         "histfunc": "sum",
         "hovertemplate": "Taxon_grouped=Rare<br>sum of rel_occurrence=%{x}<br>Sample=%{y}<extra></extra>",
         "legendgroup": "Rare",
         "marker": {
          "color": "#545454",
          "pattern": {
           "shape": ""
          }
         },
         "name": "Rare",
         "offsetgroup": "Rare",
         "orientation": "h",
         "showlegend": true,
         "type": "histogram",
         "x": [
          0.006861165548682817,
          0.005145798640358716,
          0.0037305284603084956,
          0.009050685076742811,
          0.0015336662885153222,
          0.0010299202592306453,
          0.008087913726018173,
          0.0059759679219449245,
          0.002286258549830028,
          0.002286258549830028,
          0.007143763671648685,
          0.0023048001360069007,
          0.006171972243056887,
          0.003342769224712726,
          0.0028214392679568024,
          0.008911764401899653,
          0.005863683745655825,
          0.0068028848420123396,
          0.006803320582206217,
          0.007008272082594727,
          0.009205770089402283,
          0.00890647527952226,
          0.004632296039913503,
          0.005454349193408433,
          0.005454349193408433
         ],
         "xaxis": "x",
         "y": [
          "1",
          "1",
          "10",
          "11",
          "11",
          "12",
          "15",
          "17",
          "19",
          "19",
          "2",
          "2",
          "21",
          "3",
          "4",
          "4",
          "4",
          "5",
          "5",
          "7",
          "7",
          "8",
          "8",
          "9",
          "9"
         ],
         "yaxis": "y"
        },
        {
         "alignmentgroup": "True",
         "bingroup": "y",
         "histfunc": "sum",
         "hovertemplate": "Taxon_grouped=Bacillariophyta<br>sum of rel_occurrence=%{x}<br>Sample=%{y}<extra></extra>",
         "legendgroup": "Bacillariophyta",
         "marker": {
          "color": "#E69F00",
          "pattern": {
           "shape": ""
          }
         },
         "name": "Bacillariophyta",
         "offsetgroup": "Bacillariophyta",
         "orientation": "h",
         "showlegend": true,
         "type": "histogram",
         "x": [
          0.850771537489968,
          0.7784370420855404,
          0.7592346770774575,
          0.9423275986577877,
          0.8512949125215878,
          0.813861398980748,
          0.8429685156518957,
          0.5384552522088504,
          0.7714234476813824,
          0.7032636975569948,
          0.7818200605876696,
          0.9444647615744216,
          0.8866120649071239,
          0.83065933012807,
          0.7684737154258734,
          0.8095261954472398,
          0.8399908337918326,
          0.8099084922472181,
          0.8715733224452282,
          0.8329060253672429
         ],
         "xaxis": "x",
         "y": [
          "1",
          "10",
          "11",
          "12",
          "13",
          "15",
          "16",
          "17",
          "18",
          "19",
          "2",
          "20",
          "21",
          "3",
          "4",
          "5",
          "6",
          "7",
          "8",
          "9"
         ],
         "yaxis": "y"
        },
        {
         "alignmentgroup": "True",
         "bingroup": "y",
         "histfunc": "sum",
         "hovertemplate": "Taxon_grouped=Dinophyceae<br>sum of rel_occurrence=%{x}<br>Sample=%{y}<extra></extra>",
         "legendgroup": "Dinophyceae",
         "marker": {
          "color": "#56B4E9",
          "pattern": {
           "shape": ""
          }
         },
         "name": "Dinophyceae",
         "offsetgroup": "Dinophyceae",
         "orientation": "h",
         "showlegend": true,
         "type": "histogram",
         "x": [
          0.05831824557311101,
          0.03357475614277655,
          0.03227360330370469,
          0.0164776357891397,
          0.014789486947292464,
          0.028794631515992746,
          0.02137494780236392,
          0.06950763078880152,
          0.025911673794917,
          0.011930196928241191,
          0.030525707397148008,
          0.13441488302130525,
          0.14965714899760393,
          0.038294045648827706,
          0.12655406193124188,
          0.04510541065483726,
          0.050692958039775665
         ],
         "xaxis": "x",
         "y": [
          "1",
          "10",
          "11",
          "12",
          "13",
          "15",
          "17",
          "19",
          "2",
          "21",
          "3",
          "4",
          "5",
          "6",
          "7",
          "8",
          "9"
         ],
         "yaxis": "y"
        },
        {
         "alignmentgroup": "True",
         "bingroup": "y",
         "histfunc": "sum",
         "hovertemplate": "Taxon_grouped=Prymnesiophyceae<br>sum of rel_occurrence=%{x}<br>Sample=%{y}<extra></extra>",
         "legendgroup": "Prymnesiophyceae",
         "marker": {
          "color": "#009E73",
          "pattern": {
           "shape": ""
          }
         },
         "name": "Prymnesiophyceae",
         "offsetgroup": "Prymnesiophyceae",
         "orientation": "h",
         "showlegend": true,
         "type": "histogram",
         "x": [
          0.07834109766647877,
          0.0759695602761161,
          0.012358218596300876,
          0.09406397780803699,
          0.395387980476713,
          0.09286071118838404,
          0.15587772609740236,
          0.059155273308578296,
          0.057697770307005264,
          0.04586131314850898
         ],
         "xaxis": "x",
         "y": [
          "10",
          "11",
          "12",
          "16",
          "17",
          "18",
          "19",
          "2",
          "21",
          "6"
         ],
         "yaxis": "y"
        },
        {
         "alignmentgroup": "True",
         "bingroup": "y",
         "histfunc": "sum",
         "hovertemplate": "Taxon_grouped=Arthropoda<br>sum of rel_occurrence=%{x}<br>Sample=%{y}<extra></extra>",
         "legendgroup": "Arthropoda",
         "marker": {
          "color": "#0072B2",
          "pattern": {
           "shape": ""
          }
         },
         "name": "Arthropoda",
         "offsetgroup": "Arthropoda",
         "orientation": "h",
         "showlegend": true,
         "type": "histogram",
         "x": [
          0.07890325274787943,
          0.07449487500060636,
          0.11181743837265544,
          0.027806626697540936,
          0.13391560053111953,
          0.048616567745664446,
          0.03880585159012779,
          0.10000109787259616,
          0.06677842845714116,
          0.12366442850117948,
          0.031810732430771586,
          0.023246850800995648,
          0.12377243405912715,
          0.07951451413730917,
          0.027210450130937768,
          0.04000528638770186,
          0.04732340364954313,
          0.06978249558049865,
          0.10549231820616456
         ],
         "xaxis": "x",
         "y": [
          "1",
          "10",
          "11",
          "12",
          "13",
          "15",
          "17",
          "18",
          "19",
          "2",
          "20",
          "21",
          "3",
          "4",
          "5",
          "6",
          "7",
          "8",
          "9"
         ],
         "yaxis": "y"
        },
        {
         "alignmentgroup": "True",
         "bingroup": "y",
         "histfunc": "sum",
         "hovertemplate": "Taxon_grouped=Mollusca<br>sum of rel_occurrence=%{x}<br>Sample=%{y}<extra></extra>",
         "legendgroup": "Mollusca",
         "marker": {
          "color": "#89CE00",
          "pattern": {
           "shape": ""
          }
         },
         "name": "Mollusca",
         "offsetgroup": "Mollusca",
         "orientation": "h",
         "showlegend": true,
         "type": "histogram",
         "x": [
          0.03142170064428935,
          0.010120369604808156,
          0.10063948803157644,
          0.06296750654006746,
          0.014285348368010322,
          0.013131077380430843,
          0.014341144813577275,
          0.011699759190942204,
          0.014893257741659822
         ],
         "xaxis": "x",
         "y": [
          "10",
          "11",
          "15",
          "16",
          "18",
          "20",
          "21",
          "3",
          "6"
         ],
         "yaxis": "y"
        },
        {
         "alignmentgroup": "True",
         "bingroup": "y",
         "histfunc": "sum",
         "hovertemplate": "Taxon_grouped=Ciliates<br>sum of rel_occurrence=%{x}<br>Sample=%{y}<extra></extra>",
         "legendgroup": "Ciliates",
         "marker": {
          "color": "#F0E442",
          "pattern": {
           "shape": ""
          }
         },
         "name": "Ciliates",
         "offsetgroup": "Ciliates",
         "orientation": "h",
         "showlegend": true,
         "type": "histogram",
         "x": [
          0.021429394889627074,
          0.010593428614375936,
          0.020955263281469093
         ],
         "xaxis": "x",
         "y": [
          "18",
          "20",
          "6"
         ],
         "yaxis": "y"
        }
       ],
       "layout": {
        "autosize": false,
        "barmode": "relative",
        "font": {
         "color": "black",
         "family": "Arial",
         "size": 11
        },
        "height": 340.1574803149606,
        "legend": {
         "title": {
          "text": "Taxon_grouped"
         },
         "tracegroupgap": 0
        },
        "margin": {
         "b": 25,
         "l": 0,
         "r": 25,
         "t": 25
        },
        "showlegend": false,
        "template": {
         "data": {
          "bar": [
           {
            "error_x": {
             "color": "#2a3f5f"
            },
            "error_y": {
             "color": "#2a3f5f"
            },
            "marker": {
             "line": {
              "color": "#E5ECF6",
              "width": 0.5
             },
             "pattern": {
              "fillmode": "overlay",
              "size": 10,
              "solidity": 0.2
             }
            },
            "type": "bar"
           }
          ],
          "barpolar": [
           {
            "marker": {
             "line": {
              "color": "#E5ECF6",
              "width": 0.5
             },
             "pattern": {
              "fillmode": "overlay",
              "size": 10,
              "solidity": 0.2
             }
            },
            "type": "barpolar"
           }
          ],
          "carpet": [
           {
            "aaxis": {
             "endlinecolor": "#2a3f5f",
             "gridcolor": "white",
             "linecolor": "white",
             "minorgridcolor": "white",
             "startlinecolor": "#2a3f5f"
            },
            "baxis": {
             "endlinecolor": "#2a3f5f",
             "gridcolor": "white",
             "linecolor": "white",
             "minorgridcolor": "white",
             "startlinecolor": "#2a3f5f"
            },
            "type": "carpet"
           }
          ],
          "choropleth": [
           {
            "colorbar": {
             "outlinewidth": 0,
             "ticks": ""
            },
            "type": "choropleth"
           }
          ],
          "contour": [
           {
            "colorbar": {
             "outlinewidth": 0,
             "ticks": ""
            },
            "colorscale": [
             [
              0,
              "#0d0887"
             ],
             [
              0.1111111111111111,
              "#46039f"
             ],
             [
              0.2222222222222222,
              "#7201a8"
             ],
             [
              0.3333333333333333,
              "#9c179e"
             ],
             [
              0.4444444444444444,
              "#bd3786"
             ],
             [
              0.5555555555555556,
              "#d8576b"
             ],
             [
              0.6666666666666666,
              "#ed7953"
             ],
             [
              0.7777777777777778,
              "#fb9f3a"
             ],
             [
              0.8888888888888888,
              "#fdca26"
             ],
             [
              1,
              "#f0f921"
             ]
            ],
            "type": "contour"
           }
          ],
          "contourcarpet": [
           {
            "colorbar": {
             "outlinewidth": 0,
             "ticks": ""
            },
            "type": "contourcarpet"
           }
          ],
          "heatmap": [
           {
            "colorbar": {
             "outlinewidth": 0,
             "ticks": ""
            },
            "colorscale": [
             [
              0,
              "#0d0887"
             ],
             [
              0.1111111111111111,
              "#46039f"
             ],
             [
              0.2222222222222222,
              "#7201a8"
             ],
             [
              0.3333333333333333,
              "#9c179e"
             ],
             [
              0.4444444444444444,
              "#bd3786"
             ],
             [
              0.5555555555555556,
              "#d8576b"
             ],
             [
              0.6666666666666666,
              "#ed7953"
             ],
             [
              0.7777777777777778,
              "#fb9f3a"
             ],
             [
              0.8888888888888888,
              "#fdca26"
             ],
             [
              1,
              "#f0f921"
             ]
            ],
            "type": "heatmap"
           }
          ],
          "heatmapgl": [
           {
            "colorbar": {
             "outlinewidth": 0,
             "ticks": ""
            },
            "colorscale": [
             [
              0,
              "#0d0887"
             ],
             [
              0.1111111111111111,
              "#46039f"
             ],
             [
              0.2222222222222222,
              "#7201a8"
             ],
             [
              0.3333333333333333,
              "#9c179e"
             ],
             [
              0.4444444444444444,
              "#bd3786"
             ],
             [
              0.5555555555555556,
              "#d8576b"
             ],
             [
              0.6666666666666666,
              "#ed7953"
             ],
             [
              0.7777777777777778,
              "#fb9f3a"
             ],
             [
              0.8888888888888888,
              "#fdca26"
             ],
             [
              1,
              "#f0f921"
             ]
            ],
            "type": "heatmapgl"
           }
          ],
          "histogram": [
           {
            "marker": {
             "pattern": {
              "fillmode": "overlay",
              "size": 10,
              "solidity": 0.2
             }
            },
            "type": "histogram"
           }
          ],
          "histogram2d": [
           {
            "colorbar": {
             "outlinewidth": 0,
             "ticks": ""
            },
            "colorscale": [
             [
              0,
              "#0d0887"
             ],
             [
              0.1111111111111111,
              "#46039f"
             ],
             [
              0.2222222222222222,
              "#7201a8"
             ],
             [
              0.3333333333333333,
              "#9c179e"
             ],
             [
              0.4444444444444444,
              "#bd3786"
             ],
             [
              0.5555555555555556,
              "#d8576b"
             ],
             [
              0.6666666666666666,
              "#ed7953"
             ],
             [
              0.7777777777777778,
              "#fb9f3a"
             ],
             [
              0.8888888888888888,
              "#fdca26"
             ],
             [
              1,
              "#f0f921"
             ]
            ],
            "type": "histogram2d"
           }
          ],
          "histogram2dcontour": [
           {
            "colorbar": {
             "outlinewidth": 0,
             "ticks": ""
            },
            "colorscale": [
             [
              0,
              "#0d0887"
             ],
             [
              0.1111111111111111,
              "#46039f"
             ],
             [
              0.2222222222222222,
              "#7201a8"
             ],
             [
              0.3333333333333333,
              "#9c179e"
             ],
             [
              0.4444444444444444,
              "#bd3786"
             ],
             [
              0.5555555555555556,
              "#d8576b"
             ],
             [
              0.6666666666666666,
              "#ed7953"
             ],
             [
              0.7777777777777778,
              "#fb9f3a"
             ],
             [
              0.8888888888888888,
              "#fdca26"
             ],
             [
              1,
              "#f0f921"
             ]
            ],
            "type": "histogram2dcontour"
           }
          ],
          "mesh3d": [
           {
            "colorbar": {
             "outlinewidth": 0,
             "ticks": ""
            },
            "type": "mesh3d"
           }
          ],
          "parcoords": [
           {
            "line": {
             "colorbar": {
              "outlinewidth": 0,
              "ticks": ""
             }
            },
            "type": "parcoords"
           }
          ],
          "pie": [
           {
            "automargin": true,
            "type": "pie"
           }
          ],
          "scatter": [
           {
            "fillpattern": {
             "fillmode": "overlay",
             "size": 10,
             "solidity": 0.2
            },
            "type": "scatter"
           }
          ],
          "scatter3d": [
           {
            "line": {
             "colorbar": {
              "outlinewidth": 0,
              "ticks": ""
             }
            },
            "marker": {
             "colorbar": {
              "outlinewidth": 0,
              "ticks": ""
             }
            },
            "type": "scatter3d"
           }
          ],
          "scattercarpet": [
           {
            "marker": {
             "colorbar": {
              "outlinewidth": 0,
              "ticks": ""
             }
            },
            "type": "scattercarpet"
           }
          ],
          "scattergeo": [
           {
            "marker": {
             "colorbar": {
              "outlinewidth": 0,
              "ticks": ""
             }
            },
            "type": "scattergeo"
           }
          ],
          "scattergl": [
           {
            "marker": {
             "colorbar": {
              "outlinewidth": 0,
              "ticks": ""
             }
            },
            "type": "scattergl"
           }
          ],
          "scattermapbox": [
           {
            "marker": {
             "colorbar": {
              "outlinewidth": 0,
              "ticks": ""
             }
            },
            "type": "scattermapbox"
           }
          ],
          "scatterpolar": [
           {
            "marker": {
             "colorbar": {
              "outlinewidth": 0,
              "ticks": ""
             }
            },
            "type": "scatterpolar"
           }
          ],
          "scatterpolargl": [
           {
            "marker": {
             "colorbar": {
              "outlinewidth": 0,
              "ticks": ""
             }
            },
            "type": "scatterpolargl"
           }
          ],
          "scatterternary": [
           {
            "marker": {
             "colorbar": {
              "outlinewidth": 0,
              "ticks": ""
             }
            },
            "type": "scatterternary"
           }
          ],
          "surface": [
           {
            "colorbar": {
             "outlinewidth": 0,
             "ticks": ""
            },
            "colorscale": [
             [
              0,
              "#0d0887"
             ],
             [
              0.1111111111111111,
              "#46039f"
             ],
             [
              0.2222222222222222,
              "#7201a8"
             ],
             [
              0.3333333333333333,
              "#9c179e"
             ],
             [
              0.4444444444444444,
              "#bd3786"
             ],
             [
              0.5555555555555556,
              "#d8576b"
             ],
             [
              0.6666666666666666,
              "#ed7953"
             ],
             [
              0.7777777777777778,
              "#fb9f3a"
             ],
             [
              0.8888888888888888,
              "#fdca26"
             ],
             [
              1,
              "#f0f921"
             ]
            ],
            "type": "surface"
           }
          ],
          "table": [
           {
            "cells": {
             "fill": {
              "color": "#EBF0F8"
             },
             "line": {
              "color": "white"
             }
            },
            "header": {
             "fill": {
              "color": "#C8D4E3"
             },
             "line": {
              "color": "white"
             }
            },
            "type": "table"
           }
          ]
         },
         "layout": {
          "annotationdefaults": {
           "arrowcolor": "#2a3f5f",
           "arrowhead": 0,
           "arrowwidth": 1
          },
          "autotypenumbers": "strict",
          "coloraxis": {
           "colorbar": {
            "outlinewidth": 0,
            "ticks": ""
           }
          },
          "colorscale": {
           "diverging": [
            [
             0,
             "#8e0152"
            ],
            [
             0.1,
             "#c51b7d"
            ],
            [
             0.2,
             "#de77ae"
            ],
            [
             0.3,
             "#f1b6da"
            ],
            [
             0.4,
             "#fde0ef"
            ],
            [
             0.5,
             "#f7f7f7"
            ],
            [
             0.6,
             "#e6f5d0"
            ],
            [
             0.7,
             "#b8e186"
            ],
            [
             0.8,
             "#7fbc41"
            ],
            [
             0.9,
             "#4d9221"
            ],
            [
             1,
             "#276419"
            ]
           ],
           "sequential": [
            [
             0,
             "#0d0887"
            ],
            [
             0.1111111111111111,
             "#46039f"
            ],
            [
             0.2222222222222222,
             "#7201a8"
            ],
            [
             0.3333333333333333,
             "#9c179e"
            ],
            [
             0.4444444444444444,
             "#bd3786"
            ],
            [
             0.5555555555555556,
             "#d8576b"
            ],
            [
             0.6666666666666666,
             "#ed7953"
            ],
            [
             0.7777777777777778,
             "#fb9f3a"
            ],
            [
             0.8888888888888888,
             "#fdca26"
            ],
            [
             1,
             "#f0f921"
            ]
           ],
           "sequentialminus": [
            [
             0,
             "#0d0887"
            ],
            [
             0.1111111111111111,
             "#46039f"
            ],
            [
             0.2222222222222222,
             "#7201a8"
            ],
            [
             0.3333333333333333,
             "#9c179e"
            ],
            [
             0.4444444444444444,
             "#bd3786"
            ],
            [
             0.5555555555555556,
             "#d8576b"
            ],
            [
             0.6666666666666666,
             "#ed7953"
            ],
            [
             0.7777777777777778,
             "#fb9f3a"
            ],
            [
             0.8888888888888888,
             "#fdca26"
            ],
            [
             1,
             "#f0f921"
            ]
           ]
          },
          "colorway": [
           "#636efa",
           "#EF553B",
           "#00cc96",
           "#ab63fa",
           "#FFA15A",
           "#19d3f3",
           "#FF6692",
           "#B6E880",
           "#FF97FF",
           "#FECB52"
          ],
          "font": {
           "color": "#2a3f5f"
          },
          "geo": {
           "bgcolor": "white",
           "lakecolor": "white",
           "landcolor": "#E5ECF6",
           "showlakes": true,
           "showland": true,
           "subunitcolor": "white"
          },
          "hoverlabel": {
           "align": "left"
          },
          "hovermode": "closest",
          "mapbox": {
           "style": "light"
          },
          "paper_bgcolor": "white",
          "plot_bgcolor": "#E5ECF6",
          "polar": {
           "angularaxis": {
            "gridcolor": "white",
            "linecolor": "white",
            "ticks": ""
           },
           "bgcolor": "#E5ECF6",
           "radialaxis": {
            "gridcolor": "white",
            "linecolor": "white",
            "ticks": ""
           }
          },
          "scene": {
           "xaxis": {
            "backgroundcolor": "#E5ECF6",
            "gridcolor": "white",
            "gridwidth": 2,
            "linecolor": "white",
            "showbackground": true,
            "ticks": "",
            "zerolinecolor": "white"
           },
           "yaxis": {
            "backgroundcolor": "#E5ECF6",
            "gridcolor": "white",
            "gridwidth": 2,
            "linecolor": "white",
            "showbackground": true,
            "ticks": "",
            "zerolinecolor": "white"
           },
           "zaxis": {
            "backgroundcolor": "#E5ECF6",
            "gridcolor": "white",
            "gridwidth": 2,
            "linecolor": "white",
            "showbackground": true,
            "ticks": "",
            "zerolinecolor": "white"
           }
          },
          "shapedefaults": {
           "line": {
            "color": "#2a3f5f"
           }
          },
          "ternary": {
           "aaxis": {
            "gridcolor": "white",
            "linecolor": "white",
            "ticks": ""
           },
           "baxis": {
            "gridcolor": "white",
            "linecolor": "white",
            "ticks": ""
           },
           "bgcolor": "#E5ECF6",
           "caxis": {
            "gridcolor": "white",
            "linecolor": "white",
            "ticks": ""
           }
          },
          "title": {
           "x": 0.05
          },
          "xaxis": {
           "automargin": true,
           "gridcolor": "white",
           "linecolor": "white",
           "ticks": "",
           "title": {
            "standoff": 15
           },
           "zerolinecolor": "white",
           "zerolinewidth": 2
          },
          "yaxis": {
           "automargin": true,
           "gridcolor": "white",
           "linecolor": "white",
           "ticks": "",
           "title": {
            "standoff": 15
           },
           "zerolinecolor": "white",
           "zerolinewidth": 2
          }
         }
        },
        "title": {
         "text": "Station 51"
        },
        "width": 264.56692913385825,
        "xaxis": {
         "anchor": "y",
         "domain": [
          0,
          1
         ],
         "title": {
          "text": "Relative Phytoplankton Abundance"
         }
        },
        "yaxis": {
         "anchor": "x",
         "categoryarray": [
          "25",
          "24",
          "23",
          "22",
          "21",
          "20",
          "19",
          "18",
          "17",
          "16",
          "15",
          "14",
          "13",
          "12",
          "11",
          "10",
          "9",
          "8",
          "7",
          "6",
          "5",
          "4",
          "3",
          "2",
          "1"
         ],
         "categoryorder": "array",
         "domain": [
          0,
          1
         ],
         "title": {
          "text": ""
         }
        }
       }
      }
     },
     "metadata": {},
     "output_type": "display_data"
    },
    {
     "data": {
      "application/vnd.plotly.v1+json": {
       "config": {
        "plotlyServerURL": "https://plot.ly"
       },
       "data": [
        {
         "alignmentgroup": "True",
         "bingroup": "y",
         "histfunc": "sum",
         "hovertemplate": "Taxon_grouped=Rare<br>sum of rel_occurrence=%{x}<br>Sample=%{y}<extra></extra>",
         "legendgroup": "Rare",
         "marker": {
          "color": "#545454",
          "pattern": {
           "shape": ""
          }
         },
         "name": "Rare",
         "offsetgroup": "Rare",
         "orientation": "h",
         "showlegend": true,
         "type": "histogram",
         "x": [
          0.0035081360598008798,
          0.0035090911285507458,
          0.0013849369742696387,
          0.006456779551003688,
          0.0013849369742696387,
          0.008903568373045876,
          0.0013141677646515838,
          0.000494284326007454,
          0.007762082599378882,
          0.0013119158561688165,
          0.003916235294749399,
          0.0006462975775342755,
          0.00484316744029169,
          0.0035242149546728715,
          0.009691887391248117,
          0.004405240484051236,
          0.0008811101721572185,
          0.0016322675400651885,
          0.0018560088292161247,
          0.00532485371444105,
          0.0030892001154516086,
          0.005063292472286264,
          0.0012658231180715683,
          0.0063292574570168,
          0.0019443386213912367,
          0.0064329841483651996,
          0.009708153382761008,
          0.0032360511275870097,
          0.0019183930951472922,
          0.005283966824308333,
          0.003007118613266173,
          0.001519641384393326,
          0.0017647230475639313,
          0.005588274224325251,
          0.002089439526667885,
          0.008959630920938036,
          0.002794137112162634,
          0.004531059560746505,
          0.0008365853015005817,
          0.0041292402666435425,
          0.005414791595473001,
          0.004945172225312991,
          0.0008365853015005817,
          0.008403815945437092,
          0.005986629515451659,
          0.004985623539160337,
          0.004523807721336881,
          0.0027292624752541365,
          0.002046946856440609,
          0.00706707049506161,
          0.0034443747498646418,
          0.0011480146242777785,
          0.004592609974528587,
          0.0009504752179116668,
          0.007443045203872092,
          0.0009504752179116668,
          0.007020351940798347,
          0.001900950435823331,
          0.0009612610504882246,
          0.005652285887860763,
          0.0009612610504882246,
          0.004098506971715237,
          0.008196751433176231,
          0.0040982444698676535,
          0.004098506971715237,
          0.000616464923989928,
          0.0025989646588093955,
          0.0013736296646235352,
          0.00891187282808492,
          0.0021848215270182983,
          0.0025311430083549418,
          0.0034567561936149705,
          0.0010290712640890533,
          0.003345320560982569,
          0.0023275095219777633,
          0.0061851984871409875,
          0.0034702287430499724,
          0.0015264702088763147,
          0.003782966276558149,
          0.0006490584064304868,
          0.0007520305227183903,
          0.00602462619640345,
          0.0034567931736870323,
          0.0028328787319436646
         ],
         "xaxis": "x",
         "y": [
          "1",
          "1",
          "10",
          "10",
          "10",
          "10",
          "10",
          "11",
          "11",
          "12",
          "12",
          "12",
          "12",
          "13",
          "13",
          "13",
          "13",
          "14",
          "14",
          "14",
          "14",
          "15",
          "15",
          "15",
          "16",
          "16",
          "17",
          "17",
          "18",
          "18",
          "19",
          "19",
          "19",
          "2",
          "2",
          "2",
          "2",
          "20",
          "20",
          "20",
          "20",
          "20",
          "20",
          "21",
          "21",
          "21",
          "21",
          "22",
          "22",
          "22",
          "23",
          "23",
          "23",
          "24",
          "24",
          "24",
          "24",
          "24",
          "25",
          "25",
          "25",
          "3",
          "3",
          "3",
          "3",
          "4",
          "4",
          "4",
          "4",
          "5",
          "5",
          "5",
          "6",
          "6",
          "6",
          "6",
          "7",
          "7",
          "7",
          "7",
          "8",
          "8",
          "8",
          "8"
         ],
         "yaxis": "y"
        },
        {
         "alignmentgroup": "True",
         "bingroup": "y",
         "histfunc": "sum",
         "hovertemplate": "Taxon_grouped=Bacillariophyta<br>sum of rel_occurrence=%{x}<br>Sample=%{y}<extra></extra>",
         "legendgroup": "Bacillariophyta",
         "marker": {
          "color": "#E69F00",
          "pattern": {
           "shape": ""
          }
         },
         "name": "Bacillariophyta",
         "offsetgroup": "Bacillariophyta",
         "orientation": "h",
         "showlegend": true,
         "type": "histogram",
         "x": [
          0.6701726862908369,
          0.5518352085232996,
          0.17236882880248958,
          0.18111353814999803,
          0.7867840782338182,
          0.8213888160768563,
          0.5936708196117616,
          0.8483813353918388,
          0.8543693581144346,
          0.6041252992746342,
          0.18093624478904077,
          0.4869157650912291,
          0.31004350519268226,
          0.8315271563346079,
          0.7740898351805425,
          0.36968898020006385,
          0.38654121315266227,
          0.756133538832837,
          0.7786879737681616,
          0.17893167395748674,
          0.4882252071256492,
          0.32636256325269947,
          0.8460977385196268,
          0.6403718048620135
         ],
         "xaxis": "x",
         "y": [
          "1",
          "10",
          "11",
          "12",
          "13",
          "14",
          "15",
          "16",
          "17",
          "18",
          "19",
          "2",
          "20",
          "21",
          "22",
          "23",
          "24",
          "25",
          "3",
          "4",
          "5",
          "6",
          "7",
          "8"
         ],
         "yaxis": "y"
        },
        {
         "alignmentgroup": "True",
         "bingroup": "y",
         "histfunc": "sum",
         "hovertemplate": "Taxon_grouped=Dinophyceae<br>sum of rel_occurrence=%{x}<br>Sample=%{y}<extra></extra>",
         "legendgroup": "Dinophyceae",
         "marker": {
          "color": "#56B4E9",
          "pattern": {
           "shape": ""
          }
         },
         "name": "Dinophyceae",
         "offsetgroup": "Dinophyceae",
         "orientation": "h",
         "showlegend": true,
         "type": "histogram",
         "x": [
          0.0982488761505096,
          0.028193663208441196,
          0.06325382130288233,
          0.1949360508888989,
          0.06594923407966231,
          0.05177971929478693,
          0.021827801628676573,
          0.030849004026479776,
          0.024589729321053504,
          0.013320986270640609
         ],
         "xaxis": "x",
         "y": [
          "1",
          "13",
          "14",
          "15",
          "16",
          "17",
          "22",
          "25",
          "3",
          "7"
         ],
         "yaxis": "y"
        },
        {
         "alignmentgroup": "True",
         "bingroup": "y",
         "histfunc": "sum",
         "hovertemplate": "Taxon_grouped=Prymnesiophyceae<br>sum of rel_occurrence=%{x}<br>Sample=%{y}<extra></extra>",
         "legendgroup": "Prymnesiophyceae",
         "marker": {
          "color": "#009E73",
          "pattern": {
           "shape": ""
          }
         },
         "name": "Prymnesiophyceae",
         "offsetgroup": "Prymnesiophyceae",
         "orientation": "h",
         "showlegend": true,
         "type": "histogram",
         "x": [
          0.19649190878576536,
          0.42872040183946003,
          0.819374804272124,
          0.8081688456812578,
          0.1444933633349594,
          0.07825217720240032,
          0.18481049949207026,
          0.052143865288137,
          0.08090671808043061,
          0.373732301990423,
          0.8127722721657358,
          0.49365275312467705,
          0.6692630605561407,
          0.12766447422720317,
          0.16237040968933694,
          0.6211260204512651,
          0.5951934888310206,
          0.18772613319142462,
          0.17623028706431046,
          0.8075673939670054,
          0.5036020721453627,
          0.6607503369131101,
          0.10324875907364235,
          0.3191081673050539
         ],
         "xaxis": "x",
         "y": [
          "1",
          "10",
          "11",
          "12",
          "13",
          "14",
          "15",
          "16",
          "17",
          "18",
          "19",
          "2",
          "20",
          "21",
          "22",
          "23",
          "24",
          "25",
          "3",
          "4",
          "5",
          "6",
          "7",
          "8"
         ],
         "yaxis": "y"
        },
        {
         "alignmentgroup": "True",
         "bingroup": "y",
         "histfunc": "sum",
         "hovertemplate": "Taxon_grouped=Arthropoda<br>sum of rel_occurrence=%{x}<br>Sample=%{y}<extra></extra>",
         "legendgroup": "Arthropoda",
         "marker": {
          "color": "#0072B2",
          "pattern": {
           "shape": ""
          }
         },
         "name": "Arthropoda",
         "offsetgroup": "Arthropoda",
         "orientation": "h",
         "showlegend": true,
         "type": "histogram",
         "x": [
          0.014033892334078788,
          0.02202644222065178,
          0.025202855218687037,
          0.013924256959894495,
          0.025148242470605545,
          0.014940038815487148,
          0.016908492716802902,
          0.018493217131531237,
          0.017716515960421574,
          0.012584339026667495,
          0.01473422202344339
         ],
         "xaxis": "x",
         "y": [
          "1",
          "13",
          "14",
          "15",
          "16",
          "18",
          "21",
          "22",
          "25",
          "7",
          "8"
         ],
         "yaxis": "y"
        },
        {
         "alignmentgroup": "True",
         "bingroup": "y",
         "histfunc": "sum",
         "hovertemplate": "Taxon_grouped=Ciliates<br>sum of rel_occurrence=%{x}<br>Sample=%{y}<extra></extra>",
         "legendgroup": "Ciliates",
         "marker": {
          "color": "#F0E442",
          "pattern": {
           "shape": ""
          }
         },
         "name": "Ciliates",
         "offsetgroup": "Ciliates",
         "orientation": "h",
         "showlegend": true,
         "type": "histogram",
         "x": [
          0.014035409250457653
         ],
         "xaxis": "x",
         "y": [
          "1"
         ],
         "yaxis": "y"
        },
        {
         "alignmentgroup": "True",
         "bingroup": "y",
         "histfunc": "sum",
         "hovertemplate": "Taxon_grouped=Annelida<br>sum of rel_occurrence=%{x}<br>Sample=%{y}<extra></extra>",
         "legendgroup": "Annelida",
         "marker": {
          "color": "#D55E00",
          "pattern": {
           "shape": ""
          }
         },
         "name": "Annelida",
         "offsetgroup": "Annelida",
         "orientation": "h",
         "showlegend": true,
         "type": "histogram",
         "x": [
          0.011375456543156462,
          0.012719477184736566
         ],
         "xaxis": "x",
         "y": [
          "22",
          "8"
         ],
         "yaxis": "y"
        },
        {
         "alignmentgroup": "True",
         "bingroup": "y",
         "histfunc": "sum",
         "hovertemplate": "Taxon_grouped=Mollusca<br>sum of rel_occurrence=%{x}<br>Sample=%{y}<extra></extra>",
         "legendgroup": "Mollusca",
         "marker": {
          "color": "#89CE00",
          "pattern": {
           "shape": ""
          }
         },
         "name": "Mollusca",
         "offsetgroup": "Mollusca",
         "orientation": "h",
         "showlegend": true,
         "type": "histogram",
         "x": [
          0.015319453474507878
         ],
         "xaxis": "x",
         "y": [
          "7"
         ],
         "yaxis": "y"
        }
       ],
       "layout": {
        "autosize": false,
        "barmode": "relative",
        "font": {
         "color": "black",
         "family": "Arial",
         "size": 11
        },
        "height": 340.1574803149606,
        "legend": {
         "title": {
          "text": "Taxon_grouped"
         },
         "tracegroupgap": 0
        },
        "margin": {
         "b": 25,
         "l": 0,
         "r": 25,
         "t": 25
        },
        "showlegend": false,
        "template": {
         "data": {
          "bar": [
           {
            "error_x": {
             "color": "#2a3f5f"
            },
            "error_y": {
             "color": "#2a3f5f"
            },
            "marker": {
             "line": {
              "color": "#E5ECF6",
              "width": 0.5
             },
             "pattern": {
              "fillmode": "overlay",
              "size": 10,
              "solidity": 0.2
             }
            },
            "type": "bar"
           }
          ],
          "barpolar": [
           {
            "marker": {
             "line": {
              "color": "#E5ECF6",
              "width": 0.5
             },
             "pattern": {
              "fillmode": "overlay",
              "size": 10,
              "solidity": 0.2
             }
            },
            "type": "barpolar"
           }
          ],
          "carpet": [
           {
            "aaxis": {
             "endlinecolor": "#2a3f5f",
             "gridcolor": "white",
             "linecolor": "white",
             "minorgridcolor": "white",
             "startlinecolor": "#2a3f5f"
            },
            "baxis": {
             "endlinecolor": "#2a3f5f",
             "gridcolor": "white",
             "linecolor": "white",
             "minorgridcolor": "white",
             "startlinecolor": "#2a3f5f"
            },
            "type": "carpet"
           }
          ],
          "choropleth": [
           {
            "colorbar": {
             "outlinewidth": 0,
             "ticks": ""
            },
            "type": "choropleth"
           }
          ],
          "contour": [
           {
            "colorbar": {
             "outlinewidth": 0,
             "ticks": ""
            },
            "colorscale": [
             [
              0,
              "#0d0887"
             ],
             [
              0.1111111111111111,
              "#46039f"
             ],
             [
              0.2222222222222222,
              "#7201a8"
             ],
             [
              0.3333333333333333,
              "#9c179e"
             ],
             [
              0.4444444444444444,
              "#bd3786"
             ],
             [
              0.5555555555555556,
              "#d8576b"
             ],
             [
              0.6666666666666666,
              "#ed7953"
             ],
             [
              0.7777777777777778,
              "#fb9f3a"
             ],
             [
              0.8888888888888888,
              "#fdca26"
             ],
             [
              1,
              "#f0f921"
             ]
            ],
            "type": "contour"
           }
          ],
          "contourcarpet": [
           {
            "colorbar": {
             "outlinewidth": 0,
             "ticks": ""
            },
            "type": "contourcarpet"
           }
          ],
          "heatmap": [
           {
            "colorbar": {
             "outlinewidth": 0,
             "ticks": ""
            },
            "colorscale": [
             [
              0,
              "#0d0887"
             ],
             [
              0.1111111111111111,
              "#46039f"
             ],
             [
              0.2222222222222222,
              "#7201a8"
             ],
             [
              0.3333333333333333,
              "#9c179e"
             ],
             [
              0.4444444444444444,
              "#bd3786"
             ],
             [
              0.5555555555555556,
              "#d8576b"
             ],
             [
              0.6666666666666666,
              "#ed7953"
             ],
             [
              0.7777777777777778,
              "#fb9f3a"
             ],
             [
              0.8888888888888888,
              "#fdca26"
             ],
             [
              1,
              "#f0f921"
             ]
            ],
            "type": "heatmap"
           }
          ],
          "heatmapgl": [
           {
            "colorbar": {
             "outlinewidth": 0,
             "ticks": ""
            },
            "colorscale": [
             [
              0,
              "#0d0887"
             ],
             [
              0.1111111111111111,
              "#46039f"
             ],
             [
              0.2222222222222222,
              "#7201a8"
             ],
             [
              0.3333333333333333,
              "#9c179e"
             ],
             [
              0.4444444444444444,
              "#bd3786"
             ],
             [
              0.5555555555555556,
              "#d8576b"
             ],
             [
              0.6666666666666666,
              "#ed7953"
             ],
             [
              0.7777777777777778,
              "#fb9f3a"
             ],
             [
              0.8888888888888888,
              "#fdca26"
             ],
             [
              1,
              "#f0f921"
             ]
            ],
            "type": "heatmapgl"
           }
          ],
          "histogram": [
           {
            "marker": {
             "pattern": {
              "fillmode": "overlay",
              "size": 10,
              "solidity": 0.2
             }
            },
            "type": "histogram"
           }
          ],
          "histogram2d": [
           {
            "colorbar": {
             "outlinewidth": 0,
             "ticks": ""
            },
            "colorscale": [
             [
              0,
              "#0d0887"
             ],
             [
              0.1111111111111111,
              "#46039f"
             ],
             [
              0.2222222222222222,
              "#7201a8"
             ],
             [
              0.3333333333333333,
              "#9c179e"
             ],
             [
              0.4444444444444444,
              "#bd3786"
             ],
             [
              0.5555555555555556,
              "#d8576b"
             ],
             [
              0.6666666666666666,
              "#ed7953"
             ],
             [
              0.7777777777777778,
              "#fb9f3a"
             ],
             [
              0.8888888888888888,
              "#fdca26"
             ],
             [
              1,
              "#f0f921"
             ]
            ],
            "type": "histogram2d"
           }
          ],
          "histogram2dcontour": [
           {
            "colorbar": {
             "outlinewidth": 0,
             "ticks": ""
            },
            "colorscale": [
             [
              0,
              "#0d0887"
             ],
             [
              0.1111111111111111,
              "#46039f"
             ],
             [
              0.2222222222222222,
              "#7201a8"
             ],
             [
              0.3333333333333333,
              "#9c179e"
             ],
             [
              0.4444444444444444,
              "#bd3786"
             ],
             [
              0.5555555555555556,
              "#d8576b"
             ],
             [
              0.6666666666666666,
              "#ed7953"
             ],
             [
              0.7777777777777778,
              "#fb9f3a"
             ],
             [
              0.8888888888888888,
              "#fdca26"
             ],
             [
              1,
              "#f0f921"
             ]
            ],
            "type": "histogram2dcontour"
           }
          ],
          "mesh3d": [
           {
            "colorbar": {
             "outlinewidth": 0,
             "ticks": ""
            },
            "type": "mesh3d"
           }
          ],
          "parcoords": [
           {
            "line": {
             "colorbar": {
              "outlinewidth": 0,
              "ticks": ""
             }
            },
            "type": "parcoords"
           }
          ],
          "pie": [
           {
            "automargin": true,
            "type": "pie"
           }
          ],
          "scatter": [
           {
            "fillpattern": {
             "fillmode": "overlay",
             "size": 10,
             "solidity": 0.2
            },
            "type": "scatter"
           }
          ],
          "scatter3d": [
           {
            "line": {
             "colorbar": {
              "outlinewidth": 0,
              "ticks": ""
             }
            },
            "marker": {
             "colorbar": {
              "outlinewidth": 0,
              "ticks": ""
             }
            },
            "type": "scatter3d"
           }
          ],
          "scattercarpet": [
           {
            "marker": {
             "colorbar": {
              "outlinewidth": 0,
              "ticks": ""
             }
            },
            "type": "scattercarpet"
           }
          ],
          "scattergeo": [
           {
            "marker": {
             "colorbar": {
              "outlinewidth": 0,
              "ticks": ""
             }
            },
            "type": "scattergeo"
           }
          ],
          "scattergl": [
           {
            "marker": {
             "colorbar": {
              "outlinewidth": 0,
              "ticks": ""
             }
            },
            "type": "scattergl"
           }
          ],
          "scattermapbox": [
           {
            "marker": {
             "colorbar": {
              "outlinewidth": 0,
              "ticks": ""
             }
            },
            "type": "scattermapbox"
           }
          ],
          "scatterpolar": [
           {
            "marker": {
             "colorbar": {
              "outlinewidth": 0,
              "ticks": ""
             }
            },
            "type": "scatterpolar"
           }
          ],
          "scatterpolargl": [
           {
            "marker": {
             "colorbar": {
              "outlinewidth": 0,
              "ticks": ""
             }
            },
            "type": "scatterpolargl"
           }
          ],
          "scatterternary": [
           {
            "marker": {
             "colorbar": {
              "outlinewidth": 0,
              "ticks": ""
             }
            },
            "type": "scatterternary"
           }
          ],
          "surface": [
           {
            "colorbar": {
             "outlinewidth": 0,
             "ticks": ""
            },
            "colorscale": [
             [
              0,
              "#0d0887"
             ],
             [
              0.1111111111111111,
              "#46039f"
             ],
             [
              0.2222222222222222,
              "#7201a8"
             ],
             [
              0.3333333333333333,
              "#9c179e"
             ],
             [
              0.4444444444444444,
              "#bd3786"
             ],
             [
              0.5555555555555556,
              "#d8576b"
             ],
             [
              0.6666666666666666,
              "#ed7953"
             ],
             [
              0.7777777777777778,
              "#fb9f3a"
             ],
             [
              0.8888888888888888,
              "#fdca26"
             ],
             [
              1,
              "#f0f921"
             ]
            ],
            "type": "surface"
           }
          ],
          "table": [
           {
            "cells": {
             "fill": {
              "color": "#EBF0F8"
             },
             "line": {
              "color": "white"
             }
            },
            "header": {
             "fill": {
              "color": "#C8D4E3"
             },
             "line": {
              "color": "white"
             }
            },
            "type": "table"
           }
          ]
         },
         "layout": {
          "annotationdefaults": {
           "arrowcolor": "#2a3f5f",
           "arrowhead": 0,
           "arrowwidth": 1
          },
          "autotypenumbers": "strict",
          "coloraxis": {
           "colorbar": {
            "outlinewidth": 0,
            "ticks": ""
           }
          },
          "colorscale": {
           "diverging": [
            [
             0,
             "#8e0152"
            ],
            [
             0.1,
             "#c51b7d"
            ],
            [
             0.2,
             "#de77ae"
            ],
            [
             0.3,
             "#f1b6da"
            ],
            [
             0.4,
             "#fde0ef"
            ],
            [
             0.5,
             "#f7f7f7"
            ],
            [
             0.6,
             "#e6f5d0"
            ],
            [
             0.7,
             "#b8e186"
            ],
            [
             0.8,
             "#7fbc41"
            ],
            [
             0.9,
             "#4d9221"
            ],
            [
             1,
             "#276419"
            ]
           ],
           "sequential": [
            [
             0,
             "#0d0887"
            ],
            [
             0.1111111111111111,
             "#46039f"
            ],
            [
             0.2222222222222222,
             "#7201a8"
            ],
            [
             0.3333333333333333,
             "#9c179e"
            ],
            [
             0.4444444444444444,
             "#bd3786"
            ],
            [
             0.5555555555555556,
             "#d8576b"
            ],
            [
             0.6666666666666666,
             "#ed7953"
            ],
            [
             0.7777777777777778,
             "#fb9f3a"
            ],
            [
             0.8888888888888888,
             "#fdca26"
            ],
            [
             1,
             "#f0f921"
            ]
           ],
           "sequentialminus": [
            [
             0,
             "#0d0887"
            ],
            [
             0.1111111111111111,
             "#46039f"
            ],
            [
             0.2222222222222222,
             "#7201a8"
            ],
            [
             0.3333333333333333,
             "#9c179e"
            ],
            [
             0.4444444444444444,
             "#bd3786"
            ],
            [
             0.5555555555555556,
             "#d8576b"
            ],
            [
             0.6666666666666666,
             "#ed7953"
            ],
            [
             0.7777777777777778,
             "#fb9f3a"
            ],
            [
             0.8888888888888888,
             "#fdca26"
            ],
            [
             1,
             "#f0f921"
            ]
           ]
          },
          "colorway": [
           "#636efa",
           "#EF553B",
           "#00cc96",
           "#ab63fa",
           "#FFA15A",
           "#19d3f3",
           "#FF6692",
           "#B6E880",
           "#FF97FF",
           "#FECB52"
          ],
          "font": {
           "color": "#2a3f5f"
          },
          "geo": {
           "bgcolor": "white",
           "lakecolor": "white",
           "landcolor": "#E5ECF6",
           "showlakes": true,
           "showland": true,
           "subunitcolor": "white"
          },
          "hoverlabel": {
           "align": "left"
          },
          "hovermode": "closest",
          "mapbox": {
           "style": "light"
          },
          "paper_bgcolor": "white",
          "plot_bgcolor": "#E5ECF6",
          "polar": {
           "angularaxis": {
            "gridcolor": "white",
            "linecolor": "white",
            "ticks": ""
           },
           "bgcolor": "#E5ECF6",
           "radialaxis": {
            "gridcolor": "white",
            "linecolor": "white",
            "ticks": ""
           }
          },
          "scene": {
           "xaxis": {
            "backgroundcolor": "#E5ECF6",
            "gridcolor": "white",
            "gridwidth": 2,
            "linecolor": "white",
            "showbackground": true,
            "ticks": "",
            "zerolinecolor": "white"
           },
           "yaxis": {
            "backgroundcolor": "#E5ECF6",
            "gridcolor": "white",
            "gridwidth": 2,
            "linecolor": "white",
            "showbackground": true,
            "ticks": "",
            "zerolinecolor": "white"
           },
           "zaxis": {
            "backgroundcolor": "#E5ECF6",
            "gridcolor": "white",
            "gridwidth": 2,
            "linecolor": "white",
            "showbackground": true,
            "ticks": "",
            "zerolinecolor": "white"
           }
          },
          "shapedefaults": {
           "line": {
            "color": "#2a3f5f"
           }
          },
          "ternary": {
           "aaxis": {
            "gridcolor": "white",
            "linecolor": "white",
            "ticks": ""
           },
           "baxis": {
            "gridcolor": "white",
            "linecolor": "white",
            "ticks": ""
           },
           "bgcolor": "#E5ECF6",
           "caxis": {
            "gridcolor": "white",
            "linecolor": "white",
            "ticks": ""
           }
          },
          "title": {
           "x": 0.05
          },
          "xaxis": {
           "automargin": true,
           "gridcolor": "white",
           "linecolor": "white",
           "ticks": "",
           "title": {
            "standoff": 15
           },
           "zerolinecolor": "white",
           "zerolinewidth": 2
          },
          "yaxis": {
           "automargin": true,
           "gridcolor": "white",
           "linecolor": "white",
           "ticks": "",
           "title": {
            "standoff": 15
           },
           "zerolinecolor": "white",
           "zerolinewidth": 2
          }
         }
        },
        "title": {
         "text": "Station 130"
        },
        "width": 264.56692913385825,
        "xaxis": {
         "anchor": "y",
         "domain": [
          0,
          1
         ],
         "title": {
          "text": "Relative Phytoplankton Abundance"
         }
        },
        "yaxis": {
         "anchor": "x",
         "categoryarray": [
          "25",
          "24",
          "23",
          "22",
          "21",
          "20",
          "19",
          "18",
          "17",
          "16",
          "15",
          "14",
          "13",
          "12",
          "11",
          "10",
          "9",
          "8",
          "7",
          "6",
          "5",
          "4",
          "3",
          "2",
          "1"
         ],
         "categoryorder": "array",
         "domain": [
          0,
          1
         ],
         "title": {
          "text": ""
         }
        }
       }
      }
     },
     "metadata": {},
     "output_type": "display_data"
    }
   ],
   "source": [
    "stations = ['51', '130']\n",
    "\n",
    "cm_to_px = 96 / 2.54  # Conversion factor from centimeters to pixels\n",
    "width_in_cm = 7\n",
    "height_in_cm = 9\n",
    "\n",
    "tax_colors = {}\n",
    "\n",
    "for station in stations:\n",
    "    grouped_df = flowcam[flowcam['Station'] == station][['Comments', 'Taxon_grouped', 'density_cell_L_sample']]\n",
    "    grouped_df = grouped_df.groupby(['Comments', 'Taxon_grouped']).agg({'density_cell_L_sample':'sum'}).reset_index()\n",
    "    \n",
    "    grouped_df[\"rel_occurrence\"] = grouped_df.groupby(['Comments'])['density_cell_L_sample'].transform(lambda x: x / x.sum())\n",
    "    \n",
    "    # Split station into prefix and suffix and change to integer\n",
    "    grouped_df['Sample'] = [x.split('_')[1] for x in grouped_df['Comments']]\n",
    "    \n",
    "    # Combine low-abundance taxa into a single category\n",
    "    grouped_df.loc[grouped_df['rel_occurrence'] < 0.01, 'Taxon_grouped'] = 'Rare'\n",
    "    \n",
    "    fig = px.histogram(grouped_df.sort_values([\"Sample\", 'Taxon_grouped'], ascending=[True, True]), \n",
    "                x=\"rel_occurrence\",\n",
    "                y=\"Sample\",\n",
    "                color='Taxon_grouped',\n",
    "                category_orders={\n",
    "                    \"Sample\": ['1', '2', '3', '4', '5', '6', '7', '8', '9', '10',\n",
    "                               '11', '12', '13', '14', '15', '16', '17', '18', '19', '20',\n",
    "                               '21', '22', '23', '24', '25'],\n",
    "                    \"Taxon_grouped\": [\"Rare\", \"Bacillariophyta\", \"Dinophyceae\",\n",
    "                                      \"Prymnesiophyceae\"]\n",
    "                },\n",
    "                color_discrete_map={\n",
    "                    \"Rare\": \"#545454\",\n",
    "                    \"Bacillariophyta\": \"#E69F00\",\n",
    "                    \"Dinophyceae\": \"#56B4E9\",\n",
    "                    \"Prymnesiophyceae\": \"#009E73\",\n",
    "                    \"Ciliates\": \"#F0E442\",\n",
    "                    \"Arthropoda\": \"#0072B2\",\n",
    "                    \"Annelida\": \"#D55E00\",\n",
    "                    \"Craniata\": \"#CC79A7\",\n",
    "                    \"Urocordata\": \"#B5B5B5\",\n",
    "                    \"Echinodermata\": \"#55EEFF\",\n",
    "                    \"Cnidaria\": \"#A42324\",\n",
    "                    \"Mollusca\": \"#89CE00\",\n",
    "                    \"Detritus\": \"#808080\",\n",
    "                    \"Rotifera\": \"#EAD506\",\n",
    "                    \"Radiolaria\": \"#06EA0D\"\n",
    "                },\n",
    "                orientation='h'\n",
    "            )\n",
    "\n",
    "    fig.update_layout(\n",
    "        font=dict(\n",
    "            family=\"Arial\",\n",
    "            size=11,\n",
    "            color=\"black\"\n",
    "        ),\n",
    "        autosize=False,\n",
    "        width=width_in_cm * cm_to_px,\n",
    "        height=height_in_cm * cm_to_px,\n",
    "        margin=dict(\n",
    "            l=0,\n",
    "            r=25,\n",
    "            b=25,\n",
    "            t=25\n",
    "        ),\n",
    "        showlegend=False,\n",
    "        xaxis_title_text='Relative Phytoplankton Abundance',\n",
    "        title_text='Station {}'.format(station),\n",
    "        yaxis_title_text=''\n",
    "    )\n",
    "\n",
    "    fig.show()\n",
    "\n",
    "    for trace in fig.data:\n",
    "        # If trace is not in the dictionary, add it\n",
    "        if trace.name not in tax_colors:\n",
    "            # If trace contains a color already in use, give an error\n",
    "            if trace.marker.color in tax_colors.values():\n",
    "                raise ValueError(f'Color for {trace.name} already in use, review color disctrete map')\n",
    "            tax_colors[trace.name] = trace.marker.color\n",
    "           \n",
    "    # Save figure as svg\n",
    "    fig.write_image(\"../figures/phytoplankton/flowcam_relative_occurrence_{}_validated.svg\".format(station), width=width_in_cm * cm_to_px, height=height_in_cm * cm_to_px)\n",
    "    #fig.write_image(\"../figures/phytoplankton/flowcam_relative_occurrence_{}_validated.png\".format(station), scale=2,  width=width_in_cm * cm_to_px, height=height_in_cm * cm_to_px)"
   ]
  },
  {
   "cell_type": "code",
   "execution_count": 8,
   "metadata": {},
   "outputs": [
    {
     "data": {
      "application/vnd.plotly.v1+json": {
       "config": {
        "plotlyServerURL": "https://plot.ly"
       },
       "data": [
        {
         "alignmentgroup": "True",
         "bingroup": "y",
         "histfunc": "sum",
         "hovertemplate": "Taxon_grouped=Bacillariophyta<br>sum of density_cell_L_sample=%{x}<br>Sample=%{y}<extra></extra>",
         "legendgroup": "Bacillariophyta",
         "marker": {
          "color": "#E69F00",
          "pattern": {
           "shape": ""
          }
         },
         "name": "Bacillariophyta",
         "offsetgroup": "Bacillariophyta",
         "orientation": "h",
         "showlegend": true,
         "type": "histogram",
         "x": [
          454.2829753031778,
          26.02965064246198,
          28.874048046521875,
          175.80580241521548,
          20.47530746359967,
          268.43041393565045,
          706.5176462591121,
          447.1999298478229,
          564.8793490910143,
          514.4756305601694,
          498.07350733538686,
          444.6429463584416,
          527.1333921200933,
          296.0089832940263,
          279.5142274396702,
          6.351308784202139,
          605.5615206681047,
          670.6172378332528,
          537.5274422955282,
          17.602874062478623
         ],
         "xaxis": "x",
         "y": [
          "1",
          "10",
          "11",
          "12",
          "13",
          "15",
          "16",
          "17",
          "18",
          "19",
          "2",
          "20",
          "21",
          "3",
          "4",
          "5",
          "6",
          "7",
          "8",
          "9"
         ],
         "yaxis": "y"
        },
        {
         "alignmentgroup": "True",
         "bingroup": "y",
         "histfunc": "sum",
         "hovertemplate": "Taxon_grouped=Dinophyceae<br>sum of density_cell_L_sample=%{x}<br>Sample=%{y}<extra></extra>",
         "legendgroup": "Dinophyceae",
         "marker": {
          "color": "#56B4E9",
          "pattern": {
           "shape": ""
          }
         },
         "name": "Dinophyceae",
         "offsetgroup": "Dinophyceae",
         "orientation": "h",
         "showlegend": true,
         "type": "histogram",
         "x": [
          31.13995349630116,
          1.122684463294455,
          1.227380150775814,
          3.074158059194647,
          0.355716083839545,
          9.49713902962155,
          17.7524039713711,
          50.8486109876502,
          16.50753018317766,
          7.09307421403438,
          10.877965590981297,
          48.890250154193915,
          1.17416677853395,
          27.60673043413798,
          104.78879560013573,
          27.81796482132205,
          1.0713594679966867
         ],
         "xaxis": "x",
         "y": [
          "1",
          "10",
          "11",
          "12",
          "13",
          "15",
          "17",
          "19",
          "2",
          "21",
          "3",
          "4",
          "5",
          "6",
          "7",
          "8",
          "9"
         ],
         "yaxis": "y"
        },
        {
         "alignmentgroup": "True",
         "bingroup": "y",
         "histfunc": "sum",
         "hovertemplate": "Taxon_grouped=Prymnesiophyceae<br>sum of density_cell_L_sample=%{x}<br>Sample=%{y}<extra></extra>",
         "legendgroup": "Prymnesiophyceae",
         "marker": {
          "color": "#009E73",
          "pattern": {
           "shape": ""
          }
         },
         "name": "Prymnesiophyceae",
         "offsetgroup": "Prymnesiophyceae",
         "orientation": "h",
         "showlegend": true,
         "type": "histogram",
         "x": [
          2.6195970810204,
          2.88915772647451,
          2.30561700606025,
          78.8378912910046,
          328.37914832573,
          67.9978010130285,
          114.033031568144,
          37.6860046697191,
          34.3040914775773,
          33.0620828380726
         ],
         "xaxis": "x",
         "y": [
          "10",
          "11",
          "12",
          "16",
          "17",
          "18",
          "19",
          "2",
          "21",
          "6"
         ],
         "yaxis": "y"
        },
        {
         "alignmentgroup": "True",
         "bingroup": "y",
         "histfunc": "sum",
         "hovertemplate": "Taxon_grouped=Arthropoda<br>sum of density_cell_L_sample=%{x}<br>Sample=%{y}<extra></extra>",
         "legendgroup": "Arthropoda",
         "marker": {
          "color": "#0072B2",
          "pattern": {
           "shape": ""
          }
         },
         "name": "Arthropoda",
         "offsetgroup": "Arthropoda",
         "orientation": "h",
         "showlegend": true,
         "type": "histogram",
         "x": [
          42.1316450302946,
          2.490985739482036,
          4.252469210757171,
          5.187756705825668,
          3.22093208207412,
          16.034874513575502,
          32.2291853178156,
          73.22639108837427,
          48.8520510978324,
          78.78280277166382,
          14.97612019982575,
          13.8213676577052,
          44.10683301422784,
          28.92153308979969,
          0.213485334891776,
          28.84038859131574,
          39.184538184392274,
          43.0371208025836,
          2.22950481253064
         ],
         "xaxis": "x",
         "y": [
          "1",
          "10",
          "11",
          "12",
          "13",
          "15",
          "17",
          "18",
          "19",
          "2",
          "20",
          "21",
          "3",
          "4",
          "5",
          "6",
          "7",
          "8",
          "9"
         ],
         "yaxis": "y"
        },
        {
         "alignmentgroup": "True",
         "bingroup": "y",
         "histfunc": "sum",
         "hovertemplate": "Taxon_grouped=Ciliates<br>sum of density_cell_L_sample=%{x}<br>Sample=%{y}<extra></extra>",
         "legendgroup": "Ciliates",
         "marker": {
          "color": "#F0E442",
          "pattern": {
           "shape": ""
          }
         },
         "name": "Ciliates",
         "offsetgroup": "Ciliates",
         "orientation": "h",
         "showlegend": true,
         "type": "histogram",
         "x": [
          3.66362832106386,
          0.124742718143828,
          0.344201764816321,
          0.192147569333248,
          2.66758201343598,
          15.6918002337758,
          1.67252243096489,
          4.55107205210193,
          4.98726210100405,
          3.6695334897055,
          1.19121002281551,
          3.24144455681336,
          0.0533734701829109,
          15.1069518716578,
          5.802961829642079,
          5.49291121421492,
          0.115273775216138
         ],
         "xaxis": "x",
         "y": [
          "1",
          "10",
          "11",
          "12",
          "15",
          "18",
          "19",
          "2",
          "20",
          "21",
          "3",
          "4",
          "5",
          "6",
          "7",
          "8",
          "9"
         ],
         "yaxis": "y"
        },
        {
         "alignmentgroup": "True",
         "bingroup": "y",
         "histfunc": "sum",
         "hovertemplate": "Taxon_grouped=Mollusca<br>sum of density_cell_L_sample=%{x}<br>Sample=%{y}<extra></extra>",
         "legendgroup": "Mollusca",
         "marker": {
          "color": "#89CE00",
          "pattern": {
           "shape": ""
          }
         },
         "name": "Mollusca",
         "offsetgroup": "Mollusca",
         "orientation": "h",
         "showlegend": true,
         "type": "histogram",
         "x": [
          2.747680915078531,
          1.050689838925982,
          0.384882365150424,
          33.19324330214,
          52.774989439658874,
          4.96318389411874,
          10.46053022100122,
          1.67252243096489,
          1.46831725779094,
          6.181957414231579,
          8.52649835445041,
          4.16925892153861,
          2.13277695673592,
          0.053376888874655,
          10.73676454900053,
          7.62252546871494,
          2.8568867106954,
          0.115273775216138
         ],
         "xaxis": "x",
         "y": [
          "1",
          "10",
          "11",
          "15",
          "16",
          "17",
          "18",
          "19",
          "2",
          "20",
          "21",
          "3",
          "4",
          "5",
          "6",
          "7",
          "8",
          "9"
         ],
         "yaxis": "y"
        },
        {
         "alignmentgroup": "True",
         "bingroup": "y",
         "histfunc": "sum",
         "hovertemplate": "Taxon_grouped=Radiolaria<br>sum of density_cell_L_sample=%{x}<br>Sample=%{y}<extra></extra>",
         "legendgroup": "Radiolaria",
         "marker": {
          "color": "#06EA0D",
          "pattern": {
           "shape": ""
          }
         },
         "name": "Radiolaria",
         "offsetgroup": "Radiolaria",
         "orientation": "h",
         "showlegend": true,
         "type": "histogram",
         "x": [
          0.0583260425780111
         ],
         "xaxis": "x",
         "y": [
          "11"
         ],
         "yaxis": "y"
        },
        {
         "alignmentgroup": "True",
         "bingroup": "y",
         "histfunc": "sum",
         "hovertemplate": "Taxon_grouped=Appendicularia<br>sum of density_cell_L_sample=%{x}<br>Sample=%{y}<extra></extra>",
         "legendgroup": "Appendicularia",
         "marker": {
          "color": "#19d3f3",
          "pattern": {
           "shape": ""
          }
         },
         "name": "Appendicularia",
         "offsetgroup": "Appendicularia",
         "orientation": "h",
         "showlegend": true,
         "type": "histogram",
         "x": [
          1.02623212924576
         ],
         "xaxis": "x",
         "y": [
          "4"
         ],
         "yaxis": "y"
        }
       ],
       "layout": {
        "autosize": false,
        "barmode": "relative",
        "font": {
         "color": "black",
         "family": "Arial",
         "size": 11
        },
        "height": 340.1574803149606,
        "legend": {
         "title": {
          "text": "Taxon_grouped"
         },
         "tracegroupgap": 0
        },
        "margin": {
         "b": 25,
         "l": 0,
         "r": 25,
         "t": 25
        },
        "showlegend": false,
        "template": {
         "data": {
          "bar": [
           {
            "error_x": {
             "color": "#2a3f5f"
            },
            "error_y": {
             "color": "#2a3f5f"
            },
            "marker": {
             "line": {
              "color": "#E5ECF6",
              "width": 0.5
             },
             "pattern": {
              "fillmode": "overlay",
              "size": 10,
              "solidity": 0.2
             }
            },
            "type": "bar"
           }
          ],
          "barpolar": [
           {
            "marker": {
             "line": {
              "color": "#E5ECF6",
              "width": 0.5
             },
             "pattern": {
              "fillmode": "overlay",
              "size": 10,
              "solidity": 0.2
             }
            },
            "type": "barpolar"
           }
          ],
          "carpet": [
           {
            "aaxis": {
             "endlinecolor": "#2a3f5f",
             "gridcolor": "white",
             "linecolor": "white",
             "minorgridcolor": "white",
             "startlinecolor": "#2a3f5f"
            },
            "baxis": {
             "endlinecolor": "#2a3f5f",
             "gridcolor": "white",
             "linecolor": "white",
             "minorgridcolor": "white",
             "startlinecolor": "#2a3f5f"
            },
            "type": "carpet"
           }
          ],
          "choropleth": [
           {
            "colorbar": {
             "outlinewidth": 0,
             "ticks": ""
            },
            "type": "choropleth"
           }
          ],
          "contour": [
           {
            "colorbar": {
             "outlinewidth": 0,
             "ticks": ""
            },
            "colorscale": [
             [
              0,
              "#0d0887"
             ],
             [
              0.1111111111111111,
              "#46039f"
             ],
             [
              0.2222222222222222,
              "#7201a8"
             ],
             [
              0.3333333333333333,
              "#9c179e"
             ],
             [
              0.4444444444444444,
              "#bd3786"
             ],
             [
              0.5555555555555556,
              "#d8576b"
             ],
             [
              0.6666666666666666,
              "#ed7953"
             ],
             [
              0.7777777777777778,
              "#fb9f3a"
             ],
             [
              0.8888888888888888,
              "#fdca26"
             ],
             [
              1,
              "#f0f921"
             ]
            ],
            "type": "contour"
           }
          ],
          "contourcarpet": [
           {
            "colorbar": {
             "outlinewidth": 0,
             "ticks": ""
            },
            "type": "contourcarpet"
           }
          ],
          "heatmap": [
           {
            "colorbar": {
             "outlinewidth": 0,
             "ticks": ""
            },
            "colorscale": [
             [
              0,
              "#0d0887"
             ],
             [
              0.1111111111111111,
              "#46039f"
             ],
             [
              0.2222222222222222,
              "#7201a8"
             ],
             [
              0.3333333333333333,
              "#9c179e"
             ],
             [
              0.4444444444444444,
              "#bd3786"
             ],
             [
              0.5555555555555556,
              "#d8576b"
             ],
             [
              0.6666666666666666,
              "#ed7953"
             ],
             [
              0.7777777777777778,
              "#fb9f3a"
             ],
             [
              0.8888888888888888,
              "#fdca26"
             ],
             [
              1,
              "#f0f921"
             ]
            ],
            "type": "heatmap"
           }
          ],
          "heatmapgl": [
           {
            "colorbar": {
             "outlinewidth": 0,
             "ticks": ""
            },
            "colorscale": [
             [
              0,
              "#0d0887"
             ],
             [
              0.1111111111111111,
              "#46039f"
             ],
             [
              0.2222222222222222,
              "#7201a8"
             ],
             [
              0.3333333333333333,
              "#9c179e"
             ],
             [
              0.4444444444444444,
              "#bd3786"
             ],
             [
              0.5555555555555556,
              "#d8576b"
             ],
             [
              0.6666666666666666,
              "#ed7953"
             ],
             [
              0.7777777777777778,
              "#fb9f3a"
             ],
             [
              0.8888888888888888,
              "#fdca26"
             ],
             [
              1,
              "#f0f921"
             ]
            ],
            "type": "heatmapgl"
           }
          ],
          "histogram": [
           {
            "marker": {
             "pattern": {
              "fillmode": "overlay",
              "size": 10,
              "solidity": 0.2
             }
            },
            "type": "histogram"
           }
          ],
          "histogram2d": [
           {
            "colorbar": {
             "outlinewidth": 0,
             "ticks": ""
            },
            "colorscale": [
             [
              0,
              "#0d0887"
             ],
             [
              0.1111111111111111,
              "#46039f"
             ],
             [
              0.2222222222222222,
              "#7201a8"
             ],
             [
              0.3333333333333333,
              "#9c179e"
             ],
             [
              0.4444444444444444,
              "#bd3786"
             ],
             [
              0.5555555555555556,
              "#d8576b"
             ],
             [
              0.6666666666666666,
              "#ed7953"
             ],
             [
              0.7777777777777778,
              "#fb9f3a"
             ],
             [
              0.8888888888888888,
              "#fdca26"
             ],
             [
              1,
              "#f0f921"
             ]
            ],
            "type": "histogram2d"
           }
          ],
          "histogram2dcontour": [
           {
            "colorbar": {
             "outlinewidth": 0,
             "ticks": ""
            },
            "colorscale": [
             [
              0,
              "#0d0887"
             ],
             [
              0.1111111111111111,
              "#46039f"
             ],
             [
              0.2222222222222222,
              "#7201a8"
             ],
             [
              0.3333333333333333,
              "#9c179e"
             ],
             [
              0.4444444444444444,
              "#bd3786"
             ],
             [
              0.5555555555555556,
              "#d8576b"
             ],
             [
              0.6666666666666666,
              "#ed7953"
             ],
             [
              0.7777777777777778,
              "#fb9f3a"
             ],
             [
              0.8888888888888888,
              "#fdca26"
             ],
             [
              1,
              "#f0f921"
             ]
            ],
            "type": "histogram2dcontour"
           }
          ],
          "mesh3d": [
           {
            "colorbar": {
             "outlinewidth": 0,
             "ticks": ""
            },
            "type": "mesh3d"
           }
          ],
          "parcoords": [
           {
            "line": {
             "colorbar": {
              "outlinewidth": 0,
              "ticks": ""
             }
            },
            "type": "parcoords"
           }
          ],
          "pie": [
           {
            "automargin": true,
            "type": "pie"
           }
          ],
          "scatter": [
           {
            "fillpattern": {
             "fillmode": "overlay",
             "size": 10,
             "solidity": 0.2
            },
            "type": "scatter"
           }
          ],
          "scatter3d": [
           {
            "line": {
             "colorbar": {
              "outlinewidth": 0,
              "ticks": ""
             }
            },
            "marker": {
             "colorbar": {
              "outlinewidth": 0,
              "ticks": ""
             }
            },
            "type": "scatter3d"
           }
          ],
          "scattercarpet": [
           {
            "marker": {
             "colorbar": {
              "outlinewidth": 0,
              "ticks": ""
             }
            },
            "type": "scattercarpet"
           }
          ],
          "scattergeo": [
           {
            "marker": {
             "colorbar": {
              "outlinewidth": 0,
              "ticks": ""
             }
            },
            "type": "scattergeo"
           }
          ],
          "scattergl": [
           {
            "marker": {
             "colorbar": {
              "outlinewidth": 0,
              "ticks": ""
             }
            },
            "type": "scattergl"
           }
          ],
          "scattermapbox": [
           {
            "marker": {
             "colorbar": {
              "outlinewidth": 0,
              "ticks": ""
             }
            },
            "type": "scattermapbox"
           }
          ],
          "scatterpolar": [
           {
            "marker": {
             "colorbar": {
              "outlinewidth": 0,
              "ticks": ""
             }
            },
            "type": "scatterpolar"
           }
          ],
          "scatterpolargl": [
           {
            "marker": {
             "colorbar": {
              "outlinewidth": 0,
              "ticks": ""
             }
            },
            "type": "scatterpolargl"
           }
          ],
          "scatterternary": [
           {
            "marker": {
             "colorbar": {
              "outlinewidth": 0,
              "ticks": ""
             }
            },
            "type": "scatterternary"
           }
          ],
          "surface": [
           {
            "colorbar": {
             "outlinewidth": 0,
             "ticks": ""
            },
            "colorscale": [
             [
              0,
              "#0d0887"
             ],
             [
              0.1111111111111111,
              "#46039f"
             ],
             [
              0.2222222222222222,
              "#7201a8"
             ],
             [
              0.3333333333333333,
              "#9c179e"
             ],
             [
              0.4444444444444444,
              "#bd3786"
             ],
             [
              0.5555555555555556,
              "#d8576b"
             ],
             [
              0.6666666666666666,
              "#ed7953"
             ],
             [
              0.7777777777777778,
              "#fb9f3a"
             ],
             [
              0.8888888888888888,
              "#fdca26"
             ],
             [
              1,
              "#f0f921"
             ]
            ],
            "type": "surface"
           }
          ],
          "table": [
           {
            "cells": {
             "fill": {
              "color": "#EBF0F8"
             },
             "line": {
              "color": "white"
             }
            },
            "header": {
             "fill": {
              "color": "#C8D4E3"
             },
             "line": {
              "color": "white"
             }
            },
            "type": "table"
           }
          ]
         },
         "layout": {
          "annotationdefaults": {
           "arrowcolor": "#2a3f5f",
           "arrowhead": 0,
           "arrowwidth": 1
          },
          "autotypenumbers": "strict",
          "coloraxis": {
           "colorbar": {
            "outlinewidth": 0,
            "ticks": ""
           }
          },
          "colorscale": {
           "diverging": [
            [
             0,
             "#8e0152"
            ],
            [
             0.1,
             "#c51b7d"
            ],
            [
             0.2,
             "#de77ae"
            ],
            [
             0.3,
             "#f1b6da"
            ],
            [
             0.4,
             "#fde0ef"
            ],
            [
             0.5,
             "#f7f7f7"
            ],
            [
             0.6,
             "#e6f5d0"
            ],
            [
             0.7,
             "#b8e186"
            ],
            [
             0.8,
             "#7fbc41"
            ],
            [
             0.9,
             "#4d9221"
            ],
            [
             1,
             "#276419"
            ]
           ],
           "sequential": [
            [
             0,
             "#0d0887"
            ],
            [
             0.1111111111111111,
             "#46039f"
            ],
            [
             0.2222222222222222,
             "#7201a8"
            ],
            [
             0.3333333333333333,
             "#9c179e"
            ],
            [
             0.4444444444444444,
             "#bd3786"
            ],
            [
             0.5555555555555556,
             "#d8576b"
            ],
            [
             0.6666666666666666,
             "#ed7953"
            ],
            [
             0.7777777777777778,
             "#fb9f3a"
            ],
            [
             0.8888888888888888,
             "#fdca26"
            ],
            [
             1,
             "#f0f921"
            ]
           ],
           "sequentialminus": [
            [
             0,
             "#0d0887"
            ],
            [
             0.1111111111111111,
             "#46039f"
            ],
            [
             0.2222222222222222,
             "#7201a8"
            ],
            [
             0.3333333333333333,
             "#9c179e"
            ],
            [
             0.4444444444444444,
             "#bd3786"
            ],
            [
             0.5555555555555556,
             "#d8576b"
            ],
            [
             0.6666666666666666,
             "#ed7953"
            ],
            [
             0.7777777777777778,
             "#fb9f3a"
            ],
            [
             0.8888888888888888,
             "#fdca26"
            ],
            [
             1,
             "#f0f921"
            ]
           ]
          },
          "colorway": [
           "#636efa",
           "#EF553B",
           "#00cc96",
           "#ab63fa",
           "#FFA15A",
           "#19d3f3",
           "#FF6692",
           "#B6E880",
           "#FF97FF",
           "#FECB52"
          ],
          "font": {
           "color": "#2a3f5f"
          },
          "geo": {
           "bgcolor": "white",
           "lakecolor": "white",
           "landcolor": "#E5ECF6",
           "showlakes": true,
           "showland": true,
           "subunitcolor": "white"
          },
          "hoverlabel": {
           "align": "left"
          },
          "hovermode": "closest",
          "mapbox": {
           "style": "light"
          },
          "paper_bgcolor": "white",
          "plot_bgcolor": "#E5ECF6",
          "polar": {
           "angularaxis": {
            "gridcolor": "white",
            "linecolor": "white",
            "ticks": ""
           },
           "bgcolor": "#E5ECF6",
           "radialaxis": {
            "gridcolor": "white",
            "linecolor": "white",
            "ticks": ""
           }
          },
          "scene": {
           "xaxis": {
            "backgroundcolor": "#E5ECF6",
            "gridcolor": "white",
            "gridwidth": 2,
            "linecolor": "white",
            "showbackground": true,
            "ticks": "",
            "zerolinecolor": "white"
           },
           "yaxis": {
            "backgroundcolor": "#E5ECF6",
            "gridcolor": "white",
            "gridwidth": 2,
            "linecolor": "white",
            "showbackground": true,
            "ticks": "",
            "zerolinecolor": "white"
           },
           "zaxis": {
            "backgroundcolor": "#E5ECF6",
            "gridcolor": "white",
            "gridwidth": 2,
            "linecolor": "white",
            "showbackground": true,
            "ticks": "",
            "zerolinecolor": "white"
           }
          },
          "shapedefaults": {
           "line": {
            "color": "#2a3f5f"
           }
          },
          "ternary": {
           "aaxis": {
            "gridcolor": "white",
            "linecolor": "white",
            "ticks": ""
           },
           "baxis": {
            "gridcolor": "white",
            "linecolor": "white",
            "ticks": ""
           },
           "bgcolor": "#E5ECF6",
           "caxis": {
            "gridcolor": "white",
            "linecolor": "white",
            "ticks": ""
           }
          },
          "title": {
           "x": 0.05
          },
          "xaxis": {
           "automargin": true,
           "gridcolor": "white",
           "linecolor": "white",
           "ticks": "",
           "title": {
            "standoff": 15
           },
           "zerolinecolor": "white",
           "zerolinewidth": 2
          },
          "yaxis": {
           "automargin": true,
           "gridcolor": "white",
           "linecolor": "white",
           "ticks": "",
           "title": {
            "standoff": 15
           },
           "zerolinecolor": "white",
           "zerolinewidth": 2
          }
         }
        },
        "title": {
         "text": "Station 51"
        },
        "width": 264.56692913385825,
        "xaxis": {
         "anchor": "y",
         "domain": [
          0,
          1
         ],
         "title": {
          "text": "Absolute Phytoplankton Abundance"
         }
        },
        "yaxis": {
         "anchor": "x",
         "categoryarray": [
          "25",
          "24",
          "23",
          "22",
          "21",
          "20",
          "19",
          "18",
          "17",
          "16",
          "15",
          "14",
          "13",
          "12",
          "11",
          "10",
          "9",
          "8",
          "7",
          "6",
          "5",
          "4",
          "3",
          "2",
          "1"
         ],
         "categoryorder": "array",
         "domain": [
          0,
          1
         ],
         "title": {
          "text": ""
         }
        }
       }
      }
     },
     "metadata": {},
     "output_type": "display_data"
    },
    {
     "data": {
      "application/vnd.plotly.v1+json": {
       "config": {
        "plotlyServerURL": "https://plot.ly"
       },
       "data": [
        {
         "alignmentgroup": "True",
         "bingroup": "y",
         "histfunc": "sum",
         "hovertemplate": "Taxon_grouped=Bacillariophyta<br>sum of density_cell_L_sample=%{x}<br>Sample=%{y}<extra></extra>",
         "legendgroup": "Bacillariophyta",
         "marker": {
          "color": "#E69F00",
          "pattern": {
           "shape": ""
          }
         },
         "name": "Bacillariophyta",
         "offsetgroup": "Bacillariophyta",
         "orientation": "h",
         "showlegend": true,
         "type": "histogram",
         "x": [
          1578.1601162266209,
          1943.4912714381567,
          2422.4751830991686,
          5365.110112628399,
          3317.323644301282,
          2551.885466774614,
          1907.2053809613483,
          1547.2946038238624,
          1893.4969355404578,
          2975.6676716050592,
          6035.74188444102,
          29181.344296328578,
          4237.755704868552,
          2914.0175185379844,
          4490.2589913212205,
          3959.636127455225,
          2939.263746375969,
          5175.03830302144,
          21053.213531884914,
          2974.6802777530343,
          5008.5274153139,
          6132.284580430478,
          3769.9723008514015,
          4360.171054266363
         ],
         "xaxis": "x",
         "y": [
          "1",
          "10",
          "11",
          "12",
          "13",
          "14",
          "15",
          "16",
          "17",
          "18",
          "19",
          "2",
          "20",
          "21",
          "22",
          "23",
          "24",
          "25",
          "3",
          "4",
          "5",
          "6",
          "7",
          "8"
         ],
         "yaxis": "y"
        },
        {
         "alignmentgroup": "True",
         "bingroup": "y",
         "histfunc": "sum",
         "hovertemplate": "Taxon_grouped=Dinophyceae<br>sum of density_cell_L_sample=%{x}<br>Sample=%{y}<extra></extra>",
         "legendgroup": "Dinophyceae",
         "marker": {
          "color": "#56B4E9",
          "pattern": {
           "shape": ""
          }
         },
         "name": "Dinophyceae",
         "offsetgroup": "Dinophyceae",
         "orientation": "h",
         "showlegend": true,
         "type": "histogram",
         "x": [
          231.361947415348,
          31.35720075558912,
          109.08847380814623,
          143.4687151301827,
          118.87315486960631,
          196.51656333932888,
          626.244499336847,
          120.279513186895,
          114.75685413648931,
          26.0266028848763,
          58.868320302761,
          536.959559366368,
          67.5919071304328,
          17.471701583372457,
          126.61641849499459,
          49.190171599417,
          53.3828353724321,
          211.1330462784684,
          664.827041802399,
          148.15695708433378,
          35.4616228557838,
          116.2185911630686,
          59.3545485042943,
          23.53665389709576
         ],
         "xaxis": "x",
         "y": [
          "1",
          "10",
          "11",
          "12",
          "13",
          "14",
          "15",
          "16",
          "17",
          "18",
          "19",
          "2",
          "20",
          "21",
          "22",
          "23",
          "24",
          "25",
          "3",
          "4",
          "5",
          "6",
          "7",
          "8"
         ],
         "yaxis": "y"
        },
        {
         "alignmentgroup": "True",
         "bingroup": "y",
         "histfunc": "sum",
         "hovertemplate": "Taxon_grouped=Prymnesiophyceae<br>sum of density_cell_L_sample=%{x}<br>Sample=%{y}<extra></extra>",
         "legendgroup": "Prymnesiophyceae",
         "marker": {
          "color": "#009E73",
          "pattern": {
           "shape": ""
          }
         },
         "name": "Prymnesiophyceae",
         "offsetgroup": "Prymnesiophyceae",
         "orientation": "h",
         "showlegend": true,
         "type": "histogram",
         "x": [
          462.71013419422,
          1509.89705983443,
          11515.510912245,
          23940.3133027236,
          609.228457840282,
          243.113358543212,
          593.715519519612,
          95.1010094365036,
          179.309594023867,
          1840.84846339448,
          27112.7747309154,
          29585.0986649871,
          9147.662522932,
          447.389494809609,
          941.861214159994,
          6652.70852528619,
          4525.85800497584,
          1284.81264201468,
          4764.69906989336,
          13425.542536202,
          5166.27316233551,
          12415.3611927271,
          460.047278327387,
          2172.74743156953
         ],
         "xaxis": "x",
         "y": [
          "1",
          "10",
          "11",
          "12",
          "13",
          "14",
          "15",
          "16",
          "17",
          "18",
          "19",
          "2",
          "20",
          "21",
          "22",
          "23",
          "24",
          "25",
          "3",
          "4",
          "5",
          "6",
          "7",
          "8"
         ],
         "yaxis": "y"
        },
        {
         "alignmentgroup": "True",
         "bingroup": "y",
         "histfunc": "sum",
         "hovertemplate": "Taxon_grouped=Annelida<br>sum of density_cell_L_sample=%{x}<br>Sample=%{y}<extra></extra>",
         "legendgroup": "Annelida",
         "marker": {
          "color": "#D55E00",
          "pattern": {
           "shape": ""
          }
         },
         "name": "Annelida",
         "offsetgroup": "Annelida",
         "orientation": "h",
         "showlegend": true,
         "type": "histogram",
         "x": [
          8.26115496069547,
          4.87756648979995,
          38.8627658580637,
          14.8591740989224,
          5.07111824735456,
          61.9317069413196,
          29.4504715823354,
          65.9855532289465,
          7.22742428174976,
          6.57894736842105,
          10.2485267742762,
          15.4623581216596,
          86.6045254104216
         ],
         "xaxis": "x",
         "y": [
          "1",
          "10",
          "12",
          "13",
          "14",
          "20",
          "21",
          "22",
          "24",
          "25",
          "4",
          "7",
          "8"
         ],
         "yaxis": "y"
        },
        {
         "alignmentgroup": "True",
         "bingroup": "y",
         "histfunc": "sum",
         "hovertemplate": "Taxon_grouped=Arthropoda<br>sum of density_cell_L_sample=%{x}<br>Sample=%{y}<extra></extra>",
         "legendgroup": "Arthropoda",
         "marker": {
          "color": "#0072B2",
          "pattern": {
           "shape": ""
          }
         },
         "name": "Arthropoda",
         "offsetgroup": "Arthropoda",
         "orientation": "h",
         "showlegend": true,
         "type": "histogram",
         "x": [
          33.0477944119766,
          22.7399312424376,
          116.010287237009,
          92.8702544952739,
          78.3000677571611,
          44.7325637752689,
          45.86586037097341,
          21.5157045432715,
          73.5883608402898,
          100.312636568393,
          334.910811794685,
          56.4395357543991,
          59.2544015111018,
          107.27351106987,
          36.891742590428,
          56.596999714332,
          121.253249568581,
          221.613745176218,
          43.206933362588,
          22.4133009847296,
          62.8578764924894,
          56.0722566615857,
          100.32254369412
         ],
         "xaxis": "x",
         "y": [
          "1",
          "10",
          "12",
          "13",
          "14",
          "15",
          "16",
          "17",
          "18",
          "19",
          "2",
          "20",
          "21",
          "22",
          "23",
          "24",
          "25",
          "3",
          "4",
          "5",
          "6",
          "7",
          "8"
         ],
         "yaxis": "y"
        },
        {
         "alignmentgroup": "True",
         "bingroup": "y",
         "histfunc": "sum",
         "hovertemplate": "Taxon_grouped=Ciliates<br>sum of density_cell_L_sample=%{x}<br>Sample=%{y}<extra></extra>",
         "legendgroup": "Ciliates",
         "marker": {
          "color": "#F0E442",
          "pattern": {
           "shape": ""
          }
         },
         "name": "Ciliates",
         "offsetgroup": "Ciliates",
         "orientation": "h",
         "showlegend": true,
         "type": "histogram",
         "x": [
          33.0513665314881,
          4.87756648979995,
          6.94668242202886,
          19.1452152302642,
          40.8639779201761,
          16.5432211160171,
          16.266150077648412,
          3.5461231068874,
          7.17190151442385,
          9.44919923319598,
          50.6927905119665,
          125.222181299941,
          74.0107874865156,
          20.979643481424368,
          15.83161903466568,
          12.29606621944,
          7.22742428174976,
          38.68469584679228,
          110.803324099723,
          22.8361417624863,
          25.96608893682789,
          43.7334190851355,
          16.85582814892296,
          41.02054549386893
         ],
         "xaxis": "x",
         "y": [
          "1",
          "10",
          "11",
          "12",
          "13",
          "14",
          "15",
          "16",
          "17",
          "18",
          "19",
          "2",
          "20",
          "21",
          "22",
          "23",
          "24",
          "25",
          "3",
          "4",
          "5",
          "6",
          "7",
          "8"
         ],
         "yaxis": "y"
        },
        {
         "alignmentgroup": "True",
         "bingroup": "y",
         "histfunc": "sum",
         "hovertemplate": "Taxon_grouped=Mollusca<br>sum of density_cell_L_sample=%{x}<br>Sample=%{y}<extra></extra>",
         "legendgroup": "Mollusca",
         "marker": {
          "color": "#89CE00",
          "pattern": {
           "shape": ""
          }
         },
         "name": "Mollusca",
         "offsetgroup": "Mollusca",
         "orientation": "h",
         "showlegend": true,
         "type": "histogram",
         "x": [
          8.26340400999295,
          4.62832660975076,
          18.57384868461139,
          9.59750695928856,
          20.33314335275277,
          11.7326033046833,
          167.455405897343,
          11.4346666666667,
          15.85330659383592,
          40.9939200730496,
          6.57894736842105,
          110.810421303784,
          68.2591533268077,
          19.28853792981895
         ],
         "xaxis": "x",
         "y": [
          "1",
          "10",
          "13",
          "14",
          "15",
          "16",
          "2",
          "20",
          "21",
          "22",
          "25",
          "3",
          "7",
          "8"
         ],
         "yaxis": "y"
        },
        {
         "alignmentgroup": "True",
         "bingroup": "y",
         "histfunc": "sum",
         "hovertemplate": "Taxon_grouped=Rotifera<br>sum of density_cell_L_sample=%{x}<br>Sample=%{y}<extra></extra>",
         "legendgroup": "Rotifera",
         "marker": {
          "color": "#EAD506",
          "pattern": {
           "shape": ""
          }
         },
         "name": "Rotifera",
         "offsetgroup": "Rotifera",
         "orientation": "h",
         "showlegend": true,
         "type": "histogram",
         "x": [
          3.71503146567599
         ],
         "xaxis": "x",
         "y": [
          "13"
         ],
         "yaxis": "y"
        },
        {
         "alignmentgroup": "True",
         "bingroup": "y",
         "histfunc": "sum",
         "hovertemplate": "Taxon_grouped=Appendicularia<br>sum of density_cell_L_sample=%{x}<br>Sample=%{y}<extra></extra>",
         "legendgroup": "Appendicularia",
         "marker": {
          "color": "#19d3f3",
          "pattern": {
           "shape": ""
          }
         },
         "name": "Appendicularia",
         "offsetgroup": "Appendicularia",
         "orientation": "h",
         "showlegend": true,
         "type": "histogram",
         "x": [
          5.76623623889082,
          11.4346666666667,
          110.810421303784,
          19.3360346911211,
          6.80151966320977,
          5.12043424177315
         ],
         "xaxis": "x",
         "y": [
          "14",
          "20",
          "3",
          "6",
          "7",
          "8"
         ],
         "yaxis": "y"
        },
        {
         "alignmentgroup": "True",
         "bingroup": "y",
         "histfunc": "sum",
         "hovertemplate": "Taxon_grouped=Cnidaria<br>sum of density_cell_L_sample=%{x}<br>Sample=%{y}<extra></extra>",
         "legendgroup": "Cnidaria",
         "marker": {
          "color": "#A42324",
          "pattern": {
           "shape": ""
          }
         },
         "name": "Cnidaria",
         "offsetgroup": "Cnidaria",
         "orientation": "h",
         "showlegend": true,
         "type": "histogram",
         "x": [
          4.06653751941211
         ],
         "xaxis": "x",
         "y": [
          "15"
         ],
         "yaxis": "y"
        },
        {
         "alignmentgroup": "True",
         "bingroup": "y",
         "histfunc": "sum",
         "hovertemplate": "Taxon_grouped=Echinodermata<br>sum of density_cell_L_sample=%{x}<br>Sample=%{y}<extra></extra>",
         "legendgroup": "Echinodermata",
         "marker": {
          "color": "#55EEFF",
          "pattern": {
           "shape": ""
          }
         },
         "name": "Echinodermata",
         "offsetgroup": "Echinodermata",
         "orientation": "h",
         "showlegend": true,
         "type": "histogram",
         "x": [
          11.8737142759993,
          2.89202074710536
         ],
         "xaxis": "x",
         "y": [
          "22",
          "7"
         ],
         "yaxis": "y"
        },
        {
         "alignmentgroup": "True",
         "bingroup": "y",
         "histfunc": "sum",
         "hovertemplate": "Taxon_grouped=Radiolaria<br>sum of density_cell_L_sample=%{x}<br>Sample=%{y}<extra></extra>",
         "legendgroup": "Radiolaria",
         "marker": {
          "color": "#06EA0D",
          "pattern": {
           "shape": ""
          }
         },
         "name": "Radiolaria",
         "offsetgroup": "Radiolaria",
         "orientation": "h",
         "showlegend": true,
         "type": "histogram",
         "x": [
          14.4548485634995
         ],
         "xaxis": "x",
         "y": [
          "24"
         ],
         "yaxis": "y"
        }
       ],
       "layout": {
        "autosize": false,
        "barmode": "relative",
        "font": {
         "color": "black",
         "family": "Arial",
         "size": 11
        },
        "height": 340.1574803149606,
        "legend": {
         "title": {
          "text": "Taxon_grouped"
         },
         "tracegroupgap": 0
        },
        "margin": {
         "b": 25,
         "l": 0,
         "r": 25,
         "t": 25
        },
        "showlegend": false,
        "template": {
         "data": {
          "bar": [
           {
            "error_x": {
             "color": "#2a3f5f"
            },
            "error_y": {
             "color": "#2a3f5f"
            },
            "marker": {
             "line": {
              "color": "#E5ECF6",
              "width": 0.5
             },
             "pattern": {
              "fillmode": "overlay",
              "size": 10,
              "solidity": 0.2
             }
            },
            "type": "bar"
           }
          ],
          "barpolar": [
           {
            "marker": {
             "line": {
              "color": "#E5ECF6",
              "width": 0.5
             },
             "pattern": {
              "fillmode": "overlay",
              "size": 10,
              "solidity": 0.2
             }
            },
            "type": "barpolar"
           }
          ],
          "carpet": [
           {
            "aaxis": {
             "endlinecolor": "#2a3f5f",
             "gridcolor": "white",
             "linecolor": "white",
             "minorgridcolor": "white",
             "startlinecolor": "#2a3f5f"
            },
            "baxis": {
             "endlinecolor": "#2a3f5f",
             "gridcolor": "white",
             "linecolor": "white",
             "minorgridcolor": "white",
             "startlinecolor": "#2a3f5f"
            },
            "type": "carpet"
           }
          ],
          "choropleth": [
           {
            "colorbar": {
             "outlinewidth": 0,
             "ticks": ""
            },
            "type": "choropleth"
           }
          ],
          "contour": [
           {
            "colorbar": {
             "outlinewidth": 0,
             "ticks": ""
            },
            "colorscale": [
             [
              0,
              "#0d0887"
             ],
             [
              0.1111111111111111,
              "#46039f"
             ],
             [
              0.2222222222222222,
              "#7201a8"
             ],
             [
              0.3333333333333333,
              "#9c179e"
             ],
             [
              0.4444444444444444,
              "#bd3786"
             ],
             [
              0.5555555555555556,
              "#d8576b"
             ],
             [
              0.6666666666666666,
              "#ed7953"
             ],
             [
              0.7777777777777778,
              "#fb9f3a"
             ],
             [
              0.8888888888888888,
              "#fdca26"
             ],
             [
              1,
              "#f0f921"
             ]
            ],
            "type": "contour"
           }
          ],
          "contourcarpet": [
           {
            "colorbar": {
             "outlinewidth": 0,
             "ticks": ""
            },
            "type": "contourcarpet"
           }
          ],
          "heatmap": [
           {
            "colorbar": {
             "outlinewidth": 0,
             "ticks": ""
            },
            "colorscale": [
             [
              0,
              "#0d0887"
             ],
             [
              0.1111111111111111,
              "#46039f"
             ],
             [
              0.2222222222222222,
              "#7201a8"
             ],
             [
              0.3333333333333333,
              "#9c179e"
             ],
             [
              0.4444444444444444,
              "#bd3786"
             ],
             [
              0.5555555555555556,
              "#d8576b"
             ],
             [
              0.6666666666666666,
              "#ed7953"
             ],
             [
              0.7777777777777778,
              "#fb9f3a"
             ],
             [
              0.8888888888888888,
              "#fdca26"
             ],
             [
              1,
              "#f0f921"
             ]
            ],
            "type": "heatmap"
           }
          ],
          "heatmapgl": [
           {
            "colorbar": {
             "outlinewidth": 0,
             "ticks": ""
            },
            "colorscale": [
             [
              0,
              "#0d0887"
             ],
             [
              0.1111111111111111,
              "#46039f"
             ],
             [
              0.2222222222222222,
              "#7201a8"
             ],
             [
              0.3333333333333333,
              "#9c179e"
             ],
             [
              0.4444444444444444,
              "#bd3786"
             ],
             [
              0.5555555555555556,
              "#d8576b"
             ],
             [
              0.6666666666666666,
              "#ed7953"
             ],
             [
              0.7777777777777778,
              "#fb9f3a"
             ],
             [
              0.8888888888888888,
              "#fdca26"
             ],
             [
              1,
              "#f0f921"
             ]
            ],
            "type": "heatmapgl"
           }
          ],
          "histogram": [
           {
            "marker": {
             "pattern": {
              "fillmode": "overlay",
              "size": 10,
              "solidity": 0.2
             }
            },
            "type": "histogram"
           }
          ],
          "histogram2d": [
           {
            "colorbar": {
             "outlinewidth": 0,
             "ticks": ""
            },
            "colorscale": [
             [
              0,
              "#0d0887"
             ],
             [
              0.1111111111111111,
              "#46039f"
             ],
             [
              0.2222222222222222,
              "#7201a8"
             ],
             [
              0.3333333333333333,
              "#9c179e"
             ],
             [
              0.4444444444444444,
              "#bd3786"
             ],
             [
              0.5555555555555556,
              "#d8576b"
             ],
             [
              0.6666666666666666,
              "#ed7953"
             ],
             [
              0.7777777777777778,
              "#fb9f3a"
             ],
             [
              0.8888888888888888,
              "#fdca26"
             ],
             [
              1,
              "#f0f921"
             ]
            ],
            "type": "histogram2d"
           }
          ],
          "histogram2dcontour": [
           {
            "colorbar": {
             "outlinewidth": 0,
             "ticks": ""
            },
            "colorscale": [
             [
              0,
              "#0d0887"
             ],
             [
              0.1111111111111111,
              "#46039f"
             ],
             [
              0.2222222222222222,
              "#7201a8"
             ],
             [
              0.3333333333333333,
              "#9c179e"
             ],
             [
              0.4444444444444444,
              "#bd3786"
             ],
             [
              0.5555555555555556,
              "#d8576b"
             ],
             [
              0.6666666666666666,
              "#ed7953"
             ],
             [
              0.7777777777777778,
              "#fb9f3a"
             ],
             [
              0.8888888888888888,
              "#fdca26"
             ],
             [
              1,
              "#f0f921"
             ]
            ],
            "type": "histogram2dcontour"
           }
          ],
          "mesh3d": [
           {
            "colorbar": {
             "outlinewidth": 0,
             "ticks": ""
            },
            "type": "mesh3d"
           }
          ],
          "parcoords": [
           {
            "line": {
             "colorbar": {
              "outlinewidth": 0,
              "ticks": ""
             }
            },
            "type": "parcoords"
           }
          ],
          "pie": [
           {
            "automargin": true,
            "type": "pie"
           }
          ],
          "scatter": [
           {
            "fillpattern": {
             "fillmode": "overlay",
             "size": 10,
             "solidity": 0.2
            },
            "type": "scatter"
           }
          ],
          "scatter3d": [
           {
            "line": {
             "colorbar": {
              "outlinewidth": 0,
              "ticks": ""
             }
            },
            "marker": {
             "colorbar": {
              "outlinewidth": 0,
              "ticks": ""
             }
            },
            "type": "scatter3d"
           }
          ],
          "scattercarpet": [
           {
            "marker": {
             "colorbar": {
              "outlinewidth": 0,
              "ticks": ""
             }
            },
            "type": "scattercarpet"
           }
          ],
          "scattergeo": [
           {
            "marker": {
             "colorbar": {
              "outlinewidth": 0,
              "ticks": ""
             }
            },
            "type": "scattergeo"
           }
          ],
          "scattergl": [
           {
            "marker": {
             "colorbar": {
              "outlinewidth": 0,
              "ticks": ""
             }
            },
            "type": "scattergl"
           }
          ],
          "scattermapbox": [
           {
            "marker": {
             "colorbar": {
              "outlinewidth": 0,
              "ticks": ""
             }
            },
            "type": "scattermapbox"
           }
          ],
          "scatterpolar": [
           {
            "marker": {
             "colorbar": {
              "outlinewidth": 0,
              "ticks": ""
             }
            },
            "type": "scatterpolar"
           }
          ],
          "scatterpolargl": [
           {
            "marker": {
             "colorbar": {
              "outlinewidth": 0,
              "ticks": ""
             }
            },
            "type": "scatterpolargl"
           }
          ],
          "scatterternary": [
           {
            "marker": {
             "colorbar": {
              "outlinewidth": 0,
              "ticks": ""
             }
            },
            "type": "scatterternary"
           }
          ],
          "surface": [
           {
            "colorbar": {
             "outlinewidth": 0,
             "ticks": ""
            },
            "colorscale": [
             [
              0,
              "#0d0887"
             ],
             [
              0.1111111111111111,
              "#46039f"
             ],
             [
              0.2222222222222222,
              "#7201a8"
             ],
             [
              0.3333333333333333,
              "#9c179e"
             ],
             [
              0.4444444444444444,
              "#bd3786"
             ],
             [
              0.5555555555555556,
              "#d8576b"
             ],
             [
              0.6666666666666666,
              "#ed7953"
             ],
             [
              0.7777777777777778,
              "#fb9f3a"
             ],
             [
              0.8888888888888888,
              "#fdca26"
             ],
             [
              1,
              "#f0f921"
             ]
            ],
            "type": "surface"
           }
          ],
          "table": [
           {
            "cells": {
             "fill": {
              "color": "#EBF0F8"
             },
             "line": {
              "color": "white"
             }
            },
            "header": {
             "fill": {
              "color": "#C8D4E3"
             },
             "line": {
              "color": "white"
             }
            },
            "type": "table"
           }
          ]
         },
         "layout": {
          "annotationdefaults": {
           "arrowcolor": "#2a3f5f",
           "arrowhead": 0,
           "arrowwidth": 1
          },
          "autotypenumbers": "strict",
          "coloraxis": {
           "colorbar": {
            "outlinewidth": 0,
            "ticks": ""
           }
          },
          "colorscale": {
           "diverging": [
            [
             0,
             "#8e0152"
            ],
            [
             0.1,
             "#c51b7d"
            ],
            [
             0.2,
             "#de77ae"
            ],
            [
             0.3,
             "#f1b6da"
            ],
            [
             0.4,
             "#fde0ef"
            ],
            [
             0.5,
             "#f7f7f7"
            ],
            [
             0.6,
             "#e6f5d0"
            ],
            [
             0.7,
             "#b8e186"
            ],
            [
             0.8,
             "#7fbc41"
            ],
            [
             0.9,
             "#4d9221"
            ],
            [
             1,
             "#276419"
            ]
           ],
           "sequential": [
            [
             0,
             "#0d0887"
            ],
            [
             0.1111111111111111,
             "#46039f"
            ],
            [
             0.2222222222222222,
             "#7201a8"
            ],
            [
             0.3333333333333333,
             "#9c179e"
            ],
            [
             0.4444444444444444,
             "#bd3786"
            ],
            [
             0.5555555555555556,
             "#d8576b"
            ],
            [
             0.6666666666666666,
             "#ed7953"
            ],
            [
             0.7777777777777778,
             "#fb9f3a"
            ],
            [
             0.8888888888888888,
             "#fdca26"
            ],
            [
             1,
             "#f0f921"
            ]
           ],
           "sequentialminus": [
            [
             0,
             "#0d0887"
            ],
            [
             0.1111111111111111,
             "#46039f"
            ],
            [
             0.2222222222222222,
             "#7201a8"
            ],
            [
             0.3333333333333333,
             "#9c179e"
            ],
            [
             0.4444444444444444,
             "#bd3786"
            ],
            [
             0.5555555555555556,
             "#d8576b"
            ],
            [
             0.6666666666666666,
             "#ed7953"
            ],
            [
             0.7777777777777778,
             "#fb9f3a"
            ],
            [
             0.8888888888888888,
             "#fdca26"
            ],
            [
             1,
             "#f0f921"
            ]
           ]
          },
          "colorway": [
           "#636efa",
           "#EF553B",
           "#00cc96",
           "#ab63fa",
           "#FFA15A",
           "#19d3f3",
           "#FF6692",
           "#B6E880",
           "#FF97FF",
           "#FECB52"
          ],
          "font": {
           "color": "#2a3f5f"
          },
          "geo": {
           "bgcolor": "white",
           "lakecolor": "white",
           "landcolor": "#E5ECF6",
           "showlakes": true,
           "showland": true,
           "subunitcolor": "white"
          },
          "hoverlabel": {
           "align": "left"
          },
          "hovermode": "closest",
          "mapbox": {
           "style": "light"
          },
          "paper_bgcolor": "white",
          "plot_bgcolor": "#E5ECF6",
          "polar": {
           "angularaxis": {
            "gridcolor": "white",
            "linecolor": "white",
            "ticks": ""
           },
           "bgcolor": "#E5ECF6",
           "radialaxis": {
            "gridcolor": "white",
            "linecolor": "white",
            "ticks": ""
           }
          },
          "scene": {
           "xaxis": {
            "backgroundcolor": "#E5ECF6",
            "gridcolor": "white",
            "gridwidth": 2,
            "linecolor": "white",
            "showbackground": true,
            "ticks": "",
            "zerolinecolor": "white"
           },
           "yaxis": {
            "backgroundcolor": "#E5ECF6",
            "gridcolor": "white",
            "gridwidth": 2,
            "linecolor": "white",
            "showbackground": true,
            "ticks": "",
            "zerolinecolor": "white"
           },
           "zaxis": {
            "backgroundcolor": "#E5ECF6",
            "gridcolor": "white",
            "gridwidth": 2,
            "linecolor": "white",
            "showbackground": true,
            "ticks": "",
            "zerolinecolor": "white"
           }
          },
          "shapedefaults": {
           "line": {
            "color": "#2a3f5f"
           }
          },
          "ternary": {
           "aaxis": {
            "gridcolor": "white",
            "linecolor": "white",
            "ticks": ""
           },
           "baxis": {
            "gridcolor": "white",
            "linecolor": "white",
            "ticks": ""
           },
           "bgcolor": "#E5ECF6",
           "caxis": {
            "gridcolor": "white",
            "linecolor": "white",
            "ticks": ""
           }
          },
          "title": {
           "x": 0.05
          },
          "xaxis": {
           "automargin": true,
           "gridcolor": "white",
           "linecolor": "white",
           "ticks": "",
           "title": {
            "standoff": 15
           },
           "zerolinecolor": "white",
           "zerolinewidth": 2
          },
          "yaxis": {
           "automargin": true,
           "gridcolor": "white",
           "linecolor": "white",
           "ticks": "",
           "title": {
            "standoff": 15
           },
           "zerolinecolor": "white",
           "zerolinewidth": 2
          }
         }
        },
        "title": {
         "text": "Station 130"
        },
        "width": 264.56692913385825,
        "xaxis": {
         "anchor": "y",
         "domain": [
          0,
          1
         ],
         "title": {
          "text": "Absolute Phytoplankton Abundance"
         }
        },
        "yaxis": {
         "anchor": "x",
         "categoryarray": [
          "25",
          "24",
          "23",
          "22",
          "21",
          "20",
          "19",
          "18",
          "17",
          "16",
          "15",
          "14",
          "13",
          "12",
          "11",
          "10",
          "9",
          "8",
          "7",
          "6",
          "5",
          "4",
          "3",
          "2",
          "1"
         ],
         "categoryorder": "array",
         "domain": [
          0,
          1
         ],
         "title": {
          "text": ""
         }
        }
       }
      }
     },
     "metadata": {},
     "output_type": "display_data"
    }
   ],
   "source": [
    "stations = ['51', '130']\n",
    "\n",
    "cm_to_px = 96 / 2.54  # Conversion factor from centimeters to pixels\n",
    "width_in_cm = 7\n",
    "height_in_cm = 9\n",
    "\n",
    "tax_colors = {}\n",
    "\n",
    "for station in stations:        \n",
    "    grouped_df = flowcam[flowcam['Station'] == station][['Comments', 'Taxon_grouped', 'density_cell_L_sample']]\n",
    "    grouped_df = grouped_df.groupby(['Comments', 'Taxon_grouped']).agg({'density_cell_L_sample':'sum'}).reset_index()\n",
    "    \n",
    "    grouped_df[\"rel_occurrence\"] = grouped_df.groupby(['Comments'])['density_cell_L_sample'].transform(lambda x: x / x.sum())\n",
    "    \n",
    "    # Split station into prefix and suffix and change to integer\n",
    "    grouped_df['Sample'] = [x.split('_')[1] for x in grouped_df['Comments']]\n",
    "    \n",
    "    fig = px.histogram(grouped_df.sort_values([\"Sample\", 'Taxon_grouped'], ascending=[True, True]), \n",
    "                x=\"density_cell_L_sample\", \n",
    "                y=\"Sample\",\n",
    "                color='Taxon_grouped',\n",
    "                category_orders={\n",
    "                    \"Sample\": ['1', '2', '3', '4', '5', '6', '7', '8', '9', '10',\n",
    "                               '11', '12', '13', '14', '15', '16', '17', '18', '19', '20',\n",
    "                               '21', '22', '23', '24', '25'],\n",
    "                    \"Taxon_grouped\": [\"Rare\", \"Bacillariophyta\", \"Dinophyceae\",\n",
    "                                      \"Prymnesiophyceae\"]\n",
    "                },\n",
    "                color_discrete_map={\n",
    "                    \"Rare\": \"#545454\",\n",
    "                    \"Bacillariophyta\": \"#E69F00\",\n",
    "                    \"Dinophyceae\": \"#56B4E9\",\n",
    "                    \"Prymnesiophyceae\": \"#009E73\",\n",
    "                    \"Ciliates\": \"#F0E442\",\n",
    "                    \"Arthropoda\": \"#0072B2\",\n",
    "                    \"Annelida\": \"#D55E00\",\n",
    "                    \"Craniata\": \"#CC79A7\",\n",
    "                    \"Urocordata\": \"#B5B5B5\",\n",
    "                    \"Echinodermata\": \"#55EEFF\",\n",
    "                    \"Cnidaria\": \"#A42324\",\n",
    "                    \"Mollusca\": \"#89CE00\",\n",
    "                    \"Detritus\": \"#808080\",\n",
    "                    \"Rotifera\": \"#EAD506\",\n",
    "                    \"Radiolaria\": \"#06EA0D\"\n",
    "                },            \n",
    "                orientation='h'\n",
    "            )\n",
    "\n",
    "    fig.update_layout(\n",
    "        font=dict(\n",
    "            family=\"Arial\",  # Set the font family to Times New Roman\n",
    "            size=11,  # Set the font size\n",
    "            color=\"black\"  # Set the font color\n",
    "        ),\n",
    "        autosize=False,\n",
    "        width=width_in_cm * cm_to_px,\n",
    "        height=height_in_cm * cm_to_px,\n",
    "        margin=dict( # Set the margins\n",
    "            l=0,  # Left margin\n",
    "            r=25,  # Right margin\n",
    "            b=25,  # Bottom margin\n",
    "            t=25  # Top margin\n",
    "        ),\n",
    "        showlegend=False,\n",
    "        xaxis_title_text='Absolute Phytoplankton Abundance',\n",
    "        title_text='Station {}'.format(station),\n",
    "        yaxis_title_text=''\n",
    "    )\n",
    "\n",
    "    fig.show()\n",
    "\n",
    "    for trace in fig.data:\n",
    "        # If trace is not in the dictionary, add it\n",
    "        if trace.name not in tax_colors:\n",
    "            # If trace contains a color already in use, give an error\n",
    "            if trace.marker.color in tax_colors.values():\n",
    "                raise ValueError(f'Color for {trace.name} already in use, review color disctrete map')\n",
    "            tax_colors[trace.name] = trace.marker.color\n",
    "           \n",
    "    # Save figure as svg\n",
    "    fig.write_image(\"../figures/phytoplankton/flowcam_absolute_occurrence_{}_validated.svg\".format(station), width=width_in_cm * cm_to_px, height=height_in_cm * cm_to_px)\n",
    "    #fig.write_image(\"../figures/phytoplankton/flowcam_absolute_occurrence_{}_validated.png\".format(station),width=width_in_cm * cm_to_px, height=height_in_cm * cm_to_px)"
   ]
  },
  {
   "cell_type": "code",
   "execution_count": 9,
   "metadata": {},
   "outputs": [
    {
     "name": "stderr",
     "output_type": "stream",
     "text": [
      "/var/folders/sw/y59p6zb57zd9ntdpcr65r3q40000gn/T/ipykernel_38711/3511128410.py:21: UserWarning:\n",
      "\n",
      "set_ticklabels() should only be used with a fixed number of ticks, i.e. after set_ticks() or using a FixedLocator.\n",
      "\n"
     ]
    },
    {
     "data": {
      "image/png": "[encoded data removed]",
      "text/plain": [
       "<Figure size 50x700 with 1 Axes>"
      ]
     },
     "metadata": {},
     "output_type": "display_data"
    }
   ],
   "source": [
    "# extract the x labels and y values from the dictionary\n",
    "x_labels = list(tax_colors.keys())\n",
    "y_values = list(tax_colors.values())\n",
    "y_placeholders = [1] * len(y_values)\n",
    "\n",
    "# create the bar plot\n",
    "fig, ax = plt.subplots()\n",
    "ax.barh(x_labels, y_placeholders, color=y_values)\n",
    "\n",
    "ax.set_xlabel(None)\n",
    "ax.set_xticklabels([])\n",
    "\n",
    "# Remove the frame of the chart\n",
    "ax.spines['top'].set_visible(False)\n",
    "ax.spines['right'].set_visible(False)\n",
    "ax.spines['bottom'].set_visible(False)\n",
    "ax.spines['left'].set_visible(False)\n",
    "\n",
    "# Remove y ticks, not labels\n",
    "plt.tick_params(axis='y', which='both', length=0)\n",
    "ax.set_yticklabels(x_labels, fontsize=11, fontname='Arial')\n",
    "\n",
    "# Adjust the size\n",
    "plt.gcf().set_size_inches(0.5, 7)\n",
    "\n",
    "# Save legend as svg\n",
    "fig.savefig(f\"../figures/phytoplankton/legend.svg\", format=\"svg\", bbox_inches='tight')\n",
    "\n",
    "plt.show()"
   ]
  },
  {
   "cell_type": "code",
   "execution_count": 10,
   "metadata": {},
   "outputs": [],
   "source": [
    "# Save per-sample total cell densities as a csv\n",
    "export = flowcam.groupby(['Comments']).agg({'density_cell_L_sample':'sum'}).reset_index()\n",
    "# Rename columns\n",
    "export.columns = ['sample', 'total_cell_density_FC']\n",
    "export.to_csv('../data/analysis/flowcam_total_cell_density.csv', index=False)"
   ]
  },
  {
   "cell_type": "code",
   "execution_count": 11,
   "metadata": {},
   "outputs": [
    {
     "data": {
      "text/html": [
       "<div>\n",
       "<style scoped>\n",
       "    .dataframe tbody tr th:only-of-type {\n",
       "        vertical-align: middle;\n",
       "    }\n",
       "\n",
       "    .dataframe tbody tr th {\n",
       "        vertical-align: top;\n",
       "    }\n",
       "\n",
       "    .dataframe thead th {\n",
       "        text-align: right;\n",
       "    }\n",
       "</style>\n",
       "<table border=\"1\" class=\"dataframe\">\n",
       "  <thead>\n",
       "    <tr style=\"text-align: right;\">\n",
       "      <th></th>\n",
       "      <th>sample</th>\n",
       "      <th>total_cell_density_FC</th>\n",
       "    </tr>\n",
       "  </thead>\n",
       "  <tbody>\n",
       "    <tr>\n",
       "      <th>0</th>\n",
       "      <td>130_1</td>\n",
       "      <td>2354.855918</td>\n",
       "    </tr>\n",
       "    <tr>\n",
       "      <th>1</th>\n",
       "      <td>130_10</td>\n",
       "      <td>3521.868923</td>\n",
       "    </tr>\n",
       "    <tr>\n",
       "      <th>2</th>\n",
       "      <td>130_11</td>\n",
       "      <td>14054.021252</td>\n",
       "    </tr>\n",
       "    <tr>\n",
       "      <th>3</th>\n",
       "      <td>130_12</td>\n",
       "      <td>29622.910399</td>\n",
       "    </tr>\n",
       "    <tr>\n",
       "      <th>4</th>\n",
       "      <td>130_13</td>\n",
       "      <td>4216.307544</td>\n",
       "    </tr>\n",
       "  </tbody>\n",
       "</table>\n",
       "</div>"
      ],
      "text/plain": [
       "   sample  total_cell_density_FC\n",
       "0   130_1            2354.855918\n",
       "1  130_10            3521.868923\n",
       "2  130_11           14054.021252\n",
       "3  130_12           29622.910399\n",
       "4  130_13            4216.307544"
      ]
     },
     "execution_count": 11,
     "metadata": {},
     "output_type": "execute_result"
    }
   ],
   "source": [
    "export.head()"
   ]
  }
 ],
 "metadata": {
  "kernelspec": {
   "display_name": "spring_campaign_2023",
   "language": "python",
   "name": "python3"
  },
  "language_info": {
   "codemirror_mode": {
    "name": "ipython",
    "version": 3
   },
   "file_extension": ".py",
   "mimetype": "text/x-python",
   "name": "python",
   "nbconvert_exporter": "python",
   "pygments_lexer": "ipython3",
   "version": "3.12.3"
  }
 },
 "nbformat": 4,
 "nbformat_minor": 2
}
